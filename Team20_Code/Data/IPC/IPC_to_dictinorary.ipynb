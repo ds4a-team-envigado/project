{
 "cells": [
  {
   "cell_type": "markdown",
   "metadata": {},
   "source": [
    "# Importo todas las dependencias"
   ]
  },
  {
   "cell_type": "code",
   "execution_count": 165,
   "metadata": {
    "tags": []
   },
   "outputs": [],
   "source": [
    "import pandas as pd #estadistica\n",
    "import re           #regular expressions\n",
    "from unicodedata import normalize       # para quitar tildes\n",
    "import glob          # para sacar lista de archivos rapidamente"
   ]
  },
  {
   "cell_type": "markdown",
   "metadata": {},
   "source": [
    "# Creo diccionario entre IPC y diccionario ADR"
   ]
  },
  {
   "cell_type": "markdown",
   "metadata": {},
   "source": [
    "Crearé un diccionario entre IPC y el diccionario de ADR, para esto abro los datasets de los nombres del IPC y del diccionario para ADR. Este diccionario me servirá para encontrar cuales cultivos se miran en el IPC"
   ]
  },
  {
   "cell_type": "code",
   "execution_count": 166,
   "metadata": {
    "tags": []
   },
   "outputs": [],
   "source": [
    "# Abrir dictionary ADR\n",
    "dictionary_ADR = pd.read_csv(\"data/cadenas_productivas_ADR.csv\", sep=';', engine='python')\n",
    "# Abrir dictionary IPC\n",
    "IPC_dictionary = pd.read_excel(\"Data/Ej-reconstruccion-2009-2018-nomenclatura-COICOP-y-var-anuales.xlsx\", sheet_name=4, skiprows=[0,1])\n",
    "# Quitar columnas y filas que no sirven\n",
    "IPC_dictionary.drop(IPC_dictionary.tail(6).index,inplace=True)\n",
    "IPC_dictionary.drop(IPC_dictionary.columns.difference(['Código COICOP','Nombre COICOP','Código gasto básico IPC base 2008','Nombre del gasto básico IPC base 2008']), 1, inplace=True)\n",
    "# Pasar nombres a mayuscula para facilitar comparación\n",
    "IPC_dictionary['Nombre COICOP'] = IPC_dictionary['Nombre COICOP'].str.upper()\n",
    "IPC_dictionary['Nombre del gasto básico IPC base 2008'] = IPC_dictionary['Nombre del gasto básico IPC base 2008'].str.upper()\n"
   ]
  },
  {
   "cell_type": "markdown",
   "metadata": {},
   "source": [
    "Creo diccionario entre ADR y IPC"
   ]
  },
  {
   "cell_type": "code",
   "execution_count": 167,
   "metadata": {
    "tags": []
   },
   "outputs": [
    {
     "output_type": "execute_result",
     "data": {
      "text/plain": "    Código COICOP                                      Nombre COICOP  \\\n0           111.0  PAN Y CEREALES                                ...   \n16          114.0  LECHE, QUESO Y HUEVOS                         ...   \n19          116.0       FRUTAS                                         \n20          116.0       FRUTAS                                         \n21          116.0       FRUTAS                                         \n22          116.0       FRUTAS                                         \n24          117.0                  LEGUMBRES-HORTALIZAS                \n25          117.0                  LEGUMBRES-HORTALIZAS                \n27          117.0                  LEGUMBRES-HORTALIZAS                \n28          117.0                  LEGUMBRES-HORTALIZAS                \n29          117.0                  LEGUMBRES-HORTALIZAS                \n30          117.0                  LEGUMBRES-HORTALIZAS                \n33          117.0                  LEGUMBRES-HORTALIZAS                \n34          117.0                  LEGUMBRES-HORTALIZAS                \n46          121.0                 CAFÉ, TÉ Y CACAO                     \n\n    Código gasto básico IPC base 2008 Nombre del gasto básico IPC base 2008  \\\n0                           1110100.0                                 ARROZ   \n16                          1720300.0               OTROS DERIVADOS LACTEOS   \n19                          1410100.0                              NARANJAS   \n20                          1410200.0                               BANANOS   \n21                          1410300.0                       TOMATE DE ARBOL   \n22                          1410400.0                                 MORAS   \n24                          1210100.0                                  PAPA   \n25                          1210200.0                                  YUCA   \n27                          1220100.0                               PLATANO   \n28                          1310100.0                               CEBOLLA   \n29                          1310200.0                                TOMATE   \n30                          1310300.0                             ZANAHORIA   \n33                          1320100.0                                FRIJOL   \n34                          1320200.0                                ARVEJA   \n46                          1820100.0                                  CAFE   \n\n            Cultivo  \n0             ARROZ  \n16           LACTEO  \n19          NARANJA  \n20           BANANO  \n21  TOMATE DE ARBOL  \n22             MORA  \n24             PAPA  \n25             YUCA  \n27          PLATANO  \n28          CEBOLLA  \n29           TOMATE  \n30        ZANAHORIA  \n33           FRIJOL  \n34           ARVEJA  \n46             CAFE  ",
      "text/html": "<div>\n<style scoped>\n    .dataframe tbody tr th:only-of-type {\n        vertical-align: middle;\n    }\n\n    .dataframe tbody tr th {\n        vertical-align: top;\n    }\n\n    .dataframe thead th {\n        text-align: right;\n    }\n</style>\n<table border=\"1\" class=\"dataframe\">\n  <thead>\n    <tr style=\"text-align: right;\">\n      <th></th>\n      <th>Código COICOP</th>\n      <th>Nombre COICOP</th>\n      <th>Código gasto básico IPC base 2008</th>\n      <th>Nombre del gasto básico IPC base 2008</th>\n      <th>Cultivo</th>\n    </tr>\n  </thead>\n  <tbody>\n    <tr>\n      <th>0</th>\n      <td>111.0</td>\n      <td>PAN Y CEREALES                                ...</td>\n      <td>1110100.0</td>\n      <td>ARROZ</td>\n      <td>ARROZ</td>\n    </tr>\n    <tr>\n      <th>16</th>\n      <td>114.0</td>\n      <td>LECHE, QUESO Y HUEVOS                         ...</td>\n      <td>1720300.0</td>\n      <td>OTROS DERIVADOS LACTEOS</td>\n      <td>LACTEO</td>\n    </tr>\n    <tr>\n      <th>19</th>\n      <td>116.0</td>\n      <td>FRUTAS</td>\n      <td>1410100.0</td>\n      <td>NARANJAS</td>\n      <td>NARANJA</td>\n    </tr>\n    <tr>\n      <th>20</th>\n      <td>116.0</td>\n      <td>FRUTAS</td>\n      <td>1410200.0</td>\n      <td>BANANOS</td>\n      <td>BANANO</td>\n    </tr>\n    <tr>\n      <th>21</th>\n      <td>116.0</td>\n      <td>FRUTAS</td>\n      <td>1410300.0</td>\n      <td>TOMATE DE ARBOL</td>\n      <td>TOMATE DE ARBOL</td>\n    </tr>\n    <tr>\n      <th>22</th>\n      <td>116.0</td>\n      <td>FRUTAS</td>\n      <td>1410400.0</td>\n      <td>MORAS</td>\n      <td>MORA</td>\n    </tr>\n    <tr>\n      <th>24</th>\n      <td>117.0</td>\n      <td>LEGUMBRES-HORTALIZAS</td>\n      <td>1210100.0</td>\n      <td>PAPA</td>\n      <td>PAPA</td>\n    </tr>\n    <tr>\n      <th>25</th>\n      <td>117.0</td>\n      <td>LEGUMBRES-HORTALIZAS</td>\n      <td>1210200.0</td>\n      <td>YUCA</td>\n      <td>YUCA</td>\n    </tr>\n    <tr>\n      <th>27</th>\n      <td>117.0</td>\n      <td>LEGUMBRES-HORTALIZAS</td>\n      <td>1220100.0</td>\n      <td>PLATANO</td>\n      <td>PLATANO</td>\n    </tr>\n    <tr>\n      <th>28</th>\n      <td>117.0</td>\n      <td>LEGUMBRES-HORTALIZAS</td>\n      <td>1310100.0</td>\n      <td>CEBOLLA</td>\n      <td>CEBOLLA</td>\n    </tr>\n    <tr>\n      <th>29</th>\n      <td>117.0</td>\n      <td>LEGUMBRES-HORTALIZAS</td>\n      <td>1310200.0</td>\n      <td>TOMATE</td>\n      <td>TOMATE</td>\n    </tr>\n    <tr>\n      <th>30</th>\n      <td>117.0</td>\n      <td>LEGUMBRES-HORTALIZAS</td>\n      <td>1310300.0</td>\n      <td>ZANAHORIA</td>\n      <td>ZANAHORIA</td>\n    </tr>\n    <tr>\n      <th>33</th>\n      <td>117.0</td>\n      <td>LEGUMBRES-HORTALIZAS</td>\n      <td>1320100.0</td>\n      <td>FRIJOL</td>\n      <td>FRIJOL</td>\n    </tr>\n    <tr>\n      <th>34</th>\n      <td>117.0</td>\n      <td>LEGUMBRES-HORTALIZAS</td>\n      <td>1320200.0</td>\n      <td>ARVEJA</td>\n      <td>ARVEJA</td>\n    </tr>\n    <tr>\n      <th>46</th>\n      <td>121.0</td>\n      <td>CAFÉ, TÉ Y CACAO</td>\n      <td>1820100.0</td>\n      <td>CAFE</td>\n      <td>CAFE</td>\n    </tr>\n  </tbody>\n</table>\n</div>"
     },
     "metadata": {},
     "execution_count": 167
    }
   ],
   "source": [
    "# Comparo los datos solo con el 3 nivel del diccionario ADR porque es el que tiene todos los cultivos\n",
    "dictionary_ADR = dictionary_ADR[dictionary_ADR[\"NIVEL\"]==3]\n",
    "df = IPC_dictionary\n",
    "# Quito tildes\n",
    "dictionary_ADR[\"CADENA_PRODUCTIVA_ADR\"] = dictionary_ADR[\"CADENA_PRODUCTIVA_ADR\"].apply(lambda x: re.sub(r\"([^n\\u0300-\\u036f]|n(?!\\u0303(?![\\u0300-\\u036f])))[\\u0300-\\u036f]+\", r\"\\1\", normalize( \"NFD\", x), 0, re.I))\n",
    "df[\"Nombre del gasto básico IPC base 2008\"]= df[\"Nombre del gasto básico IPC base 2008\"].apply(lambda x: re.sub(r\"([^n\\u0300-\\u036f]|n(?!\\u0303(?![\\u0300-\\u036f])))[\\u0300-\\u036f]+\", r\"\\1\", normalize( \"NFD\", x), 0, re.I))\n",
    "\n",
    "# Comparo solo los datos que se emplean desde el 2018(los otros son mas pocos)\n",
    "IPCs_cadenas = IPC_dictionary[\"Nombre del gasto básico IPC base 2008\"]\n",
    "cadenas_dictionary = dictionary_ADR[\"CADENA_PRODUCTIVA_ADR\"].tolist()\n",
    "\n",
    "# dataframe de comparación\n",
    "df = IPC_dictionary\n",
    "# Paso datos de las cadenas a lista y hare una comparación por cada cadena de ADR\n",
    "for i in range(len(cadenas_dictionary)):\n",
    "    row = cadenas_dictionary[i]\n",
    "    # Comparo cada registro del diccionario de ADR con los registros del IPC, además se debe de tener en cuenta que deben ser palabras sueltas\n",
    "    df.loc[((df['Nombre del gasto básico IPC base 2008'].str.contains(rf\"\\b({row})\\b\"))|(df['Nombre del gasto básico IPC base 2008'].str.contains(rf\"\\b({row}+S)\\b\")))&(~df['Nombre del gasto básico IPC base 2008'].str.contains(\"BEBIDA\"))&(~df['Nombre del gasto básico IPC base 2008'].str.contains(\"REFRESCO\"))&(~df['Nombre del gasto básico IPC base 2008'].str.contains(\"HARINA\"))&(~df['Nombre del gasto básico IPC base 2008'].str.contains(\"PRODUCTO\"))&(~df['Nombre del gasto básico IPC base 2008'].str.contains(\"PIEZA\"))&(~df['Nombre del gasto básico IPC base 2008'].str.contains(\"FRITURA\")), 'Cultivo'] = row\n",
    "#quito nans (los que no se encontraron)\n",
    "df=df.dropna()\n",
    "df\n"
   ]
  },
  {
   "cell_type": "markdown",
   "metadata": {},
   "source": [
    "# Usando los datos entre 2009 y 2018"
   ]
  },
  {
   "cell_type": "code",
   "execution_count": 168,
   "metadata": {
    "tags": []
   },
   "outputs": [
    {
     "output_type": "execute_result",
     "data": {
      "text/plain": "    Año      Mes   Jerarquía  Código COICOP_x  \\\n0  2009    Enero  CLASE             1110000.0   \n1  2009  Febrero  CLASE             1110000.0   \n\n                                       Nombre COICOP  Peso IPC base 2008%*  \\\n0  PAN Y CEREALES                                ...                  3.75   \n1  PAN Y CEREALES                                ...                  3.75   \n\n   Índice base diciembre de 2008  Índice base diciembre de 2018  \\\n0                         100.51                          85.03   \n1                         100.07                          84.66   \n\n   Variación Mensual  Variación Año Corrido  Variación Anual  Unnamed: 11  \\\n0               0.51                   0.51              NaN          NaN   \n1              -0.44                   0.07              NaN          NaN   \n\n   Unnamed: 12  Código COICOP_y  Código gasto básico IPC base 2008  \\\n0          NaN            111.0                          1110100.0   \n1          NaN            111.0                          1110100.0   \n\n  Nombre del gasto básico IPC base 2008 Cultivo  \n0                                 ARROZ   ARROZ  \n1                                 ARROZ   ARROZ  ",
      "text/html": "<div>\n<style scoped>\n    .dataframe tbody tr th:only-of-type {\n        vertical-align: middle;\n    }\n\n    .dataframe tbody tr th {\n        vertical-align: top;\n    }\n\n    .dataframe thead th {\n        text-align: right;\n    }\n</style>\n<table border=\"1\" class=\"dataframe\">\n  <thead>\n    <tr style=\"text-align: right;\">\n      <th></th>\n      <th>Año</th>\n      <th>Mes</th>\n      <th>Jerarquía</th>\n      <th>Código COICOP_x</th>\n      <th>Nombre COICOP</th>\n      <th>Peso IPC base 2008%*</th>\n      <th>Índice base diciembre de 2008</th>\n      <th>Índice base diciembre de 2018</th>\n      <th>Variación Mensual</th>\n      <th>Variación Año Corrido</th>\n      <th>Variación Anual</th>\n      <th>Unnamed: 11</th>\n      <th>Unnamed: 12</th>\n      <th>Código COICOP_y</th>\n      <th>Código gasto básico IPC base 2008</th>\n      <th>Nombre del gasto básico IPC base 2008</th>\n      <th>Cultivo</th>\n    </tr>\n  </thead>\n  <tbody>\n    <tr>\n      <th>0</th>\n      <td>2009</td>\n      <td>Enero</td>\n      <td>CLASE</td>\n      <td>1110000.0</td>\n      <td>PAN Y CEREALES                                ...</td>\n      <td>3.75</td>\n      <td>100.51</td>\n      <td>85.03</td>\n      <td>0.51</td>\n      <td>0.51</td>\n      <td>NaN</td>\n      <td>NaN</td>\n      <td>NaN</td>\n      <td>111.0</td>\n      <td>1110100.0</td>\n      <td>ARROZ</td>\n      <td>ARROZ</td>\n    </tr>\n    <tr>\n      <th>1</th>\n      <td>2009</td>\n      <td>Febrero</td>\n      <td>CLASE</td>\n      <td>1110000.0</td>\n      <td>PAN Y CEREALES                                ...</td>\n      <td>3.75</td>\n      <td>100.07</td>\n      <td>84.66</td>\n      <td>-0.44</td>\n      <td>0.07</td>\n      <td>NaN</td>\n      <td>NaN</td>\n      <td>NaN</td>\n      <td>111.0</td>\n      <td>1110100.0</td>\n      <td>ARROZ</td>\n      <td>ARROZ</td>\n    </tr>\n  </tbody>\n</table>\n</div>"
     },
     "metadata": {},
     "execution_count": 168
    }
   ],
   "source": [
    "# leer datos \n",
    "datos2018 = pd.read_excel(\"Data/Ej-reconstruccion-2009-2018-nomenclatura-COICOP-y-var-anuales.xlsx\", sheet_name=6, skiprows=[0])\n",
    "#quitar ultimas filas que no tienen datos\n",
    "datos2018.drop(datos2018.tail(8).index,inplace=True)\n",
    "# paso a mayuscula para facilitar comparación\n",
    "datos2018['Nombre COICOP'] = datos2018['Nombre COICOP'].str.upper()\n",
    "# usando el diccionario anterior agrego datos que están\n",
    "datos2018_mod = pd.merge(datos2018, df, on=\"Nombre COICOP\")\n",
    "# Quito columnas que no me sirven para nada\n",
    "datos2018_mod.drop(IPC_dictionary.columns.difference(['Año', 'Mes', 'Jerarquía', 'Código COICOP', 'Nombre COICOP',\n",
    "       'Peso IPC base 2008%*', 'Índice base diciembre de 2008',\n",
    "       'Índice base diciembre de 2018', 'Variación Mensual',\n",
    "       'Variación Año Corrido', 'Variación Anual',\n",
    "       'Código gasto básico IPC base 2008',\n",
    "       'Nombre del gasto básico IPC base 2008', 'Cultivo']), 1, inplace=True)\n",
    "datos2018_mod.head(2)"
   ]
  },
  {
   "cell_type": "markdown",
   "metadata": {},
   "source": [
    "Para pasar los meses a numeros uso la siguiente función:"
   ]
  },
  {
   "cell_type": "code",
   "execution_count": 169,
   "metadata": {},
   "outputs": [],
   "source": [
    "def normalizaraño(dataframe):\n",
    "    dataframe.loc[dataframe['Mes'].str.contains(\"Enero\"),'Mes']=\"1\"\n",
    "    dataframe.loc[dataframe['Mes'].str.contains(\"Febrero\"),'Mes']=\"2\"\n",
    "    dataframe.loc[dataframe['Mes'].str.contains(\"Marzo\"),'Mes']=\"3\"\n",
    "    dataframe.loc[dataframe['Mes'].str.contains(\"Abril\"),'Mes']=\"4\"\n",
    "    dataframe.loc[dataframe['Mes'].str.contains(\"Mayo\"),'Mes']=\"5\"\n",
    "    dataframe.loc[dataframe['Mes'].str.contains(\"Junio\"),'Mes']=\"6\"\n",
    "    dataframe.loc[dataframe['Mes'].str.contains(\"Julio\"),'Mes']=\"7\"\n",
    "    dataframe.loc[dataframe['Mes'].str.contains(\"Agosto\"),'Mes']=\"8\"\n",
    "    dataframe.loc[dataframe['Mes'].str.contains(\"Septiembre\"),'Mes']=\"9\"\n",
    "    dataframe.loc[dataframe['Mes'].str.contains(\"Octubre\"),'Mes']=\"10\"\n",
    "    dataframe.loc[dataframe['Mes'].str.contains(\"Noviembre\"),'Mes']=\"11\"\n",
    "    dataframe.loc[dataframe['Mes'].str.contains(\"Diciembre\"),'Mes']=\"12\"\n",
    "    return(dataframe)"
   ]
  },
  {
   "cell_type": "markdown",
   "metadata": {},
   "source": [
    "Creo un archivo de entrega para sacar la información más importante hasta el 2018"
   ]
  },
  {
   "cell_type": "code",
   "execution_count": 170,
   "metadata": {},
   "outputs": [],
   "source": [
    "entrega2018 = datos2018_mod\n",
    "# convierto meses a numeros\n",
    "entrega2018 = normalizaraño(entrega2018)\n",
    "# creo columnas importantes\n",
    "entrega2018['Índice']=entrega2018['Índice base diciembre de 2018']\n",
    "entrega2018['Subclase']=entrega2018['Nombre del gasto básico IPC base 2008']\n",
    "# quito columnas no importantes\n",
    "entrega2018.drop(entrega2018.columns.difference(['Año', 'Mes', 'Índice','Cultivo','Subclase']), 1, inplace=True)\n",
    "# archivo de entrega\n",
    "entrega2018=entrega2018.sort_values([\"Año\", \"Mes\"], ascending = (False, False))\n",
    "entrega2018.to_csv (r\"data/IPC_cultivo_hasta_2018.csv\", index = False, header=True)\n"
   ]
  },
  {
   "cell_type": "markdown",
   "metadata": {},
   "source": [
    "# Usando los datos desde el 2019"
   ]
  },
  {
   "cell_type": "markdown",
   "metadata": {},
   "source": [
    "Como toca abrir archivo por archivo, creo funciones que me permitan facilitar las cosas"
   ]
  },
  {
   "cell_type": "code",
   "execution_count": 171,
   "metadata": {},
   "outputs": [],
   "source": [
    "# Cada archivo tiene los datos en una hoja diferente... con esto detecto en cual hoja están los datos que necesito\n",
    "def getsheetnumber(file):\n",
    "    xl = pd.ExcelFile(file)\n",
    "    for i in range(len(xl.sheet_names)):\n",
    "        sheet = xl.sheet_names[i]\n",
    "        df = pd.read_excel(xl, sheet,skiprows=[0,1])\n",
    "        if \"IPC. Variaciones y contribuciones mensual, año corrido y anual según subclases\" in df.columns:\n",
    "            return(sheet)\n",
    "\n",
    "# Esta función hace lo mismo que hice con la creación del diccionario, pero esta vez para cada archivo que abro, pues la DIAN cada mes quita y pone nuevos productos (en los últimos años)\n",
    "def insertcultivo(file,sheet):\n",
    "    # abro archivo IPC\n",
    "    IPC_dictionary = pd.read_excel(file, sheet_name=sheet, skiprows=range(0,7))\n",
    "    # Quitar columnas que no sirven\n",
    "    IPC_dictionary.drop(IPC_dictionary.tail(6).index,inplace=True)\n",
    "    IPC_dictionary.drop(IPC_dictionary.columns.difference(['Subclase','Índice']), 1, inplace=True)\n",
    "    IPC_dictionary=IPC_dictionary.dropna()\n",
    "    # Agrego columna de mes de acuerdo con el nombre del archivo. los de la dian desde el 2020 no ponen esta columna\n",
    "    if \"ene\" in file:\n",
    "        IPC_dictionary[\"Mes\"]=1\n",
    "    elif \"feb\" in file:\n",
    "        IPC_dictionary[\"Mes\"]=2\n",
    "    elif \"mar\" in file:\n",
    "        IPC_dictionary[\"Mes\"]=3\n",
    "    elif \"abr\" in file:\n",
    "        IPC_dictionary[\"Mes\"]=4\n",
    "    elif \"may\" in file:\n",
    "        IPC_dictionary[\"Mes\"]=5\n",
    "    elif \"jun\" in file:\n",
    "        IPC_dictionary[\"Mes\"]=6\n",
    "    elif \"jul\" in file:\n",
    "        IPC_dictionary[\"Mes\"]=7\n",
    "    elif \"ago\" in file:\n",
    "        IPC_dictionary[\"Mes\"]=8\n",
    "    elif \"sep\" in file:\n",
    "        IPC_dictionary[\"Mes\"]=9\n",
    "    elif \"oct\" in file:\n",
    "        IPC_dictionary[\"Mes\"]=10\n",
    "    elif \"nov\" in file:\n",
    "        IPC_dictionary[\"Mes\"]=11\n",
    "    elif \"dic\" in file:\n",
    "        IPC_dictionary[\"Mes\"]=12\n",
    "    # Agrego columna de año deacuerdo con el nombre del archivo\n",
    "    if str(20) in file:\n",
    "        IPC_dictionary[\"Año\"]=2020\n",
    "    elif str(19) in file:\n",
    "        IPC_dictionary[\"Año\"]=2019\n",
    "    # Pasar nombres a mayuscula para facilitar comparación\n",
    "    IPC_dictionary['Subclase'] = IPC_dictionary['Subclase'].str.upper()\n",
    "    #quitar tildes\n",
    "    IPC_dictionary[\"Subclase\"]= IPC_dictionary[\"Subclase\"].apply(lambda x: re.sub(r\"([^n\\u0300-\\u036f]|n(?!\\u0303(?![\\u0300-\\u036f])))[\\u0300-\\u036f]+\", r\"\\1\", normalize( \"NFD\", x), 0, re.I))\n",
    "    # Comparo solo los datos que se emplean desde el 2018\n",
    "    IPCs_cadenas = IPC_dictionary[\"Subclase\"]\n",
    "    cadenas_dictionary = dictionary_ADR[\"CADENA_PRODUCTIVA_ADR\"].tolist()\n",
    "    # dataframe de comparación\n",
    "    df = IPC_dictionary\n",
    "    # Paso datos de las cadenas a lista y hare una comparación por cada cadena de ADR\n",
    "    for i in range(len(cadenas_dictionary)):\n",
    "        # cultivo que voy a comparar\n",
    "        row = cadenas_dictionary[i]\n",
    "        # comparo por cultivo, sin embargo quito cosas que no son de cultivos, como refrescos, piezas, frituras, etc\n",
    "        df.loc[((df['Subclase'].str.contains(rf\"\\b({row})\\b\"))|(df['Subclase'].str.contains(rf\"\\b({row}+S)\\b\")))&(~df['Subclase'].str.contains(\"BEBIDA\"))&(~df['Subclase'].str.contains(\"REFRESCO\"))&(~df['Subclase'].str.contains(\"HARINA\"))&(~df['Subclase'].str.contains(\"PRODUCTO\"))&(~df['Subclase'].str.contains(\"PIEZA\"))&(~df['Subclase'].str.contains(\"FRITURA\")), 'Cultivo'] = row\n",
    "    # quito cosas que no se encontraron\n",
    "    df=df.dropna()\n",
    "    return(df)"
   ]
  },
  {
   "cell_type": "markdown",
   "metadata": {},
   "source": [
    "Ejemplo de como funciona para los datos de septiembre 2019"
   ]
  },
  {
   "cell_type": "code",
   "execution_count": 172,
   "metadata": {
    "tags": []
   },
   "outputs": [
    {
     "output_type": "execute_result",
     "data": {
      "text/plain": "                 Subclase  Índice  Mes   Año  Cultivo\n1                   ARROZ  108.86    9  2019    ARROZ\n3   AVENA Y SUS DERIVADOS   96.04    9  2019    AVENA\n4   TRIGO Y SUS DERIVADOS  102.33    9  2019    TRIGO\n5    MAIZ Y SUS DERIVADOS  105.83    9  2019     MAIZ\n23               NARANJAS  117.38    9  2019  NARANJA",
      "text/html": "<div>\n<style scoped>\n    .dataframe tbody tr th:only-of-type {\n        vertical-align: middle;\n    }\n\n    .dataframe tbody tr th {\n        vertical-align: top;\n    }\n\n    .dataframe thead th {\n        text-align: right;\n    }\n</style>\n<table border=\"1\" class=\"dataframe\">\n  <thead>\n    <tr style=\"text-align: right;\">\n      <th></th>\n      <th>Subclase</th>\n      <th>Índice</th>\n      <th>Mes</th>\n      <th>Año</th>\n      <th>Cultivo</th>\n    </tr>\n  </thead>\n  <tbody>\n    <tr>\n      <th>1</th>\n      <td>ARROZ</td>\n      <td>108.86</td>\n      <td>9</td>\n      <td>2019</td>\n      <td>ARROZ</td>\n    </tr>\n    <tr>\n      <th>3</th>\n      <td>AVENA Y SUS DERIVADOS</td>\n      <td>96.04</td>\n      <td>9</td>\n      <td>2019</td>\n      <td>AVENA</td>\n    </tr>\n    <tr>\n      <th>4</th>\n      <td>TRIGO Y SUS DERIVADOS</td>\n      <td>102.33</td>\n      <td>9</td>\n      <td>2019</td>\n      <td>TRIGO</td>\n    </tr>\n    <tr>\n      <th>5</th>\n      <td>MAIZ Y SUS DERIVADOS</td>\n      <td>105.83</td>\n      <td>9</td>\n      <td>2019</td>\n      <td>MAIZ</td>\n    </tr>\n    <tr>\n      <th>23</th>\n      <td>NARANJAS</td>\n      <td>117.38</td>\n      <td>9</td>\n      <td>2019</td>\n      <td>NARANJA</td>\n    </tr>\n  </tbody>\n</table>\n</div>"
     },
     "metadata": {},
     "execution_count": 172
    }
   ],
   "source": [
    "file = \"Data/anexo_ipc_sep19.xlsx\"\n",
    "sheet = getsheetnumber(file)\n",
    "dataframe = insertcultivo(file,sheet)\n",
    "dataframe.head()"
   ]
  },
  {
   "cell_type": "markdown",
   "metadata": {},
   "source": [
    "Ahora si para cada archivo despues del 2018"
   ]
  },
  {
   "cell_type": "code",
   "execution_count": 173,
   "metadata": {
    "tags": []
   },
   "outputs": [
    {
     "output_type": "stream",
     "name": "stdout",
     "text": "longitud inicial 16\nlongitud secundario 16\nlongitud total 32\nlongitud secundario 16\nlongitud total 48\nlongitud secundario 16\nlongitud total 64\nlongitud secundario 16\nlongitud total 80\nlongitud secundario 16\nlongitud total 96\nlongitud secundario 16\nlongitud total 112\nlongitud secundario 16\nlongitud total 128\nlongitud secundario 16\nlongitud total 144\nlongitud secundario 16\nlongitud total 160\nlongitud secundario 16\nlongitud total 176\nlongitud secundario 16\nlongitud total 192\nlongitud secundario 16\nlongitud total 208\nlongitud secundario 16\nlongitud total 224\nlongitud secundario 16\nlongitud total 240\nlongitud secundario 16\nlongitud total 256\nlongitud secundario 16\nlongitud total 272\n"
    }
   ],
   "source": [
    "# saco lista de archivos\n",
    "files = glob.glob('Data/anexo_ipc*.xlsx')\n",
    "Data = []\n",
    "# por cada archivo que tengo\n",
    "for i in range(len(files)):\n",
    "    # si es el primer archivo, creo un dataframe inicial 2019\n",
    "    if i == 0:\n",
    "        sheet = getsheetnumber(files[i])\n",
    "        data2019 = insertcultivo(files[i],sheet)\n",
    "        print(\"longitud inicial\",len(data2019))\n",
    "    else:\n",
    "# despues del primer ddataframe creado, lo unico que hago es ir agregando datos a este dataframe\n",
    "        sheet = getsheetnumber(files[i])\n",
    "        # dataframe secundario\n",
    "        dataframe0 = insertcultivo(files[i],sheet)\n",
    "        print(\"longitud secundario\",len(dataframe0))\n",
    "        # dataframe que cree adjuntandole además el dataframe secundario\n",
    "        data2019=data2019.append(dataframe0)\n",
    "        print(\"longitud total\",len(data2019))"
   ]
  },
  {
   "cell_type": "markdown",
   "metadata": {},
   "source": [
    "Organizo y exporto el dataframe en csv"
   ]
  },
  {
   "cell_type": "code",
   "execution_count": 174,
   "metadata": {},
   "outputs": [],
   "source": [
    "data2019 = data2019.sort_values([\"Año\", \"Mes\"], ascending = (False, False))\n",
    "entrega2019 = data2019\n",
    "entrega2019.to_csv (r\"data/IPC_cultivo_desde_2019.csv\", index = False, header=True)"
   ]
  },
  {
   "cell_type": "markdown",
   "metadata": {},
   "source": [
    "# Exporto dataframe con todo"
   ]
  },
  {
   "cell_type": "code",
   "execution_count": 175,
   "metadata": {
    "tags": []
   },
   "outputs": [],
   "source": [
    "# agrego dataframes de 2018 y 2019\n",
    "entrega = entrega2018.append(entrega2019)\n",
    "# los organizo\n",
    "entrega=entrega.sort_values([\"Año\", \"Mes\"], ascending = (False, False))\n",
    "# Los paso a csv\n",
    "entrega.to_csv (r\"data/IPC_cultivo.csv\", index = False, header=True)"
   ]
  },
  {
   "cell_type": "code",
   "execution_count": null,
   "metadata": {},
   "outputs": [],
   "source": []
  }
 ],
 "metadata": {
  "language_info": {
   "codemirror_mode": {
    "name": "ipython",
    "version": 3
   },
   "file_extension": ".py",
   "mimetype": "text/x-python",
   "name": "python",
   "nbconvert_exporter": "python",
   "pygments_lexer": "ipython3",
   "version": "3.7.7-final"
  },
  "orig_nbformat": 2,
  "kernelspec": {
   "name": "python37764bitrdoeconda935388297b79407d83cccf2b3578fd7c",
   "display_name": "Python 3.7.7 64-bit ('R-DOE': conda)"
  }
 },
 "nbformat": 4,
 "nbformat_minor": 2
}