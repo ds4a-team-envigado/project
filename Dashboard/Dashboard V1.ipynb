{
 "cells": [
  {
   "cell_type": "code",
   "execution_count": 1,
   "metadata": {},
   "outputs": [],
   "source": [
    "from jupyter_dash import JupyterDash"
   ]
  },
  {
   "cell_type": "code",
   "execution_count": 2,
   "metadata": {},
   "outputs": [],
   "source": [
    "import dash\n",
    "import dash_core_components as dcc\n",
    "import dash_html_components as html\n",
    "import pandas as pd\n",
    "import plotly.express as px\n",
    "import plotly.graph_objects as go\n",
    "import numpy as np"
   ]
  },
  {
   "cell_type": "code",
   "execution_count": 15,
   "metadata": {},
   "outputs": [],
   "source": [
    "JupyterDash.infer_jupyter_proxy_config()"
   ]
  },
  {
   "cell_type": "markdown",
   "metadata": {},
   "source": [
    "## Cargar los datos"
   ]
  },
  {
   "cell_type": "code",
   "execution_count": 4,
   "metadata": {},
   "outputs": [],
   "source": [
    "import json\n",
    "with open('Colombia.geo.json') as f:\n",
    "    counties = json.load(f)"
   ]
  },
  {
   "cell_type": "code",
   "execution_count": 5,
   "metadata": {},
   "outputs": [],
   "source": [
    "Departamentos = []\n",
    "geocol = counties.copy()\n",
    "for man in geocol['features']:\n",
    "    Departamentos.append(man['properties']['NOMBRE_DPT'])\n",
    "    man['id']=man['properties']['NOMBRE_DPT']"
   ]
  },
  {
   "cell_type": "code",
   "execution_count": 6,
   "metadata": {},
   "outputs": [
    {
     "data": {
      "text/html": [
       "<div>\n",
       "<style scoped>\n",
       "    .dataframe tbody tr th:only-of-type {\n",
       "        vertical-align: middle;\n",
       "    }\n",
       "\n",
       "    .dataframe tbody tr th {\n",
       "        vertical-align: top;\n",
       "    }\n",
       "\n",
       "    .dataframe thead th {\n",
       "        text-align: right;\n",
       "    }\n",
       "</style>\n",
       "<table border=\"1\" class=\"dataframe\">\n",
       "  <thead>\n",
       "    <tr style=\"text-align: right;\">\n",
       "      <th></th>\n",
       "      <th>Unnamed: 0</th>\n",
       "      <th>BP</th>\n",
       "      <th>No. VP</th>\n",
       "      <th>Nombre Proyecto</th>\n",
       "      <th>Departamento</th>\n",
       "      <th>Municipio</th>\n",
       "      <th>Total beneficiarios</th>\n",
       "      <th>Hombres</th>\n",
       "      <th>Mujeres</th>\n",
       "      <th>Total Víctimas</th>\n",
       "      <th>Valor cofinanciado ADR</th>\n",
       "      <th>Valor encargo fiduciario</th>\n",
       "      <th>Valor total cofinanciación ADR</th>\n",
       "      <th>Valor Contrapartida</th>\n",
       "      <th>Valor total proyecto</th>\n",
       "      <th>Hectáreas</th>\n",
       "      <th>Resolución</th>\n",
       "      <th>Fecha resolución</th>\n",
       "      <th>Vigencia</th>\n",
       "      <th>Lineamiento de consejo directivo</th>\n",
       "    </tr>\n",
       "  </thead>\n",
       "  <tbody>\n",
       "    <tr>\n",
       "      <th>0</th>\n",
       "      <td>0</td>\n",
       "      <td>1</td>\n",
       "      <td>1</td>\n",
       "      <td>Implementar un sistema de ganadería silvopasto...</td>\n",
       "      <td>CAQUETA</td>\n",
       "      <td>SAN VICENTE DEL CAGUÁN</td>\n",
       "      <td>46</td>\n",
       "      <td>26</td>\n",
       "      <td>20</td>\n",
       "      <td>0</td>\n",
       "      <td>534000000</td>\n",
       "      <td>NaN</td>\n",
       "      <td>534000000</td>\n",
       "      <td>115640000</td>\n",
       "      <td>649640000</td>\n",
       "      <td>40</td>\n",
       "      <td>1220</td>\n",
       "      <td>06/29/2018 12:00:00 AM</td>\n",
       "      <td>2017</td>\n",
       "      <td>NaN</td>\n",
       "    </tr>\n",
       "    <tr>\n",
       "      <th>1</th>\n",
       "      <td>1</td>\n",
       "      <td>2</td>\n",
       "      <td>2</td>\n",
       "      <td>Fortalecimiento del cultivo de arroz y caña pa...</td>\n",
       "      <td>NARIÑO</td>\n",
       "      <td>SAN ANDRÉS DE TUMACO</td>\n",
       "      <td>19</td>\n",
       "      <td>7</td>\n",
       "      <td>12</td>\n",
       "      <td>0</td>\n",
       "      <td>185000000</td>\n",
       "      <td>NaN</td>\n",
       "      <td>185000000</td>\n",
       "      <td>265082460</td>\n",
       "      <td>450082460</td>\n",
       "      <td>64</td>\n",
       "      <td>1234</td>\n",
       "      <td>07/06/2017 12:00:00 AM</td>\n",
       "      <td>2017</td>\n",
       "      <td>NaN</td>\n",
       "    </tr>\n",
       "    <tr>\n",
       "      <th>2</th>\n",
       "      <td>2</td>\n",
       "      <td>3</td>\n",
       "      <td>3</td>\n",
       "      <td>Implementar un modelo piscícola para la produc...</td>\n",
       "      <td>CAQUETA</td>\n",
       "      <td>SAN VICENTE DEL CAGUÁN</td>\n",
       "      <td>52</td>\n",
       "      <td>36</td>\n",
       "      <td>16</td>\n",
       "      <td>31</td>\n",
       "      <td>905900513</td>\n",
       "      <td>NaN</td>\n",
       "      <td>905900513</td>\n",
       "      <td>104748820</td>\n",
       "      <td>1010649333</td>\n",
       "      <td>1</td>\n",
       "      <td>1322</td>\n",
       "      <td>08/15/2017 12:00:00 AM</td>\n",
       "      <td>2017</td>\n",
       "      <td>NaN</td>\n",
       "    </tr>\n",
       "    <tr>\n",
       "      <th>3</th>\n",
       "      <td>3</td>\n",
       "      <td>4</td>\n",
       "      <td>4</td>\n",
       "      <td>Mejorar las capacidades productivas para la ag...</td>\n",
       "      <td>MAGDALENA</td>\n",
       "      <td>ZONA BANANERA</td>\n",
       "      <td>150</td>\n",
       "      <td>121</td>\n",
       "      <td>29</td>\n",
       "      <td>0</td>\n",
       "      <td>2948347650</td>\n",
       "      <td>NaN</td>\n",
       "      <td>2948347650</td>\n",
       "      <td>665760350</td>\n",
       "      <td>3614108000</td>\n",
       "      <td>411</td>\n",
       "      <td>1307</td>\n",
       "      <td>08/04/2017 12:00:00 AM</td>\n",
       "      <td>2017</td>\n",
       "      <td>NaN</td>\n",
       "    </tr>\n",
       "    <tr>\n",
       "      <th>4</th>\n",
       "      <td>4</td>\n",
       "      <td>5</td>\n",
       "      <td>5</td>\n",
       "      <td>Mejorar las capacidades productivas de 97 fami...</td>\n",
       "      <td>CAUCA</td>\n",
       "      <td>BUENOS AIRES</td>\n",
       "      <td>97</td>\n",
       "      <td>76</td>\n",
       "      <td>21</td>\n",
       "      <td>0</td>\n",
       "      <td>500000000</td>\n",
       "      <td>NaN</td>\n",
       "      <td>500000000</td>\n",
       "      <td>581106000</td>\n",
       "      <td>1081106000</td>\n",
       "      <td>98</td>\n",
       "      <td>1215</td>\n",
       "      <td>06/29/2017 12:00:00 AM</td>\n",
       "      <td>2017</td>\n",
       "      <td>NaN</td>\n",
       "    </tr>\n",
       "  </tbody>\n",
       "</table>\n",
       "</div>"
      ],
      "text/plain": [
       "   Unnamed: 0  BP  No. VP                                    Nombre Proyecto  \\\n",
       "0           0   1       1  Implementar un sistema de ganadería silvopasto...   \n",
       "1           1   2       2  Fortalecimiento del cultivo de arroz y caña pa...   \n",
       "2           2   3       3  Implementar un modelo piscícola para la produc...   \n",
       "3           3   4       4  Mejorar las capacidades productivas para la ag...   \n",
       "4           4   5       5  Mejorar las capacidades productivas de 97 fami...   \n",
       "\n",
       "  Departamento               Municipio  Total beneficiarios  Hombres  Mujeres  \\\n",
       "0      CAQUETA  SAN VICENTE DEL CAGUÁN                   46       26       20   \n",
       "1       NARIÑO    SAN ANDRÉS DE TUMACO                   19        7       12   \n",
       "2      CAQUETA  SAN VICENTE DEL CAGUÁN                   52       36       16   \n",
       "3    MAGDALENA           ZONA BANANERA                  150      121       29   \n",
       "4        CAUCA            BUENOS AIRES                   97       76       21   \n",
       "\n",
       "   Total Víctimas  Valor cofinanciado ADR Valor encargo fiduciario  \\\n",
       "0               0               534000000                      NaN   \n",
       "1               0               185000000                      NaN   \n",
       "2              31               905900513                      NaN   \n",
       "3               0              2948347650                      NaN   \n",
       "4               0               500000000                      NaN   \n",
       "\n",
       "   Valor total cofinanciación ADR  Valor Contrapartida  Valor total proyecto  \\\n",
       "0                       534000000            115640000             649640000   \n",
       "1                       185000000            265082460             450082460   \n",
       "2                       905900513            104748820            1010649333   \n",
       "3                      2948347650            665760350            3614108000   \n",
       "4                       500000000            581106000            1081106000   \n",
       "\n",
       "   Hectáreas  Resolución        Fecha resolución  Vigencia  \\\n",
       "0         40        1220  06/29/2018 12:00:00 AM      2017   \n",
       "1         64        1234  07/06/2017 12:00:00 AM      2017   \n",
       "2          1        1322  08/15/2017 12:00:00 AM      2017   \n",
       "3        411        1307  08/04/2017 12:00:00 AM      2017   \n",
       "4         98        1215  06/29/2017 12:00:00 AM      2017   \n",
       "\n",
       "  Lineamiento de consejo directivo  \n",
       "0                              NaN  \n",
       "1                              NaN  \n",
       "2                              NaN  \n",
       "3                              NaN  \n",
       "4                              NaN  "
      ]
     },
     "execution_count": 6,
     "metadata": {},
     "output_type": "execute_result"
    }
   ],
   "source": [
    "df = pd.read_csv('PIDAR_DASH.csv')\n",
    "df.head()"
   ]
  },
  {
   "cell_type": "code",
   "execution_count": 7,
   "metadata": {},
   "outputs": [],
   "source": [
    "fig = px.choropleth_mapbox(df,                                      #Data\n",
    "        locations='Departamento',                              #Column containing the identifiers used in the GeoJSON file \n",
    "        color='Valor cofinanciado ADR',                        #Column giving the color intensity of the region\n",
    "        geojson=geocol,                                        #The GeoJSON file\n",
    "        zoom=3,                                                #Zoom\n",
    "        mapbox_style=\"carto-positron\",                         #Mapbox style, for different maps you need a Mapbox account and a token\n",
    "        range_color=(0, df['Valor cofinanciado ADR'].max()), \n",
    "        center={\"lat\":4.7110, \"lon\": -74.0721},                #Center\n",
    "        color_continuous_scale=\"Viridis\",                      #Color Scheme\n",
    "        opacity=0.5,                                           #Opacity of the map\n",
    "        )"
   ]
  },
  {
   "cell_type": "code",
   "execution_count": 8,
   "metadata": {},
   "outputs": [],
   "source": [
    "#df.loc[df['pop'] < 2.e6, 'country'] = 'Other countries' # Represent only large countries\n",
    "fig2 = px.pie(df, values='Total beneficiarios', names='Departamento', title='Total de beneficiarios ADR')"
   ]
  },
  {
   "cell_type": "code",
   "execution_count": 9,
   "metadata": {},
   "outputs": [],
   "source": [
    "fig3 = px.bar(df, x = 'Hectáreas', y='Departamento')"
   ]
  },
  {
   "cell_type": "code",
   "execution_count": 10,
   "metadata": {},
   "outputs": [],
   "source": [
    "available_indicators = df['Municipio'].unique()"
   ]
  },
  {
   "cell_type": "code",
   "execution_count": 11,
   "metadata": {},
   "outputs": [
    {
     "data": {
      "text/plain": [
       "0    SAN VICENTE DEL CAGUÁN\n",
       "1      SAN ANDRÉS DE TUMACO\n",
       "2    SAN VICENTE DEL CAGUÁN\n",
       "3             ZONA BANANERA\n",
       "4              BUENOS AIRES\n",
       "Name: Municipio, dtype: object"
      ]
     },
     "execution_count": 11,
     "metadata": {},
     "output_type": "execute_result"
    }
   ],
   "source": [
    "df['Municipio'].head()"
   ]
  },
  {
   "cell_type": "code",
   "execution_count": null,
   "metadata": {},
   "outputs": [
    {
     "name": "stdout",
     "output_type": "stream",
     "text": [
      "Running on http://127.0.0.1:8050/\n",
      "Running on http://127.0.0.1:8050/\n",
      "Debugger PIN: 085-441-807\n",
      "Debugger PIN: 085-441-807\n",
      " * Serving Flask app \"__main__\" (lazy loading)\n",
      " * Environment: production\n",
      "   WARNING: This is a development server. Do not use it in a production deployment.\n",
      "   Use a production WSGI server instead.\n",
      " * Debug mode: on\n"
     ]
    }
   ],
   "source": [
    "# Initialize app\n",
    "\n",
    "app = dash.Dash(\n",
    "    __name__,\n",
    "    meta_tags=[\n",
    "        {\"name\": \"viewport\", \"content\": \"width=device-width, initial-scale=1.0\"}\n",
    "    ],\n",
    ")\n",
    "server = app.server\n",
    "\n",
    "app.layout = html.Div(\n",
    "    id=\"root\",\n",
    "    children=[\n",
    "        html.Div(\n",
    "            id=\"header\",\n",
    "            children=[\n",
    "                html.Img(id=\"logo\", src=app.get_asset_url('DASHLOGO.jpg')),\n",
    "                html.H4(children=\"Rate of US Poison-Induced Deaths\"),\n",
    "                html.P(\n",
    "                    id=\"description\",\n",
    "                    children=\"† Deaths are classified using the International Classification of Diseases, \\\n",
    "                    Tenth Revision (ICD–10). Drug-poisoning deaths are defined as having ICD–10 underlying \\\n",
    "                    cause-of-death codes X40–X44 (unintentional), X60–X64 (suicide), X85 (homicide), or Y10–Y14 \\\n",
    "                    (undetermined intent).\",\n",
    "                ),\n",
    "            ],\n",
    "        )])\n",
    "app.run_server(debug=True, use_reloader=False)"
   ]
  },
  {
   "cell_type": "code",
   "execution_count": 14,
   "metadata": {},
   "outputs": [
    {
     "name": "stdout",
     "output_type": "stream",
     "text": [
      "Running on http://127.0.0.1:8050/\n",
      "Debugger PIN: 586-195-095\n",
      " * Serving Flask app \"__main__\" (lazy loading)\n",
      " * Environment: production\n",
      "   WARNING: This is a development server. Do not use it in a production deployment.\n",
      "   Use a production WSGI server instead.\n",
      " * Debug mode: on\n"
     ]
    }
   ],
   "source": [
    "app = dash.Dash()\n",
    "app.layout = html.Div([html.Div([\n",
    "        dcc.Graph(figure=fig\n",
    "        )\n",
    "    ], style={'width': '100%', 'display': 'inline-block', 'padding': '0 20'}),\n",
    "    html.Div([\n",
    "        dcc.Graph(figure=fig2),\n",
    "        dcc.Graph(figure=fig3),\n",
    "    ], style={'display': 'inline-block', 'width': '49%'})\n",
    "                      ])  \n",
    "app.run_server(debug=True, use_reloader=False)"
   ]
  }
 ],
 "metadata": {
  "kernelspec": {
   "display_name": "Python 3",
   "language": "python",
   "name": "python3"
  },
  "language_info": {
   "codemirror_mode": {
    "name": "ipython",
    "version": 3
   },
   "file_extension": ".py",
   "mimetype": "text/x-python",
   "name": "python",
   "nbconvert_exporter": "python",
   "pygments_lexer": "ipython3",
   "version": "3.7.6"
  }
 },
 "nbformat": 4,
 "nbformat_minor": 4
}
