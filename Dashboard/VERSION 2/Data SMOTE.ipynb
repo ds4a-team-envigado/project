{
 "cells": [
  {
   "cell_type": "code",
   "execution_count": 162,
   "metadata": {},
   "outputs": [],
   "source": [
    "import imblearn\n",
    "import pandas as pd\n",
    "import numpy as np"
   ]
  },
  {
   "cell_type": "code",
   "execution_count": 163,
   "metadata": {},
   "outputs": [
    {
     "data": {
      "text/html": [
       "<div>\n",
       "<style scoped>\n",
       "    .dataframe tbody tr th:only-of-type {\n",
       "        vertical-align: middle;\n",
       "    }\n",
       "\n",
       "    .dataframe tbody tr th {\n",
       "        vertical-align: top;\n",
       "    }\n",
       "\n",
       "    .dataframe thead th {\n",
       "        text-align: right;\n",
       "    }\n",
       "</style>\n",
       "<table border=\"1\" class=\"dataframe\">\n",
       "  <thead>\n",
       "    <tr style=\"text-align: right;\">\n",
       "      <th></th>\n",
       "      <th>Unnamed: 0</th>\n",
       "      <th>BP</th>\n",
       "      <th>Departamento</th>\n",
       "      <th>Hombres</th>\n",
       "      <th>Mujeres</th>\n",
       "      <th>Total Víctimas</th>\n",
       "      <th>Valor total cofinanciación ADR</th>\n",
       "      <th>Valor Contrapartida</th>\n",
       "      <th>Hectáreas</th>\n",
       "      <th>Vigencia</th>\n",
       "      <th>CADENA_PRODUCTIVA_ADR</th>\n",
       "    </tr>\n",
       "  </thead>\n",
       "  <tbody>\n",
       "    <tr>\n",
       "      <th>0</th>\n",
       "      <td>0</td>\n",
       "      <td>6</td>\n",
       "      <td>CHOCO</td>\n",
       "      <td>30</td>\n",
       "      <td>5</td>\n",
       "      <td>0</td>\n",
       "      <td>250000000</td>\n",
       "      <td>513500000</td>\n",
       "      <td>100</td>\n",
       "      <td>2017</td>\n",
       "      <td>PLATANO</td>\n",
       "    </tr>\n",
       "    <tr>\n",
       "      <th>1</th>\n",
       "      <td>1</td>\n",
       "      <td>17</td>\n",
       "      <td>META</td>\n",
       "      <td>31</td>\n",
       "      <td>9</td>\n",
       "      <td>0</td>\n",
       "      <td>500000000</td>\n",
       "      <td>106600000</td>\n",
       "      <td>40</td>\n",
       "      <td>2017</td>\n",
       "      <td>CAFE</td>\n",
       "    </tr>\n",
       "    <tr>\n",
       "      <th>2</th>\n",
       "      <td>2</td>\n",
       "      <td>23</td>\n",
       "      <td>ANTIOQUIA</td>\n",
       "      <td>20</td>\n",
       "      <td>5</td>\n",
       "      <td>23</td>\n",
       "      <td>401373250</td>\n",
       "      <td>355140000</td>\n",
       "      <td>69</td>\n",
       "      <td>2017</td>\n",
       "      <td>PLATANO</td>\n",
       "    </tr>\n",
       "    <tr>\n",
       "      <th>3</th>\n",
       "      <td>3</td>\n",
       "      <td>23</td>\n",
       "      <td>ANTIOQUIA</td>\n",
       "      <td>20</td>\n",
       "      <td>5</td>\n",
       "      <td>23</td>\n",
       "      <td>401373250</td>\n",
       "      <td>355140000</td>\n",
       "      <td>69</td>\n",
       "      <td>2017</td>\n",
       "      <td>PLATANO</td>\n",
       "    </tr>\n",
       "    <tr>\n",
       "      <th>4</th>\n",
       "      <td>4</td>\n",
       "      <td>25</td>\n",
       "      <td>META</td>\n",
       "      <td>16</td>\n",
       "      <td>12</td>\n",
       "      <td>10</td>\n",
       "      <td>255000000</td>\n",
       "      <td>41570000</td>\n",
       "      <td>93</td>\n",
       "      <td>2017</td>\n",
       "      <td>CAUCHO</td>\n",
       "    </tr>\n",
       "  </tbody>\n",
       "</table>\n",
       "</div>"
      ],
      "text/plain": [
       "   Unnamed: 0  BP Departamento  Hombres  Mujeres  Total Víctimas  \\\n",
       "0           0   6        CHOCO       30        5               0   \n",
       "1           1  17         META       31        9               0   \n",
       "2           2  23    ANTIOQUIA       20        5              23   \n",
       "3           3  23    ANTIOQUIA       20        5              23   \n",
       "4           4  25         META       16       12              10   \n",
       "\n",
       "   Valor total cofinanciación ADR  Valor Contrapartida  Hectáreas  Vigencia  \\\n",
       "0                       250000000            513500000        100      2017   \n",
       "1                       500000000            106600000         40      2017   \n",
       "2                       401373250            355140000         69      2017   \n",
       "3                       401373250            355140000         69      2017   \n",
       "4                       255000000             41570000         93      2017   \n",
       "\n",
       "  CADENA_PRODUCTIVA_ADR  \n",
       "0               PLATANO  \n",
       "1                  CAFE  \n",
       "2               PLATANO  \n",
       "3               PLATANO  \n",
       "4                CAUCHO  "
      ]
     },
     "execution_count": 163,
     "metadata": {},
     "output_type": "execute_result"
    }
   ],
   "source": [
    "data = pd.read_csv('datos_final.csv')\n",
    "data.head()"
   ]
  },
  {
   "cell_type": "code",
   "execution_count": 164,
   "metadata": {},
   "outputs": [
    {
     "data": {
      "text/plain": [
       "<matplotlib.axes._subplots.AxesSubplot at 0x1d0165cadc8>"
      ]
     },
     "execution_count": 164,
     "metadata": {},
     "output_type": "execute_result"
    },
    {
     "data": {
      "image/png": "[encoded data removed]",
      "text/plain": [
       "<Figure size 432x288 with 1 Axes>"
      ]
     },
     "metadata": {
      "needs_background": "light"
     },
     "output_type": "display_data"
    }
   ],
   "source": [
    "data['CADENA_PRODUCTIVA_ADR'].value_counts().plot.bar()"
   ]
  },
  {
   "cell_type": "code",
   "execution_count": 165,
   "metadata": {},
   "outputs": [
    {
     "name": "stdout",
     "output_type": "stream",
     "text": [
      "Proportion of the classes in the data:\n",
      "PLATANO       0.295238\n",
      "CAFE          0.209524\n",
      "MARACUYA      0.085714\n",
      "TOMATE        0.085714\n",
      "AGUACATE      0.076190\n",
      "MAIZ          0.038095\n",
      "FRIJOL        0.038095\n",
      "CACAO         0.028571\n",
      "COCO          0.028571\n",
      "PAPA          0.019048\n",
      "TANGELO       0.019048\n",
      "PERA          0.019048\n",
      "FRESA         0.009524\n",
      "CAUCHO        0.009524\n",
      "MANGO         0.009524\n",
      "ÑAME          0.009524\n",
      "MORA          0.009524\n",
      "GRANADILLA    0.009524\n",
      "Name: CADENA_PRODUCTIVA_ADR, dtype: float64\n"
     ]
    }
   ],
   "source": [
    "print('Proportion of the classes in the data:')\n",
    "print(data['CADENA_PRODUCTIVA_ADR'].value_counts() / len(data))"
   ]
  },
  {
   "cell_type": "code",
   "execution_count": 166,
   "metadata": {},
   "outputs": [],
   "source": [
    "data = data.drop(['Unnamed: 0','BP'], axis = 1)\n",
    "X = np.array(data.loc[:, data.columns != 'CADENA_PRODUCTIVA_ADR'])\n",
    "y = np.array(data.loc[:, data.columns == 'CADENA_PRODUCTIVA_ADR']).reshape(-1, 1)"
   ]
  },
  {
   "cell_type": "code",
   "execution_count": 167,
   "metadata": {},
   "outputs": [],
   "source": [
    "from sklearn import preprocessing\n",
    "from sklearn.preprocessing import StandardScaler\n",
    "\n",
    "scaler = StandardScaler()\n",
    "le = preprocessing.LabelEncoder()\n",
    "\n",
    "le.fit(X[:,0])\n",
    "X[:,0] = le.transform(X[:,0])\n",
    "X[:,[1,2,3,4,5,6,7]] = scaler.fit_transform(X[:,[1,2,3,4,5,6,7]])"
   ]
  },
  {
   "cell_type": "code",
   "execution_count": 168,
   "metadata": {},
   "outputs": [
    {
     "name": "stderr",
     "output_type": "stream",
     "text": [
      "C:\\Users\\Carlos Loaiza Velez\\anaconda3\\lib\\site-packages\\sklearn\\utils\\validation.py:73: DataConversionWarning: A column-vector y was passed when a 1d array was expected. Please change the shape of y to (n_samples, ), for example using ravel().\n",
      "  return f(**kwargs)\n"
     ]
    }
   ],
   "source": [
    "le.fit(y)\n",
    "y = le.transform(y).reshape(-1,1)"
   ]
  },
  {
   "cell_type": "code",
   "execution_count": 169,
   "metadata": {},
   "outputs": [],
   "source": [
    "from sklearn.model_selection import train_test_split\n",
    "X_train, X_test, y_train, y_test = train_test_split(X, y, test_size = 0.15, random_state = 2, shuffle = True)"
   ]
  },
  {
   "cell_type": "code",
   "execution_count": 170,
   "metadata": {},
   "outputs": [],
   "source": [
    "from imblearn.over_sampling import RandomOverSampler\n",
    "ros = RandomOverSampler(random_state=0)\n",
    "X_resampled, y_resampled = ros.fit_resample(X_train, y_train)"
   ]
  },
  {
   "cell_type": "code",
   "execution_count": 171,
   "metadata": {},
   "outputs": [
    {
     "name": "stdout",
     "output_type": "stream",
     "text": [
      "[(0, 25), (1, 25), (2, 25), (3, 25), (4, 25), (5, 25), (6, 25), (7, 25), (8, 25), (9, 25), (10, 25), (12, 25), (13, 25), (14, 25), (15, 25), (16, 25), (17, 25)]\n"
     ]
    }
   ],
   "source": [
    "from collections import Counter\n",
    "print(sorted(Counter(y_resampled).items()))"
   ]
  },
  {
   "cell_type": "code",
   "execution_count": 173,
   "metadata": {},
   "outputs": [
    {
     "data": {
      "text/plain": [
       "array(['PLATANO', 'CAFE', 'CACAO', 'PLATANO', 'CAFE', 'TOMATE', 'TOMATE',\n",
       "       'MARACUYA', 'MARACUYA', 'CACAO', 'CAFE', 'ÑAME', 'GRANADILLA',\n",
       "       'PAPA', 'TANGELO', 'PLATANO', 'CAFE', 'CACAO', 'FRESA', 'COCO',\n",
       "       'PLATANO', 'PLATANO', 'MARACUYA', 'CAFE', 'CAFE', 'PLATANO',\n",
       "       'TOMATE', 'MANGO', 'MAIZ', 'PLATANO', 'PLATANO', 'PAPA', 'CAFE',\n",
       "       'PLATANO', 'CAFE', 'AGUACATE', 'PLATANO', 'TOMATE', 'CAFE',\n",
       "       'AGUACATE', 'TOMATE', 'MAIZ', 'PLATANO', 'PLATANO', 'PLATANO',\n",
       "       'PLATANO', 'MARACUYA', 'PLATANO', 'CAFE', 'PLATANO', 'AGUACATE',\n",
       "       'FRIJOL', 'CAFE', 'MARACUYA', 'PLATANO', 'PLATANO', 'PERA',\n",
       "       'PLATANO', 'MARACUYA', 'FRIJOL', 'PLATANO', 'MAIZ', 'CAFE',\n",
       "       'FRIJOL', 'CAFE', 'CAFE', 'CAFE', 'PERA', 'PLATANO', 'CAUCHO',\n",
       "       'CAFE', 'CAFE', 'PLATANO', 'PLATANO', 'AGUACATE', 'CAFE',\n",
       "       'PLATANO', 'FRIJOL', 'COCO', 'CAFE', 'AGUACATE', 'PLATANO',\n",
       "       'MARACUYA', 'MARACUYA', 'TANGELO', 'CAFE', 'AGUACATE', 'TOMATE',\n",
       "       'AGUACATE', 'AGUACATE', 'AGUACATE', 'AGUACATE', 'AGUACATE',\n",
       "       'AGUACATE', 'AGUACATE', 'AGUACATE', 'AGUACATE', 'AGUACATE',\n",
       "       'AGUACATE', 'AGUACATE', 'AGUACATE', 'AGUACATE', 'AGUACATE',\n",
       "       'AGUACATE', 'AGUACATE', 'AGUACATE', 'AGUACATE', 'CACAO', 'CACAO',\n",
       "       'CACAO', 'CACAO', 'CACAO', 'CACAO', 'CACAO', 'CACAO', 'CACAO',\n",
       "       'CACAO', 'CACAO', 'CACAO', 'CACAO', 'CACAO', 'CACAO', 'CACAO',\n",
       "       'CACAO', 'CACAO', 'CACAO', 'CACAO', 'CACAO', 'CACAO', 'CAFE',\n",
       "       'CAFE', 'CAFE', 'CAFE', 'CAFE', 'CAUCHO', 'CAUCHO', 'CAUCHO',\n",
       "       'CAUCHO', 'CAUCHO', 'CAUCHO', 'CAUCHO', 'CAUCHO', 'CAUCHO',\n",
       "       'CAUCHO', 'CAUCHO', 'CAUCHO', 'CAUCHO', 'CAUCHO', 'CAUCHO',\n",
       "       'CAUCHO', 'CAUCHO', 'CAUCHO', 'CAUCHO', 'CAUCHO', 'CAUCHO',\n",
       "       'CAUCHO', 'CAUCHO', 'CAUCHO', 'COCO', 'COCO', 'COCO', 'COCO',\n",
       "       'COCO', 'COCO', 'COCO', 'COCO', 'COCO', 'COCO', 'COCO', 'COCO',\n",
       "       'COCO', 'COCO', 'COCO', 'COCO', 'COCO', 'COCO', 'COCO', 'COCO',\n",
       "       'COCO', 'COCO', 'COCO', 'FRESA', 'FRESA', 'FRESA', 'FRESA',\n",
       "       'FRESA', 'FRESA', 'FRESA', 'FRESA', 'FRESA', 'FRESA', 'FRESA',\n",
       "       'FRESA', 'FRESA', 'FRESA', 'FRESA', 'FRESA', 'FRESA', 'FRESA',\n",
       "       'FRESA', 'FRESA', 'FRESA', 'FRESA', 'FRESA', 'FRESA', 'FRIJOL',\n",
       "       'FRIJOL', 'FRIJOL', 'FRIJOL', 'FRIJOL', 'FRIJOL', 'FRIJOL',\n",
       "       'FRIJOL', 'FRIJOL', 'FRIJOL', 'FRIJOL', 'FRIJOL', 'FRIJOL',\n",
       "       'FRIJOL', 'FRIJOL', 'FRIJOL', 'FRIJOL', 'FRIJOL', 'FRIJOL',\n",
       "       'FRIJOL', 'FRIJOL', 'GRANADILLA', 'GRANADILLA', 'GRANADILLA',\n",
       "       'GRANADILLA', 'GRANADILLA', 'GRANADILLA', 'GRANADILLA',\n",
       "       'GRANADILLA', 'GRANADILLA', 'GRANADILLA', 'GRANADILLA',\n",
       "       'GRANADILLA', 'GRANADILLA', 'GRANADILLA', 'GRANADILLA',\n",
       "       'GRANADILLA', 'GRANADILLA', 'GRANADILLA', 'GRANADILLA',\n",
       "       'GRANADILLA', 'GRANADILLA', 'GRANADILLA', 'GRANADILLA',\n",
       "       'GRANADILLA', 'MAIZ', 'MAIZ', 'MAIZ', 'MAIZ', 'MAIZ', 'MAIZ',\n",
       "       'MAIZ', 'MAIZ', 'MAIZ', 'MAIZ', 'MAIZ', 'MAIZ', 'MAIZ', 'MAIZ',\n",
       "       'MAIZ', 'MAIZ', 'MAIZ', 'MAIZ', 'MAIZ', 'MAIZ', 'MAIZ', 'MAIZ',\n",
       "       'MANGO', 'MANGO', 'MANGO', 'MANGO', 'MANGO', 'MANGO', 'MANGO',\n",
       "       'MANGO', 'MANGO', 'MANGO', 'MANGO', 'MANGO', 'MANGO', 'MANGO',\n",
       "       'MANGO', 'MANGO', 'MANGO', 'MANGO', 'MANGO', 'MANGO', 'MANGO',\n",
       "       'MANGO', 'MANGO', 'MANGO', 'MARACUYA', 'MARACUYA', 'MARACUYA',\n",
       "       'MARACUYA', 'MARACUYA', 'MARACUYA', 'MARACUYA', 'MARACUYA',\n",
       "       'MARACUYA', 'MARACUYA', 'MARACUYA', 'MARACUYA', 'MARACUYA',\n",
       "       'MARACUYA', 'MARACUYA', 'MARACUYA', 'MARACUYA', 'PAPA', 'PAPA',\n",
       "       'PAPA', 'PAPA', 'PAPA', 'PAPA', 'PAPA', 'PAPA', 'PAPA', 'PAPA',\n",
       "       'PAPA', 'PAPA', 'PAPA', 'PAPA', 'PAPA', 'PAPA', 'PAPA', 'PAPA',\n",
       "       'PAPA', 'PAPA', 'PAPA', 'PAPA', 'PAPA', 'PERA', 'PERA', 'PERA',\n",
       "       'PERA', 'PERA', 'PERA', 'PERA', 'PERA', 'PERA', 'PERA', 'PERA',\n",
       "       'PERA', 'PERA', 'PERA', 'PERA', 'PERA', 'PERA', 'PERA', 'PERA',\n",
       "       'PERA', 'PERA', 'PERA', 'PERA', 'TANGELO', 'TANGELO', 'TANGELO',\n",
       "       'TANGELO', 'TANGELO', 'TANGELO', 'TANGELO', 'TANGELO', 'TANGELO',\n",
       "       'TANGELO', 'TANGELO', 'TANGELO', 'TANGELO', 'TANGELO', 'TANGELO',\n",
       "       'TANGELO', 'TANGELO', 'TANGELO', 'TANGELO', 'TANGELO', 'TANGELO',\n",
       "       'TANGELO', 'TANGELO', 'TOMATE', 'TOMATE', 'TOMATE', 'TOMATE',\n",
       "       'TOMATE', 'TOMATE', 'TOMATE', 'TOMATE', 'TOMATE', 'TOMATE',\n",
       "       'TOMATE', 'TOMATE', 'TOMATE', 'TOMATE', 'TOMATE', 'TOMATE',\n",
       "       'TOMATE', 'TOMATE', 'TOMATE', 'ÑAME', 'ÑAME', 'ÑAME', 'ÑAME',\n",
       "       'ÑAME', 'ÑAME', 'ÑAME', 'ÑAME', 'ÑAME', 'ÑAME', 'ÑAME', 'ÑAME',\n",
       "       'ÑAME', 'ÑAME', 'ÑAME', 'ÑAME', 'ÑAME', 'ÑAME', 'ÑAME', 'ÑAME',\n",
       "       'ÑAME', 'ÑAME', 'ÑAME', 'ÑAME'], dtype=object)"
      ]
     },
     "execution_count": 173,
     "metadata": {},
     "output_type": "execute_result"
    }
   ],
   "source": [
    "le.inverse_transform(y_resampled)"
   ]
  }
 ],
 "metadata": {
  "kernelspec": {
   "display_name": "Python 3",
   "language": "python",
   "name": "python3"
  },
  "language_info": {
   "codemirror_mode": {
    "name": "ipython",
    "version": 3
   },
   "file_extension": ".py",
   "mimetype": "text/x-python",
   "name": "python",
   "nbconvert_exporter": "python",
   "pygments_lexer": "ipython3",
   "version": "3.7.6"
  }
 },
 "nbformat": 4,
 "nbformat_minor": 4
}
