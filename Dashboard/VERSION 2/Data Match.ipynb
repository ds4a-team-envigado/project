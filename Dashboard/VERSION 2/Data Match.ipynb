{
 "cells": [
  {
   "cell_type": "code",
   "execution_count": 1,
   "metadata": {},
   "outputs": [],
   "source": [
    "# Import required libraries\n",
    "import numpy as np\n",
    "import math\n",
    "import datetime as dt\n",
    "import pandas as pd\n",
    "import pathlib"
   ]
  },
  {
   "cell_type": "code",
   "execution_count": 2,
   "metadata": {},
   "outputs": [],
   "source": [
    "# Load data\n",
    "# get relative data folder\n",
    "PATH = pathlib.Path('./data').parent\n",
    "DATA_PATH = PATH.joinpath(\"data\").resolve()\n",
    "PIDAR = pd.read_csv(DATA_PATH.joinpath(\"pidar.csv\"))\n",
    "AT = pd.read_csv(DATA_PATH.joinpath(\"DS_Asistencia_Tecnica.csv\"))\n",
    "EVA = pd.read_csv(DATA_PATH.joinpath('EVA_cultivos_modificado.csv'))\n",
    "url = 'https://raw.githubusercontent.com/ds4a-team-envigado/project/master/Dashboard/VERSION%202/data/AP_SABANAGENERAL.csv'\n",
    "SG = pd.read_csv(url, index_col=0,sep=\";\",encoding='latin-1')\n",
    "dfs = [PIDAR,AT,EVA,SG]"
   ]
  },
  {
   "cell_type": "code",
   "execution_count": 3,
   "metadata": {},
   "outputs": [
    {
     "data": {
      "text/html": [
       "<div>\n",
       "<style scoped>\n",
       "    .dataframe tbody tr th:only-of-type {\n",
       "        vertical-align: middle;\n",
       "    }\n",
       "\n",
       "    .dataframe tbody tr th {\n",
       "        vertical-align: top;\n",
       "    }\n",
       "\n",
       "    .dataframe thead th {\n",
       "        text-align: right;\n",
       "    }\n",
       "</style>\n",
       "<table border=\"1\" class=\"dataframe\">\n",
       "  <thead>\n",
       "    <tr style=\"text-align: right;\">\n",
       "      <th></th>\n",
       "      <th>DEPARTAMENTO</th>\n",
       "      <th>YEAR</th>\n",
       "      <th>CADENA_PRODUCTIVA_ADR</th>\n",
       "      <th>COD_DEP</th>\n",
       "      <th>COD_MUN</th>\n",
       "      <th>AREA_SEMBR</th>\n",
       "      <th>AREA_COSECH</th>\n",
       "      <th>PRODUCCION</th>\n",
       "      <th>RENDIMIENTO</th>\n",
       "      <th>NIVEL</th>\n",
       "      <th>ID_ADR</th>\n",
       "    </tr>\n",
       "  </thead>\n",
       "  <tbody>\n",
       "    <tr>\n",
       "      <th>0</th>\n",
       "      <td>AMAZONAS</td>\n",
       "      <td>2006</td>\n",
       "      <td>ARROZ</td>\n",
       "      <td>273</td>\n",
       "      <td>274339</td>\n",
       "      <td>11</td>\n",
       "      <td>11</td>\n",
       "      <td>16</td>\n",
       "      <td>4.35</td>\n",
       "      <td>9</td>\n",
       "      <td>37527</td>\n",
       "    </tr>\n",
       "    <tr>\n",
       "      <th>1</th>\n",
       "      <td>AMAZONAS</td>\n",
       "      <td>2006</td>\n",
       "      <td>MAIZ</td>\n",
       "      <td>455</td>\n",
       "      <td>457151</td>\n",
       "      <td>204</td>\n",
       "      <td>203</td>\n",
       "      <td>468</td>\n",
       "      <td>7.86</td>\n",
       "      <td>15</td>\n",
       "      <td>62520</td>\n",
       "    </tr>\n",
       "    <tr>\n",
       "      <th>2</th>\n",
       "      <td>AMAZONAS</td>\n",
       "      <td>2007</td>\n",
       "      <td>ACHICORIA</td>\n",
       "      <td>182</td>\n",
       "      <td>182541</td>\n",
       "      <td>6</td>\n",
       "      <td>6</td>\n",
       "      <td>6</td>\n",
       "      <td>2.00</td>\n",
       "      <td>6</td>\n",
       "      <td>21610</td>\n",
       "    </tr>\n",
       "    <tr>\n",
       "      <th>3</th>\n",
       "      <td>AMAZONAS</td>\n",
       "      <td>2007</td>\n",
       "      <td>AHUYAMA</td>\n",
       "      <td>91</td>\n",
       "      <td>91540</td>\n",
       "      <td>10</td>\n",
       "      <td>10</td>\n",
       "      <td>38</td>\n",
       "      <td>3.80</td>\n",
       "      <td>3</td>\n",
       "      <td>11213</td>\n",
       "    </tr>\n",
       "    <tr>\n",
       "      <th>4</th>\n",
       "      <td>AMAZONAS</td>\n",
       "      <td>2007</td>\n",
       "      <td>AJI</td>\n",
       "      <td>182</td>\n",
       "      <td>182541</td>\n",
       "      <td>28</td>\n",
       "      <td>28</td>\n",
       "      <td>35</td>\n",
       "      <td>2.50</td>\n",
       "      <td>6</td>\n",
       "      <td>22418</td>\n",
       "    </tr>\n",
       "  </tbody>\n",
       "</table>\n",
       "</div>"
      ],
      "text/plain": [
       "  DEPARTAMENTO  YEAR CADENA_PRODUCTIVA_ADR  COD_DEP  COD_MUN  AREA_SEMBR  \\\n",
       "0     AMAZONAS  2006                 ARROZ      273   274339          11   \n",
       "1     AMAZONAS  2006                  MAIZ      455   457151         204   \n",
       "2     AMAZONAS  2007             ACHICORIA      182   182541           6   \n",
       "3     AMAZONAS  2007               AHUYAMA       91    91540          10   \n",
       "4     AMAZONAS  2007                   AJI      182   182541          28   \n",
       "\n",
       "   AREA_COSECH  PRODUCCION  RENDIMIENTO  NIVEL  ID_ADR  \n",
       "0           11          16         4.35      9   37527  \n",
       "1          203         468         7.86     15   62520  \n",
       "2            6           6         2.00      6   21610  \n",
       "3           10          38         3.80      3   11213  \n",
       "4           28          35         2.50      6   22418  "
      ]
     },
     "execution_count": 3,
     "metadata": {},
     "output_type": "execute_result"
    }
   ],
   "source": [
    "# #Agrupar por departamtento cada una de las columnas\n",
    "dff = EVA.groupby(['DEPARTAMENTO','YEAR','CADENA_PRODUCTIVA_ADR']).sum().reset_index()\n",
    "dff.head()"
   ]
  },
  {
   "cell_type": "code",
   "execution_count": 4,
   "metadata": {
    "scrolled": true
   },
   "outputs": [
    {
     "data": {
      "text/html": [
       "<div>\n",
       "<style scoped>\n",
       "    .dataframe tbody tr th:only-of-type {\n",
       "        vertical-align: middle;\n",
       "    }\n",
       "\n",
       "    .dataframe tbody tr th {\n",
       "        vertical-align: top;\n",
       "    }\n",
       "\n",
       "    .dataframe thead th {\n",
       "        text-align: right;\n",
       "    }\n",
       "</style>\n",
       "<table border=\"1\" class=\"dataframe\">\n",
       "  <thead>\n",
       "    <tr style=\"text-align: right;\">\n",
       "      <th></th>\n",
       "      <th>Unnamed: 0</th>\n",
       "      <th>Unnamed: 0.1</th>\n",
       "      <th>BP</th>\n",
       "      <th>No. VP</th>\n",
       "      <th>Nombre Proyecto</th>\n",
       "      <th>Departamento</th>\n",
       "      <th>Municipio</th>\n",
       "      <th>Total beneficiarios</th>\n",
       "      <th>Hombres</th>\n",
       "      <th>Mujeres</th>\n",
       "      <th>...</th>\n",
       "      <th>Valor total cofinanciación ADR</th>\n",
       "      <th>Valor Contrapartida</th>\n",
       "      <th>Valor total proyecto</th>\n",
       "      <th>Hectáreas</th>\n",
       "      <th>Resolución</th>\n",
       "      <th>Fecha resolución</th>\n",
       "      <th>Vigencia</th>\n",
       "      <th>Lineamiento de consejo directivo</th>\n",
       "      <th>AP_ID_ADR</th>\n",
       "      <th>AP_CADENA_PRODUCTIVA_ADR</th>\n",
       "    </tr>\n",
       "  </thead>\n",
       "  <tbody>\n",
       "    <tr>\n",
       "      <th>0</th>\n",
       "      <td>5</td>\n",
       "      <td>5</td>\n",
       "      <td>6</td>\n",
       "      <td>6</td>\n",
       "      <td>Mejorar las capacidades técnicas de adecuación...</td>\n",
       "      <td>CHOCO</td>\n",
       "      <td>CARMEN DEL DARIÉN</td>\n",
       "      <td>35</td>\n",
       "      <td>30</td>\n",
       "      <td>5</td>\n",
       "      <td>...</td>\n",
       "      <td>250000000</td>\n",
       "      <td>513500000</td>\n",
       "      <td>763500000</td>\n",
       "      <td>100</td>\n",
       "      <td>1219</td>\n",
       "      <td>06/29/2017 12:00:00 AM</td>\n",
       "      <td>2017</td>\n",
       "      <td>NaN</td>\n",
       "      <td>1</td>\n",
       "      <td>AGRICOLA</td>\n",
       "    </tr>\n",
       "    <tr>\n",
       "      <th>1</th>\n",
       "      <td>16</td>\n",
       "      <td>16</td>\n",
       "      <td>17</td>\n",
       "      <td>17</td>\n",
       "      <td>Fortalecer la capacidad productiva y manejo de...</td>\n",
       "      <td>META</td>\n",
       "      <td>MESETAS</td>\n",
       "      <td>40</td>\n",
       "      <td>31</td>\n",
       "      <td>9</td>\n",
       "      <td>...</td>\n",
       "      <td>500000000</td>\n",
       "      <td>106600000</td>\n",
       "      <td>606600000</td>\n",
       "      <td>40</td>\n",
       "      <td>1250</td>\n",
       "      <td>07/12/2017 12:00:00 AM</td>\n",
       "      <td>2017</td>\n",
       "      <td>NaN</td>\n",
       "      <td>1</td>\n",
       "      <td>AGRICOLA</td>\n",
       "    </tr>\n",
       "    <tr>\n",
       "      <th>2</th>\n",
       "      <td>19</td>\n",
       "      <td>19</td>\n",
       "      <td>20</td>\n",
       "      <td>20</td>\n",
       "      <td>Fortalecer la productividad y competitividad d...</td>\n",
       "      <td>NORTE DE SANTANDER</td>\n",
       "      <td>TIBÚ</td>\n",
       "      <td>46</td>\n",
       "      <td>31</td>\n",
       "      <td>15</td>\n",
       "      <td>...</td>\n",
       "      <td>252785478</td>\n",
       "      <td>351466000</td>\n",
       "      <td>604251478</td>\n",
       "      <td>92</td>\n",
       "      <td>1453</td>\n",
       "      <td>10/12/2017 12:00:00 AM</td>\n",
       "      <td>2017</td>\n",
       "      <td>NaN</td>\n",
       "      <td>1</td>\n",
       "      <td>AGRICOLA</td>\n",
       "    </tr>\n",
       "    <tr>\n",
       "      <th>3</th>\n",
       "      <td>22</td>\n",
       "      <td>22</td>\n",
       "      <td>23</td>\n",
       "      <td>23</td>\n",
       "      <td>Fortalecer la cadena productiva de café y plát...</td>\n",
       "      <td>ANTIOQUIA</td>\n",
       "      <td>DABEIBA</td>\n",
       "      <td>25</td>\n",
       "      <td>20</td>\n",
       "      <td>5</td>\n",
       "      <td>...</td>\n",
       "      <td>401373250</td>\n",
       "      <td>355140000</td>\n",
       "      <td>756513250</td>\n",
       "      <td>69</td>\n",
       "      <td>1351</td>\n",
       "      <td>08/28/2017 12:00:00 AM</td>\n",
       "      <td>2017</td>\n",
       "      <td>NaN</td>\n",
       "      <td>1</td>\n",
       "      <td>AGRICOLA</td>\n",
       "    </tr>\n",
       "    <tr>\n",
       "      <th>4</th>\n",
       "      <td>24</td>\n",
       "      <td>24</td>\n",
       "      <td>25</td>\n",
       "      <td>25</td>\n",
       "      <td>Fortalecimiento de la productividad del cultiv...</td>\n",
       "      <td>META</td>\n",
       "      <td>LA MACARENA</td>\n",
       "      <td>28</td>\n",
       "      <td>16</td>\n",
       "      <td>12</td>\n",
       "      <td>...</td>\n",
       "      <td>255000000</td>\n",
       "      <td>41570000</td>\n",
       "      <td>296570000</td>\n",
       "      <td>93</td>\n",
       "      <td>1401</td>\n",
       "      <td>09/19/2017 12:00:00 AM</td>\n",
       "      <td>2017</td>\n",
       "      <td>NaN</td>\n",
       "      <td>1</td>\n",
       "      <td>AGRICOLA</td>\n",
       "    </tr>\n",
       "  </tbody>\n",
       "</table>\n",
       "<p>5 rows × 23 columns</p>\n",
       "</div>"
      ],
      "text/plain": [
       "   Unnamed: 0  Unnamed: 0.1  BP  No. VP  \\\n",
       "0           5             5   6       6   \n",
       "1          16            16  17      17   \n",
       "2          19            19  20      20   \n",
       "3          22            22  23      23   \n",
       "4          24            24  25      25   \n",
       "\n",
       "                                     Nombre Proyecto        Departamento  \\\n",
       "0  Mejorar las capacidades técnicas de adecuación...               CHOCO   \n",
       "1  Fortalecer la capacidad productiva y manejo de...                META   \n",
       "2  Fortalecer la productividad y competitividad d...  NORTE DE SANTANDER   \n",
       "3  Fortalecer la cadena productiva de café y plát...           ANTIOQUIA   \n",
       "4  Fortalecimiento de la productividad del cultiv...                META   \n",
       "\n",
       "           Municipio  Total beneficiarios  Hombres  Mujeres  ...  \\\n",
       "0  CARMEN DEL DARIÉN                   35       30        5  ...   \n",
       "1            MESETAS                   40       31        9  ...   \n",
       "2               TIBÚ                   46       31       15  ...   \n",
       "3            DABEIBA                   25       20        5  ...   \n",
       "4        LA MACARENA                   28       16       12  ...   \n",
       "\n",
       "   Valor total cofinanciación ADR  Valor Contrapartida Valor total proyecto  \\\n",
       "0                       250000000            513500000            763500000   \n",
       "1                       500000000            106600000            606600000   \n",
       "2                       252785478            351466000            604251478   \n",
       "3                       401373250            355140000            756513250   \n",
       "4                       255000000             41570000            296570000   \n",
       "\n",
       "   Hectáreas  Resolución        Fecha resolución  Vigencia  \\\n",
       "0        100        1219  06/29/2017 12:00:00 AM      2017   \n",
       "1         40        1250  07/12/2017 12:00:00 AM      2017   \n",
       "2         92        1453  10/12/2017 12:00:00 AM      2017   \n",
       "3         69        1351  08/28/2017 12:00:00 AM      2017   \n",
       "4         93        1401  09/19/2017 12:00:00 AM      2017   \n",
       "\n",
       "   Lineamiento de consejo directivo AP_ID_ADR  AP_CADENA_PRODUCTIVA_ADR  \n",
       "0                               NaN         1                  AGRICOLA  \n",
       "1                               NaN         1                  AGRICOLA  \n",
       "2                               NaN         1                  AGRICOLA  \n",
       "3                               NaN         1                  AGRICOLA  \n",
       "4                               NaN         1                  AGRICOLA  \n",
       "\n",
       "[5 rows x 23 columns]"
      ]
     },
     "execution_count": 4,
     "metadata": {},
     "output_type": "execute_result"
    }
   ],
   "source": [
    "PIDAR.head()"
   ]
  },
  {
   "cell_type": "code",
   "execution_count": 5,
   "metadata": {},
   "outputs": [
    {
     "data": {
      "text/html": [
       "<div>\n",
       "<style scoped>\n",
       "    .dataframe tbody tr th:only-of-type {\n",
       "        vertical-align: middle;\n",
       "    }\n",
       "\n",
       "    .dataframe tbody tr th {\n",
       "        vertical-align: top;\n",
       "    }\n",
       "\n",
       "    .dataframe thead th {\n",
       "        text-align: right;\n",
       "    }\n",
       "</style>\n",
       "<table border=\"1\" class=\"dataframe\">\n",
       "  <thead>\n",
       "    <tr style=\"text-align: right;\">\n",
       "      <th></th>\n",
       "      <th>COD_DEP</th>\n",
       "      <th>DEPARTAMENTO</th>\n",
       "      <th>COD_MUN</th>\n",
       "      <th>MUNICIPIO</th>\n",
       "      <th>GRUP_CULTIVO</th>\n",
       "      <th>SUBGRUP_CULTIVO</th>\n",
       "      <th>CULTIVO</th>\n",
       "      <th>DESAGREGACION_SIST_PRODUCTIVO</th>\n",
       "      <th>YEAR</th>\n",
       "      <th>PERIODO</th>\n",
       "      <th>AREA_SEMBR</th>\n",
       "      <th>AREA_COSECH</th>\n",
       "      <th>PRODUCCION</th>\n",
       "      <th>RENDIMIENTO</th>\n",
       "      <th>ESTADO_PRODUCCION</th>\n",
       "      <th>NOMBRE_CIENTI</th>\n",
       "      <th>CICLO_CULTIVO</th>\n",
       "      <th>CADENA_PRODUCTIVA_ADR</th>\n",
       "      <th>NIVEL</th>\n",
       "      <th>ID_ADR</th>\n",
       "    </tr>\n",
       "  </thead>\n",
       "  <tbody>\n",
       "    <tr>\n",
       "      <th>0</th>\n",
       "      <td>15</td>\n",
       "      <td>BOYACA</td>\n",
       "      <td>15114</td>\n",
       "      <td>BUSBANZA</td>\n",
       "      <td>HORTALIZAS</td>\n",
       "      <td>ACELGA</td>\n",
       "      <td>ACELGA</td>\n",
       "      <td>ACELGA</td>\n",
       "      <td>2006</td>\n",
       "      <td>2006B</td>\n",
       "      <td>2</td>\n",
       "      <td>1</td>\n",
       "      <td>1</td>\n",
       "      <td>1.00</td>\n",
       "      <td>FRUTO FRESCO</td>\n",
       "      <td>BETA VULGARIS</td>\n",
       "      <td>TRANSITORIO</td>\n",
       "      <td>ACELGA</td>\n",
       "      <td>3</td>\n",
       "      <td>10807</td>\n",
       "    </tr>\n",
       "    <tr>\n",
       "      <th>1</th>\n",
       "      <td>25</td>\n",
       "      <td>CUNDINAMARCA</td>\n",
       "      <td>25754</td>\n",
       "      <td>SOACHA</td>\n",
       "      <td>HORTALIZAS</td>\n",
       "      <td>ACELGA</td>\n",
       "      <td>ACELGA</td>\n",
       "      <td>ACELGA</td>\n",
       "      <td>2006</td>\n",
       "      <td>2006B</td>\n",
       "      <td>82</td>\n",
       "      <td>80</td>\n",
       "      <td>1440</td>\n",
       "      <td>18.00</td>\n",
       "      <td>FRUTO FRESCO</td>\n",
       "      <td>BETA VULGARIS</td>\n",
       "      <td>TRANSITORIO</td>\n",
       "      <td>ACELGA</td>\n",
       "      <td>3</td>\n",
       "      <td>10807</td>\n",
       "    </tr>\n",
       "    <tr>\n",
       "      <th>2</th>\n",
       "      <td>25</td>\n",
       "      <td>CUNDINAMARCA</td>\n",
       "      <td>25214</td>\n",
       "      <td>COTA</td>\n",
       "      <td>HORTALIZAS</td>\n",
       "      <td>ACELGA</td>\n",
       "      <td>ACELGA</td>\n",
       "      <td>ACELGA</td>\n",
       "      <td>2006</td>\n",
       "      <td>2006B</td>\n",
       "      <td>2</td>\n",
       "      <td>2</td>\n",
       "      <td>26</td>\n",
       "      <td>17.33</td>\n",
       "      <td>FRUTO FRESCO</td>\n",
       "      <td>BETA VULGARIS</td>\n",
       "      <td>TRANSITORIO</td>\n",
       "      <td>ACELGA</td>\n",
       "      <td>3</td>\n",
       "      <td>10807</td>\n",
       "    </tr>\n",
       "    <tr>\n",
       "      <th>3</th>\n",
       "      <td>54</td>\n",
       "      <td>NORTE DE SANTANDER</td>\n",
       "      <td>54405</td>\n",
       "      <td>LOS PATIOS</td>\n",
       "      <td>HORTALIZAS</td>\n",
       "      <td>ACELGA</td>\n",
       "      <td>ACELGA</td>\n",
       "      <td>ACELGA</td>\n",
       "      <td>2006</td>\n",
       "      <td>2006B</td>\n",
       "      <td>3</td>\n",
       "      <td>3</td>\n",
       "      <td>48</td>\n",
       "      <td>16.00</td>\n",
       "      <td>FRUTO FRESCO</td>\n",
       "      <td>BETA VULGARIS</td>\n",
       "      <td>TRANSITORIO</td>\n",
       "      <td>ACELGA</td>\n",
       "      <td>3</td>\n",
       "      <td>10807</td>\n",
       "    </tr>\n",
       "    <tr>\n",
       "      <th>4</th>\n",
       "      <td>54</td>\n",
       "      <td>NORTE DE SANTANDER</td>\n",
       "      <td>54518</td>\n",
       "      <td>PAMPLONA</td>\n",
       "      <td>HORTALIZAS</td>\n",
       "      <td>ACELGA</td>\n",
       "      <td>ACELGA</td>\n",
       "      <td>ACELGA</td>\n",
       "      <td>2006</td>\n",
       "      <td>2006B</td>\n",
       "      <td>1</td>\n",
       "      <td>1</td>\n",
       "      <td>5</td>\n",
       "      <td>10.00</td>\n",
       "      <td>FRUTO FRESCO</td>\n",
       "      <td>BETA VULGARIS</td>\n",
       "      <td>TRANSITORIO</td>\n",
       "      <td>ACELGA</td>\n",
       "      <td>3</td>\n",
       "      <td>10807</td>\n",
       "    </tr>\n",
       "  </tbody>\n",
       "</table>\n",
       "</div>"
      ],
      "text/plain": [
       "   COD_DEP        DEPARTAMENTO  COD_MUN   MUNICIPIO GRUP_CULTIVO  \\\n",
       "0       15              BOYACA    15114    BUSBANZA   HORTALIZAS   \n",
       "1       25        CUNDINAMARCA    25754      SOACHA   HORTALIZAS   \n",
       "2       25        CUNDINAMARCA    25214        COTA   HORTALIZAS   \n",
       "3       54  NORTE DE SANTANDER    54405  LOS PATIOS   HORTALIZAS   \n",
       "4       54  NORTE DE SANTANDER    54518    PAMPLONA   HORTALIZAS   \n",
       "\n",
       "  SUBGRUP_CULTIVO CULTIVO DESAGREGACION_SIST_PRODUCTIVO  YEAR PERIODO  \\\n",
       "0          ACELGA  ACELGA                        ACELGA  2006   2006B   \n",
       "1          ACELGA  ACELGA                        ACELGA  2006   2006B   \n",
       "2          ACELGA  ACELGA                        ACELGA  2006   2006B   \n",
       "3          ACELGA  ACELGA                        ACELGA  2006   2006B   \n",
       "4          ACELGA  ACELGA                        ACELGA  2006   2006B   \n",
       "\n",
       "   AREA_SEMBR  AREA_COSECH  PRODUCCION  RENDIMIENTO ESTADO_PRODUCCION  \\\n",
       "0           2            1           1         1.00      FRUTO FRESCO   \n",
       "1          82           80        1440        18.00      FRUTO FRESCO   \n",
       "2           2            2          26        17.33      FRUTO FRESCO   \n",
       "3           3            3          48        16.00      FRUTO FRESCO   \n",
       "4           1            1           5        10.00      FRUTO FRESCO   \n",
       "\n",
       "   NOMBRE_CIENTI CICLO_CULTIVO CADENA_PRODUCTIVA_ADR  NIVEL  ID_ADR  \n",
       "0  BETA VULGARIS   TRANSITORIO                ACELGA      3   10807  \n",
       "1  BETA VULGARIS   TRANSITORIO                ACELGA      3   10807  \n",
       "2  BETA VULGARIS   TRANSITORIO                ACELGA      3   10807  \n",
       "3  BETA VULGARIS   TRANSITORIO                ACELGA      3   10807  \n",
       "4  BETA VULGARIS   TRANSITORIO                ACELGA      3   10807  "
      ]
     },
     "execution_count": 5,
     "metadata": {},
     "output_type": "execute_result"
    }
   ],
   "source": [
    "EVA.head()"
   ]
  },
  {
   "cell_type": "markdown",
   "metadata": {},
   "source": [
    "## Preprocesamiento"
   ]
  },
  {
   "cell_type": "code",
   "execution_count": 6,
   "metadata": {},
   "outputs": [
    {
     "name": "stderr",
     "output_type": "stream",
     "text": [
      "[nltk_data] Downloading package punkt to C:\\Users\\Carlos Loaiza\n",
      "[nltk_data]     Velez\\AppData\\Roaming\\nltk_data...\n",
      "[nltk_data]   Package punkt is already up-to-date!\n",
      "[nltk_data] Downloading package stopwords to C:\\Users\\Carlos Loaiza\n",
      "[nltk_data]     Velez\\AppData\\Roaming\\nltk_data...\n",
      "[nltk_data]   Package stopwords is already up-to-date!\n",
      "[nltk_data] Downloading package punkt to C:\\Users\\Carlos Loaiza\n",
      "[nltk_data]     Velez\\AppData\\Roaming\\nltk_data...\n",
      "[nltk_data]   Package punkt is already up-to-date!\n"
     ]
    }
   ],
   "source": [
    "import gzip\n",
    "import json\n",
    "import string\n",
    "\n",
    "import nltk # imports the natural language toolkit\n",
    "import pandas as pd\n",
    "import plotly as px\n",
    "import matplotlib as plt\n",
    "\n",
    "import nltk # imports the natural language toolkit\n",
    "nltk.download('punkt')\n",
    "nltk.download('stopwords')\n",
    "import pandas as pd\n",
    "import numpy  as np\n",
    "import string\n",
    "import plotly\n",
    "from nltk.stem import PorterStemmer \n",
    "from sklearn.feature_extraction.text import CountVectorizer\n",
    "\n",
    "import io \n",
    "from nltk.corpus import stopwords \n",
    "from nltk.tokenize import word_tokenize\n",
    "\n",
    "vec = CountVectorizer()\n",
    "\n",
    "nltk.download('punkt')\n",
    "\n",
    "CP_ADR = EVA['CADENA_PRODUCTIVA_ADR'].unique()"
   ]
  },
  {
   "cell_type": "code",
   "execution_count": 7,
   "metadata": {},
   "outputs": [],
   "source": [
    "def clean_text(text):\n",
    "    # lower text\n",
    "    text = text.lower()\n",
    "    # tokenize text and remove puncutation\n",
    "    text = [word.strip(string.punctuation) for word in text.split(\" \")]\n",
    "    # remove words that contain numbers\n",
    "    text = [word for word in text if not any(c.isdigit() for c in word)]\n",
    "    # remove stop words\n",
    "    stop = stopwords.words('english')\n",
    "    text = [x for x in text if x not in stop]\n",
    "    # remove empty tokens\n",
    "    text = [t for t in text if len(t) > 0]\n",
    "    # remove words with only one letter\n",
    "    text = [t for t in text if len(t) > 1]\n",
    "    # join all\n",
    "    text = \" \".join(text)\n",
    "    return(text)"
   ]
  },
  {
   "cell_type": "code",
   "execution_count": 8,
   "metadata": {},
   "outputs": [],
   "source": [
    "def normalize(s):\n",
    "    replacements = (\n",
    "        (\"á\", \"a\"),\n",
    "        (\"é\", \"e\"),\n",
    "        (\"í\", \"i\"),\n",
    "        (\"ó\", \"o\"),\n",
    "        (\"ú\", \"u\"),\n",
    "    )\n",
    "    for a, b in replacements:\n",
    "        s = s.replace(a, b).replace(a.upper(), b.upper())\n",
    "    \n",
    "    s = s.upper()\n",
    "    return s    "
   ]
  },
  {
   "cell_type": "code",
   "execution_count": 9,
   "metadata": {},
   "outputs": [],
   "source": [
    "# import re\n",
    "# from unicodedata import normalize\n",
    "\n",
    "# word_list = []\n",
    "\n",
    "# for sentence in PIDAR['Nombre Proyecto']:\n",
    "#     word_list = word_list + re.split(r',', sentence)\n",
    "    \n",
    "# word_list2 = []\n",
    "# for word in word_list:\n",
    "#     word = word.lstrip().rstrip().upper()\n",
    "#     word = re.sub(r\"([^n\\u0300-\\u036f]|n(?!\\u0303(?![\\u0300-\\u036f])))[\\u0300-\\u036f]+\", r\"\\1\", normalize( \"NFD\", word), 0, re.I)\n",
    "#     word_list2.append(word)\n",
    "\n",
    "# word_list2 = list(dict.fromkeys(word_list2))\n",
    "# word_list2.sort()"
   ]
  },
  {
   "cell_type": "code",
   "execution_count": 19,
   "metadata": {},
   "outputs": [],
   "source": [
    "# clean text data\n",
    "PIDAR['TITULO'] = PIDAR['Nombre Proyecto'].apply(lambda x: clean_text(x))"
   ]
  },
  {
   "cell_type": "code",
   "execution_count": 20,
   "metadata": {},
   "outputs": [
    {
     "data": {
      "text/plain": [
       "(83, 25)"
      ]
     },
     "execution_count": 20,
     "metadata": {},
     "output_type": "execute_result"
    }
   ],
   "source": [
    "new_df_PIDAR = []\n",
    "for i in PIDAR['Nombre Proyecto'].unique():\n",
    "    list_w = i.split(\" \")\n",
    "    temp = PIDAR[PIDAR['Nombre Proyecto']==i].copy()\n",
    "    for j in list_w:\n",
    "        w = normalize(j)\n",
    "        if w in CP_ADR:\n",
    "            temp['CADENA_PRODUCTIVA_ADR']=w\n",
    "            new_df_PIDAR.append(temp)\n",
    "            \n",
    "new_df_PIDAR=pd.concat(new_df_PIDAR)\n",
    "new_df_PIDAR.shape"
   ]
  },
  {
   "cell_type": "code",
   "execution_count": 21,
   "metadata": {},
   "outputs": [
    {
     "data": {
      "text/plain": [
       "63"
      ]
     },
     "execution_count": 21,
     "metadata": {},
     "output_type": "execute_result"
    }
   ],
   "source": [
    "len(new_df_PIDAR['BP'].unique())"
   ]
  },
  {
   "cell_type": "markdown",
   "metadata": {},
   "source": [
    "https://pandas.pydata.org/pandas-docs/stable/user_guide/merging.html?highlight=merge"
   ]
  },
  {
   "cell_type": "code",
   "execution_count": 22,
   "metadata": {},
   "outputs": [
    {
     "data": {
      "text/html": [
       "<div>\n",
       "<style scoped>\n",
       "    .dataframe tbody tr th:only-of-type {\n",
       "        vertical-align: middle;\n",
       "    }\n",
       "\n",
       "    .dataframe tbody tr th {\n",
       "        vertical-align: top;\n",
       "    }\n",
       "\n",
       "    .dataframe thead th {\n",
       "        text-align: right;\n",
       "    }\n",
       "</style>\n",
       "<table border=\"1\" class=\"dataframe\">\n",
       "  <thead>\n",
       "    <tr style=\"text-align: right;\">\n",
       "      <th></th>\n",
       "      <th>Unnamed: 0</th>\n",
       "      <th>Unnamed: 0.1</th>\n",
       "      <th>BP</th>\n",
       "      <th>No. VP</th>\n",
       "      <th>Nombre Proyecto</th>\n",
       "      <th>Departamento</th>\n",
       "      <th>Municipio</th>\n",
       "      <th>Total beneficiarios</th>\n",
       "      <th>Hombres</th>\n",
       "      <th>Mujeres</th>\n",
       "      <th>...</th>\n",
       "      <th>Valor total proyecto</th>\n",
       "      <th>Hectáreas</th>\n",
       "      <th>Resolución</th>\n",
       "      <th>Fecha resolución</th>\n",
       "      <th>Vigencia</th>\n",
       "      <th>Lineamiento de consejo directivo</th>\n",
       "      <th>AP_ID_ADR</th>\n",
       "      <th>AP_CADENA_PRODUCTIVA_ADR</th>\n",
       "      <th>TITULO</th>\n",
       "      <th>CADENA_PRODUCTIVA_ADR</th>\n",
       "    </tr>\n",
       "  </thead>\n",
       "  <tbody>\n",
       "    <tr>\n",
       "      <th>0</th>\n",
       "      <td>5</td>\n",
       "      <td>5</td>\n",
       "      <td>6</td>\n",
       "      <td>6</td>\n",
       "      <td>Mejorar las capacidades técnicas de adecuación...</td>\n",
       "      <td>CHOCO</td>\n",
       "      <td>CARMEN DEL DARIÉN</td>\n",
       "      <td>35</td>\n",
       "      <td>30</td>\n",
       "      <td>5</td>\n",
       "      <td>...</td>\n",
       "      <td>763500000</td>\n",
       "      <td>100</td>\n",
       "      <td>1219</td>\n",
       "      <td>06/29/2017 12:00:00 AM</td>\n",
       "      <td>2017</td>\n",
       "      <td>NaN</td>\n",
       "      <td>1</td>\n",
       "      <td>AGRICOLA</td>\n",
       "      <td>mejorar las capacidades técnicas de adecuación...</td>\n",
       "      <td>PLATANO</td>\n",
       "    </tr>\n",
       "    <tr>\n",
       "      <th>1</th>\n",
       "      <td>16</td>\n",
       "      <td>16</td>\n",
       "      <td>17</td>\n",
       "      <td>17</td>\n",
       "      <td>Fortalecer la capacidad productiva y manejo de...</td>\n",
       "      <td>META</td>\n",
       "      <td>MESETAS</td>\n",
       "      <td>40</td>\n",
       "      <td>31</td>\n",
       "      <td>9</td>\n",
       "      <td>...</td>\n",
       "      <td>606600000</td>\n",
       "      <td>40</td>\n",
       "      <td>1250</td>\n",
       "      <td>07/12/2017 12:00:00 AM</td>\n",
       "      <td>2017</td>\n",
       "      <td>NaN</td>\n",
       "      <td>1</td>\n",
       "      <td>AGRICOLA</td>\n",
       "      <td>fortalecer la capacidad productiva manejo de p...</td>\n",
       "      <td>CAFE</td>\n",
       "    </tr>\n",
       "    <tr>\n",
       "      <th>3</th>\n",
       "      <td>22</td>\n",
       "      <td>22</td>\n",
       "      <td>23</td>\n",
       "      <td>23</td>\n",
       "      <td>Fortalecer la cadena productiva de café y plát...</td>\n",
       "      <td>ANTIOQUIA</td>\n",
       "      <td>DABEIBA</td>\n",
       "      <td>25</td>\n",
       "      <td>20</td>\n",
       "      <td>5</td>\n",
       "      <td>...</td>\n",
       "      <td>756513250</td>\n",
       "      <td>69</td>\n",
       "      <td>1351</td>\n",
       "      <td>08/28/2017 12:00:00 AM</td>\n",
       "      <td>2017</td>\n",
       "      <td>NaN</td>\n",
       "      <td>1</td>\n",
       "      <td>AGRICOLA</td>\n",
       "      <td>fortalecer la cadena productiva de café plátan...</td>\n",
       "      <td>CAFE</td>\n",
       "    </tr>\n",
       "    <tr>\n",
       "      <th>4</th>\n",
       "      <td>24</td>\n",
       "      <td>24</td>\n",
       "      <td>25</td>\n",
       "      <td>25</td>\n",
       "      <td>Fortalecimiento de la productividad del cultiv...</td>\n",
       "      <td>META</td>\n",
       "      <td>LA MACARENA</td>\n",
       "      <td>28</td>\n",
       "      <td>16</td>\n",
       "      <td>12</td>\n",
       "      <td>...</td>\n",
       "      <td>296570000</td>\n",
       "      <td>93</td>\n",
       "      <td>1401</td>\n",
       "      <td>09/19/2017 12:00:00 AM</td>\n",
       "      <td>2017</td>\n",
       "      <td>NaN</td>\n",
       "      <td>1</td>\n",
       "      <td>AGRICOLA</td>\n",
       "      <td>fortalecimiento de la productividad del cultiv...</td>\n",
       "      <td>CAUCHO</td>\n",
       "    </tr>\n",
       "    <tr>\n",
       "      <th>5</th>\n",
       "      <td>30</td>\n",
       "      <td>30</td>\n",
       "      <td>31</td>\n",
       "      <td>31</td>\n",
       "      <td>Mejorar las capacidades productivas del cultiv...</td>\n",
       "      <td>CAUCA</td>\n",
       "      <td>CALDONO</td>\n",
       "      <td>51</td>\n",
       "      <td>40</td>\n",
       "      <td>11</td>\n",
       "      <td>...</td>\n",
       "      <td>600939000</td>\n",
       "      <td>51</td>\n",
       "      <td>1438</td>\n",
       "      <td>10/06/2017 12:00:00 AM</td>\n",
       "      <td>2017</td>\n",
       "      <td>NaN</td>\n",
       "      <td>1</td>\n",
       "      <td>AGRICOLA</td>\n",
       "      <td>mejorar las capacidades productivas del cultiv...</td>\n",
       "      <td>CAFE</td>\n",
       "    </tr>\n",
       "  </tbody>\n",
       "</table>\n",
       "<p>5 rows × 25 columns</p>\n",
       "</div>"
      ],
      "text/plain": [
       "   Unnamed: 0  Unnamed: 0.1  BP  No. VP  \\\n",
       "0           5             5   6       6   \n",
       "1          16            16  17      17   \n",
       "3          22            22  23      23   \n",
       "4          24            24  25      25   \n",
       "5          30            30  31      31   \n",
       "\n",
       "                                     Nombre Proyecto Departamento  \\\n",
       "0  Mejorar las capacidades técnicas de adecuación...        CHOCO   \n",
       "1  Fortalecer la capacidad productiva y manejo de...         META   \n",
       "3  Fortalecer la cadena productiva de café y plát...    ANTIOQUIA   \n",
       "4  Fortalecimiento de la productividad del cultiv...         META   \n",
       "5  Mejorar las capacidades productivas del cultiv...        CAUCA   \n",
       "\n",
       "           Municipio  Total beneficiarios  Hombres  Mujeres  ...  \\\n",
       "0  CARMEN DEL DARIÉN                   35       30        5  ...   \n",
       "1            MESETAS                   40       31        9  ...   \n",
       "3            DABEIBA                   25       20        5  ...   \n",
       "4        LA MACARENA                   28       16       12  ...   \n",
       "5            CALDONO                   51       40       11  ...   \n",
       "\n",
       "   Valor total proyecto  Hectáreas Resolución        Fecha resolución  \\\n",
       "0             763500000        100       1219  06/29/2017 12:00:00 AM   \n",
       "1             606600000         40       1250  07/12/2017 12:00:00 AM   \n",
       "3             756513250         69       1351  08/28/2017 12:00:00 AM   \n",
       "4             296570000         93       1401  09/19/2017 12:00:00 AM   \n",
       "5             600939000         51       1438  10/06/2017 12:00:00 AM   \n",
       "\n",
       "   Vigencia  Lineamiento de consejo directivo  AP_ID_ADR  \\\n",
       "0      2017                               NaN          1   \n",
       "1      2017                               NaN          1   \n",
       "3      2017                               NaN          1   \n",
       "4      2017                               NaN          1   \n",
       "5      2017                               NaN          1   \n",
       "\n",
       "   AP_CADENA_PRODUCTIVA_ADR  \\\n",
       "0                  AGRICOLA   \n",
       "1                  AGRICOLA   \n",
       "3                  AGRICOLA   \n",
       "4                  AGRICOLA   \n",
       "5                  AGRICOLA   \n",
       "\n",
       "                                              TITULO  CADENA_PRODUCTIVA_ADR  \n",
       "0  mejorar las capacidades técnicas de adecuación...                PLATANO  \n",
       "1  fortalecer la capacidad productiva manejo de p...                   CAFE  \n",
       "3  fortalecer la cadena productiva de café plátan...                   CAFE  \n",
       "4  fortalecimiento de la productividad del cultiv...                 CAUCHO  \n",
       "5  mejorar las capacidades productivas del cultiv...                   CAFE  \n",
       "\n",
       "[5 rows x 25 columns]"
      ]
     },
     "execution_count": 22,
     "metadata": {},
     "output_type": "execute_result"
    }
   ],
   "source": [
    "new_df_PIDAR.head()"
   ]
  },
  {
   "cell_type": "code",
   "execution_count": 26,
   "metadata": {},
   "outputs": [
    {
     "data": {
      "text/html": [
       "<div>\n",
       "<style scoped>\n",
       "    .dataframe tbody tr th:only-of-type {\n",
       "        vertical-align: middle;\n",
       "    }\n",
       "\n",
       "    .dataframe tbody tr th {\n",
       "        vertical-align: top;\n",
       "    }\n",
       "\n",
       "    .dataframe thead th {\n",
       "        text-align: right;\n",
       "    }\n",
       "</style>\n",
       "<table border=\"1\" class=\"dataframe\">\n",
       "  <thead>\n",
       "    <tr style=\"text-align: right;\">\n",
       "      <th></th>\n",
       "      <th>COD_DEP</th>\n",
       "      <th>DEPARTAMENTO</th>\n",
       "      <th>COD_MUN</th>\n",
       "      <th>MUNICIPIO</th>\n",
       "      <th>GRUP_CULTIVO</th>\n",
       "      <th>SUBGRUP_CULTIVO</th>\n",
       "      <th>CULTIVO</th>\n",
       "      <th>DESAGREGACION_SIST_PRODUCTIVO</th>\n",
       "      <th>YEAR</th>\n",
       "      <th>PERIODO</th>\n",
       "      <th>AREA_SEMBR</th>\n",
       "      <th>AREA_COSECH</th>\n",
       "      <th>PRODUCCION</th>\n",
       "      <th>RENDIMIENTO</th>\n",
       "      <th>ESTADO_PRODUCCION</th>\n",
       "      <th>NOMBRE_CIENTI</th>\n",
       "      <th>CICLO_CULTIVO</th>\n",
       "      <th>CADENA_PRODUCTIVA_ADR</th>\n",
       "      <th>NIVEL</th>\n",
       "      <th>ID_ADR</th>\n",
       "    </tr>\n",
       "  </thead>\n",
       "  <tbody>\n",
       "    <tr>\n",
       "      <th>0</th>\n",
       "      <td>15</td>\n",
       "      <td>BOYACA</td>\n",
       "      <td>15114</td>\n",
       "      <td>BUSBANZA</td>\n",
       "      <td>HORTALIZAS</td>\n",
       "      <td>ACELGA</td>\n",
       "      <td>ACELGA</td>\n",
       "      <td>ACELGA</td>\n",
       "      <td>2006</td>\n",
       "      <td>2006B</td>\n",
       "      <td>2</td>\n",
       "      <td>1</td>\n",
       "      <td>1</td>\n",
       "      <td>1.00</td>\n",
       "      <td>FRUTO FRESCO</td>\n",
       "      <td>BETA VULGARIS</td>\n",
       "      <td>TRANSITORIO</td>\n",
       "      <td>ACELGA</td>\n",
       "      <td>3</td>\n",
       "      <td>10807</td>\n",
       "    </tr>\n",
       "    <tr>\n",
       "      <th>1</th>\n",
       "      <td>25</td>\n",
       "      <td>CUNDINAMARCA</td>\n",
       "      <td>25754</td>\n",
       "      <td>SOACHA</td>\n",
       "      <td>HORTALIZAS</td>\n",
       "      <td>ACELGA</td>\n",
       "      <td>ACELGA</td>\n",
       "      <td>ACELGA</td>\n",
       "      <td>2006</td>\n",
       "      <td>2006B</td>\n",
       "      <td>82</td>\n",
       "      <td>80</td>\n",
       "      <td>1440</td>\n",
       "      <td>18.00</td>\n",
       "      <td>FRUTO FRESCO</td>\n",
       "      <td>BETA VULGARIS</td>\n",
       "      <td>TRANSITORIO</td>\n",
       "      <td>ACELGA</td>\n",
       "      <td>3</td>\n",
       "      <td>10807</td>\n",
       "    </tr>\n",
       "    <tr>\n",
       "      <th>2</th>\n",
       "      <td>25</td>\n",
       "      <td>CUNDINAMARCA</td>\n",
       "      <td>25214</td>\n",
       "      <td>COTA</td>\n",
       "      <td>HORTALIZAS</td>\n",
       "      <td>ACELGA</td>\n",
       "      <td>ACELGA</td>\n",
       "      <td>ACELGA</td>\n",
       "      <td>2006</td>\n",
       "      <td>2006B</td>\n",
       "      <td>2</td>\n",
       "      <td>2</td>\n",
       "      <td>26</td>\n",
       "      <td>17.33</td>\n",
       "      <td>FRUTO FRESCO</td>\n",
       "      <td>BETA VULGARIS</td>\n",
       "      <td>TRANSITORIO</td>\n",
       "      <td>ACELGA</td>\n",
       "      <td>3</td>\n",
       "      <td>10807</td>\n",
       "    </tr>\n",
       "    <tr>\n",
       "      <th>3</th>\n",
       "      <td>54</td>\n",
       "      <td>NORTE DE SANTANDER</td>\n",
       "      <td>54405</td>\n",
       "      <td>LOS PATIOS</td>\n",
       "      <td>HORTALIZAS</td>\n",
       "      <td>ACELGA</td>\n",
       "      <td>ACELGA</td>\n",
       "      <td>ACELGA</td>\n",
       "      <td>2006</td>\n",
       "      <td>2006B</td>\n",
       "      <td>3</td>\n",
       "      <td>3</td>\n",
       "      <td>48</td>\n",
       "      <td>16.00</td>\n",
       "      <td>FRUTO FRESCO</td>\n",
       "      <td>BETA VULGARIS</td>\n",
       "      <td>TRANSITORIO</td>\n",
       "      <td>ACELGA</td>\n",
       "      <td>3</td>\n",
       "      <td>10807</td>\n",
       "    </tr>\n",
       "    <tr>\n",
       "      <th>4</th>\n",
       "      <td>54</td>\n",
       "      <td>NORTE DE SANTANDER</td>\n",
       "      <td>54518</td>\n",
       "      <td>PAMPLONA</td>\n",
       "      <td>HORTALIZAS</td>\n",
       "      <td>ACELGA</td>\n",
       "      <td>ACELGA</td>\n",
       "      <td>ACELGA</td>\n",
       "      <td>2006</td>\n",
       "      <td>2006B</td>\n",
       "      <td>1</td>\n",
       "      <td>1</td>\n",
       "      <td>5</td>\n",
       "      <td>10.00</td>\n",
       "      <td>FRUTO FRESCO</td>\n",
       "      <td>BETA VULGARIS</td>\n",
       "      <td>TRANSITORIO</td>\n",
       "      <td>ACELGA</td>\n",
       "      <td>3</td>\n",
       "      <td>10807</td>\n",
       "    </tr>\n",
       "  </tbody>\n",
       "</table>\n",
       "</div>"
      ],
      "text/plain": [
       "   COD_DEP        DEPARTAMENTO  COD_MUN   MUNICIPIO GRUP_CULTIVO  \\\n",
       "0       15              BOYACA    15114    BUSBANZA   HORTALIZAS   \n",
       "1       25        CUNDINAMARCA    25754      SOACHA   HORTALIZAS   \n",
       "2       25        CUNDINAMARCA    25214        COTA   HORTALIZAS   \n",
       "3       54  NORTE DE SANTANDER    54405  LOS PATIOS   HORTALIZAS   \n",
       "4       54  NORTE DE SANTANDER    54518    PAMPLONA   HORTALIZAS   \n",
       "\n",
       "  SUBGRUP_CULTIVO CULTIVO DESAGREGACION_SIST_PRODUCTIVO  YEAR PERIODO  \\\n",
       "0          ACELGA  ACELGA                        ACELGA  2006   2006B   \n",
       "1          ACELGA  ACELGA                        ACELGA  2006   2006B   \n",
       "2          ACELGA  ACELGA                        ACELGA  2006   2006B   \n",
       "3          ACELGA  ACELGA                        ACELGA  2006   2006B   \n",
       "4          ACELGA  ACELGA                        ACELGA  2006   2006B   \n",
       "\n",
       "   AREA_SEMBR  AREA_COSECH  PRODUCCION  RENDIMIENTO ESTADO_PRODUCCION  \\\n",
       "0           2            1           1         1.00      FRUTO FRESCO   \n",
       "1          82           80        1440        18.00      FRUTO FRESCO   \n",
       "2           2            2          26        17.33      FRUTO FRESCO   \n",
       "3           3            3          48        16.00      FRUTO FRESCO   \n",
       "4           1            1           5        10.00      FRUTO FRESCO   \n",
       "\n",
       "   NOMBRE_CIENTI CICLO_CULTIVO CADENA_PRODUCTIVA_ADR  NIVEL  ID_ADR  \n",
       "0  BETA VULGARIS   TRANSITORIO                ACELGA      3   10807  \n",
       "1  BETA VULGARIS   TRANSITORIO                ACELGA      3   10807  \n",
       "2  BETA VULGARIS   TRANSITORIO                ACELGA      3   10807  \n",
       "3  BETA VULGARIS   TRANSITORIO                ACELGA      3   10807  \n",
       "4  BETA VULGARIS   TRANSITORIO                ACELGA      3   10807  "
      ]
     },
     "execution_count": 26,
     "metadata": {},
     "output_type": "execute_result"
    }
   ],
   "source": [
    "EVA.head()"
   ]
  },
  {
   "cell_type": "code",
   "execution_count": null,
   "metadata": {},
   "outputs": [],
   "source": [
    "'AREA_SEMBR','AREA_COSECH','PRODUCCION','RENDIMIENTO','CICLO_CULTIVO'"
   ]
  },
  {
   "cell_type": "code",
   "execution_count": 39,
   "metadata": {},
   "outputs": [
    {
     "data": {
      "text/html": [
       "<div>\n",
       "<style scoped>\n",
       "    .dataframe tbody tr th:only-of-type {\n",
       "        vertical-align: middle;\n",
       "    }\n",
       "\n",
       "    .dataframe tbody tr th {\n",
       "        vertical-align: top;\n",
       "    }\n",
       "\n",
       "    .dataframe thead th {\n",
       "        text-align: right;\n",
       "    }\n",
       "</style>\n",
       "<table border=\"1\" class=\"dataframe\">\n",
       "  <thead>\n",
       "    <tr style=\"text-align: right;\">\n",
       "      <th></th>\n",
       "      <th>Departamento</th>\n",
       "      <th>CADENA_PRODUCTIVA_ADR</th>\n",
       "      <th>AREA_SEMBR</th>\n",
       "      <th>AREA_COSECH</th>\n",
       "      <th>PRODUCCION</th>\n",
       "      <th>RENDIMIENTO</th>\n",
       "    </tr>\n",
       "  </thead>\n",
       "  <tbody>\n",
       "    <tr>\n",
       "      <th>0</th>\n",
       "      <td>AMAZONAS</td>\n",
       "      <td>ACHICORIA</td>\n",
       "      <td>4.000000</td>\n",
       "      <td>4.000000</td>\n",
       "      <td>4.000000</td>\n",
       "      <td>1.000000</td>\n",
       "    </tr>\n",
       "    <tr>\n",
       "      <th>1</th>\n",
       "      <td>AMAZONAS</td>\n",
       "      <td>AGUACATE</td>\n",
       "      <td>21.875000</td>\n",
       "      <td>14.125000</td>\n",
       "      <td>84.125000</td>\n",
       "      <td>5.752500</td>\n",
       "    </tr>\n",
       "    <tr>\n",
       "      <th>2</th>\n",
       "      <td>AMAZONAS</td>\n",
       "      <td>AGUAJE</td>\n",
       "      <td>25.611111</td>\n",
       "      <td>18.666667</td>\n",
       "      <td>234.833333</td>\n",
       "      <td>11.279444</td>\n",
       "    </tr>\n",
       "    <tr>\n",
       "      <th>3</th>\n",
       "      <td>AMAZONAS</td>\n",
       "      <td>AHUYAMA</td>\n",
       "      <td>11.333333</td>\n",
       "      <td>11.333333</td>\n",
       "      <td>43.000000</td>\n",
       "      <td>3.793333</td>\n",
       "    </tr>\n",
       "    <tr>\n",
       "      <th>4</th>\n",
       "      <td>AMAZONAS</td>\n",
       "      <td>AJI</td>\n",
       "      <td>9.294118</td>\n",
       "      <td>8.558824</td>\n",
       "      <td>6.500000</td>\n",
       "      <td>0.807059</td>\n",
       "    </tr>\n",
       "  </tbody>\n",
       "</table>\n",
       "</div>"
      ],
      "text/plain": [
       "  Departamento CADENA_PRODUCTIVA_ADR  AREA_SEMBR  AREA_COSECH  PRODUCCION  \\\n",
       "0     AMAZONAS             ACHICORIA    4.000000     4.000000    4.000000   \n",
       "1     AMAZONAS              AGUACATE   21.875000    14.125000   84.125000   \n",
       "2     AMAZONAS                AGUAJE   25.611111    18.666667  234.833333   \n",
       "3     AMAZONAS               AHUYAMA   11.333333    11.333333   43.000000   \n",
       "4     AMAZONAS                   AJI    9.294118     8.558824    6.500000   \n",
       "\n",
       "   RENDIMIENTO  \n",
       "0     1.000000  \n",
       "1     5.752500  \n",
       "2    11.279444  \n",
       "3     3.793333  \n",
       "4     0.807059  "
      ]
     },
     "execution_count": 39,
     "metadata": {},
     "output_type": "execute_result"
    }
   ],
   "source": [
    "EVA2 = EVA.groupby(['DEPARTAMENTO','CADENA_PRODUCTIVA_ADR'])[['AREA_SEMBR','AREA_COSECH','PRODUCCION','RENDIMIENTO']].mean().reset_index()\n",
    "EVA2.columns = ['Departamento','CADENA_PRODUCTIVA_ADR','AREA_SEMBR','AREA_COSECH','PRODUCCION','RENDIMIENTO']\n",
    "EVA2.head()"
   ]
  },
  {
   "cell_type": "code",
   "execution_count": 47,
   "metadata": {},
   "outputs": [
    {
     "data": {
      "text/html": [
       "<div>\n",
       "<style scoped>\n",
       "    .dataframe tbody tr th:only-of-type {\n",
       "        vertical-align: middle;\n",
       "    }\n",
       "\n",
       "    .dataframe tbody tr th {\n",
       "        vertical-align: top;\n",
       "    }\n",
       "\n",
       "    .dataframe thead th {\n",
       "        text-align: right;\n",
       "    }\n",
       "</style>\n",
       "<table border=\"1\" class=\"dataframe\">\n",
       "  <thead>\n",
       "    <tr style=\"text-align: right;\">\n",
       "      <th></th>\n",
       "      <th>Unnamed: 0</th>\n",
       "      <th>Unnamed: 0.1</th>\n",
       "      <th>BP</th>\n",
       "      <th>No. VP</th>\n",
       "      <th>Nombre Proyecto</th>\n",
       "      <th>Departamento</th>\n",
       "      <th>Municipio</th>\n",
       "      <th>Total beneficiarios</th>\n",
       "      <th>Hombres</th>\n",
       "      <th>Mujeres</th>\n",
       "      <th>...</th>\n",
       "      <th>Vigencia</th>\n",
       "      <th>Lineamiento de consejo directivo</th>\n",
       "      <th>AP_ID_ADR</th>\n",
       "      <th>AP_CADENA_PRODUCTIVA_ADR</th>\n",
       "      <th>TITULO</th>\n",
       "      <th>CADENA_PRODUCTIVA_ADR</th>\n",
       "      <th>AREA_SEMBR</th>\n",
       "      <th>AREA_COSECH</th>\n",
       "      <th>PRODUCCION</th>\n",
       "      <th>RENDIMIENTO</th>\n",
       "    </tr>\n",
       "  </thead>\n",
       "  <tbody>\n",
       "    <tr>\n",
       "      <th>0</th>\n",
       "      <td>5</td>\n",
       "      <td>5</td>\n",
       "      <td>6</td>\n",
       "      <td>6</td>\n",
       "      <td>Mejorar las capacidades técnicas de adecuación...</td>\n",
       "      <td>CHOCO</td>\n",
       "      <td>CARMEN DEL DARIÉN</td>\n",
       "      <td>35</td>\n",
       "      <td>30</td>\n",
       "      <td>5</td>\n",
       "      <td>...</td>\n",
       "      <td>2017</td>\n",
       "      <td>NaN</td>\n",
       "      <td>1</td>\n",
       "      <td>AGRICOLA</td>\n",
       "      <td>mejorar las capacidades técnicas de adecuación...</td>\n",
       "      <td>PLATANO</td>\n",
       "      <td>739.367403</td>\n",
       "      <td>616.287293</td>\n",
       "      <td>5346.646409</td>\n",
       "      <td>6.472403</td>\n",
       "    </tr>\n",
       "    <tr>\n",
       "      <th>1</th>\n",
       "      <td>16</td>\n",
       "      <td>16</td>\n",
       "      <td>17</td>\n",
       "      <td>17</td>\n",
       "      <td>Fortalecer la capacidad productiva y manejo de...</td>\n",
       "      <td>META</td>\n",
       "      <td>MESETAS</td>\n",
       "      <td>40</td>\n",
       "      <td>31</td>\n",
       "      <td>9</td>\n",
       "      <td>...</td>\n",
       "      <td>2017</td>\n",
       "      <td>NaN</td>\n",
       "      <td>1</td>\n",
       "      <td>AGRICOLA</td>\n",
       "      <td>fortalecer la capacidad productiva manejo de p...</td>\n",
       "      <td>CAFE</td>\n",
       "      <td>239.132075</td>\n",
       "      <td>194.056604</td>\n",
       "      <td>187.836478</td>\n",
       "      <td>0.845419</td>\n",
       "    </tr>\n",
       "    <tr>\n",
       "      <th>2</th>\n",
       "      <td>22</td>\n",
       "      <td>22</td>\n",
       "      <td>23</td>\n",
       "      <td>23</td>\n",
       "      <td>Fortalecer la cadena productiva de café y plát...</td>\n",
       "      <td>ANTIOQUIA</td>\n",
       "      <td>DABEIBA</td>\n",
       "      <td>25</td>\n",
       "      <td>20</td>\n",
       "      <td>5</td>\n",
       "      <td>...</td>\n",
       "      <td>2017</td>\n",
       "      <td>NaN</td>\n",
       "      <td>1</td>\n",
       "      <td>AGRICOLA</td>\n",
       "      <td>fortalecer la cadena productiva de café plátan...</td>\n",
       "      <td>CAFE</td>\n",
       "      <td>1424.058235</td>\n",
       "      <td>1184.952684</td>\n",
       "      <td>1276.032757</td>\n",
       "      <td>0.996113</td>\n",
       "    </tr>\n",
       "    <tr>\n",
       "      <th>3</th>\n",
       "      <td>24</td>\n",
       "      <td>24</td>\n",
       "      <td>25</td>\n",
       "      <td>25</td>\n",
       "      <td>Fortalecimiento de la productividad del cultiv...</td>\n",
       "      <td>META</td>\n",
       "      <td>LA MACARENA</td>\n",
       "      <td>28</td>\n",
       "      <td>16</td>\n",
       "      <td>12</td>\n",
       "      <td>...</td>\n",
       "      <td>2017</td>\n",
       "      <td>NaN</td>\n",
       "      <td>1</td>\n",
       "      <td>AGRICOLA</td>\n",
       "      <td>fortalecimiento de la productividad del cultiv...</td>\n",
       "      <td>CAUCHO</td>\n",
       "      <td>780.493151</td>\n",
       "      <td>80.100457</td>\n",
       "      <td>126.735160</td>\n",
       "      <td>1.576149</td>\n",
       "    </tr>\n",
       "    <tr>\n",
       "      <th>4</th>\n",
       "      <td>30</td>\n",
       "      <td>30</td>\n",
       "      <td>31</td>\n",
       "      <td>31</td>\n",
       "      <td>Mejorar las capacidades productivas del cultiv...</td>\n",
       "      <td>CAUCA</td>\n",
       "      <td>CALDONO</td>\n",
       "      <td>51</td>\n",
       "      <td>40</td>\n",
       "      <td>11</td>\n",
       "      <td>...</td>\n",
       "      <td>2017</td>\n",
       "      <td>NaN</td>\n",
       "      <td>1</td>\n",
       "      <td>AGRICOLA</td>\n",
       "      <td>mejorar las capacidades productivas del cultiv...</td>\n",
       "      <td>CAFE</td>\n",
       "      <td>2590.627297</td>\n",
       "      <td>2108.002625</td>\n",
       "      <td>2034.099738</td>\n",
       "      <td>0.898184</td>\n",
       "    </tr>\n",
       "  </tbody>\n",
       "</table>\n",
       "<p>5 rows × 29 columns</p>\n",
       "</div>"
      ],
      "text/plain": [
       "   Unnamed: 0  Unnamed: 0.1  BP  No. VP  \\\n",
       "0           5             5   6       6   \n",
       "1          16            16  17      17   \n",
       "2          22            22  23      23   \n",
       "3          24            24  25      25   \n",
       "4          30            30  31      31   \n",
       "\n",
       "                                     Nombre Proyecto Departamento  \\\n",
       "0  Mejorar las capacidades técnicas de adecuación...        CHOCO   \n",
       "1  Fortalecer la capacidad productiva y manejo de...         META   \n",
       "2  Fortalecer la cadena productiva de café y plát...    ANTIOQUIA   \n",
       "3  Fortalecimiento de la productividad del cultiv...         META   \n",
       "4  Mejorar las capacidades productivas del cultiv...        CAUCA   \n",
       "\n",
       "           Municipio  Total beneficiarios  Hombres  Mujeres  ...  Vigencia  \\\n",
       "0  CARMEN DEL DARIÉN                   35       30        5  ...      2017   \n",
       "1            MESETAS                   40       31        9  ...      2017   \n",
       "2            DABEIBA                   25       20        5  ...      2017   \n",
       "3        LA MACARENA                   28       16       12  ...      2017   \n",
       "4            CALDONO                   51       40       11  ...      2017   \n",
       "\n",
       "   Lineamiento de consejo directivo AP_ID_ADR  AP_CADENA_PRODUCTIVA_ADR  \\\n",
       "0                               NaN         1                  AGRICOLA   \n",
       "1                               NaN         1                  AGRICOLA   \n",
       "2                               NaN         1                  AGRICOLA   \n",
       "3                               NaN         1                  AGRICOLA   \n",
       "4                               NaN         1                  AGRICOLA   \n",
       "\n",
       "                                              TITULO  CADENA_PRODUCTIVA_ADR  \\\n",
       "0  mejorar las capacidades técnicas de adecuación...                PLATANO   \n",
       "1  fortalecer la capacidad productiva manejo de p...                   CAFE   \n",
       "2  fortalecer la cadena productiva de café plátan...                   CAFE   \n",
       "3  fortalecimiento de la productividad del cultiv...                 CAUCHO   \n",
       "4  mejorar las capacidades productivas del cultiv...                   CAFE   \n",
       "\n",
       "    AREA_SEMBR  AREA_COSECH   PRODUCCION  RENDIMIENTO  \n",
       "0   739.367403   616.287293  5346.646409     6.472403  \n",
       "1   239.132075   194.056604   187.836478     0.845419  \n",
       "2  1424.058235  1184.952684  1276.032757     0.996113  \n",
       "3   780.493151    80.100457   126.735160     1.576149  \n",
       "4  2590.627297  2108.002625  2034.099738     0.898184  \n",
       "\n",
       "[5 rows x 29 columns]"
      ]
     },
     "execution_count": 47,
     "metadata": {},
     "output_type": "execute_result"
    }
   ],
   "source": [
    "PRUEBA = pd.merge(new_df_PIDAR, EVA2, on = ['CADENA_PRODUCTIVA_ADR','Departamento'],how='left')\n",
    "PRUEBA.head()"
   ]
  },
  {
   "cell_type": "code",
   "execution_count": 48,
   "metadata": {},
   "outputs": [
    {
     "data": {
      "text/plain": [
       "83"
      ]
     },
     "execution_count": 48,
     "metadata": {},
     "output_type": "execute_result"
    }
   ],
   "source": [
    "len(PRUEBA)"
   ]
  },
  {
   "cell_type": "code",
   "execution_count": 49,
   "metadata": {},
   "outputs": [
    {
     "data": {
      "text/plain": [
       "83"
      ]
     },
     "execution_count": 49,
     "metadata": {},
     "output_type": "execute_result"
    }
   ],
   "source": [
    "len(new_df_PIDAR)"
   ]
  },
  {
   "cell_type": "code",
   "execution_count": 52,
   "metadata": {},
   "outputs": [
    {
     "data": {
      "text/plain": [
       "Index(['Unnamed: 0', 'Unnamed: 0.1', 'BP', 'No. VP', 'Nombre Proyecto',\n",
       "       'Departamento', 'Municipio', 'Total beneficiarios', 'Hombres',\n",
       "       'Mujeres', 'Total Víctimas', 'Valor cofinanciado ADR',\n",
       "       'Valor encargo fiduciario', 'Valor total cofinanciación ADR',\n",
       "       'Valor Contrapartida', 'Valor total proyecto', 'Hectáreas',\n",
       "       'Resolución', 'Fecha resolución', 'Vigencia',\n",
       "       'Lineamiento de consejo directivo', 'AP_ID_ADR',\n",
       "       'AP_CADENA_PRODUCTIVA_ADR', 'TITULO', 'CADENA_PRODUCTIVA_ADR',\n",
       "       'AREA_SEMBR', 'AREA_COSECH', 'PRODUCCION', 'RENDIMIENTO'],\n",
       "      dtype='object')"
      ]
     },
     "execution_count": 52,
     "metadata": {},
     "output_type": "execute_result"
    }
   ],
   "source": [
    "PRUEBA.columns"
   ]
  },
  {
   "cell_type": "code",
   "execution_count": 84,
   "metadata": {},
   "outputs": [
    {
     "data": {
      "application/vnd.plotly.v1+json": {
       "config": {
        "plotlyServerURL": "https://plot.ly"
       },
       "data": [
        {
         "customdata": [
          [
           6,
           "CHOCO",
           2017
          ],
          [
           44,
           "CHOCO",
           2017
          ],
          [
           44,
           "CHOCO",
           2017
          ],
          [
           77,
           "CHOCO",
           2017
          ],
          [
           77,
           "CHOCO",
           2017
          ],
          [
           100,
           "CORDOBA",
           2017
          ],
          [
           124,
           "BOLIVAR",
           2017
          ],
          [
           136,
           "CHOCO",
           2017
          ],
          [
           136,
           "CHOCO",
           2017
          ],
          [
           140,
           "CHOCO",
           2017
          ],
          [
           140,
           "CHOCO",
           2017
          ],
          [
           143,
           "CORDOBA",
           2017
          ],
          [
           150,
           "BOLÍVAR",
           2018
          ],
          [
           156,
           "META",
           2017
          ],
          [
           156,
           "META",
           2017
          ],
          [
           163,
           "CHOCO",
           2017
          ],
          [
           354,
           "CORDOBA",
           2019
          ],
          [
           252,
           "NORTE DE SANTANDER",
           2017
          ],
          [
           278,
           "NORTE DE SANTANDER",
           2017
          ],
          [
           719,
           "VICHADA",
           2019
          ],
          [
           719,
           "VICHADA",
           2019
          ],
          [
           744,
           "CALDAS",
           2019
          ]
         ],
         "hovertemplate": "CADENA_PRODUCTIVA_ADR=PLATANO<br>RENDIMIENTO=%{x}<br>Valor total cofinanciación ADR=%{y}<br>Total beneficiarios=%{marker.size}<br>BP=%{customdata[0]}<br>Departamento=%{customdata[1]}<br>Vigencia=%{customdata[2]}<extra></extra>",
         "legendgroup": "PLATANO",
         "marker": {
          "color": "#636efa",
          "size": [
           35,
           73,
           73,
           72,
           72,
           66,
           200,
           127,
           127,
           124,
           124,
           93,
           94,
           87,
           87,
           40,
           79,
           54,
           39,
           150,
           150,
           48
          ],
          "sizemode": "area",
          "sizeref": 0.8825,
          "symbol": "circle"
         },
         "mode": "markers",
         "name": "PLATANO",
         "orientation": "v",
         "showlegend": true,
         "type": "scatter",
         "x": [
          6.472403314917125,
          6.472403314917125,
          6.472403314917125,
          6.472403314917125,
          6.472403314917125,
          7.946690140845069,
          6.463360215053763,
          6.472403314917125,
          6.472403314917125,
          6.472403314917125,
          6.472403314917125,
          7.946690140845069,
          null,
          15.052385321100918,
          15.052385321100918,
          6.472403314917125,
          7.946690140845069,
          6.617921052631577,
          6.617921052631577,
          5.719791666666666,
          5.719791666666666,
          11.266837349397584
         ],
         "xaxis": "x",
         "y": [
          250000000,
          346452142,
          346452142,
          278014950,
          278014950,
          999993000,
          2000000000,
          336281247,
          336281247,
          418498400,
          418498400,
          1000000000,
          977966000,
          906940020,
          906940020,
          729547396,
          997569966,
          373952000,
          345194000,
          1713390566,
          1713390566,
          291926566
         ],
         "yaxis": "y"
        },
        {
         "customdata": [
          [
           17,
           "META",
           2017
          ],
          [
           23,
           "ANTIOQUIA",
           2017
          ],
          [
           31,
           "CAUCA",
           2017
          ],
          [
           80,
           "CALDAS",
           2016
          ],
          [
           94,
           "NARIÑO",
           2016
          ],
          [
           108,
           "HUILA",
           2017
          ],
          [
           114,
           "HUILA",
           2017
          ],
          [
           117,
           "HUILA",
           2017
          ],
          [
           129,
           "HUILA",
           2017
          ],
          [
           129,
           "HUILA",
           2017
          ],
          [
           142,
           "HUILA",
           2017
          ],
          [
           147,
           "TOLIMA",
           2017
          ],
          [
           147,
           "TOLIMA",
           2017
          ],
          [
           151,
           "HUILA",
           2017
          ],
          [
           552,
           "HUILA",
           2017
          ],
          [
           167,
           "LA_GUAJIRA",
           2017
          ],
          [
           307,
           "HUILA",
           2017
          ]
         ],
         "hovertemplate": "CADENA_PRODUCTIVA_ADR=CAFE<br>RENDIMIENTO=%{x}<br>Valor total cofinanciación ADR=%{y}<br>Total beneficiarios=%{marker.size}<br>BP=%{customdata[0]}<br>Departamento=%{customdata[1]}<br>Vigencia=%{customdata[2]}<extra></extra>",
         "legendgroup": "CAFE",
         "marker": {
          "color": "#EF553B",
          "size": [
           40,
           25,
           51,
           50,
           40,
           27,
           35,
           41,
           70,
           70,
           53,
           30,
           30,
           55,
           45,
           19,
           60
          ],
          "sizemode": "area",
          "sizeref": 0.8825,
          "symbol": "circle"
         },
         "mode": "markers",
         "name": "CAFE",
         "orientation": "v",
         "showlegend": true,
         "type": "scatter",
         "x": [
          0.8454193548387097,
          0.9961131386861292,
          0.8981842105263145,
          1.1509666666666671,
          null,
          1.1607857142857163,
          1.1607857142857163,
          1.1607857142857163,
          1.1607857142857163,
          1.1607857142857163,
          1.1607857142857163,
          0.9529046563192901,
          0.9529046563192901,
          1.1607857142857163,
          1.1607857142857163,
          null,
          1.1607857142857163
         ],
         "xaxis": "x",
         "y": [
          500000000,
          401373250,
          501204000,
          500000000,
          434216599,
          353046000,
          362280400,
          412121840,
          232852000,
          232852000,
          375495000,
          200000000,
          200000000,
          392075000,
          320175000,
          284477000,
          500057000
         ],
         "yaxis": "y"
        },
        {
         "customdata": [
          [
           25,
           "META",
           2017
          ]
         ],
         "hovertemplate": "CADENA_PRODUCTIVA_ADR=CAUCHO<br>RENDIMIENTO=%{x}<br>Valor total cofinanciación ADR=%{y}<br>Total beneficiarios=%{marker.size}<br>BP=%{customdata[0]}<br>Departamento=%{customdata[1]}<br>Vigencia=%{customdata[2]}<extra></extra>",
         "legendgroup": "CAUCHO",
         "marker": {
          "color": "#00cc96",
          "size": [
           28
          ],
          "sizemode": "area",
          "sizeref": 0.8825,
          "symbol": "circle"
         },
         "mode": "markers",
         "name": "CAUCHO",
         "orientation": "v",
         "showlegend": true,
         "type": "scatter",
         "x": [
          1.5761490683229789
         ],
         "xaxis": "x",
         "y": [
          255000000
         ],
         "yaxis": "y"
        },
        {
         "customdata": [
          [
           48,
           "CAUCA",
           2016
          ],
          [
           48,
           "CAUCA",
           2016
          ],
          [
           48,
           "CAUCA",
           2016
          ],
          [
           66,
           "CAUCA",
           2016
          ],
          [
           66,
           "CAUCA",
           2016
          ],
          [
           123,
           "NARIÑO",
           2017
          ]
         ],
         "hovertemplate": "CADENA_PRODUCTIVA_ADR=TOMATE<br>RENDIMIENTO=%{x}<br>Valor total cofinanciación ADR=%{y}<br>Total beneficiarios=%{marker.size}<br>BP=%{customdata[0]}<br>Departamento=%{customdata[1]}<br>Vigencia=%{customdata[2]}<extra></extra>",
         "legendgroup": "TOMATE",
         "marker": {
          "color": "#ab63fa",
          "size": [
           20,
           20,
           20,
           16,
           16,
           62
          ],
          "sizemode": "area",
          "sizeref": 0.8825,
          "symbol": "circle"
         },
         "mode": "markers",
         "name": "TOMATE",
         "orientation": "v",
         "showlegend": true,
         "type": "scatter",
         "x": [
          33.21751811594203,
          33.21751811594203,
          33.21751811594203,
          33.21751811594203,
          33.21751811594203,
          null
         ],
         "xaxis": "x",
         "y": [
          197000000,
          197000000,
          197000000,
          410400000,
          410400000,
          1380752000
         ],
         "yaxis": "y"
        },
        {
         "customdata": [
          [
           49,
           "ATLANTICO",
           2017
          ]
         ],
         "hovertemplate": "CADENA_PRODUCTIVA_ADR=MANGO<br>RENDIMIENTO=%{x}<br>Valor total cofinanciación ADR=%{y}<br>Total beneficiarios=%{marker.size}<br>BP=%{customdata[0]}<br>Departamento=%{customdata[1]}<br>Vigencia=%{customdata[2]}<extra></extra>",
         "legendgroup": "MANGO",
         "marker": {
          "color": "#FFA15A",
          "size": [
           140
          ],
          "sizemode": "area",
          "sizeref": 0.8825,
          "symbol": "circle"
         },
         "mode": "markers",
         "name": "MANGO",
         "orientation": "v",
         "showlegend": true,
         "type": "scatter",
         "x": [
          13.72109004739337
         ],
         "xaxis": "x",
         "y": [
          1505613100
         ],
         "yaxis": "y"
        },
        {
         "customdata": [
          [
           68,
           "CHOCO",
           2017
          ],
          [
           132,
           "META",
           2017
          ],
          [
           165,
           "CHOCO",
           2017
          ],
          [
           378,
           "GUAINIA",
           2017
          ]
         ],
         "hovertemplate": "CADENA_PRODUCTIVA_ADR=CACAO<br>RENDIMIENTO=%{x}<br>Valor total cofinanciación ADR=%{y}<br>Total beneficiarios=%{marker.size}<br>BP=%{customdata[0]}<br>Departamento=%{customdata[1]}<br>Vigencia=%{customdata[2]}<extra></extra>",
         "legendgroup": "CACAO",
         "marker": {
          "color": "#19d3f3",
          "size": [
           300,
           148,
           30,
           90
          ],
          "sizemode": "area",
          "sizeref": 0.8825,
          "symbol": "circle"
         },
         "mode": "markers",
         "name": "CACAO",
         "orientation": "v",
         "showlegend": true,
         "type": "scatter",
         "x": [
          0.36718181818181755,
          0.5861224489795895,
          0.36718181818181755,
          0.3433333333333333
         ],
         "xaxis": "x",
         "y": [
          1500000000,
          1476660080,
          249869700,
          731834400
         ],
         "yaxis": "y"
        },
        {
         "customdata": [
          [
           90,
           "MAGDALENA",
           2017
          ]
         ],
         "hovertemplate": "CADENA_PRODUCTIVA_ADR=ÑAME<br>RENDIMIENTO=%{x}<br>Valor total cofinanciación ADR=%{y}<br>Total beneficiarios=%{marker.size}<br>BP=%{customdata[0]}<br>Departamento=%{customdata[1]}<br>Vigencia=%{customdata[2]}<extra></extra>",
         "legendgroup": "ÑAME",
         "marker": {
          "color": "#FF6692",
          "size": [
           160
          ],
          "sizemode": "area",
          "sizeref": 0.8825,
          "symbol": "circle"
         },
         "mode": "markers",
         "name": "ÑAME",
         "orientation": "v",
         "showlegend": true,
         "type": "scatter",
         "x": [
          7.466666666666667
         ],
         "xaxis": "x",
         "y": [
          1500000000
         ],
         "yaxis": "y"
        },
        {
         "customdata": [
          [
           102,
           "NARIÑO",
           2016
          ]
         ],
         "hovertemplate": "CADENA_PRODUCTIVA_ADR=MORA<br>RENDIMIENTO=%{x}<br>Valor total cofinanciación ADR=%{y}<br>Total beneficiarios=%{marker.size}<br>BP=%{customdata[0]}<br>Departamento=%{customdata[1]}<br>Vigencia=%{customdata[2]}<extra></extra>",
         "legendgroup": "MORA",
         "marker": {
          "color": "#B6E880",
          "size": [
           32
          ],
          "sizemode": "area",
          "sizeref": 0.8825,
          "symbol": "circle"
         },
         "mode": "markers",
         "name": "MORA",
         "orientation": "v",
         "showlegend": true,
         "type": "scatter",
         "x": [
          null
         ],
         "xaxis": "x",
         "y": [
          500000000
         ],
         "yaxis": "y"
        },
        {
         "customdata": [
          [
           693,
           "CALDAS",
           2016
          ],
          [
           118,
           "CALDAS",
           2017
          ],
          [
           131,
           "CUNDINAMARCA",
           2017
          ],
          [
           318,
           "CALDAS",
           2017
          ],
          [
           318,
           "CALDAS",
           2017
          ],
          [
           183,
           "ANTIOQUIA",
           2017
          ],
          [
           264,
           "BOYACA",
           2019
          ]
         ],
         "hovertemplate": "CADENA_PRODUCTIVA_ADR=AGUACATE<br>RENDIMIENTO=%{x}<br>Valor total cofinanciación ADR=%{y}<br>Total beneficiarios=%{marker.size}<br>BP=%{customdata[0]}<br>Departamento=%{customdata[1]}<br>Vigencia=%{customdata[2]}<extra></extra>",
         "legendgroup": "AGUACATE",
         "marker": {
          "color": "#FF97FF",
          "size": [
           291,
           156,
           170,
           353,
           353,
           20,
           241
          ],
          "sizemode": "area",
          "sizeref": 0.8825,
          "symbol": "circle"
         },
         "mode": "markers",
         "name": "AGUACATE",
         "orientation": "v",
         "showlegend": true,
         "type": "scatter",
         "x": [
          9.664391143911438,
          9.664391143911438,
          6.624626865671644,
          9.664391143911438,
          9.664391143911438,
          7.915741839762616,
          7.352641509433964
         ],
         "xaxis": "x",
         "y": [
          1499984371,
          1972185600,
          2479938287,
          999522000,
          999522000,
          530010000,
          1598290566
         ],
         "yaxis": "y"
        },
        {
         "customdata": [
          [
           119,
           "NARIÑO",
           2016
          ]
         ],
         "hovertemplate": "CADENA_PRODUCTIVA_ADR=GRANADILLA<br>RENDIMIENTO=%{x}<br>Valor total cofinanciación ADR=%{y}<br>Total beneficiarios=%{marker.size}<br>BP=%{customdata[0]}<br>Departamento=%{customdata[1]}<br>Vigencia=%{customdata[2]}<extra></extra>",
         "legendgroup": "GRANADILLA",
         "marker": {
          "color": "#FECB52",
          "size": [
           87
          ],
          "sizemode": "area",
          "sizeref": 0.8825,
          "symbol": "circle"
         },
         "mode": "markers",
         "name": "GRANADILLA",
         "orientation": "v",
         "showlegend": true,
         "type": "scatter",
         "x": [
          null
         ],
         "xaxis": "x",
         "y": [
          868027011
         ],
         "yaxis": "y"
        },
        {
         "customdata": [
          [
           133,
           "SANTANDER",
           2017
          ],
          [
           133,
           "SANTANDER",
           2017
          ]
         ],
         "hovertemplate": "CADENA_PRODUCTIVA_ADR=TANGELO<br>RENDIMIENTO=%{x}<br>Valor total cofinanciación ADR=%{y}<br>Total beneficiarios=%{marker.size}<br>BP=%{customdata[0]}<br>Departamento=%{customdata[1]}<br>Vigencia=%{customdata[2]}<extra></extra>",
         "legendgroup": "TANGELO",
         "marker": {
          "color": "#636efa",
          "size": [
           128,
           128
          ],
          "sizemode": "area",
          "sizeref": 0.8825,
          "symbol": "circle"
         },
         "mode": "markers",
         "name": "TANGELO",
         "orientation": "v",
         "showlegend": true,
         "type": "scatter",
         "x": [
          10.375,
          10.375
         ],
         "xaxis": "x",
         "y": [
          2000000000,
          2000000000
         ],
         "yaxis": "y"
        },
        {
         "customdata": [
          [
           144,
           "META",
           2017
          ]
         ],
         "hovertemplate": "CADENA_PRODUCTIVA_ADR=GUAYABA<br>RENDIMIENTO=%{x}<br>Valor total cofinanciación ADR=%{y}<br>Total beneficiarios=%{marker.size}<br>BP=%{customdata[0]}<br>Departamento=%{customdata[1]}<br>Vigencia=%{customdata[2]}<extra></extra>",
         "legendgroup": "GUAYABA",
         "marker": {
          "color": "#EF553B",
          "size": [
           92
          ],
          "sizemode": "area",
          "sizeref": 0.8825,
          "symbol": "circle"
         },
         "mode": "markers",
         "name": "GUAYABA",
         "orientation": "v",
         "showlegend": true,
         "type": "scatter",
         "x": [
          14.598333333333331
         ],
         "xaxis": "x",
         "y": [
          669701000
         ],
         "yaxis": "y"
        },
        {
         "customdata": [
          [
           148,
           "BOLIVAR",
           2017
          ],
          [
           157,
           "BOLIVAR",
           2017
          ],
          [
           157,
           "BOLIVAR",
           2017
          ],
          [
           168,
           "VALLE DEL CAUCA",
           2018
          ]
         ],
         "hovertemplate": "CADENA_PRODUCTIVA_ADR=MAIZ<br>RENDIMIENTO=%{x}<br>Valor total cofinanciación ADR=%{y}<br>Total beneficiarios=%{marker.size}<br>BP=%{customdata[0]}<br>Departamento=%{customdata[1]}<br>Vigencia=%{customdata[2]}<extra></extra>",
         "legendgroup": "MAIZ",
         "marker": {
          "color": "#00cc96",
          "size": [
           205,
           133,
           133,
           151
          ],
          "sizemode": "area",
          "sizeref": 0.8825,
          "symbol": "circle"
         },
         "mode": "markers",
         "name": "MAIZ",
         "orientation": "v",
         "showlegend": true,
         "type": "scatter",
         "x": [
          1.5274977497749782,
          1.5274977497749782,
          1.5274977497749782,
          3.6450672043010655
         ],
         "xaxis": "x",
         "y": [
          1979133000,
          2143671000,
          2143671000,
          4510439997
         ],
         "yaxis": "y"
        },
        {
         "customdata": [
          [
           149,
           "BOYACA",
           2017
          ],
          [
           2085,
           "CUNDINAMARCA",
           2019
          ]
         ],
         "hovertemplate": "CADENA_PRODUCTIVA_ADR=PAPA<br>RENDIMIENTO=%{x}<br>Valor total cofinanciación ADR=%{y}<br>Total beneficiarios=%{marker.size}<br>BP=%{customdata[0]}<br>Departamento=%{customdata[1]}<br>Vigencia=%{customdata[2]}<extra></extra>",
         "legendgroup": "PAPA",
         "marker": {
          "color": "#ab63fa",
          "size": [
           347,
           220
          ],
          "sizemode": "area",
          "sizeref": 0.8825,
          "symbol": "circle"
         },
         "mode": "markers",
         "name": "PAPA",
         "orientation": "v",
         "showlegend": true,
         "type": "scatter",
         "x": [
          14.13967684021544,
          18.169860568878978
         ],
         "xaxis": "x",
         "y": [
          3618584000,
          3085065566
         ],
         "yaxis": "y"
        },
        {
         "customdata": [
          [
           311,
           "CUNDINAMARCA",
           2017
          ],
          [
           382,
           "CESAR",
           2019
          ],
          [
           382,
           "CESAR",
           2019
          ],
          [
           285,
           "NORTE DE SANTANDER",
           2017
          ]
         ],
         "hovertemplate": "CADENA_PRODUCTIVA_ADR=FRIJOL<br>RENDIMIENTO=%{x}<br>Valor total cofinanciación ADR=%{y}<br>Total beneficiarios=%{marker.size}<br>BP=%{customdata[0]}<br>Departamento=%{customdata[1]}<br>Vigencia=%{customdata[2]}<extra></extra>",
         "legendgroup": "FRIJOL",
         "marker": {
          "color": "#FFA15A",
          "size": [
           93,
           48,
           48,
           69
          ],
          "sizemode": "area",
          "sizeref": 0.8825,
          "symbol": "circle"
         },
         "mode": "markers",
         "name": "FRIJOL",
         "orientation": "v",
         "showlegend": true,
         "type": "scatter",
         "x": [
          1.4449160908193495,
          0.6851834862385331,
          0.6851834862385331,
          1.3801149425287367
         ],
         "xaxis": "x",
         "y": [
          566214100,
          731059536,
          731059536,
          494040000
         ],
         "yaxis": "y"
        },
        {
         "customdata": [
          [
           346,
           "ARAUCA",
           2018
          ],
          [
           371,
           "NARIÑO",
           2018
          ],
          [
           371,
           "NARIÑO",
           2018
          ],
          [
           371,
           "NARIÑO",
           2018
          ],
          [
           276,
           "NORTE DE SANTANDER",
           2018
          ],
          [
           276,
           "NORTE DE SANTANDER",
           2018
          ]
         ],
         "hovertemplate": "CADENA_PRODUCTIVA_ADR=MARACUYA<br>RENDIMIENTO=%{x}<br>Valor total cofinanciación ADR=%{y}<br>Total beneficiarios=%{marker.size}<br>BP=%{customdata[0]}<br>Departamento=%{customdata[1]}<br>Vigencia=%{customdata[2]}<extra></extra>",
         "legendgroup": "MARACUYA",
         "marker": {
          "color": "#19d3f3",
          "size": [
           25,
           37,
           37,
           37,
           69,
           69
          ],
          "sizemode": "area",
          "sizeref": 0.8825,
          "symbol": "circle"
         },
         "mode": "markers",
         "name": "MARACUYA",
         "orientation": "v",
         "showlegend": true,
         "type": "scatter",
         "x": [
          17.633548387096774,
          null,
          null,
          null,
          9.8510989010989,
          9.8510989010989
         ],
         "xaxis": "x",
         "y": [
          375523000,
          533630234,
          533630234,
          533630234,
          715210000,
          715210000
         ],
         "yaxis": "y"
        },
        {
         "customdata": [
          [
           619,
           "VALLE DEL CAUCA",
           2019
          ],
          [
           619,
           "VALLE DEL CAUCA",
           2019
          ],
          [
           619,
           "VALLE DEL CAUCA",
           2019
          ]
         ],
         "hovertemplate": "CADENA_PRODUCTIVA_ADR=COCO<br>RENDIMIENTO=%{x}<br>Valor total cofinanciación ADR=%{y}<br>Total beneficiarios=%{marker.size}<br>BP=%{customdata[0]}<br>Departamento=%{customdata[1]}<br>Vigencia=%{customdata[2]}<extra></extra>",
         "legendgroup": "COCO",
         "marker": {
          "color": "#FF6692",
          "size": [
           262,
           262,
           262
          ],
          "sizemode": "area",
          "sizeref": 0.8825,
          "symbol": "circle"
         },
         "mode": "markers",
         "name": "COCO",
         "orientation": "v",
         "showlegend": true,
         "type": "scatter",
         "x": [
          11.948333333333332,
          11.948333333333332,
          11.948333333333332
         ],
         "xaxis": "x",
         "y": [
          2801926566,
          2801926566,
          2801926566
         ],
         "yaxis": "y"
        }
       ],
       "layout": {
        "legend": {
         "itemsizing": "constant",
         "title": {
          "text": "CADENA_PRODUCTIVA_ADR"
         },
         "tracegroupgap": 0
        },
        "template": {
         "data": {
          "bar": [
           {
            "error_x": {
             "color": "#2a3f5f"
            },
            "error_y": {
             "color": "#2a3f5f"
            },
            "marker": {
             "line": {
              "color": "#E5ECF6",
              "width": 0.5
             }
            },
            "type": "bar"
           }
          ],
          "barpolar": [
           {
            "marker": {
             "line": {
              "color": "#E5ECF6",
              "width": 0.5
             }
            },
            "type": "barpolar"
           }
          ],
          "carpet": [
           {
            "aaxis": {
             "endlinecolor": "#2a3f5f",
             "gridcolor": "white",
             "linecolor": "white",
             "minorgridcolor": "white",
             "startlinecolor": "#2a3f5f"
            },
            "baxis": {
             "endlinecolor": "#2a3f5f",
             "gridcolor": "white",
             "linecolor": "white",
             "minorgridcolor": "white",
             "startlinecolor": "#2a3f5f"
            },
            "type": "carpet"
           }
          ],
          "choropleth": [
           {
            "colorbar": {
             "outlinewidth": 0,
             "ticks": ""
            },
            "type": "choropleth"
           }
          ],
          "contour": [
           {
            "colorbar": {
             "outlinewidth": 0,
             "ticks": ""
            },
            "colorscale": [
             [
              0,
              "#0d0887"
             ],
             [
              0.1111111111111111,
              "#46039f"
             ],
             [
              0.2222222222222222,
              "#7201a8"
             ],
             [
              0.3333333333333333,
              "#9c179e"
             ],
             [
              0.4444444444444444,
              "#bd3786"
             ],
             [
              0.5555555555555556,
              "#d8576b"
             ],
             [
              0.6666666666666666,
              "#ed7953"
             ],
             [
              0.7777777777777778,
              "#fb9f3a"
             ],
             [
              0.8888888888888888,
              "#fdca26"
             ],
             [
              1,
              "#f0f921"
             ]
            ],
            "type": "contour"
           }
          ],
          "contourcarpet": [
           {
            "colorbar": {
             "outlinewidth": 0,
             "ticks": ""
            },
            "type": "contourcarpet"
           }
          ],
          "heatmap": [
           {
            "colorbar": {
             "outlinewidth": 0,
             "ticks": ""
            },
            "colorscale": [
             [
              0,
              "#0d0887"
             ],
             [
              0.1111111111111111,
              "#46039f"
             ],
             [
              0.2222222222222222,
              "#7201a8"
             ],
             [
              0.3333333333333333,
              "#9c179e"
             ],
             [
              0.4444444444444444,
              "#bd3786"
             ],
             [
              0.5555555555555556,
              "#d8576b"
             ],
             [
              0.6666666666666666,
              "#ed7953"
             ],
             [
              0.7777777777777778,
              "#fb9f3a"
             ],
             [
              0.8888888888888888,
              "#fdca26"
             ],
             [
              1,
              "#f0f921"
             ]
            ],
            "type": "heatmap"
           }
          ],
          "heatmapgl": [
           {
            "colorbar": {
             "outlinewidth": 0,
             "ticks": ""
            },
            "colorscale": [
             [
              0,
              "#0d0887"
             ],
             [
              0.1111111111111111,
              "#46039f"
             ],
             [
              0.2222222222222222,
              "#7201a8"
             ],
             [
              0.3333333333333333,
              "#9c179e"
             ],
             [
              0.4444444444444444,
              "#bd3786"
             ],
             [
              0.5555555555555556,
              "#d8576b"
             ],
             [
              0.6666666666666666,
              "#ed7953"
             ],
             [
              0.7777777777777778,
              "#fb9f3a"
             ],
             [
              0.8888888888888888,
              "#fdca26"
             ],
             [
              1,
              "#f0f921"
             ]
            ],
            "type": "heatmapgl"
           }
          ],
          "histogram": [
           {
            "marker": {
             "colorbar": {
              "outlinewidth": 0,
              "ticks": ""
             }
            },
            "type": "histogram"
           }
          ],
          "histogram2d": [
           {
            "colorbar": {
             "outlinewidth": 0,
             "ticks": ""
            },
            "colorscale": [
             [
              0,
              "#0d0887"
             ],
             [
              0.1111111111111111,
              "#46039f"
             ],
             [
              0.2222222222222222,
              "#7201a8"
             ],
             [
              0.3333333333333333,
              "#9c179e"
             ],
             [
              0.4444444444444444,
              "#bd3786"
             ],
             [
              0.5555555555555556,
              "#d8576b"
             ],
             [
              0.6666666666666666,
              "#ed7953"
             ],
             [
              0.7777777777777778,
              "#fb9f3a"
             ],
             [
              0.8888888888888888,
              "#fdca26"
             ],
             [
              1,
              "#f0f921"
             ]
            ],
            "type": "histogram2d"
           }
          ],
          "histogram2dcontour": [
           {
            "colorbar": {
             "outlinewidth": 0,
             "ticks": ""
            },
            "colorscale": [
             [
              0,
              "#0d0887"
             ],
             [
              0.1111111111111111,
              "#46039f"
             ],
             [
              0.2222222222222222,
              "#7201a8"
             ],
             [
              0.3333333333333333,
              "#9c179e"
             ],
             [
              0.4444444444444444,
              "#bd3786"
             ],
             [
              0.5555555555555556,
              "#d8576b"
             ],
             [
              0.6666666666666666,
              "#ed7953"
             ],
             [
              0.7777777777777778,
              "#fb9f3a"
             ],
             [
              0.8888888888888888,
              "#fdca26"
             ],
             [
              1,
              "#f0f921"
             ]
            ],
            "type": "histogram2dcontour"
           }
          ],
          "mesh3d": [
           {
            "colorbar": {
             "outlinewidth": 0,
             "ticks": ""
            },
            "type": "mesh3d"
           }
          ],
          "parcoords": [
           {
            "line": {
             "colorbar": {
              "outlinewidth": 0,
              "ticks": ""
             }
            },
            "type": "parcoords"
           }
          ],
          "pie": [
           {
            "automargin": true,
            "type": "pie"
           }
          ],
          "scatter": [
           {
            "marker": {
             "colorbar": {
              "outlinewidth": 0,
              "ticks": ""
             }
            },
            "type": "scatter"
           }
          ],
          "scatter3d": [
           {
            "line": {
             "colorbar": {
              "outlinewidth": 0,
              "ticks": ""
             }
            },
            "marker": {
             "colorbar": {
              "outlinewidth": 0,
              "ticks": ""
             }
            },
            "type": "scatter3d"
           }
          ],
          "scattercarpet": [
           {
            "marker": {
             "colorbar": {
              "outlinewidth": 0,
              "ticks": ""
             }
            },
            "type": "scattercarpet"
           }
          ],
          "scattergeo": [
           {
            "marker": {
             "colorbar": {
              "outlinewidth": 0,
              "ticks": ""
             }
            },
            "type": "scattergeo"
           }
          ],
          "scattergl": [
           {
            "marker": {
             "colorbar": {
              "outlinewidth": 0,
              "ticks": ""
             }
            },
            "type": "scattergl"
           }
          ],
          "scattermapbox": [
           {
            "marker": {
             "colorbar": {
              "outlinewidth": 0,
              "ticks": ""
             }
            },
            "type": "scattermapbox"
           }
          ],
          "scatterpolar": [
           {
            "marker": {
             "colorbar": {
              "outlinewidth": 0,
              "ticks": ""
             }
            },
            "type": "scatterpolar"
           }
          ],
          "scatterpolargl": [
           {
            "marker": {
             "colorbar": {
              "outlinewidth": 0,
              "ticks": ""
             }
            },
            "type": "scatterpolargl"
           }
          ],
          "scatterternary": [
           {
            "marker": {
             "colorbar": {
              "outlinewidth": 0,
              "ticks": ""
             }
            },
            "type": "scatterternary"
           }
          ],
          "surface": [
           {
            "colorbar": {
             "outlinewidth": 0,
             "ticks": ""
            },
            "colorscale": [
             [
              0,
              "#0d0887"
             ],
             [
              0.1111111111111111,
              "#46039f"
             ],
             [
              0.2222222222222222,
              "#7201a8"
             ],
             [
              0.3333333333333333,
              "#9c179e"
             ],
             [
              0.4444444444444444,
              "#bd3786"
             ],
             [
              0.5555555555555556,
              "#d8576b"
             ],
             [
              0.6666666666666666,
              "#ed7953"
             ],
             [
              0.7777777777777778,
              "#fb9f3a"
             ],
             [
              0.8888888888888888,
              "#fdca26"
             ],
             [
              1,
              "#f0f921"
             ]
            ],
            "type": "surface"
           }
          ],
          "table": [
           {
            "cells": {
             "fill": {
              "color": "#EBF0F8"
             },
             "line": {
              "color": "white"
             }
            },
            "header": {
             "fill": {
              "color": "#C8D4E3"
             },
             "line": {
              "color": "white"
             }
            },
            "type": "table"
           }
          ]
         },
         "layout": {
          "annotationdefaults": {
           "arrowcolor": "#2a3f5f",
           "arrowhead": 0,
           "arrowwidth": 1
          },
          "coloraxis": {
           "colorbar": {
            "outlinewidth": 0,
            "ticks": ""
           }
          },
          "colorscale": {
           "diverging": [
            [
             0,
             "#8e0152"
            ],
            [
             0.1,
             "#c51b7d"
            ],
            [
             0.2,
             "#de77ae"
            ],
            [
             0.3,
             "#f1b6da"
            ],
            [
             0.4,
             "#fde0ef"
            ],
            [
             0.5,
             "#f7f7f7"
            ],
            [
             0.6,
             "#e6f5d0"
            ],
            [
             0.7,
             "#b8e186"
            ],
            [
             0.8,
             "#7fbc41"
            ],
            [
             0.9,
             "#4d9221"
            ],
            [
             1,
             "#276419"
            ]
           ],
           "sequential": [
            [
             0,
             "#0d0887"
            ],
            [
             0.1111111111111111,
             "#46039f"
            ],
            [
             0.2222222222222222,
             "#7201a8"
            ],
            [
             0.3333333333333333,
             "#9c179e"
            ],
            [
             0.4444444444444444,
             "#bd3786"
            ],
            [
             0.5555555555555556,
             "#d8576b"
            ],
            [
             0.6666666666666666,
             "#ed7953"
            ],
            [
             0.7777777777777778,
             "#fb9f3a"
            ],
            [
             0.8888888888888888,
             "#fdca26"
            ],
            [
             1,
             "#f0f921"
            ]
           ],
           "sequentialminus": [
            [
             0,
             "#0d0887"
            ],
            [
             0.1111111111111111,
             "#46039f"
            ],
            [
             0.2222222222222222,
             "#7201a8"
            ],
            [
             0.3333333333333333,
             "#9c179e"
            ],
            [
             0.4444444444444444,
             "#bd3786"
            ],
            [
             0.5555555555555556,
             "#d8576b"
            ],
            [
             0.6666666666666666,
             "#ed7953"
            ],
            [
             0.7777777777777778,
             "#fb9f3a"
            ],
            [
             0.8888888888888888,
             "#fdca26"
            ],
            [
             1,
             "#f0f921"
            ]
           ]
          },
          "colorway": [
           "#636efa",
           "#EF553B",
           "#00cc96",
           "#ab63fa",
           "#FFA15A",
           "#19d3f3",
           "#FF6692",
           "#B6E880",
           "#FF97FF",
           "#FECB52"
          ],
          "font": {
           "color": "#2a3f5f"
          },
          "geo": {
           "bgcolor": "white",
           "lakecolor": "white",
           "landcolor": "#E5ECF6",
           "showlakes": true,
           "showland": true,
           "subunitcolor": "white"
          },
          "hoverlabel": {
           "align": "left"
          },
          "hovermode": "closest",
          "mapbox": {
           "style": "light"
          },
          "paper_bgcolor": "white",
          "plot_bgcolor": "#E5ECF6",
          "polar": {
           "angularaxis": {
            "gridcolor": "white",
            "linecolor": "white",
            "ticks": ""
           },
           "bgcolor": "#E5ECF6",
           "radialaxis": {
            "gridcolor": "white",
            "linecolor": "white",
            "ticks": ""
           }
          },
          "scene": {
           "xaxis": {
            "backgroundcolor": "#E5ECF6",
            "gridcolor": "white",
            "gridwidth": 2,
            "linecolor": "white",
            "showbackground": true,
            "ticks": "",
            "zerolinecolor": "white"
           },
           "yaxis": {
            "backgroundcolor": "#E5ECF6",
            "gridcolor": "white",
            "gridwidth": 2,
            "linecolor": "white",
            "showbackground": true,
            "ticks": "",
            "zerolinecolor": "white"
           },
           "zaxis": {
            "backgroundcolor": "#E5ECF6",
            "gridcolor": "white",
            "gridwidth": 2,
            "linecolor": "white",
            "showbackground": true,
            "ticks": "",
            "zerolinecolor": "white"
           }
          },
          "shapedefaults": {
           "line": {
            "color": "#2a3f5f"
           }
          },
          "ternary": {
           "aaxis": {
            "gridcolor": "white",
            "linecolor": "white",
            "ticks": ""
           },
           "baxis": {
            "gridcolor": "white",
            "linecolor": "white",
            "ticks": ""
           },
           "bgcolor": "#E5ECF6",
           "caxis": {
            "gridcolor": "white",
            "linecolor": "white",
            "ticks": ""
           }
          },
          "title": {
           "x": 0.05
          },
          "xaxis": {
           "automargin": true,
           "gridcolor": "white",
           "linecolor": "white",
           "ticks": "",
           "title": {
            "standoff": 15
           },
           "zerolinecolor": "white",
           "zerolinewidth": 2
          },
          "yaxis": {
           "automargin": true,
           "gridcolor": "white",
           "linecolor": "white",
           "ticks": "",
           "title": {
            "standoff": 15
           },
           "zerolinecolor": "white",
           "zerolinewidth": 2
          }
         }
        },
        "title": {
         "text": "Valor confinanciado vs rendimiento por proyecto"
        },
        "xaxis": {
         "anchor": "y",
         "domain": [
          0,
          1
         ],
         "title": {
          "text": "RENDIMIENTO"
         }
        },
        "yaxis": {
         "anchor": "x",
         "domain": [
          0,
          1
         ],
         "title": {
          "text": "Valor total cofinanciación ADR"
         }
        }
       }
      },
      "text/html": [
       "<div>\n",
       "        \n",
       "        \n",
       "            <div id=\"0f24a3c2-8501-4d90-8fe1-5ec95a31ac3a\" class=\"plotly-graph-div\" style=\"height:525px; width:100%;\"></div>\n",
       "            <script type=\"text/javascript\">\n",
       "                require([\"plotly\"], function(Plotly) {\n",
       "                    window.PLOTLYENV=window.PLOTLYENV || {};\n",
       "                    \n",
       "                if (document.getElementById(\"0f24a3c2-8501-4d90-8fe1-5ec95a31ac3a\")) {\n",
       "                    Plotly.newPlot(\n",
       "                        '0f24a3c2-8501-4d90-8fe1-5ec95a31ac3a',\n",
       "                        [{\"customdata\": [[6, \"CHOCO\", 2017], [44, \"CHOCO\", 2017], [44, \"CHOCO\", 2017], [77, \"CHOCO\", 2017], [77, \"CHOCO\", 2017], [100, \"CORDOBA\", 2017], [124, \"BOLIVAR\", 2017], [136, \"CHOCO\", 2017], [136, \"CHOCO\", 2017], [140, \"CHOCO\", 2017], [140, \"CHOCO\", 2017], [143, \"CORDOBA\", 2017], [150, \"BOL\\u00cdVAR\", 2018], [156, \"META\", 2017], [156, \"META\", 2017], [163, \"CHOCO\", 2017], [354, \"CORDOBA\", 2019], [252, \"NORTE DE SANTANDER\", 2017], [278, \"NORTE DE SANTANDER\", 2017], [719, \"VICHADA\", 2019], [719, \"VICHADA\", 2019], [744, \"CALDAS\", 2019]], \"hovertemplate\": \"CADENA_PRODUCTIVA_ADR=PLATANO<br>RENDIMIENTO=%{x}<br>Valor total cofinanciaci\\u00f3n ADR=%{y}<br>Total beneficiarios=%{marker.size}<br>BP=%{customdata[0]}<br>Departamento=%{customdata[1]}<br>Vigencia=%{customdata[2]}<extra></extra>\", \"legendgroup\": \"PLATANO\", \"marker\": {\"color\": \"#636efa\", \"size\": [35, 73, 73, 72, 72, 66, 200, 127, 127, 124, 124, 93, 94, 87, 87, 40, 79, 54, 39, 150, 150, 48], \"sizemode\": \"area\", \"sizeref\": 0.8825, \"symbol\": \"circle\"}, \"mode\": \"markers\", \"name\": \"PLATANO\", \"orientation\": \"v\", \"showlegend\": true, \"type\": \"scatter\", \"x\": [6.472403314917125, 6.472403314917125, 6.472403314917125, 6.472403314917125, 6.472403314917125, 7.946690140845069, 6.463360215053763, 6.472403314917125, 6.472403314917125, 6.472403314917125, 6.472403314917125, 7.946690140845069, null, 15.052385321100918, 15.052385321100918, 6.472403314917125, 7.946690140845069, 6.617921052631577, 6.617921052631577, 5.719791666666666, 5.719791666666666, 11.266837349397584], \"xaxis\": \"x\", \"y\": [250000000, 346452142, 346452142, 278014950, 278014950, 999993000, 2000000000, 336281247, 336281247, 418498400, 418498400, 1000000000, 977966000, 906940020, 906940020, 729547396, 997569966, 373952000, 345194000, 1713390566, 1713390566, 291926566], \"yaxis\": \"y\"}, {\"customdata\": [[17, \"META\", 2017], [23, \"ANTIOQUIA\", 2017], [31, \"CAUCA\", 2017], [80, \"CALDAS\", 2016], [94, \"NARI\\u00d1O\", 2016], [108, \"HUILA\", 2017], [114, \"HUILA\", 2017], [117, \"HUILA\", 2017], [129, \"HUILA\", 2017], [129, \"HUILA\", 2017], [142, \"HUILA\", 2017], [147, \"TOLIMA\", 2017], [147, \"TOLIMA\", 2017], [151, \"HUILA\", 2017], [552, \"HUILA\", 2017], [167, \"LA_GUAJIRA\", 2017], [307, \"HUILA\", 2017]], \"hovertemplate\": \"CADENA_PRODUCTIVA_ADR=CAFE<br>RENDIMIENTO=%{x}<br>Valor total cofinanciaci\\u00f3n ADR=%{y}<br>Total beneficiarios=%{marker.size}<br>BP=%{customdata[0]}<br>Departamento=%{customdata[1]}<br>Vigencia=%{customdata[2]}<extra></extra>\", \"legendgroup\": \"CAFE\", \"marker\": {\"color\": \"#EF553B\", \"size\": [40, 25, 51, 50, 40, 27, 35, 41, 70, 70, 53, 30, 30, 55, 45, 19, 60], \"sizemode\": \"area\", \"sizeref\": 0.8825, \"symbol\": \"circle\"}, \"mode\": \"markers\", \"name\": \"CAFE\", \"orientation\": \"v\", \"showlegend\": true, \"type\": \"scatter\", \"x\": [0.8454193548387097, 0.9961131386861292, 0.8981842105263145, 1.1509666666666671, null, 1.1607857142857163, 1.1607857142857163, 1.1607857142857163, 1.1607857142857163, 1.1607857142857163, 1.1607857142857163, 0.9529046563192901, 0.9529046563192901, 1.1607857142857163, 1.1607857142857163, null, 1.1607857142857163], \"xaxis\": \"x\", \"y\": [500000000, 401373250, 501204000, 500000000, 434216599, 353046000, 362280400, 412121840, 232852000, 232852000, 375495000, 200000000, 200000000, 392075000, 320175000, 284477000, 500057000], \"yaxis\": \"y\"}, {\"customdata\": [[25, \"META\", 2017]], \"hovertemplate\": \"CADENA_PRODUCTIVA_ADR=CAUCHO<br>RENDIMIENTO=%{x}<br>Valor total cofinanciaci\\u00f3n ADR=%{y}<br>Total beneficiarios=%{marker.size}<br>BP=%{customdata[0]}<br>Departamento=%{customdata[1]}<br>Vigencia=%{customdata[2]}<extra></extra>\", \"legendgroup\": \"CAUCHO\", \"marker\": {\"color\": \"#00cc96\", \"size\": [28], \"sizemode\": \"area\", \"sizeref\": 0.8825, \"symbol\": \"circle\"}, \"mode\": \"markers\", \"name\": \"CAUCHO\", \"orientation\": \"v\", \"showlegend\": true, \"type\": \"scatter\", \"x\": [1.5761490683229789], \"xaxis\": \"x\", \"y\": [255000000], \"yaxis\": \"y\"}, {\"customdata\": [[48, \"CAUCA\", 2016], [48, \"CAUCA\", 2016], [48, \"CAUCA\", 2016], [66, \"CAUCA\", 2016], [66, \"CAUCA\", 2016], [123, \"NARI\\u00d1O\", 2017]], \"hovertemplate\": \"CADENA_PRODUCTIVA_ADR=TOMATE<br>RENDIMIENTO=%{x}<br>Valor total cofinanciaci\\u00f3n ADR=%{y}<br>Total beneficiarios=%{marker.size}<br>BP=%{customdata[0]}<br>Departamento=%{customdata[1]}<br>Vigencia=%{customdata[2]}<extra></extra>\", \"legendgroup\": \"TOMATE\", \"marker\": {\"color\": \"#ab63fa\", \"size\": [20, 20, 20, 16, 16, 62], \"sizemode\": \"area\", \"sizeref\": 0.8825, \"symbol\": \"circle\"}, \"mode\": \"markers\", \"name\": \"TOMATE\", \"orientation\": \"v\", \"showlegend\": true, \"type\": \"scatter\", \"x\": [33.21751811594203, 33.21751811594203, 33.21751811594203, 33.21751811594203, 33.21751811594203, null], \"xaxis\": \"x\", \"y\": [197000000, 197000000, 197000000, 410400000, 410400000, 1380752000], \"yaxis\": \"y\"}, {\"customdata\": [[49, \"ATLANTICO\", 2017]], \"hovertemplate\": \"CADENA_PRODUCTIVA_ADR=MANGO<br>RENDIMIENTO=%{x}<br>Valor total cofinanciaci\\u00f3n ADR=%{y}<br>Total beneficiarios=%{marker.size}<br>BP=%{customdata[0]}<br>Departamento=%{customdata[1]}<br>Vigencia=%{customdata[2]}<extra></extra>\", \"legendgroup\": \"MANGO\", \"marker\": {\"color\": \"#FFA15A\", \"size\": [140], \"sizemode\": \"area\", \"sizeref\": 0.8825, \"symbol\": \"circle\"}, \"mode\": \"markers\", \"name\": \"MANGO\", \"orientation\": \"v\", \"showlegend\": true, \"type\": \"scatter\", \"x\": [13.72109004739337], \"xaxis\": \"x\", \"y\": [1505613100], \"yaxis\": \"y\"}, {\"customdata\": [[68, \"CHOCO\", 2017], [132, \"META\", 2017], [165, \"CHOCO\", 2017], [378, \"GUAINIA\", 2017]], \"hovertemplate\": \"CADENA_PRODUCTIVA_ADR=CACAO<br>RENDIMIENTO=%{x}<br>Valor total cofinanciaci\\u00f3n ADR=%{y}<br>Total beneficiarios=%{marker.size}<br>BP=%{customdata[0]}<br>Departamento=%{customdata[1]}<br>Vigencia=%{customdata[2]}<extra></extra>\", \"legendgroup\": \"CACAO\", \"marker\": {\"color\": \"#19d3f3\", \"size\": [300, 148, 30, 90], \"sizemode\": \"area\", \"sizeref\": 0.8825, \"symbol\": \"circle\"}, \"mode\": \"markers\", \"name\": \"CACAO\", \"orientation\": \"v\", \"showlegend\": true, \"type\": \"scatter\", \"x\": [0.36718181818181755, 0.5861224489795895, 0.36718181818181755, 0.3433333333333333], \"xaxis\": \"x\", \"y\": [1500000000, 1476660080, 249869700, 731834400], \"yaxis\": \"y\"}, {\"customdata\": [[90, \"MAGDALENA\", 2017]], \"hovertemplate\": \"CADENA_PRODUCTIVA_ADR=\\u00d1AME<br>RENDIMIENTO=%{x}<br>Valor total cofinanciaci\\u00f3n ADR=%{y}<br>Total beneficiarios=%{marker.size}<br>BP=%{customdata[0]}<br>Departamento=%{customdata[1]}<br>Vigencia=%{customdata[2]}<extra></extra>\", \"legendgroup\": \"\\u00d1AME\", \"marker\": {\"color\": \"#FF6692\", \"size\": [160], \"sizemode\": \"area\", \"sizeref\": 0.8825, \"symbol\": \"circle\"}, \"mode\": \"markers\", \"name\": \"\\u00d1AME\", \"orientation\": \"v\", \"showlegend\": true, \"type\": \"scatter\", \"x\": [7.466666666666667], \"xaxis\": \"x\", \"y\": [1500000000], \"yaxis\": \"y\"}, {\"customdata\": [[102, \"NARI\\u00d1O\", 2016]], \"hovertemplate\": \"CADENA_PRODUCTIVA_ADR=MORA<br>RENDIMIENTO=%{x}<br>Valor total cofinanciaci\\u00f3n ADR=%{y}<br>Total beneficiarios=%{marker.size}<br>BP=%{customdata[0]}<br>Departamento=%{customdata[1]}<br>Vigencia=%{customdata[2]}<extra></extra>\", \"legendgroup\": \"MORA\", \"marker\": {\"color\": \"#B6E880\", \"size\": [32], \"sizemode\": \"area\", \"sizeref\": 0.8825, \"symbol\": \"circle\"}, \"mode\": \"markers\", \"name\": \"MORA\", \"orientation\": \"v\", \"showlegend\": true, \"type\": \"scatter\", \"x\": [null], \"xaxis\": \"x\", \"y\": [500000000], \"yaxis\": \"y\"}, {\"customdata\": [[693, \"CALDAS\", 2016], [118, \"CALDAS\", 2017], [131, \"CUNDINAMARCA\", 2017], [318, \"CALDAS\", 2017], [318, \"CALDAS\", 2017], [183, \"ANTIOQUIA\", 2017], [264, \"BOYACA\", 2019]], \"hovertemplate\": \"CADENA_PRODUCTIVA_ADR=AGUACATE<br>RENDIMIENTO=%{x}<br>Valor total cofinanciaci\\u00f3n ADR=%{y}<br>Total beneficiarios=%{marker.size}<br>BP=%{customdata[0]}<br>Departamento=%{customdata[1]}<br>Vigencia=%{customdata[2]}<extra></extra>\", \"legendgroup\": \"AGUACATE\", \"marker\": {\"color\": \"#FF97FF\", \"size\": [291, 156, 170, 353, 353, 20, 241], \"sizemode\": \"area\", \"sizeref\": 0.8825, \"symbol\": \"circle\"}, \"mode\": \"markers\", \"name\": \"AGUACATE\", \"orientation\": \"v\", \"showlegend\": true, \"type\": \"scatter\", \"x\": [9.664391143911438, 9.664391143911438, 6.624626865671644, 9.664391143911438, 9.664391143911438, 7.915741839762616, 7.352641509433964], \"xaxis\": \"x\", \"y\": [1499984371, 1972185600, 2479938287, 999522000, 999522000, 530010000, 1598290566], \"yaxis\": \"y\"}, {\"customdata\": [[119, \"NARI\\u00d1O\", 2016]], \"hovertemplate\": \"CADENA_PRODUCTIVA_ADR=GRANADILLA<br>RENDIMIENTO=%{x}<br>Valor total cofinanciaci\\u00f3n ADR=%{y}<br>Total beneficiarios=%{marker.size}<br>BP=%{customdata[0]}<br>Departamento=%{customdata[1]}<br>Vigencia=%{customdata[2]}<extra></extra>\", \"legendgroup\": \"GRANADILLA\", \"marker\": {\"color\": \"#FECB52\", \"size\": [87], \"sizemode\": \"area\", \"sizeref\": 0.8825, \"symbol\": \"circle\"}, \"mode\": \"markers\", \"name\": \"GRANADILLA\", \"orientation\": \"v\", \"showlegend\": true, \"type\": \"scatter\", \"x\": [null], \"xaxis\": \"x\", \"y\": [868027011], \"yaxis\": \"y\"}, {\"customdata\": [[133, \"SANTANDER\", 2017], [133, \"SANTANDER\", 2017]], \"hovertemplate\": \"CADENA_PRODUCTIVA_ADR=TANGELO<br>RENDIMIENTO=%{x}<br>Valor total cofinanciaci\\u00f3n ADR=%{y}<br>Total beneficiarios=%{marker.size}<br>BP=%{customdata[0]}<br>Departamento=%{customdata[1]}<br>Vigencia=%{customdata[2]}<extra></extra>\", \"legendgroup\": \"TANGELO\", \"marker\": {\"color\": \"#636efa\", \"size\": [128, 128], \"sizemode\": \"area\", \"sizeref\": 0.8825, \"symbol\": \"circle\"}, \"mode\": \"markers\", \"name\": \"TANGELO\", \"orientation\": \"v\", \"showlegend\": true, \"type\": \"scatter\", \"x\": [10.375, 10.375], \"xaxis\": \"x\", \"y\": [2000000000, 2000000000], \"yaxis\": \"y\"}, {\"customdata\": [[144, \"META\", 2017]], \"hovertemplate\": \"CADENA_PRODUCTIVA_ADR=GUAYABA<br>RENDIMIENTO=%{x}<br>Valor total cofinanciaci\\u00f3n ADR=%{y}<br>Total beneficiarios=%{marker.size}<br>BP=%{customdata[0]}<br>Departamento=%{customdata[1]}<br>Vigencia=%{customdata[2]}<extra></extra>\", \"legendgroup\": \"GUAYABA\", \"marker\": {\"color\": \"#EF553B\", \"size\": [92], \"sizemode\": \"area\", \"sizeref\": 0.8825, \"symbol\": \"circle\"}, \"mode\": \"markers\", \"name\": \"GUAYABA\", \"orientation\": \"v\", \"showlegend\": true, \"type\": \"scatter\", \"x\": [14.598333333333331], \"xaxis\": \"x\", \"y\": [669701000], \"yaxis\": \"y\"}, {\"customdata\": [[148, \"BOLIVAR\", 2017], [157, \"BOLIVAR\", 2017], [157, \"BOLIVAR\", 2017], [168, \"VALLE DEL CAUCA\", 2018]], \"hovertemplate\": \"CADENA_PRODUCTIVA_ADR=MAIZ<br>RENDIMIENTO=%{x}<br>Valor total cofinanciaci\\u00f3n ADR=%{y}<br>Total beneficiarios=%{marker.size}<br>BP=%{customdata[0]}<br>Departamento=%{customdata[1]}<br>Vigencia=%{customdata[2]}<extra></extra>\", \"legendgroup\": \"MAIZ\", \"marker\": {\"color\": \"#00cc96\", \"size\": [205, 133, 133, 151], \"sizemode\": \"area\", \"sizeref\": 0.8825, \"symbol\": \"circle\"}, \"mode\": \"markers\", \"name\": \"MAIZ\", \"orientation\": \"v\", \"showlegend\": true, \"type\": \"scatter\", \"x\": [1.5274977497749782, 1.5274977497749782, 1.5274977497749782, 3.6450672043010655], \"xaxis\": \"x\", \"y\": [1979133000, 2143671000, 2143671000, 4510439997], \"yaxis\": \"y\"}, {\"customdata\": [[149, \"BOYACA\", 2017], [2085, \"CUNDINAMARCA\", 2019]], \"hovertemplate\": \"CADENA_PRODUCTIVA_ADR=PAPA<br>RENDIMIENTO=%{x}<br>Valor total cofinanciaci\\u00f3n ADR=%{y}<br>Total beneficiarios=%{marker.size}<br>BP=%{customdata[0]}<br>Departamento=%{customdata[1]}<br>Vigencia=%{customdata[2]}<extra></extra>\", \"legendgroup\": \"PAPA\", \"marker\": {\"color\": \"#ab63fa\", \"size\": [347, 220], \"sizemode\": \"area\", \"sizeref\": 0.8825, \"symbol\": \"circle\"}, \"mode\": \"markers\", \"name\": \"PAPA\", \"orientation\": \"v\", \"showlegend\": true, \"type\": \"scatter\", \"x\": [14.13967684021544, 18.169860568878978], \"xaxis\": \"x\", \"y\": [3618584000, 3085065566], \"yaxis\": \"y\"}, {\"customdata\": [[311, \"CUNDINAMARCA\", 2017], [382, \"CESAR\", 2019], [382, \"CESAR\", 2019], [285, \"NORTE DE SANTANDER\", 2017]], \"hovertemplate\": \"CADENA_PRODUCTIVA_ADR=FRIJOL<br>RENDIMIENTO=%{x}<br>Valor total cofinanciaci\\u00f3n ADR=%{y}<br>Total beneficiarios=%{marker.size}<br>BP=%{customdata[0]}<br>Departamento=%{customdata[1]}<br>Vigencia=%{customdata[2]}<extra></extra>\", \"legendgroup\": \"FRIJOL\", \"marker\": {\"color\": \"#FFA15A\", \"size\": [93, 48, 48, 69], \"sizemode\": \"area\", \"sizeref\": 0.8825, \"symbol\": \"circle\"}, \"mode\": \"markers\", \"name\": \"FRIJOL\", \"orientation\": \"v\", \"showlegend\": true, \"type\": \"scatter\", \"x\": [1.4449160908193495, 0.6851834862385331, 0.6851834862385331, 1.3801149425287367], \"xaxis\": \"x\", \"y\": [566214100, 731059536, 731059536, 494040000], \"yaxis\": \"y\"}, {\"customdata\": [[346, \"ARAUCA\", 2018], [371, \"NARI\\u00d1O\", 2018], [371, \"NARI\\u00d1O\", 2018], [371, \"NARI\\u00d1O\", 2018], [276, \"NORTE DE SANTANDER\", 2018], [276, \"NORTE DE SANTANDER\", 2018]], \"hovertemplate\": \"CADENA_PRODUCTIVA_ADR=MARACUYA<br>RENDIMIENTO=%{x}<br>Valor total cofinanciaci\\u00f3n ADR=%{y}<br>Total beneficiarios=%{marker.size}<br>BP=%{customdata[0]}<br>Departamento=%{customdata[1]}<br>Vigencia=%{customdata[2]}<extra></extra>\", \"legendgroup\": \"MARACUYA\", \"marker\": {\"color\": \"#19d3f3\", \"size\": [25, 37, 37, 37, 69, 69], \"sizemode\": \"area\", \"sizeref\": 0.8825, \"symbol\": \"circle\"}, \"mode\": \"markers\", \"name\": \"MARACUYA\", \"orientation\": \"v\", \"showlegend\": true, \"type\": \"scatter\", \"x\": [17.633548387096774, null, null, null, 9.8510989010989, 9.8510989010989], \"xaxis\": \"x\", \"y\": [375523000, 533630234, 533630234, 533630234, 715210000, 715210000], \"yaxis\": \"y\"}, {\"customdata\": [[619, \"VALLE DEL CAUCA\", 2019], [619, \"VALLE DEL CAUCA\", 2019], [619, \"VALLE DEL CAUCA\", 2019]], \"hovertemplate\": \"CADENA_PRODUCTIVA_ADR=COCO<br>RENDIMIENTO=%{x}<br>Valor total cofinanciaci\\u00f3n ADR=%{y}<br>Total beneficiarios=%{marker.size}<br>BP=%{customdata[0]}<br>Departamento=%{customdata[1]}<br>Vigencia=%{customdata[2]}<extra></extra>\", \"legendgroup\": \"COCO\", \"marker\": {\"color\": \"#FF6692\", \"size\": [262, 262, 262], \"sizemode\": \"area\", \"sizeref\": 0.8825, \"symbol\": \"circle\"}, \"mode\": \"markers\", \"name\": \"COCO\", \"orientation\": \"v\", \"showlegend\": true, \"type\": \"scatter\", \"x\": [11.948333333333332, 11.948333333333332, 11.948333333333332], \"xaxis\": \"x\", \"y\": [2801926566, 2801926566, 2801926566], \"yaxis\": \"y\"}],\n",
       "                        {\"legend\": {\"itemsizing\": \"constant\", \"title\": {\"text\": \"CADENA_PRODUCTIVA_ADR\"}, \"tracegroupgap\": 0}, \"template\": {\"data\": {\"bar\": [{\"error_x\": {\"color\": \"#2a3f5f\"}, \"error_y\": {\"color\": \"#2a3f5f\"}, \"marker\": {\"line\": {\"color\": \"#E5ECF6\", \"width\": 0.5}}, \"type\": \"bar\"}], \"barpolar\": [{\"marker\": {\"line\": {\"color\": \"#E5ECF6\", \"width\": 0.5}}, \"type\": \"barpolar\"}], \"carpet\": [{\"aaxis\": {\"endlinecolor\": \"#2a3f5f\", \"gridcolor\": \"white\", \"linecolor\": \"white\", \"minorgridcolor\": \"white\", \"startlinecolor\": \"#2a3f5f\"}, \"baxis\": {\"endlinecolor\": \"#2a3f5f\", \"gridcolor\": \"white\", \"linecolor\": \"white\", \"minorgridcolor\": \"white\", \"startlinecolor\": \"#2a3f5f\"}, \"type\": \"carpet\"}], \"choropleth\": [{\"colorbar\": {\"outlinewidth\": 0, \"ticks\": \"\"}, \"type\": \"choropleth\"}], \"contour\": [{\"colorbar\": {\"outlinewidth\": 0, \"ticks\": \"\"}, \"colorscale\": [[0.0, \"#0d0887\"], [0.1111111111111111, \"#46039f\"], [0.2222222222222222, \"#7201a8\"], [0.3333333333333333, \"#9c179e\"], [0.4444444444444444, \"#bd3786\"], [0.5555555555555556, \"#d8576b\"], [0.6666666666666666, \"#ed7953\"], [0.7777777777777778, \"#fb9f3a\"], [0.8888888888888888, \"#fdca26\"], [1.0, \"#f0f921\"]], \"type\": \"contour\"}], \"contourcarpet\": [{\"colorbar\": {\"outlinewidth\": 0, \"ticks\": \"\"}, \"type\": \"contourcarpet\"}], \"heatmap\": [{\"colorbar\": {\"outlinewidth\": 0, \"ticks\": \"\"}, \"colorscale\": [[0.0, \"#0d0887\"], [0.1111111111111111, \"#46039f\"], [0.2222222222222222, \"#7201a8\"], [0.3333333333333333, \"#9c179e\"], [0.4444444444444444, \"#bd3786\"], [0.5555555555555556, \"#d8576b\"], [0.6666666666666666, \"#ed7953\"], [0.7777777777777778, \"#fb9f3a\"], [0.8888888888888888, \"#fdca26\"], [1.0, \"#f0f921\"]], \"type\": \"heatmap\"}], \"heatmapgl\": [{\"colorbar\": {\"outlinewidth\": 0, \"ticks\": \"\"}, \"colorscale\": [[0.0, \"#0d0887\"], [0.1111111111111111, \"#46039f\"], [0.2222222222222222, \"#7201a8\"], [0.3333333333333333, \"#9c179e\"], [0.4444444444444444, \"#bd3786\"], [0.5555555555555556, \"#d8576b\"], [0.6666666666666666, \"#ed7953\"], [0.7777777777777778, \"#fb9f3a\"], [0.8888888888888888, \"#fdca26\"], [1.0, \"#f0f921\"]], \"type\": \"heatmapgl\"}], \"histogram\": [{\"marker\": {\"colorbar\": {\"outlinewidth\": 0, \"ticks\": \"\"}}, \"type\": \"histogram\"}], \"histogram2d\": [{\"colorbar\": {\"outlinewidth\": 0, \"ticks\": \"\"}, \"colorscale\": [[0.0, \"#0d0887\"], [0.1111111111111111, \"#46039f\"], [0.2222222222222222, \"#7201a8\"], [0.3333333333333333, \"#9c179e\"], [0.4444444444444444, \"#bd3786\"], [0.5555555555555556, \"#d8576b\"], [0.6666666666666666, \"#ed7953\"], [0.7777777777777778, \"#fb9f3a\"], [0.8888888888888888, \"#fdca26\"], [1.0, \"#f0f921\"]], \"type\": \"histogram2d\"}], \"histogram2dcontour\": [{\"colorbar\": {\"outlinewidth\": 0, \"ticks\": \"\"}, \"colorscale\": [[0.0, \"#0d0887\"], [0.1111111111111111, \"#46039f\"], [0.2222222222222222, \"#7201a8\"], [0.3333333333333333, \"#9c179e\"], [0.4444444444444444, \"#bd3786\"], [0.5555555555555556, \"#d8576b\"], [0.6666666666666666, \"#ed7953\"], [0.7777777777777778, \"#fb9f3a\"], [0.8888888888888888, \"#fdca26\"], [1.0, \"#f0f921\"]], \"type\": \"histogram2dcontour\"}], \"mesh3d\": [{\"colorbar\": {\"outlinewidth\": 0, \"ticks\": \"\"}, \"type\": \"mesh3d\"}], \"parcoords\": [{\"line\": {\"colorbar\": {\"outlinewidth\": 0, \"ticks\": \"\"}}, \"type\": \"parcoords\"}], \"pie\": [{\"automargin\": true, \"type\": \"pie\"}], \"scatter\": [{\"marker\": {\"colorbar\": {\"outlinewidth\": 0, \"ticks\": \"\"}}, \"type\": \"scatter\"}], \"scatter3d\": [{\"line\": {\"colorbar\": {\"outlinewidth\": 0, \"ticks\": \"\"}}, \"marker\": {\"colorbar\": {\"outlinewidth\": 0, \"ticks\": \"\"}}, \"type\": \"scatter3d\"}], \"scattercarpet\": [{\"marker\": {\"colorbar\": {\"outlinewidth\": 0, \"ticks\": \"\"}}, \"type\": \"scattercarpet\"}], \"scattergeo\": [{\"marker\": {\"colorbar\": {\"outlinewidth\": 0, \"ticks\": \"\"}}, \"type\": \"scattergeo\"}], \"scattergl\": [{\"marker\": {\"colorbar\": {\"outlinewidth\": 0, \"ticks\": \"\"}}, \"type\": \"scattergl\"}], \"scattermapbox\": [{\"marker\": {\"colorbar\": {\"outlinewidth\": 0, \"ticks\": \"\"}}, \"type\": \"scattermapbox\"}], \"scatterpolar\": [{\"marker\": {\"colorbar\": {\"outlinewidth\": 0, \"ticks\": \"\"}}, \"type\": \"scatterpolar\"}], \"scatterpolargl\": [{\"marker\": {\"colorbar\": {\"outlinewidth\": 0, \"ticks\": \"\"}}, \"type\": \"scatterpolargl\"}], \"scatterternary\": [{\"marker\": {\"colorbar\": {\"outlinewidth\": 0, \"ticks\": \"\"}}, \"type\": \"scatterternary\"}], \"surface\": [{\"colorbar\": {\"outlinewidth\": 0, \"ticks\": \"\"}, \"colorscale\": [[0.0, \"#0d0887\"], [0.1111111111111111, \"#46039f\"], [0.2222222222222222, \"#7201a8\"], [0.3333333333333333, \"#9c179e\"], [0.4444444444444444, \"#bd3786\"], [0.5555555555555556, \"#d8576b\"], [0.6666666666666666, \"#ed7953\"], [0.7777777777777778, \"#fb9f3a\"], [0.8888888888888888, \"#fdca26\"], [1.0, \"#f0f921\"]], \"type\": \"surface\"}], \"table\": [{\"cells\": {\"fill\": {\"color\": \"#EBF0F8\"}, \"line\": {\"color\": \"white\"}}, \"header\": {\"fill\": {\"color\": \"#C8D4E3\"}, \"line\": {\"color\": \"white\"}}, \"type\": \"table\"}]}, \"layout\": {\"annotationdefaults\": {\"arrowcolor\": \"#2a3f5f\", \"arrowhead\": 0, \"arrowwidth\": 1}, \"coloraxis\": {\"colorbar\": {\"outlinewidth\": 0, \"ticks\": \"\"}}, \"colorscale\": {\"diverging\": [[0, \"#8e0152\"], [0.1, \"#c51b7d\"], [0.2, \"#de77ae\"], [0.3, \"#f1b6da\"], [0.4, \"#fde0ef\"], [0.5, \"#f7f7f7\"], [0.6, \"#e6f5d0\"], [0.7, \"#b8e186\"], [0.8, \"#7fbc41\"], [0.9, \"#4d9221\"], [1, \"#276419\"]], \"sequential\": [[0.0, \"#0d0887\"], [0.1111111111111111, \"#46039f\"], [0.2222222222222222, \"#7201a8\"], [0.3333333333333333, \"#9c179e\"], [0.4444444444444444, \"#bd3786\"], [0.5555555555555556, \"#d8576b\"], [0.6666666666666666, \"#ed7953\"], [0.7777777777777778, \"#fb9f3a\"], [0.8888888888888888, \"#fdca26\"], [1.0, \"#f0f921\"]], \"sequentialminus\": [[0.0, \"#0d0887\"], [0.1111111111111111, \"#46039f\"], [0.2222222222222222, \"#7201a8\"], [0.3333333333333333, \"#9c179e\"], [0.4444444444444444, \"#bd3786\"], [0.5555555555555556, \"#d8576b\"], [0.6666666666666666, \"#ed7953\"], [0.7777777777777778, \"#fb9f3a\"], [0.8888888888888888, \"#fdca26\"], [1.0, \"#f0f921\"]]}, \"colorway\": [\"#636efa\", \"#EF553B\", \"#00cc96\", \"#ab63fa\", \"#FFA15A\", \"#19d3f3\", \"#FF6692\", \"#B6E880\", \"#FF97FF\", \"#FECB52\"], \"font\": {\"color\": \"#2a3f5f\"}, \"geo\": {\"bgcolor\": \"white\", \"lakecolor\": \"white\", \"landcolor\": \"#E5ECF6\", \"showlakes\": true, \"showland\": true, \"subunitcolor\": \"white\"}, \"hoverlabel\": {\"align\": \"left\"}, \"hovermode\": \"closest\", \"mapbox\": {\"style\": \"light\"}, \"paper_bgcolor\": \"white\", \"plot_bgcolor\": \"#E5ECF6\", \"polar\": {\"angularaxis\": {\"gridcolor\": \"white\", \"linecolor\": \"white\", \"ticks\": \"\"}, \"bgcolor\": \"#E5ECF6\", \"radialaxis\": {\"gridcolor\": \"white\", \"linecolor\": \"white\", \"ticks\": \"\"}}, \"scene\": {\"xaxis\": {\"backgroundcolor\": \"#E5ECF6\", \"gridcolor\": \"white\", \"gridwidth\": 2, \"linecolor\": \"white\", \"showbackground\": true, \"ticks\": \"\", \"zerolinecolor\": \"white\"}, \"yaxis\": {\"backgroundcolor\": \"#E5ECF6\", \"gridcolor\": \"white\", \"gridwidth\": 2, \"linecolor\": \"white\", \"showbackground\": true, \"ticks\": \"\", \"zerolinecolor\": \"white\"}, \"zaxis\": {\"backgroundcolor\": \"#E5ECF6\", \"gridcolor\": \"white\", \"gridwidth\": 2, \"linecolor\": \"white\", \"showbackground\": true, \"ticks\": \"\", \"zerolinecolor\": \"white\"}}, \"shapedefaults\": {\"line\": {\"color\": \"#2a3f5f\"}}, \"ternary\": {\"aaxis\": {\"gridcolor\": \"white\", \"linecolor\": \"white\", \"ticks\": \"\"}, \"baxis\": {\"gridcolor\": \"white\", \"linecolor\": \"white\", \"ticks\": \"\"}, \"bgcolor\": \"#E5ECF6\", \"caxis\": {\"gridcolor\": \"white\", \"linecolor\": \"white\", \"ticks\": \"\"}}, \"title\": {\"x\": 0.05}, \"xaxis\": {\"automargin\": true, \"gridcolor\": \"white\", \"linecolor\": \"white\", \"ticks\": \"\", \"title\": {\"standoff\": 15}, \"zerolinecolor\": \"white\", \"zerolinewidth\": 2}, \"yaxis\": {\"automargin\": true, \"gridcolor\": \"white\", \"linecolor\": \"white\", \"ticks\": \"\", \"title\": {\"standoff\": 15}, \"zerolinecolor\": \"white\", \"zerolinewidth\": 2}}}, \"title\": {\"text\": \"Valor confinanciado vs rendimiento por proyecto\"}, \"xaxis\": {\"anchor\": \"y\", \"domain\": [0.0, 1.0], \"title\": {\"text\": \"RENDIMIENTO\"}}, \"yaxis\": {\"anchor\": \"x\", \"domain\": [0.0, 1.0], \"title\": {\"text\": \"Valor total cofinanciaci\\u00f3n ADR\"}}},\n",
       "                        {\"responsive\": true}\n",
       "                    ).then(function(){\n",
       "                            \n",
       "var gd = document.getElementById('0f24a3c2-8501-4d90-8fe1-5ec95a31ac3a');\n",
       "var x = new MutationObserver(function (mutations, observer) {{\n",
       "        var display = window.getComputedStyle(gd).display;\n",
       "        if (!display || display === 'none') {{\n",
       "            console.log([gd, 'removed!']);\n",
       "            Plotly.purge(gd);\n",
       "            observer.disconnect();\n",
       "        }}\n",
       "}});\n",
       "\n",
       "// Listen for the removal of the full notebook cells\n",
       "var notebookContainer = gd.closest('#notebook-container');\n",
       "if (notebookContainer) {{\n",
       "    x.observe(notebookContainer, {childList: true});\n",
       "}}\n",
       "\n",
       "// Listen for the clearing of the current output cell\n",
       "var outputEl = gd.closest('.output');\n",
       "if (outputEl) {{\n",
       "    x.observe(outputEl, {childList: true});\n",
       "}}\n",
       "\n",
       "                        })\n",
       "                };\n",
       "                });\n",
       "            </script>\n",
       "        </div>"
      ]
     },
     "metadata": {},
     "output_type": "display_data"
    }
   ],
   "source": [
    "import plotly.express as px\n",
    "fig = px.scatter(PRUEBA, x='RENDIMIENTO', y='Valor total cofinanciación ADR', color='CADENA_PRODUCTIVA_ADR',\n",
    "                 size='Total beneficiarios', hover_data=['BP','Departamento','Vigencia'], title = 'Valor confinanciado vs rendimiento por proyecto')\n",
    "fig.show()"
   ]
  },
  {
   "cell_type": "code",
   "execution_count": 105,
   "metadata": {},
   "outputs": [
    {
     "data": {
      "application/vnd.plotly.v1+json": {
       "config": {
        "plotlyServerURL": "https://plot.ly"
       },
       "data": [
        {
         "hovertemplate": "CADENA_PRODUCTIVA_ADR=ACELGA<br>YEAR=%{x}<br>RENDIMIENTO=%{y}<extra></extra>",
         "legendgroup": "ACELGA",
         "line": {
          "color": "#636efa",
          "dash": "solid"
         },
         "mode": "lines",
         "name": "ACELGA",
         "showlegend": true,
         "type": "scattergl",
         "x": [
          2006,
          2007,
          2008,
          2009,
          2010,
          2011,
          2012,
          2013,
          2014,
          2015,
          2016,
          2017,
          2018
         ],
         "xaxis": "x",
         "y": [
          11.388333333333334,
          10.9,
          12.23,
          9.866923076923076,
          7.63625,
          13.023333333333333,
          12.8,
          13.488000000000001,
          12.293,
          13.859090909090911,
          13.463636363636367,
          10.882758620689655,
          10.645333333333333
         ],
         "yaxis": "y"
        },
        {
         "hovertemplate": "CADENA_PRODUCTIVA_ADR=AHUYAMA<br>YEAR=%{x}<br>RENDIMIENTO=%{y}<extra></extra>",
         "legendgroup": "AHUYAMA",
         "line": {
          "color": "#EF553B",
          "dash": "solid"
         },
         "mode": "lines",
         "name": "AHUYAMA",
         "showlegend": true,
         "type": "scattergl",
         "x": [
          2006,
          2007,
          2008,
          2009,
          2010,
          2011,
          2012,
          2013,
          2014,
          2015,
          2016,
          2017,
          2018
         ],
         "xaxis": "x",
         "y": [
          14.085934065934067,
          13.855872093023256,
          13.231885714285712,
          12.014408602150539,
          12.471698113207546,
          12.518936170212768,
          12.268907563025211,
          13.093888888888888,
          12.831417624521075,
          12.888215613382899,
          11.870760869565217,
          11.795265017667846,
          12.213266666666668
         ],
         "yaxis": "y"
        },
        {
         "hovertemplate": "CADENA_PRODUCTIVA_ADR=AJI<br>YEAR=%{x}<br>RENDIMIENTO=%{y}<extra></extra>",
         "legendgroup": "AJI",
         "line": {
          "color": "#00cc96",
          "dash": "solid"
         },
         "mode": "lines",
         "name": "AJI",
         "showlegend": true,
         "type": "scattergl",
         "x": [
          2006,
          2007,
          2008,
          2009,
          2010,
          2011,
          2012,
          2013,
          2014,
          2015,
          2016,
          2017,
          2018
         ],
         "xaxis": "x",
         "y": [
          8.478888888888887,
          9.647226890756304,
          8.955255474452555,
          8.126504065040649,
          8.500338983050847,
          7.296694214876031,
          7.498124999999999,
          7.539836065573769,
          7.591517857142857,
          6.514152542372881,
          7.31362962962963,
          8.148466666666666,
          9.342574257425742
         ],
         "yaxis": "y"
        },
        {
         "hovertemplate": "CADENA_PRODUCTIVA_ADR=AJO<br>YEAR=%{x}<br>RENDIMIENTO=%{y}<extra></extra>",
         "legendgroup": "AJO",
         "line": {
          "color": "#ab63fa",
          "dash": "solid"
         },
         "mode": "lines",
         "name": "AJO",
         "showlegend": true,
         "type": "scattergl",
         "x": [
          2006,
          2007,
          2008,
          2009,
          2010,
          2011,
          2012,
          2013,
          2014,
          2015,
          2016,
          2017,
          2018
         ],
         "xaxis": "x",
         "y": [
          8.196428571428571,
          7.867999999999999,
          8.32,
          10.554545454545455,
          10.275714285714287,
          11.312500000000002,
          11.673333333333336,
          9.769032258064517,
          9.873076923076924,
          8.892307692307693,
          10.661538461538461,
          10.742307692307692,
          10.883076923076924
         ],
         "yaxis": "y"
        },
        {
         "hovertemplate": "CADENA_PRODUCTIVA_ADR=AJONJOLI<br>YEAR=%{x}<br>RENDIMIENTO=%{y}<extra></extra>",
         "legendgroup": "AJONJOLI",
         "line": {
          "color": "#FFA15A",
          "dash": "solid"
         },
         "mode": "lines",
         "name": "AJONJOLI",
         "showlegend": true,
         "type": "scattergl",
         "x": [
          2006,
          2007,
          2008,
          2009,
          2010,
          2011,
          2012,
          2013,
          2014,
          2015,
          2016,
          2017,
          2018
         ],
         "xaxis": "x",
         "y": [
          0.7144117647058826,
          0.6639473684210528,
          0.6891891891891893,
          0.6631578947368422,
          0.6788461538461538,
          0.6792307692307692,
          0.6711111111111113,
          0.7185185185185186,
          0.6697142857142857,
          0.736923076923077,
          0.7385294117647061,
          0.7290625000000001,
          0.835
         ],
         "yaxis": "y"
        },
        {
         "hovertemplate": "CADENA_PRODUCTIVA_ADR=ALGODON<br>YEAR=%{x}<br>RENDIMIENTO=%{y}<extra></extra>",
         "legendgroup": "ALGODON",
         "line": {
          "color": "#19d3f3",
          "dash": "solid"
         },
         "mode": "lines",
         "name": "ALGODON",
         "showlegend": true,
         "type": "scattergl",
         "x": [
          2006,
          2007,
          2008,
          2009,
          2010,
          2011,
          2012,
          2013,
          2014,
          2015,
          2016,
          2017,
          2018
         ],
         "xaxis": "x",
         "y": [
          1.6082278481012653,
          2.2523300970873774,
          2.298469387755102,
          2.1023863636363647,
          2.506145833333337,
          2.0899115044247787,
          1.9238461538461542,
          2.3547252747252765,
          2.2643333333333335,
          2.03,
          2.546756756756756,
          2.3791428571428574,
          2.669444444444445
         ],
         "yaxis": "y"
        },
        {
         "hovertemplate": "CADENA_PRODUCTIVA_ADR=APIO<br>YEAR=%{x}<br>RENDIMIENTO=%{y}<extra></extra>",
         "legendgroup": "APIO",
         "line": {
          "color": "#FF6692",
          "dash": "solid"
         },
         "mode": "lines",
         "name": "APIO",
         "showlegend": true,
         "type": "scattergl",
         "x": [
          2006,
          2007,
          2008,
          2009,
          2010,
          2011,
          2012,
          2013,
          2014,
          2015,
          2016,
          2017,
          2018
         ],
         "xaxis": "x",
         "y": [
          22.12,
          22.045,
          20.236666666666665,
          17.8,
          15.083636363636366,
          14.923076923076923,
          14.441176470588236,
          13.5,
          12.072222222222223,
          13.592857142857143,
          15.36111111111111,
          16.01875,
          15.913
         ],
         "yaxis": "y"
        },
        {
         "hovertemplate": "CADENA_PRODUCTIVA_ADR=ARROZ<br>YEAR=%{x}<br>RENDIMIENTO=%{y}<extra></extra>",
         "legendgroup": "ARROZ",
         "line": {
          "color": "#B6E880",
          "dash": "solid"
         },
         "mode": "lines",
         "name": "ARROZ",
         "showlegend": true,
         "type": "scattergl",
         "x": [
          2006,
          2007,
          2008,
          2009,
          2010,
          2011,
          2012,
          2013,
          2014,
          2015,
          2016,
          2017,
          2018
         ],
         "xaxis": "x",
         "y": [
          4.079886363636366,
          4.247668918918924,
          4.173350000000006,
          3.942534246575341,
          3.800934426229503,
          3.670476190476188,
          3.833598673300165,
          3.8530537974683523,
          3.969126213592235,
          3.8882636655948546,
          4.060057636887611,
          3.8453658536585404,
          4.078017492711371
         ],
         "yaxis": "y"
        },
        {
         "hovertemplate": "CADENA_PRODUCTIVA_ADR=ARVEJA<br>YEAR=%{x}<br>RENDIMIENTO=%{y}<extra></extra>",
         "legendgroup": "ARVEJA",
         "line": {
          "color": "#FF97FF",
          "dash": "solid"
         },
         "mode": "lines",
         "name": "ARVEJA",
         "showlegend": true,
         "type": "scattergl",
         "x": [
          2006,
          2007,
          2008,
          2009,
          2010,
          2011,
          2012,
          2013,
          2014,
          2015,
          2016,
          2017,
          2018
         ],
         "xaxis": "x",
         "y": [
          1.6011666666666675,
          1.5909751037344384,
          1.600843621399176,
          1.5586785009861932,
          1.5752443609022555,
          1.5503364485981301,
          1.6681488549618322,
          1.4607317073170722,
          1.535977859778598,
          1.3882841328413293,
          1.4068402154398572,
          1.4519759450171825,
          1.4328619528619537
         ],
         "yaxis": "y"
        },
        {
         "hovertemplate": "CADENA_PRODUCTIVA_ADR=AVENA<br>YEAR=%{x}<br>RENDIMIENTO=%{y}<extra></extra>",
         "legendgroup": "AVENA",
         "line": {
          "color": "#FECB52",
          "dash": "solid"
         },
         "mode": "lines",
         "name": "AVENA",
         "showlegend": true,
         "type": "scattergl",
         "x": [
          2006,
          2007,
          2008,
          2009,
          2010,
          2011,
          2012,
          2013,
          2014,
          2015,
          2016,
          2017,
          2018
         ],
         "xaxis": "x",
         "y": [
          1.895,
          1.836470588235294,
          1.9185714285714288,
          1.67,
          2.0727272727272728,
          1.9333333333333336,
          2.07,
          1.9307692307692308,
          1.625,
          1.788888888888889,
          2.6684210526315786,
          2.3527777777777774,
          2.452
         ],
         "yaxis": "y"
        },
        {
         "hovertemplate": "CADENA_PRODUCTIVA_ADR=BATATA<br>YEAR=%{x}<br>RENDIMIENTO=%{y}<extra></extra>",
         "legendgroup": "BATATA",
         "line": {
          "color": "#636efa",
          "dash": "solid"
         },
         "mode": "lines",
         "name": "BATATA",
         "showlegend": true,
         "type": "scattergl",
         "x": [
          2006,
          2007,
          2008,
          2009,
          2010,
          2011,
          2012,
          2013,
          2014,
          2015,
          2016,
          2017,
          2018
         ],
         "xaxis": "x",
         "y": [
          10,
          7.213333333333334,
          6.036666666666666,
          4.508,
          3.225,
          3.1714285714285717,
          3.5076923076923077,
          2.9799999999999995,
          2.344444444444444,
          2.8727272727272726,
          8.160666666666666,
          9.401875,
          10.27
         ],
         "yaxis": "y"
        },
        {
         "hovertemplate": "CADENA_PRODUCTIVA_ADR=BERENJENA<br>YEAR=%{x}<br>RENDIMIENTO=%{y}<extra></extra>",
         "legendgroup": "BERENJENA",
         "line": {
          "color": "#EF553B",
          "dash": "solid"
         },
         "mode": "lines",
         "name": "BERENJENA",
         "showlegend": true,
         "type": "scattergl",
         "x": [
          2006,
          2007,
          2008,
          2009,
          2010,
          2011,
          2012,
          2013,
          2014,
          2015,
          2016,
          2017,
          2018
         ],
         "xaxis": "x",
         "y": [
          13.7725,
          12.819999999999999,
          12.128076923076922,
          11.265217391304349,
          11.457142857142857,
          9.844,
          12.453333333333335,
          12.146428571428572,
          12.032,
          13.16551724137931,
          15.024838709677418,
          14.450000000000001,
          12.85
         ],
         "yaxis": "y"
        },
        {
         "hovertemplate": "CADENA_PRODUCTIVA_ADR=BROCOLI<br>YEAR=%{x}<br>RENDIMIENTO=%{y}<extra></extra>",
         "legendgroup": "BROCOLI",
         "line": {
          "color": "#00cc96",
          "dash": "solid"
         },
         "mode": "lines",
         "name": "BROCOLI",
         "showlegend": true,
         "type": "scattergl",
         "x": [
          2006,
          2007,
          2008,
          2009,
          2010,
          2011,
          2012,
          2013,
          2014,
          2015,
          2016,
          2017,
          2018
         ],
         "xaxis": "x",
         "y": [
          16.541666666666668,
          16.03851851851852,
          16.093125,
          16.759999999999998,
          15.522631578947369,
          15.297560975609757,
          16.6974358974359,
          18.062857142857144,
          17.260606060606065,
          16.981250000000003,
          16.43888888888889,
          18.221951219512196,
          17.854761904761904
         ],
         "yaxis": "y"
        },
        {
         "hovertemplate": "CADENA_PRODUCTIVA_ADR=CALABACIN<br>YEAR=%{x}<br>RENDIMIENTO=%{y}<extra></extra>",
         "legendgroup": "CALABACIN",
         "line": {
          "color": "#ab63fa",
          "dash": "solid"
         },
         "mode": "lines",
         "name": "CALABACIN",
         "showlegend": true,
         "type": "scattergl",
         "x": [
          2006,
          2007,
          2008,
          2009,
          2010,
          2011,
          2012,
          2013,
          2014,
          2015,
          2016,
          2017,
          2018
         ],
         "xaxis": "x",
         "y": [
          3.2,
          6.6,
          10,
          11,
          10.5,
          48.5,
          18.285714285714285,
          40.2,
          4.9,
          9.88888888888889,
          16.678571428571427,
          16.74705882352941,
          16.0875
         ],
         "yaxis": "y"
        },
        {
         "hovertemplate": "CADENA_PRODUCTIVA_ADR=CALABAZA<br>YEAR=%{x}<br>RENDIMIENTO=%{y}<extra></extra>",
         "legendgroup": "CALABAZA",
         "line": {
          "color": "#FFA15A",
          "dash": "solid"
         },
         "mode": "lines",
         "name": "CALABAZA",
         "showlegend": true,
         "type": "scattergl",
         "x": [
          2006,
          2007,
          2008,
          2010,
          2011,
          2012,
          2013,
          2014,
          2015,
          2016,
          2017,
          2018
         ],
         "xaxis": "x",
         "y": [
          8.25,
          10.5,
          7,
          14.4,
          8.4,
          19.8,
          16.5,
          16.25,
          26.5,
          20.75,
          14.833333333333334,
          17.81
         ],
         "yaxis": "y"
        },
        {
         "hovertemplate": "CADENA_PRODUCTIVA_ADR=CEBADA<br>YEAR=%{x}<br>RENDIMIENTO=%{y}<extra></extra>",
         "legendgroup": "CEBADA",
         "line": {
          "color": "#19d3f3",
          "dash": "solid"
         },
         "mode": "lines",
         "name": "CEBADA",
         "showlegend": true,
         "type": "scattergl",
         "x": [
          2006,
          2007,
          2008,
          2009,
          2010,
          2011,
          2012,
          2013,
          2014,
          2015,
          2016,
          2017,
          2018
         ],
         "xaxis": "x",
         "y": [
          1.5741666666666667,
          1.5768852459016391,
          1.5049230769230766,
          1.5567857142857144,
          1.555686274509804,
          1.4968000000000004,
          1.3580851063829789,
          1.4991228070175437,
          1.3113953488372092,
          1.51,
          1.8072916666666667,
          1.791860465116279,
          1.8207692307692311
         ],
         "yaxis": "y"
        },
        {
         "hovertemplate": "CADENA_PRODUCTIVA_ADR=CEBOLLA DE BULBO<br>YEAR=%{x}<br>RENDIMIENTO=%{y}<extra></extra>",
         "legendgroup": "CEBOLLA DE BULBO",
         "line": {
          "color": "#FF6692",
          "dash": "solid"
         },
         "mode": "lines",
         "name": "CEBOLLA DE BULBO",
         "showlegend": true,
         "type": "scattergl",
         "x": [
          2006,
          2007,
          2008,
          2009,
          2010,
          2011,
          2012,
          2013,
          2014,
          2015,
          2016,
          2017,
          2018
         ],
         "xaxis": "x",
         "y": [
          16.74811111111111,
          17.144873417721517,
          17.376206896551725,
          17.63398773006135,
          16.75262569832402,
          16.069839572192514,
          17.463174603174604,
          17.710883720930234,
          18.505488372093023,
          17.631173708920187,
          18.358365384615386,
          17.971,
          18.422589285714285
         ],
         "yaxis": "y"
        },
        {
         "hovertemplate": "CADENA_PRODUCTIVA_ADR=CEBOLLA DE RAMA<br>YEAR=%{x}<br>RENDIMIENTO=%{y}<extra></extra>",
         "legendgroup": "CEBOLLA DE RAMA",
         "line": {
          "color": "#B6E880",
          "dash": "solid"
         },
         "mode": "lines",
         "name": "CEBOLLA DE RAMA",
         "showlegend": true,
         "type": "scattergl",
         "x": [
          2006,
          2007,
          2008,
          2009,
          2010,
          2011,
          2012,
          2013,
          2014,
          2015,
          2016,
          2017,
          2018
         ],
         "xaxis": "x",
         "y": [
          11.681333333333333,
          12.988859649122807,
          12.064375000000002,
          12.753249999999998,
          12.105736434108529,
          12.628000000000002,
          13.133666666666668,
          13.393151515151512,
          14.140063694267518,
          14.978,
          16.19188235294118,
          14.76513157894737,
          14.247238095238096
         ],
         "yaxis": "y"
        },
        {
         "hovertemplate": "CADENA_PRODUCTIVA_ADR=CILANTRO<br>YEAR=%{x}<br>RENDIMIENTO=%{y}<extra></extra>",
         "legendgroup": "CILANTRO",
         "line": {
          "color": "#FF97FF",
          "dash": "solid"
         },
         "mode": "lines",
         "name": "CILANTRO",
         "showlegend": true,
         "type": "scattergl",
         "x": [
          2006,
          2007,
          2008,
          2009,
          2010,
          2011,
          2012,
          2013,
          2014,
          2015,
          2016,
          2017,
          2018
         ],
         "xaxis": "x",
         "y": [
          6.624599999999999,
          6.572972972972973,
          6.199685039370077,
          7.054117647058824,
          5.7379999999999995,
          5.808425196850396,
          5.705185185185185,
          5.958036809815951,
          5.868666666666667,
          5.588860759493671,
          5.731882352941176,
          6.4005882352941175,
          6.291685393258428
         ],
         "yaxis": "y"
        },
        {
         "hovertemplate": "CADENA_PRODUCTIVA_ADR=CIMARRON<br>YEAR=%{x}<br>RENDIMIENTO=%{y}<extra></extra>",
         "legendgroup": "CIMARRON",
         "line": {
          "color": "#FECB52",
          "dash": "solid"
         },
         "mode": "lines",
         "name": "CIMARRON",
         "showlegend": true,
         "type": "scattergl",
         "x": [
          2006,
          2007,
          2008,
          2009,
          2010,
          2011,
          2012,
          2013,
          2014,
          2015,
          2016,
          2017,
          2018
         ],
         "xaxis": "x",
         "y": [
          6.784000000000001,
          7.144444444444444,
          6.166666666666666,
          6.8199999999999985,
          7.277777777777778,
          7.959166666666666,
          5.607692307692308,
          4.660869565217391,
          4.652,
          4.931578947368421,
          3.41,
          0.9625,
          0.98875
         ],
         "yaxis": "y"
        },
        {
         "hovertemplate": "CADENA_PRODUCTIVA_ADR=COL<br>YEAR=%{x}<br>RENDIMIENTO=%{y}<extra></extra>",
         "legendgroup": "COL",
         "line": {
          "color": "#636efa",
          "dash": "solid"
         },
         "mode": "lines",
         "name": "COL",
         "showlegend": true,
         "type": "scattergl",
         "x": [
          2006,
          2007,
          2008,
          2009,
          2010,
          2011,
          2012,
          2013,
          2014,
          2015,
          2016,
          2017,
          2018
         ],
         "xaxis": "x",
         "y": [
          8.542857142857143,
          8.675555555555555,
          8.299444444444443,
          6.836363636363637,
          6.65,
          3.5029999999999992,
          4.2,
          7.9941176470588236,
          4.19,
          3.28,
          5.042857142857144,
          4.757142857142858,
          4.82
         ],
         "yaxis": "y"
        },
        {
         "hovertemplate": "CADENA_PRODUCTIVA_ADR=COLIFLOR<br>YEAR=%{x}<br>RENDIMIENTO=%{y}<extra></extra>",
         "legendgroup": "COLIFLOR",
         "line": {
          "color": "#EF553B",
          "dash": "solid"
         },
         "mode": "lines",
         "name": "COLIFLOR",
         "showlegend": true,
         "type": "scattergl",
         "x": [
          2006,
          2007,
          2008,
          2009,
          2010,
          2011,
          2012,
          2013,
          2014,
          2015,
          2016,
          2017,
          2018
         ],
         "xaxis": "x",
         "y": [
          22.111666666666668,
          21.056000000000004,
          19.142,
          21.041851851851852,
          20.637499999999996,
          20.64107142857143,
          21.620689655172413,
          21.29032258064516,
          21.118181818181817,
          20.7,
          20.1,
          20.978125,
          20.958125
         ],
         "yaxis": "y"
        },
        {
         "hovertemplate": "CADENA_PRODUCTIVA_ADR=ESPARRAGO<br>YEAR=%{x}<br>RENDIMIENTO=%{y}<extra></extra>",
         "legendgroup": "ESPARRAGO",
         "line": {
          "color": "#00cc96",
          "dash": "solid"
         },
         "mode": "lines",
         "name": "ESPARRAGO",
         "showlegend": true,
         "type": "scattergl",
         "x": [
          2006,
          2007,
          2008,
          2009,
          2010,
          2011,
          2013,
          2014,
          2015,
          2016,
          2017,
          2018
         ],
         "xaxis": "x",
         "y": [
          7.8,
          5.491666666666667,
          6.098,
          5.18,
          1.9833333333333334,
          2.3,
          3,
          3,
          2.7,
          4,
          4,
          4
         ],
         "yaxis": "y"
        },
        {
         "hovertemplate": "CADENA_PRODUCTIVA_ADR=ESPINACA<br>YEAR=%{x}<br>RENDIMIENTO=%{y}<extra></extra>",
         "legendgroup": "ESPINACA",
         "line": {
          "color": "#ab63fa",
          "dash": "solid"
         },
         "mode": "lines",
         "name": "ESPINACA",
         "showlegend": true,
         "type": "scattergl",
         "x": [
          2006,
          2007,
          2008,
          2009,
          2010,
          2011,
          2012,
          2013,
          2014,
          2015,
          2016,
          2017,
          2018
         ],
         "xaxis": "x",
         "y": [
          15.214285714285714,
          13.51625,
          13.4535,
          13.857999999999999,
          15.232222222222223,
          14.90625,
          15.321428571428571,
          17.036363636363635,
          12.76923076923077,
          14.399999999999999,
          13.244444444444444,
          13.079999999999998,
          13.523000000000001
         ],
         "yaxis": "y"
        },
        {
         "hovertemplate": "CADENA_PRODUCTIVA_ADR=FRIJOL<br>YEAR=%{x}<br>RENDIMIENTO=%{y}<extra></extra>",
         "legendgroup": "FRIJOL",
         "line": {
          "color": "#FFA15A",
          "dash": "solid"
         },
         "mode": "lines",
         "name": "FRIJOL",
         "showlegend": true,
         "type": "scattergl",
         "x": [
          2006,
          2007,
          2008,
          2009,
          2010,
          2011,
          2012,
          2013,
          2014,
          2015,
          2016,
          2017,
          2018
         ],
         "xaxis": "x",
         "y": [
          1.0938128249566714,
          1.090706190061028,
          1.091135371179037,
          1.0840470193115017,
          1.0909121338912144,
          1.0762668918918932,
          1.084749134948095,
          1.0858664546899848,
          1.0844983818770204,
          1.0781074578989565,
          1.1594563552833073,
          1.1535056179775285,
          1.153706395348837
         ],
         "yaxis": "y"
        },
        {
         "hovertemplate": "CADENA_PRODUCTIVA_ADR=GARBANZO<br>YEAR=%{x}<br>RENDIMIENTO=%{y}<extra></extra>",
         "legendgroup": "GARBANZO",
         "line": {
          "color": "#19d3f3",
          "dash": "solid"
         },
         "mode": "lines",
         "name": "GARBANZO",
         "showlegend": true,
         "type": "scattergl",
         "x": [
          2006,
          2007,
          2008,
          2009,
          2011,
          2012,
          2013,
          2014,
          2015,
          2016,
          2017,
          2018
         ],
         "xaxis": "x",
         "y": [
          1,
          1,
          1,
          1,
          1.32,
          0.8900000000000001,
          1.516,
          1.6199999999999999,
          1.6666666666666667,
          1.92,
          1.45,
          1.2
         ],
         "yaxis": "y"
        },
        {
         "hovertemplate": "CADENA_PRODUCTIVA_ADR=HABA<br>YEAR=%{x}<br>RENDIMIENTO=%{y}<extra></extra>",
         "legendgroup": "HABA",
         "line": {
          "color": "#FF6692",
          "dash": "solid"
         },
         "mode": "lines",
         "name": "HABA",
         "showlegend": true,
         "type": "scattergl",
         "x": [
          2006,
          2007,
          2008,
          2009,
          2010,
          2011,
          2012,
          2013,
          2014,
          2015,
          2016,
          2017,
          2018
         ],
         "xaxis": "x",
         "y": [
          2.1923999999999997,
          2.2710416666666666,
          2.454727272727273,
          2.1993617021276592,
          2.1602083333333333,
          4.303859649122807,
          4.686610169491526,
          4.9161016949152545,
          4.23326923076923,
          3.9544642857142853,
          4.267719298245614,
          3.89060606060606,
          3.2276190476190476
         ],
         "yaxis": "y"
        },
        {
         "hovertemplate": "CADENA_PRODUCTIVA_ADR=HABICHUELA<br>YEAR=%{x}<br>RENDIMIENTO=%{y}<extra></extra>",
         "legendgroup": "HABICHUELA",
         "line": {
          "color": "#B6E880",
          "dash": "solid"
         },
         "mode": "lines",
         "name": "HABICHUELA",
         "showlegend": true,
         "type": "scattergl",
         "x": [
          2006,
          2007,
          2008,
          2009,
          2010,
          2011,
          2012,
          2013,
          2014,
          2015,
          2016,
          2017,
          2018
         ],
         "xaxis": "x",
         "y": [
          8.187096774193549,
          8.141456692913385,
          7.983253968253969,
          7.996655290102391,
          7.968415841584159,
          7.494625850340138,
          7.339273356401384,
          7.602884615384612,
          7.382429022082019,
          7.633009708737863,
          7.340966666666667,
          7.6076205787781355,
          7.557631578947368
         ],
         "yaxis": "y"
        },
        {
         "hovertemplate": "CADENA_PRODUCTIVA_ADR=HORTALIZAS VARIAS<br>YEAR=%{x}<br>RENDIMIENTO=%{y}<extra></extra>",
         "legendgroup": "HORTALIZAS VARIAS",
         "line": {
          "color": "#FF97FF",
          "dash": "solid"
         },
         "mode": "lines",
         "name": "HORTALIZAS VARIAS",
         "showlegend": true,
         "type": "scattergl",
         "x": [
          2006,
          2007,
          2008,
          2009,
          2010,
          2011,
          2012,
          2013,
          2014,
          2015,
          2016,
          2017,
          2018
         ],
         "xaxis": "x",
         "y": [
          6.005384615384615,
          6.546132075471698,
          6.826990291262136,
          6.684347826086956,
          5.434,
          6.070127388535033,
          5.938132530120481,
          5.665000000000001,
          5.610631578947368,
          6.440606060606062,
          5.9088834951456315,
          7.3076923076923075,
          7.563518518518519
         ],
         "yaxis": "y"
        },
        {
         "hovertemplate": "CADENA_PRODUCTIVA_ADR=LECHUGA<br>YEAR=%{x}<br>RENDIMIENTO=%{y}<extra></extra>",
         "legendgroup": "LECHUGA",
         "line": {
          "color": "#FECB52",
          "dash": "solid"
         },
         "mode": "lines",
         "name": "LECHUGA",
         "showlegend": true,
         "type": "scattergl",
         "x": [
          2006,
          2007,
          2008,
          2009,
          2010,
          2011,
          2012,
          2013,
          2014,
          2015,
          2016,
          2017,
          2018
         ],
         "xaxis": "x",
         "y": [
          14.587241379310344,
          15.300322580645162,
          16.045217391304348,
          17.73294871794872,
          15.849651162790702,
          16.31036585365854,
          16.345263157894735,
          16.527450980392157,
          17.089555555555556,
          16.315384615384616,
          16.937938144329898,
          18.658252427184465,
          17.635
         ],
         "yaxis": "y"
        },
        {
         "hovertemplate": "CADENA_PRODUCTIVA_ADR=MAIZ<br>YEAR=%{x}<br>RENDIMIENTO=%{y}<extra></extra>",
         "legendgroup": "MAIZ",
         "line": {
          "color": "#636efa",
          "dash": "solid"
         },
         "mode": "lines",
         "name": "MAIZ",
         "showlegend": true,
         "type": "scattergl",
         "x": [
          2006,
          2007,
          2008,
          2009,
          2010,
          2011,
          2012,
          2013,
          2014,
          2015,
          2016,
          2017,
          2018
         ],
         "xaxis": "x",
         "y": [
          1.9221079429735286,
          1.9330758157389614,
          1.9592115384615347,
          1.906629754453535,
          1.8747700587084122,
          1.8683855185909943,
          1.9591584158415785,
          1.9938578199052124,
          1.9907841191067035,
          2.039484486873509,
          2.003349101229896,
          2.0103358561967832,
          2.015571177504394
         ],
         "yaxis": "y"
        },
        {
         "hovertemplate": "CADENA_PRODUCTIVA_ADR=MANI<br>YEAR=%{x}<br>RENDIMIENTO=%{y}<extra></extra>",
         "legendgroup": "MANI",
         "line": {
          "color": "#EF553B",
          "dash": "solid"
         },
         "mode": "lines",
         "name": "MANI",
         "showlegend": true,
         "type": "scattergl",
         "x": [
          2006,
          2007,
          2008,
          2009,
          2010,
          2011,
          2012,
          2013,
          2014,
          2015,
          2016,
          2017,
          2018
         ],
         "xaxis": "x",
         "y": [
          1.205625,
          1.1879411764705883,
          1.0619999999999998,
          1.1815000000000002,
          1.2476086956521741,
          1.1431250000000002,
          1.1525714285714284,
          1.0629032258064517,
          1.216923076923077,
          1.2542857142857144,
          1.3372413793103448,
          1.5808333333333335,
          1.581111111111111
         ],
         "yaxis": "y"
        },
        {
         "hovertemplate": "CADENA_PRODUCTIVA_ADR=MANZANILLA<br>YEAR=%{x}<br>RENDIMIENTO=%{y}<extra></extra>",
         "legendgroup": "MANZANILLA",
         "line": {
          "color": "#00cc96",
          "dash": "solid"
         },
         "mode": "lines",
         "name": "MANZANILLA",
         "showlegend": true,
         "type": "scattergl",
         "x": [
          2006,
          2007,
          2008,
          2016,
          2017,
          2018
         ],
         "xaxis": "x",
         "y": [
          1.52,
          1.51,
          1.25,
          13,
          24.53,
          25.01
         ],
         "yaxis": "y"
        },
        {
         "hovertemplate": "CADENA_PRODUCTIVA_ADR=MELON<br>YEAR=%{x}<br>RENDIMIENTO=%{y}<extra></extra>",
         "legendgroup": "MELON",
         "line": {
          "color": "#ab63fa",
          "dash": "solid"
         },
         "mode": "lines",
         "name": "MELON",
         "showlegend": true,
         "type": "scattergl",
         "x": [
          2006,
          2007,
          2008,
          2009,
          2010,
          2011,
          2012,
          2013,
          2014,
          2015,
          2016,
          2017,
          2018
         ],
         "xaxis": "x",
         "y": [
          12.89690476190476,
          14.045443037974682,
          14.126521739130435,
          13.848623853211008,
          15.627575757575757,
          15.779019607843136,
          14.137881355932203,
          14.84412213740458,
          14.9584693877551,
          16.952285714285715,
          16.38987654320988,
          15.182710843373494,
          15.822705882352937
         ],
         "yaxis": "y"
        },
        {
         "hovertemplate": "CADENA_PRODUCTIVA_ADR=PAPA<br>YEAR=%{x}<br>RENDIMIENTO=%{y}<extra></extra>",
         "legendgroup": "PAPA",
         "line": {
          "color": "#FFA15A",
          "dash": "solid"
         },
         "mode": "lines",
         "name": "PAPA",
         "showlegend": true,
         "type": "scattergl",
         "x": [
          2006,
          2007,
          2008,
          2009,
          2010,
          2011,
          2012,
          2013,
          2014,
          2015,
          2016,
          2017,
          2018
         ],
         "xaxis": "x",
         "y": [
          15.575708955223877,
          15.30930357142857,
          15.036159292035393,
          15.232645590682205,
          15.027765089722681,
          14.965160744500842,
          15.263117744610284,
          14.961074249605051,
          15.415503144654089,
          14.980616541353385,
          15.647090103397339,
          16.25457142857143,
          16.24241095890411
         ],
         "yaxis": "y"
        },
        {
         "hovertemplate": "CADENA_PRODUCTIVA_ADR=PATILLA<br>YEAR=%{x}<br>RENDIMIENTO=%{y}<extra></extra>",
         "legendgroup": "PATILLA",
         "line": {
          "color": "#19d3f3",
          "dash": "solid"
         },
         "mode": "lines",
         "name": "PATILLA",
         "showlegend": true,
         "type": "scattergl",
         "x": [
          2006,
          2007,
          2008,
          2009,
          2010,
          2011,
          2012,
          2013,
          2014,
          2015,
          2016,
          2017,
          2018
         ],
         "xaxis": "x",
         "y": [
          12.405432098765433,
          12.364971428571428,
          12.651959798994973,
          12.068691099476439,
          13.32469273743017,
          13.768433734939759,
          13.426540540540538,
          13.817061855670103,
          14.796577181208054,
          15.13557142857143,
          14.408807339449538,
          13.7159009009009,
          14.154491525423722
         ],
         "yaxis": "y"
        },
        {
         "hovertemplate": "CADENA_PRODUCTIVA_ADR=PEPINO COHOMBRO<br>YEAR=%{x}<br>RENDIMIENTO=%{y}<extra></extra>",
         "legendgroup": "PEPINO COHOMBRO",
         "line": {
          "color": "#FF6692",
          "dash": "solid"
         },
         "mode": "lines",
         "name": "PEPINO COHOMBRO",
         "showlegend": true,
         "type": "scattergl",
         "x": [
          2006,
          2007,
          2008,
          2009,
          2010,
          2011,
          2012,
          2013,
          2014,
          2015,
          2016,
          2017,
          2018
         ],
         "xaxis": "x",
         "y": [
          19.40575,
          17.98468085106383,
          16.341470588235296,
          15.326846846846845,
          16.47973214285714,
          15.547570093457946,
          16.12142857142857,
          15.64921875,
          15.573586206896548,
          16.531971830985917,
          16.78724832214765,
          17.964285714285715,
          17.572625
         ],
         "yaxis": "y"
        },
        {
         "hovertemplate": "CADENA_PRODUCTIVA_ADR=PEPINO GUISO<br>YEAR=%{x}<br>RENDIMIENTO=%{y}<extra></extra>",
         "legendgroup": "PEPINO GUISO",
         "line": {
          "color": "#B6E880",
          "dash": "solid"
         },
         "mode": "lines",
         "name": "PEPINO GUISO",
         "showlegend": true,
         "type": "scattergl",
         "x": [
          2006,
          2007,
          2008,
          2009,
          2010,
          2011,
          2012,
          2013,
          2014,
          2015,
          2016,
          2017,
          2018
         ],
         "xaxis": "x",
         "y": [
          12.004999999999999,
          12.758947368421053,
          13.470555555555555,
          12.9175,
          12.11769230769231,
          11.228,
          8.036842105263156,
          9.117647058823529,
          10.205882352941176,
          12.221739130434784,
          10.675384615384614,
          9.842333333333334,
          9.139999999999999
         ],
         "yaxis": "y"
        },
        {
         "hovertemplate": "CADENA_PRODUCTIVA_ADR=PEREJIL<br>YEAR=%{x}<br>RENDIMIENTO=%{y}<extra></extra>",
         "legendgroup": "PEREJIL",
         "line": {
          "color": "#FF97FF",
          "dash": "solid"
         },
         "mode": "lines",
         "name": "PEREJIL",
         "showlegend": true,
         "type": "scattergl",
         "x": [
          2006,
          2007,
          2008,
          2009,
          2010,
          2011,
          2012,
          2013,
          2014,
          2015,
          2016,
          2017,
          2018
         ],
         "xaxis": "x",
         "y": [
          4.5,
          5.666666666666667,
          6.571428571428571,
          7.025,
          10.25,
          8.625,
          6.540000000000001,
          4.3875,
          6.066666666666666,
          8.666666666666666,
          8.55,
          6.75,
          5.8
         ],
         "yaxis": "y"
        },
        {
         "hovertemplate": "CADENA_PRODUCTIVA_ADR=PIMENTON<br>YEAR=%{x}<br>RENDIMIENTO=%{y}<extra></extra>",
         "legendgroup": "PIMENTON",
         "line": {
          "color": "#FECB52",
          "dash": "solid"
         },
         "mode": "lines",
         "name": "PIMENTON",
         "showlegend": true,
         "type": "scattergl",
         "x": [
          2006,
          2007,
          2008,
          2009,
          2010,
          2011,
          2012,
          2013,
          2014,
          2015,
          2016,
          2017,
          2018
         ],
         "xaxis": "x",
         "y": [
          14.577887323943665,
          15.13294964028777,
          14.843541666666669,
          16.038639455782313,
          14.86487012987013,
          13.90125,
          13.356521739130432,
          13.821249999999997,
          12.554166666666669,
          12.832530120481927,
          13.170164835164835,
          13.918578680203044,
          13.450306122448977
         ],
         "yaxis": "y"
        },
        {
         "hovertemplate": "CADENA_PRODUCTIVA_ADR=PUERRO<br>YEAR=%{x}<br>RENDIMIENTO=%{y}<extra></extra>",
         "legendgroup": "PUERRO",
         "line": {
          "color": "#636efa",
          "dash": "solid"
         },
         "mode": "lines",
         "name": "PUERRO",
         "showlegend": true,
         "type": "scattergl",
         "x": [
          2006,
          2007,
          2012,
          2013,
          2014,
          2015,
          2017,
          2018
         ],
         "xaxis": "x",
         "y": [
          30,
          30,
          20,
          20,
          15,
          11,
          12.5,
          20
         ],
         "yaxis": "y"
        },
        {
         "hovertemplate": "CADENA_PRODUCTIVA_ADR=QUINUA<br>YEAR=%{x}<br>RENDIMIENTO=%{y}<extra></extra>",
         "legendgroup": "QUINUA",
         "line": {
          "color": "#EF553B",
          "dash": "solid"
         },
         "mode": "lines",
         "name": "QUINUA",
         "showlegend": true,
         "type": "scattergl",
         "x": [
          2006,
          2007,
          2008,
          2009,
          2010,
          2011,
          2012,
          2013,
          2014,
          2015,
          2016,
          2017,
          2018
         ],
         "xaxis": "x",
         "y": [
          0.615,
          1.2854545454545454,
          1.06375,
          0.9055555555555556,
          1.17,
          1.4088888888888886,
          1.738888888888889,
          1.9300000000000002,
          2.0792,
          1.8296875,
          1.8805555555555555,
          1.9366666666666668,
          1.908333333333333
         ],
         "yaxis": "y"
        },
        {
         "hovertemplate": "CADENA_PRODUCTIVA_ADR=RABANO<br>YEAR=%{x}<br>RENDIMIENTO=%{y}<extra></extra>",
         "legendgroup": "RABANO",
         "line": {
          "color": "#00cc96",
          "dash": "solid"
         },
         "mode": "lines",
         "name": "RABANO",
         "showlegend": true,
         "type": "scattergl",
         "x": [
          2006,
          2007,
          2008,
          2009,
          2010,
          2011,
          2012,
          2013,
          2014,
          2015,
          2016,
          2017,
          2018
         ],
         "xaxis": "x",
         "y": [
          15,
          9.6,
          8.6,
          4.5,
          6.616666666666667,
          12.620000000000001,
          13.833333333333334,
          17.5,
          30,
          27.5,
          21,
          22,
          22
         ],
         "yaxis": "y"
        },
        {
         "hovertemplate": "CADENA_PRODUCTIVA_ADR=REMOLACHA<br>YEAR=%{x}<br>RENDIMIENTO=%{y}<extra></extra>",
         "legendgroup": "REMOLACHA",
         "line": {
          "color": "#ab63fa",
          "dash": "solid"
         },
         "mode": "lines",
         "name": "REMOLACHA",
         "showlegend": true,
         "type": "scattergl",
         "x": [
          2006,
          2007,
          2008,
          2009,
          2010,
          2011,
          2012,
          2013,
          2014,
          2015,
          2016,
          2017,
          2018
         ],
         "xaxis": "x",
         "y": [
          17.38888888888889,
          17.06970588235294,
          17.820000000000004,
          19.097586206896548,
          17.746363636363636,
          17.307692307692307,
          19.25925925925926,
          15.833333333333334,
          16.103448275862068,
          17.36,
          19.647419354838707,
          22.863636363636363,
          23.373529411764707
         ],
         "yaxis": "y"
        },
        {
         "hovertemplate": "CADENA_PRODUCTIVA_ADR=REPOLLO<br>YEAR=%{x}<br>RENDIMIENTO=%{y}<extra></extra>",
         "legendgroup": "REPOLLO",
         "line": {
          "color": "#FFA15A",
          "dash": "solid"
         },
         "mode": "lines",
         "name": "REPOLLO",
         "showlegend": true,
         "type": "scattergl",
         "x": [
          2006,
          2007,
          2008,
          2009,
          2010,
          2011,
          2012,
          2013,
          2014,
          2015,
          2016,
          2017,
          2018
         ],
         "xaxis": "x",
         "y": [
          23.039473684210527,
          23.573164556962023,
          23.067252747252752,
          24.638333333333335,
          23.412500000000005,
          20.430526315789475,
          24.207473684210527,
          22.618316831683167,
          18.715656565656563,
          21.93894736842105,
          22.382972972972976,
          21.694936708860762,
          22.062105263157896
         ],
         "yaxis": "y"
        },
        {
         "hovertemplate": "CADENA_PRODUCTIVA_ADR=SORGO<br>YEAR=%{x}<br>RENDIMIENTO=%{y}<extra></extra>",
         "legendgroup": "SORGO",
         "line": {
          "color": "#19d3f3",
          "dash": "solid"
         },
         "mode": "lines",
         "name": "SORGO",
         "showlegend": true,
         "type": "scattergl",
         "x": [
          2006,
          2007,
          2008,
          2009,
          2010,
          2011,
          2012,
          2013,
          2014,
          2015,
          2016,
          2017,
          2018
         ],
         "xaxis": "x",
         "y": [
          3.04754716981132,
          3.396891891891892,
          3.2979432624113465,
          3.126229508196722,
          3.1743518518518523,
          2.810649350649351,
          3.1944155844155846,
          3.3248648648648658,
          2.8661971830985915,
          2.993333333333333,
          3.0214925373134336,
          2.9410909090909096,
          3.2932000000000006
         ],
         "yaxis": "y"
        },
        {
         "hovertemplate": "CADENA_PRODUCTIVA_ADR=SOYA<br>YEAR=%{x}<br>RENDIMIENTO=%{y}<extra></extra>",
         "legendgroup": "SOYA",
         "line": {
          "color": "#FF6692",
          "dash": "solid"
         },
         "mode": "lines",
         "name": "SOYA",
         "showlegend": true,
         "type": "scattergl",
         "x": [
          2006,
          2007,
          2008,
          2009,
          2010,
          2011,
          2012,
          2013,
          2014,
          2015,
          2016,
          2017,
          2018
         ],
         "xaxis": "x",
         "y": [
          2.1393939393939396,
          2.340526315789474,
          2.3414545454545457,
          2.193265306122448,
          2.326363636363636,
          2.0937500000000004,
          2.428888888888889,
          2.6479166666666667,
          2.5046875,
          2.371428571428572,
          2.5633333333333335,
          2.7192307692307693,
          2.829166666666667
         ],
         "yaxis": "y"
        },
        {
         "hovertemplate": "CADENA_PRODUCTIVA_ADR=TABACO RUBIO<br>YEAR=%{x}<br>RENDIMIENTO=%{y}<extra></extra>",
         "legendgroup": "TABACO RUBIO",
         "line": {
          "color": "#B6E880",
          "dash": "solid"
         },
         "mode": "lines",
         "name": "TABACO RUBIO",
         "showlegend": true,
         "type": "scattergl",
         "x": [
          2006,
          2007,
          2008,
          2009,
          2010,
          2011,
          2012,
          2013,
          2014,
          2015,
          2016,
          2017,
          2018
         ],
         "xaxis": "x",
         "y": [
          2.1114705882352935,
          2.006282051282051,
          1.9008333333333323,
          1.8945054945054947,
          1.8719000000000006,
          1.8249532710280385,
          1.8302040816326537,
          1.8906521739130435,
          1.9665217391304344,
          1.8653846153846154,
          1.900178571428572,
          2.0162500000000003,
          2.036764705882353
         ],
         "yaxis": "y"
        },
        {
         "hovertemplate": "CADENA_PRODUCTIVA_ADR=TOMATE<br>YEAR=%{x}<br>RENDIMIENTO=%{y}<extra></extra>",
         "legendgroup": "TOMATE",
         "line": {
          "color": "#FF97FF",
          "dash": "solid"
         },
         "mode": "lines",
         "name": "TOMATE",
         "showlegend": true,
         "type": "scattergl",
         "x": [
          2006,
          2007,
          2008,
          2009,
          2010,
          2011,
          2012,
          2013,
          2014,
          2015,
          2016,
          2017,
          2018
         ],
         "xaxis": "x",
         "y": [
          31.635747126436787,
          34.41451063829787,
          36.2819508867667,
          39.56334645669291,
          39.59556291390729,
          38.146054333764546,
          38.97367888748419,
          38.11492379835873,
          36.81727716727717,
          36.80735849056604,
          41.29759776536313,
          41.314292084726866,
          41.219956709956705
         ],
         "yaxis": "y"
        },
        {
         "hovertemplate": "CADENA_PRODUCTIVA_ADR=TRIGO<br>YEAR=%{x}<br>RENDIMIENTO=%{y}<extra></extra>",
         "legendgroup": "TRIGO",
         "line": {
          "color": "#FECB52",
          "dash": "solid"
         },
         "mode": "lines",
         "name": "TRIGO",
         "showlegend": true,
         "type": "scattergl",
         "x": [
          2006,
          2007,
          2008,
          2009,
          2010,
          2011,
          2012,
          2013,
          2014,
          2015,
          2016,
          2017,
          2018
         ],
         "xaxis": "x",
         "y": [
          1.514266666666667,
          1.5916993464052285,
          1.5556204379562044,
          1.4596747967479669,
          1.425901639344262,
          1.4393693693693692,
          1.3868749999999992,
          1.3630107526881718,
          1.2479452054794524,
          1.3277777777777784,
          1.9043373493975908,
          1.4518518518518517,
          1.5740816326530613
         ],
         "yaxis": "y"
        },
        {
         "hovertemplate": "CADENA_PRODUCTIVA_ADR=ULLUCO<br>YEAR=%{x}<br>RENDIMIENTO=%{y}<extra></extra>",
         "legendgroup": "ULLUCO",
         "line": {
          "color": "#636efa",
          "dash": "solid"
         },
         "mode": "lines",
         "name": "ULLUCO",
         "showlegend": true,
         "type": "scattergl",
         "x": [
          2006,
          2007,
          2008,
          2009,
          2010,
          2011,
          2012,
          2013,
          2014,
          2015,
          2016,
          2017,
          2018
         ],
         "xaxis": "x",
         "y": [
          7.166666666666667,
          6.627,
          6.364444444444445,
          5.608666666666666,
          4.8999999999999995,
          4.48125,
          6.442857142857143,
          6.760416666666667,
          9.34375,
          7.668421052631579,
          8.43125,
          6.409999999999999,
          7.822727272727272
         ],
         "yaxis": "y"
        },
        {
         "hovertemplate": "CADENA_PRODUCTIVA_ADR=ZANAHORIA<br>YEAR=%{x}<br>RENDIMIENTO=%{y}<extra></extra>",
         "legendgroup": "ZANAHORIA",
         "line": {
          "color": "#EF553B",
          "dash": "solid"
         },
         "mode": "lines",
         "name": "ZANAHORIA",
         "showlegend": true,
         "type": "scattergl",
         "x": [
          2006,
          2007,
          2008,
          2009,
          2010,
          2011,
          2012,
          2013,
          2014,
          2015,
          2016,
          2017,
          2018
         ],
         "xaxis": "x",
         "y": [
          19.78762711864407,
          22.001074380165285,
          23.03625954198473,
          21.94395348837209,
          22.518958333333334,
          21.623846153846152,
          23.06230769230769,
          22.53544827586207,
          21.95140845070423,
          22.68819444444445,
          21.92080745341615,
          22.26518987341772,
          22.265124999999998
         ],
         "yaxis": "y"
        },
        {
         "hovertemplate": "CADENA_PRODUCTIVA_ADR=ACHICORIA<br>YEAR=%{x}<br>RENDIMIENTO=%{y}<extra></extra>",
         "legendgroup": "ACHICORIA",
         "line": {
          "color": "#00cc96",
          "dash": "solid"
         },
         "mode": "lines",
         "name": "ACHICORIA",
         "showlegend": true,
         "type": "scattergl",
         "x": [
          2007,
          2008
         ],
         "xaxis": "x",
         "y": [
          1,
          1
         ],
         "yaxis": "y"
        },
        {
         "hovertemplate": "CADENA_PRODUCTIVA_ADR=ACHIOTE<br>YEAR=%{x}<br>RENDIMIENTO=%{y}<extra></extra>",
         "legendgroup": "ACHIOTE",
         "line": {
          "color": "#ab63fa",
          "dash": "solid"
         },
         "mode": "lines",
         "name": "ACHIOTE",
         "showlegend": true,
         "type": "scattergl",
         "x": [
          2007,
          2008,
          2009,
          2010,
          2011,
          2012,
          2013,
          2014,
          2015,
          2016,
          2017,
          2018
         ],
         "xaxis": "x",
         "y": [
          3.09,
          1,
          0.8416666666666667,
          0.9357142857142857,
          0.8433333333333333,
          1.3733333333333333,
          1.42,
          1.2725,
          1.0875,
          2.6666666666666665,
          1.3485714285714285,
          1.3499999999999999
         ],
         "yaxis": "y"
        },
        {
         "hovertemplate": "CADENA_PRODUCTIVA_ADR=ACHIRA<br>YEAR=%{x}<br>RENDIMIENTO=%{y}<extra></extra>",
         "legendgroup": "ACHIRA",
         "line": {
          "color": "#FFA15A",
          "dash": "solid"
         },
         "mode": "lines",
         "name": "ACHIRA",
         "showlegend": true,
         "type": "scattergl",
         "x": [
          2007,
          2008,
          2009,
          2010,
          2011,
          2012,
          2013,
          2014,
          2015,
          2016,
          2017,
          2018
         ],
         "xaxis": "x",
         "y": [
          1.996666666666667,
          1.8120833333333337,
          1.9673076923076924,
          1.8721428571428576,
          2.074814814814815,
          1.8524999999999998,
          2.0964285714285715,
          2.0961538461538463,
          2.278571428571429,
          2.7607407407407405,
          2.369642857142857,
          2.373571428571428
         ],
         "yaxis": "y"
        },
        {
         "hovertemplate": "CADENA_PRODUCTIVA_ADR=AGUACATE<br>YEAR=%{x}<br>RENDIMIENTO=%{y}<extra></extra>",
         "legendgroup": "AGUACATE",
         "line": {
          "color": "#19d3f3",
          "dash": "solid"
         },
         "mode": "lines",
         "name": "AGUACATE",
         "showlegend": true,
         "type": "scattergl",
         "x": [
          2007,
          2008,
          2009,
          2010,
          2011,
          2012,
          2013,
          2014,
          2015,
          2016,
          2017,
          2018
         ],
         "xaxis": "x",
         "y": [
          8.854974874371862,
          8.666577777777778,
          8.865061728395062,
          8.819014598540145,
          8.267361563517916,
          8.55754491017964,
          8.668324324324324,
          8.245707070707072,
          8.193803827751196,
          7.991165919282512,
          7.886609808102345,
          8.39654811715481
         ],
         "yaxis": "y"
        },
        {
         "hovertemplate": "CADENA_PRODUCTIVA_ADR=ALFALFA<br>YEAR=%{x}<br>RENDIMIENTO=%{y}<extra></extra>",
         "legendgroup": "ALFALFA",
         "line": {
          "color": "#FF6692",
          "dash": "solid"
         },
         "mode": "lines",
         "name": "ALFALFA",
         "showlegend": true,
         "type": "scattergl",
         "x": [
          2007,
          2008,
          2009,
          2010,
          2011,
          2012,
          2013,
          2014,
          2015,
          2016,
          2017,
          2018
         ],
         "xaxis": "x",
         "y": [
          4,
          3.3333333333333335,
          3.3333333333333335,
          3.525,
          3.3666666666666667,
          2.8666666666666667,
          2.8666666666666667,
          3,
          2.875,
          2.6666666666666665,
          2.625,
          2.625
         ],
         "yaxis": "y"
        },
        {
         "hovertemplate": "CADENA_PRODUCTIVA_ADR=ANON<br>YEAR=%{x}<br>RENDIMIENTO=%{y}<extra></extra>",
         "legendgroup": "ANON",
         "line": {
          "color": "#B6E880",
          "dash": "solid"
         },
         "mode": "lines",
         "name": "ANON",
         "showlegend": true,
         "type": "scattergl",
         "x": [
          2007,
          2008,
          2009,
          2010,
          2011,
          2012,
          2014,
          2015,
          2016,
          2017,
          2018
         ],
         "xaxis": "x",
         "y": [
          7.5,
          4,
          4,
          4,
          5,
          3.5,
          4,
          4,
          1.9166666666666667,
          1.375,
          2.375
         ],
         "yaxis": "y"
        },
        {
         "hovertemplate": "CADENA_PRODUCTIVA_ADR=ANTURIO<br>YEAR=%{x}<br>RENDIMIENTO=%{y}<extra></extra>",
         "legendgroup": "ANTURIO",
         "line": {
          "color": "#FF97FF",
          "dash": "solid"
         },
         "mode": "lines",
         "name": "ANTURIO",
         "showlegend": true,
         "type": "scattergl",
         "x": [
          2007,
          2008,
          2009,
          2010,
          2011,
          2012,
          2013,
          2014,
          2015,
          2016,
          2017,
          2018
         ],
         "xaxis": "x",
         "y": [
          7.2,
          9.6,
          7.268000000000001,
          4.952857142857143,
          4.813749999999999,
          9.62857142857143,
          7.114285714285714,
          8.175,
          4.5,
          5.35,
          5.843333333333334,
          5.843333333333334
         ],
         "yaxis": "y"
        },
        {
         "hovertemplate": "CADENA_PRODUCTIVA_ADR=ARAZA<br>YEAR=%{x}<br>RENDIMIENTO=%{y}<extra></extra>",
         "legendgroup": "ARAZA",
         "line": {
          "color": "#FECB52",
          "dash": "solid"
         },
         "mode": "lines",
         "name": "ARAZA",
         "showlegend": true,
         "type": "scattergl",
         "x": [
          2007,
          2008,
          2009,
          2010,
          2011,
          2012,
          2013,
          2014,
          2015,
          2016,
          2017,
          2018
         ],
         "xaxis": "x",
         "y": [
          9.211666666666668,
          3.768518518518518,
          4.303703703703705,
          3.1519999999999997,
          3.0835714285714286,
          2.6666666666666665,
          3.0888888888888886,
          3.53,
          3.6619047619047613,
          4.844444444444444,
          5.959999999999999,
          5.97
         ],
         "yaxis": "y"
        },
        {
         "hovertemplate": "CADENA_PRODUCTIVA_ADR=ARRACACHA<br>YEAR=%{x}<br>RENDIMIENTO=%{y}<extra></extra>",
         "legendgroup": "ARRACACHA",
         "line": {
          "color": "#636efa",
          "dash": "solid"
         },
         "mode": "lines",
         "name": "ARRACACHA",
         "showlegend": true,
         "type": "scattergl",
         "x": [
          2007,
          2008,
          2009,
          2010,
          2011,
          2012,
          2013,
          2014,
          2015,
          2016,
          2017,
          2018
         ],
         "xaxis": "x",
         "y": [
          9.921100917431191,
          9.313770491803279,
          8.926690140845071,
          8.531733333333335,
          8.623012820512823,
          8.556012658227848,
          8.851385542168675,
          8.170426829268292,
          8.288734939759037,
          8.755240963855421,
          8.526174863387977,
          8.807049180327867
         ],
         "yaxis": "y"
        },
        {
         "hovertemplate": "CADENA_PRODUCTIVA_ADR=ASPARRAGUS<br>YEAR=%{x}<br>RENDIMIENTO=%{y}<extra></extra>",
         "legendgroup": "ASPARRAGUS",
         "line": {
          "color": "#EF553B",
          "dash": "solid"
         },
         "mode": "lines",
         "name": "ASPARRAGUS",
         "showlegend": true,
         "type": "scattergl",
         "x": [
          2007,
          2008,
          2009,
          2010,
          2011,
          2012,
          2013
         ],
         "xaxis": "x",
         "y": [
          1.25,
          1.2,
          1.2,
          1,
          1.85,
          2.5,
          4
         ],
         "yaxis": "y"
        },
        {
         "hovertemplate": "CADENA_PRODUCTIVA_ADR=ASTROMELIA<br>YEAR=%{x}<br>RENDIMIENTO=%{y}<extra></extra>",
         "legendgroup": "ASTROMELIA",
         "line": {
          "color": "#00cc96",
          "dash": "solid"
         },
         "mode": "lines",
         "name": "ASTROMELIA",
         "showlegend": true,
         "type": "scattergl",
         "x": [
          2007,
          2008,
          2009,
          2011,
          2012,
          2013,
          2014,
          2015,
          2016,
          2017,
          2018
         ],
         "xaxis": "x",
         "y": [
          25,
          9.333333333333334,
          9,
          4.75,
          4.75,
          5.55,
          5.55,
          5.55,
          4.75,
          5,
          5.07
         ],
         "yaxis": "y"
        },
        {
         "hovertemplate": "CADENA_PRODUCTIVA_ADR=BADEA<br>YEAR=%{x}<br>RENDIMIENTO=%{y}<extra></extra>",
         "legendgroup": "BADEA",
         "line": {
          "color": "#ab63fa",
          "dash": "solid"
         },
         "mode": "lines",
         "name": "BADEA",
         "showlegend": true,
         "type": "scattergl",
         "x": [
          2007,
          2008,
          2009,
          2010,
          2011,
          2012,
          2013,
          2014,
          2015,
          2016,
          2017,
          2018
         ],
         "xaxis": "x",
         "y": [
          14.827272727272726,
          16.363636363636363,
          15.772727272727273,
          15.136363636363637,
          14.423076923076923,
          14.21875,
          14.38888888888889,
          15.029411764705882,
          14.447058823529412,
          13.977777777777778,
          12.595,
          12.89
         ],
         "yaxis": "y"
        },
        {
         "hovertemplate": "CADENA_PRODUCTIVA_ADR=BANANITO<br>YEAR=%{x}<br>RENDIMIENTO=%{y}<extra></extra>",
         "legendgroup": "BANANITO",
         "line": {
          "color": "#FFA15A",
          "dash": "solid"
         },
         "mode": "lines",
         "name": "BANANITO",
         "showlegend": true,
         "type": "scattergl",
         "x": [
          2007,
          2008,
          2009,
          2010,
          2011,
          2012,
          2013,
          2014,
          2015,
          2016,
          2017,
          2018
         ],
         "xaxis": "x",
         "y": [
          7.206875000000001,
          7.493333333333334,
          7.356486486486488,
          7.436923076923076,
          7.570270270270271,
          8.693870967741935,
          8.85891891891892,
          8.297222222222222,
          8.050999999999998,
          6.87578947368421,
          6.698285714285714,
          6.782571428571428
         ],
         "yaxis": "y"
        },
        {
         "hovertemplate": "CADENA_PRODUCTIVA_ADR=BANANO<br>YEAR=%{x}<br>RENDIMIENTO=%{y}<extra></extra>",
         "legendgroup": "BANANO",
         "line": {
          "color": "#19d3f3",
          "dash": "solid"
         },
         "mode": "lines",
         "name": "BANANO",
         "showlegend": true,
         "type": "scattergl",
         "x": [
          2007,
          2008,
          2009,
          2010,
          2011,
          2012,
          2013,
          2014,
          2015,
          2016,
          2017,
          2018
         ],
         "xaxis": "x",
         "y": [
          11.700872093023252,
          11.69114093959732,
          12.649577464788731,
          11.907718120805368,
          11.446100628930822,
          11.13745762711864,
          11.448524590163935,
          11.169944444444447,
          11.033461538461538,
          11.122030456852796,
          11.988029556650234,
          12.054901960784308
         ],
         "yaxis": "y"
        },
        {
         "hovertemplate": "CADENA_PRODUCTIVA_ADR=BOROJO<br>YEAR=%{x}<br>RENDIMIENTO=%{y}<extra></extra>",
         "legendgroup": "BOROJO",
         "line": {
          "color": "#FF6692",
          "dash": "solid"
         },
         "mode": "lines",
         "name": "BOROJO",
         "showlegend": true,
         "type": "scattergl",
         "x": [
          2007,
          2008,
          2009,
          2010,
          2011,
          2012,
          2013,
          2014,
          2015,
          2016,
          2017,
          2018
         ],
         "xaxis": "x",
         "y": [
          3.4205405405405402,
          3.2057500000000005,
          3.0619444444444444,
          3.145806451612904,
          3.4157142857142855,
          3.6471875000000002,
          3.2594594594594595,
          4.194594594594595,
          4.024324324324325,
          4.102857142857142,
          4.018181818181818,
          4.226470588235294
         ],
         "yaxis": "y"
        },
        {
         "hovertemplate": "CADENA_PRODUCTIVA_ADR=BREVO<br>YEAR=%{x}<br>RENDIMIENTO=%{y}<extra></extra>",
         "legendgroup": "BREVO",
         "line": {
          "color": "#B6E880",
          "dash": "solid"
         },
         "mode": "lines",
         "name": "BREVO",
         "showlegend": true,
         "type": "scattergl",
         "x": [
          2007,
          2008,
          2009,
          2010,
          2011,
          2012,
          2013,
          2014,
          2015,
          2016,
          2017,
          2018
         ],
         "xaxis": "x",
         "y": [
          6.561764705882352,
          6.564666666666667,
          5.485882352941176,
          5.494117647058823,
          5.403529411764705,
          5.647333333333333,
          5.461111111111111,
          5.41578947368421,
          5.068421052631579,
          5.7299999999999995,
          6.205,
          6.74
         ],
         "yaxis": "y"
        },
        {
         "hovertemplate": "CADENA_PRODUCTIVA_ADR=CACAO<br>YEAR=%{x}<br>RENDIMIENTO=%{y}<extra></extra>",
         "legendgroup": "CACAO",
         "line": {
          "color": "#FF97FF",
          "dash": "solid"
         },
         "mode": "lines",
         "name": "CACAO",
         "showlegend": true,
         "type": "scattergl",
         "x": [
          2007,
          2008,
          2009,
          2010,
          2011,
          2012,
          2013,
          2014,
          2015,
          2016,
          2017,
          2018
         ],
         "xaxis": "x",
         "y": [
          0.5127851458885944,
          0.5229323308270678,
          0.5257808857808862,
          0.5636971046770597,
          0.5852531645569615,
          0.615144628099173,
          0.5644726562500001,
          0.5713188976377955,
          0.5579174852652261,
          0.5574427480916037,
          0.562278719397364,
          0.5804112149532722
         ],
         "yaxis": "y"
        },
        {
         "hovertemplate": "CADENA_PRODUCTIVA_ADR=CADUCIFOLIOS<br>YEAR=%{x}<br>RENDIMIENTO=%{y}<extra></extra>",
         "legendgroup": "CADUCIFOLIOS",
         "line": {
          "color": "#FECB52",
          "dash": "solid"
         },
         "mode": "lines",
         "name": "CADUCIFOLIOS",
         "showlegend": true,
         "type": "scattergl",
         "x": [
          2007,
          2008,
          2009,
          2010,
          2011,
          2012,
          2013,
          2014,
          2015,
          2016,
          2017,
          2018
         ],
         "xaxis": "x",
         "y": [
          7.405555555555556,
          6.77,
          5.9625,
          10,
          8.666666666666666,
          10.967,
          7.60125,
          7.616666666666667,
          7.014285714285714,
          9.006666666666666,
          4,
          4
         ],
         "yaxis": "y"
        },
        {
         "hovertemplate": "CADENA_PRODUCTIVA_ADR=CAFE<br>YEAR=%{x}<br>RENDIMIENTO=%{y}<extra></extra>",
         "legendgroup": "CAFE",
         "line": {
          "color": "#636efa",
          "dash": "solid"
         },
         "mode": "lines",
         "name": "CAFE",
         "showlegend": true,
         "type": "scattergl",
         "x": [
          2007,
          2008,
          2009,
          2010,
          2011,
          2012,
          2013,
          2014,
          2015,
          2016,
          2017,
          2018
         ],
         "xaxis": "x",
         "y": [
          0.9074957698815558,
          1.0099331103678928,
          0.8048852459016391,
          0.8946601941747568,
          0.8067680000000007,
          0.807766666666667,
          0.7588422818791937,
          0.8208067226890744,
          1.020957983193277,
          1.0551672240802668,
          1.095766666666667,
          1.1145166666666695
         ],
         "yaxis": "y"
        },
        {
         "hovertemplate": "CADENA_PRODUCTIVA_ADR=CARDAMOMO<br>YEAR=%{x}<br>RENDIMIENTO=%{y}<extra></extra>",
         "legendgroup": "CARDAMOMO",
         "line": {
          "color": "#EF553B",
          "dash": "solid"
         },
         "mode": "lines",
         "name": "CARDAMOMO",
         "showlegend": true,
         "type": "scattergl",
         "x": [
          2007,
          2008,
          2009,
          2010,
          2011,
          2012,
          2013,
          2014,
          2015,
          2016,
          2017,
          2018
         ],
         "xaxis": "x",
         "y": [
          4.383333333333334,
          4.286666666666666,
          4,
          5,
          5,
          5.475,
          4.1499999999999995,
          3.5285714285714285,
          2.316666666666667,
          1.075,
          1.05,
          8.940000000000001
         ],
         "yaxis": "y"
        },
        {
         "hovertemplate": "CADENA_PRODUCTIVA_ADR=CAUCHO<br>YEAR=%{x}<br>RENDIMIENTO=%{y}<extra></extra>",
         "legendgroup": "CAUCHO",
         "line": {
          "color": "#00cc96",
          "dash": "solid"
         },
         "mode": "lines",
         "name": "CAUCHO",
         "showlegend": true,
         "type": "scattergl",
         "x": [
          2007,
          2008,
          2009,
          2010,
          2011,
          2012,
          2013,
          2014,
          2015,
          2016,
          2017,
          2018
         ],
         "xaxis": "x",
         "y": [
          1.3131249999999997,
          1.1217307692307685,
          1.2125423728813551,
          1.2043103448275856,
          1.1443939393939389,
          1.2951666666666666,
          1.1551282051282048,
          1.1702247191011237,
          1.1789130434782609,
          1.111684210526316,
          1.2751041666666671,
          1.2832653061224493
         ],
         "yaxis": "y"
        },
        {
         "hovertemplate": "CADENA_PRODUCTIVA_ADR=CAÑA AZUCARERA<br>YEAR=%{x}<br>RENDIMIENTO=%{y}<extra></extra>",
         "legendgroup": "CAÑA AZUCARERA",
         "line": {
          "color": "#ab63fa",
          "dash": "solid"
         },
         "mode": "lines",
         "name": "CAÑA AZUCARERA",
         "showlegend": true,
         "type": "scattergl",
         "x": [
          2007,
          2008,
          2009,
          2010,
          2011,
          2012,
          2013,
          2014,
          2015,
          2016,
          2017,
          2018
         ],
         "xaxis": "x",
         "y": [
          108.8455102040816,
          115.8422448979592,
          111.9132075471698,
          117.35583333333328,
          118.69886792452832,
          94.42603773584902,
          106.14407407407408,
          114.64945454545455,
          114.89377358490565,
          121.4196078431372,
          138.17819999999998,
          147.28588235294112
         ],
         "yaxis": "y"
        },
        {
         "hovertemplate": "CADENA_PRODUCTIVA_ADR=CAÑA MIEL<br>YEAR=%{x}<br>RENDIMIENTO=%{y}<extra></extra>",
         "legendgroup": "CAÑA MIEL",
         "line": {
          "color": "#FFA15A",
          "dash": "solid"
         },
         "mode": "lines",
         "name": "CAÑA MIEL",
         "showlegend": true,
         "type": "scattergl",
         "x": [
          2007,
          2008,
          2009,
          2010,
          2011,
          2012,
          2013,
          2014,
          2015,
          2016,
          2017,
          2018
         ],
         "xaxis": "x",
         "y": [
          3.5482278481012637,
          3.710933333333332,
          3.7019480519480505,
          3.575151515151515,
          3.2591304347826084,
          3.531481481481482,
          3.863559322033898,
          3.6063934426229505,
          3.596666666666666,
          5.1457999999999995,
          4.959464285714285,
          5.312499999999999
         ],
         "yaxis": "y"
        },
        {
         "hovertemplate": "CADENA_PRODUCTIVA_ADR=CAÑA PANELERA<br>YEAR=%{x}<br>RENDIMIENTO=%{y}<extra></extra>",
         "legendgroup": "CAÑA PANELERA",
         "line": {
          "color": "#19d3f3",
          "dash": "solid"
         },
         "mode": "lines",
         "name": "CAÑA PANELERA",
         "showlegend": true,
         "type": "scattergl",
         "x": [
          2007,
          2008,
          2009,
          2010,
          2011,
          2012,
          2013,
          2014,
          2015,
          2016,
          2017,
          2018
         ],
         "xaxis": "x",
         "y": [
          5.547114337568061,
          5.443967391304348,
          5.487692307692306,
          5.512299465240642,
          5.548284671532849,
          5.620659340659343,
          5.618181818181817,
          5.425714285714286,
          5.4176258992805755,
          5.43333931777379,
          5.593345454545455,
          5.844420289855071
         ],
         "yaxis": "y"
        },
        {
         "hovertemplate": "CADENA_PRODUCTIVA_ADR=CHACHAFRUTO<br>YEAR=%{x}<br>RENDIMIENTO=%{y}<extra></extra>",
         "legendgroup": "CHACHAFRUTO",
         "line": {
          "color": "#FF6692",
          "dash": "solid"
         },
         "mode": "lines",
         "name": "CHACHAFRUTO",
         "showlegend": true,
         "type": "scattergl",
         "x": [
          2007,
          2010,
          2011,
          2013,
          2016,
          2017,
          2018
         ],
         "xaxis": "x",
         "y": [
          5,
          10,
          10,
          5,
          4.3,
          4,
          4
         ],
         "yaxis": "y"
        },
        {
         "hovertemplate": "CADENA_PRODUCTIVA_ADR=CHAMBA<br>YEAR=%{x}<br>RENDIMIENTO=%{y}<extra></extra>",
         "legendgroup": "CHAMBA",
         "line": {
          "color": "#B6E880",
          "dash": "solid"
         },
         "mode": "lines",
         "name": "CHAMBA",
         "showlegend": true,
         "type": "scattergl",
         "x": [
          2007,
          2008,
          2009,
          2010,
          2011,
          2012,
          2013,
          2014,
          2015,
          2016,
          2017,
          2018
         ],
         "xaxis": "x",
         "y": [
          28.2,
          26.5,
          30,
          32.5,
          32.5,
          21.833333333333332,
          40,
          40,
          40,
          40,
          4,
          4
         ],
         "yaxis": "y"
        },
        {
         "hovertemplate": "CADENA_PRODUCTIVA_ADR=CHIRIMOYA<br>YEAR=%{x}<br>RENDIMIENTO=%{y}<extra></extra>",
         "legendgroup": "CHIRIMOYA",
         "line": {
          "color": "#FF97FF",
          "dash": "solid"
         },
         "mode": "lines",
         "name": "CHIRIMOYA",
         "showlegend": true,
         "type": "scattergl",
         "x": [
          2007,
          2008,
          2009,
          2010,
          2011,
          2012,
          2013,
          2014,
          2015,
          2016,
          2017,
          2018
         ],
         "xaxis": "x",
         "y": [
          4.0233333333333325,
          4.14625,
          4.5600000000000005,
          4.909090909090909,
          4.978,
          4.1875,
          3.2875,
          3.9444444444444446,
          4.536363636363636,
          5,
          5.277777777777778,
          6.111111111111111
         ],
         "yaxis": "y"
        },
        {
         "hovertemplate": "CADENA_PRODUCTIVA_ADR=CHOLUPA<br>YEAR=%{x}<br>RENDIMIENTO=%{y}<extra></extra>",
         "legendgroup": "CHOLUPA",
         "line": {
          "color": "#FECB52",
          "dash": "solid"
         },
         "mode": "lines",
         "name": "CHOLUPA",
         "showlegend": true,
         "type": "scattergl",
         "x": [
          2007,
          2008,
          2009,
          2010,
          2011,
          2012,
          2013,
          2014,
          2015,
          2016,
          2017,
          2018
         ],
         "xaxis": "x",
         "y": [
          10.65625,
          8.995294117647058,
          9.070588235294117,
          9.941176470588236,
          10.277777777777779,
          8.678571428571429,
          8.285714285714286,
          8.4,
          7.9,
          7.213333333333334,
          7.680000000000001,
          7.48
         ],
         "yaxis": "y"
        },
        {
         "hovertemplate": "CADENA_PRODUCTIVA_ADR=CHONQUE<br>YEAR=%{x}<br>RENDIMIENTO=%{y}<extra></extra>",
         "legendgroup": "CHONQUE",
         "line": {
          "color": "#636efa",
          "dash": "solid"
         },
         "mode": "lines",
         "name": "CHONQUE",
         "showlegend": true,
         "type": "scattergl",
         "x": [
          2007,
          2012,
          2013,
          2014,
          2015,
          2016
         ],
         "xaxis": "x",
         "y": [
          11,
          3,
          3,
          3,
          3,
          15
         ],
         "yaxis": "y"
        },
        {
         "hovertemplate": "CADENA_PRODUCTIVA_ADR=CHONTADURO<br>YEAR=%{x}<br>RENDIMIENTO=%{y}<extra></extra>",
         "legendgroup": "CHONTADURO",
         "line": {
          "color": "#EF553B",
          "dash": "solid"
         },
         "mode": "lines",
         "name": "CHONTADURO",
         "showlegend": true,
         "type": "scattergl",
         "x": [
          2007,
          2008,
          2009,
          2010,
          2011,
          2012,
          2013,
          2014,
          2015,
          2016,
          2017,
          2018
         ],
         "xaxis": "x",
         "y": [
          5.392542372881358,
          6.182881355932203,
          5.376206896551724,
          4.943272727272727,
          3.7151063829787225,
          3.9094871794871793,
          4.761351351351352,
          4.2664583333333335,
          4.222222222222223,
          4.379111111111111,
          4.6,
          4.772
         ],
         "yaxis": "y"
        },
        {
         "hovertemplate": "CADENA_PRODUCTIVA_ADR=CIRUELA<br>YEAR=%{x}<br>RENDIMIENTO=%{y}<extra></extra>",
         "legendgroup": "CIRUELA",
         "line": {
          "color": "#00cc96",
          "dash": "solid"
         },
         "mode": "lines",
         "name": "CIRUELA",
         "showlegend": true,
         "type": "scattergl",
         "x": [
          2007,
          2008,
          2009,
          2010,
          2011,
          2012,
          2013,
          2014,
          2015,
          2016,
          2017,
          2018
         ],
         "xaxis": "x",
         "y": [
          8.170555555555556,
          8.057941176470589,
          7.845666666666668,
          7.9766666666666675,
          7.925806451612903,
          8.502258064516129,
          7.780555555555556,
          8.17142857142857,
          8.678387096774193,
          9.964285714285714,
          10.588484848484848,
          10.453529411764706
         ],
         "yaxis": "y"
        },
        {
         "hovertemplate": "CADENA_PRODUCTIVA_ADR=CLAVEL<br>YEAR=%{x}<br>RENDIMIENTO=%{y}<extra></extra>",
         "legendgroup": "CLAVEL",
         "line": {
          "color": "#ab63fa",
          "dash": "solid"
         },
         "mode": "lines",
         "name": "CLAVEL",
         "showlegend": true,
         "type": "scattergl",
         "x": [
          2007,
          2008,
          2009,
          2010,
          2011,
          2012,
          2013,
          2014,
          2015,
          2016,
          2017,
          2018
         ],
         "xaxis": "x",
         "y": [
          10,
          7.666666666666667,
          6.5,
          6.625,
          2,
          9.666666666666666,
          15.333333333333334,
          12.307500000000001,
          9.76,
          9.76,
          12.76,
          12.76
         ],
         "yaxis": "y"
        },
        {
         "hovertemplate": "CADENA_PRODUCTIVA_ADR=COCO<br>YEAR=%{x}<br>RENDIMIENTO=%{y}<extra></extra>",
         "legendgroup": "COCO",
         "line": {
          "color": "#FFA15A",
          "dash": "solid"
         },
         "mode": "lines",
         "name": "COCO",
         "showlegend": true,
         "type": "scattergl",
         "x": [
          2007,
          2008,
          2009,
          2010,
          2011,
          2012,
          2013,
          2014,
          2015,
          2016,
          2017,
          2018
         ],
         "xaxis": "x",
         "y": [
          7.403333333333333,
          7.939056603773585,
          8.294897959183674,
          7.695200000000001,
          7.347454545454546,
          6.701228070175438,
          7.2734375,
          7.342380952380952,
          7.130781249999999,
          7.45032786885246,
          6.933333333333333,
          7.204545454545453
         ],
         "yaxis": "y"
        },
        {
         "hovertemplate": "CADENA_PRODUCTIVA_ADR=CURCUMA<br>YEAR=%{x}<br>RENDIMIENTO=%{y}<extra></extra>",
         "legendgroup": "CURCUMA",
         "line": {
          "color": "#19d3f3",
          "dash": "solid"
         },
         "mode": "lines",
         "name": "CURCUMA",
         "showlegend": true,
         "type": "scattergl",
         "x": [
          2007,
          2008,
          2009,
          2010,
          2011,
          2012,
          2013,
          2014,
          2015,
          2016,
          2017,
          2018
         ],
         "xaxis": "x",
         "y": [
          6.526666666666666,
          6.1,
          9.85,
          9,
          8.0875,
          8.285714285714286,
          6.2,
          7.466666666666666,
          16.975,
          10.333333333333334,
          12.666666666666666,
          15.459999999999999
         ],
         "yaxis": "y"
        },
        {
         "hovertemplate": "CADENA_PRODUCTIVA_ADR=CURUBA<br>YEAR=%{x}<br>RENDIMIENTO=%{y}<extra></extra>",
         "legendgroup": "CURUBA",
         "line": {
          "color": "#FF6692",
          "dash": "solid"
         },
         "mode": "lines",
         "name": "CURUBA",
         "showlegend": true,
         "type": "scattergl",
         "x": [
          2007,
          2008,
          2009,
          2010,
          2011,
          2012,
          2013,
          2014,
          2015,
          2016,
          2017,
          2018
         ],
         "xaxis": "x",
         "y": [
          9.679799999999998,
          8.741363636363635,
          8.861162790697675,
          8.901777777777776,
          8.541777777777778,
          9.9134,
          10.366666666666665,
          10.372727272727273,
          10.65,
          8.202,
          8.687111111111111,
          8.713636363636365
         ],
         "yaxis": "y"
        },
        {
         "hovertemplate": "CADENA_PRODUCTIVA_ADR=DATIL<br>YEAR=%{x}<br>RENDIMIENTO=%{y}<extra></extra>",
         "legendgroup": "DATIL",
         "line": {
          "color": "#B6E880",
          "dash": "solid"
         },
         "mode": "lines",
         "name": "DATIL",
         "showlegend": true,
         "type": "scattergl",
         "x": [
          2007,
          2008,
          2009,
          2010,
          2011,
          2012,
          2013,
          2014,
          2015,
          2016,
          2017,
          2018
         ],
         "xaxis": "x",
         "y": [
          4,
          4,
          4,
          10,
          3,
          3,
          3,
          3,
          3,
          8.5,
          8.5,
          8.5
         ],
         "yaxis": "y"
        },
        {
         "hovertemplate": "CADENA_PRODUCTIVA_ADR=DURAZNO<br>YEAR=%{x}<br>RENDIMIENTO=%{y}<extra></extra>",
         "legendgroup": "DURAZNO",
         "line": {
          "color": "#FF97FF",
          "dash": "solid"
         },
         "mode": "lines",
         "name": "DURAZNO",
         "showlegend": true,
         "type": "scattergl",
         "x": [
          2007,
          2008,
          2009,
          2010,
          2011,
          2012,
          2013,
          2014,
          2015,
          2016,
          2017,
          2018
         ],
         "xaxis": "x",
         "y": [
          10.447234042553193,
          10.415740740740741,
          10.505818181818182,
          9.725689655172415,
          9.820508474576268,
          10.718070175438596,
          10.462985074626866,
          11.16159420289855,
          10.424,
          10.355333333333334,
          11.024078947368423,
          11.07158536585366
         ],
         "yaxis": "y"
        },
        {
         "hovertemplate": "CADENA_PRODUCTIVA_ADR=ESTROPAJO<br>YEAR=%{x}<br>RENDIMIENTO=%{y}<extra></extra>",
         "legendgroup": "ESTROPAJO",
         "line": {
          "color": "#FECB52",
          "dash": "solid"
         },
         "mode": "lines",
         "name": "ESTROPAJO",
         "showlegend": true,
         "type": "scattergl",
         "x": [
          2007,
          2008,
          2010,
          2011,
          2012,
          2013,
          2014,
          2015,
          2016,
          2017,
          2018
         ],
         "xaxis": "x",
         "y": [
          1.4,
          0.65,
          1.1333333333333333,
          2.216666666666667,
          2.025,
          3.4,
          3.3,
          3.3,
          2.8333333333333335,
          6.914285714285714,
          6.3100000000000005
         ],
         "yaxis": "y"
        },
        {
         "hovertemplate": "CADENA_PRODUCTIVA_ADR=EUCALIPTO BABY BLUE<br>YEAR=%{x}<br>RENDIMIENTO=%{y}<extra></extra>",
         "legendgroup": "EUCALIPTO BABY BLUE",
         "line": {
          "color": "#636efa",
          "dash": "solid"
         },
         "mode": "lines",
         "name": "EUCALIPTO BABY BLUE",
         "showlegend": true,
         "type": "scattergl",
         "x": [
          2007,
          2008,
          2009,
          2010,
          2011,
          2012,
          2013,
          2014,
          2015,
          2016,
          2017,
          2018
         ],
         "xaxis": "x",
         "y": [
          10,
          10,
          10,
          10.33,
          8.075,
          8.075,
          8.325,
          6.5,
          3,
          3,
          3,
          5
         ],
         "yaxis": "y"
        },
        {
         "hovertemplate": "CADENA_PRODUCTIVA_ADR=FEIJOA<br>YEAR=%{x}<br>RENDIMIENTO=%{y}<extra></extra>",
         "legendgroup": "FEIJOA",
         "line": {
          "color": "#EF553B",
          "dash": "solid"
         },
         "mode": "lines",
         "name": "FEIJOA",
         "showlegend": true,
         "type": "scattergl",
         "x": [
          2007,
          2008,
          2009,
          2010,
          2011,
          2012,
          2013,
          2014,
          2015,
          2016,
          2017,
          2018
         ],
         "xaxis": "x",
         "y": [
          7.579615384615385,
          8.226842105263158,
          7.272105263157895,
          7.758823529411765,
          6.389473684210526,
          6.317647058823529,
          6.62,
          7.015000000000001,
          7.322727272727274,
          6.686363636363637,
          6.566666666666667,
          6.72
         ],
         "yaxis": "y"
        },
        {
         "hovertemplate": "CADENA_PRODUCTIVA_ADR=FIQUE<br>YEAR=%{x}<br>RENDIMIENTO=%{y}<extra></extra>",
         "legendgroup": "FIQUE",
         "line": {
          "color": "#00cc96",
          "dash": "solid"
         },
         "mode": "lines",
         "name": "FIQUE",
         "showlegend": true,
         "type": "scattergl",
         "x": [
          2007,
          2008,
          2009,
          2010,
          2011,
          2012,
          2013,
          2014,
          2015,
          2016,
          2017,
          2018
         ],
         "xaxis": "x",
         "y": [
          1.143670886075949,
          1.1845,
          1.1770588235294122,
          1.2436619718309858,
          1.2220833333333332,
          1.269041095890411,
          1.2595833333333333,
          1.3378873239436622,
          1.307313432835821,
          1.4394827586206895,
          1.5025862068965519,
          1.4334920634920636
         ],
         "yaxis": "y"
        },
        {
         "hovertemplate": "CADENA_PRODUCTIVA_ADR=FRAMBUESA<br>YEAR=%{x}<br>RENDIMIENTO=%{y}<extra></extra>",
         "legendgroup": "FRAMBUESA",
         "line": {
          "color": "#ab63fa",
          "dash": "solid"
         },
         "mode": "lines",
         "name": "FRAMBUESA",
         "showlegend": true,
         "type": "scattergl",
         "x": [
          2007,
          2011,
          2012,
          2013,
          2014,
          2015,
          2016,
          2017,
          2018
         ],
         "xaxis": "x",
         "y": [
          5,
          6,
          null,
          4,
          4,
          4,
          9,
          4,
          12
         ],
         "yaxis": "y"
        },
        {
         "hovertemplate": "CADENA_PRODUCTIVA_ADR=FRESA<br>YEAR=%{x}<br>RENDIMIENTO=%{y}<extra></extra>",
         "legendgroup": "FRESA",
         "line": {
          "color": "#FFA15A",
          "dash": "solid"
         },
         "mode": "lines",
         "name": "FRESA",
         "showlegend": true,
         "type": "scattergl",
         "x": [
          2007,
          2008,
          2009,
          2010,
          2011,
          2012,
          2013,
          2014,
          2015,
          2016,
          2017,
          2018
         ],
         "xaxis": "x",
         "y": [
          25.063750000000002,
          26.845999999999997,
          28.58878048780488,
          23.995116279069766,
          24.008999999999997,
          22.992888888888885,
          21.949615384615388,
          22.333571428571425,
          22.491764705882357,
          24.38725,
          26.23054347826087,
          24.72085106382979
         ],
         "yaxis": "y"
        },
        {
         "hovertemplate": "CADENA_PRODUCTIVA_ADR=FRUTALES VARIOS<br>YEAR=%{x}<br>RENDIMIENTO=%{y}<extra></extra>",
         "legendgroup": "FRUTALES VARIOS",
         "line": {
          "color": "#19d3f3",
          "dash": "solid"
         },
         "mode": "lines",
         "name": "FRUTALES VARIOS",
         "showlegend": true,
         "type": "scattergl",
         "x": [
          2007,
          2008,
          2009,
          2010,
          2011,
          2012,
          2013,
          2014,
          2015,
          2016,
          2017,
          2018
         ],
         "xaxis": "x",
         "y": [
          1.6,
          3.8449999999999998,
          9.75,
          4.5,
          3.95,
          5.2700000000000005,
          3.8900000000000006,
          5.016666666666667,
          5.516666666666667,
          8.825,
          7.609999999999999,
          7.394
         ],
         "yaxis": "y"
        },
        {
         "hovertemplate": "CADENA_PRODUCTIVA_ADR=GIRASOL<br>YEAR=%{x}<br>RENDIMIENTO=%{y}<extra></extra>",
         "legendgroup": "GIRASOL",
         "line": {
          "color": "#FF6692",
          "dash": "solid"
         },
         "mode": "lines",
         "name": "GIRASOL",
         "showlegend": true,
         "type": "scattergl",
         "x": [
          2007,
          2008,
          2009,
          2010,
          2011,
          2012,
          2013,
          2014,
          2015,
          2016,
          2017,
          2018
         ],
         "xaxis": "x",
         "y": [
          20,
          20,
          11.023333333333333,
          6.383333333333333,
          12.68,
          15,
          12.32,
          8.38,
          12.32,
          12.32,
          12.32,
          12.32
         ],
         "yaxis": "y"
        },
        {
         "hovertemplate": "CADENA_PRODUCTIVA_ADR=GLADIOLO<br>YEAR=%{x}<br>RENDIMIENTO=%{y}<extra></extra>",
         "legendgroup": "GLADIOLO",
         "line": {
          "color": "#B6E880",
          "dash": "solid"
         },
         "mode": "lines",
         "name": "GLADIOLO",
         "showlegend": true,
         "type": "scattergl",
         "x": [
          2007,
          2008,
          2009,
          2010,
          2011,
          2013,
          2014,
          2015,
          2016,
          2017,
          2018
         ],
         "xaxis": "x",
         "y": [
          7.53,
          7.585000000000001,
          7.3575,
          7.9175,
          7.07,
          5.56,
          5.56,
          5.56,
          5.56,
          5.56,
          5.56
         ],
         "yaxis": "y"
        },
        {
         "hovertemplate": "CADENA_PRODUCTIVA_ADR=GRANADILLA<br>YEAR=%{x}<br>RENDIMIENTO=%{y}<extra></extra>",
         "legendgroup": "GRANADILLA",
         "line": {
          "color": "#FF97FF",
          "dash": "solid"
         },
         "mode": "lines",
         "name": "GRANADILLA",
         "showlegend": true,
         "type": "scattergl",
         "x": [
          2007,
          2008,
          2009,
          2010,
          2011,
          2012,
          2013,
          2014,
          2015,
          2016,
          2017,
          2018
         ],
         "xaxis": "x",
         "y": [
          10.20710280373832,
          9.43890909090909,
          8.971111111111114,
          8.767519379844963,
          8.697119999999998,
          8.651587301587302,
          9.645038167938933,
          10.084732824427482,
          10.558581560283688,
          9.865703703703703,
          9.920143884892086,
          10.33211267605634
         ],
         "yaxis": "y"
        },
        {
         "hovertemplate": "CADENA_PRODUCTIVA_ADR=GUANABANA<br>YEAR=%{x}<br>RENDIMIENTO=%{y}<extra></extra>",
         "legendgroup": "GUANABANA",
         "line": {
          "color": "#FECB52",
          "dash": "solid"
         },
         "mode": "lines",
         "name": "GUANABANA",
         "showlegend": true,
         "type": "scattergl",
         "x": [
          2007,
          2008,
          2009,
          2010,
          2011,
          2012,
          2013,
          2014,
          2015,
          2016,
          2017,
          2018
         ],
         "xaxis": "x",
         "y": [
          8.593717948717948,
          9.097954545454543,
          8.551022727272727,
          8.469080459770113,
          8.637362637362637,
          8.304761904761905,
          9.00990990990991,
          8.710353982300886,
          8.681034482758621,
          8.76436507936508,
          9.486131386861315,
          9.753049645390071
         ],
         "yaxis": "y"
        },
        {
         "hovertemplate": "CADENA_PRODUCTIVA_ADR=GUANDUL<br>YEAR=%{x}<br>RENDIMIENTO=%{y}<extra></extra>",
         "legendgroup": "GUANDUL",
         "line": {
          "color": "#636efa",
          "dash": "solid"
         },
         "mode": "lines",
         "name": "GUANDUL",
         "showlegend": true,
         "type": "scattergl",
         "x": [
          2007,
          2008,
          2009,
          2010,
          2011,
          2012,
          2013,
          2014,
          2015,
          2016,
          2017,
          2018
         ],
         "xaxis": "x",
         "y": [
          0.7272727272727272,
          0.961333333333333,
          1.3543749999999997,
          1.5528571428571427,
          0.98,
          0.8857142857142858,
          0.8486666666666668,
          0.8830769230769231,
          0.7945454545454548,
          1.19125,
          1.2180000000000002,
          1.20375
         ],
         "yaxis": "y"
        },
        {
         "hovertemplate": "CADENA_PRODUCTIVA_ADR=GUAYABA<br>YEAR=%{x}<br>RENDIMIENTO=%{y}<extra></extra>",
         "legendgroup": "GUAYABA",
         "line": {
          "color": "#EF553B",
          "dash": "solid"
         },
         "mode": "lines",
         "name": "GUAYABA",
         "showlegend": true,
         "type": "scattergl",
         "x": [
          2007,
          2008,
          2009,
          2010,
          2011,
          2012,
          2013,
          2014,
          2015,
          2016,
          2017,
          2018
         ],
         "xaxis": "x",
         "y": [
          9.800694444444444,
          9.667666666666669,
          9.535786163522014,
          9.604437869822485,
          9.075875,
          8.874759036144576,
          9.199704142011834,
          9.036545454545454,
          9.023067484662578,
          8.965098039215686,
          9.093896103896103,
          9.691708860759492
         ],
         "yaxis": "y"
        },
        {
         "hovertemplate": "CADENA_PRODUCTIVA_ADR=GULUPA<br>YEAR=%{x}<br>RENDIMIENTO=%{y}<extra></extra>",
         "legendgroup": "GULUPA",
         "line": {
          "color": "#00cc96",
          "dash": "solid"
         },
         "mode": "lines",
         "name": "GULUPA",
         "showlegend": true,
         "type": "scattergl",
         "x": [
          2007,
          2008,
          2009,
          2010,
          2011,
          2012,
          2013,
          2014,
          2015,
          2016,
          2017,
          2018
         ],
         "xaxis": "x",
         "y": [
          11.151538461538461,
          10.280000000000001,
          9.323529411764707,
          9.165,
          9.308,
          10.357142857142858,
          9.796875,
          10.278378378378378,
          9.057142857142857,
          11.948076923076922,
          14.032307692307693,
          14.218285714285715
         ],
         "yaxis": "y"
        },
        {
         "hovertemplate": "CADENA_PRODUCTIVA_ADR=HELECHO<br>YEAR=%{x}<br>RENDIMIENTO=%{y}<extra></extra>",
         "legendgroup": "HELECHO",
         "line": {
          "color": "#ab63fa",
          "dash": "solid"
         },
         "mode": "lines",
         "name": "HELECHO",
         "showlegend": true,
         "type": "scattergl",
         "x": [
          2007,
          2008,
          2009,
          2010,
          2011,
          2012,
          2013,
          2014,
          2015,
          2016,
          2017,
          2018
         ],
         "xaxis": "x",
         "y": [
          1.2774999999999999,
          7.800000000000002,
          7.811666666666668,
          5.201428571428572,
          4.558571428571429,
          2.682,
          3.282,
          3.7875,
          6.803333333333334,
          6.890000000000001,
          8.666666666666666,
          8
         ],
         "yaxis": "y"
        },
        {
         "hovertemplate": "CADENA_PRODUCTIVA_ADR=HELICONIA<br>YEAR=%{x}<br>RENDIMIENTO=%{y}<extra></extra>",
         "legendgroup": "HELICONIA",
         "line": {
          "color": "#FFA15A",
          "dash": "solid"
         },
         "mode": "lines",
         "name": "HELICONIA",
         "showlegend": true,
         "type": "scattergl",
         "x": [
          2007,
          2008,
          2009,
          2010,
          2011,
          2012,
          2013,
          2014,
          2015,
          2016,
          2017,
          2018
         ],
         "xaxis": "x",
         "y": [
          4.50625,
          5.429374999999999,
          4.14375,
          4.711333333333333,
          4.267142857142857,
          4.633571428571429,
          4.210000000000001,
          5.21,
          5.4875,
          4.533333333333333,
          4.2700000000000005,
          3.97
         ],
         "yaxis": "y"
        },
        {
         "hovertemplate": "CADENA_PRODUCTIVA_ADR=HIGO<br>YEAR=%{x}<br>RENDIMIENTO=%{y}<extra></extra>",
         "legendgroup": "HIGO",
         "line": {
          "color": "#19d3f3",
          "dash": "solid"
         },
         "mode": "lines",
         "name": "HIGO",
         "showlegend": true,
         "type": "scattergl",
         "x": [
          2007,
          2008,
          2009,
          2010,
          2011,
          2012,
          2013,
          2014,
          2015,
          2016,
          2017,
          2018
         ],
         "xaxis": "x",
         "y": [
          6.831999999999999,
          7.609999999999999,
          9.75,
          6,
          7,
          14,
          14.5,
          13,
          13,
          12,
          11.833333333333334,
          12.916666666666666
         ],
         "yaxis": "y"
        },
        {
         "hovertemplate": "CADENA_PRODUCTIVA_ADR=HORTENSIA<br>YEAR=%{x}<br>RENDIMIENTO=%{y}<extra></extra>",
         "legendgroup": "HORTENSIA",
         "line": {
          "color": "#FF6692",
          "dash": "solid"
         },
         "mode": "lines",
         "name": "HORTENSIA",
         "showlegend": true,
         "type": "scattergl",
         "x": [
          2007,
          2008,
          2009,
          2010,
          2011,
          2012,
          2013,
          2014,
          2015,
          2016,
          2017,
          2018
         ],
         "xaxis": "x",
         "y": [
          18,
          16.71,
          18,
          18,
          10.625,
          11.719999999999999,
          12.12,
          12.014285714285714,
          13.7875,
          12.739999999999998,
          11.364999999999998,
          12.25
         ],
         "yaxis": "y"
        },
        {
         "hovertemplate": "CADENA_PRODUCTIVA_ADR=IRACA<br>YEAR=%{x}<br>RENDIMIENTO=%{y}<extra></extra>",
         "legendgroup": "IRACA",
         "line": {
          "color": "#B6E880",
          "dash": "solid"
         },
         "mode": "lines",
         "name": "IRACA",
         "showlegend": true,
         "type": "scattergl",
         "x": [
          2007,
          2008,
          2009,
          2010,
          2011,
          2012,
          2013,
          2014,
          2015,
          2016,
          2017,
          2018
         ],
         "xaxis": "x",
         "y": [
          2.4857142857142853,
          1.9287499999999997,
          2.013333333333333,
          1.7439999999999998,
          1.48,
          1.265,
          1.175,
          1.75,
          1.7375,
          1.7225,
          1.7750000000000001,
          1.77
         ],
         "yaxis": "y"
        },
        {
         "hovertemplate": "CADENA_PRODUCTIVA_ADR=JENGIBRE<br>YEAR=%{x}<br>RENDIMIENTO=%{y}<extra></extra>",
         "legendgroup": "JENGIBRE",
         "line": {
          "color": "#FF97FF",
          "dash": "solid"
         },
         "mode": "lines",
         "name": "JENGIBRE",
         "showlegend": true,
         "type": "scattergl",
         "x": [
          2007,
          2008,
          2014,
          2015,
          2016,
          2017,
          2018
         ],
         "xaxis": "x",
         "y": [
          0.63,
          0.63,
          3,
          4,
          15,
          19,
          13.333333333333334
         ],
         "yaxis": "y"
        },
        {
         "hovertemplate": "CADENA_PRODUCTIVA_ADR=LIMA<br>YEAR=%{x}<br>RENDIMIENTO=%{y}<extra></extra>",
         "legendgroup": "LIMA",
         "line": {
          "color": "#FECB52",
          "dash": "solid"
         },
         "mode": "lines",
         "name": "LIMA",
         "showlegend": true,
         "type": "scattergl",
         "x": [
          2007,
          2008,
          2009,
          2010,
          2011,
          2012,
          2013,
          2014,
          2015,
          2016,
          2017,
          2018
         ],
         "xaxis": "x",
         "y": [
          23.65375,
          19.384285714285713,
          17.60909090909091,
          15.93,
          14.546666666666665,
          16.463333333333335,
          14.770999999999997,
          14.218260869565217,
          13.829166666666666,
          13.265625,
          13.72027027027027,
          12.186590909090908
         ],
         "yaxis": "y"
        },
        {
         "hovertemplate": "CADENA_PRODUCTIVA_ADR=LIMON<br>YEAR=%{x}<br>RENDIMIENTO=%{y}<extra></extra>",
         "legendgroup": "LIMON",
         "line": {
          "color": "#636efa",
          "dash": "solid"
         },
         "mode": "lines",
         "name": "LIMON",
         "showlegend": true,
         "type": "scattergl",
         "x": [
          2007,
          2008,
          2009,
          2010,
          2011,
          2012,
          2013,
          2014,
          2015,
          2016,
          2017,
          2018
         ],
         "xaxis": "x",
         "y": [
          10.739154929577463,
          10.105176470588235,
          10.444891304347827,
          10.098640776699028,
          9.891944444444444,
          9.363418803418803,
          9.264298245614036,
          9.256465517241379,
          8.269461538461538,
          7.922987012987012,
          8.136748466257668,
          8.444642857142856
         ],
         "yaxis": "y"
        },
        {
         "hovertemplate": "CADENA_PRODUCTIVA_ADR=LULO<br>YEAR=%{x}<br>RENDIMIENTO=%{y}<extra></extra>",
         "legendgroup": "LULO",
         "line": {
          "color": "#EF553B",
          "dash": "solid"
         },
         "mode": "lines",
         "name": "LULO",
         "showlegend": true,
         "type": "scattergl",
         "x": [
          2007,
          2008,
          2009,
          2010,
          2011,
          2012,
          2013,
          2014,
          2015,
          2016,
          2017,
          2018
         ],
         "xaxis": "x",
         "y": [
          7.766768558951964,
          7.914383561643836,
          7.780638297872338,
          8.176313559322033,
          8.488277310924369,
          9.0895983935743,
          9.41891472868217,
          8.635018315018316,
          8.799061371841155,
          9.064521072796936,
          9.506136363636363,
          9.828736059479553
         ],
         "yaxis": "y"
        },
        {
         "hovertemplate": "CADENA_PRODUCTIVA_ADR=MACADAMIA<br>YEAR=%{x}<br>RENDIMIENTO=%{y}<extra></extra>",
         "legendgroup": "MACADAMIA",
         "line": {
          "color": "#00cc96",
          "dash": "solid"
         },
         "mode": "lines",
         "name": "MACADAMIA",
         "showlegend": true,
         "type": "scattergl",
         "x": [
          2007,
          2008,
          2009,
          2010,
          2011,
          2012,
          2013,
          2014,
          2015,
          2016,
          2017,
          2018
         ],
         "xaxis": "x",
         "y": [
          2.8433333333333333,
          3.554,
          3.5455555555555556,
          4.525,
          2.373333333333333,
          2.3200000000000003,
          2.6666666666666665,
          3.185714285714286,
          3.1142857142857143,
          3.4385714285714286,
          3.642857142857143,
          3.5
         ],
         "yaxis": "y"
        },
        {
         "hovertemplate": "CADENA_PRODUCTIVA_ADR=MAIZ FORRAJERO<br>YEAR=%{x}<br>RENDIMIENTO=%{y}<extra></extra>",
         "legendgroup": "MAIZ FORRAJERO",
         "line": {
          "color": "#ab63fa",
          "dash": "solid"
         },
         "mode": "lines",
         "name": "MAIZ FORRAJERO",
         "showlegend": true,
         "type": "scattergl",
         "x": [
          2007,
          2008,
          2009,
          2010,
          2011,
          2012,
          2013,
          2014,
          2015,
          2016,
          2017,
          2018
         ],
         "xaxis": "x",
         "y": [
          85,
          86.36,
          33.75666666666667,
          60.333333333333336,
          49,
          40.14380952380952,
          33.63,
          21.727027027027027,
          23.774193548387096,
          23.557,
          25.821428571428573,
          26.575
         ],
         "yaxis": "y"
        },
        {
         "hovertemplate": "CADENA_PRODUCTIVA_ADR=MALANGA<br>YEAR=%{x}<br>RENDIMIENTO=%{y}<extra></extra>",
         "legendgroup": "MALANGA",
         "line": {
          "color": "#FFA15A",
          "dash": "solid"
         },
         "mode": "lines",
         "name": "MALANGA",
         "showlegend": true,
         "type": "scattergl",
         "x": [
          2007,
          2008,
          2009,
          2010,
          2011,
          2012,
          2013,
          2014,
          2015,
          2016,
          2017,
          2018
         ],
         "xaxis": "x",
         "y": [
          8.462105263157895,
          8.47625,
          7.71340909090909,
          7.636041666666666,
          7.144259259259259,
          7.038163265306123,
          7.351272727272727,
          7.322678571428571,
          7.801754385964912,
          7.635483870967741,
          7.457460317460319,
          7.600634920634921
         ],
         "yaxis": "y"
        },
        {
         "hovertemplate": "CADENA_PRODUCTIVA_ADR=MAMONCILLO<br>YEAR=%{x}<br>RENDIMIENTO=%{y}<extra></extra>",
         "legendgroup": "MAMONCILLO",
         "line": {
          "color": "#19d3f3",
          "dash": "solid"
         },
         "mode": "lines",
         "name": "MAMONCILLO",
         "showlegend": true,
         "type": "scattergl",
         "x": [
          2007,
          2008,
          2009,
          2010,
          2011,
          2012,
          2013,
          2014,
          2015,
          2016,
          2017,
          2018
         ],
         "xaxis": "x",
         "y": [
          10,
          7,
          6,
          6.4575,
          5.375,
          5.7,
          5.15,
          6,
          4.266666666666667,
          3.9333333333333336,
          12.933333333333332,
          12.933333333333332
         ],
         "yaxis": "y"
        },
        {
         "hovertemplate": "CADENA_PRODUCTIVA_ADR=MANDARINA<br>YEAR=%{x}<br>RENDIMIENTO=%{y}<extra></extra>",
         "legendgroup": "MANDARINA",
         "line": {
          "color": "#FF6692",
          "dash": "solid"
         },
         "mode": "lines",
         "name": "MANDARINA",
         "showlegend": true,
         "type": "scattergl",
         "x": [
          2007,
          2008,
          2009,
          2010,
          2011,
          2012,
          2013,
          2014,
          2015,
          2016,
          2017,
          2018
         ],
         "xaxis": "x",
         "y": [
          14.921463414634148,
          13.559999999999999,
          14.408939393939391,
          14.966666666666667,
          14.676338028169017,
          14.057536231884058,
          13.370389610389614,
          13.910428571428573,
          13.961558441558442,
          13.553720930232556,
          13.77445652173913,
          13.911720430107527
         ],
         "yaxis": "y"
        },
        {
         "hovertemplate": "CADENA_PRODUCTIVA_ADR=MANGO<br>YEAR=%{x}<br>RENDIMIENTO=%{y}<extra></extra>",
         "legendgroup": "MANGO",
         "line": {
          "color": "#B6E880",
          "dash": "solid"
         },
         "mode": "lines",
         "name": "MANGO",
         "showlegend": true,
         "type": "scattergl",
         "x": [
          2007,
          2008,
          2009,
          2010,
          2011,
          2012,
          2013,
          2014,
          2015,
          2016,
          2017,
          2018
         ],
         "xaxis": "x",
         "y": [
          10.175864197530865,
          10.405628742514969,
          11.037278106508879,
          10.471071428571431,
          9.932705882352943,
          10.12732558139535,
          10.123278688524591,
          9.818449197860962,
          9.813229166666668,
          10.444293193717279,
          10.707339901477834,
          11.250805687203792
         ],
         "yaxis": "y"
        },
        {
         "hovertemplate": "CADENA_PRODUCTIVA_ADR=MANGOSTINO<br>YEAR=%{x}<br>RENDIMIENTO=%{y}<extra></extra>",
         "legendgroup": "MANGOSTINO",
         "line": {
          "color": "#FF97FF",
          "dash": "solid"
         },
         "mode": "lines",
         "name": "MANGOSTINO",
         "showlegend": true,
         "type": "scattergl",
         "x": [
          2007,
          2008,
          2009,
          2010,
          2011,
          2012,
          2013,
          2014,
          2015,
          2016,
          2017,
          2018
         ],
         "xaxis": "x",
         "y": [
          5.1000000000000005,
          5,
          3.8333333333333335,
          7,
          24,
          15,
          16.4,
          4.971428571428571,
          5.4375,
          6.4125,
          6.3,
          6.3
         ],
         "yaxis": "y"
        },
        {
         "hovertemplate": "CADENA_PRODUCTIVA_ADR=MANZANA<br>YEAR=%{x}<br>RENDIMIENTO=%{y}<extra></extra>",
         "legendgroup": "MANZANA",
         "line": {
          "color": "#FECB52",
          "dash": "solid"
         },
         "mode": "lines",
         "name": "MANZANA",
         "showlegend": true,
         "type": "scattergl",
         "x": [
          2007,
          2008,
          2009,
          2010,
          2011,
          2012,
          2013,
          2014,
          2015,
          2016,
          2017,
          2018
         ],
         "xaxis": "x",
         "y": [
          10.26047619047619,
          10.382352941176471,
          9.75,
          10.854375000000001,
          9.946666666666665,
          8.537272727272727,
          8.941666666666666,
          9.73076923076923,
          9.461538461538462,
          10.416666666666666,
          10.75,
          10.538461538461538
         ],
         "yaxis": "y"
        },
        {
         "hovertemplate": "CADENA_PRODUCTIVA_ADR=MARACUYA<br>YEAR=%{x}<br>RENDIMIENTO=%{y}<extra></extra>",
         "legendgroup": "MARACUYA",
         "line": {
          "color": "#636efa",
          "dash": "solid"
         },
         "mode": "lines",
         "name": "MARACUYA",
         "showlegend": true,
         "type": "scattergl",
         "x": [
          2007,
          2008,
          2009,
          2010,
          2011,
          2012,
          2013,
          2014,
          2015,
          2016,
          2017,
          2018
         ],
         "xaxis": "x",
         "y": [
          14.996971830985913,
          15.245422535211263,
          14.09,
          14.600576923076924,
          14.403172413793104,
          14.597635135135134,
          15.270266666666666,
          15.077300613496934,
          15.032530120481928,
          14.632108433734942,
          14.17742105263158,
          14.188629441624364
         ],
         "yaxis": "y"
        },
        {
         "hovertemplate": "CADENA_PRODUCTIVA_ADR=MARAÑON<br>YEAR=%{x}<br>RENDIMIENTO=%{y}<extra></extra>",
         "legendgroup": "MARAÑON",
         "line": {
          "color": "#EF553B",
          "dash": "solid"
         },
         "mode": "lines",
         "name": "MARAÑON",
         "showlegend": true,
         "type": "scattergl",
         "x": [
          2007,
          2008,
          2009,
          2010,
          2011,
          2012,
          2013,
          2014,
          2015,
          2016,
          2017,
          2018
         ],
         "xaxis": "x",
         "y": [
          1.8333333333333333,
          1.405,
          15.58,
          16.625,
          3.8000000000000003,
          8.8,
          5.785714285714286,
          5.285714285714286,
          6.338333333333334,
          5.7125,
          5.795555555555556,
          6.362222222222222
         ],
         "yaxis": "y"
        },
        {
         "hovertemplate": "CADENA_PRODUCTIVA_ADR=MORA<br>YEAR=%{x}<br>RENDIMIENTO=%{y}<extra></extra>",
         "legendgroup": "MORA",
         "line": {
          "color": "#00cc96",
          "dash": "solid"
         },
         "mode": "lines",
         "name": "MORA",
         "showlegend": true,
         "type": "scattergl",
         "x": [
          2007,
          2008,
          2009,
          2010,
          2011,
          2012,
          2013,
          2014,
          2015,
          2016,
          2017,
          2018
         ],
         "xaxis": "x",
         "y": [
          7.412024291497975,
          7.353654618473894,
          6.896539923954375,
          6.998646616541354,
          6.8027881040892195,
          6.896457564575646,
          7.118592592592593,
          7.2136153846153865,
          7.187807692307692,
          7.457164750957855,
          7.857381818181818,
          7.989963898916969
         ],
         "yaxis": "y"
        },
        {
         "hovertemplate": "CADENA_PRODUCTIVA_ADR=MORERA<br>YEAR=%{x}<br>RENDIMIENTO=%{y}<extra></extra>",
         "legendgroup": "MORERA",
         "line": {
          "color": "#ab63fa",
          "dash": "solid"
         },
         "mode": "lines",
         "name": "MORERA",
         "showlegend": true,
         "type": "scattergl",
         "x": [
          2007,
          2008,
          2009,
          2010,
          2011,
          2012,
          2013,
          2014,
          2015,
          2016,
          2017,
          2018
         ],
         "xaxis": "x",
         "y": [
          9.4,
          9.4,
          9.11,
          9.835,
          9.5,
          11,
          8,
          0.5,
          0.5,
          0.4,
          3.7,
          3.7
         ],
         "yaxis": "y"
        },
        {
         "hovertemplate": "CADENA_PRODUCTIVA_ADR=NARANJA<br>YEAR=%{x}<br>RENDIMIENTO=%{y}<extra></extra>",
         "legendgroup": "NARANJA",
         "line": {
          "color": "#FFA15A",
          "dash": "solid"
         },
         "mode": "lines",
         "name": "NARANJA",
         "showlegend": true,
         "type": "scattergl",
         "x": [
          2007,
          2008,
          2009,
          2010,
          2011,
          2012,
          2013,
          2014,
          2015,
          2016,
          2017,
          2018
         ],
         "xaxis": "x",
         "y": [
          13.825161290322578,
          13.008036809815955,
          12.614556962025317,
          12.817453416149066,
          11.78907608695652,
          11.527816091954021,
          11.091069518716576,
          10.880967741935484,
          10.72200980392157,
          11.062769953051642,
          11.741689497716896,
          11.509547511312217
         ],
         "yaxis": "y"
        },
        {
         "hovertemplate": "CADENA_PRODUCTIVA_ADR=NISPERO<br>YEAR=%{x}<br>RENDIMIENTO=%{y}<extra></extra>",
         "legendgroup": "NISPERO",
         "line": {
          "color": "#19d3f3",
          "dash": "solid"
         },
         "mode": "lines",
         "name": "NISPERO",
         "showlegend": true,
         "type": "scattergl",
         "x": [
          2007,
          2008,
          2009,
          2010,
          2011,
          2012,
          2013,
          2014,
          2015,
          2016,
          2017,
          2018
         ],
         "xaxis": "x",
         "y": [
          5.1899999999999995,
          6.734,
          8.104,
          8.76,
          7,
          8,
          10.5,
          5.833333333333333,
          5,
          4.214285714285714,
          5.16,
          5.8
         ],
         "yaxis": "y"
        },
        {
         "hovertemplate": "CADENA_PRODUCTIVA_ADR=PALMA DE ACEITE<br>YEAR=%{x}<br>RENDIMIENTO=%{y}<extra></extra>",
         "legendgroup": "PALMA DE ACEITE",
         "line": {
          "color": "#FF6692",
          "dash": "solid"
         },
         "mode": "lines",
         "name": "PALMA DE ACEITE",
         "showlegend": true,
         "type": "scattergl",
         "x": [
          2007,
          2008,
          2009,
          2010,
          2011,
          2012,
          2013,
          2014,
          2015,
          2016,
          2017,
          2018
         ],
         "xaxis": "x",
         "y": [
          3.3260000000000005,
          3.3103658536585363,
          3.2740449438202246,
          3.2222727272727285,
          3.1979569892473116,
          3.232871287128712,
          3.170094339622641,
          3.0555963302752303,
          3.1197391304347852,
          2.816782608695654,
          3.169396551724135,
          3.272049180327866
         ],
         "yaxis": "y"
        },
        {
         "hovertemplate": "CADENA_PRODUCTIVA_ADR=PALMITO<br>YEAR=%{x}<br>RENDIMIENTO=%{y}<extra></extra>",
         "legendgroup": "PALMITO",
         "line": {
          "color": "#B6E880",
          "dash": "solid"
         },
         "mode": "lines",
         "name": "PALMITO",
         "showlegend": true,
         "type": "scattergl",
         "x": [
          2007,
          2008,
          2009,
          2010,
          2011,
          2012,
          2013,
          2014,
          2015,
          2016,
          2017,
          2018
         ],
         "xaxis": "x",
         "y": [
          1.4983333333333333,
          4.140000000000001,
          5.7120000000000015,
          6.628750000000001,
          7.432,
          7.0166666666666675,
          8.654444444444444,
          8.654444444444444,
          8.679,
          8.041666666666666,
          8.409090909090908,
          8.590909090909092
         ],
         "yaxis": "y"
        },
        {
         "hovertemplate": "CADENA_PRODUCTIVA_ADR=PAPAYA<br>YEAR=%{x}<br>RENDIMIENTO=%{y}<extra></extra>",
         "legendgroup": "PAPAYA",
         "line": {
          "color": "#FF97FF",
          "dash": "solid"
         },
         "mode": "lines",
         "name": "PAPAYA",
         "showlegend": true,
         "type": "scattergl",
         "x": [
          2007,
          2008,
          2009,
          2010,
          2011,
          2012,
          2013,
          2014,
          2015,
          2016,
          2017,
          2018
         ],
         "xaxis": "x",
         "y": [
          24.97962686567164,
          22.4141726618705,
          23.554093959731542,
          24.86234375,
          22.8225,
          21.473806451612905,
          23.15159509202454,
          22.256081081081085,
          22.259210526315787,
          23.069214285714285,
          24.45527397260274,
          24.58693333333333
         ],
         "yaxis": "y"
        },
        {
         "hovertemplate": "CADENA_PRODUCTIVA_ADR=PAPAYUELA<br>YEAR=%{x}<br>RENDIMIENTO=%{y}<extra></extra>",
         "legendgroup": "PAPAYUELA",
         "line": {
          "color": "#FECB52",
          "dash": "solid"
         },
         "mode": "lines",
         "name": "PAPAYUELA",
         "showlegend": true,
         "type": "scattergl",
         "x": [
          2007,
          2008,
          2009,
          2010,
          2011,
          2012,
          2013,
          2014,
          2015,
          2016,
          2017,
          2018
         ],
         "xaxis": "x",
         "y": [
          10.835,
          14.4,
          14,
          16,
          6,
          5,
          6.166666666666667,
          6.166666666666667,
          5.5,
          7.166666666666667,
          10,
          10.125
         ],
         "yaxis": "y"
        },
        {
         "hovertemplate": "CADENA_PRODUCTIVA_ADR=PERA<br>YEAR=%{x}<br>RENDIMIENTO=%{y}<extra></extra>",
         "legendgroup": "PERA",
         "line": {
          "color": "#636efa",
          "dash": "solid"
         },
         "mode": "lines",
         "name": "PERA",
         "showlegend": true,
         "type": "scattergl",
         "x": [
          2007,
          2008,
          2009,
          2010,
          2011,
          2012,
          2013,
          2014,
          2015,
          2016,
          2017,
          2018
         ],
         "xaxis": "x",
         "y": [
          9.071428571428571,
          10.684000000000001,
          11.25,
          12.125,
          8.285714285714286,
          9.916666666666666,
          10.608333333333333,
          11.283333333333333,
          10.616666666666667,
          12.6,
          11.833333333333334,
          12.166666666666666
         ],
         "yaxis": "y"
        },
        {
         "hovertemplate": "CADENA_PRODUCTIVA_ADR=PIMIENTA<br>YEAR=%{x}<br>RENDIMIENTO=%{y}<extra></extra>",
         "legendgroup": "PIMIENTA",
         "line": {
          "color": "#EF553B",
          "dash": "solid"
         },
         "mode": "lines",
         "name": "PIMIENTA",
         "showlegend": true,
         "type": "scattergl",
         "x": [
          2007,
          2008,
          2009,
          2010,
          2011,
          2012,
          2013,
          2014,
          2015,
          2016,
          2017,
          2018
         ],
         "xaxis": "x",
         "y": [
          1.53,
          1.725,
          1.8625,
          1.345,
          1.2625,
          1.625,
          1.2333333333333334,
          1.2283333333333333,
          1.2333333333333334,
          0.8312499999999999,
          1.25,
          1.2874999999999999
         ],
         "yaxis": "y"
        },
        {
         "hovertemplate": "CADENA_PRODUCTIVA_ADR=PITAHAYA<br>YEAR=%{x}<br>RENDIMIENTO=%{y}<extra></extra>",
         "legendgroup": "PITAHAYA",
         "line": {
          "color": "#00cc96",
          "dash": "solid"
         },
         "mode": "lines",
         "name": "PITAHAYA",
         "showlegend": true,
         "type": "scattergl",
         "x": [
          2007,
          2008,
          2009,
          2010,
          2011,
          2012,
          2013,
          2014,
          2015,
          2016,
          2017,
          2018
         ],
         "xaxis": "x",
         "y": [
          8.254210526315788,
          8.15918918918919,
          8.71304347826087,
          9.346808510638299,
          9.367843137254903,
          8.710344827586207,
          9.744642857142859,
          9.558181818181819,
          9.487868852459016,
          8.732238805970148,
          8.68840579710145,
          8.891666666666667
         ],
         "yaxis": "y"
        },
        {
         "hovertemplate": "CADENA_PRODUCTIVA_ADR=PIÑA<br>YEAR=%{x}<br>RENDIMIENTO=%{y}<extra></extra>",
         "legendgroup": "PIÑA",
         "line": {
          "color": "#ab63fa",
          "dash": "solid"
         },
         "mode": "lines",
         "name": "PIÑA",
         "showlegend": true,
         "type": "scattergl",
         "x": [
          2007,
          2008,
          2009,
          2010,
          2011,
          2012,
          2013,
          2014,
          2015,
          2016,
          2017,
          2018
         ],
         "xaxis": "x",
         "y": [
          28.03622047244094,
          28.0543661971831,
          28.6952,
          28.82776315789474,
          26.727672955974846,
          27.860279329608943,
          28.033402061855668,
          28.23031746031746,
          28.90321428571428,
          30.990394088669948,
          30.305879629629633,
          31.050321100917433
         ],
         "yaxis": "y"
        },
        {
         "hovertemplate": "CADENA_PRODUCTIVA_ADR=PLATANO<br>YEAR=%{x}<br>RENDIMIENTO=%{y}<extra></extra>",
         "legendgroup": "PLATANO",
         "line": {
          "color": "#FFA15A",
          "dash": "solid"
         },
         "mode": "lines",
         "name": "PLATANO",
         "showlegend": true,
         "type": "scattergl",
         "x": [
          2007,
          2008,
          2009,
          2010,
          2011,
          2012,
          2013,
          2014,
          2015,
          2016,
          2017,
          2018
         ],
         "xaxis": "x",
         "y": [
          7.287842876165112,
          7.017246575342467,
          7.251212534059946,
          7.3630393487109975,
          7.124671232876717,
          7.404241192411928,
          7.34977602108037,
          7.446453333333335,
          7.239840425531912,
          7.664974025974022,
          7.814417413572341,
          8.168420382165603
         ],
         "yaxis": "y"
        },
        {
         "hovertemplate": "CADENA_PRODUCTIVA_ADR=ROMERO<br>YEAR=%{x}<br>RENDIMIENTO=%{y}<extra></extra>",
         "legendgroup": "ROMERO",
         "line": {
          "color": "#19d3f3",
          "dash": "solid"
         },
         "mode": "lines",
         "name": "ROMERO",
         "showlegend": true,
         "type": "scattergl",
         "x": [
          2007,
          2009,
          2010,
          2011,
          2012,
          2014,
          2017,
          2018
         ],
         "xaxis": "x",
         "y": [
          3.085,
          8.633333333333333,
          1.19,
          1.2066666666666666,
          12.8,
          1,
          2,
          2
         ],
         "yaxis": "y"
        },
        {
         "hovertemplate": "CADENA_PRODUCTIVA_ADR=SABILA<br>YEAR=%{x}<br>RENDIMIENTO=%{y}<extra></extra>",
         "legendgroup": "SABILA",
         "line": {
          "color": "#FF6692",
          "dash": "solid"
         },
         "mode": "lines",
         "name": "SABILA",
         "showlegend": true,
         "type": "scattergl",
         "x": [
          2007,
          2008,
          2009,
          2010,
          2011,
          2012,
          2013,
          2014,
          2015,
          2016,
          2017,
          2018
         ],
         "xaxis": "x",
         "y": [
          null,
          18.79,
          20.59166666666667,
          33.42444444444445,
          26,
          23.825,
          36.54705882352941,
          32.239285714285714,
          32.3235294117647,
          33.56578947368421,
          24.11842105263158,
          22.058139534883722
         ],
         "yaxis": "y"
        },
        {
         "hovertemplate": "CADENA_PRODUCTIVA_ADR=SACHA INCHI<br>YEAR=%{x}<br>RENDIMIENTO=%{y}<extra></extra>",
         "legendgroup": "SACHA INCHI",
         "line": {
          "color": "#B6E880",
          "dash": "solid"
         },
         "mode": "lines",
         "name": "SACHA INCHI",
         "showlegend": true,
         "type": "scattergl",
         "x": [
          2007,
          2008,
          2009,
          2010,
          2011,
          2012,
          2013,
          2014,
          2015,
          2016,
          2017,
          2018
         ],
         "xaxis": "x",
         "y": [
          0.6,
          0.6,
          0.8,
          7.67,
          5,
          0.8,
          0.5,
          1.548,
          1.5292307692307694,
          1.6,
          2.5516129032258066,
          3.5264705882352945
         ],
         "yaxis": "y"
        },
        {
         "hovertemplate": "CADENA_PRODUCTIVA_ADR=STEVIA<br>YEAR=%{x}<br>RENDIMIENTO=%{y}<extra></extra>",
         "legendgroup": "STEVIA",
         "line": {
          "color": "#FF97FF",
          "dash": "solid"
         },
         "mode": "lines",
         "name": "STEVIA",
         "showlegend": true,
         "type": "scattergl",
         "x": [
          2007,
          2008,
          2009,
          2010,
          2011,
          2012,
          2013,
          2014,
          2015,
          2016,
          2017,
          2018
         ],
         "xaxis": "x",
         "y": [
          6.4575,
          4.25,
          3.6666666666666665,
          3.1666666666666665,
          0.55,
          0.9666666666666667,
          1.0999999999999999,
          1.55,
          1.55,
          1.5333333333333332,
          1.5333333333333332,
          1.5333333333333332
         ],
         "yaxis": "y"
        },
        {
         "hovertemplate": "CADENA_PRODUCTIVA_ADR=TABACO NEGRO<br>YEAR=%{x}<br>RENDIMIENTO=%{y}<extra></extra>",
         "legendgroup": "TABACO NEGRO",
         "line": {
          "color": "#FECB52",
          "dash": "solid"
         },
         "mode": "lines",
         "name": "TABACO NEGRO",
         "showlegend": true,
         "type": "scattergl",
         "x": [
          2007,
          2008,
          2009,
          2010,
          2011,
          2012,
          2013,
          2014,
          2015,
          2016,
          2017,
          2018
         ],
         "xaxis": "x",
         "y": [
          1.7259459459459459,
          1.8342857142857143,
          1.8487179487179486,
          1.745,
          1.5953125,
          1.6817241379310344,
          1.7852941176470583,
          1.6442307692307692,
          1.5831034482758621,
          1.7532000000000003,
          1.7914814814814817,
          1.8166666666666669
         ],
         "yaxis": "y"
        },
        {
         "hovertemplate": "CADENA_PRODUCTIVA_ADR=TAMARINDO<br>YEAR=%{x}<br>RENDIMIENTO=%{y}<extra></extra>",
         "legendgroup": "TAMARINDO",
         "line": {
          "color": "#636efa",
          "dash": "solid"
         },
         "mode": "lines",
         "name": "TAMARINDO",
         "showlegend": true,
         "type": "scattergl",
         "x": [
          2007,
          2008,
          2009,
          2010,
          2011,
          2012,
          2013,
          2014,
          2015,
          2016,
          2017,
          2018
         ],
         "xaxis": "x",
         "y": [
          7.5,
          7.8325,
          4.8774999999999995,
          7.502,
          5.16,
          5.5,
          4.55,
          3.7,
          3.95,
          5,
          5,
          5
         ],
         "yaxis": "y"
        },
        {
         "hovertemplate": "CADENA_PRODUCTIVA_ADR=TANGELO<br>YEAR=%{x}<br>RENDIMIENTO=%{y}<extra></extra>",
         "legendgroup": "TANGELO",
         "line": {
          "color": "#EF553B",
          "dash": "solid"
         },
         "mode": "lines",
         "name": "TANGELO",
         "showlegend": true,
         "type": "scattergl",
         "x": [
          2007,
          2008,
          2009,
          2010,
          2011,
          2012,
          2013,
          2014,
          2015,
          2016,
          2017,
          2018
         ],
         "xaxis": "x",
         "y": [
          19.900000000000002,
          18.06,
          17.5,
          13.4375,
          14.003333333333336,
          11.940000000000001,
          10.777777777777779,
          10.833333333333334,
          13.55,
          11.15,
          15.681818181818182,
          15.706363636363635
         ],
         "yaxis": "y"
        },
        {
         "hovertemplate": "CADENA_PRODUCTIVA_ADR=TE<br>YEAR=%{x}<br>RENDIMIENTO=%{y}<extra></extra>",
         "legendgroup": "TE",
         "line": {
          "color": "#00cc96",
          "dash": "solid"
         },
         "mode": "lines",
         "name": "TE",
         "showlegend": true,
         "type": "scattergl",
         "x": [
          2007,
          2009,
          2010,
          2011,
          2012,
          2013,
          2014,
          2015,
          2016,
          2017,
          2018
         ],
         "xaxis": "x",
         "y": [
          2,
          2.44,
          2.44,
          2.44,
          2.4,
          2.4,
          2.4,
          2.4,
          2.4,
          2.4,
          2.4
         ],
         "yaxis": "y"
        },
        {
         "hovertemplate": "CADENA_PRODUCTIVA_ADR=TOMATE DE ARBOL<br>YEAR=%{x}<br>RENDIMIENTO=%{y}<extra></extra>",
         "legendgroup": "TOMATE DE ARBOL",
         "line": {
          "color": "#ab63fa",
          "dash": "solid"
         },
         "mode": "lines",
         "name": "TOMATE DE ARBOL",
         "showlegend": true,
         "type": "scattergl",
         "x": [
          2007,
          2008,
          2009,
          2010,
          2011,
          2012,
          2013,
          2014,
          2015,
          2016,
          2017,
          2018
         ],
         "xaxis": "x",
         "y": [
          11.626292682926833,
          11.451367924528302,
          11.660740740740744,
          12.1567264573991,
          11.758000000000001,
          11.466814159292035,
          11.193004484304932,
          11.157763157894738,
          11.225526315789477,
          11.557004405286346,
          11.86464285714286,
          11.633201754385965
         ],
         "yaxis": "y"
        },
        {
         "hovertemplate": "CADENA_PRODUCTIVA_ADR=TOMILLO<br>YEAR=%{x}<br>RENDIMIENTO=%{y}<extra></extra>",
         "legendgroup": "TOMILLO",
         "line": {
          "color": "#FFA15A",
          "dash": "solid"
         },
         "mode": "lines",
         "name": "TOMILLO",
         "showlegend": true,
         "type": "scattergl",
         "x": [
          2007,
          2008,
          2009,
          2010,
          2011,
          2012,
          2013,
          2014,
          2015,
          2016,
          2017,
          2018
         ],
         "xaxis": "x",
         "y": [
          7,
          8.4175,
          12.333333333333334,
          8,
          6.359999999999999,
          1.8,
          5,
          5,
          6,
          6,
          6,
          6
         ],
         "yaxis": "y"
        },
        {
         "hovertemplate": "CADENA_PRODUCTIVA_ADR=UCHUVA<br>YEAR=%{x}<br>RENDIMIENTO=%{y}<extra></extra>",
         "legendgroup": "UCHUVA",
         "line": {
          "color": "#19d3f3",
          "dash": "solid"
         },
         "mode": "lines",
         "name": "UCHUVA",
         "showlegend": true,
         "type": "scattergl",
         "x": [
          2007,
          2008,
          2009,
          2010,
          2011,
          2012,
          2013,
          2014,
          2015,
          2016,
          2017,
          2018
         ],
         "xaxis": "x",
         "y": [
          14.553488372093025,
          12.633617021276596,
          13.967250000000002,
          13.246052631578948,
          10.97974358974359,
          12.631999999999998,
          12.52127659574468,
          12.873090909090909,
          11.995740740740741,
          11.816666666666666,
          12.032142857142857,
          10.38875
         ],
         "yaxis": "y"
        },
        {
         "hovertemplate": "CADENA_PRODUCTIVA_ADR=UVA<br>YEAR=%{x}<br>RENDIMIENTO=%{y}<extra></extra>",
         "legendgroup": "UVA",
         "line": {
          "color": "#FF6692",
          "dash": "solid"
         },
         "mode": "lines",
         "name": "UVA",
         "showlegend": true,
         "type": "scattergl",
         "x": [
          2007,
          2008,
          2009,
          2010,
          2011,
          2012,
          2013,
          2014,
          2015,
          2016,
          2017,
          2018
         ],
         "xaxis": "x",
         "y": [
          10.27625,
          10.380697674418604,
          9.315365853658538,
          9.334418604651162,
          8.673720930232557,
          9.377380952380953,
          10.117391304347827,
          10.302222222222223,
          10.328888888888889,
          10.615217391304348,
          9.993529411764706,
          9.884615384615385
         ],
         "yaxis": "y"
        },
        {
         "hovertemplate": "CADENA_PRODUCTIVA_ADR=YUCA<br>YEAR=%{x}<br>RENDIMIENTO=%{y}<extra></extra>",
         "legendgroup": "YUCA",
         "line": {
          "color": "#B6E880",
          "dash": "solid"
         },
         "mode": "lines",
         "name": "YUCA",
         "showlegend": true,
         "type": "scattergl",
         "x": [
          2007,
          2008,
          2009,
          2010,
          2011,
          2012,
          2013,
          2014,
          2015,
          2016,
          2017,
          2018
         ],
         "xaxis": "x",
         "y": [
          10.393823529411762,
          10.17853223593964,
          10.167269076305217,
          10.666835937499997,
          10.081828793774319,
          10.466810126582281,
          10.446411192214118,
          10.300641975308647,
          10.06946341463415,
          10.591552346570401,
          11.034867469879517,
          11.09740384615384
         ],
         "yaxis": "y"
        },
        {
         "hovertemplate": "CADENA_PRODUCTIVA_ADR=ZAPOTE<br>YEAR=%{x}<br>RENDIMIENTO=%{y}<extra></extra>",
         "legendgroup": "ZAPOTE",
         "line": {
          "color": "#FF97FF",
          "dash": "solid"
         },
         "mode": "lines",
         "name": "ZAPOTE",
         "showlegend": true,
         "type": "scattergl",
         "x": [
          2007,
          2008,
          2009,
          2010,
          2011,
          2012,
          2013,
          2014,
          2015,
          2016,
          2017,
          2018
         ],
         "xaxis": "x",
         "y": [
          12.195625000000001,
          12.291304347826086,
          11.194583333333334,
          8.231818181818182,
          7.9094999999999995,
          7.9479999999999995,
          8.833333333333334,
          8.395652173913044,
          9.814285714285713,
          9.613636363636363,
          7.214285714285714,
          8.085454545454546
         ],
         "yaxis": "y"
        },
        {
         "hovertemplate": "CADENA_PRODUCTIVA_ADR=ÑAME<br>YEAR=%{x}<br>RENDIMIENTO=%{y}<extra></extra>",
         "legendgroup": "ÑAME",
         "line": {
          "color": "#FECB52",
          "dash": "solid"
         },
         "mode": "lines",
         "name": "ÑAME",
         "showlegend": true,
         "type": "scattergl",
         "x": [
          2007,
          2008,
          2009,
          2010,
          2011,
          2012,
          2013,
          2014,
          2015,
          2016,
          2017,
          2018
         ],
         "xaxis": "x",
         "y": [
          9.423260869565219,
          9.034631578947367,
          8.846372549019605,
          9.28495652173913,
          9.15822033898305,
          8.54528846153846,
          8.806268656716417,
          8.414769230769231,
          8.071615384615384,
          9.05042857142857,
          9.429066666666666,
          9.477019867549666
         ],
         "yaxis": "y"
        },
        {
         "hovertemplate": "CADENA_PRODUCTIVA_ADR=AGRAZ<br>YEAR=%{x}<br>RENDIMIENTO=%{y}<extra></extra>",
         "legendgroup": "AGRAZ",
         "line": {
          "color": "#636efa",
          "dash": "solid"
         },
         "mode": "lines",
         "name": "AGRAZ",
         "showlegend": true,
         "type": "scattergl",
         "x": [
          2008,
          2009,
          2010,
          2011,
          2012,
          2013,
          2014,
          2015,
          2016,
          2017,
          2018
         ],
         "xaxis": "x",
         "y": [
          14.3,
          14.28,
          14.28,
          7,
          6,
          2.8,
          3.6666666666666665,
          3.6666666666666665,
          3.3333333333333335,
          3.4166666666666665,
          2.3333333333333335
         ],
         "yaxis": "y"
        },
        {
         "hovertemplate": "CADENA_PRODUCTIVA_ADR=AGUAJE<br>YEAR=%{x}<br>RENDIMIENTO=%{y}<extra></extra>",
         "legendgroup": "AGUAJE",
         "line": {
          "color": "#EF553B",
          "dash": "solid"
         },
         "mode": "lines",
         "name": "AGUAJE",
         "showlegend": true,
         "type": "scattergl",
         "x": [
          2008,
          2009,
          2010,
          2011,
          2012,
          2013,
          2014,
          2015,
          2016
         ],
         "xaxis": "x",
         "y": [
          30.165,
          30,
          5.9,
          5.9,
          5.9,
          5.9,
          5.9,
          5.9,
          5.95
         ],
         "yaxis": "y"
        },
        {
         "hovertemplate": "CADENA_PRODUCTIVA_ADR=ALBAHACA<br>YEAR=%{x}<br>RENDIMIENTO=%{y}<extra></extra>",
         "legendgroup": "ALBAHACA",
         "line": {
          "color": "#00cc96",
          "dash": "solid"
         },
         "mode": "lines",
         "name": "ALBAHACA",
         "showlegend": true,
         "type": "scattergl",
         "x": [
          2008,
          2009,
          2010,
          2011,
          2012,
          2013,
          2014,
          2015,
          2016,
          2017,
          2018
         ],
         "xaxis": "x",
         "y": [
          1.8333333333333333,
          2.25875,
          2.142857142857143,
          1.7,
          0.625,
          2.566666666666667,
          2.9466666666666668,
          3.566666666666667,
          1.95625,
          3.292307692307692,
          3.258461538461538
         ],
         "yaxis": "y"
        },
        {
         "hovertemplate": "CADENA_PRODUCTIVA_ADR=ALCACHOFA<br>YEAR=%{x}<br>RENDIMIENTO=%{y}<extra></extra>",
         "legendgroup": "ALCACHOFA",
         "line": {
          "color": "#ab63fa",
          "dash": "solid"
         },
         "mode": "lines",
         "name": "ALCACHOFA",
         "showlegend": true,
         "type": "scattergl",
         "x": [
          2008
         ],
         "xaxis": "x",
         "y": [
          10.77
         ],
         "yaxis": "y"
        },
        {
         "hovertemplate": "CADENA_PRODUCTIVA_ADR=ASAI<br>YEAR=%{x}<br>RENDIMIENTO=%{y}<extra></extra>",
         "legendgroup": "ASAI",
         "line": {
          "color": "#FFA15A",
          "dash": "solid"
         },
         "mode": "lines",
         "name": "ASAI",
         "showlegend": true,
         "type": "scattergl",
         "x": [
          2008,
          2009,
          2010,
          2011,
          2012,
          2013,
          2014,
          2015,
          2016,
          2017,
          2018
         ],
         "xaxis": "x",
         "y": [
          25.465,
          3.615,
          3.6,
          5.45,
          5.45,
          5.4,
          5.4,
          5.4,
          5.7,
          4,
          4
         ],
         "yaxis": "y"
        },
        {
         "hovertemplate": "CADENA_PRODUCTIVA_ADR=BACURI<br>YEAR=%{x}<br>RENDIMIENTO=%{y}<extra></extra>",
         "legendgroup": "BACURI",
         "line": {
          "color": "#19d3f3",
          "dash": "solid"
         },
         "mode": "lines",
         "name": "BACURI",
         "showlegend": true,
         "type": "scattergl",
         "x": [
          2008
         ],
         "xaxis": "x",
         "y": [
          4
         ],
         "yaxis": "y"
        },
        {
         "hovertemplate": "CADENA_PRODUCTIVA_ADR=CANYARANA<br>YEAR=%{x}<br>RENDIMIENTO=%{y}<extra></extra>",
         "legendgroup": "CANYARANA",
         "line": {
          "color": "#FF6692",
          "dash": "solid"
         },
         "mode": "lines",
         "name": "CANYARANA",
         "showlegend": true,
         "type": "scattergl",
         "x": [
          2008
         ],
         "xaxis": "x",
         "y": [
          12.5
         ],
         "yaxis": "y"
        },
        {
         "hovertemplate": "CADENA_PRODUCTIVA_ADR=COCONA<br>YEAR=%{x}<br>RENDIMIENTO=%{y}<extra></extra>",
         "legendgroup": "COCONA",
         "line": {
          "color": "#B6E880",
          "dash": "solid"
         },
         "mode": "lines",
         "name": "COCONA",
         "showlegend": true,
         "type": "scattergl",
         "x": [
          2008,
          2009,
          2012,
          2014,
          2015,
          2016
         ],
         "xaxis": "x",
         "y": [
          3,
          3,
          1,
          1,
          1.2,
          1.2
         ],
         "yaxis": "y"
        },
        {
         "hovertemplate": "CADENA_PRODUCTIVA_ADR=COPOAZU<br>YEAR=%{x}<br>RENDIMIENTO=%{y}<extra></extra>",
         "legendgroup": "COPOAZU",
         "line": {
          "color": "#FF97FF",
          "dash": "solid"
         },
         "mode": "lines",
         "name": "COPOAZU",
         "showlegend": true,
         "type": "scattergl",
         "x": [
          2008,
          2009,
          2010,
          2011,
          2012,
          2013,
          2014,
          2015,
          2016,
          2017,
          2018
         ],
         "xaxis": "x",
         "y": [
          4.3133333333333335,
          2.8000000000000003,
          2.8000000000000003,
          2.766666666666667,
          3.142857142857143,
          2.7857142857142856,
          2.685714285714286,
          2.971428571428571,
          6.5,
          5.7,
          5.7
         ],
         "yaxis": "y"
        },
        {
         "hovertemplate": "CADENA_PRODUCTIVA_ADR=COROZO<br>YEAR=%{x}<br>RENDIMIENTO=%{y}<extra></extra>",
         "legendgroup": "COROZO",
         "line": {
          "color": "#FECB52",
          "dash": "solid"
         },
         "mode": "lines",
         "name": "COROZO",
         "showlegend": true,
         "type": "scattergl",
         "x": [
          2008,
          2009,
          2010,
          2011,
          2012,
          2013
         ],
         "xaxis": "x",
         "y": [
          2.6,
          2.6,
          1.6,
          2,
          1.6,
          1.6
         ],
         "yaxis": "y"
        },
        {
         "hovertemplate": "CADENA_PRODUCTIVA_ADR=ESPARTO<br>YEAR=%{x}<br>RENDIMIENTO=%{y}<extra></extra>",
         "legendgroup": "ESPARTO",
         "line": {
          "color": "#636efa",
          "dash": "solid"
         },
         "mode": "lines",
         "name": "ESPARTO",
         "showlegend": true,
         "type": "scattergl",
         "x": [
          2008
         ],
         "xaxis": "x",
         "y": [
          1.11
         ],
         "yaxis": "y"
        },
        {
         "hovertemplate": "CADENA_PRODUCTIVA_ADR=FLOR DE JAMAICA<br>YEAR=%{x}<br>RENDIMIENTO=%{y}<extra></extra>",
         "legendgroup": "FLOR DE JAMAICA",
         "line": {
          "color": "#EF553B",
          "dash": "solid"
         },
         "mode": "lines",
         "name": "FLOR DE JAMAICA",
         "showlegend": true,
         "type": "scattergl",
         "x": [
          2008,
          2009,
          2010,
          2011,
          2012,
          2013,
          2014,
          2015,
          2016
         ],
         "xaxis": "x",
         "y": [
          0.29,
          0.94,
          0.32142857142857145,
          0.35624999999999996,
          0.5909090909090909,
          0.5,
          0.4,
          0.53,
          0.375
         ],
         "yaxis": "y"
        },
        {
         "hovertemplate": "CADENA_PRODUCTIVA_ADR=GUAMA<br>YEAR=%{x}<br>RENDIMIENTO=%{y}<extra></extra>",
         "legendgroup": "GUAMA",
         "line": {
          "color": "#00cc96",
          "dash": "solid"
         },
         "mode": "lines",
         "name": "GUAMA",
         "showlegend": true,
         "type": "scattergl",
         "x": [
          2008,
          2009,
          2010,
          2011,
          2012,
          2013,
          2014,
          2015,
          2016,
          2017,
          2018
         ],
         "xaxis": "x",
         "y": [
          2.473333333333333,
          1.96,
          2.8333333333333335,
          3.9,
          3.925,
          1.4,
          3.15,
          3.15,
          9,
          9,
          6
         ],
         "yaxis": "y"
        },
        {
         "hovertemplate": "CADENA_PRODUCTIVA_ADR=HIGUERILLA<br>YEAR=%{x}<br>RENDIMIENTO=%{y}<extra></extra>",
         "legendgroup": "HIGUERILLA",
         "line": {
          "color": "#ab63fa",
          "dash": "solid"
         },
         "mode": "lines",
         "name": "HIGUERILLA",
         "showlegend": true,
         "type": "scattergl",
         "x": [
          2008,
          2009,
          2010,
          2011,
          2012,
          2013,
          2014,
          2015,
          2016
         ],
         "xaxis": "x",
         "y": [
          3.9433333333333334,
          4.15,
          3.5,
          2.6,
          2,
          2,
          2.5,
          2.75,
          2.9333333333333336
         ],
         "yaxis": "y"
        },
        {
         "hovertemplate": "CADENA_PRODUCTIVA_ADR=JATROPHA<br>YEAR=%{x}<br>RENDIMIENTO=%{y}<extra></extra>",
         "legendgroup": "JATROPHA",
         "line": {
          "color": "#FFA15A",
          "dash": "solid"
         },
         "mode": "lines",
         "name": "JATROPHA",
         "showlegend": true,
         "type": "scattergl",
         "x": [
          2008,
          2010,
          2011,
          2012,
          2014,
          2015,
          2016,
          2017,
          2018
         ],
         "xaxis": "x",
         "y": [
          null,
          0.3,
          4.15,
          null,
          null,
          null,
          null,
          2,
          2
         ],
         "yaxis": "y"
        },
        {
         "hovertemplate": "CADENA_PRODUCTIVA_ADR=LAUREL<br>YEAR=%{x}<br>RENDIMIENTO=%{y}<extra></extra>",
         "legendgroup": "LAUREL",
         "line": {
          "color": "#19d3f3",
          "dash": "solid"
         },
         "mode": "lines",
         "name": "LAUREL",
         "showlegend": true,
         "type": "scattergl",
         "x": [
          2008
         ],
         "xaxis": "x",
         "y": [
          null
         ],
         "yaxis": "y"
        },
        {
         "hovertemplate": "CADENA_PRODUCTIVA_ADR=LIMONARIA<br>YEAR=%{x}<br>RENDIMIENTO=%{y}<extra></extra>",
         "legendgroup": "LIMONARIA",
         "line": {
          "color": "#FF6692",
          "dash": "solid"
         },
         "mode": "lines",
         "name": "LIMONARIA",
         "showlegend": true,
         "type": "scattergl",
         "x": [
          2008,
          2009,
          2010,
          2011,
          2013,
          2014,
          2015,
          2016,
          2017,
          2018
         ],
         "xaxis": "x",
         "y": [
          2.5,
          3.45,
          3,
          2.6999999999999997,
          9.333333333333334,
          9.135,
          5.9,
          3.6,
          3.725,
          3.6
         ],
         "yaxis": "y"
        },
        {
         "hovertemplate": "CADENA_PRODUCTIVA_ADR=MENTA<br>YEAR=%{x}<br>RENDIMIENTO=%{y}<extra></extra>",
         "legendgroup": "MENTA",
         "line": {
          "color": "#B6E880",
          "dash": "solid"
         },
         "mode": "lines",
         "name": "MENTA",
         "showlegend": true,
         "type": "scattergl",
         "x": [
          2008,
          2009,
          2010,
          2011,
          2013,
          2015,
          2017,
          2018
         ],
         "xaxis": "x",
         "y": [
          null,
          7.2,
          3.6,
          6.25,
          11,
          9,
          9,
          6
         ],
         "yaxis": "y"
        },
        {
         "hovertemplate": "CADENA_PRODUCTIVA_ADR=ORQUIDEA<br>YEAR=%{x}<br>RENDIMIENTO=%{y}<extra></extra>",
         "legendgroup": "ORQUIDEA",
         "line": {
          "color": "#FF97FF",
          "dash": "solid"
         },
         "mode": "lines",
         "name": "ORQUIDEA",
         "showlegend": true,
         "type": "scattergl",
         "x": [
          2008,
          2011
         ],
         "xaxis": "x",
         "y": [
          1.5,
          2.06
         ],
         "yaxis": "y"
        },
        {
         "hovertemplate": "CADENA_PRODUCTIVA_ADR=PALMA ROBELINA<br>YEAR=%{x}<br>RENDIMIENTO=%{y}<extra></extra>",
         "legendgroup": "PALMA ROBELINA",
         "line": {
          "color": "#FECB52",
          "dash": "solid"
         },
         "mode": "lines",
         "name": "PALMA ROBELINA",
         "showlegend": true,
         "type": "scattergl",
         "x": [
          2008,
          2009,
          2010,
          2011,
          2016,
          2017,
          2018
         ],
         "xaxis": "x",
         "y": [
          20,
          20,
          13.85,
          15.42,
          1,
          1,
          1
         ],
         "yaxis": "y"
        },
        {
         "hovertemplate": "CADENA_PRODUCTIVA_ADR=PEPA DE PAN<br>YEAR=%{x}<br>RENDIMIENTO=%{y}<extra></extra>",
         "legendgroup": "PEPA DE PAN",
         "line": {
          "color": "#636efa",
          "dash": "solid"
         },
         "mode": "lines",
         "name": "PEPA DE PAN",
         "showlegend": true,
         "type": "scattergl",
         "x": [
          2008,
          2010,
          2011,
          2012,
          2013,
          2014,
          2015,
          2016,
          2017,
          2018
         ],
         "xaxis": "x",
         "y": [
          1,
          3.75,
          4.666666666666667,
          6.4,
          4.714285714285714,
          5,
          5,
          4.666666666666667,
          3.9285714285714284,
          3.9285714285714284
         ],
         "yaxis": "y"
        },
        {
         "hovertemplate": "CADENA_PRODUCTIVA_ADR=POMARROSA<br>YEAR=%{x}<br>RENDIMIENTO=%{y}<extra></extra>",
         "legendgroup": "POMARROSA",
         "line": {
          "color": "#EF553B",
          "dash": "solid"
         },
         "mode": "lines",
         "name": "POMARROSA",
         "showlegend": true,
         "type": "scattergl",
         "x": [
          2008
         ],
         "xaxis": "x",
         "y": [
          7.67
         ],
         "yaxis": "y"
        },
        {
         "hovertemplate": "CADENA_PRODUCTIVA_ADR=ROSA<br>YEAR=%{x}<br>RENDIMIENTO=%{y}<extra></extra>",
         "legendgroup": "ROSA",
         "line": {
          "color": "#00cc96",
          "dash": "solid"
         },
         "mode": "lines",
         "name": "ROSA",
         "showlegend": true,
         "type": "scattergl",
         "x": [
          2008,
          2009,
          2010,
          2011,
          2012,
          2013,
          2014,
          2015,
          2016,
          2017,
          2018
         ],
         "xaxis": "x",
         "y": [
          13,
          11.003333333333336,
          10.856666666666667,
          7,
          15.98,
          19.52857142857143,
          19.45,
          20.93875,
          20.244285714285716,
          23.071,
          23.121000000000002
         ],
         "yaxis": "y"
        },
        {
         "hovertemplate": "CADENA_PRODUCTIVA_ADR=RUSCUS<br>YEAR=%{x}<br>RENDIMIENTO=%{y}<extra></extra>",
         "legendgroup": "RUSCUS",
         "line": {
          "color": "#ab63fa",
          "dash": "solid"
         },
         "mode": "lines",
         "name": "RUSCUS",
         "showlegend": true,
         "type": "scattergl",
         "x": [
          2008,
          2009,
          2010,
          2011,
          2012,
          2013,
          2014,
          2015,
          2016,
          2017,
          2018
         ],
         "xaxis": "x",
         "y": [
          20,
          20,
          17.625,
          12.834,
          12.5,
          10,
          10,
          10,
          10,
          10,
          10
         ],
         "yaxis": "y"
        },
        {
         "hovertemplate": "CADENA_PRODUCTIVA_ADR=TANGARANA<br>YEAR=%{x}<br>RENDIMIENTO=%{y}<extra></extra>",
         "legendgroup": "TANGARANA",
         "line": {
          "color": "#FFA15A",
          "dash": "solid"
         },
         "mode": "lines",
         "name": "TANGARANA",
         "showlegend": true,
         "type": "scattergl",
         "x": [
          2008
         ],
         "xaxis": "x",
         "y": [
          12.5
         ],
         "yaxis": "y"
        },
        {
         "hovertemplate": "CADENA_PRODUCTIVA_ADR=TORONJA<br>YEAR=%{x}<br>RENDIMIENTO=%{y}<extra></extra>",
         "legendgroup": "TORONJA",
         "line": {
          "color": "#19d3f3",
          "dash": "solid"
         },
         "mode": "lines",
         "name": "TORONJA",
         "showlegend": true,
         "type": "scattergl",
         "x": [
          2008,
          2009,
          2010,
          2011,
          2013,
          2014
         ],
         "xaxis": "x",
         "y": [
          3.69,
          4.29,
          14,
          10,
          4,
          4
         ],
         "yaxis": "y"
        },
        {
         "hovertemplate": "CADENA_PRODUCTIVA_ADR=TREE FERN<br>YEAR=%{x}<br>RENDIMIENTO=%{y}<extra></extra>",
         "legendgroup": "TREE FERN",
         "line": {
          "color": "#FF6692",
          "dash": "solid"
         },
         "mode": "lines",
         "name": "TREE FERN",
         "showlegend": true,
         "type": "scattergl",
         "x": [
          2008,
          2009,
          2010
         ],
         "xaxis": "x",
         "y": [
          20,
          20,
          18.75
         ],
         "yaxis": "y"
        },
        {
         "hovertemplate": "CADENA_PRODUCTIVA_ADR=UMARI<br>YEAR=%{x}<br>RENDIMIENTO=%{y}<extra></extra>",
         "legendgroup": "UMARI",
         "line": {
          "color": "#B6E880",
          "dash": "solid"
         },
         "mode": "lines",
         "name": "UMARI",
         "showlegend": true,
         "type": "scattergl",
         "x": [
          2008,
          2017,
          2018
         ],
         "xaxis": "x",
         "y": [
          3.75,
          6,
          6
         ],
         "yaxis": "y"
        },
        {
         "hovertemplate": "CADENA_PRODUCTIVA_ADR=UVA CAIMARONA<br>YEAR=%{x}<br>RENDIMIENTO=%{y}<extra></extra>",
         "legendgroup": "UVA CAIMARONA",
         "line": {
          "color": "#FF97FF",
          "dash": "solid"
         },
         "mode": "lines",
         "name": "UVA CAIMARONA",
         "showlegend": true,
         "type": "scattergl",
         "x": [
          2008,
          2009,
          2010,
          2011,
          2012,
          2013,
          2014,
          2015,
          2016,
          2017,
          2018
         ],
         "xaxis": "x",
         "y": [
          4.545,
          2.9925,
          3.3,
          2.4,
          1.9500000000000002,
          0.65,
          3,
          3,
          3,
          1.09,
          1.7
         ],
         "yaxis": "y"
        },
        {
         "hovertemplate": "CADENA_PRODUCTIVA_ADR=CAÑA FLECHA<br>YEAR=%{x}<br>RENDIMIENTO=%{y}<extra></extra>",
         "legendgroup": "CAÑA FLECHA",
         "line": {
          "color": "#FECB52",
          "dash": "solid"
         },
         "mode": "lines",
         "name": "CAÑA FLECHA",
         "showlegend": true,
         "type": "scattergl",
         "x": [
          2009,
          2010,
          2011,
          2012,
          2013,
          2014,
          2015,
          2016,
          2017,
          2018
         ],
         "xaxis": "x",
         "y": [
          1.045,
          0.56,
          0.56,
          3.5,
          3.6666666666666665,
          4.96,
          3.5,
          2.766666666666667,
          2.4,
          2.733333333333333
         ],
         "yaxis": "y"
        },
        {
         "hovertemplate": "CADENA_PRODUCTIVA_ADR=CEBOLLIN<br>YEAR=%{x}<br>RENDIMIENTO=%{y}<extra></extra>",
         "legendgroup": "CEBOLLIN",
         "line": {
          "color": "#636efa",
          "dash": "solid"
         },
         "mode": "lines",
         "name": "CEBOLLIN",
         "showlegend": true,
         "type": "scattergl",
         "x": [
          2009,
          2013,
          2014,
          2015,
          2016,
          2017,
          2018
         ],
         "xaxis": "x",
         "y": [
          null,
          23,
          23.333333333333332,
          24,
          50,
          21.666666666666668,
          28
         ],
         "yaxis": "y"
        },
        {
         "hovertemplate": "CADENA_PRODUCTIVA_ADR=CENTENO<br>YEAR=%{x}<br>RENDIMIENTO=%{y}<extra></extra>",
         "legendgroup": "CENTENO",
         "line": {
          "color": "#EF553B",
          "dash": "solid"
         },
         "mode": "lines",
         "name": "CENTENO",
         "showlegend": true,
         "type": "scattergl",
         "x": [
          2009,
          2010,
          2013,
          2014,
          2015
         ],
         "xaxis": "x",
         "y": [
          1,
          1,
          12,
          14,
          11.5
         ],
         "yaxis": "y"
        },
        {
         "hovertemplate": "CADENA_PRODUCTIVA_ADR=ENELDO<br>YEAR=%{x}<br>RENDIMIENTO=%{y}<extra></extra>",
         "legendgroup": "ENELDO",
         "line": {
          "color": "#00cc96",
          "dash": "solid"
         },
         "mode": "lines",
         "name": "ENELDO",
         "showlegend": true,
         "type": "scattergl",
         "x": [
          2009,
          2010,
          2011
         ],
         "xaxis": "x",
         "y": [
          2.8,
          0.84,
          0.67
         ],
         "yaxis": "y"
        },
        {
         "hovertemplate": "CADENA_PRODUCTIVA_ADR=GUATILA<br>YEAR=%{x}<br>RENDIMIENTO=%{y}<extra></extra>",
         "legendgroup": "GUATILA",
         "line": {
          "color": "#ab63fa",
          "dash": "solid"
         },
         "mode": "lines",
         "name": "GUATILA",
         "showlegend": true,
         "type": "scattergl",
         "x": [
          2009,
          2010,
          2011,
          2012,
          2013,
          2014,
          2015,
          2016,
          2017,
          2018
         ],
         "xaxis": "x",
         "y": [
          11,
          12,
          12.5,
          13,
          14.333333333333334,
          20.875,
          11.375,
          11.5,
          13.5,
          11.503333333333332
         ],
         "yaxis": "y"
        },
        {
         "hovertemplate": "CADENA_PRODUCTIVA_ADR=NABO<br>YEAR=%{x}<br>RENDIMIENTO=%{y}<extra></extra>",
         "legendgroup": "NABO",
         "line": {
          "color": "#FFA15A",
          "dash": "solid"
         },
         "mode": "lines",
         "name": "NABO",
         "showlegend": true,
         "type": "scattergl",
         "x": [
          2009,
          2014,
          2016,
          2017,
          2018
         ],
         "xaxis": "x",
         "y": [
          1,
          15,
          7.5,
          6.5,
          6.666666666666667
         ],
         "yaxis": "y"
        },
        {
         "hovertemplate": "CADENA_PRODUCTIVA_ADR=OREGANO<br>YEAR=%{x}<br>RENDIMIENTO=%{y}<extra></extra>",
         "legendgroup": "OREGANO",
         "line": {
          "color": "#19d3f3",
          "dash": "solid"
         },
         "mode": "lines",
         "name": "OREGANO",
         "showlegend": true,
         "type": "scattergl",
         "x": [
          2009,
          2010,
          2011,
          2017,
          2018
         ],
         "xaxis": "x",
         "y": [
          38.4,
          0.55,
          12.2,
          4.333333333333333,
          10.505
         ],
         "yaxis": "y"
        },
        {
         "hovertemplate": "CADENA_PRODUCTIVA_ADR=POMELO<br>YEAR=%{x}<br>RENDIMIENTO=%{y}<extra></extra>",
         "legendgroup": "POMELO",
         "line": {
          "color": "#FF6692",
          "dash": "solid"
         },
         "mode": "lines",
         "name": "POMELO",
         "showlegend": true,
         "type": "scattergl",
         "x": [
          2009,
          2010,
          2011,
          2012,
          2013,
          2014,
          2015,
          2016,
          2017,
          2018
         ],
         "xaxis": "x",
         "y": [
          35,
          20.5,
          19,
          35,
          11,
          10,
          10,
          12.5,
          17.5,
          17.5
         ],
         "yaxis": "y"
        },
        {
         "hovertemplate": "CADENA_PRODUCTIVA_ADR=RUDA<br>YEAR=%{x}<br>RENDIMIENTO=%{y}<extra></extra>",
         "legendgroup": "RUDA",
         "line": {
          "color": "#B6E880",
          "dash": "solid"
         },
         "mode": "lines",
         "name": "RUDA",
         "showlegend": true,
         "type": "scattergl",
         "x": [
          2009,
          2011,
          2012,
          2013,
          2014,
          2015,
          2016,
          2017,
          2018
         ],
         "xaxis": "x",
         "y": [
          4.8825,
          6,
          4.75,
          12,
          13,
          7.5,
          10,
          10,
          8
         ],
         "yaxis": "y"
        },
        {
         "hovertemplate": "CADENA_PRODUCTIVA_ADR=VAINILLA<br>YEAR=%{x}<br>RENDIMIENTO=%{y}<extra></extra>",
         "legendgroup": "VAINILLA",
         "line": {
          "color": "#FF97FF",
          "dash": "solid"
         },
         "mode": "lines",
         "name": "VAINILLA",
         "showlegend": true,
         "type": "scattergl",
         "x": [
          2009,
          2010,
          2011,
          2012,
          2013
         ],
         "xaxis": "x",
         "y": [
          null,
          null,
          null,
          null,
          null
         ],
         "yaxis": "y"
        },
        {
         "hovertemplate": "CADENA_PRODUCTIVA_ADR=CAIMO<br>YEAR=%{x}<br>RENDIMIENTO=%{y}<extra></extra>",
         "legendgroup": "CAIMO",
         "line": {
          "color": "#FECB52",
          "dash": "solid"
         },
         "mode": "lines",
         "name": "CAIMO",
         "showlegend": true,
         "type": "scattergl",
         "x": [
          2010,
          2017,
          2018
         ],
         "xaxis": "x",
         "y": [
          2.2,
          1,
          1
         ],
         "yaxis": "y"
        },
        {
         "hovertemplate": "CADENA_PRODUCTIVA_ADR=NONI<br>YEAR=%{x}<br>RENDIMIENTO=%{y}<extra></extra>",
         "legendgroup": "NONI",
         "line": {
          "color": "#636efa",
          "dash": "solid"
         },
         "mode": "lines",
         "name": "NONI",
         "showlegend": true,
         "type": "scattergl",
         "x": [
          2010,
          2012,
          2013,
          2017,
          2018
         ],
         "xaxis": "x",
         "y": [
          3,
          2,
          2,
          null,
          10
         ],
         "yaxis": "y"
        },
        {
         "hovertemplate": "CADENA_PRODUCTIVA_ADR=ORELLANA<br>YEAR=%{x}<br>RENDIMIENTO=%{y}<extra></extra>",
         "legendgroup": "ORELLANA",
         "line": {
          "color": "#EF553B",
          "dash": "solid"
         },
         "mode": "lines",
         "name": "ORELLANA",
         "showlegend": true,
         "type": "scattergl",
         "x": [
          2010,
          2014,
          2015,
          2016
         ],
         "xaxis": "x",
         "y": [
          null,
          0.6,
          1,
          1
         ],
         "yaxis": "y"
        },
        {
         "hovertemplate": "CADENA_PRODUCTIVA_ADR=CORDELINE CINTA<br>YEAR=%{x}<br>RENDIMIENTO=%{y}<extra></extra>",
         "legendgroup": "CORDELINE CINTA",
         "line": {
          "color": "#00cc96",
          "dash": "solid"
         },
         "mode": "lines",
         "name": "CORDELINE CINTA",
         "showlegend": true,
         "type": "scattergl",
         "x": [
          2011,
          2012
         ],
         "xaxis": "x",
         "y": [
          25,
          25
         ],
         "yaxis": "y"
        },
        {
         "hovertemplate": "CADENA_PRODUCTIVA_ADR=FITOSPORUM<br>YEAR=%{x}<br>RENDIMIENTO=%{y}<extra></extra>",
         "legendgroup": "FITOSPORUM",
         "line": {
          "color": "#ab63fa",
          "dash": "solid"
         },
         "mode": "lines",
         "name": "FITOSPORUM",
         "showlegend": true,
         "type": "scattergl",
         "x": [
          2011,
          2016,
          2017,
          2018
         ],
         "xaxis": "x",
         "y": [
          4,
          1,
          1,
          1
         ],
         "yaxis": "y"
        },
        {
         "hovertemplate": "CADENA_PRODUCTIVA_ADR=ANIS<br>YEAR=%{x}<br>RENDIMIENTO=%{y}<extra></extra>",
         "legendgroup": "ANIS",
         "line": {
          "color": "#FFA15A",
          "dash": "solid"
         },
         "mode": "lines",
         "name": "ANIS",
         "showlegend": true,
         "type": "scattergl",
         "x": [
          2012,
          2013
         ],
         "xaxis": "x",
         "y": [
          2,
          2
         ],
         "yaxis": "y"
        },
        {
         "hovertemplate": "CADENA_PRODUCTIVA_ADR=ARANDANO<br>YEAR=%{x}<br>RENDIMIENTO=%{y}<extra></extra>",
         "legendgroup": "ARANDANO",
         "line": {
          "color": "#19d3f3",
          "dash": "solid"
         },
         "mode": "lines",
         "name": "ARANDANO",
         "showlegend": true,
         "type": "scattergl",
         "x": [
          2012,
          2013,
          2014,
          2015,
          2016,
          2017,
          2018
         ],
         "xaxis": "x",
         "y": [
          2,
          null,
          null,
          5,
          8,
          9.6,
          9.5
         ],
         "yaxis": "y"
        },
        {
         "hovertemplate": "CADENA_PRODUCTIVA_ADR=CALENDULA<br>YEAR=%{x}<br>RENDIMIENTO=%{y}<extra></extra>",
         "legendgroup": "CALENDULA",
         "line": {
          "color": "#FF6692",
          "dash": "solid"
         },
         "mode": "lines",
         "name": "CALENDULA",
         "showlegend": true,
         "type": "scattergl",
         "x": [
          2012
         ],
         "xaxis": "x",
         "y": [
          0.36
         ],
         "yaxis": "y"
        },
        {
         "hovertemplate": "CADENA_PRODUCTIVA_ADR=MAMEY<br>YEAR=%{x}<br>RENDIMIENTO=%{y}<extra></extra>",
         "legendgroup": "MAMEY",
         "line": {
          "color": "#B6E880",
          "dash": "solid"
         },
         "mode": "lines",
         "name": "MAMEY",
         "showlegend": true,
         "type": "scattergl",
         "x": [
          2012,
          2013,
          2014,
          2015,
          2016
         ],
         "xaxis": "x",
         "y": [
          null,
          6,
          6,
          4.5,
          4.5
         ],
         "yaxis": "y"
        },
        {
         "hovertemplate": "CADENA_PRODUCTIVA_ADR=PALMA AMARGA<br>YEAR=%{x}<br>RENDIMIENTO=%{y}<extra></extra>",
         "legendgroup": "PALMA AMARGA",
         "line": {
          "color": "#FF97FF",
          "dash": "solid"
         },
         "mode": "lines",
         "name": "PALMA AMARGA",
         "showlegend": true,
         "type": "scattergl",
         "x": [
          2012,
          2013,
          2014,
          2015,
          2016,
          2017,
          2018
         ],
         "xaxis": "x",
         "y": [
          null,
          14,
          14,
          14,
          14,
          14,
          14
         ],
         "yaxis": "y"
        },
        {
         "hovertemplate": "CADENA_PRODUCTIVA_ADR=YACON<br>YEAR=%{x}<br>RENDIMIENTO=%{y}<extra></extra>",
         "legendgroup": "YACON",
         "line": {
          "color": "#FECB52",
          "dash": "solid"
         },
         "mode": "lines",
         "name": "YACON",
         "showlegend": true,
         "type": "scattergl",
         "x": [
          2012,
          2013,
          2014,
          2015,
          2016
         ],
         "xaxis": "x",
         "y": [
          20,
          18,
          20.966666666666665,
          17.681818181818183,
          20
         ],
         "yaxis": "y"
        },
        {
         "hovertemplate": "CADENA_PRODUCTIVA_ADR=ALGARROBO<br>YEAR=%{x}<br>RENDIMIENTO=%{y}<extra></extra>",
         "legendgroup": "ALGARROBO",
         "line": {
          "color": "#636efa",
          "dash": "solid"
         },
         "mode": "lines",
         "name": "ALGARROBO",
         "showlegend": true,
         "type": "scattergl",
         "x": [
          2013,
          2014,
          2015
         ],
         "xaxis": "x",
         "y": [
          6,
          5.5,
          5.5
         ],
         "yaxis": "y"
        },
        {
         "hovertemplate": "CADENA_PRODUCTIVA_ADR=CHAMPIÑON<br>YEAR=%{x}<br>RENDIMIENTO=%{y}<extra></extra>",
         "legendgroup": "CHAMPIÑON",
         "line": {
          "color": "#EF553B",
          "dash": "solid"
         },
         "mode": "lines",
         "name": "CHAMPIÑON",
         "showlegend": true,
         "type": "scattergl",
         "x": [
          2013,
          2014,
          2015,
          2016,
          2017,
          2018
         ],
         "xaxis": "x",
         "y": [
          60,
          60,
          60,
          21.333333333333332,
          22.666666666666668,
          32
         ],
         "yaxis": "y"
        },
        {
         "hovertemplate": "CADENA_PRODUCTIVA_ADR=MIMBRE<br>YEAR=%{x}<br>RENDIMIENTO=%{y}<extra></extra>",
         "legendgroup": "MIMBRE",
         "line": {
          "color": "#00cc96",
          "dash": "solid"
         },
         "mode": "lines",
         "name": "MIMBRE",
         "showlegend": true,
         "type": "scattergl",
         "x": [
          2013,
          2014,
          2015,
          2016,
          2017,
          2018
         ],
         "xaxis": "x",
         "y": [
          4.9,
          4.95,
          4.7,
          4.9,
          4.9,
          4.9
         ],
         "yaxis": "y"
        },
        {
         "hovertemplate": "CADENA_PRODUCTIVA_ADR=POLEO<br>YEAR=%{x}<br>RENDIMIENTO=%{y}<extra></extra>",
         "legendgroup": "POLEO",
         "line": {
          "color": "#ab63fa",
          "dash": "solid"
         },
         "mode": "lines",
         "name": "POLEO",
         "showlegend": true,
         "type": "scattergl",
         "x": [
          2013,
          2014,
          2015,
          2016,
          2017,
          2018
         ],
         "xaxis": "x",
         "y": [
          1,
          1,
          1,
          1,
          1,
          1.02
         ],
         "yaxis": "y"
        },
        {
         "hovertemplate": "CADENA_PRODUCTIVA_ADR=BORE<br>YEAR=%{x}<br>RENDIMIENTO=%{y}<extra></extra>",
         "legendgroup": "BORE",
         "line": {
          "color": "#FFA15A",
          "dash": "solid"
         },
         "mode": "lines",
         "name": "BORE",
         "showlegend": true,
         "type": "scattergl",
         "x": [
          2014
         ],
         "xaxis": "x",
         "y": [
          1
         ],
         "yaxis": "y"
        },
        {
         "hovertemplate": "CADENA_PRODUCTIVA_ADR=HIERBABUENA<br>YEAR=%{x}<br>RENDIMIENTO=%{y}<extra></extra>",
         "legendgroup": "HIERBABUENA",
         "line": {
          "color": "#19d3f3",
          "dash": "solid"
         },
         "mode": "lines",
         "name": "HIERBABUENA",
         "showlegend": true,
         "type": "scattergl",
         "x": [
          2014,
          2015
         ],
         "xaxis": "x",
         "y": [
          8,
          8
         ],
         "yaxis": "y"
        },
        {
         "hovertemplate": "CADENA_PRODUCTIVA_ADR=LENTEJA<br>YEAR=%{x}<br>RENDIMIENTO=%{y}<extra></extra>",
         "legendgroup": "LENTEJA",
         "line": {
          "color": "#FF6692",
          "dash": "solid"
         },
         "mode": "lines",
         "name": "LENTEJA",
         "showlegend": true,
         "type": "scattergl",
         "x": [
          2014,
          2015
         ],
         "xaxis": "x",
         "y": [
          0.5,
          2
         ],
         "yaxis": "y"
        },
        {
         "hovertemplate": "CADENA_PRODUCTIVA_ADR=RAMBUTAN<br>YEAR=%{x}<br>RENDIMIENTO=%{y}<extra></extra>",
         "legendgroup": "RAMBUTAN",
         "line": {
          "color": "#B6E880",
          "dash": "solid"
         },
         "mode": "lines",
         "name": "RAMBUTAN",
         "showlegend": true,
         "type": "scattergl",
         "x": [
          2014,
          2015,
          2016
         ],
         "xaxis": "x",
         "y": [
          null,
          4,
          2.5
         ],
         "yaxis": "y"
        },
        {
         "hovertemplate": "CADENA_PRODUCTIVA_ADR=AMARANTO<br>YEAR=%{x}<br>RENDIMIENTO=%{y}<extra></extra>",
         "legendgroup": "AMARANTO",
         "line": {
          "color": "#FF97FF",
          "dash": "solid"
         },
         "mode": "lines",
         "name": "AMARANTO",
         "showlegend": true,
         "type": "scattergl",
         "x": [
          2015,
          2016,
          2017,
          2018
         ],
         "xaxis": "x",
         "y": [
          0.95,
          1.4,
          1.1,
          1
         ],
         "yaxis": "y"
        },
        {
         "hovertemplate": "CADENA_PRODUCTIVA_ADR=CHIA<br>YEAR=%{x}<br>RENDIMIENTO=%{y}<extra></extra>",
         "legendgroup": "CHIA",
         "line": {
          "color": "#FECB52",
          "dash": "solid"
         },
         "mode": "lines",
         "name": "CHIA",
         "showlegend": true,
         "type": "scattergl",
         "x": [
          2015,
          2016,
          2017,
          2018
         ],
         "xaxis": "x",
         "y": [
          2.5,
          1.8,
          0.9,
          1
         ],
         "yaxis": "y"
        },
        {
         "hovertemplate": "CADENA_PRODUCTIVA_ADR=MORINGA<br>YEAR=%{x}<br>RENDIMIENTO=%{y}<extra></extra>",
         "legendgroup": "MORINGA",
         "line": {
          "color": "#636efa",
          "dash": "solid"
         },
         "mode": "lines",
         "name": "MORINGA",
         "showlegend": true,
         "type": "scattergl",
         "x": [
          2015
         ],
         "xaxis": "x",
         "y": [
          null
         ],
         "yaxis": "y"
        },
        {
         "hovertemplate": "CADENA_PRODUCTIVA_ADR=COCCULUS<br>YEAR=%{x}<br>RENDIMIENTO=%{y}<extra></extra>",
         "legendgroup": "COCCULUS",
         "line": {
          "color": "#EF553B",
          "dash": "solid"
         },
         "mode": "lines",
         "name": "COCCULUS",
         "showlegend": true,
         "type": "scattergl",
         "x": [
          2017,
          2018
         ],
         "xaxis": "x",
         "y": [
          5,
          5
         ],
         "yaxis": "y"
        },
        {
         "hovertemplate": "CADENA_PRODUCTIVA_ADR=FLOR DE SAFARI<br>YEAR=%{x}<br>RENDIMIENTO=%{y}<extra></extra>",
         "legendgroup": "FLOR DE SAFARI",
         "line": {
          "color": "#00cc96",
          "dash": "solid"
         },
         "mode": "lines",
         "name": "FLOR DE SAFARI",
         "showlegend": true,
         "type": "scattergl",
         "x": [
          2017,
          2018
         ],
         "xaxis": "x",
         "y": [
          1,
          1
         ],
         "yaxis": "y"
        },
        {
         "hovertemplate": "CADENA_PRODUCTIVA_ADR=LIMONIUM<br>YEAR=%{x}<br>RENDIMIENTO=%{y}<extra></extra>",
         "legendgroup": "LIMONIUM",
         "line": {
          "color": "#ab63fa",
          "dash": "solid"
         },
         "mode": "lines",
         "name": "LIMONIUM",
         "showlegend": true,
         "type": "scattergl",
         "x": [
          2017,
          2018
         ],
         "xaxis": "x",
         "y": [
          1,
          1
         ],
         "yaxis": "y"
        },
        {
         "hovertemplate": "CADENA_PRODUCTIVA_ADR=PROTEA<br>YEAR=%{x}<br>RENDIMIENTO=%{y}<extra></extra>",
         "legendgroup": "PROTEA",
         "line": {
          "color": "#FFA15A",
          "dash": "solid"
         },
         "mode": "lines",
         "name": "PROTEA",
         "showlegend": true,
         "type": "scattergl",
         "x": [
          2017,
          2018
         ],
         "xaxis": "x",
         "y": [
          1,
          1
         ],
         "yaxis": "y"
        },
        {
         "hovertemplate": "CADENA_PRODUCTIVA_ADR=STATICE<br>YEAR=%{x}<br>RENDIMIENTO=%{y}<extra></extra>",
         "legendgroup": "STATICE",
         "line": {
          "color": "#19d3f3",
          "dash": "solid"
         },
         "mode": "lines",
         "name": "STATICE",
         "showlegend": true,
         "type": "scattergl",
         "x": [
          2017,
          2018
         ],
         "xaxis": "x",
         "y": [
          1,
          1
         ],
         "yaxis": "y"
        }
       ],
       "layout": {
        "legend": {
         "title": {
          "text": "CADENA_PRODUCTIVA_ADR"
         },
         "tracegroupgap": 0
        },
        "template": {
         "data": {
          "bar": [
           {
            "error_x": {
             "color": "#2a3f5f"
            },
            "error_y": {
             "color": "#2a3f5f"
            },
            "marker": {
             "line": {
              "color": "#E5ECF6",
              "width": 0.5
             }
            },
            "type": "bar"
           }
          ],
          "barpolar": [
           {
            "marker": {
             "line": {
              "color": "#E5ECF6",
              "width": 0.5
             }
            },
            "type": "barpolar"
           }
          ],
          "carpet": [
           {
            "aaxis": {
             "endlinecolor": "#2a3f5f",
             "gridcolor": "white",
             "linecolor": "white",
             "minorgridcolor": "white",
             "startlinecolor": "#2a3f5f"
            },
            "baxis": {
             "endlinecolor": "#2a3f5f",
             "gridcolor": "white",
             "linecolor": "white",
             "minorgridcolor": "white",
             "startlinecolor": "#2a3f5f"
            },
            "type": "carpet"
           }
          ],
          "choropleth": [
           {
            "colorbar": {
             "outlinewidth": 0,
             "ticks": ""
            },
            "type": "choropleth"
           }
          ],
          "contour": [
           {
            "colorbar": {
             "outlinewidth": 0,
             "ticks": ""
            },
            "colorscale": [
             [
              0,
              "#0d0887"
             ],
             [
              0.1111111111111111,
              "#46039f"
             ],
             [
              0.2222222222222222,
              "#7201a8"
             ],
             [
              0.3333333333333333,
              "#9c179e"
             ],
             [
              0.4444444444444444,
              "#bd3786"
             ],
             [
              0.5555555555555556,
              "#d8576b"
             ],
             [
              0.6666666666666666,
              "#ed7953"
             ],
             [
              0.7777777777777778,
              "#fb9f3a"
             ],
             [
              0.8888888888888888,
              "#fdca26"
             ],
             [
              1,
              "#f0f921"
             ]
            ],
            "type": "contour"
           }
          ],
          "contourcarpet": [
           {
            "colorbar": {
             "outlinewidth": 0,
             "ticks": ""
            },
            "type": "contourcarpet"
           }
          ],
          "heatmap": [
           {
            "colorbar": {
             "outlinewidth": 0,
             "ticks": ""
            },
            "colorscale": [
             [
              0,
              "#0d0887"
             ],
             [
              0.1111111111111111,
              "#46039f"
             ],
             [
              0.2222222222222222,
              "#7201a8"
             ],
             [
              0.3333333333333333,
              "#9c179e"
             ],
             [
              0.4444444444444444,
              "#bd3786"
             ],
             [
              0.5555555555555556,
              "#d8576b"
             ],
             [
              0.6666666666666666,
              "#ed7953"
             ],
             [
              0.7777777777777778,
              "#fb9f3a"
             ],
             [
              0.8888888888888888,
              "#fdca26"
             ],
             [
              1,
              "#f0f921"
             ]
            ],
            "type": "heatmap"
           }
          ],
          "heatmapgl": [
           {
            "colorbar": {
             "outlinewidth": 0,
             "ticks": ""
            },
            "colorscale": [
             [
              0,
              "#0d0887"
             ],
             [
              0.1111111111111111,
              "#46039f"
             ],
             [
              0.2222222222222222,
              "#7201a8"
             ],
             [
              0.3333333333333333,
              "#9c179e"
             ],
             [
              0.4444444444444444,
              "#bd3786"
             ],
             [
              0.5555555555555556,
              "#d8576b"
             ],
             [
              0.6666666666666666,
              "#ed7953"
             ],
             [
              0.7777777777777778,
              "#fb9f3a"
             ],
             [
              0.8888888888888888,
              "#fdca26"
             ],
             [
              1,
              "#f0f921"
             ]
            ],
            "type": "heatmapgl"
           }
          ],
          "histogram": [
           {
            "marker": {
             "colorbar": {
              "outlinewidth": 0,
              "ticks": ""
             }
            },
            "type": "histogram"
           }
          ],
          "histogram2d": [
           {
            "colorbar": {
             "outlinewidth": 0,
             "ticks": ""
            },
            "colorscale": [
             [
              0,
              "#0d0887"
             ],
             [
              0.1111111111111111,
              "#46039f"
             ],
             [
              0.2222222222222222,
              "#7201a8"
             ],
             [
              0.3333333333333333,
              "#9c179e"
             ],
             [
              0.4444444444444444,
              "#bd3786"
             ],
             [
              0.5555555555555556,
              "#d8576b"
             ],
             [
              0.6666666666666666,
              "#ed7953"
             ],
             [
              0.7777777777777778,
              "#fb9f3a"
             ],
             [
              0.8888888888888888,
              "#fdca26"
             ],
             [
              1,
              "#f0f921"
             ]
            ],
            "type": "histogram2d"
           }
          ],
          "histogram2dcontour": [
           {
            "colorbar": {
             "outlinewidth": 0,
             "ticks": ""
            },
            "colorscale": [
             [
              0,
              "#0d0887"
             ],
             [
              0.1111111111111111,
              "#46039f"
             ],
             [
              0.2222222222222222,
              "#7201a8"
             ],
             [
              0.3333333333333333,
              "#9c179e"
             ],
             [
              0.4444444444444444,
              "#bd3786"
             ],
             [
              0.5555555555555556,
              "#d8576b"
             ],
             [
              0.6666666666666666,
              "#ed7953"
             ],
             [
              0.7777777777777778,
              "#fb9f3a"
             ],
             [
              0.8888888888888888,
              "#fdca26"
             ],
             [
              1,
              "#f0f921"
             ]
            ],
            "type": "histogram2dcontour"
           }
          ],
          "mesh3d": [
           {
            "colorbar": {
             "outlinewidth": 0,
             "ticks": ""
            },
            "type": "mesh3d"
           }
          ],
          "parcoords": [
           {
            "line": {
             "colorbar": {
              "outlinewidth": 0,
              "ticks": ""
             }
            },
            "type": "parcoords"
           }
          ],
          "pie": [
           {
            "automargin": true,
            "type": "pie"
           }
          ],
          "scatter": [
           {
            "marker": {
             "colorbar": {
              "outlinewidth": 0,
              "ticks": ""
             }
            },
            "type": "scatter"
           }
          ],
          "scatter3d": [
           {
            "line": {
             "colorbar": {
              "outlinewidth": 0,
              "ticks": ""
             }
            },
            "marker": {
             "colorbar": {
              "outlinewidth": 0,
              "ticks": ""
             }
            },
            "type": "scatter3d"
           }
          ],
          "scattercarpet": [
           {
            "marker": {
             "colorbar": {
              "outlinewidth": 0,
              "ticks": ""
             }
            },
            "type": "scattercarpet"
           }
          ],
          "scattergeo": [
           {
            "marker": {
             "colorbar": {
              "outlinewidth": 0,
              "ticks": ""
             }
            },
            "type": "scattergeo"
           }
          ],
          "scattergl": [
           {
            "marker": {
             "colorbar": {
              "outlinewidth": 0,
              "ticks": ""
             }
            },
            "type": "scattergl"
           }
          ],
          "scattermapbox": [
           {
            "marker": {
             "colorbar": {
              "outlinewidth": 0,
              "ticks": ""
             }
            },
            "type": "scattermapbox"
           }
          ],
          "scatterpolar": [
           {
            "marker": {
             "colorbar": {
              "outlinewidth": 0,
              "ticks": ""
             }
            },
            "type": "scatterpolar"
           }
          ],
          "scatterpolargl": [
           {
            "marker": {
             "colorbar": {
              "outlinewidth": 0,
              "ticks": ""
             }
            },
            "type": "scatterpolargl"
           }
          ],
          "scatterternary": [
           {
            "marker": {
             "colorbar": {
              "outlinewidth": 0,
              "ticks": ""
             }
            },
            "type": "scatterternary"
           }
          ],
          "surface": [
           {
            "colorbar": {
             "outlinewidth": 0,
             "ticks": ""
            },
            "colorscale": [
             [
              0,
              "#0d0887"
             ],
             [
              0.1111111111111111,
              "#46039f"
             ],
             [
              0.2222222222222222,
              "#7201a8"
             ],
             [
              0.3333333333333333,
              "#9c179e"
             ],
             [
              0.4444444444444444,
              "#bd3786"
             ],
             [
              0.5555555555555556,
              "#d8576b"
             ],
             [
              0.6666666666666666,
              "#ed7953"
             ],
             [
              0.7777777777777778,
              "#fb9f3a"
             ],
             [
              0.8888888888888888,
              "#fdca26"
             ],
             [
              1,
              "#f0f921"
             ]
            ],
            "type": "surface"
           }
          ],
          "table": [
           {
            "cells": {
             "fill": {
              "color": "#EBF0F8"
             },
             "line": {
              "color": "white"
             }
            },
            "header": {
             "fill": {
              "color": "#C8D4E3"
             },
             "line": {
              "color": "white"
             }
            },
            "type": "table"
           }
          ]
         },
         "layout": {
          "annotationdefaults": {
           "arrowcolor": "#2a3f5f",
           "arrowhead": 0,
           "arrowwidth": 1
          },
          "coloraxis": {
           "colorbar": {
            "outlinewidth": 0,
            "ticks": ""
           }
          },
          "colorscale": {
           "diverging": [
            [
             0,
             "#8e0152"
            ],
            [
             0.1,
             "#c51b7d"
            ],
            [
             0.2,
             "#de77ae"
            ],
            [
             0.3,
             "#f1b6da"
            ],
            [
             0.4,
             "#fde0ef"
            ],
            [
             0.5,
             "#f7f7f7"
            ],
            [
             0.6,
             "#e6f5d0"
            ],
            [
             0.7,
             "#b8e186"
            ],
            [
             0.8,
             "#7fbc41"
            ],
            [
             0.9,
             "#4d9221"
            ],
            [
             1,
             "#276419"
            ]
           ],
           "sequential": [
            [
             0,
             "#0d0887"
            ],
            [
             0.1111111111111111,
             "#46039f"
            ],
            [
             0.2222222222222222,
             "#7201a8"
            ],
            [
             0.3333333333333333,
             "#9c179e"
            ],
            [
             0.4444444444444444,
             "#bd3786"
            ],
            [
             0.5555555555555556,
             "#d8576b"
            ],
            [
             0.6666666666666666,
             "#ed7953"
            ],
            [
             0.7777777777777778,
             "#fb9f3a"
            ],
            [
             0.8888888888888888,
             "#fdca26"
            ],
            [
             1,
             "#f0f921"
            ]
           ],
           "sequentialminus": [
            [
             0,
             "#0d0887"
            ],
            [
             0.1111111111111111,
             "#46039f"
            ],
            [
             0.2222222222222222,
             "#7201a8"
            ],
            [
             0.3333333333333333,
             "#9c179e"
            ],
            [
             0.4444444444444444,
             "#bd3786"
            ],
            [
             0.5555555555555556,
             "#d8576b"
            ],
            [
             0.6666666666666666,
             "#ed7953"
            ],
            [
             0.7777777777777778,
             "#fb9f3a"
            ],
            [
             0.8888888888888888,
             "#fdca26"
            ],
            [
             1,
             "#f0f921"
            ]
           ]
          },
          "colorway": [
           "#636efa",
           "#EF553B",
           "#00cc96",
           "#ab63fa",
           "#FFA15A",
           "#19d3f3",
           "#FF6692",
           "#B6E880",
           "#FF97FF",
           "#FECB52"
          ],
          "font": {
           "color": "#2a3f5f"
          },
          "geo": {
           "bgcolor": "white",
           "lakecolor": "white",
           "landcolor": "#E5ECF6",
           "showlakes": true,
           "showland": true,
           "subunitcolor": "white"
          },
          "hoverlabel": {
           "align": "left"
          },
          "hovermode": "closest",
          "mapbox": {
           "style": "light"
          },
          "paper_bgcolor": "white",
          "plot_bgcolor": "#E5ECF6",
          "polar": {
           "angularaxis": {
            "gridcolor": "white",
            "linecolor": "white",
            "ticks": ""
           },
           "bgcolor": "#E5ECF6",
           "radialaxis": {
            "gridcolor": "white",
            "linecolor": "white",
            "ticks": ""
           }
          },
          "scene": {
           "xaxis": {
            "backgroundcolor": "#E5ECF6",
            "gridcolor": "white",
            "gridwidth": 2,
            "linecolor": "white",
            "showbackground": true,
            "ticks": "",
            "zerolinecolor": "white"
           },
           "yaxis": {
            "backgroundcolor": "#E5ECF6",
            "gridcolor": "white",
            "gridwidth": 2,
            "linecolor": "white",
            "showbackground": true,
            "ticks": "",
            "zerolinecolor": "white"
           },
           "zaxis": {
            "backgroundcolor": "#E5ECF6",
            "gridcolor": "white",
            "gridwidth": 2,
            "linecolor": "white",
            "showbackground": true,
            "ticks": "",
            "zerolinecolor": "white"
           }
          },
          "shapedefaults": {
           "line": {
            "color": "#2a3f5f"
           }
          },
          "ternary": {
           "aaxis": {
            "gridcolor": "white",
            "linecolor": "white",
            "ticks": ""
           },
           "baxis": {
            "gridcolor": "white",
            "linecolor": "white",
            "ticks": ""
           },
           "bgcolor": "#E5ECF6",
           "caxis": {
            "gridcolor": "white",
            "linecolor": "white",
            "ticks": ""
           }
          },
          "title": {
           "x": 0.05
          },
          "xaxis": {
           "automargin": true,
           "gridcolor": "white",
           "linecolor": "white",
           "ticks": "",
           "title": {
            "standoff": 15
           },
           "zerolinecolor": "white",
           "zerolinewidth": 2
          },
          "yaxis": {
           "automargin": true,
           "gridcolor": "white",
           "linecolor": "white",
           "ticks": "",
           "title": {
            "standoff": 15
           },
           "zerolinecolor": "white",
           "zerolinewidth": 2
          }
         }
        },
        "title": {
         "text": "Life expectancy in Canada"
        },
        "xaxis": {
         "anchor": "y",
         "domain": [
          0,
          1
         ],
         "title": {
          "text": "YEAR"
         }
        },
        "yaxis": {
         "anchor": "x",
         "domain": [
          0,
          1
         ],
         "title": {
          "text": "RENDIMIENTO"
         }
        }
       }
      },
      "text/html": [
       "<div>\n",
       "        \n",
       "        \n",
       "            <div id=\"9d58d873-9beb-4469-8b33-9cec1ae95e71\" class=\"plotly-graph-div\" style=\"height:525px; width:100%;\"></div>\n",
       "            <script type=\"text/javascript\">\n",
       "                require([\"plotly\"], function(Plotly) {\n",
       "                    window.PLOTLYENV=window.PLOTLYENV || {};\n",
       "                    \n",
       "                if (document.getElementById(\"9d58d873-9beb-4469-8b33-9cec1ae95e71\")) {\n",
       "                    Plotly.newPlot(\n",
       "                        '9d58d873-9beb-4469-8b33-9cec1ae95e71',\n",
       "                        [{\"hovertemplate\": \"CADENA_PRODUCTIVA_ADR=ACELGA<br>YEAR=%{x}<br>RENDIMIENTO=%{y}<extra></extra>\", \"legendgroup\": \"ACELGA\", \"line\": {\"color\": \"#636efa\", \"dash\": \"solid\"}, \"mode\": \"lines\", \"name\": \"ACELGA\", \"showlegend\": true, \"type\": \"scattergl\", \"x\": [2006, 2007, 2008, 2009, 2010, 2011, 2012, 2013, 2014, 2015, 2016, 2017, 2018], \"xaxis\": \"x\", \"y\": [11.388333333333334, 10.9, 12.23, 9.866923076923076, 7.63625, 13.023333333333333, 12.8, 13.488000000000001, 12.293, 13.859090909090911, 13.463636363636367, 10.882758620689655, 10.645333333333333], \"yaxis\": \"y\"}, {\"hovertemplate\": \"CADENA_PRODUCTIVA_ADR=AHUYAMA<br>YEAR=%{x}<br>RENDIMIENTO=%{y}<extra></extra>\", \"legendgroup\": \"AHUYAMA\", \"line\": {\"color\": \"#EF553B\", \"dash\": \"solid\"}, \"mode\": \"lines\", \"name\": \"AHUYAMA\", \"showlegend\": true, \"type\": \"scattergl\", \"x\": [2006, 2007, 2008, 2009, 2010, 2011, 2012, 2013, 2014, 2015, 2016, 2017, 2018], \"xaxis\": \"x\", \"y\": [14.085934065934067, 13.855872093023256, 13.231885714285712, 12.014408602150539, 12.471698113207546, 12.518936170212768, 12.268907563025211, 13.093888888888888, 12.831417624521075, 12.888215613382899, 11.870760869565217, 11.795265017667846, 12.213266666666668], \"yaxis\": \"y\"}, {\"hovertemplate\": \"CADENA_PRODUCTIVA_ADR=AJI<br>YEAR=%{x}<br>RENDIMIENTO=%{y}<extra></extra>\", \"legendgroup\": \"AJI\", \"line\": {\"color\": \"#00cc96\", \"dash\": \"solid\"}, \"mode\": \"lines\", \"name\": \"AJI\", \"showlegend\": true, \"type\": \"scattergl\", \"x\": [2006, 2007, 2008, 2009, 2010, 2011, 2012, 2013, 2014, 2015, 2016, 2017, 2018], \"xaxis\": \"x\", \"y\": [8.478888888888887, 9.647226890756304, 8.955255474452555, 8.126504065040649, 8.500338983050847, 7.296694214876031, 7.498124999999999, 7.539836065573769, 7.591517857142857, 6.514152542372881, 7.31362962962963, 8.148466666666666, 9.342574257425742], \"yaxis\": \"y\"}, {\"hovertemplate\": \"CADENA_PRODUCTIVA_ADR=AJO<br>YEAR=%{x}<br>RENDIMIENTO=%{y}<extra></extra>\", \"legendgroup\": \"AJO\", \"line\": {\"color\": \"#ab63fa\", \"dash\": \"solid\"}, \"mode\": \"lines\", \"name\": \"AJO\", \"showlegend\": true, \"type\": \"scattergl\", \"x\": [2006, 2007, 2008, 2009, 2010, 2011, 2012, 2013, 2014, 2015, 2016, 2017, 2018], \"xaxis\": \"x\", \"y\": [8.196428571428571, 7.867999999999999, 8.32, 10.554545454545455, 10.275714285714287, 11.312500000000002, 11.673333333333336, 9.769032258064517, 9.873076923076924, 8.892307692307693, 10.661538461538461, 10.742307692307692, 10.883076923076924], \"yaxis\": \"y\"}, {\"hovertemplate\": \"CADENA_PRODUCTIVA_ADR=AJONJOLI<br>YEAR=%{x}<br>RENDIMIENTO=%{y}<extra></extra>\", \"legendgroup\": \"AJONJOLI\", \"line\": {\"color\": \"#FFA15A\", \"dash\": \"solid\"}, \"mode\": \"lines\", \"name\": \"AJONJOLI\", \"showlegend\": true, \"type\": \"scattergl\", \"x\": [2006, 2007, 2008, 2009, 2010, 2011, 2012, 2013, 2014, 2015, 2016, 2017, 2018], \"xaxis\": \"x\", \"y\": [0.7144117647058826, 0.6639473684210528, 0.6891891891891893, 0.6631578947368422, 0.6788461538461538, 0.6792307692307692, 0.6711111111111113, 0.7185185185185186, 0.6697142857142857, 0.736923076923077, 0.7385294117647061, 0.7290625000000001, 0.835], \"yaxis\": \"y\"}, {\"hovertemplate\": \"CADENA_PRODUCTIVA_ADR=ALGODON<br>YEAR=%{x}<br>RENDIMIENTO=%{y}<extra></extra>\", \"legendgroup\": \"ALGODON\", \"line\": {\"color\": \"#19d3f3\", \"dash\": \"solid\"}, \"mode\": \"lines\", \"name\": \"ALGODON\", \"showlegend\": true, \"type\": \"scattergl\", \"x\": [2006, 2007, 2008, 2009, 2010, 2011, 2012, 2013, 2014, 2015, 2016, 2017, 2018], \"xaxis\": \"x\", \"y\": [1.6082278481012653, 2.2523300970873774, 2.298469387755102, 2.1023863636363647, 2.506145833333337, 2.0899115044247787, 1.9238461538461542, 2.3547252747252765, 2.2643333333333335, 2.03, 2.546756756756756, 2.3791428571428574, 2.669444444444445], \"yaxis\": \"y\"}, {\"hovertemplate\": \"CADENA_PRODUCTIVA_ADR=APIO<br>YEAR=%{x}<br>RENDIMIENTO=%{y}<extra></extra>\", \"legendgroup\": \"APIO\", \"line\": {\"color\": \"#FF6692\", \"dash\": \"solid\"}, \"mode\": \"lines\", \"name\": \"APIO\", \"showlegend\": true, \"type\": \"scattergl\", \"x\": [2006, 2007, 2008, 2009, 2010, 2011, 2012, 2013, 2014, 2015, 2016, 2017, 2018], \"xaxis\": \"x\", \"y\": [22.12, 22.045, 20.236666666666665, 17.8, 15.083636363636366, 14.923076923076923, 14.441176470588236, 13.5, 12.072222222222223, 13.592857142857143, 15.36111111111111, 16.01875, 15.913], \"yaxis\": \"y\"}, {\"hovertemplate\": \"CADENA_PRODUCTIVA_ADR=ARROZ<br>YEAR=%{x}<br>RENDIMIENTO=%{y}<extra></extra>\", \"legendgroup\": \"ARROZ\", \"line\": {\"color\": \"#B6E880\", \"dash\": \"solid\"}, \"mode\": \"lines\", \"name\": \"ARROZ\", \"showlegend\": true, \"type\": \"scattergl\", \"x\": [2006, 2007, 2008, 2009, 2010, 2011, 2012, 2013, 2014, 2015, 2016, 2017, 2018], \"xaxis\": \"x\", \"y\": [4.079886363636366, 4.247668918918924, 4.173350000000006, 3.942534246575341, 3.800934426229503, 3.670476190476188, 3.833598673300165, 3.8530537974683523, 3.969126213592235, 3.8882636655948546, 4.060057636887611, 3.8453658536585404, 4.078017492711371], \"yaxis\": \"y\"}, {\"hovertemplate\": \"CADENA_PRODUCTIVA_ADR=ARVEJA<br>YEAR=%{x}<br>RENDIMIENTO=%{y}<extra></extra>\", \"legendgroup\": \"ARVEJA\", \"line\": {\"color\": \"#FF97FF\", \"dash\": \"solid\"}, \"mode\": \"lines\", \"name\": \"ARVEJA\", \"showlegend\": true, \"type\": \"scattergl\", \"x\": [2006, 2007, 2008, 2009, 2010, 2011, 2012, 2013, 2014, 2015, 2016, 2017, 2018], \"xaxis\": \"x\", \"y\": [1.6011666666666675, 1.5909751037344384, 1.600843621399176, 1.5586785009861932, 1.5752443609022555, 1.5503364485981301, 1.6681488549618322, 1.4607317073170722, 1.535977859778598, 1.3882841328413293, 1.4068402154398572, 1.4519759450171825, 1.4328619528619537], \"yaxis\": \"y\"}, {\"hovertemplate\": \"CADENA_PRODUCTIVA_ADR=AVENA<br>YEAR=%{x}<br>RENDIMIENTO=%{y}<extra></extra>\", \"legendgroup\": \"AVENA\", \"line\": {\"color\": \"#FECB52\", \"dash\": \"solid\"}, \"mode\": \"lines\", \"name\": \"AVENA\", \"showlegend\": true, \"type\": \"scattergl\", \"x\": [2006, 2007, 2008, 2009, 2010, 2011, 2012, 2013, 2014, 2015, 2016, 2017, 2018], \"xaxis\": \"x\", \"y\": [1.895, 1.836470588235294, 1.9185714285714288, 1.67, 2.0727272727272728, 1.9333333333333336, 2.07, 1.9307692307692308, 1.625, 1.788888888888889, 2.6684210526315786, 2.3527777777777774, 2.452], \"yaxis\": \"y\"}, {\"hovertemplate\": \"CADENA_PRODUCTIVA_ADR=BATATA<br>YEAR=%{x}<br>RENDIMIENTO=%{y}<extra></extra>\", \"legendgroup\": \"BATATA\", \"line\": {\"color\": \"#636efa\", \"dash\": \"solid\"}, \"mode\": \"lines\", \"name\": \"BATATA\", \"showlegend\": true, \"type\": \"scattergl\", \"x\": [2006, 2007, 2008, 2009, 2010, 2011, 2012, 2013, 2014, 2015, 2016, 2017, 2018], \"xaxis\": \"x\", \"y\": [10.0, 7.213333333333334, 6.036666666666666, 4.508, 3.225, 3.1714285714285717, 3.5076923076923077, 2.9799999999999995, 2.344444444444444, 2.8727272727272726, 8.160666666666666, 9.401875, 10.27], \"yaxis\": \"y\"}, {\"hovertemplate\": \"CADENA_PRODUCTIVA_ADR=BERENJENA<br>YEAR=%{x}<br>RENDIMIENTO=%{y}<extra></extra>\", \"legendgroup\": \"BERENJENA\", \"line\": {\"color\": \"#EF553B\", \"dash\": \"solid\"}, \"mode\": \"lines\", \"name\": \"BERENJENA\", \"showlegend\": true, \"type\": \"scattergl\", \"x\": [2006, 2007, 2008, 2009, 2010, 2011, 2012, 2013, 2014, 2015, 2016, 2017, 2018], \"xaxis\": \"x\", \"y\": [13.7725, 12.819999999999999, 12.128076923076922, 11.265217391304349, 11.457142857142857, 9.844, 12.453333333333335, 12.146428571428572, 12.032, 13.16551724137931, 15.024838709677418, 14.450000000000001, 12.85], \"yaxis\": \"y\"}, {\"hovertemplate\": \"CADENA_PRODUCTIVA_ADR=BROCOLI<br>YEAR=%{x}<br>RENDIMIENTO=%{y}<extra></extra>\", \"legendgroup\": \"BROCOLI\", \"line\": {\"color\": \"#00cc96\", \"dash\": \"solid\"}, \"mode\": \"lines\", \"name\": \"BROCOLI\", \"showlegend\": true, \"type\": \"scattergl\", \"x\": [2006, 2007, 2008, 2009, 2010, 2011, 2012, 2013, 2014, 2015, 2016, 2017, 2018], \"xaxis\": \"x\", \"y\": [16.541666666666668, 16.03851851851852, 16.093125, 16.759999999999998, 15.522631578947369, 15.297560975609757, 16.6974358974359, 18.062857142857144, 17.260606060606065, 16.981250000000003, 16.43888888888889, 18.221951219512196, 17.854761904761904], \"yaxis\": \"y\"}, {\"hovertemplate\": \"CADENA_PRODUCTIVA_ADR=CALABACIN<br>YEAR=%{x}<br>RENDIMIENTO=%{y}<extra></extra>\", \"legendgroup\": \"CALABACIN\", \"line\": {\"color\": \"#ab63fa\", \"dash\": \"solid\"}, \"mode\": \"lines\", \"name\": \"CALABACIN\", \"showlegend\": true, \"type\": \"scattergl\", \"x\": [2006, 2007, 2008, 2009, 2010, 2011, 2012, 2013, 2014, 2015, 2016, 2017, 2018], \"xaxis\": \"x\", \"y\": [3.2, 6.6, 10.0, 11.0, 10.5, 48.5, 18.285714285714285, 40.2, 4.9, 9.88888888888889, 16.678571428571427, 16.74705882352941, 16.0875], \"yaxis\": \"y\"}, {\"hovertemplate\": \"CADENA_PRODUCTIVA_ADR=CALABAZA<br>YEAR=%{x}<br>RENDIMIENTO=%{y}<extra></extra>\", \"legendgroup\": \"CALABAZA\", \"line\": {\"color\": \"#FFA15A\", \"dash\": \"solid\"}, \"mode\": \"lines\", \"name\": \"CALABAZA\", \"showlegend\": true, \"type\": \"scattergl\", \"x\": [2006, 2007, 2008, 2010, 2011, 2012, 2013, 2014, 2015, 2016, 2017, 2018], \"xaxis\": \"x\", \"y\": [8.25, 10.5, 7.0, 14.4, 8.4, 19.8, 16.5, 16.25, 26.5, 20.75, 14.833333333333334, 17.81], \"yaxis\": \"y\"}, {\"hovertemplate\": \"CADENA_PRODUCTIVA_ADR=CEBADA<br>YEAR=%{x}<br>RENDIMIENTO=%{y}<extra></extra>\", \"legendgroup\": \"CEBADA\", \"line\": {\"color\": \"#19d3f3\", \"dash\": \"solid\"}, \"mode\": \"lines\", \"name\": \"CEBADA\", \"showlegend\": true, \"type\": \"scattergl\", \"x\": [2006, 2007, 2008, 2009, 2010, 2011, 2012, 2013, 2014, 2015, 2016, 2017, 2018], \"xaxis\": \"x\", \"y\": [1.5741666666666667, 1.5768852459016391, 1.5049230769230766, 1.5567857142857144, 1.555686274509804, 1.4968000000000004, 1.3580851063829789, 1.4991228070175437, 1.3113953488372092, 1.51, 1.8072916666666667, 1.791860465116279, 1.8207692307692311], \"yaxis\": \"y\"}, {\"hovertemplate\": \"CADENA_PRODUCTIVA_ADR=CEBOLLA DE BULBO<br>YEAR=%{x}<br>RENDIMIENTO=%{y}<extra></extra>\", \"legendgroup\": \"CEBOLLA DE BULBO\", \"line\": {\"color\": \"#FF6692\", \"dash\": \"solid\"}, \"mode\": \"lines\", \"name\": \"CEBOLLA DE BULBO\", \"showlegend\": true, \"type\": \"scattergl\", \"x\": [2006, 2007, 2008, 2009, 2010, 2011, 2012, 2013, 2014, 2015, 2016, 2017, 2018], \"xaxis\": \"x\", \"y\": [16.74811111111111, 17.144873417721517, 17.376206896551725, 17.63398773006135, 16.75262569832402, 16.069839572192514, 17.463174603174604, 17.710883720930234, 18.505488372093023, 17.631173708920187, 18.358365384615386, 17.971, 18.422589285714285], \"yaxis\": \"y\"}, {\"hovertemplate\": \"CADENA_PRODUCTIVA_ADR=CEBOLLA DE RAMA<br>YEAR=%{x}<br>RENDIMIENTO=%{y}<extra></extra>\", \"legendgroup\": \"CEBOLLA DE RAMA\", \"line\": {\"color\": \"#B6E880\", \"dash\": \"solid\"}, \"mode\": \"lines\", \"name\": \"CEBOLLA DE RAMA\", \"showlegend\": true, \"type\": \"scattergl\", \"x\": [2006, 2007, 2008, 2009, 2010, 2011, 2012, 2013, 2014, 2015, 2016, 2017, 2018], \"xaxis\": \"x\", \"y\": [11.681333333333333, 12.988859649122807, 12.064375000000002, 12.753249999999998, 12.105736434108529, 12.628000000000002, 13.133666666666668, 13.393151515151512, 14.140063694267518, 14.978, 16.19188235294118, 14.76513157894737, 14.247238095238096], \"yaxis\": \"y\"}, {\"hovertemplate\": \"CADENA_PRODUCTIVA_ADR=CILANTRO<br>YEAR=%{x}<br>RENDIMIENTO=%{y}<extra></extra>\", \"legendgroup\": \"CILANTRO\", \"line\": {\"color\": \"#FF97FF\", \"dash\": \"solid\"}, \"mode\": \"lines\", \"name\": \"CILANTRO\", \"showlegend\": true, \"type\": \"scattergl\", \"x\": [2006, 2007, 2008, 2009, 2010, 2011, 2012, 2013, 2014, 2015, 2016, 2017, 2018], \"xaxis\": \"x\", \"y\": [6.624599999999999, 6.572972972972973, 6.199685039370077, 7.054117647058824, 5.7379999999999995, 5.808425196850396, 5.705185185185185, 5.958036809815951, 5.868666666666667, 5.588860759493671, 5.731882352941176, 6.4005882352941175, 6.291685393258428], \"yaxis\": \"y\"}, {\"hovertemplate\": \"CADENA_PRODUCTIVA_ADR=CIMARRON<br>YEAR=%{x}<br>RENDIMIENTO=%{y}<extra></extra>\", \"legendgroup\": \"CIMARRON\", \"line\": {\"color\": \"#FECB52\", \"dash\": \"solid\"}, \"mode\": \"lines\", \"name\": \"CIMARRON\", \"showlegend\": true, \"type\": \"scattergl\", \"x\": [2006, 2007, 2008, 2009, 2010, 2011, 2012, 2013, 2014, 2015, 2016, 2017, 2018], \"xaxis\": \"x\", \"y\": [6.784000000000001, 7.144444444444444, 6.166666666666666, 6.8199999999999985, 7.277777777777778, 7.959166666666666, 5.607692307692308, 4.660869565217391, 4.652, 4.931578947368421, 3.41, 0.9625, 0.98875], \"yaxis\": \"y\"}, {\"hovertemplate\": \"CADENA_PRODUCTIVA_ADR=COL<br>YEAR=%{x}<br>RENDIMIENTO=%{y}<extra></extra>\", \"legendgroup\": \"COL\", \"line\": {\"color\": \"#636efa\", \"dash\": \"solid\"}, \"mode\": \"lines\", \"name\": \"COL\", \"showlegend\": true, \"type\": \"scattergl\", \"x\": [2006, 2007, 2008, 2009, 2010, 2011, 2012, 2013, 2014, 2015, 2016, 2017, 2018], \"xaxis\": \"x\", \"y\": [8.542857142857143, 8.675555555555555, 8.299444444444443, 6.836363636363637, 6.65, 3.5029999999999992, 4.2, 7.9941176470588236, 4.19, 3.28, 5.042857142857144, 4.757142857142858, 4.82], \"yaxis\": \"y\"}, {\"hovertemplate\": \"CADENA_PRODUCTIVA_ADR=COLIFLOR<br>YEAR=%{x}<br>RENDIMIENTO=%{y}<extra></extra>\", \"legendgroup\": \"COLIFLOR\", \"line\": {\"color\": \"#EF553B\", \"dash\": \"solid\"}, \"mode\": \"lines\", \"name\": \"COLIFLOR\", \"showlegend\": true, \"type\": \"scattergl\", \"x\": [2006, 2007, 2008, 2009, 2010, 2011, 2012, 2013, 2014, 2015, 2016, 2017, 2018], \"xaxis\": \"x\", \"y\": [22.111666666666668, 21.056000000000004, 19.142, 21.041851851851852, 20.637499999999996, 20.64107142857143, 21.620689655172413, 21.29032258064516, 21.118181818181817, 20.7, 20.1, 20.978125, 20.958125], \"yaxis\": \"y\"}, {\"hovertemplate\": \"CADENA_PRODUCTIVA_ADR=ESPARRAGO<br>YEAR=%{x}<br>RENDIMIENTO=%{y}<extra></extra>\", \"legendgroup\": \"ESPARRAGO\", \"line\": {\"color\": \"#00cc96\", \"dash\": \"solid\"}, \"mode\": \"lines\", \"name\": \"ESPARRAGO\", \"showlegend\": true, \"type\": \"scattergl\", \"x\": [2006, 2007, 2008, 2009, 2010, 2011, 2013, 2014, 2015, 2016, 2017, 2018], \"xaxis\": \"x\", \"y\": [7.8, 5.491666666666667, 6.098, 5.18, 1.9833333333333334, 2.3, 3.0, 3.0, 2.7, 4.0, 4.0, 4.0], \"yaxis\": \"y\"}, {\"hovertemplate\": \"CADENA_PRODUCTIVA_ADR=ESPINACA<br>YEAR=%{x}<br>RENDIMIENTO=%{y}<extra></extra>\", \"legendgroup\": \"ESPINACA\", \"line\": {\"color\": \"#ab63fa\", \"dash\": \"solid\"}, \"mode\": \"lines\", \"name\": \"ESPINACA\", \"showlegend\": true, \"type\": \"scattergl\", \"x\": [2006, 2007, 2008, 2009, 2010, 2011, 2012, 2013, 2014, 2015, 2016, 2017, 2018], \"xaxis\": \"x\", \"y\": [15.214285714285714, 13.51625, 13.4535, 13.857999999999999, 15.232222222222223, 14.90625, 15.321428571428571, 17.036363636363635, 12.76923076923077, 14.399999999999999, 13.244444444444444, 13.079999999999998, 13.523000000000001], \"yaxis\": \"y\"}, {\"hovertemplate\": \"CADENA_PRODUCTIVA_ADR=FRIJOL<br>YEAR=%{x}<br>RENDIMIENTO=%{y}<extra></extra>\", \"legendgroup\": \"FRIJOL\", \"line\": {\"color\": \"#FFA15A\", \"dash\": \"solid\"}, \"mode\": \"lines\", \"name\": \"FRIJOL\", \"showlegend\": true, \"type\": \"scattergl\", \"x\": [2006, 2007, 2008, 2009, 2010, 2011, 2012, 2013, 2014, 2015, 2016, 2017, 2018], \"xaxis\": \"x\", \"y\": [1.0938128249566714, 1.090706190061028, 1.091135371179037, 1.0840470193115017, 1.0909121338912144, 1.0762668918918932, 1.084749134948095, 1.0858664546899848, 1.0844983818770204, 1.0781074578989565, 1.1594563552833073, 1.1535056179775285, 1.153706395348837], \"yaxis\": \"y\"}, {\"hovertemplate\": \"CADENA_PRODUCTIVA_ADR=GARBANZO<br>YEAR=%{x}<br>RENDIMIENTO=%{y}<extra></extra>\", \"legendgroup\": \"GARBANZO\", \"line\": {\"color\": \"#19d3f3\", \"dash\": \"solid\"}, \"mode\": \"lines\", \"name\": \"GARBANZO\", \"showlegend\": true, \"type\": \"scattergl\", \"x\": [2006, 2007, 2008, 2009, 2011, 2012, 2013, 2014, 2015, 2016, 2017, 2018], \"xaxis\": \"x\", \"y\": [1.0, 1.0, 1.0, 1.0, 1.32, 0.8900000000000001, 1.516, 1.6199999999999999, 1.6666666666666667, 1.92, 1.45, 1.2], \"yaxis\": \"y\"}, {\"hovertemplate\": \"CADENA_PRODUCTIVA_ADR=HABA<br>YEAR=%{x}<br>RENDIMIENTO=%{y}<extra></extra>\", \"legendgroup\": \"HABA\", \"line\": {\"color\": \"#FF6692\", \"dash\": \"solid\"}, \"mode\": \"lines\", \"name\": \"HABA\", \"showlegend\": true, \"type\": \"scattergl\", \"x\": [2006, 2007, 2008, 2009, 2010, 2011, 2012, 2013, 2014, 2015, 2016, 2017, 2018], \"xaxis\": \"x\", \"y\": [2.1923999999999997, 2.2710416666666666, 2.454727272727273, 2.1993617021276592, 2.1602083333333333, 4.303859649122807, 4.686610169491526, 4.9161016949152545, 4.23326923076923, 3.9544642857142853, 4.267719298245614, 3.89060606060606, 3.2276190476190476], \"yaxis\": \"y\"}, {\"hovertemplate\": \"CADENA_PRODUCTIVA_ADR=HABICHUELA<br>YEAR=%{x}<br>RENDIMIENTO=%{y}<extra></extra>\", \"legendgroup\": \"HABICHUELA\", \"line\": {\"color\": \"#B6E880\", \"dash\": \"solid\"}, \"mode\": \"lines\", \"name\": \"HABICHUELA\", \"showlegend\": true, \"type\": \"scattergl\", \"x\": [2006, 2007, 2008, 2009, 2010, 2011, 2012, 2013, 2014, 2015, 2016, 2017, 2018], \"xaxis\": \"x\", \"y\": [8.187096774193549, 8.141456692913385, 7.983253968253969, 7.996655290102391, 7.968415841584159, 7.494625850340138, 7.339273356401384, 7.602884615384612, 7.382429022082019, 7.633009708737863, 7.340966666666667, 7.6076205787781355, 7.557631578947368], \"yaxis\": \"y\"}, {\"hovertemplate\": \"CADENA_PRODUCTIVA_ADR=HORTALIZAS VARIAS<br>YEAR=%{x}<br>RENDIMIENTO=%{y}<extra></extra>\", \"legendgroup\": \"HORTALIZAS VARIAS\", \"line\": {\"color\": \"#FF97FF\", \"dash\": \"solid\"}, \"mode\": \"lines\", \"name\": \"HORTALIZAS VARIAS\", \"showlegend\": true, \"type\": \"scattergl\", \"x\": [2006, 2007, 2008, 2009, 2010, 2011, 2012, 2013, 2014, 2015, 2016, 2017, 2018], \"xaxis\": \"x\", \"y\": [6.005384615384615, 6.546132075471698, 6.826990291262136, 6.684347826086956, 5.434, 6.070127388535033, 5.938132530120481, 5.665000000000001, 5.610631578947368, 6.440606060606062, 5.9088834951456315, 7.3076923076923075, 7.563518518518519], \"yaxis\": \"y\"}, {\"hovertemplate\": \"CADENA_PRODUCTIVA_ADR=LECHUGA<br>YEAR=%{x}<br>RENDIMIENTO=%{y}<extra></extra>\", \"legendgroup\": \"LECHUGA\", \"line\": {\"color\": \"#FECB52\", \"dash\": \"solid\"}, \"mode\": \"lines\", \"name\": \"LECHUGA\", \"showlegend\": true, \"type\": \"scattergl\", \"x\": [2006, 2007, 2008, 2009, 2010, 2011, 2012, 2013, 2014, 2015, 2016, 2017, 2018], \"xaxis\": \"x\", \"y\": [14.587241379310344, 15.300322580645162, 16.045217391304348, 17.73294871794872, 15.849651162790702, 16.31036585365854, 16.345263157894735, 16.527450980392157, 17.089555555555556, 16.315384615384616, 16.937938144329898, 18.658252427184465, 17.635], \"yaxis\": \"y\"}, {\"hovertemplate\": \"CADENA_PRODUCTIVA_ADR=MAIZ<br>YEAR=%{x}<br>RENDIMIENTO=%{y}<extra></extra>\", \"legendgroup\": \"MAIZ\", \"line\": {\"color\": \"#636efa\", \"dash\": \"solid\"}, \"mode\": \"lines\", \"name\": \"MAIZ\", \"showlegend\": true, \"type\": \"scattergl\", \"x\": [2006, 2007, 2008, 2009, 2010, 2011, 2012, 2013, 2014, 2015, 2016, 2017, 2018], \"xaxis\": \"x\", \"y\": [1.9221079429735286, 1.9330758157389614, 1.9592115384615347, 1.906629754453535, 1.8747700587084122, 1.8683855185909943, 1.9591584158415785, 1.9938578199052124, 1.9907841191067035, 2.039484486873509, 2.003349101229896, 2.0103358561967832, 2.015571177504394], \"yaxis\": \"y\"}, {\"hovertemplate\": \"CADENA_PRODUCTIVA_ADR=MANI<br>YEAR=%{x}<br>RENDIMIENTO=%{y}<extra></extra>\", \"legendgroup\": \"MANI\", \"line\": {\"color\": \"#EF553B\", \"dash\": \"solid\"}, \"mode\": \"lines\", \"name\": \"MANI\", \"showlegend\": true, \"type\": \"scattergl\", \"x\": [2006, 2007, 2008, 2009, 2010, 2011, 2012, 2013, 2014, 2015, 2016, 2017, 2018], \"xaxis\": \"x\", \"y\": [1.205625, 1.1879411764705883, 1.0619999999999998, 1.1815000000000002, 1.2476086956521741, 1.1431250000000002, 1.1525714285714284, 1.0629032258064517, 1.216923076923077, 1.2542857142857144, 1.3372413793103448, 1.5808333333333335, 1.581111111111111], \"yaxis\": \"y\"}, {\"hovertemplate\": \"CADENA_PRODUCTIVA_ADR=MANZANILLA<br>YEAR=%{x}<br>RENDIMIENTO=%{y}<extra></extra>\", \"legendgroup\": \"MANZANILLA\", \"line\": {\"color\": \"#00cc96\", \"dash\": \"solid\"}, \"mode\": \"lines\", \"name\": \"MANZANILLA\", \"showlegend\": true, \"type\": \"scattergl\", \"x\": [2006, 2007, 2008, 2016, 2017, 2018], \"xaxis\": \"x\", \"y\": [1.52, 1.51, 1.25, 13.0, 24.53, 25.01], \"yaxis\": \"y\"}, {\"hovertemplate\": \"CADENA_PRODUCTIVA_ADR=MELON<br>YEAR=%{x}<br>RENDIMIENTO=%{y}<extra></extra>\", \"legendgroup\": \"MELON\", \"line\": {\"color\": \"#ab63fa\", \"dash\": \"solid\"}, \"mode\": \"lines\", \"name\": \"MELON\", \"showlegend\": true, \"type\": \"scattergl\", \"x\": [2006, 2007, 2008, 2009, 2010, 2011, 2012, 2013, 2014, 2015, 2016, 2017, 2018], \"xaxis\": \"x\", \"y\": [12.89690476190476, 14.045443037974682, 14.126521739130435, 13.848623853211008, 15.627575757575757, 15.779019607843136, 14.137881355932203, 14.84412213740458, 14.9584693877551, 16.952285714285715, 16.38987654320988, 15.182710843373494, 15.822705882352937], \"yaxis\": \"y\"}, {\"hovertemplate\": \"CADENA_PRODUCTIVA_ADR=PAPA<br>YEAR=%{x}<br>RENDIMIENTO=%{y}<extra></extra>\", \"legendgroup\": \"PAPA\", \"line\": {\"color\": \"#FFA15A\", \"dash\": \"solid\"}, \"mode\": \"lines\", \"name\": \"PAPA\", \"showlegend\": true, \"type\": \"scattergl\", \"x\": [2006, 2007, 2008, 2009, 2010, 2011, 2012, 2013, 2014, 2015, 2016, 2017, 2018], \"xaxis\": \"x\", \"y\": [15.575708955223877, 15.30930357142857, 15.036159292035393, 15.232645590682205, 15.027765089722681, 14.965160744500842, 15.263117744610284, 14.961074249605051, 15.415503144654089, 14.980616541353385, 15.647090103397339, 16.25457142857143, 16.24241095890411], \"yaxis\": \"y\"}, {\"hovertemplate\": \"CADENA_PRODUCTIVA_ADR=PATILLA<br>YEAR=%{x}<br>RENDIMIENTO=%{y}<extra></extra>\", \"legendgroup\": \"PATILLA\", \"line\": {\"color\": \"#19d3f3\", \"dash\": \"solid\"}, \"mode\": \"lines\", \"name\": \"PATILLA\", \"showlegend\": true, \"type\": \"scattergl\", \"x\": [2006, 2007, 2008, 2009, 2010, 2011, 2012, 2013, 2014, 2015, 2016, 2017, 2018], \"xaxis\": \"x\", \"y\": [12.405432098765433, 12.364971428571428, 12.651959798994973, 12.068691099476439, 13.32469273743017, 13.768433734939759, 13.426540540540538, 13.817061855670103, 14.796577181208054, 15.13557142857143, 14.408807339449538, 13.7159009009009, 14.154491525423722], \"yaxis\": \"y\"}, {\"hovertemplate\": \"CADENA_PRODUCTIVA_ADR=PEPINO COHOMBRO<br>YEAR=%{x}<br>RENDIMIENTO=%{y}<extra></extra>\", \"legendgroup\": \"PEPINO COHOMBRO\", \"line\": {\"color\": \"#FF6692\", \"dash\": \"solid\"}, \"mode\": \"lines\", \"name\": \"PEPINO COHOMBRO\", \"showlegend\": true, \"type\": \"scattergl\", \"x\": [2006, 2007, 2008, 2009, 2010, 2011, 2012, 2013, 2014, 2015, 2016, 2017, 2018], \"xaxis\": \"x\", \"y\": [19.40575, 17.98468085106383, 16.341470588235296, 15.326846846846845, 16.47973214285714, 15.547570093457946, 16.12142857142857, 15.64921875, 15.573586206896548, 16.531971830985917, 16.78724832214765, 17.964285714285715, 17.572625], \"yaxis\": \"y\"}, {\"hovertemplate\": \"CADENA_PRODUCTIVA_ADR=PEPINO GUISO<br>YEAR=%{x}<br>RENDIMIENTO=%{y}<extra></extra>\", \"legendgroup\": \"PEPINO GUISO\", \"line\": {\"color\": \"#B6E880\", \"dash\": \"solid\"}, \"mode\": \"lines\", \"name\": \"PEPINO GUISO\", \"showlegend\": true, \"type\": \"scattergl\", \"x\": [2006, 2007, 2008, 2009, 2010, 2011, 2012, 2013, 2014, 2015, 2016, 2017, 2018], \"xaxis\": \"x\", \"y\": [12.004999999999999, 12.758947368421053, 13.470555555555555, 12.9175, 12.11769230769231, 11.228, 8.036842105263156, 9.117647058823529, 10.205882352941176, 12.221739130434784, 10.675384615384614, 9.842333333333334, 9.139999999999999], \"yaxis\": \"y\"}, {\"hovertemplate\": \"CADENA_PRODUCTIVA_ADR=PEREJIL<br>YEAR=%{x}<br>RENDIMIENTO=%{y}<extra></extra>\", \"legendgroup\": \"PEREJIL\", \"line\": {\"color\": \"#FF97FF\", \"dash\": \"solid\"}, \"mode\": \"lines\", \"name\": \"PEREJIL\", \"showlegend\": true, \"type\": \"scattergl\", \"x\": [2006, 2007, 2008, 2009, 2010, 2011, 2012, 2013, 2014, 2015, 2016, 2017, 2018], \"xaxis\": \"x\", \"y\": [4.5, 5.666666666666667, 6.571428571428571, 7.025, 10.25, 8.625, 6.540000000000001, 4.3875, 6.066666666666666, 8.666666666666666, 8.55, 6.75, 5.8], \"yaxis\": \"y\"}, {\"hovertemplate\": \"CADENA_PRODUCTIVA_ADR=PIMENTON<br>YEAR=%{x}<br>RENDIMIENTO=%{y}<extra></extra>\", \"legendgroup\": \"PIMENTON\", \"line\": {\"color\": \"#FECB52\", \"dash\": \"solid\"}, \"mode\": \"lines\", \"name\": \"PIMENTON\", \"showlegend\": true, \"type\": \"scattergl\", \"x\": [2006, 2007, 2008, 2009, 2010, 2011, 2012, 2013, 2014, 2015, 2016, 2017, 2018], \"xaxis\": \"x\", \"y\": [14.577887323943665, 15.13294964028777, 14.843541666666669, 16.038639455782313, 14.86487012987013, 13.90125, 13.356521739130432, 13.821249999999997, 12.554166666666669, 12.832530120481927, 13.170164835164835, 13.918578680203044, 13.450306122448977], \"yaxis\": \"y\"}, {\"hovertemplate\": \"CADENA_PRODUCTIVA_ADR=PUERRO<br>YEAR=%{x}<br>RENDIMIENTO=%{y}<extra></extra>\", \"legendgroup\": \"PUERRO\", \"line\": {\"color\": \"#636efa\", \"dash\": \"solid\"}, \"mode\": \"lines\", \"name\": \"PUERRO\", \"showlegend\": true, \"type\": \"scattergl\", \"x\": [2006, 2007, 2012, 2013, 2014, 2015, 2017, 2018], \"xaxis\": \"x\", \"y\": [30.0, 30.0, 20.0, 20.0, 15.0, 11.0, 12.5, 20.0], \"yaxis\": \"y\"}, {\"hovertemplate\": \"CADENA_PRODUCTIVA_ADR=QUINUA<br>YEAR=%{x}<br>RENDIMIENTO=%{y}<extra></extra>\", \"legendgroup\": \"QUINUA\", \"line\": {\"color\": \"#EF553B\", \"dash\": \"solid\"}, \"mode\": \"lines\", \"name\": \"QUINUA\", \"showlegend\": true, \"type\": \"scattergl\", \"x\": [2006, 2007, 2008, 2009, 2010, 2011, 2012, 2013, 2014, 2015, 2016, 2017, 2018], \"xaxis\": \"x\", \"y\": [0.615, 1.2854545454545454, 1.06375, 0.9055555555555556, 1.17, 1.4088888888888886, 1.738888888888889, 1.9300000000000002, 2.0792, 1.8296875, 1.8805555555555555, 1.9366666666666668, 1.908333333333333], \"yaxis\": \"y\"}, {\"hovertemplate\": \"CADENA_PRODUCTIVA_ADR=RABANO<br>YEAR=%{x}<br>RENDIMIENTO=%{y}<extra></extra>\", \"legendgroup\": \"RABANO\", \"line\": {\"color\": \"#00cc96\", \"dash\": \"solid\"}, \"mode\": \"lines\", \"name\": \"RABANO\", \"showlegend\": true, \"type\": \"scattergl\", \"x\": [2006, 2007, 2008, 2009, 2010, 2011, 2012, 2013, 2014, 2015, 2016, 2017, 2018], \"xaxis\": \"x\", \"y\": [15.0, 9.6, 8.6, 4.5, 6.616666666666667, 12.620000000000001, 13.833333333333334, 17.5, 30.0, 27.5, 21.0, 22.0, 22.0], \"yaxis\": \"y\"}, {\"hovertemplate\": \"CADENA_PRODUCTIVA_ADR=REMOLACHA<br>YEAR=%{x}<br>RENDIMIENTO=%{y}<extra></extra>\", \"legendgroup\": \"REMOLACHA\", \"line\": {\"color\": \"#ab63fa\", \"dash\": \"solid\"}, \"mode\": \"lines\", \"name\": \"REMOLACHA\", \"showlegend\": true, \"type\": \"scattergl\", \"x\": [2006, 2007, 2008, 2009, 2010, 2011, 2012, 2013, 2014, 2015, 2016, 2017, 2018], \"xaxis\": \"x\", \"y\": [17.38888888888889, 17.06970588235294, 17.820000000000004, 19.097586206896548, 17.746363636363636, 17.307692307692307, 19.25925925925926, 15.833333333333334, 16.103448275862068, 17.36, 19.647419354838707, 22.863636363636363, 23.373529411764707], \"yaxis\": \"y\"}, {\"hovertemplate\": \"CADENA_PRODUCTIVA_ADR=REPOLLO<br>YEAR=%{x}<br>RENDIMIENTO=%{y}<extra></extra>\", \"legendgroup\": \"REPOLLO\", \"line\": {\"color\": \"#FFA15A\", \"dash\": \"solid\"}, \"mode\": \"lines\", \"name\": \"REPOLLO\", \"showlegend\": true, \"type\": \"scattergl\", \"x\": [2006, 2007, 2008, 2009, 2010, 2011, 2012, 2013, 2014, 2015, 2016, 2017, 2018], \"xaxis\": \"x\", \"y\": [23.039473684210527, 23.573164556962023, 23.067252747252752, 24.638333333333335, 23.412500000000005, 20.430526315789475, 24.207473684210527, 22.618316831683167, 18.715656565656563, 21.93894736842105, 22.382972972972976, 21.694936708860762, 22.062105263157896], \"yaxis\": \"y\"}, {\"hovertemplate\": \"CADENA_PRODUCTIVA_ADR=SORGO<br>YEAR=%{x}<br>RENDIMIENTO=%{y}<extra></extra>\", \"legendgroup\": \"SORGO\", \"line\": {\"color\": \"#19d3f3\", \"dash\": \"solid\"}, \"mode\": \"lines\", \"name\": \"SORGO\", \"showlegend\": true, \"type\": \"scattergl\", \"x\": [2006, 2007, 2008, 2009, 2010, 2011, 2012, 2013, 2014, 2015, 2016, 2017, 2018], \"xaxis\": \"x\", \"y\": [3.04754716981132, 3.396891891891892, 3.2979432624113465, 3.126229508196722, 3.1743518518518523, 2.810649350649351, 3.1944155844155846, 3.3248648648648658, 2.8661971830985915, 2.993333333333333, 3.0214925373134336, 2.9410909090909096, 3.2932000000000006], \"yaxis\": \"y\"}, {\"hovertemplate\": \"CADENA_PRODUCTIVA_ADR=SOYA<br>YEAR=%{x}<br>RENDIMIENTO=%{y}<extra></extra>\", \"legendgroup\": \"SOYA\", \"line\": {\"color\": \"#FF6692\", \"dash\": \"solid\"}, \"mode\": \"lines\", \"name\": \"SOYA\", \"showlegend\": true, \"type\": \"scattergl\", \"x\": [2006, 2007, 2008, 2009, 2010, 2011, 2012, 2013, 2014, 2015, 2016, 2017, 2018], \"xaxis\": \"x\", \"y\": [2.1393939393939396, 2.340526315789474, 2.3414545454545457, 2.193265306122448, 2.326363636363636, 2.0937500000000004, 2.428888888888889, 2.6479166666666667, 2.5046875, 2.371428571428572, 2.5633333333333335, 2.7192307692307693, 2.829166666666667], \"yaxis\": \"y\"}, {\"hovertemplate\": \"CADENA_PRODUCTIVA_ADR=TABACO RUBIO<br>YEAR=%{x}<br>RENDIMIENTO=%{y}<extra></extra>\", \"legendgroup\": \"TABACO RUBIO\", \"line\": {\"color\": \"#B6E880\", \"dash\": \"solid\"}, \"mode\": \"lines\", \"name\": \"TABACO RUBIO\", \"showlegend\": true, \"type\": \"scattergl\", \"x\": [2006, 2007, 2008, 2009, 2010, 2011, 2012, 2013, 2014, 2015, 2016, 2017, 2018], \"xaxis\": \"x\", \"y\": [2.1114705882352935, 2.006282051282051, 1.9008333333333323, 1.8945054945054947, 1.8719000000000006, 1.8249532710280385, 1.8302040816326537, 1.8906521739130435, 1.9665217391304344, 1.8653846153846154, 1.900178571428572, 2.0162500000000003, 2.036764705882353], \"yaxis\": \"y\"}, {\"hovertemplate\": \"CADENA_PRODUCTIVA_ADR=TOMATE<br>YEAR=%{x}<br>RENDIMIENTO=%{y}<extra></extra>\", \"legendgroup\": \"TOMATE\", \"line\": {\"color\": \"#FF97FF\", \"dash\": \"solid\"}, \"mode\": \"lines\", \"name\": \"TOMATE\", \"showlegend\": true, \"type\": \"scattergl\", \"x\": [2006, 2007, 2008, 2009, 2010, 2011, 2012, 2013, 2014, 2015, 2016, 2017, 2018], \"xaxis\": \"x\", \"y\": [31.635747126436787, 34.41451063829787, 36.2819508867667, 39.56334645669291, 39.59556291390729, 38.146054333764546, 38.97367888748419, 38.11492379835873, 36.81727716727717, 36.80735849056604, 41.29759776536313, 41.314292084726866, 41.219956709956705], \"yaxis\": \"y\"}, {\"hovertemplate\": \"CADENA_PRODUCTIVA_ADR=TRIGO<br>YEAR=%{x}<br>RENDIMIENTO=%{y}<extra></extra>\", \"legendgroup\": \"TRIGO\", \"line\": {\"color\": \"#FECB52\", \"dash\": \"solid\"}, \"mode\": \"lines\", \"name\": \"TRIGO\", \"showlegend\": true, \"type\": \"scattergl\", \"x\": [2006, 2007, 2008, 2009, 2010, 2011, 2012, 2013, 2014, 2015, 2016, 2017, 2018], \"xaxis\": \"x\", \"y\": [1.514266666666667, 1.5916993464052285, 1.5556204379562044, 1.4596747967479669, 1.425901639344262, 1.4393693693693692, 1.3868749999999992, 1.3630107526881718, 1.2479452054794524, 1.3277777777777784, 1.9043373493975908, 1.4518518518518517, 1.5740816326530613], \"yaxis\": \"y\"}, {\"hovertemplate\": \"CADENA_PRODUCTIVA_ADR=ULLUCO<br>YEAR=%{x}<br>RENDIMIENTO=%{y}<extra></extra>\", \"legendgroup\": \"ULLUCO\", \"line\": {\"color\": \"#636efa\", \"dash\": \"solid\"}, \"mode\": \"lines\", \"name\": \"ULLUCO\", \"showlegend\": true, \"type\": \"scattergl\", \"x\": [2006, 2007, 2008, 2009, 2010, 2011, 2012, 2013, 2014, 2015, 2016, 2017, 2018], \"xaxis\": \"x\", \"y\": [7.166666666666667, 6.627, 6.364444444444445, 5.608666666666666, 4.8999999999999995, 4.48125, 6.442857142857143, 6.760416666666667, 9.34375, 7.668421052631579, 8.43125, 6.409999999999999, 7.822727272727272], \"yaxis\": \"y\"}, {\"hovertemplate\": \"CADENA_PRODUCTIVA_ADR=ZANAHORIA<br>YEAR=%{x}<br>RENDIMIENTO=%{y}<extra></extra>\", \"legendgroup\": \"ZANAHORIA\", \"line\": {\"color\": \"#EF553B\", \"dash\": \"solid\"}, \"mode\": \"lines\", \"name\": \"ZANAHORIA\", \"showlegend\": true, \"type\": \"scattergl\", \"x\": [2006, 2007, 2008, 2009, 2010, 2011, 2012, 2013, 2014, 2015, 2016, 2017, 2018], \"xaxis\": \"x\", \"y\": [19.78762711864407, 22.001074380165285, 23.03625954198473, 21.94395348837209, 22.518958333333334, 21.623846153846152, 23.06230769230769, 22.53544827586207, 21.95140845070423, 22.68819444444445, 21.92080745341615, 22.26518987341772, 22.265124999999998], \"yaxis\": \"y\"}, {\"hovertemplate\": \"CADENA_PRODUCTIVA_ADR=ACHICORIA<br>YEAR=%{x}<br>RENDIMIENTO=%{y}<extra></extra>\", \"legendgroup\": \"ACHICORIA\", \"line\": {\"color\": \"#00cc96\", \"dash\": \"solid\"}, \"mode\": \"lines\", \"name\": \"ACHICORIA\", \"showlegend\": true, \"type\": \"scattergl\", \"x\": [2007, 2008], \"xaxis\": \"x\", \"y\": [1.0, 1.0], \"yaxis\": \"y\"}, {\"hovertemplate\": \"CADENA_PRODUCTIVA_ADR=ACHIOTE<br>YEAR=%{x}<br>RENDIMIENTO=%{y}<extra></extra>\", \"legendgroup\": \"ACHIOTE\", \"line\": {\"color\": \"#ab63fa\", \"dash\": \"solid\"}, \"mode\": \"lines\", \"name\": \"ACHIOTE\", \"showlegend\": true, \"type\": \"scattergl\", \"x\": [2007, 2008, 2009, 2010, 2011, 2012, 2013, 2014, 2015, 2016, 2017, 2018], \"xaxis\": \"x\", \"y\": [3.09, 1.0, 0.8416666666666667, 0.9357142857142857, 0.8433333333333333, 1.3733333333333333, 1.42, 1.2725, 1.0875, 2.6666666666666665, 1.3485714285714285, 1.3499999999999999], \"yaxis\": \"y\"}, {\"hovertemplate\": \"CADENA_PRODUCTIVA_ADR=ACHIRA<br>YEAR=%{x}<br>RENDIMIENTO=%{y}<extra></extra>\", \"legendgroup\": \"ACHIRA\", \"line\": {\"color\": \"#FFA15A\", \"dash\": \"solid\"}, \"mode\": \"lines\", \"name\": \"ACHIRA\", \"showlegend\": true, \"type\": \"scattergl\", \"x\": [2007, 2008, 2009, 2010, 2011, 2012, 2013, 2014, 2015, 2016, 2017, 2018], \"xaxis\": \"x\", \"y\": [1.996666666666667, 1.8120833333333337, 1.9673076923076924, 1.8721428571428576, 2.074814814814815, 1.8524999999999998, 2.0964285714285715, 2.0961538461538463, 2.278571428571429, 2.7607407407407405, 2.369642857142857, 2.373571428571428], \"yaxis\": \"y\"}, {\"hovertemplate\": \"CADENA_PRODUCTIVA_ADR=AGUACATE<br>YEAR=%{x}<br>RENDIMIENTO=%{y}<extra></extra>\", \"legendgroup\": \"AGUACATE\", \"line\": {\"color\": \"#19d3f3\", \"dash\": \"solid\"}, \"mode\": \"lines\", \"name\": \"AGUACATE\", \"showlegend\": true, \"type\": \"scattergl\", \"x\": [2007, 2008, 2009, 2010, 2011, 2012, 2013, 2014, 2015, 2016, 2017, 2018], \"xaxis\": \"x\", \"y\": [8.854974874371862, 8.666577777777778, 8.865061728395062, 8.819014598540145, 8.267361563517916, 8.55754491017964, 8.668324324324324, 8.245707070707072, 8.193803827751196, 7.991165919282512, 7.886609808102345, 8.39654811715481], \"yaxis\": \"y\"}, {\"hovertemplate\": \"CADENA_PRODUCTIVA_ADR=ALFALFA<br>YEAR=%{x}<br>RENDIMIENTO=%{y}<extra></extra>\", \"legendgroup\": \"ALFALFA\", \"line\": {\"color\": \"#FF6692\", \"dash\": \"solid\"}, \"mode\": \"lines\", \"name\": \"ALFALFA\", \"showlegend\": true, \"type\": \"scattergl\", \"x\": [2007, 2008, 2009, 2010, 2011, 2012, 2013, 2014, 2015, 2016, 2017, 2018], \"xaxis\": \"x\", \"y\": [4.0, 3.3333333333333335, 3.3333333333333335, 3.525, 3.3666666666666667, 2.8666666666666667, 2.8666666666666667, 3.0, 2.875, 2.6666666666666665, 2.625, 2.625], \"yaxis\": \"y\"}, {\"hovertemplate\": \"CADENA_PRODUCTIVA_ADR=ANON<br>YEAR=%{x}<br>RENDIMIENTO=%{y}<extra></extra>\", \"legendgroup\": \"ANON\", \"line\": {\"color\": \"#B6E880\", \"dash\": \"solid\"}, \"mode\": \"lines\", \"name\": \"ANON\", \"showlegend\": true, \"type\": \"scattergl\", \"x\": [2007, 2008, 2009, 2010, 2011, 2012, 2014, 2015, 2016, 2017, 2018], \"xaxis\": \"x\", \"y\": [7.5, 4.0, 4.0, 4.0, 5.0, 3.5, 4.0, 4.0, 1.9166666666666667, 1.375, 2.375], \"yaxis\": \"y\"}, {\"hovertemplate\": \"CADENA_PRODUCTIVA_ADR=ANTURIO<br>YEAR=%{x}<br>RENDIMIENTO=%{y}<extra></extra>\", \"legendgroup\": \"ANTURIO\", \"line\": {\"color\": \"#FF97FF\", \"dash\": \"solid\"}, \"mode\": \"lines\", \"name\": \"ANTURIO\", \"showlegend\": true, \"type\": \"scattergl\", \"x\": [2007, 2008, 2009, 2010, 2011, 2012, 2013, 2014, 2015, 2016, 2017, 2018], \"xaxis\": \"x\", \"y\": [7.2, 9.6, 7.268000000000001, 4.952857142857143, 4.813749999999999, 9.62857142857143, 7.114285714285714, 8.175, 4.5, 5.35, 5.843333333333334, 5.843333333333334], \"yaxis\": \"y\"}, {\"hovertemplate\": \"CADENA_PRODUCTIVA_ADR=ARAZA<br>YEAR=%{x}<br>RENDIMIENTO=%{y}<extra></extra>\", \"legendgroup\": \"ARAZA\", \"line\": {\"color\": \"#FECB52\", \"dash\": \"solid\"}, \"mode\": \"lines\", \"name\": \"ARAZA\", \"showlegend\": true, \"type\": \"scattergl\", \"x\": [2007, 2008, 2009, 2010, 2011, 2012, 2013, 2014, 2015, 2016, 2017, 2018], \"xaxis\": \"x\", \"y\": [9.211666666666668, 3.768518518518518, 4.303703703703705, 3.1519999999999997, 3.0835714285714286, 2.6666666666666665, 3.0888888888888886, 3.53, 3.6619047619047613, 4.844444444444444, 5.959999999999999, 5.97], \"yaxis\": \"y\"}, {\"hovertemplate\": \"CADENA_PRODUCTIVA_ADR=ARRACACHA<br>YEAR=%{x}<br>RENDIMIENTO=%{y}<extra></extra>\", \"legendgroup\": \"ARRACACHA\", \"line\": {\"color\": \"#636efa\", \"dash\": \"solid\"}, \"mode\": \"lines\", \"name\": \"ARRACACHA\", \"showlegend\": true, \"type\": \"scattergl\", \"x\": [2007, 2008, 2009, 2010, 2011, 2012, 2013, 2014, 2015, 2016, 2017, 2018], \"xaxis\": \"x\", \"y\": [9.921100917431191, 9.313770491803279, 8.926690140845071, 8.531733333333335, 8.623012820512823, 8.556012658227848, 8.851385542168675, 8.170426829268292, 8.288734939759037, 8.755240963855421, 8.526174863387977, 8.807049180327867], \"yaxis\": \"y\"}, {\"hovertemplate\": \"CADENA_PRODUCTIVA_ADR=ASPARRAGUS<br>YEAR=%{x}<br>RENDIMIENTO=%{y}<extra></extra>\", \"legendgroup\": \"ASPARRAGUS\", \"line\": {\"color\": \"#EF553B\", \"dash\": \"solid\"}, \"mode\": \"lines\", \"name\": \"ASPARRAGUS\", \"showlegend\": true, \"type\": \"scattergl\", \"x\": [2007, 2008, 2009, 2010, 2011, 2012, 2013], \"xaxis\": \"x\", \"y\": [1.25, 1.2, 1.2, 1.0, 1.85, 2.5, 4.0], \"yaxis\": \"y\"}, {\"hovertemplate\": \"CADENA_PRODUCTIVA_ADR=ASTROMELIA<br>YEAR=%{x}<br>RENDIMIENTO=%{y}<extra></extra>\", \"legendgroup\": \"ASTROMELIA\", \"line\": {\"color\": \"#00cc96\", \"dash\": \"solid\"}, \"mode\": \"lines\", \"name\": \"ASTROMELIA\", \"showlegend\": true, \"type\": \"scattergl\", \"x\": [2007, 2008, 2009, 2011, 2012, 2013, 2014, 2015, 2016, 2017, 2018], \"xaxis\": \"x\", \"y\": [25.0, 9.333333333333334, 9.0, 4.75, 4.75, 5.55, 5.55, 5.55, 4.75, 5.0, 5.07], \"yaxis\": \"y\"}, {\"hovertemplate\": \"CADENA_PRODUCTIVA_ADR=BADEA<br>YEAR=%{x}<br>RENDIMIENTO=%{y}<extra></extra>\", \"legendgroup\": \"BADEA\", \"line\": {\"color\": \"#ab63fa\", \"dash\": \"solid\"}, \"mode\": \"lines\", \"name\": \"BADEA\", \"showlegend\": true, \"type\": \"scattergl\", \"x\": [2007, 2008, 2009, 2010, 2011, 2012, 2013, 2014, 2015, 2016, 2017, 2018], \"xaxis\": \"x\", \"y\": [14.827272727272726, 16.363636363636363, 15.772727272727273, 15.136363636363637, 14.423076923076923, 14.21875, 14.38888888888889, 15.029411764705882, 14.447058823529412, 13.977777777777778, 12.595, 12.89], \"yaxis\": \"y\"}, {\"hovertemplate\": \"CADENA_PRODUCTIVA_ADR=BANANITO<br>YEAR=%{x}<br>RENDIMIENTO=%{y}<extra></extra>\", \"legendgroup\": \"BANANITO\", \"line\": {\"color\": \"#FFA15A\", \"dash\": \"solid\"}, \"mode\": \"lines\", \"name\": \"BANANITO\", \"showlegend\": true, \"type\": \"scattergl\", \"x\": [2007, 2008, 2009, 2010, 2011, 2012, 2013, 2014, 2015, 2016, 2017, 2018], \"xaxis\": \"x\", \"y\": [7.206875000000001, 7.493333333333334, 7.356486486486488, 7.436923076923076, 7.570270270270271, 8.693870967741935, 8.85891891891892, 8.297222222222222, 8.050999999999998, 6.87578947368421, 6.698285714285714, 6.782571428571428], \"yaxis\": \"y\"}, {\"hovertemplate\": \"CADENA_PRODUCTIVA_ADR=BANANO<br>YEAR=%{x}<br>RENDIMIENTO=%{y}<extra></extra>\", \"legendgroup\": \"BANANO\", \"line\": {\"color\": \"#19d3f3\", \"dash\": \"solid\"}, \"mode\": \"lines\", \"name\": \"BANANO\", \"showlegend\": true, \"type\": \"scattergl\", \"x\": [2007, 2008, 2009, 2010, 2011, 2012, 2013, 2014, 2015, 2016, 2017, 2018], \"xaxis\": \"x\", \"y\": [11.700872093023252, 11.69114093959732, 12.649577464788731, 11.907718120805368, 11.446100628930822, 11.13745762711864, 11.448524590163935, 11.169944444444447, 11.033461538461538, 11.122030456852796, 11.988029556650234, 12.054901960784308], \"yaxis\": \"y\"}, {\"hovertemplate\": \"CADENA_PRODUCTIVA_ADR=BOROJO<br>YEAR=%{x}<br>RENDIMIENTO=%{y}<extra></extra>\", \"legendgroup\": \"BOROJO\", \"line\": {\"color\": \"#FF6692\", \"dash\": \"solid\"}, \"mode\": \"lines\", \"name\": \"BOROJO\", \"showlegend\": true, \"type\": \"scattergl\", \"x\": [2007, 2008, 2009, 2010, 2011, 2012, 2013, 2014, 2015, 2016, 2017, 2018], \"xaxis\": \"x\", \"y\": [3.4205405405405402, 3.2057500000000005, 3.0619444444444444, 3.145806451612904, 3.4157142857142855, 3.6471875000000002, 3.2594594594594595, 4.194594594594595, 4.024324324324325, 4.102857142857142, 4.018181818181818, 4.226470588235294], \"yaxis\": \"y\"}, {\"hovertemplate\": \"CADENA_PRODUCTIVA_ADR=BREVO<br>YEAR=%{x}<br>RENDIMIENTO=%{y}<extra></extra>\", \"legendgroup\": \"BREVO\", \"line\": {\"color\": \"#B6E880\", \"dash\": \"solid\"}, \"mode\": \"lines\", \"name\": \"BREVO\", \"showlegend\": true, \"type\": \"scattergl\", \"x\": [2007, 2008, 2009, 2010, 2011, 2012, 2013, 2014, 2015, 2016, 2017, 2018], \"xaxis\": \"x\", \"y\": [6.561764705882352, 6.564666666666667, 5.485882352941176, 5.494117647058823, 5.403529411764705, 5.647333333333333, 5.461111111111111, 5.41578947368421, 5.068421052631579, 5.7299999999999995, 6.205, 6.74], \"yaxis\": \"y\"}, {\"hovertemplate\": \"CADENA_PRODUCTIVA_ADR=CACAO<br>YEAR=%{x}<br>RENDIMIENTO=%{y}<extra></extra>\", \"legendgroup\": \"CACAO\", \"line\": {\"color\": \"#FF97FF\", \"dash\": \"solid\"}, \"mode\": \"lines\", \"name\": \"CACAO\", \"showlegend\": true, \"type\": \"scattergl\", \"x\": [2007, 2008, 2009, 2010, 2011, 2012, 2013, 2014, 2015, 2016, 2017, 2018], \"xaxis\": \"x\", \"y\": [0.5127851458885944, 0.5229323308270678, 0.5257808857808862, 0.5636971046770597, 0.5852531645569615, 0.615144628099173, 0.5644726562500001, 0.5713188976377955, 0.5579174852652261, 0.5574427480916037, 0.562278719397364, 0.5804112149532722], \"yaxis\": \"y\"}, {\"hovertemplate\": \"CADENA_PRODUCTIVA_ADR=CADUCIFOLIOS<br>YEAR=%{x}<br>RENDIMIENTO=%{y}<extra></extra>\", \"legendgroup\": \"CADUCIFOLIOS\", \"line\": {\"color\": \"#FECB52\", \"dash\": \"solid\"}, \"mode\": \"lines\", \"name\": \"CADUCIFOLIOS\", \"showlegend\": true, \"type\": \"scattergl\", \"x\": [2007, 2008, 2009, 2010, 2011, 2012, 2013, 2014, 2015, 2016, 2017, 2018], \"xaxis\": \"x\", \"y\": [7.405555555555556, 6.77, 5.9625, 10.0, 8.666666666666666, 10.967, 7.60125, 7.616666666666667, 7.014285714285714, 9.006666666666666, 4.0, 4.0], \"yaxis\": \"y\"}, {\"hovertemplate\": \"CADENA_PRODUCTIVA_ADR=CAFE<br>YEAR=%{x}<br>RENDIMIENTO=%{y}<extra></extra>\", \"legendgroup\": \"CAFE\", \"line\": {\"color\": \"#636efa\", \"dash\": \"solid\"}, \"mode\": \"lines\", \"name\": \"CAFE\", \"showlegend\": true, \"type\": \"scattergl\", \"x\": [2007, 2008, 2009, 2010, 2011, 2012, 2013, 2014, 2015, 2016, 2017, 2018], \"xaxis\": \"x\", \"y\": [0.9074957698815558, 1.0099331103678928, 0.8048852459016391, 0.8946601941747568, 0.8067680000000007, 0.807766666666667, 0.7588422818791937, 0.8208067226890744, 1.020957983193277, 1.0551672240802668, 1.095766666666667, 1.1145166666666695], \"yaxis\": \"y\"}, {\"hovertemplate\": \"CADENA_PRODUCTIVA_ADR=CARDAMOMO<br>YEAR=%{x}<br>RENDIMIENTO=%{y}<extra></extra>\", \"legendgroup\": \"CARDAMOMO\", \"line\": {\"color\": \"#EF553B\", \"dash\": \"solid\"}, \"mode\": \"lines\", \"name\": \"CARDAMOMO\", \"showlegend\": true, \"type\": \"scattergl\", \"x\": [2007, 2008, 2009, 2010, 2011, 2012, 2013, 2014, 2015, 2016, 2017, 2018], \"xaxis\": \"x\", \"y\": [4.383333333333334, 4.286666666666666, 4.0, 5.0, 5.0, 5.475, 4.1499999999999995, 3.5285714285714285, 2.316666666666667, 1.075, 1.05, 8.940000000000001], \"yaxis\": \"y\"}, {\"hovertemplate\": \"CADENA_PRODUCTIVA_ADR=CAUCHO<br>YEAR=%{x}<br>RENDIMIENTO=%{y}<extra></extra>\", \"legendgroup\": \"CAUCHO\", \"line\": {\"color\": \"#00cc96\", \"dash\": \"solid\"}, \"mode\": \"lines\", \"name\": \"CAUCHO\", \"showlegend\": true, \"type\": \"scattergl\", \"x\": [2007, 2008, 2009, 2010, 2011, 2012, 2013, 2014, 2015, 2016, 2017, 2018], \"xaxis\": \"x\", \"y\": [1.3131249999999997, 1.1217307692307685, 1.2125423728813551, 1.2043103448275856, 1.1443939393939389, 1.2951666666666666, 1.1551282051282048, 1.1702247191011237, 1.1789130434782609, 1.111684210526316, 1.2751041666666671, 1.2832653061224493], \"yaxis\": \"y\"}, {\"hovertemplate\": \"CADENA_PRODUCTIVA_ADR=CA\\u00d1A AZUCARERA<br>YEAR=%{x}<br>RENDIMIENTO=%{y}<extra></extra>\", \"legendgroup\": \"CA\\u00d1A AZUCARERA\", \"line\": {\"color\": \"#ab63fa\", \"dash\": \"solid\"}, \"mode\": \"lines\", \"name\": \"CA\\u00d1A AZUCARERA\", \"showlegend\": true, \"type\": \"scattergl\", \"x\": [2007, 2008, 2009, 2010, 2011, 2012, 2013, 2014, 2015, 2016, 2017, 2018], \"xaxis\": \"x\", \"y\": [108.8455102040816, 115.8422448979592, 111.9132075471698, 117.35583333333328, 118.69886792452832, 94.42603773584902, 106.14407407407408, 114.64945454545455, 114.89377358490565, 121.4196078431372, 138.17819999999998, 147.28588235294112], \"yaxis\": \"y\"}, {\"hovertemplate\": \"CADENA_PRODUCTIVA_ADR=CA\\u00d1A MIEL<br>YEAR=%{x}<br>RENDIMIENTO=%{y}<extra></extra>\", \"legendgroup\": \"CA\\u00d1A MIEL\", \"line\": {\"color\": \"#FFA15A\", \"dash\": \"solid\"}, \"mode\": \"lines\", \"name\": \"CA\\u00d1A MIEL\", \"showlegend\": true, \"type\": \"scattergl\", \"x\": [2007, 2008, 2009, 2010, 2011, 2012, 2013, 2014, 2015, 2016, 2017, 2018], \"xaxis\": \"x\", \"y\": [3.5482278481012637, 3.710933333333332, 3.7019480519480505, 3.575151515151515, 3.2591304347826084, 3.531481481481482, 3.863559322033898, 3.6063934426229505, 3.596666666666666, 5.1457999999999995, 4.959464285714285, 5.312499999999999], \"yaxis\": \"y\"}, {\"hovertemplate\": \"CADENA_PRODUCTIVA_ADR=CA\\u00d1A PANELERA<br>YEAR=%{x}<br>RENDIMIENTO=%{y}<extra></extra>\", \"legendgroup\": \"CA\\u00d1A PANELERA\", \"line\": {\"color\": \"#19d3f3\", \"dash\": \"solid\"}, \"mode\": \"lines\", \"name\": \"CA\\u00d1A PANELERA\", \"showlegend\": true, \"type\": \"scattergl\", \"x\": [2007, 2008, 2009, 2010, 2011, 2012, 2013, 2014, 2015, 2016, 2017, 2018], \"xaxis\": \"x\", \"y\": [5.547114337568061, 5.443967391304348, 5.487692307692306, 5.512299465240642, 5.548284671532849, 5.620659340659343, 5.618181818181817, 5.425714285714286, 5.4176258992805755, 5.43333931777379, 5.593345454545455, 5.844420289855071], \"yaxis\": \"y\"}, {\"hovertemplate\": \"CADENA_PRODUCTIVA_ADR=CHACHAFRUTO<br>YEAR=%{x}<br>RENDIMIENTO=%{y}<extra></extra>\", \"legendgroup\": \"CHACHAFRUTO\", \"line\": {\"color\": \"#FF6692\", \"dash\": \"solid\"}, \"mode\": \"lines\", \"name\": \"CHACHAFRUTO\", \"showlegend\": true, \"type\": \"scattergl\", \"x\": [2007, 2010, 2011, 2013, 2016, 2017, 2018], \"xaxis\": \"x\", \"y\": [5.0, 10.0, 10.0, 5.0, 4.3, 4.0, 4.0], \"yaxis\": \"y\"}, {\"hovertemplate\": \"CADENA_PRODUCTIVA_ADR=CHAMBA<br>YEAR=%{x}<br>RENDIMIENTO=%{y}<extra></extra>\", \"legendgroup\": \"CHAMBA\", \"line\": {\"color\": \"#B6E880\", \"dash\": \"solid\"}, \"mode\": \"lines\", \"name\": \"CHAMBA\", \"showlegend\": true, \"type\": \"scattergl\", \"x\": [2007, 2008, 2009, 2010, 2011, 2012, 2013, 2014, 2015, 2016, 2017, 2018], \"xaxis\": \"x\", \"y\": [28.2, 26.5, 30.0, 32.5, 32.5, 21.833333333333332, 40.0, 40.0, 40.0, 40.0, 4.0, 4.0], \"yaxis\": \"y\"}, {\"hovertemplate\": \"CADENA_PRODUCTIVA_ADR=CHIRIMOYA<br>YEAR=%{x}<br>RENDIMIENTO=%{y}<extra></extra>\", \"legendgroup\": \"CHIRIMOYA\", \"line\": {\"color\": \"#FF97FF\", \"dash\": \"solid\"}, \"mode\": \"lines\", \"name\": \"CHIRIMOYA\", \"showlegend\": true, \"type\": \"scattergl\", \"x\": [2007, 2008, 2009, 2010, 2011, 2012, 2013, 2014, 2015, 2016, 2017, 2018], \"xaxis\": \"x\", \"y\": [4.0233333333333325, 4.14625, 4.5600000000000005, 4.909090909090909, 4.978, 4.1875, 3.2875, 3.9444444444444446, 4.536363636363636, 5.0, 5.277777777777778, 6.111111111111111], \"yaxis\": \"y\"}, {\"hovertemplate\": \"CADENA_PRODUCTIVA_ADR=CHOLUPA<br>YEAR=%{x}<br>RENDIMIENTO=%{y}<extra></extra>\", \"legendgroup\": \"CHOLUPA\", \"line\": {\"color\": \"#FECB52\", \"dash\": \"solid\"}, \"mode\": \"lines\", \"name\": \"CHOLUPA\", \"showlegend\": true, \"type\": \"scattergl\", \"x\": [2007, 2008, 2009, 2010, 2011, 2012, 2013, 2014, 2015, 2016, 2017, 2018], \"xaxis\": \"x\", \"y\": [10.65625, 8.995294117647058, 9.070588235294117, 9.941176470588236, 10.277777777777779, 8.678571428571429, 8.285714285714286, 8.4, 7.9, 7.213333333333334, 7.680000000000001, 7.48], \"yaxis\": \"y\"}, {\"hovertemplate\": \"CADENA_PRODUCTIVA_ADR=CHONQUE<br>YEAR=%{x}<br>RENDIMIENTO=%{y}<extra></extra>\", \"legendgroup\": \"CHONQUE\", \"line\": {\"color\": \"#636efa\", \"dash\": \"solid\"}, \"mode\": \"lines\", \"name\": \"CHONQUE\", \"showlegend\": true, \"type\": \"scattergl\", \"x\": [2007, 2012, 2013, 2014, 2015, 2016], \"xaxis\": \"x\", \"y\": [11.0, 3.0, 3.0, 3.0, 3.0, 15.0], \"yaxis\": \"y\"}, {\"hovertemplate\": \"CADENA_PRODUCTIVA_ADR=CHONTADURO<br>YEAR=%{x}<br>RENDIMIENTO=%{y}<extra></extra>\", \"legendgroup\": \"CHONTADURO\", \"line\": {\"color\": \"#EF553B\", \"dash\": \"solid\"}, \"mode\": \"lines\", \"name\": \"CHONTADURO\", \"showlegend\": true, \"type\": \"scattergl\", \"x\": [2007, 2008, 2009, 2010, 2011, 2012, 2013, 2014, 2015, 2016, 2017, 2018], \"xaxis\": \"x\", \"y\": [5.392542372881358, 6.182881355932203, 5.376206896551724, 4.943272727272727, 3.7151063829787225, 3.9094871794871793, 4.761351351351352, 4.2664583333333335, 4.222222222222223, 4.379111111111111, 4.6, 4.772], \"yaxis\": \"y\"}, {\"hovertemplate\": \"CADENA_PRODUCTIVA_ADR=CIRUELA<br>YEAR=%{x}<br>RENDIMIENTO=%{y}<extra></extra>\", \"legendgroup\": \"CIRUELA\", \"line\": {\"color\": \"#00cc96\", \"dash\": \"solid\"}, \"mode\": \"lines\", \"name\": \"CIRUELA\", \"showlegend\": true, \"type\": \"scattergl\", \"x\": [2007, 2008, 2009, 2010, 2011, 2012, 2013, 2014, 2015, 2016, 2017, 2018], \"xaxis\": \"x\", \"y\": [8.170555555555556, 8.057941176470589, 7.845666666666668, 7.9766666666666675, 7.925806451612903, 8.502258064516129, 7.780555555555556, 8.17142857142857, 8.678387096774193, 9.964285714285714, 10.588484848484848, 10.453529411764706], \"yaxis\": \"y\"}, {\"hovertemplate\": \"CADENA_PRODUCTIVA_ADR=CLAVEL<br>YEAR=%{x}<br>RENDIMIENTO=%{y}<extra></extra>\", \"legendgroup\": \"CLAVEL\", \"line\": {\"color\": \"#ab63fa\", \"dash\": \"solid\"}, \"mode\": \"lines\", \"name\": \"CLAVEL\", \"showlegend\": true, \"type\": \"scattergl\", \"x\": [2007, 2008, 2009, 2010, 2011, 2012, 2013, 2014, 2015, 2016, 2017, 2018], \"xaxis\": \"x\", \"y\": [10.0, 7.666666666666667, 6.5, 6.625, 2.0, 9.666666666666666, 15.333333333333334, 12.307500000000001, 9.76, 9.76, 12.76, 12.76], \"yaxis\": \"y\"}, {\"hovertemplate\": \"CADENA_PRODUCTIVA_ADR=COCO<br>YEAR=%{x}<br>RENDIMIENTO=%{y}<extra></extra>\", \"legendgroup\": \"COCO\", \"line\": {\"color\": \"#FFA15A\", \"dash\": \"solid\"}, \"mode\": \"lines\", \"name\": \"COCO\", \"showlegend\": true, \"type\": \"scattergl\", \"x\": [2007, 2008, 2009, 2010, 2011, 2012, 2013, 2014, 2015, 2016, 2017, 2018], \"xaxis\": \"x\", \"y\": [7.403333333333333, 7.939056603773585, 8.294897959183674, 7.695200000000001, 7.347454545454546, 6.701228070175438, 7.2734375, 7.342380952380952, 7.130781249999999, 7.45032786885246, 6.933333333333333, 7.204545454545453], \"yaxis\": \"y\"}, {\"hovertemplate\": \"CADENA_PRODUCTIVA_ADR=CURCUMA<br>YEAR=%{x}<br>RENDIMIENTO=%{y}<extra></extra>\", \"legendgroup\": \"CURCUMA\", \"line\": {\"color\": \"#19d3f3\", \"dash\": \"solid\"}, \"mode\": \"lines\", \"name\": \"CURCUMA\", \"showlegend\": true, \"type\": \"scattergl\", \"x\": [2007, 2008, 2009, 2010, 2011, 2012, 2013, 2014, 2015, 2016, 2017, 2018], \"xaxis\": \"x\", \"y\": [6.526666666666666, 6.1, 9.85, 9.0, 8.0875, 8.285714285714286, 6.2, 7.466666666666666, 16.975, 10.333333333333334, 12.666666666666666, 15.459999999999999], \"yaxis\": \"y\"}, {\"hovertemplate\": \"CADENA_PRODUCTIVA_ADR=CURUBA<br>YEAR=%{x}<br>RENDIMIENTO=%{y}<extra></extra>\", \"legendgroup\": \"CURUBA\", \"line\": {\"color\": \"#FF6692\", \"dash\": \"solid\"}, \"mode\": \"lines\", \"name\": \"CURUBA\", \"showlegend\": true, \"type\": \"scattergl\", \"x\": [2007, 2008, 2009, 2010, 2011, 2012, 2013, 2014, 2015, 2016, 2017, 2018], \"xaxis\": \"x\", \"y\": [9.679799999999998, 8.741363636363635, 8.861162790697675, 8.901777777777776, 8.541777777777778, 9.9134, 10.366666666666665, 10.372727272727273, 10.65, 8.202, 8.687111111111111, 8.713636363636365], \"yaxis\": \"y\"}, {\"hovertemplate\": \"CADENA_PRODUCTIVA_ADR=DATIL<br>YEAR=%{x}<br>RENDIMIENTO=%{y}<extra></extra>\", \"legendgroup\": \"DATIL\", \"line\": {\"color\": \"#B6E880\", \"dash\": \"solid\"}, \"mode\": \"lines\", \"name\": \"DATIL\", \"showlegend\": true, \"type\": \"scattergl\", \"x\": [2007, 2008, 2009, 2010, 2011, 2012, 2013, 2014, 2015, 2016, 2017, 2018], \"xaxis\": \"x\", \"y\": [4.0, 4.0, 4.0, 10.0, 3.0, 3.0, 3.0, 3.0, 3.0, 8.5, 8.5, 8.5], \"yaxis\": \"y\"}, {\"hovertemplate\": \"CADENA_PRODUCTIVA_ADR=DURAZNO<br>YEAR=%{x}<br>RENDIMIENTO=%{y}<extra></extra>\", \"legendgroup\": \"DURAZNO\", \"line\": {\"color\": \"#FF97FF\", \"dash\": \"solid\"}, \"mode\": \"lines\", \"name\": \"DURAZNO\", \"showlegend\": true, \"type\": \"scattergl\", \"x\": [2007, 2008, 2009, 2010, 2011, 2012, 2013, 2014, 2015, 2016, 2017, 2018], \"xaxis\": \"x\", \"y\": [10.447234042553193, 10.415740740740741, 10.505818181818182, 9.725689655172415, 9.820508474576268, 10.718070175438596, 10.462985074626866, 11.16159420289855, 10.424, 10.355333333333334, 11.024078947368423, 11.07158536585366], \"yaxis\": \"y\"}, {\"hovertemplate\": \"CADENA_PRODUCTIVA_ADR=ESTROPAJO<br>YEAR=%{x}<br>RENDIMIENTO=%{y}<extra></extra>\", \"legendgroup\": \"ESTROPAJO\", \"line\": {\"color\": \"#FECB52\", \"dash\": \"solid\"}, \"mode\": \"lines\", \"name\": \"ESTROPAJO\", \"showlegend\": true, \"type\": \"scattergl\", \"x\": [2007, 2008, 2010, 2011, 2012, 2013, 2014, 2015, 2016, 2017, 2018], \"xaxis\": \"x\", \"y\": [1.4, 0.65, 1.1333333333333333, 2.216666666666667, 2.025, 3.4, 3.3, 3.3, 2.8333333333333335, 6.914285714285714, 6.3100000000000005], \"yaxis\": \"y\"}, {\"hovertemplate\": \"CADENA_PRODUCTIVA_ADR=EUCALIPTO BABY BLUE<br>YEAR=%{x}<br>RENDIMIENTO=%{y}<extra></extra>\", \"legendgroup\": \"EUCALIPTO BABY BLUE\", \"line\": {\"color\": \"#636efa\", \"dash\": \"solid\"}, \"mode\": \"lines\", \"name\": \"EUCALIPTO BABY BLUE\", \"showlegend\": true, \"type\": \"scattergl\", \"x\": [2007, 2008, 2009, 2010, 2011, 2012, 2013, 2014, 2015, 2016, 2017, 2018], \"xaxis\": \"x\", \"y\": [10.0, 10.0, 10.0, 10.33, 8.075, 8.075, 8.325, 6.5, 3.0, 3.0, 3.0, 5.0], \"yaxis\": \"y\"}, {\"hovertemplate\": \"CADENA_PRODUCTIVA_ADR=FEIJOA<br>YEAR=%{x}<br>RENDIMIENTO=%{y}<extra></extra>\", \"legendgroup\": \"FEIJOA\", \"line\": {\"color\": \"#EF553B\", \"dash\": \"solid\"}, \"mode\": \"lines\", \"name\": \"FEIJOA\", \"showlegend\": true, \"type\": \"scattergl\", \"x\": [2007, 2008, 2009, 2010, 2011, 2012, 2013, 2014, 2015, 2016, 2017, 2018], \"xaxis\": \"x\", \"y\": [7.579615384615385, 8.226842105263158, 7.272105263157895, 7.758823529411765, 6.389473684210526, 6.317647058823529, 6.62, 7.015000000000001, 7.322727272727274, 6.686363636363637, 6.566666666666667, 6.72], \"yaxis\": \"y\"}, {\"hovertemplate\": \"CADENA_PRODUCTIVA_ADR=FIQUE<br>YEAR=%{x}<br>RENDIMIENTO=%{y}<extra></extra>\", \"legendgroup\": \"FIQUE\", \"line\": {\"color\": \"#00cc96\", \"dash\": \"solid\"}, \"mode\": \"lines\", \"name\": \"FIQUE\", \"showlegend\": true, \"type\": \"scattergl\", \"x\": [2007, 2008, 2009, 2010, 2011, 2012, 2013, 2014, 2015, 2016, 2017, 2018], \"xaxis\": \"x\", \"y\": [1.143670886075949, 1.1845, 1.1770588235294122, 1.2436619718309858, 1.2220833333333332, 1.269041095890411, 1.2595833333333333, 1.3378873239436622, 1.307313432835821, 1.4394827586206895, 1.5025862068965519, 1.4334920634920636], \"yaxis\": \"y\"}, {\"hovertemplate\": \"CADENA_PRODUCTIVA_ADR=FRAMBUESA<br>YEAR=%{x}<br>RENDIMIENTO=%{y}<extra></extra>\", \"legendgroup\": \"FRAMBUESA\", \"line\": {\"color\": \"#ab63fa\", \"dash\": \"solid\"}, \"mode\": \"lines\", \"name\": \"FRAMBUESA\", \"showlegend\": true, \"type\": \"scattergl\", \"x\": [2007, 2011, 2012, 2013, 2014, 2015, 2016, 2017, 2018], \"xaxis\": \"x\", \"y\": [5.0, 6.0, null, 4.0, 4.0, 4.0, 9.0, 4.0, 12.0], \"yaxis\": \"y\"}, {\"hovertemplate\": \"CADENA_PRODUCTIVA_ADR=FRESA<br>YEAR=%{x}<br>RENDIMIENTO=%{y}<extra></extra>\", \"legendgroup\": \"FRESA\", \"line\": {\"color\": \"#FFA15A\", \"dash\": \"solid\"}, \"mode\": \"lines\", \"name\": \"FRESA\", \"showlegend\": true, \"type\": \"scattergl\", \"x\": [2007, 2008, 2009, 2010, 2011, 2012, 2013, 2014, 2015, 2016, 2017, 2018], \"xaxis\": \"x\", \"y\": [25.063750000000002, 26.845999999999997, 28.58878048780488, 23.995116279069766, 24.008999999999997, 22.992888888888885, 21.949615384615388, 22.333571428571425, 22.491764705882357, 24.38725, 26.23054347826087, 24.72085106382979], \"yaxis\": \"y\"}, {\"hovertemplate\": \"CADENA_PRODUCTIVA_ADR=FRUTALES VARIOS<br>YEAR=%{x}<br>RENDIMIENTO=%{y}<extra></extra>\", \"legendgroup\": \"FRUTALES VARIOS\", \"line\": {\"color\": \"#19d3f3\", \"dash\": \"solid\"}, \"mode\": \"lines\", \"name\": \"FRUTALES VARIOS\", \"showlegend\": true, \"type\": \"scattergl\", \"x\": [2007, 2008, 2009, 2010, 2011, 2012, 2013, 2014, 2015, 2016, 2017, 2018], \"xaxis\": \"x\", \"y\": [1.6, 3.8449999999999998, 9.75, 4.5, 3.95, 5.2700000000000005, 3.8900000000000006, 5.016666666666667, 5.516666666666667, 8.825, 7.609999999999999, 7.394], \"yaxis\": \"y\"}, {\"hovertemplate\": \"CADENA_PRODUCTIVA_ADR=GIRASOL<br>YEAR=%{x}<br>RENDIMIENTO=%{y}<extra></extra>\", \"legendgroup\": \"GIRASOL\", \"line\": {\"color\": \"#FF6692\", \"dash\": \"solid\"}, \"mode\": \"lines\", \"name\": \"GIRASOL\", \"showlegend\": true, \"type\": \"scattergl\", \"x\": [2007, 2008, 2009, 2010, 2011, 2012, 2013, 2014, 2015, 2016, 2017, 2018], \"xaxis\": \"x\", \"y\": [20.0, 20.0, 11.023333333333333, 6.383333333333333, 12.68, 15.0, 12.32, 8.38, 12.32, 12.32, 12.32, 12.32], \"yaxis\": \"y\"}, {\"hovertemplate\": \"CADENA_PRODUCTIVA_ADR=GLADIOLO<br>YEAR=%{x}<br>RENDIMIENTO=%{y}<extra></extra>\", \"legendgroup\": \"GLADIOLO\", \"line\": {\"color\": \"#B6E880\", \"dash\": \"solid\"}, \"mode\": \"lines\", \"name\": \"GLADIOLO\", \"showlegend\": true, \"type\": \"scattergl\", \"x\": [2007, 2008, 2009, 2010, 2011, 2013, 2014, 2015, 2016, 2017, 2018], \"xaxis\": \"x\", \"y\": [7.53, 7.585000000000001, 7.3575, 7.9175, 7.07, 5.56, 5.56, 5.56, 5.56, 5.56, 5.56], \"yaxis\": \"y\"}, {\"hovertemplate\": \"CADENA_PRODUCTIVA_ADR=GRANADILLA<br>YEAR=%{x}<br>RENDIMIENTO=%{y}<extra></extra>\", \"legendgroup\": \"GRANADILLA\", \"line\": {\"color\": \"#FF97FF\", \"dash\": \"solid\"}, \"mode\": \"lines\", \"name\": \"GRANADILLA\", \"showlegend\": true, \"type\": \"scattergl\", \"x\": [2007, 2008, 2009, 2010, 2011, 2012, 2013, 2014, 2015, 2016, 2017, 2018], \"xaxis\": \"x\", \"y\": [10.20710280373832, 9.43890909090909, 8.971111111111114, 8.767519379844963, 8.697119999999998, 8.651587301587302, 9.645038167938933, 10.084732824427482, 10.558581560283688, 9.865703703703703, 9.920143884892086, 10.33211267605634], \"yaxis\": \"y\"}, {\"hovertemplate\": \"CADENA_PRODUCTIVA_ADR=GUANABANA<br>YEAR=%{x}<br>RENDIMIENTO=%{y}<extra></extra>\", \"legendgroup\": \"GUANABANA\", \"line\": {\"color\": \"#FECB52\", \"dash\": \"solid\"}, \"mode\": \"lines\", \"name\": \"GUANABANA\", \"showlegend\": true, \"type\": \"scattergl\", \"x\": [2007, 2008, 2009, 2010, 2011, 2012, 2013, 2014, 2015, 2016, 2017, 2018], \"xaxis\": \"x\", \"y\": [8.593717948717948, 9.097954545454543, 8.551022727272727, 8.469080459770113, 8.637362637362637, 8.304761904761905, 9.00990990990991, 8.710353982300886, 8.681034482758621, 8.76436507936508, 9.486131386861315, 9.753049645390071], \"yaxis\": \"y\"}, {\"hovertemplate\": \"CADENA_PRODUCTIVA_ADR=GUANDUL<br>YEAR=%{x}<br>RENDIMIENTO=%{y}<extra></extra>\", \"legendgroup\": \"GUANDUL\", \"line\": {\"color\": \"#636efa\", \"dash\": \"solid\"}, \"mode\": \"lines\", \"name\": \"GUANDUL\", \"showlegend\": true, \"type\": \"scattergl\", \"x\": [2007, 2008, 2009, 2010, 2011, 2012, 2013, 2014, 2015, 2016, 2017, 2018], \"xaxis\": \"x\", \"y\": [0.7272727272727272, 0.961333333333333, 1.3543749999999997, 1.5528571428571427, 0.98, 0.8857142857142858, 0.8486666666666668, 0.8830769230769231, 0.7945454545454548, 1.19125, 1.2180000000000002, 1.20375], \"yaxis\": \"y\"}, {\"hovertemplate\": \"CADENA_PRODUCTIVA_ADR=GUAYABA<br>YEAR=%{x}<br>RENDIMIENTO=%{y}<extra></extra>\", \"legendgroup\": \"GUAYABA\", \"line\": {\"color\": \"#EF553B\", \"dash\": \"solid\"}, \"mode\": \"lines\", \"name\": \"GUAYABA\", \"showlegend\": true, \"type\": \"scattergl\", \"x\": [2007, 2008, 2009, 2010, 2011, 2012, 2013, 2014, 2015, 2016, 2017, 2018], \"xaxis\": \"x\", \"y\": [9.800694444444444, 9.667666666666669, 9.535786163522014, 9.604437869822485, 9.075875, 8.874759036144576, 9.199704142011834, 9.036545454545454, 9.023067484662578, 8.965098039215686, 9.093896103896103, 9.691708860759492], \"yaxis\": \"y\"}, {\"hovertemplate\": \"CADENA_PRODUCTIVA_ADR=GULUPA<br>YEAR=%{x}<br>RENDIMIENTO=%{y}<extra></extra>\", \"legendgroup\": \"GULUPA\", \"line\": {\"color\": \"#00cc96\", \"dash\": \"solid\"}, \"mode\": \"lines\", \"name\": \"GULUPA\", \"showlegend\": true, \"type\": \"scattergl\", \"x\": [2007, 2008, 2009, 2010, 2011, 2012, 2013, 2014, 2015, 2016, 2017, 2018], \"xaxis\": \"x\", \"y\": [11.151538461538461, 10.280000000000001, 9.323529411764707, 9.165, 9.308, 10.357142857142858, 9.796875, 10.278378378378378, 9.057142857142857, 11.948076923076922, 14.032307692307693, 14.218285714285715], \"yaxis\": \"y\"}, {\"hovertemplate\": \"CADENA_PRODUCTIVA_ADR=HELECHO<br>YEAR=%{x}<br>RENDIMIENTO=%{y}<extra></extra>\", \"legendgroup\": \"HELECHO\", \"line\": {\"color\": \"#ab63fa\", \"dash\": \"solid\"}, \"mode\": \"lines\", \"name\": \"HELECHO\", \"showlegend\": true, \"type\": \"scattergl\", \"x\": [2007, 2008, 2009, 2010, 2011, 2012, 2013, 2014, 2015, 2016, 2017, 2018], \"xaxis\": \"x\", \"y\": [1.2774999999999999, 7.800000000000002, 7.811666666666668, 5.201428571428572, 4.558571428571429, 2.682, 3.282, 3.7875, 6.803333333333334, 6.890000000000001, 8.666666666666666, 8.0], \"yaxis\": \"y\"}, {\"hovertemplate\": \"CADENA_PRODUCTIVA_ADR=HELICONIA<br>YEAR=%{x}<br>RENDIMIENTO=%{y}<extra></extra>\", \"legendgroup\": \"HELICONIA\", \"line\": {\"color\": \"#FFA15A\", \"dash\": \"solid\"}, \"mode\": \"lines\", \"name\": \"HELICONIA\", \"showlegend\": true, \"type\": \"scattergl\", \"x\": [2007, 2008, 2009, 2010, 2011, 2012, 2013, 2014, 2015, 2016, 2017, 2018], \"xaxis\": \"x\", \"y\": [4.50625, 5.429374999999999, 4.14375, 4.711333333333333, 4.267142857142857, 4.633571428571429, 4.210000000000001, 5.21, 5.4875, 4.533333333333333, 4.2700000000000005, 3.97], \"yaxis\": \"y\"}, {\"hovertemplate\": \"CADENA_PRODUCTIVA_ADR=HIGO<br>YEAR=%{x}<br>RENDIMIENTO=%{y}<extra></extra>\", \"legendgroup\": \"HIGO\", \"line\": {\"color\": \"#19d3f3\", \"dash\": \"solid\"}, \"mode\": \"lines\", \"name\": \"HIGO\", \"showlegend\": true, \"type\": \"scattergl\", \"x\": [2007, 2008, 2009, 2010, 2011, 2012, 2013, 2014, 2015, 2016, 2017, 2018], \"xaxis\": \"x\", \"y\": [6.831999999999999, 7.609999999999999, 9.75, 6.0, 7.0, 14.0, 14.5, 13.0, 13.0, 12.0, 11.833333333333334, 12.916666666666666], \"yaxis\": \"y\"}, {\"hovertemplate\": \"CADENA_PRODUCTIVA_ADR=HORTENSIA<br>YEAR=%{x}<br>RENDIMIENTO=%{y}<extra></extra>\", \"legendgroup\": \"HORTENSIA\", \"line\": {\"color\": \"#FF6692\", \"dash\": \"solid\"}, \"mode\": \"lines\", \"name\": \"HORTENSIA\", \"showlegend\": true, \"type\": \"scattergl\", \"x\": [2007, 2008, 2009, 2010, 2011, 2012, 2013, 2014, 2015, 2016, 2017, 2018], \"xaxis\": \"x\", \"y\": [18.0, 16.71, 18.0, 18.0, 10.625, 11.719999999999999, 12.12, 12.014285714285714, 13.7875, 12.739999999999998, 11.364999999999998, 12.25], \"yaxis\": \"y\"}, {\"hovertemplate\": \"CADENA_PRODUCTIVA_ADR=IRACA<br>YEAR=%{x}<br>RENDIMIENTO=%{y}<extra></extra>\", \"legendgroup\": \"IRACA\", \"line\": {\"color\": \"#B6E880\", \"dash\": \"solid\"}, \"mode\": \"lines\", \"name\": \"IRACA\", \"showlegend\": true, \"type\": \"scattergl\", \"x\": [2007, 2008, 2009, 2010, 2011, 2012, 2013, 2014, 2015, 2016, 2017, 2018], \"xaxis\": \"x\", \"y\": [2.4857142857142853, 1.9287499999999997, 2.013333333333333, 1.7439999999999998, 1.48, 1.265, 1.175, 1.75, 1.7375, 1.7225, 1.7750000000000001, 1.77], \"yaxis\": \"y\"}, {\"hovertemplate\": \"CADENA_PRODUCTIVA_ADR=JENGIBRE<br>YEAR=%{x}<br>RENDIMIENTO=%{y}<extra></extra>\", \"legendgroup\": \"JENGIBRE\", \"line\": {\"color\": \"#FF97FF\", \"dash\": \"solid\"}, \"mode\": \"lines\", \"name\": \"JENGIBRE\", \"showlegend\": true, \"type\": \"scattergl\", \"x\": [2007, 2008, 2014, 2015, 2016, 2017, 2018], \"xaxis\": \"x\", \"y\": [0.63, 0.63, 3.0, 4.0, 15.0, 19.0, 13.333333333333334], \"yaxis\": \"y\"}, {\"hovertemplate\": \"CADENA_PRODUCTIVA_ADR=LIMA<br>YEAR=%{x}<br>RENDIMIENTO=%{y}<extra></extra>\", \"legendgroup\": \"LIMA\", \"line\": {\"color\": \"#FECB52\", \"dash\": \"solid\"}, \"mode\": \"lines\", \"name\": \"LIMA\", \"showlegend\": true, \"type\": \"scattergl\", \"x\": [2007, 2008, 2009, 2010, 2011, 2012, 2013, 2014, 2015, 2016, 2017, 2018], \"xaxis\": \"x\", \"y\": [23.65375, 19.384285714285713, 17.60909090909091, 15.93, 14.546666666666665, 16.463333333333335, 14.770999999999997, 14.218260869565217, 13.829166666666666, 13.265625, 13.72027027027027, 12.186590909090908], \"yaxis\": \"y\"}, {\"hovertemplate\": \"CADENA_PRODUCTIVA_ADR=LIMON<br>YEAR=%{x}<br>RENDIMIENTO=%{y}<extra></extra>\", \"legendgroup\": \"LIMON\", \"line\": {\"color\": \"#636efa\", \"dash\": \"solid\"}, \"mode\": \"lines\", \"name\": \"LIMON\", \"showlegend\": true, \"type\": \"scattergl\", \"x\": [2007, 2008, 2009, 2010, 2011, 2012, 2013, 2014, 2015, 2016, 2017, 2018], \"xaxis\": \"x\", \"y\": [10.739154929577463, 10.105176470588235, 10.444891304347827, 10.098640776699028, 9.891944444444444, 9.363418803418803, 9.264298245614036, 9.256465517241379, 8.269461538461538, 7.922987012987012, 8.136748466257668, 8.444642857142856], \"yaxis\": \"y\"}, {\"hovertemplate\": \"CADENA_PRODUCTIVA_ADR=LULO<br>YEAR=%{x}<br>RENDIMIENTO=%{y}<extra></extra>\", \"legendgroup\": \"LULO\", \"line\": {\"color\": \"#EF553B\", \"dash\": \"solid\"}, \"mode\": \"lines\", \"name\": \"LULO\", \"showlegend\": true, \"type\": \"scattergl\", \"x\": [2007, 2008, 2009, 2010, 2011, 2012, 2013, 2014, 2015, 2016, 2017, 2018], \"xaxis\": \"x\", \"y\": [7.766768558951964, 7.914383561643836, 7.780638297872338, 8.176313559322033, 8.488277310924369, 9.0895983935743, 9.41891472868217, 8.635018315018316, 8.799061371841155, 9.064521072796936, 9.506136363636363, 9.828736059479553], \"yaxis\": \"y\"}, {\"hovertemplate\": \"CADENA_PRODUCTIVA_ADR=MACADAMIA<br>YEAR=%{x}<br>RENDIMIENTO=%{y}<extra></extra>\", \"legendgroup\": \"MACADAMIA\", \"line\": {\"color\": \"#00cc96\", \"dash\": \"solid\"}, \"mode\": \"lines\", \"name\": \"MACADAMIA\", \"showlegend\": true, \"type\": \"scattergl\", \"x\": [2007, 2008, 2009, 2010, 2011, 2012, 2013, 2014, 2015, 2016, 2017, 2018], \"xaxis\": \"x\", \"y\": [2.8433333333333333, 3.554, 3.5455555555555556, 4.525, 2.373333333333333, 2.3200000000000003, 2.6666666666666665, 3.185714285714286, 3.1142857142857143, 3.4385714285714286, 3.642857142857143, 3.5], \"yaxis\": \"y\"}, {\"hovertemplate\": \"CADENA_PRODUCTIVA_ADR=MAIZ FORRAJERO<br>YEAR=%{x}<br>RENDIMIENTO=%{y}<extra></extra>\", \"legendgroup\": \"MAIZ FORRAJERO\", \"line\": {\"color\": \"#ab63fa\", \"dash\": \"solid\"}, \"mode\": \"lines\", \"name\": \"MAIZ FORRAJERO\", \"showlegend\": true, \"type\": \"scattergl\", \"x\": [2007, 2008, 2009, 2010, 2011, 2012, 2013, 2014, 2015, 2016, 2017, 2018], \"xaxis\": \"x\", \"y\": [85.0, 86.36, 33.75666666666667, 60.333333333333336, 49.0, 40.14380952380952, 33.63, 21.727027027027027, 23.774193548387096, 23.557, 25.821428571428573, 26.575], \"yaxis\": \"y\"}, {\"hovertemplate\": \"CADENA_PRODUCTIVA_ADR=MALANGA<br>YEAR=%{x}<br>RENDIMIENTO=%{y}<extra></extra>\", \"legendgroup\": \"MALANGA\", \"line\": {\"color\": \"#FFA15A\", \"dash\": \"solid\"}, \"mode\": \"lines\", \"name\": \"MALANGA\", \"showlegend\": true, \"type\": \"scattergl\", \"x\": [2007, 2008, 2009, 2010, 2011, 2012, 2013, 2014, 2015, 2016, 2017, 2018], \"xaxis\": \"x\", \"y\": [8.462105263157895, 8.47625, 7.71340909090909, 7.636041666666666, 7.144259259259259, 7.038163265306123, 7.351272727272727, 7.322678571428571, 7.801754385964912, 7.635483870967741, 7.457460317460319, 7.600634920634921], \"yaxis\": \"y\"}, {\"hovertemplate\": \"CADENA_PRODUCTIVA_ADR=MAMONCILLO<br>YEAR=%{x}<br>RENDIMIENTO=%{y}<extra></extra>\", \"legendgroup\": \"MAMONCILLO\", \"line\": {\"color\": \"#19d3f3\", \"dash\": \"solid\"}, \"mode\": \"lines\", \"name\": \"MAMONCILLO\", \"showlegend\": true, \"type\": \"scattergl\", \"x\": [2007, 2008, 2009, 2010, 2011, 2012, 2013, 2014, 2015, 2016, 2017, 2018], \"xaxis\": \"x\", \"y\": [10.0, 7.0, 6.0, 6.4575, 5.375, 5.7, 5.15, 6.0, 4.266666666666667, 3.9333333333333336, 12.933333333333332, 12.933333333333332], \"yaxis\": \"y\"}, {\"hovertemplate\": \"CADENA_PRODUCTIVA_ADR=MANDARINA<br>YEAR=%{x}<br>RENDIMIENTO=%{y}<extra></extra>\", \"legendgroup\": \"MANDARINA\", \"line\": {\"color\": \"#FF6692\", \"dash\": \"solid\"}, \"mode\": \"lines\", \"name\": \"MANDARINA\", \"showlegend\": true, \"type\": \"scattergl\", \"x\": [2007, 2008, 2009, 2010, 2011, 2012, 2013, 2014, 2015, 2016, 2017, 2018], \"xaxis\": \"x\", \"y\": [14.921463414634148, 13.559999999999999, 14.408939393939391, 14.966666666666667, 14.676338028169017, 14.057536231884058, 13.370389610389614, 13.910428571428573, 13.961558441558442, 13.553720930232556, 13.77445652173913, 13.911720430107527], \"yaxis\": \"y\"}, {\"hovertemplate\": \"CADENA_PRODUCTIVA_ADR=MANGO<br>YEAR=%{x}<br>RENDIMIENTO=%{y}<extra></extra>\", \"legendgroup\": \"MANGO\", \"line\": {\"color\": \"#B6E880\", \"dash\": \"solid\"}, \"mode\": \"lines\", \"name\": \"MANGO\", \"showlegend\": true, \"type\": \"scattergl\", \"x\": [2007, 2008, 2009, 2010, 2011, 2012, 2013, 2014, 2015, 2016, 2017, 2018], \"xaxis\": \"x\", \"y\": [10.175864197530865, 10.405628742514969, 11.037278106508879, 10.471071428571431, 9.932705882352943, 10.12732558139535, 10.123278688524591, 9.818449197860962, 9.813229166666668, 10.444293193717279, 10.707339901477834, 11.250805687203792], \"yaxis\": \"y\"}, {\"hovertemplate\": \"CADENA_PRODUCTIVA_ADR=MANGOSTINO<br>YEAR=%{x}<br>RENDIMIENTO=%{y}<extra></extra>\", \"legendgroup\": \"MANGOSTINO\", \"line\": {\"color\": \"#FF97FF\", \"dash\": \"solid\"}, \"mode\": \"lines\", \"name\": \"MANGOSTINO\", \"showlegend\": true, \"type\": \"scattergl\", \"x\": [2007, 2008, 2009, 2010, 2011, 2012, 2013, 2014, 2015, 2016, 2017, 2018], \"xaxis\": \"x\", \"y\": [5.1000000000000005, 5.0, 3.8333333333333335, 7.0, 24.0, 15.0, 16.4, 4.971428571428571, 5.4375, 6.4125, 6.3, 6.3], \"yaxis\": \"y\"}, {\"hovertemplate\": \"CADENA_PRODUCTIVA_ADR=MANZANA<br>YEAR=%{x}<br>RENDIMIENTO=%{y}<extra></extra>\", \"legendgroup\": \"MANZANA\", \"line\": {\"color\": \"#FECB52\", \"dash\": \"solid\"}, \"mode\": \"lines\", \"name\": \"MANZANA\", \"showlegend\": true, \"type\": \"scattergl\", \"x\": [2007, 2008, 2009, 2010, 2011, 2012, 2013, 2014, 2015, 2016, 2017, 2018], \"xaxis\": \"x\", \"y\": [10.26047619047619, 10.382352941176471, 9.75, 10.854375000000001, 9.946666666666665, 8.537272727272727, 8.941666666666666, 9.73076923076923, 9.461538461538462, 10.416666666666666, 10.75, 10.538461538461538], \"yaxis\": \"y\"}, {\"hovertemplate\": \"CADENA_PRODUCTIVA_ADR=MARACUYA<br>YEAR=%{x}<br>RENDIMIENTO=%{y}<extra></extra>\", \"legendgroup\": \"MARACUYA\", \"line\": {\"color\": \"#636efa\", \"dash\": \"solid\"}, \"mode\": \"lines\", \"name\": \"MARACUYA\", \"showlegend\": true, \"type\": \"scattergl\", \"x\": [2007, 2008, 2009, 2010, 2011, 2012, 2013, 2014, 2015, 2016, 2017, 2018], \"xaxis\": \"x\", \"y\": [14.996971830985913, 15.245422535211263, 14.09, 14.600576923076924, 14.403172413793104, 14.597635135135134, 15.270266666666666, 15.077300613496934, 15.032530120481928, 14.632108433734942, 14.17742105263158, 14.188629441624364], \"yaxis\": \"y\"}, {\"hovertemplate\": \"CADENA_PRODUCTIVA_ADR=MARA\\u00d1ON<br>YEAR=%{x}<br>RENDIMIENTO=%{y}<extra></extra>\", \"legendgroup\": \"MARA\\u00d1ON\", \"line\": {\"color\": \"#EF553B\", \"dash\": \"solid\"}, \"mode\": \"lines\", \"name\": \"MARA\\u00d1ON\", \"showlegend\": true, \"type\": \"scattergl\", \"x\": [2007, 2008, 2009, 2010, 2011, 2012, 2013, 2014, 2015, 2016, 2017, 2018], \"xaxis\": \"x\", \"y\": [1.8333333333333333, 1.405, 15.58, 16.625, 3.8000000000000003, 8.8, 5.785714285714286, 5.285714285714286, 6.338333333333334, 5.7125, 5.795555555555556, 6.362222222222222], \"yaxis\": \"y\"}, {\"hovertemplate\": \"CADENA_PRODUCTIVA_ADR=MORA<br>YEAR=%{x}<br>RENDIMIENTO=%{y}<extra></extra>\", \"legendgroup\": \"MORA\", \"line\": {\"color\": \"#00cc96\", \"dash\": \"solid\"}, \"mode\": \"lines\", \"name\": \"MORA\", \"showlegend\": true, \"type\": \"scattergl\", \"x\": [2007, 2008, 2009, 2010, 2011, 2012, 2013, 2014, 2015, 2016, 2017, 2018], \"xaxis\": \"x\", \"y\": [7.412024291497975, 7.353654618473894, 6.896539923954375, 6.998646616541354, 6.8027881040892195, 6.896457564575646, 7.118592592592593, 7.2136153846153865, 7.187807692307692, 7.457164750957855, 7.857381818181818, 7.989963898916969], \"yaxis\": \"y\"}, {\"hovertemplate\": \"CADENA_PRODUCTIVA_ADR=MORERA<br>YEAR=%{x}<br>RENDIMIENTO=%{y}<extra></extra>\", \"legendgroup\": \"MORERA\", \"line\": {\"color\": \"#ab63fa\", \"dash\": \"solid\"}, \"mode\": \"lines\", \"name\": \"MORERA\", \"showlegend\": true, \"type\": \"scattergl\", \"x\": [2007, 2008, 2009, 2010, 2011, 2012, 2013, 2014, 2015, 2016, 2017, 2018], \"xaxis\": \"x\", \"y\": [9.4, 9.4, 9.11, 9.835, 9.5, 11.0, 8.0, 0.5, 0.5, 0.4, 3.7, 3.7], \"yaxis\": \"y\"}, {\"hovertemplate\": \"CADENA_PRODUCTIVA_ADR=NARANJA<br>YEAR=%{x}<br>RENDIMIENTO=%{y}<extra></extra>\", \"legendgroup\": \"NARANJA\", \"line\": {\"color\": \"#FFA15A\", \"dash\": \"solid\"}, \"mode\": \"lines\", \"name\": \"NARANJA\", \"showlegend\": true, \"type\": \"scattergl\", \"x\": [2007, 2008, 2009, 2010, 2011, 2012, 2013, 2014, 2015, 2016, 2017, 2018], \"xaxis\": \"x\", \"y\": [13.825161290322578, 13.008036809815955, 12.614556962025317, 12.817453416149066, 11.78907608695652, 11.527816091954021, 11.091069518716576, 10.880967741935484, 10.72200980392157, 11.062769953051642, 11.741689497716896, 11.509547511312217], \"yaxis\": \"y\"}, {\"hovertemplate\": \"CADENA_PRODUCTIVA_ADR=NISPERO<br>YEAR=%{x}<br>RENDIMIENTO=%{y}<extra></extra>\", \"legendgroup\": \"NISPERO\", \"line\": {\"color\": \"#19d3f3\", \"dash\": \"solid\"}, \"mode\": \"lines\", \"name\": \"NISPERO\", \"showlegend\": true, \"type\": \"scattergl\", \"x\": [2007, 2008, 2009, 2010, 2011, 2012, 2013, 2014, 2015, 2016, 2017, 2018], \"xaxis\": \"x\", \"y\": [5.1899999999999995, 6.734, 8.104, 8.76, 7.0, 8.0, 10.5, 5.833333333333333, 5.0, 4.214285714285714, 5.16, 5.8], \"yaxis\": \"y\"}, {\"hovertemplate\": \"CADENA_PRODUCTIVA_ADR=PALMA DE ACEITE<br>YEAR=%{x}<br>RENDIMIENTO=%{y}<extra></extra>\", \"legendgroup\": \"PALMA DE ACEITE\", \"line\": {\"color\": \"#FF6692\", \"dash\": \"solid\"}, \"mode\": \"lines\", \"name\": \"PALMA DE ACEITE\", \"showlegend\": true, \"type\": \"scattergl\", \"x\": [2007, 2008, 2009, 2010, 2011, 2012, 2013, 2014, 2015, 2016, 2017, 2018], \"xaxis\": \"x\", \"y\": [3.3260000000000005, 3.3103658536585363, 3.2740449438202246, 3.2222727272727285, 3.1979569892473116, 3.232871287128712, 3.170094339622641, 3.0555963302752303, 3.1197391304347852, 2.816782608695654, 3.169396551724135, 3.272049180327866], \"yaxis\": \"y\"}, {\"hovertemplate\": \"CADENA_PRODUCTIVA_ADR=PALMITO<br>YEAR=%{x}<br>RENDIMIENTO=%{y}<extra></extra>\", \"legendgroup\": \"PALMITO\", \"line\": {\"color\": \"#B6E880\", \"dash\": \"solid\"}, \"mode\": \"lines\", \"name\": \"PALMITO\", \"showlegend\": true, \"type\": \"scattergl\", \"x\": [2007, 2008, 2009, 2010, 2011, 2012, 2013, 2014, 2015, 2016, 2017, 2018], \"xaxis\": \"x\", \"y\": [1.4983333333333333, 4.140000000000001, 5.7120000000000015, 6.628750000000001, 7.432, 7.0166666666666675, 8.654444444444444, 8.654444444444444, 8.679, 8.041666666666666, 8.409090909090908, 8.590909090909092], \"yaxis\": \"y\"}, {\"hovertemplate\": \"CADENA_PRODUCTIVA_ADR=PAPAYA<br>YEAR=%{x}<br>RENDIMIENTO=%{y}<extra></extra>\", \"legendgroup\": \"PAPAYA\", \"line\": {\"color\": \"#FF97FF\", \"dash\": \"solid\"}, \"mode\": \"lines\", \"name\": \"PAPAYA\", \"showlegend\": true, \"type\": \"scattergl\", \"x\": [2007, 2008, 2009, 2010, 2011, 2012, 2013, 2014, 2015, 2016, 2017, 2018], \"xaxis\": \"x\", \"y\": [24.97962686567164, 22.4141726618705, 23.554093959731542, 24.86234375, 22.8225, 21.473806451612905, 23.15159509202454, 22.256081081081085, 22.259210526315787, 23.069214285714285, 24.45527397260274, 24.58693333333333], \"yaxis\": \"y\"}, {\"hovertemplate\": \"CADENA_PRODUCTIVA_ADR=PAPAYUELA<br>YEAR=%{x}<br>RENDIMIENTO=%{y}<extra></extra>\", \"legendgroup\": \"PAPAYUELA\", \"line\": {\"color\": \"#FECB52\", \"dash\": \"solid\"}, \"mode\": \"lines\", \"name\": \"PAPAYUELA\", \"showlegend\": true, \"type\": \"scattergl\", \"x\": [2007, 2008, 2009, 2010, 2011, 2012, 2013, 2014, 2015, 2016, 2017, 2018], \"xaxis\": \"x\", \"y\": [10.835, 14.4, 14.0, 16.0, 6.0, 5.0, 6.166666666666667, 6.166666666666667, 5.5, 7.166666666666667, 10.0, 10.125], \"yaxis\": \"y\"}, {\"hovertemplate\": \"CADENA_PRODUCTIVA_ADR=PERA<br>YEAR=%{x}<br>RENDIMIENTO=%{y}<extra></extra>\", \"legendgroup\": \"PERA\", \"line\": {\"color\": \"#636efa\", \"dash\": \"solid\"}, \"mode\": \"lines\", \"name\": \"PERA\", \"showlegend\": true, \"type\": \"scattergl\", \"x\": [2007, 2008, 2009, 2010, 2011, 2012, 2013, 2014, 2015, 2016, 2017, 2018], \"xaxis\": \"x\", \"y\": [9.071428571428571, 10.684000000000001, 11.25, 12.125, 8.285714285714286, 9.916666666666666, 10.608333333333333, 11.283333333333333, 10.616666666666667, 12.6, 11.833333333333334, 12.166666666666666], \"yaxis\": \"y\"}, {\"hovertemplate\": \"CADENA_PRODUCTIVA_ADR=PIMIENTA<br>YEAR=%{x}<br>RENDIMIENTO=%{y}<extra></extra>\", \"legendgroup\": \"PIMIENTA\", \"line\": {\"color\": \"#EF553B\", \"dash\": \"solid\"}, \"mode\": \"lines\", \"name\": \"PIMIENTA\", \"showlegend\": true, \"type\": \"scattergl\", \"x\": [2007, 2008, 2009, 2010, 2011, 2012, 2013, 2014, 2015, 2016, 2017, 2018], \"xaxis\": \"x\", \"y\": [1.53, 1.725, 1.8625, 1.345, 1.2625, 1.625, 1.2333333333333334, 1.2283333333333333, 1.2333333333333334, 0.8312499999999999, 1.25, 1.2874999999999999], \"yaxis\": \"y\"}, {\"hovertemplate\": \"CADENA_PRODUCTIVA_ADR=PITAHAYA<br>YEAR=%{x}<br>RENDIMIENTO=%{y}<extra></extra>\", \"legendgroup\": \"PITAHAYA\", \"line\": {\"color\": \"#00cc96\", \"dash\": \"solid\"}, \"mode\": \"lines\", \"name\": \"PITAHAYA\", \"showlegend\": true, \"type\": \"scattergl\", \"x\": [2007, 2008, 2009, 2010, 2011, 2012, 2013, 2014, 2015, 2016, 2017, 2018], \"xaxis\": \"x\", \"y\": [8.254210526315788, 8.15918918918919, 8.71304347826087, 9.346808510638299, 9.367843137254903, 8.710344827586207, 9.744642857142859, 9.558181818181819, 9.487868852459016, 8.732238805970148, 8.68840579710145, 8.891666666666667], \"yaxis\": \"y\"}, {\"hovertemplate\": \"CADENA_PRODUCTIVA_ADR=PI\\u00d1A<br>YEAR=%{x}<br>RENDIMIENTO=%{y}<extra></extra>\", \"legendgroup\": \"PI\\u00d1A\", \"line\": {\"color\": \"#ab63fa\", \"dash\": \"solid\"}, \"mode\": \"lines\", \"name\": \"PI\\u00d1A\", \"showlegend\": true, \"type\": \"scattergl\", \"x\": [2007, 2008, 2009, 2010, 2011, 2012, 2013, 2014, 2015, 2016, 2017, 2018], \"xaxis\": \"x\", \"y\": [28.03622047244094, 28.0543661971831, 28.6952, 28.82776315789474, 26.727672955974846, 27.860279329608943, 28.033402061855668, 28.23031746031746, 28.90321428571428, 30.990394088669948, 30.305879629629633, 31.050321100917433], \"yaxis\": \"y\"}, {\"hovertemplate\": \"CADENA_PRODUCTIVA_ADR=PLATANO<br>YEAR=%{x}<br>RENDIMIENTO=%{y}<extra></extra>\", \"legendgroup\": \"PLATANO\", \"line\": {\"color\": \"#FFA15A\", \"dash\": \"solid\"}, \"mode\": \"lines\", \"name\": \"PLATANO\", \"showlegend\": true, \"type\": \"scattergl\", \"x\": [2007, 2008, 2009, 2010, 2011, 2012, 2013, 2014, 2015, 2016, 2017, 2018], \"xaxis\": \"x\", \"y\": [7.287842876165112, 7.017246575342467, 7.251212534059946, 7.3630393487109975, 7.124671232876717, 7.404241192411928, 7.34977602108037, 7.446453333333335, 7.239840425531912, 7.664974025974022, 7.814417413572341, 8.168420382165603], \"yaxis\": \"y\"}, {\"hovertemplate\": \"CADENA_PRODUCTIVA_ADR=ROMERO<br>YEAR=%{x}<br>RENDIMIENTO=%{y}<extra></extra>\", \"legendgroup\": \"ROMERO\", \"line\": {\"color\": \"#19d3f3\", \"dash\": \"solid\"}, \"mode\": \"lines\", \"name\": \"ROMERO\", \"showlegend\": true, \"type\": \"scattergl\", \"x\": [2007, 2009, 2010, 2011, 2012, 2014, 2017, 2018], \"xaxis\": \"x\", \"y\": [3.085, 8.633333333333333, 1.19, 1.2066666666666666, 12.8, 1.0, 2.0, 2.0], \"yaxis\": \"y\"}, {\"hovertemplate\": \"CADENA_PRODUCTIVA_ADR=SABILA<br>YEAR=%{x}<br>RENDIMIENTO=%{y}<extra></extra>\", \"legendgroup\": \"SABILA\", \"line\": {\"color\": \"#FF6692\", \"dash\": \"solid\"}, \"mode\": \"lines\", \"name\": \"SABILA\", \"showlegend\": true, \"type\": \"scattergl\", \"x\": [2007, 2008, 2009, 2010, 2011, 2012, 2013, 2014, 2015, 2016, 2017, 2018], \"xaxis\": \"x\", \"y\": [null, 18.79, 20.59166666666667, 33.42444444444445, 26.0, 23.825, 36.54705882352941, 32.239285714285714, 32.3235294117647, 33.56578947368421, 24.11842105263158, 22.058139534883722], \"yaxis\": \"y\"}, {\"hovertemplate\": \"CADENA_PRODUCTIVA_ADR=SACHA INCHI<br>YEAR=%{x}<br>RENDIMIENTO=%{y}<extra></extra>\", \"legendgroup\": \"SACHA INCHI\", \"line\": {\"color\": \"#B6E880\", \"dash\": \"solid\"}, \"mode\": \"lines\", \"name\": \"SACHA INCHI\", \"showlegend\": true, \"type\": \"scattergl\", \"x\": [2007, 2008, 2009, 2010, 2011, 2012, 2013, 2014, 2015, 2016, 2017, 2018], \"xaxis\": \"x\", \"y\": [0.6, 0.6, 0.8, 7.67, 5.0, 0.8, 0.5, 1.548, 1.5292307692307694, 1.6, 2.5516129032258066, 3.5264705882352945], \"yaxis\": \"y\"}, {\"hovertemplate\": \"CADENA_PRODUCTIVA_ADR=STEVIA<br>YEAR=%{x}<br>RENDIMIENTO=%{y}<extra></extra>\", \"legendgroup\": \"STEVIA\", \"line\": {\"color\": \"#FF97FF\", \"dash\": \"solid\"}, \"mode\": \"lines\", \"name\": \"STEVIA\", \"showlegend\": true, \"type\": \"scattergl\", \"x\": [2007, 2008, 2009, 2010, 2011, 2012, 2013, 2014, 2015, 2016, 2017, 2018], \"xaxis\": \"x\", \"y\": [6.4575, 4.25, 3.6666666666666665, 3.1666666666666665, 0.55, 0.9666666666666667, 1.0999999999999999, 1.55, 1.55, 1.5333333333333332, 1.5333333333333332, 1.5333333333333332], \"yaxis\": \"y\"}, {\"hovertemplate\": \"CADENA_PRODUCTIVA_ADR=TABACO NEGRO<br>YEAR=%{x}<br>RENDIMIENTO=%{y}<extra></extra>\", \"legendgroup\": \"TABACO NEGRO\", \"line\": {\"color\": \"#FECB52\", \"dash\": \"solid\"}, \"mode\": \"lines\", \"name\": \"TABACO NEGRO\", \"showlegend\": true, \"type\": \"scattergl\", \"x\": [2007, 2008, 2009, 2010, 2011, 2012, 2013, 2014, 2015, 2016, 2017, 2018], \"xaxis\": \"x\", \"y\": [1.7259459459459459, 1.8342857142857143, 1.8487179487179486, 1.745, 1.5953125, 1.6817241379310344, 1.7852941176470583, 1.6442307692307692, 1.5831034482758621, 1.7532000000000003, 1.7914814814814817, 1.8166666666666669], \"yaxis\": \"y\"}, {\"hovertemplate\": \"CADENA_PRODUCTIVA_ADR=TAMARINDO<br>YEAR=%{x}<br>RENDIMIENTO=%{y}<extra></extra>\", \"legendgroup\": \"TAMARINDO\", \"line\": {\"color\": \"#636efa\", \"dash\": \"solid\"}, \"mode\": \"lines\", \"name\": \"TAMARINDO\", \"showlegend\": true, \"type\": \"scattergl\", \"x\": [2007, 2008, 2009, 2010, 2011, 2012, 2013, 2014, 2015, 2016, 2017, 2018], \"xaxis\": \"x\", \"y\": [7.5, 7.8325, 4.8774999999999995, 7.502, 5.16, 5.5, 4.55, 3.7, 3.95, 5.0, 5.0, 5.0], \"yaxis\": \"y\"}, {\"hovertemplate\": \"CADENA_PRODUCTIVA_ADR=TANGELO<br>YEAR=%{x}<br>RENDIMIENTO=%{y}<extra></extra>\", \"legendgroup\": \"TANGELO\", \"line\": {\"color\": \"#EF553B\", \"dash\": \"solid\"}, \"mode\": \"lines\", \"name\": \"TANGELO\", \"showlegend\": true, \"type\": \"scattergl\", \"x\": [2007, 2008, 2009, 2010, 2011, 2012, 2013, 2014, 2015, 2016, 2017, 2018], \"xaxis\": \"x\", \"y\": [19.900000000000002, 18.06, 17.5, 13.4375, 14.003333333333336, 11.940000000000001, 10.777777777777779, 10.833333333333334, 13.55, 11.15, 15.681818181818182, 15.706363636363635], \"yaxis\": \"y\"}, {\"hovertemplate\": \"CADENA_PRODUCTIVA_ADR=TE<br>YEAR=%{x}<br>RENDIMIENTO=%{y}<extra></extra>\", \"legendgroup\": \"TE\", \"line\": {\"color\": \"#00cc96\", \"dash\": \"solid\"}, \"mode\": \"lines\", \"name\": \"TE\", \"showlegend\": true, \"type\": \"scattergl\", \"x\": [2007, 2009, 2010, 2011, 2012, 2013, 2014, 2015, 2016, 2017, 2018], \"xaxis\": \"x\", \"y\": [2.0, 2.44, 2.44, 2.44, 2.4, 2.4, 2.4, 2.4, 2.4, 2.4, 2.4], \"yaxis\": \"y\"}, {\"hovertemplate\": \"CADENA_PRODUCTIVA_ADR=TOMATE DE ARBOL<br>YEAR=%{x}<br>RENDIMIENTO=%{y}<extra></extra>\", \"legendgroup\": \"TOMATE DE ARBOL\", \"line\": {\"color\": \"#ab63fa\", \"dash\": \"solid\"}, \"mode\": \"lines\", \"name\": \"TOMATE DE ARBOL\", \"showlegend\": true, \"type\": \"scattergl\", \"x\": [2007, 2008, 2009, 2010, 2011, 2012, 2013, 2014, 2015, 2016, 2017, 2018], \"xaxis\": \"x\", \"y\": [11.626292682926833, 11.451367924528302, 11.660740740740744, 12.1567264573991, 11.758000000000001, 11.466814159292035, 11.193004484304932, 11.157763157894738, 11.225526315789477, 11.557004405286346, 11.86464285714286, 11.633201754385965], \"yaxis\": \"y\"}, {\"hovertemplate\": \"CADENA_PRODUCTIVA_ADR=TOMILLO<br>YEAR=%{x}<br>RENDIMIENTO=%{y}<extra></extra>\", \"legendgroup\": \"TOMILLO\", \"line\": {\"color\": \"#FFA15A\", \"dash\": \"solid\"}, \"mode\": \"lines\", \"name\": \"TOMILLO\", \"showlegend\": true, \"type\": \"scattergl\", \"x\": [2007, 2008, 2009, 2010, 2011, 2012, 2013, 2014, 2015, 2016, 2017, 2018], \"xaxis\": \"x\", \"y\": [7.0, 8.4175, 12.333333333333334, 8.0, 6.359999999999999, 1.8, 5.0, 5.0, 6.0, 6.0, 6.0, 6.0], \"yaxis\": \"y\"}, {\"hovertemplate\": \"CADENA_PRODUCTIVA_ADR=UCHUVA<br>YEAR=%{x}<br>RENDIMIENTO=%{y}<extra></extra>\", \"legendgroup\": \"UCHUVA\", \"line\": {\"color\": \"#19d3f3\", \"dash\": \"solid\"}, \"mode\": \"lines\", \"name\": \"UCHUVA\", \"showlegend\": true, \"type\": \"scattergl\", \"x\": [2007, 2008, 2009, 2010, 2011, 2012, 2013, 2014, 2015, 2016, 2017, 2018], \"xaxis\": \"x\", \"y\": [14.553488372093025, 12.633617021276596, 13.967250000000002, 13.246052631578948, 10.97974358974359, 12.631999999999998, 12.52127659574468, 12.873090909090909, 11.995740740740741, 11.816666666666666, 12.032142857142857, 10.38875], \"yaxis\": \"y\"}, {\"hovertemplate\": \"CADENA_PRODUCTIVA_ADR=UVA<br>YEAR=%{x}<br>RENDIMIENTO=%{y}<extra></extra>\", \"legendgroup\": \"UVA\", \"line\": {\"color\": \"#FF6692\", \"dash\": \"solid\"}, \"mode\": \"lines\", \"name\": \"UVA\", \"showlegend\": true, \"type\": \"scattergl\", \"x\": [2007, 2008, 2009, 2010, 2011, 2012, 2013, 2014, 2015, 2016, 2017, 2018], \"xaxis\": \"x\", \"y\": [10.27625, 10.380697674418604, 9.315365853658538, 9.334418604651162, 8.673720930232557, 9.377380952380953, 10.117391304347827, 10.302222222222223, 10.328888888888889, 10.615217391304348, 9.993529411764706, 9.884615384615385], \"yaxis\": \"y\"}, {\"hovertemplate\": \"CADENA_PRODUCTIVA_ADR=YUCA<br>YEAR=%{x}<br>RENDIMIENTO=%{y}<extra></extra>\", \"legendgroup\": \"YUCA\", \"line\": {\"color\": \"#B6E880\", \"dash\": \"solid\"}, \"mode\": \"lines\", \"name\": \"YUCA\", \"showlegend\": true, \"type\": \"scattergl\", \"x\": [2007, 2008, 2009, 2010, 2011, 2012, 2013, 2014, 2015, 2016, 2017, 2018], \"xaxis\": \"x\", \"y\": [10.393823529411762, 10.17853223593964, 10.167269076305217, 10.666835937499997, 10.081828793774319, 10.466810126582281, 10.446411192214118, 10.300641975308647, 10.06946341463415, 10.591552346570401, 11.034867469879517, 11.09740384615384], \"yaxis\": \"y\"}, {\"hovertemplate\": \"CADENA_PRODUCTIVA_ADR=ZAPOTE<br>YEAR=%{x}<br>RENDIMIENTO=%{y}<extra></extra>\", \"legendgroup\": \"ZAPOTE\", \"line\": {\"color\": \"#FF97FF\", \"dash\": \"solid\"}, \"mode\": \"lines\", \"name\": \"ZAPOTE\", \"showlegend\": true, \"type\": \"scattergl\", \"x\": [2007, 2008, 2009, 2010, 2011, 2012, 2013, 2014, 2015, 2016, 2017, 2018], \"xaxis\": \"x\", \"y\": [12.195625000000001, 12.291304347826086, 11.194583333333334, 8.231818181818182, 7.9094999999999995, 7.9479999999999995, 8.833333333333334, 8.395652173913044, 9.814285714285713, 9.613636363636363, 7.214285714285714, 8.085454545454546], \"yaxis\": \"y\"}, {\"hovertemplate\": \"CADENA_PRODUCTIVA_ADR=\\u00d1AME<br>YEAR=%{x}<br>RENDIMIENTO=%{y}<extra></extra>\", \"legendgroup\": \"\\u00d1AME\", \"line\": {\"color\": \"#FECB52\", \"dash\": \"solid\"}, \"mode\": \"lines\", \"name\": \"\\u00d1AME\", \"showlegend\": true, \"type\": \"scattergl\", \"x\": [2007, 2008, 2009, 2010, 2011, 2012, 2013, 2014, 2015, 2016, 2017, 2018], \"xaxis\": \"x\", \"y\": [9.423260869565219, 9.034631578947367, 8.846372549019605, 9.28495652173913, 9.15822033898305, 8.54528846153846, 8.806268656716417, 8.414769230769231, 8.071615384615384, 9.05042857142857, 9.429066666666666, 9.477019867549666], \"yaxis\": \"y\"}, {\"hovertemplate\": \"CADENA_PRODUCTIVA_ADR=AGRAZ<br>YEAR=%{x}<br>RENDIMIENTO=%{y}<extra></extra>\", \"legendgroup\": \"AGRAZ\", \"line\": {\"color\": \"#636efa\", \"dash\": \"solid\"}, \"mode\": \"lines\", \"name\": \"AGRAZ\", \"showlegend\": true, \"type\": \"scattergl\", \"x\": [2008, 2009, 2010, 2011, 2012, 2013, 2014, 2015, 2016, 2017, 2018], \"xaxis\": \"x\", \"y\": [14.3, 14.28, 14.28, 7.0, 6.0, 2.8, 3.6666666666666665, 3.6666666666666665, 3.3333333333333335, 3.4166666666666665, 2.3333333333333335], \"yaxis\": \"y\"}, {\"hovertemplate\": \"CADENA_PRODUCTIVA_ADR=AGUAJE<br>YEAR=%{x}<br>RENDIMIENTO=%{y}<extra></extra>\", \"legendgroup\": \"AGUAJE\", \"line\": {\"color\": \"#EF553B\", \"dash\": \"solid\"}, \"mode\": \"lines\", \"name\": \"AGUAJE\", \"showlegend\": true, \"type\": \"scattergl\", \"x\": [2008, 2009, 2010, 2011, 2012, 2013, 2014, 2015, 2016], \"xaxis\": \"x\", \"y\": [30.165, 30.0, 5.9, 5.9, 5.9, 5.9, 5.9, 5.9, 5.95], \"yaxis\": \"y\"}, {\"hovertemplate\": \"CADENA_PRODUCTIVA_ADR=ALBAHACA<br>YEAR=%{x}<br>RENDIMIENTO=%{y}<extra></extra>\", \"legendgroup\": \"ALBAHACA\", \"line\": {\"color\": \"#00cc96\", \"dash\": \"solid\"}, \"mode\": \"lines\", \"name\": \"ALBAHACA\", \"showlegend\": true, \"type\": \"scattergl\", \"x\": [2008, 2009, 2010, 2011, 2012, 2013, 2014, 2015, 2016, 2017, 2018], \"xaxis\": \"x\", \"y\": [1.8333333333333333, 2.25875, 2.142857142857143, 1.7, 0.625, 2.566666666666667, 2.9466666666666668, 3.566666666666667, 1.95625, 3.292307692307692, 3.258461538461538], \"yaxis\": \"y\"}, {\"hovertemplate\": \"CADENA_PRODUCTIVA_ADR=ALCACHOFA<br>YEAR=%{x}<br>RENDIMIENTO=%{y}<extra></extra>\", \"legendgroup\": \"ALCACHOFA\", \"line\": {\"color\": \"#ab63fa\", \"dash\": \"solid\"}, \"mode\": \"lines\", \"name\": \"ALCACHOFA\", \"showlegend\": true, \"type\": \"scattergl\", \"x\": [2008], \"xaxis\": \"x\", \"y\": [10.77], \"yaxis\": \"y\"}, {\"hovertemplate\": \"CADENA_PRODUCTIVA_ADR=ASAI<br>YEAR=%{x}<br>RENDIMIENTO=%{y}<extra></extra>\", \"legendgroup\": \"ASAI\", \"line\": {\"color\": \"#FFA15A\", \"dash\": \"solid\"}, \"mode\": \"lines\", \"name\": \"ASAI\", \"showlegend\": true, \"type\": \"scattergl\", \"x\": [2008, 2009, 2010, 2011, 2012, 2013, 2014, 2015, 2016, 2017, 2018], \"xaxis\": \"x\", \"y\": [25.465, 3.615, 3.6, 5.45, 5.45, 5.4, 5.4, 5.4, 5.7, 4.0, 4.0], \"yaxis\": \"y\"}, {\"hovertemplate\": \"CADENA_PRODUCTIVA_ADR=BACURI<br>YEAR=%{x}<br>RENDIMIENTO=%{y}<extra></extra>\", \"legendgroup\": \"BACURI\", \"line\": {\"color\": \"#19d3f3\", \"dash\": \"solid\"}, \"mode\": \"lines\", \"name\": \"BACURI\", \"showlegend\": true, \"type\": \"scattergl\", \"x\": [2008], \"xaxis\": \"x\", \"y\": [4.0], \"yaxis\": \"y\"}, {\"hovertemplate\": \"CADENA_PRODUCTIVA_ADR=CANYARANA<br>YEAR=%{x}<br>RENDIMIENTO=%{y}<extra></extra>\", \"legendgroup\": \"CANYARANA\", \"line\": {\"color\": \"#FF6692\", \"dash\": \"solid\"}, \"mode\": \"lines\", \"name\": \"CANYARANA\", \"showlegend\": true, \"type\": \"scattergl\", \"x\": [2008], \"xaxis\": \"x\", \"y\": [12.5], \"yaxis\": \"y\"}, {\"hovertemplate\": \"CADENA_PRODUCTIVA_ADR=COCONA<br>YEAR=%{x}<br>RENDIMIENTO=%{y}<extra></extra>\", \"legendgroup\": \"COCONA\", \"line\": {\"color\": \"#B6E880\", \"dash\": \"solid\"}, \"mode\": \"lines\", \"name\": \"COCONA\", \"showlegend\": true, \"type\": \"scattergl\", \"x\": [2008, 2009, 2012, 2014, 2015, 2016], \"xaxis\": \"x\", \"y\": [3.0, 3.0, 1.0, 1.0, 1.2, 1.2], \"yaxis\": \"y\"}, {\"hovertemplate\": \"CADENA_PRODUCTIVA_ADR=COPOAZU<br>YEAR=%{x}<br>RENDIMIENTO=%{y}<extra></extra>\", \"legendgroup\": \"COPOAZU\", \"line\": {\"color\": \"#FF97FF\", \"dash\": \"solid\"}, \"mode\": \"lines\", \"name\": \"COPOAZU\", \"showlegend\": true, \"type\": \"scattergl\", \"x\": [2008, 2009, 2010, 2011, 2012, 2013, 2014, 2015, 2016, 2017, 2018], \"xaxis\": \"x\", \"y\": [4.3133333333333335, 2.8000000000000003, 2.8000000000000003, 2.766666666666667, 3.142857142857143, 2.7857142857142856, 2.685714285714286, 2.971428571428571, 6.5, 5.7, 5.7], \"yaxis\": \"y\"}, {\"hovertemplate\": \"CADENA_PRODUCTIVA_ADR=COROZO<br>YEAR=%{x}<br>RENDIMIENTO=%{y}<extra></extra>\", \"legendgroup\": \"COROZO\", \"line\": {\"color\": \"#FECB52\", \"dash\": \"solid\"}, \"mode\": \"lines\", \"name\": \"COROZO\", \"showlegend\": true, \"type\": \"scattergl\", \"x\": [2008, 2009, 2010, 2011, 2012, 2013], \"xaxis\": \"x\", \"y\": [2.6, 2.6, 1.6, 2.0, 1.6, 1.6], \"yaxis\": \"y\"}, {\"hovertemplate\": \"CADENA_PRODUCTIVA_ADR=ESPARTO<br>YEAR=%{x}<br>RENDIMIENTO=%{y}<extra></extra>\", \"legendgroup\": \"ESPARTO\", \"line\": {\"color\": \"#636efa\", \"dash\": \"solid\"}, \"mode\": \"lines\", \"name\": \"ESPARTO\", \"showlegend\": true, \"type\": \"scattergl\", \"x\": [2008], \"xaxis\": \"x\", \"y\": [1.11], \"yaxis\": \"y\"}, {\"hovertemplate\": \"CADENA_PRODUCTIVA_ADR=FLOR DE JAMAICA<br>YEAR=%{x}<br>RENDIMIENTO=%{y}<extra></extra>\", \"legendgroup\": \"FLOR DE JAMAICA\", \"line\": {\"color\": \"#EF553B\", \"dash\": \"solid\"}, \"mode\": \"lines\", \"name\": \"FLOR DE JAMAICA\", \"showlegend\": true, \"type\": \"scattergl\", \"x\": [2008, 2009, 2010, 2011, 2012, 2013, 2014, 2015, 2016], \"xaxis\": \"x\", \"y\": [0.29, 0.94, 0.32142857142857145, 0.35624999999999996, 0.5909090909090909, 0.5, 0.4, 0.53, 0.375], \"yaxis\": \"y\"}, {\"hovertemplate\": \"CADENA_PRODUCTIVA_ADR=GUAMA<br>YEAR=%{x}<br>RENDIMIENTO=%{y}<extra></extra>\", \"legendgroup\": \"GUAMA\", \"line\": {\"color\": \"#00cc96\", \"dash\": \"solid\"}, \"mode\": \"lines\", \"name\": \"GUAMA\", \"showlegend\": true, \"type\": \"scattergl\", \"x\": [2008, 2009, 2010, 2011, 2012, 2013, 2014, 2015, 2016, 2017, 2018], \"xaxis\": \"x\", \"y\": [2.473333333333333, 1.96, 2.8333333333333335, 3.9, 3.925, 1.4, 3.15, 3.15, 9.0, 9.0, 6.0], \"yaxis\": \"y\"}, {\"hovertemplate\": \"CADENA_PRODUCTIVA_ADR=HIGUERILLA<br>YEAR=%{x}<br>RENDIMIENTO=%{y}<extra></extra>\", \"legendgroup\": \"HIGUERILLA\", \"line\": {\"color\": \"#ab63fa\", \"dash\": \"solid\"}, \"mode\": \"lines\", \"name\": \"HIGUERILLA\", \"showlegend\": true, \"type\": \"scattergl\", \"x\": [2008, 2009, 2010, 2011, 2012, 2013, 2014, 2015, 2016], \"xaxis\": \"x\", \"y\": [3.9433333333333334, 4.15, 3.5, 2.6, 2.0, 2.0, 2.5, 2.75, 2.9333333333333336], \"yaxis\": \"y\"}, {\"hovertemplate\": \"CADENA_PRODUCTIVA_ADR=JATROPHA<br>YEAR=%{x}<br>RENDIMIENTO=%{y}<extra></extra>\", \"legendgroup\": \"JATROPHA\", \"line\": {\"color\": \"#FFA15A\", \"dash\": \"solid\"}, \"mode\": \"lines\", \"name\": \"JATROPHA\", \"showlegend\": true, \"type\": \"scattergl\", \"x\": [2008, 2010, 2011, 2012, 2014, 2015, 2016, 2017, 2018], \"xaxis\": \"x\", \"y\": [null, 0.3, 4.15, null, null, null, null, 2.0, 2.0], \"yaxis\": \"y\"}, {\"hovertemplate\": \"CADENA_PRODUCTIVA_ADR=LAUREL<br>YEAR=%{x}<br>RENDIMIENTO=%{y}<extra></extra>\", \"legendgroup\": \"LAUREL\", \"line\": {\"color\": \"#19d3f3\", \"dash\": \"solid\"}, \"mode\": \"lines\", \"name\": \"LAUREL\", \"showlegend\": true, \"type\": \"scattergl\", \"x\": [2008], \"xaxis\": \"x\", \"y\": [null], \"yaxis\": \"y\"}, {\"hovertemplate\": \"CADENA_PRODUCTIVA_ADR=LIMONARIA<br>YEAR=%{x}<br>RENDIMIENTO=%{y}<extra></extra>\", \"legendgroup\": \"LIMONARIA\", \"line\": {\"color\": \"#FF6692\", \"dash\": \"solid\"}, \"mode\": \"lines\", \"name\": \"LIMONARIA\", \"showlegend\": true, \"type\": \"scattergl\", \"x\": [2008, 2009, 2010, 2011, 2013, 2014, 2015, 2016, 2017, 2018], \"xaxis\": \"x\", \"y\": [2.5, 3.45, 3.0, 2.6999999999999997, 9.333333333333334, 9.135, 5.9, 3.6, 3.725, 3.6], \"yaxis\": \"y\"}, {\"hovertemplate\": \"CADENA_PRODUCTIVA_ADR=MENTA<br>YEAR=%{x}<br>RENDIMIENTO=%{y}<extra></extra>\", \"legendgroup\": \"MENTA\", \"line\": {\"color\": \"#B6E880\", \"dash\": \"solid\"}, \"mode\": \"lines\", \"name\": \"MENTA\", \"showlegend\": true, \"type\": \"scattergl\", \"x\": [2008, 2009, 2010, 2011, 2013, 2015, 2017, 2018], \"xaxis\": \"x\", \"y\": [null, 7.2, 3.6, 6.25, 11.0, 9.0, 9.0, 6.0], \"yaxis\": \"y\"}, {\"hovertemplate\": \"CADENA_PRODUCTIVA_ADR=ORQUIDEA<br>YEAR=%{x}<br>RENDIMIENTO=%{y}<extra></extra>\", \"legendgroup\": \"ORQUIDEA\", \"line\": {\"color\": \"#FF97FF\", \"dash\": \"solid\"}, \"mode\": \"lines\", \"name\": \"ORQUIDEA\", \"showlegend\": true, \"type\": \"scattergl\", \"x\": [2008, 2011], \"xaxis\": \"x\", \"y\": [1.5, 2.06], \"yaxis\": \"y\"}, {\"hovertemplate\": \"CADENA_PRODUCTIVA_ADR=PALMA ROBELINA<br>YEAR=%{x}<br>RENDIMIENTO=%{y}<extra></extra>\", \"legendgroup\": \"PALMA ROBELINA\", \"line\": {\"color\": \"#FECB52\", \"dash\": \"solid\"}, \"mode\": \"lines\", \"name\": \"PALMA ROBELINA\", \"showlegend\": true, \"type\": \"scattergl\", \"x\": [2008, 2009, 2010, 2011, 2016, 2017, 2018], \"xaxis\": \"x\", \"y\": [20.0, 20.0, 13.85, 15.42, 1.0, 1.0, 1.0], \"yaxis\": \"y\"}, {\"hovertemplate\": \"CADENA_PRODUCTIVA_ADR=PEPA DE PAN<br>YEAR=%{x}<br>RENDIMIENTO=%{y}<extra></extra>\", \"legendgroup\": \"PEPA DE PAN\", \"line\": {\"color\": \"#636efa\", \"dash\": \"solid\"}, \"mode\": \"lines\", \"name\": \"PEPA DE PAN\", \"showlegend\": true, \"type\": \"scattergl\", \"x\": [2008, 2010, 2011, 2012, 2013, 2014, 2015, 2016, 2017, 2018], \"xaxis\": \"x\", \"y\": [1.0, 3.75, 4.666666666666667, 6.4, 4.714285714285714, 5.0, 5.0, 4.666666666666667, 3.9285714285714284, 3.9285714285714284], \"yaxis\": \"y\"}, {\"hovertemplate\": \"CADENA_PRODUCTIVA_ADR=POMARROSA<br>YEAR=%{x}<br>RENDIMIENTO=%{y}<extra></extra>\", \"legendgroup\": \"POMARROSA\", \"line\": {\"color\": \"#EF553B\", \"dash\": \"solid\"}, \"mode\": \"lines\", \"name\": \"POMARROSA\", \"showlegend\": true, \"type\": \"scattergl\", \"x\": [2008], \"xaxis\": \"x\", \"y\": [7.67], \"yaxis\": \"y\"}, {\"hovertemplate\": \"CADENA_PRODUCTIVA_ADR=ROSA<br>YEAR=%{x}<br>RENDIMIENTO=%{y}<extra></extra>\", \"legendgroup\": \"ROSA\", \"line\": {\"color\": \"#00cc96\", \"dash\": \"solid\"}, \"mode\": \"lines\", \"name\": \"ROSA\", \"showlegend\": true, \"type\": \"scattergl\", \"x\": [2008, 2009, 2010, 2011, 2012, 2013, 2014, 2015, 2016, 2017, 2018], \"xaxis\": \"x\", \"y\": [13.0, 11.003333333333336, 10.856666666666667, 7.0, 15.98, 19.52857142857143, 19.45, 20.93875, 20.244285714285716, 23.071, 23.121000000000002], \"yaxis\": \"y\"}, {\"hovertemplate\": \"CADENA_PRODUCTIVA_ADR=RUSCUS<br>YEAR=%{x}<br>RENDIMIENTO=%{y}<extra></extra>\", \"legendgroup\": \"RUSCUS\", \"line\": {\"color\": \"#ab63fa\", \"dash\": \"solid\"}, \"mode\": \"lines\", \"name\": \"RUSCUS\", \"showlegend\": true, \"type\": \"scattergl\", \"x\": [2008, 2009, 2010, 2011, 2012, 2013, 2014, 2015, 2016, 2017, 2018], \"xaxis\": \"x\", \"y\": [20.0, 20.0, 17.625, 12.834, 12.5, 10.0, 10.0, 10.0, 10.0, 10.0, 10.0], \"yaxis\": \"y\"}, {\"hovertemplate\": \"CADENA_PRODUCTIVA_ADR=TANGARANA<br>YEAR=%{x}<br>RENDIMIENTO=%{y}<extra></extra>\", \"legendgroup\": \"TANGARANA\", \"line\": {\"color\": \"#FFA15A\", \"dash\": \"solid\"}, \"mode\": \"lines\", \"name\": \"TANGARANA\", \"showlegend\": true, \"type\": \"scattergl\", \"x\": [2008], \"xaxis\": \"x\", \"y\": [12.5], \"yaxis\": \"y\"}, {\"hovertemplate\": \"CADENA_PRODUCTIVA_ADR=TORONJA<br>YEAR=%{x}<br>RENDIMIENTO=%{y}<extra></extra>\", \"legendgroup\": \"TORONJA\", \"line\": {\"color\": \"#19d3f3\", \"dash\": \"solid\"}, \"mode\": \"lines\", \"name\": \"TORONJA\", \"showlegend\": true, \"type\": \"scattergl\", \"x\": [2008, 2009, 2010, 2011, 2013, 2014], \"xaxis\": \"x\", \"y\": [3.69, 4.29, 14.0, 10.0, 4.0, 4.0], \"yaxis\": \"y\"}, {\"hovertemplate\": \"CADENA_PRODUCTIVA_ADR=TREE FERN<br>YEAR=%{x}<br>RENDIMIENTO=%{y}<extra></extra>\", \"legendgroup\": \"TREE FERN\", \"line\": {\"color\": \"#FF6692\", \"dash\": \"solid\"}, \"mode\": \"lines\", \"name\": \"TREE FERN\", \"showlegend\": true, \"type\": \"scattergl\", \"x\": [2008, 2009, 2010], \"xaxis\": \"x\", \"y\": [20.0, 20.0, 18.75], \"yaxis\": \"y\"}, {\"hovertemplate\": \"CADENA_PRODUCTIVA_ADR=UMARI<br>YEAR=%{x}<br>RENDIMIENTO=%{y}<extra></extra>\", \"legendgroup\": \"UMARI\", \"line\": {\"color\": \"#B6E880\", \"dash\": \"solid\"}, \"mode\": \"lines\", \"name\": \"UMARI\", \"showlegend\": true, \"type\": \"scattergl\", \"x\": [2008, 2017, 2018], \"xaxis\": \"x\", \"y\": [3.75, 6.0, 6.0], \"yaxis\": \"y\"}, {\"hovertemplate\": \"CADENA_PRODUCTIVA_ADR=UVA CAIMARONA<br>YEAR=%{x}<br>RENDIMIENTO=%{y}<extra></extra>\", \"legendgroup\": \"UVA CAIMARONA\", \"line\": {\"color\": \"#FF97FF\", \"dash\": \"solid\"}, \"mode\": \"lines\", \"name\": \"UVA CAIMARONA\", \"showlegend\": true, \"type\": \"scattergl\", \"x\": [2008, 2009, 2010, 2011, 2012, 2013, 2014, 2015, 2016, 2017, 2018], \"xaxis\": \"x\", \"y\": [4.545, 2.9925, 3.3, 2.4, 1.9500000000000002, 0.65, 3.0, 3.0, 3.0, 1.09, 1.7], \"yaxis\": \"y\"}, {\"hovertemplate\": \"CADENA_PRODUCTIVA_ADR=CA\\u00d1A FLECHA<br>YEAR=%{x}<br>RENDIMIENTO=%{y}<extra></extra>\", \"legendgroup\": \"CA\\u00d1A FLECHA\", \"line\": {\"color\": \"#FECB52\", \"dash\": \"solid\"}, \"mode\": \"lines\", \"name\": \"CA\\u00d1A FLECHA\", \"showlegend\": true, \"type\": \"scattergl\", \"x\": [2009, 2010, 2011, 2012, 2013, 2014, 2015, 2016, 2017, 2018], \"xaxis\": \"x\", \"y\": [1.045, 0.56, 0.56, 3.5, 3.6666666666666665, 4.96, 3.5, 2.766666666666667, 2.4, 2.733333333333333], \"yaxis\": \"y\"}, {\"hovertemplate\": \"CADENA_PRODUCTIVA_ADR=CEBOLLIN<br>YEAR=%{x}<br>RENDIMIENTO=%{y}<extra></extra>\", \"legendgroup\": \"CEBOLLIN\", \"line\": {\"color\": \"#636efa\", \"dash\": \"solid\"}, \"mode\": \"lines\", \"name\": \"CEBOLLIN\", \"showlegend\": true, \"type\": \"scattergl\", \"x\": [2009, 2013, 2014, 2015, 2016, 2017, 2018], \"xaxis\": \"x\", \"y\": [null, 23.0, 23.333333333333332, 24.0, 50.0, 21.666666666666668, 28.0], \"yaxis\": \"y\"}, {\"hovertemplate\": \"CADENA_PRODUCTIVA_ADR=CENTENO<br>YEAR=%{x}<br>RENDIMIENTO=%{y}<extra></extra>\", \"legendgroup\": \"CENTENO\", \"line\": {\"color\": \"#EF553B\", \"dash\": \"solid\"}, \"mode\": \"lines\", \"name\": \"CENTENO\", \"showlegend\": true, \"type\": \"scattergl\", \"x\": [2009, 2010, 2013, 2014, 2015], \"xaxis\": \"x\", \"y\": [1.0, 1.0, 12.0, 14.0, 11.5], \"yaxis\": \"y\"}, {\"hovertemplate\": \"CADENA_PRODUCTIVA_ADR=ENELDO<br>YEAR=%{x}<br>RENDIMIENTO=%{y}<extra></extra>\", \"legendgroup\": \"ENELDO\", \"line\": {\"color\": \"#00cc96\", \"dash\": \"solid\"}, \"mode\": \"lines\", \"name\": \"ENELDO\", \"showlegend\": true, \"type\": \"scattergl\", \"x\": [2009, 2010, 2011], \"xaxis\": \"x\", \"y\": [2.8, 0.84, 0.67], \"yaxis\": \"y\"}, {\"hovertemplate\": \"CADENA_PRODUCTIVA_ADR=GUATILA<br>YEAR=%{x}<br>RENDIMIENTO=%{y}<extra></extra>\", \"legendgroup\": \"GUATILA\", \"line\": {\"color\": \"#ab63fa\", \"dash\": \"solid\"}, \"mode\": \"lines\", \"name\": \"GUATILA\", \"showlegend\": true, \"type\": \"scattergl\", \"x\": [2009, 2010, 2011, 2012, 2013, 2014, 2015, 2016, 2017, 2018], \"xaxis\": \"x\", \"y\": [11.0, 12.0, 12.5, 13.0, 14.333333333333334, 20.875, 11.375, 11.5, 13.5, 11.503333333333332], \"yaxis\": \"y\"}, {\"hovertemplate\": \"CADENA_PRODUCTIVA_ADR=NABO<br>YEAR=%{x}<br>RENDIMIENTO=%{y}<extra></extra>\", \"legendgroup\": \"NABO\", \"line\": {\"color\": \"#FFA15A\", \"dash\": \"solid\"}, \"mode\": \"lines\", \"name\": \"NABO\", \"showlegend\": true, \"type\": \"scattergl\", \"x\": [2009, 2014, 2016, 2017, 2018], \"xaxis\": \"x\", \"y\": [1.0, 15.0, 7.5, 6.5, 6.666666666666667], \"yaxis\": \"y\"}, {\"hovertemplate\": \"CADENA_PRODUCTIVA_ADR=OREGANO<br>YEAR=%{x}<br>RENDIMIENTO=%{y}<extra></extra>\", \"legendgroup\": \"OREGANO\", \"line\": {\"color\": \"#19d3f3\", \"dash\": \"solid\"}, \"mode\": \"lines\", \"name\": \"OREGANO\", \"showlegend\": true, \"type\": \"scattergl\", \"x\": [2009, 2010, 2011, 2017, 2018], \"xaxis\": \"x\", \"y\": [38.4, 0.55, 12.2, 4.333333333333333, 10.505], \"yaxis\": \"y\"}, {\"hovertemplate\": \"CADENA_PRODUCTIVA_ADR=POMELO<br>YEAR=%{x}<br>RENDIMIENTO=%{y}<extra></extra>\", \"legendgroup\": \"POMELO\", \"line\": {\"color\": \"#FF6692\", \"dash\": \"solid\"}, \"mode\": \"lines\", \"name\": \"POMELO\", \"showlegend\": true, \"type\": \"scattergl\", \"x\": [2009, 2010, 2011, 2012, 2013, 2014, 2015, 2016, 2017, 2018], \"xaxis\": \"x\", \"y\": [35.0, 20.5, 19.0, 35.0, 11.0, 10.0, 10.0, 12.5, 17.5, 17.5], \"yaxis\": \"y\"}, {\"hovertemplate\": \"CADENA_PRODUCTIVA_ADR=RUDA<br>YEAR=%{x}<br>RENDIMIENTO=%{y}<extra></extra>\", \"legendgroup\": \"RUDA\", \"line\": {\"color\": \"#B6E880\", \"dash\": \"solid\"}, \"mode\": \"lines\", \"name\": \"RUDA\", \"showlegend\": true, \"type\": \"scattergl\", \"x\": [2009, 2011, 2012, 2013, 2014, 2015, 2016, 2017, 2018], \"xaxis\": \"x\", \"y\": [4.8825, 6.0, 4.75, 12.0, 13.0, 7.5, 10.0, 10.0, 8.0], \"yaxis\": \"y\"}, {\"hovertemplate\": \"CADENA_PRODUCTIVA_ADR=VAINILLA<br>YEAR=%{x}<br>RENDIMIENTO=%{y}<extra></extra>\", \"legendgroup\": \"VAINILLA\", \"line\": {\"color\": \"#FF97FF\", \"dash\": \"solid\"}, \"mode\": \"lines\", \"name\": \"VAINILLA\", \"showlegend\": true, \"type\": \"scattergl\", \"x\": [2009, 2010, 2011, 2012, 2013], \"xaxis\": \"x\", \"y\": [null, null, null, null, null], \"yaxis\": \"y\"}, {\"hovertemplate\": \"CADENA_PRODUCTIVA_ADR=CAIMO<br>YEAR=%{x}<br>RENDIMIENTO=%{y}<extra></extra>\", \"legendgroup\": \"CAIMO\", \"line\": {\"color\": \"#FECB52\", \"dash\": \"solid\"}, \"mode\": \"lines\", \"name\": \"CAIMO\", \"showlegend\": true, \"type\": \"scattergl\", \"x\": [2010, 2017, 2018], \"xaxis\": \"x\", \"y\": [2.2, 1.0, 1.0], \"yaxis\": \"y\"}, {\"hovertemplate\": \"CADENA_PRODUCTIVA_ADR=NONI<br>YEAR=%{x}<br>RENDIMIENTO=%{y}<extra></extra>\", \"legendgroup\": \"NONI\", \"line\": {\"color\": \"#636efa\", \"dash\": \"solid\"}, \"mode\": \"lines\", \"name\": \"NONI\", \"showlegend\": true, \"type\": \"scattergl\", \"x\": [2010, 2012, 2013, 2017, 2018], \"xaxis\": \"x\", \"y\": [3.0, 2.0, 2.0, null, 10.0], \"yaxis\": \"y\"}, {\"hovertemplate\": \"CADENA_PRODUCTIVA_ADR=ORELLANA<br>YEAR=%{x}<br>RENDIMIENTO=%{y}<extra></extra>\", \"legendgroup\": \"ORELLANA\", \"line\": {\"color\": \"#EF553B\", \"dash\": \"solid\"}, \"mode\": \"lines\", \"name\": \"ORELLANA\", \"showlegend\": true, \"type\": \"scattergl\", \"x\": [2010, 2014, 2015, 2016], \"xaxis\": \"x\", \"y\": [null, 0.6, 1.0, 1.0], \"yaxis\": \"y\"}, {\"hovertemplate\": \"CADENA_PRODUCTIVA_ADR=CORDELINE CINTA<br>YEAR=%{x}<br>RENDIMIENTO=%{y}<extra></extra>\", \"legendgroup\": \"CORDELINE CINTA\", \"line\": {\"color\": \"#00cc96\", \"dash\": \"solid\"}, \"mode\": \"lines\", \"name\": \"CORDELINE CINTA\", \"showlegend\": true, \"type\": \"scattergl\", \"x\": [2011, 2012], \"xaxis\": \"x\", \"y\": [25.0, 25.0], \"yaxis\": \"y\"}, {\"hovertemplate\": \"CADENA_PRODUCTIVA_ADR=FITOSPORUM<br>YEAR=%{x}<br>RENDIMIENTO=%{y}<extra></extra>\", \"legendgroup\": \"FITOSPORUM\", \"line\": {\"color\": \"#ab63fa\", \"dash\": \"solid\"}, \"mode\": \"lines\", \"name\": \"FITOSPORUM\", \"showlegend\": true, \"type\": \"scattergl\", \"x\": [2011, 2016, 2017, 2018], \"xaxis\": \"x\", \"y\": [4.0, 1.0, 1.0, 1.0], \"yaxis\": \"y\"}, {\"hovertemplate\": \"CADENA_PRODUCTIVA_ADR=ANIS<br>YEAR=%{x}<br>RENDIMIENTO=%{y}<extra></extra>\", \"legendgroup\": \"ANIS\", \"line\": {\"color\": \"#FFA15A\", \"dash\": \"solid\"}, \"mode\": \"lines\", \"name\": \"ANIS\", \"showlegend\": true, \"type\": \"scattergl\", \"x\": [2012, 2013], \"xaxis\": \"x\", \"y\": [2.0, 2.0], \"yaxis\": \"y\"}, {\"hovertemplate\": \"CADENA_PRODUCTIVA_ADR=ARANDANO<br>YEAR=%{x}<br>RENDIMIENTO=%{y}<extra></extra>\", \"legendgroup\": \"ARANDANO\", \"line\": {\"color\": \"#19d3f3\", \"dash\": \"solid\"}, \"mode\": \"lines\", \"name\": \"ARANDANO\", \"showlegend\": true, \"type\": \"scattergl\", \"x\": [2012, 2013, 2014, 2015, 2016, 2017, 2018], \"xaxis\": \"x\", \"y\": [2.0, null, null, 5.0, 8.0, 9.6, 9.5], \"yaxis\": \"y\"}, {\"hovertemplate\": \"CADENA_PRODUCTIVA_ADR=CALENDULA<br>YEAR=%{x}<br>RENDIMIENTO=%{y}<extra></extra>\", \"legendgroup\": \"CALENDULA\", \"line\": {\"color\": \"#FF6692\", \"dash\": \"solid\"}, \"mode\": \"lines\", \"name\": \"CALENDULA\", \"showlegend\": true, \"type\": \"scattergl\", \"x\": [2012], \"xaxis\": \"x\", \"y\": [0.36], \"yaxis\": \"y\"}, {\"hovertemplate\": \"CADENA_PRODUCTIVA_ADR=MAMEY<br>YEAR=%{x}<br>RENDIMIENTO=%{y}<extra></extra>\", \"legendgroup\": \"MAMEY\", \"line\": {\"color\": \"#B6E880\", \"dash\": \"solid\"}, \"mode\": \"lines\", \"name\": \"MAMEY\", \"showlegend\": true, \"type\": \"scattergl\", \"x\": [2012, 2013, 2014, 2015, 2016], \"xaxis\": \"x\", \"y\": [null, 6.0, 6.0, 4.5, 4.5], \"yaxis\": \"y\"}, {\"hovertemplate\": \"CADENA_PRODUCTIVA_ADR=PALMA AMARGA<br>YEAR=%{x}<br>RENDIMIENTO=%{y}<extra></extra>\", \"legendgroup\": \"PALMA AMARGA\", \"line\": {\"color\": \"#FF97FF\", \"dash\": \"solid\"}, \"mode\": \"lines\", \"name\": \"PALMA AMARGA\", \"showlegend\": true, \"type\": \"scattergl\", \"x\": [2012, 2013, 2014, 2015, 2016, 2017, 2018], \"xaxis\": \"x\", \"y\": [null, 14.0, 14.0, 14.0, 14.0, 14.0, 14.0], \"yaxis\": \"y\"}, {\"hovertemplate\": \"CADENA_PRODUCTIVA_ADR=YACON<br>YEAR=%{x}<br>RENDIMIENTO=%{y}<extra></extra>\", \"legendgroup\": \"YACON\", \"line\": {\"color\": \"#FECB52\", \"dash\": \"solid\"}, \"mode\": \"lines\", \"name\": \"YACON\", \"showlegend\": true, \"type\": \"scattergl\", \"x\": [2012, 2013, 2014, 2015, 2016], \"xaxis\": \"x\", \"y\": [20.0, 18.0, 20.966666666666665, 17.681818181818183, 20.0], \"yaxis\": \"y\"}, {\"hovertemplate\": \"CADENA_PRODUCTIVA_ADR=ALGARROBO<br>YEAR=%{x}<br>RENDIMIENTO=%{y}<extra></extra>\", \"legendgroup\": \"ALGARROBO\", \"line\": {\"color\": \"#636efa\", \"dash\": \"solid\"}, \"mode\": \"lines\", \"name\": \"ALGARROBO\", \"showlegend\": true, \"type\": \"scattergl\", \"x\": [2013, 2014, 2015], \"xaxis\": \"x\", \"y\": [6.0, 5.5, 5.5], \"yaxis\": \"y\"}, {\"hovertemplate\": \"CADENA_PRODUCTIVA_ADR=CHAMPI\\u00d1ON<br>YEAR=%{x}<br>RENDIMIENTO=%{y}<extra></extra>\", \"legendgroup\": \"CHAMPI\\u00d1ON\", \"line\": {\"color\": \"#EF553B\", \"dash\": \"solid\"}, \"mode\": \"lines\", \"name\": \"CHAMPI\\u00d1ON\", \"showlegend\": true, \"type\": \"scattergl\", \"x\": [2013, 2014, 2015, 2016, 2017, 2018], \"xaxis\": \"x\", \"y\": [60.0, 60.0, 60.0, 21.333333333333332, 22.666666666666668, 32.0], \"yaxis\": \"y\"}, {\"hovertemplate\": \"CADENA_PRODUCTIVA_ADR=MIMBRE<br>YEAR=%{x}<br>RENDIMIENTO=%{y}<extra></extra>\", \"legendgroup\": \"MIMBRE\", \"line\": {\"color\": \"#00cc96\", \"dash\": \"solid\"}, \"mode\": \"lines\", \"name\": \"MIMBRE\", \"showlegend\": true, \"type\": \"scattergl\", \"x\": [2013, 2014, 2015, 2016, 2017, 2018], \"xaxis\": \"x\", \"y\": [4.9, 4.95, 4.7, 4.9, 4.9, 4.9], \"yaxis\": \"y\"}, {\"hovertemplate\": \"CADENA_PRODUCTIVA_ADR=POLEO<br>YEAR=%{x}<br>RENDIMIENTO=%{y}<extra></extra>\", \"legendgroup\": \"POLEO\", \"line\": {\"color\": \"#ab63fa\", \"dash\": \"solid\"}, \"mode\": \"lines\", \"name\": \"POLEO\", \"showlegend\": true, \"type\": \"scattergl\", \"x\": [2013, 2014, 2015, 2016, 2017, 2018], \"xaxis\": \"x\", \"y\": [1.0, 1.0, 1.0, 1.0, 1.0, 1.02], \"yaxis\": \"y\"}, {\"hovertemplate\": \"CADENA_PRODUCTIVA_ADR=BORE<br>YEAR=%{x}<br>RENDIMIENTO=%{y}<extra></extra>\", \"legendgroup\": \"BORE\", \"line\": {\"color\": \"#FFA15A\", \"dash\": \"solid\"}, \"mode\": \"lines\", \"name\": \"BORE\", \"showlegend\": true, \"type\": \"scattergl\", \"x\": [2014], \"xaxis\": \"x\", \"y\": [1.0], \"yaxis\": \"y\"}, {\"hovertemplate\": \"CADENA_PRODUCTIVA_ADR=HIERBABUENA<br>YEAR=%{x}<br>RENDIMIENTO=%{y}<extra></extra>\", \"legendgroup\": \"HIERBABUENA\", \"line\": {\"color\": \"#19d3f3\", \"dash\": \"solid\"}, \"mode\": \"lines\", \"name\": \"HIERBABUENA\", \"showlegend\": true, \"type\": \"scattergl\", \"x\": [2014, 2015], \"xaxis\": \"x\", \"y\": [8.0, 8.0], \"yaxis\": \"y\"}, {\"hovertemplate\": \"CADENA_PRODUCTIVA_ADR=LENTEJA<br>YEAR=%{x}<br>RENDIMIENTO=%{y}<extra></extra>\", \"legendgroup\": \"LENTEJA\", \"line\": {\"color\": \"#FF6692\", \"dash\": \"solid\"}, \"mode\": \"lines\", \"name\": \"LENTEJA\", \"showlegend\": true, \"type\": \"scattergl\", \"x\": [2014, 2015], \"xaxis\": \"x\", \"y\": [0.5, 2.0], \"yaxis\": \"y\"}, {\"hovertemplate\": \"CADENA_PRODUCTIVA_ADR=RAMBUTAN<br>YEAR=%{x}<br>RENDIMIENTO=%{y}<extra></extra>\", \"legendgroup\": \"RAMBUTAN\", \"line\": {\"color\": \"#B6E880\", \"dash\": \"solid\"}, \"mode\": \"lines\", \"name\": \"RAMBUTAN\", \"showlegend\": true, \"type\": \"scattergl\", \"x\": [2014, 2015, 2016], \"xaxis\": \"x\", \"y\": [null, 4.0, 2.5], \"yaxis\": \"y\"}, {\"hovertemplate\": \"CADENA_PRODUCTIVA_ADR=AMARANTO<br>YEAR=%{x}<br>RENDIMIENTO=%{y}<extra></extra>\", \"legendgroup\": \"AMARANTO\", \"line\": {\"color\": \"#FF97FF\", \"dash\": \"solid\"}, \"mode\": \"lines\", \"name\": \"AMARANTO\", \"showlegend\": true, \"type\": \"scattergl\", \"x\": [2015, 2016, 2017, 2018], \"xaxis\": \"x\", \"y\": [0.95, 1.4, 1.1, 1.0], \"yaxis\": \"y\"}, {\"hovertemplate\": \"CADENA_PRODUCTIVA_ADR=CHIA<br>YEAR=%{x}<br>RENDIMIENTO=%{y}<extra></extra>\", \"legendgroup\": \"CHIA\", \"line\": {\"color\": \"#FECB52\", \"dash\": \"solid\"}, \"mode\": \"lines\", \"name\": \"CHIA\", \"showlegend\": true, \"type\": \"scattergl\", \"x\": [2015, 2016, 2017, 2018], \"xaxis\": \"x\", \"y\": [2.5, 1.8, 0.9, 1.0], \"yaxis\": \"y\"}, {\"hovertemplate\": \"CADENA_PRODUCTIVA_ADR=MORINGA<br>YEAR=%{x}<br>RENDIMIENTO=%{y}<extra></extra>\", \"legendgroup\": \"MORINGA\", \"line\": {\"color\": \"#636efa\", \"dash\": \"solid\"}, \"mode\": \"lines\", \"name\": \"MORINGA\", \"showlegend\": true, \"type\": \"scattergl\", \"x\": [2015], \"xaxis\": \"x\", \"y\": [null], \"yaxis\": \"y\"}, {\"hovertemplate\": \"CADENA_PRODUCTIVA_ADR=COCCULUS<br>YEAR=%{x}<br>RENDIMIENTO=%{y}<extra></extra>\", \"legendgroup\": \"COCCULUS\", \"line\": {\"color\": \"#EF553B\", \"dash\": \"solid\"}, \"mode\": \"lines\", \"name\": \"COCCULUS\", \"showlegend\": true, \"type\": \"scattergl\", \"x\": [2017, 2018], \"xaxis\": \"x\", \"y\": [5.0, 5.0], \"yaxis\": \"y\"}, {\"hovertemplate\": \"CADENA_PRODUCTIVA_ADR=FLOR DE SAFARI<br>YEAR=%{x}<br>RENDIMIENTO=%{y}<extra></extra>\", \"legendgroup\": \"FLOR DE SAFARI\", \"line\": {\"color\": \"#00cc96\", \"dash\": \"solid\"}, \"mode\": \"lines\", \"name\": \"FLOR DE SAFARI\", \"showlegend\": true, \"type\": \"scattergl\", \"x\": [2017, 2018], \"xaxis\": \"x\", \"y\": [1.0, 1.0], \"yaxis\": \"y\"}, {\"hovertemplate\": \"CADENA_PRODUCTIVA_ADR=LIMONIUM<br>YEAR=%{x}<br>RENDIMIENTO=%{y}<extra></extra>\", \"legendgroup\": \"LIMONIUM\", \"line\": {\"color\": \"#ab63fa\", \"dash\": \"solid\"}, \"mode\": \"lines\", \"name\": \"LIMONIUM\", \"showlegend\": true, \"type\": \"scattergl\", \"x\": [2017, 2018], \"xaxis\": \"x\", \"y\": [1.0, 1.0], \"yaxis\": \"y\"}, {\"hovertemplate\": \"CADENA_PRODUCTIVA_ADR=PROTEA<br>YEAR=%{x}<br>RENDIMIENTO=%{y}<extra></extra>\", \"legendgroup\": \"PROTEA\", \"line\": {\"color\": \"#FFA15A\", \"dash\": \"solid\"}, \"mode\": \"lines\", \"name\": \"PROTEA\", \"showlegend\": true, \"type\": \"scattergl\", \"x\": [2017, 2018], \"xaxis\": \"x\", \"y\": [1.0, 1.0], \"yaxis\": \"y\"}, {\"hovertemplate\": \"CADENA_PRODUCTIVA_ADR=STATICE<br>YEAR=%{x}<br>RENDIMIENTO=%{y}<extra></extra>\", \"legendgroup\": \"STATICE\", \"line\": {\"color\": \"#19d3f3\", \"dash\": \"solid\"}, \"mode\": \"lines\", \"name\": \"STATICE\", \"showlegend\": true, \"type\": \"scattergl\", \"x\": [2017, 2018], \"xaxis\": \"x\", \"y\": [1.0, 1.0], \"yaxis\": \"y\"}],\n",
       "                        {\"legend\": {\"title\": {\"text\": \"CADENA_PRODUCTIVA_ADR\"}, \"tracegroupgap\": 0}, \"template\": {\"data\": {\"bar\": [{\"error_x\": {\"color\": \"#2a3f5f\"}, \"error_y\": {\"color\": \"#2a3f5f\"}, \"marker\": {\"line\": {\"color\": \"#E5ECF6\", \"width\": 0.5}}, \"type\": \"bar\"}], \"barpolar\": [{\"marker\": {\"line\": {\"color\": \"#E5ECF6\", \"width\": 0.5}}, \"type\": \"barpolar\"}], \"carpet\": [{\"aaxis\": {\"endlinecolor\": \"#2a3f5f\", \"gridcolor\": \"white\", \"linecolor\": \"white\", \"minorgridcolor\": \"white\", \"startlinecolor\": \"#2a3f5f\"}, \"baxis\": {\"endlinecolor\": \"#2a3f5f\", \"gridcolor\": \"white\", \"linecolor\": \"white\", \"minorgridcolor\": \"white\", \"startlinecolor\": \"#2a3f5f\"}, \"type\": \"carpet\"}], \"choropleth\": [{\"colorbar\": {\"outlinewidth\": 0, \"ticks\": \"\"}, \"type\": \"choropleth\"}], \"contour\": [{\"colorbar\": {\"outlinewidth\": 0, \"ticks\": \"\"}, \"colorscale\": [[0.0, \"#0d0887\"], [0.1111111111111111, \"#46039f\"], [0.2222222222222222, \"#7201a8\"], [0.3333333333333333, \"#9c179e\"], [0.4444444444444444, \"#bd3786\"], [0.5555555555555556, \"#d8576b\"], [0.6666666666666666, \"#ed7953\"], [0.7777777777777778, \"#fb9f3a\"], [0.8888888888888888, \"#fdca26\"], [1.0, \"#f0f921\"]], \"type\": \"contour\"}], \"contourcarpet\": [{\"colorbar\": {\"outlinewidth\": 0, \"ticks\": \"\"}, \"type\": \"contourcarpet\"}], \"heatmap\": [{\"colorbar\": {\"outlinewidth\": 0, \"ticks\": \"\"}, \"colorscale\": [[0.0, \"#0d0887\"], [0.1111111111111111, \"#46039f\"], [0.2222222222222222, \"#7201a8\"], [0.3333333333333333, \"#9c179e\"], [0.4444444444444444, \"#bd3786\"], [0.5555555555555556, \"#d8576b\"], [0.6666666666666666, \"#ed7953\"], [0.7777777777777778, \"#fb9f3a\"], [0.8888888888888888, \"#fdca26\"], [1.0, \"#f0f921\"]], \"type\": \"heatmap\"}], \"heatmapgl\": [{\"colorbar\": {\"outlinewidth\": 0, \"ticks\": \"\"}, \"colorscale\": [[0.0, \"#0d0887\"], [0.1111111111111111, \"#46039f\"], [0.2222222222222222, \"#7201a8\"], [0.3333333333333333, \"#9c179e\"], [0.4444444444444444, \"#bd3786\"], [0.5555555555555556, \"#d8576b\"], [0.6666666666666666, \"#ed7953\"], [0.7777777777777778, \"#fb9f3a\"], [0.8888888888888888, \"#fdca26\"], [1.0, \"#f0f921\"]], \"type\": \"heatmapgl\"}], \"histogram\": [{\"marker\": {\"colorbar\": {\"outlinewidth\": 0, \"ticks\": \"\"}}, \"type\": \"histogram\"}], \"histogram2d\": [{\"colorbar\": {\"outlinewidth\": 0, \"ticks\": \"\"}, \"colorscale\": [[0.0, \"#0d0887\"], [0.1111111111111111, \"#46039f\"], [0.2222222222222222, \"#7201a8\"], [0.3333333333333333, \"#9c179e\"], [0.4444444444444444, \"#bd3786\"], [0.5555555555555556, \"#d8576b\"], [0.6666666666666666, \"#ed7953\"], [0.7777777777777778, \"#fb9f3a\"], [0.8888888888888888, \"#fdca26\"], [1.0, \"#f0f921\"]], \"type\": \"histogram2d\"}], \"histogram2dcontour\": [{\"colorbar\": {\"outlinewidth\": 0, \"ticks\": \"\"}, \"colorscale\": [[0.0, \"#0d0887\"], [0.1111111111111111, \"#46039f\"], [0.2222222222222222, \"#7201a8\"], [0.3333333333333333, \"#9c179e\"], [0.4444444444444444, \"#bd3786\"], [0.5555555555555556, \"#d8576b\"], [0.6666666666666666, \"#ed7953\"], [0.7777777777777778, \"#fb9f3a\"], [0.8888888888888888, \"#fdca26\"], [1.0, \"#f0f921\"]], \"type\": \"histogram2dcontour\"}], \"mesh3d\": [{\"colorbar\": {\"outlinewidth\": 0, \"ticks\": \"\"}, \"type\": \"mesh3d\"}], \"parcoords\": [{\"line\": {\"colorbar\": {\"outlinewidth\": 0, \"ticks\": \"\"}}, \"type\": \"parcoords\"}], \"pie\": [{\"automargin\": true, \"type\": \"pie\"}], \"scatter\": [{\"marker\": {\"colorbar\": {\"outlinewidth\": 0, \"ticks\": \"\"}}, \"type\": \"scatter\"}], \"scatter3d\": [{\"line\": {\"colorbar\": {\"outlinewidth\": 0, \"ticks\": \"\"}}, \"marker\": {\"colorbar\": {\"outlinewidth\": 0, \"ticks\": \"\"}}, \"type\": \"scatter3d\"}], \"scattercarpet\": [{\"marker\": {\"colorbar\": {\"outlinewidth\": 0, \"ticks\": \"\"}}, \"type\": \"scattercarpet\"}], \"scattergeo\": [{\"marker\": {\"colorbar\": {\"outlinewidth\": 0, \"ticks\": \"\"}}, \"type\": \"scattergeo\"}], \"scattergl\": [{\"marker\": {\"colorbar\": {\"outlinewidth\": 0, \"ticks\": \"\"}}, \"type\": \"scattergl\"}], \"scattermapbox\": [{\"marker\": {\"colorbar\": {\"outlinewidth\": 0, \"ticks\": \"\"}}, \"type\": \"scattermapbox\"}], \"scatterpolar\": [{\"marker\": {\"colorbar\": {\"outlinewidth\": 0, \"ticks\": \"\"}}, \"type\": \"scatterpolar\"}], \"scatterpolargl\": [{\"marker\": {\"colorbar\": {\"outlinewidth\": 0, \"ticks\": \"\"}}, \"type\": \"scatterpolargl\"}], \"scatterternary\": [{\"marker\": {\"colorbar\": {\"outlinewidth\": 0, \"ticks\": \"\"}}, \"type\": \"scatterternary\"}], \"surface\": [{\"colorbar\": {\"outlinewidth\": 0, \"ticks\": \"\"}, \"colorscale\": [[0.0, \"#0d0887\"], [0.1111111111111111, \"#46039f\"], [0.2222222222222222, \"#7201a8\"], [0.3333333333333333, \"#9c179e\"], [0.4444444444444444, \"#bd3786\"], [0.5555555555555556, \"#d8576b\"], [0.6666666666666666, \"#ed7953\"], [0.7777777777777778, \"#fb9f3a\"], [0.8888888888888888, \"#fdca26\"], [1.0, \"#f0f921\"]], \"type\": \"surface\"}], \"table\": [{\"cells\": {\"fill\": {\"color\": \"#EBF0F8\"}, \"line\": {\"color\": \"white\"}}, \"header\": {\"fill\": {\"color\": \"#C8D4E3\"}, \"line\": {\"color\": \"white\"}}, \"type\": \"table\"}]}, \"layout\": {\"annotationdefaults\": {\"arrowcolor\": \"#2a3f5f\", \"arrowhead\": 0, \"arrowwidth\": 1}, \"coloraxis\": {\"colorbar\": {\"outlinewidth\": 0, \"ticks\": \"\"}}, \"colorscale\": {\"diverging\": [[0, \"#8e0152\"], [0.1, \"#c51b7d\"], [0.2, \"#de77ae\"], [0.3, \"#f1b6da\"], [0.4, \"#fde0ef\"], [0.5, \"#f7f7f7\"], [0.6, \"#e6f5d0\"], [0.7, \"#b8e186\"], [0.8, \"#7fbc41\"], [0.9, \"#4d9221\"], [1, \"#276419\"]], \"sequential\": [[0.0, \"#0d0887\"], [0.1111111111111111, \"#46039f\"], [0.2222222222222222, \"#7201a8\"], [0.3333333333333333, \"#9c179e\"], [0.4444444444444444, \"#bd3786\"], [0.5555555555555556, \"#d8576b\"], [0.6666666666666666, \"#ed7953\"], [0.7777777777777778, \"#fb9f3a\"], [0.8888888888888888, \"#fdca26\"], [1.0, \"#f0f921\"]], \"sequentialminus\": [[0.0, \"#0d0887\"], [0.1111111111111111, \"#46039f\"], [0.2222222222222222, \"#7201a8\"], [0.3333333333333333, \"#9c179e\"], [0.4444444444444444, \"#bd3786\"], [0.5555555555555556, \"#d8576b\"], [0.6666666666666666, \"#ed7953\"], [0.7777777777777778, \"#fb9f3a\"], [0.8888888888888888, \"#fdca26\"], [1.0, \"#f0f921\"]]}, \"colorway\": [\"#636efa\", \"#EF553B\", \"#00cc96\", \"#ab63fa\", \"#FFA15A\", \"#19d3f3\", \"#FF6692\", \"#B6E880\", \"#FF97FF\", \"#FECB52\"], \"font\": {\"color\": \"#2a3f5f\"}, \"geo\": {\"bgcolor\": \"white\", \"lakecolor\": \"white\", \"landcolor\": \"#E5ECF6\", \"showlakes\": true, \"showland\": true, \"subunitcolor\": \"white\"}, \"hoverlabel\": {\"align\": \"left\"}, \"hovermode\": \"closest\", \"mapbox\": {\"style\": \"light\"}, \"paper_bgcolor\": \"white\", \"plot_bgcolor\": \"#E5ECF6\", \"polar\": {\"angularaxis\": {\"gridcolor\": \"white\", \"linecolor\": \"white\", \"ticks\": \"\"}, \"bgcolor\": \"#E5ECF6\", \"radialaxis\": {\"gridcolor\": \"white\", \"linecolor\": \"white\", \"ticks\": \"\"}}, \"scene\": {\"xaxis\": {\"backgroundcolor\": \"#E5ECF6\", \"gridcolor\": \"white\", \"gridwidth\": 2, \"linecolor\": \"white\", \"showbackground\": true, \"ticks\": \"\", \"zerolinecolor\": \"white\"}, \"yaxis\": {\"backgroundcolor\": \"#E5ECF6\", \"gridcolor\": \"white\", \"gridwidth\": 2, \"linecolor\": \"white\", \"showbackground\": true, \"ticks\": \"\", \"zerolinecolor\": \"white\"}, \"zaxis\": {\"backgroundcolor\": \"#E5ECF6\", \"gridcolor\": \"white\", \"gridwidth\": 2, \"linecolor\": \"white\", \"showbackground\": true, \"ticks\": \"\", \"zerolinecolor\": \"white\"}}, \"shapedefaults\": {\"line\": {\"color\": \"#2a3f5f\"}}, \"ternary\": {\"aaxis\": {\"gridcolor\": \"white\", \"linecolor\": \"white\", \"ticks\": \"\"}, \"baxis\": {\"gridcolor\": \"white\", \"linecolor\": \"white\", \"ticks\": \"\"}, \"bgcolor\": \"#E5ECF6\", \"caxis\": {\"gridcolor\": \"white\", \"linecolor\": \"white\", \"ticks\": \"\"}}, \"title\": {\"x\": 0.05}, \"xaxis\": {\"automargin\": true, \"gridcolor\": \"white\", \"linecolor\": \"white\", \"ticks\": \"\", \"title\": {\"standoff\": 15}, \"zerolinecolor\": \"white\", \"zerolinewidth\": 2}, \"yaxis\": {\"automargin\": true, \"gridcolor\": \"white\", \"linecolor\": \"white\", \"ticks\": \"\", \"title\": {\"standoff\": 15}, \"zerolinecolor\": \"white\", \"zerolinewidth\": 2}}}, \"title\": {\"text\": \"Life expectancy in Canada\"}, \"xaxis\": {\"anchor\": \"y\", \"domain\": [0.0, 1.0], \"title\": {\"text\": \"YEAR\"}}, \"yaxis\": {\"anchor\": \"x\", \"domain\": [0.0, 1.0], \"title\": {\"text\": \"RENDIMIENTO\"}}},\n",
       "                        {\"responsive\": true}\n",
       "                    ).then(function(){\n",
       "                            \n",
       "var gd = document.getElementById('9d58d873-9beb-4469-8b33-9cec1ae95e71');\n",
       "var x = new MutationObserver(function (mutations, observer) {{\n",
       "        var display = window.getComputedStyle(gd).display;\n",
       "        if (!display || display === 'none') {{\n",
       "            console.log([gd, 'removed!']);\n",
       "            Plotly.purge(gd);\n",
       "            observer.disconnect();\n",
       "        }}\n",
       "}});\n",
       "\n",
       "// Listen for the removal of the full notebook cells\n",
       "var notebookContainer = gd.closest('#notebook-container');\n",
       "if (notebookContainer) {{\n",
       "    x.observe(notebookContainer, {childList: true});\n",
       "}}\n",
       "\n",
       "// Listen for the clearing of the current output cell\n",
       "var outputEl = gd.closest('.output');\n",
       "if (outputEl) {{\n",
       "    x.observe(outputEl, {childList: true});\n",
       "}}\n",
       "\n",
       "                        })\n",
       "                };\n",
       "                });\n",
       "            </script>\n",
       "        </div>"
      ]
     },
     "metadata": {},
     "output_type": "display_data"
    }
   ],
   "source": [
    "EVA3 = EVA.groupby(['YEAR','CADENA_PRODUCTIVA_ADR'])[['RENDIMIENTO']].mean().reset_index()\n",
    "fig = px.line(EVA3, x='YEAR', y='RENDIMIENTO', color='CADENA_PRODUCTIVA_ADR', title='Life expectancy in Canada')\n",
    "fig.show()"
   ]
  },
  {
   "cell_type": "code",
   "execution_count": 106,
   "metadata": {},
   "outputs": [
    {
     "name": "stdout",
     "output_type": "stream",
     "text": [
      "[[-0.11509986  1.2679382   0.62795341]\n",
      " [-0.34604649 -0.51050411 -0.48596355]\n",
      " [ 3.20795859 -0.77574547 -0.9766291 ]\n",
      " [ 0.42581157  1.36948146  2.23338294]]\n"
     ]
    },
    {
     "data": {
      "application/vnd.plotly.v1+json": {
       "config": {
        "plotlyServerURL": "https://plot.ly"
       },
       "data": [
        {
         "hovertemplate": "RENDIMIENTO=%{x}<br>Valor total cofinanciación ADR=%{y}<br>y_km=%{marker.color}<extra></extra>",
         "legendgroup": "",
         "marker": {
          "color": [
           1,
           1,
           1,
           1,
           1,
           1,
           1,
           2,
           2,
           2,
           0,
           2,
           2,
           0,
           1,
           1,
           1,
           0,
           1,
           1,
           1,
           1,
           0,
           1,
           1,
           0,
           1,
           1,
           0,
           1,
           1,
           0,
           0,
           0,
           0,
           1,
           1,
           1,
           1,
           1,
           1,
           1,
           1,
           1,
           0,
           3,
           1,
           1,
           1,
           1,
           0,
           0,
           1,
           1,
           1,
           1,
           3,
           1,
           1,
           0,
           0,
           1,
           1,
           1,
           1,
           1,
           1,
           1,
           1,
           1,
           1,
           1,
           1,
           1,
           1,
           3,
           3,
           3,
           3,
           0,
           0,
           0,
           1
          ],
          "coloraxis": "coloraxis",
          "symbol": "circle"
         },
         "mode": "markers",
         "name": "",
         "orientation": "v",
         "showlegend": false,
         "type": "scatter",
         "x": [
          -0.0655274707290652,
          -0.7542459039877666,
          -0.7358016383830404,
          -0.6648077561314766,
          -0.74778771448552,
          -0.0655274707290652,
          -0.0655274707290652,
          3.207958591034879,
          3.207958591034879,
          3.207958591034879,
          0.8216803487694292,
          3.207958591034879,
          3.207958591034879,
          -0.8127801044242017,
          -0.0655274707290652,
          -0.0655274707290652,
          -0.7168482381366582,
          0.05616605154177965,
          -0.8577215665526522,
          0.11491884298548244,
          -0.8577215665526522,
          -0.7156464292919446,
          0.32515799632799225,
          -0.7156464292919446,
          -0.7156464292919446,
          0.32515799632799225,
          -0.8577215665526522,
          -0.8577215665526522,
          -0.06663430693366137,
          -0.7156464292919446,
          -0.7156464292919446,
          -0.0468959682892986,
          -0.7859827207299337,
          0.4121334385004367,
          0.4121334385004367,
          -0.0655274707290652,
          -0.0655274707290652,
          -0.0655274707290652,
          -0.0655274707290652,
          -0.7156464292919446,
          0.11491884298548244,
          0.9290511224850995,
          -0.7410901692355011,
          -0.7410901692355011,
          -0.67076246652768,
          0.8729135568575475,
          -0.8577215665526522,
          -0.7156464292919446,
          0.98462511662688,
          0.98462511662688,
          -0.67076246652768,
          -0.67076246652768,
          -0.7156464292919446,
          -0.0655274707290652,
          -0.8127801044242017,
          -0.8577215665526522,
          -0.41158114890093384,
          -0.7156464292919446,
          -0.6808701034385612,
          0.32515799632799225,
          0.32515799632799225,
          1.3005482817558454,
          0.11113090515151197,
          0.11491884298548244,
          -0.8577215665526522,
          -0.8577215665526522,
          -0.8577215665526522,
          -0.81569905554206,
          -0.773858079383522,
          -0.773858079383522,
          -0.6888014829556718,
          0.3480102160818946,
          0.3480102160818946,
          -0.04771673072321463,
          -0.04771673072321463,
          0.6047026151703347,
          0.6047026151703347,
          0.6047026151703347,
          1.3661905668938765,
          0.04220986680790847,
          -0.15764387250179782,
          -0.15764387250179782,
          0.5212904622908754
         ],
         "xaxis": "x",
         "y": [
          -0.8125081650401612,
          -0.5284947542559436,
          -0.6405400329041929,
          -0.8068278968244769,
          -0.5271269456696068,
          -0.7029333577327064,
          -0.7029333577327064,
          -0.8727190081264152,
          -0.8727190081264152,
          -0.8727190081264152,
          0.6139356715852182,
          -0.6302851606810072,
          -0.6302851606810072,
          0.6075588888809267,
          -0.7806816790303639,
          -0.7806816790303639,
          -0.5284947542559436,
          0.6075588888809267,
          -0.6032282266199273,
          0.03952411493698957,
          -0.5284947542559436,
          -0.6954423813294792,
          0.6075411334985381,
          -0.6849516075672961,
          -0.6283290580761084,
          1.1439870599976956,
          -0.11039632763662058,
          0.4720867640441411,
          1.1755857104493617,
          -0.8319892129126722,
          -0.8319892129126722,
          1.7208213498765805,
          0.5810434877344035,
          1.1755857104493617,
          1.1755857104493617,
          -0.714488040051419,
          -0.714488040051419,
          -0.6210849438574275,
          -0.6210849438574275,
          -0.6699391130946997,
          0.03953206731249152,
          -0.3357053149619736,
          -0.8693108471970047,
          -0.8693108471970047,
          1.1518796790780248,
          3.0143839603724096,
          0.014500261339613725,
          -0.6511033436914904,
          -0.06618906199675276,
          -0.06618906199675276,
          1.338803673412479,
          1.338803673412479,
          -0.7327856006330313,
          -0.26771659875756176,
          -0.8126561928298619,
          -0.7733404435857313,
          4.027580214917725,
          -0.5284299991982848,
          -0.45327198472391456,
          0.0389890336710721,
          0.0389890336710721,
          -0.6699073035926918,
          -0.4944017844254061,
          0.03677141833384506,
          -0.49028900440069817,
          -0.49028900440069817,
          -0.49028900440069817,
          -0.26511843953149317,
          -0.26599872660162877,
          -0.26599872660162877,
          -0.5352656339690394,
          -0.2840046497164578,
          -0.2840046497164578,
          -0.6716920438660599,
          -0.7043626745353899,
          2.0866173072819016,
          2.0866173072819016,
          2.0866173072819016,
          2.408278399746032,
          0.7192222444712116,
          0.8499820187962654,
          0.8499820187962654,
          -0.7648773369916427
         ],
         "yaxis": "y"
        }
       ],
       "layout": {
        "coloraxis": {
         "colorbar": {
          "title": {
           "text": "y_km"
          }
         },
         "colorscale": [
          [
           0,
           "#440154"
          ],
          [
           0.1111111111111111,
           "#482878"
          ],
          [
           0.2222222222222222,
           "#3e4989"
          ],
          [
           0.3333333333333333,
           "#31688e"
          ],
          [
           0.4444444444444444,
           "#26828e"
          ],
          [
           0.5555555555555556,
           "#1f9e89"
          ],
          [
           0.6666666666666666,
           "#35b779"
          ],
          [
           0.7777777777777778,
           "#6ece58"
          ],
          [
           0.8888888888888888,
           "#b5de2b"
          ],
          [
           1,
           "#fde725"
          ]
         ]
        },
        "legend": {
         "tracegroupgap": 0
        },
        "template": {
         "data": {
          "bar": [
           {
            "error_x": {
             "color": "rgb(36,36,36)"
            },
            "error_y": {
             "color": "rgb(36,36,36)"
            },
            "marker": {
             "line": {
              "color": "white",
              "width": 0.5
             }
            },
            "type": "bar"
           }
          ],
          "barpolar": [
           {
            "marker": {
             "line": {
              "color": "white",
              "width": 0.5
             }
            },
            "type": "barpolar"
           }
          ],
          "carpet": [
           {
            "aaxis": {
             "endlinecolor": "rgb(36,36,36)",
             "gridcolor": "white",
             "linecolor": "white",
             "minorgridcolor": "white",
             "startlinecolor": "rgb(36,36,36)"
            },
            "baxis": {
             "endlinecolor": "rgb(36,36,36)",
             "gridcolor": "white",
             "linecolor": "white",
             "minorgridcolor": "white",
             "startlinecolor": "rgb(36,36,36)"
            },
            "type": "carpet"
           }
          ],
          "choropleth": [
           {
            "colorbar": {
             "outlinewidth": 1,
             "tickcolor": "rgb(36,36,36)",
             "ticks": "outside"
            },
            "type": "choropleth"
           }
          ],
          "contour": [
           {
            "colorbar": {
             "outlinewidth": 1,
             "tickcolor": "rgb(36,36,36)",
             "ticks": "outside"
            },
            "colorscale": [
             [
              0,
              "#440154"
             ],
             [
              0.1111111111111111,
              "#482878"
             ],
             [
              0.2222222222222222,
              "#3e4989"
             ],
             [
              0.3333333333333333,
              "#31688e"
             ],
             [
              0.4444444444444444,
              "#26828e"
             ],
             [
              0.5555555555555556,
              "#1f9e89"
             ],
             [
              0.6666666666666666,
              "#35b779"
             ],
             [
              0.7777777777777778,
              "#6ece58"
             ],
             [
              0.8888888888888888,
              "#b5de2b"
             ],
             [
              1,
              "#fde725"
             ]
            ],
            "type": "contour"
           }
          ],
          "contourcarpet": [
           {
            "colorbar": {
             "outlinewidth": 1,
             "tickcolor": "rgb(36,36,36)",
             "ticks": "outside"
            },
            "type": "contourcarpet"
           }
          ],
          "heatmap": [
           {
            "colorbar": {
             "outlinewidth": 1,
             "tickcolor": "rgb(36,36,36)",
             "ticks": "outside"
            },
            "colorscale": [
             [
              0,
              "#440154"
             ],
             [
              0.1111111111111111,
              "#482878"
             ],
             [
              0.2222222222222222,
              "#3e4989"
             ],
             [
              0.3333333333333333,
              "#31688e"
             ],
             [
              0.4444444444444444,
              "#26828e"
             ],
             [
              0.5555555555555556,
              "#1f9e89"
             ],
             [
              0.6666666666666666,
              "#35b779"
             ],
             [
              0.7777777777777778,
              "#6ece58"
             ],
             [
              0.8888888888888888,
              "#b5de2b"
             ],
             [
              1,
              "#fde725"
             ]
            ],
            "type": "heatmap"
           }
          ],
          "heatmapgl": [
           {
            "colorbar": {
             "outlinewidth": 1,
             "tickcolor": "rgb(36,36,36)",
             "ticks": "outside"
            },
            "colorscale": [
             [
              0,
              "#440154"
             ],
             [
              0.1111111111111111,
              "#482878"
             ],
             [
              0.2222222222222222,
              "#3e4989"
             ],
             [
              0.3333333333333333,
              "#31688e"
             ],
             [
              0.4444444444444444,
              "#26828e"
             ],
             [
              0.5555555555555556,
              "#1f9e89"
             ],
             [
              0.6666666666666666,
              "#35b779"
             ],
             [
              0.7777777777777778,
              "#6ece58"
             ],
             [
              0.8888888888888888,
              "#b5de2b"
             ],
             [
              1,
              "#fde725"
             ]
            ],
            "type": "heatmapgl"
           }
          ],
          "histogram": [
           {
            "marker": {
             "line": {
              "color": "white",
              "width": 0.6
             }
            },
            "type": "histogram"
           }
          ],
          "histogram2d": [
           {
            "colorbar": {
             "outlinewidth": 1,
             "tickcolor": "rgb(36,36,36)",
             "ticks": "outside"
            },
            "colorscale": [
             [
              0,
              "#440154"
             ],
             [
              0.1111111111111111,
              "#482878"
             ],
             [
              0.2222222222222222,
              "#3e4989"
             ],
             [
              0.3333333333333333,
              "#31688e"
             ],
             [
              0.4444444444444444,
              "#26828e"
             ],
             [
              0.5555555555555556,
              "#1f9e89"
             ],
             [
              0.6666666666666666,
              "#35b779"
             ],
             [
              0.7777777777777778,
              "#6ece58"
             ],
             [
              0.8888888888888888,
              "#b5de2b"
             ],
             [
              1,
              "#fde725"
             ]
            ],
            "type": "histogram2d"
           }
          ],
          "histogram2dcontour": [
           {
            "colorbar": {
             "outlinewidth": 1,
             "tickcolor": "rgb(36,36,36)",
             "ticks": "outside"
            },
            "colorscale": [
             [
              0,
              "#440154"
             ],
             [
              0.1111111111111111,
              "#482878"
             ],
             [
              0.2222222222222222,
              "#3e4989"
             ],
             [
              0.3333333333333333,
              "#31688e"
             ],
             [
              0.4444444444444444,
              "#26828e"
             ],
             [
              0.5555555555555556,
              "#1f9e89"
             ],
             [
              0.6666666666666666,
              "#35b779"
             ],
             [
              0.7777777777777778,
              "#6ece58"
             ],
             [
              0.8888888888888888,
              "#b5de2b"
             ],
             [
              1,
              "#fde725"
             ]
            ],
            "type": "histogram2dcontour"
           }
          ],
          "mesh3d": [
           {
            "colorbar": {
             "outlinewidth": 1,
             "tickcolor": "rgb(36,36,36)",
             "ticks": "outside"
            },
            "type": "mesh3d"
           }
          ],
          "parcoords": [
           {
            "line": {
             "colorbar": {
              "outlinewidth": 1,
              "tickcolor": "rgb(36,36,36)",
              "ticks": "outside"
             }
            },
            "type": "parcoords"
           }
          ],
          "pie": [
           {
            "automargin": true,
            "type": "pie"
           }
          ],
          "scatter": [
           {
            "marker": {
             "colorbar": {
              "outlinewidth": 1,
              "tickcolor": "rgb(36,36,36)",
              "ticks": "outside"
             }
            },
            "type": "scatter"
           }
          ],
          "scatter3d": [
           {
            "line": {
             "colorbar": {
              "outlinewidth": 1,
              "tickcolor": "rgb(36,36,36)",
              "ticks": "outside"
             }
            },
            "marker": {
             "colorbar": {
              "outlinewidth": 1,
              "tickcolor": "rgb(36,36,36)",
              "ticks": "outside"
             }
            },
            "type": "scatter3d"
           }
          ],
          "scattercarpet": [
           {
            "marker": {
             "colorbar": {
              "outlinewidth": 1,
              "tickcolor": "rgb(36,36,36)",
              "ticks": "outside"
             }
            },
            "type": "scattercarpet"
           }
          ],
          "scattergeo": [
           {
            "marker": {
             "colorbar": {
              "outlinewidth": 1,
              "tickcolor": "rgb(36,36,36)",
              "ticks": "outside"
             }
            },
            "type": "scattergeo"
           }
          ],
          "scattergl": [
           {
            "marker": {
             "colorbar": {
              "outlinewidth": 1,
              "tickcolor": "rgb(36,36,36)",
              "ticks": "outside"
             }
            },
            "type": "scattergl"
           }
          ],
          "scattermapbox": [
           {
            "marker": {
             "colorbar": {
              "outlinewidth": 1,
              "tickcolor": "rgb(36,36,36)",
              "ticks": "outside"
             }
            },
            "type": "scattermapbox"
           }
          ],
          "scatterpolar": [
           {
            "marker": {
             "colorbar": {
              "outlinewidth": 1,
              "tickcolor": "rgb(36,36,36)",
              "ticks": "outside"
             }
            },
            "type": "scatterpolar"
           }
          ],
          "scatterpolargl": [
           {
            "marker": {
             "colorbar": {
              "outlinewidth": 1,
              "tickcolor": "rgb(36,36,36)",
              "ticks": "outside"
             }
            },
            "type": "scatterpolargl"
           }
          ],
          "scatterternary": [
           {
            "marker": {
             "colorbar": {
              "outlinewidth": 1,
              "tickcolor": "rgb(36,36,36)",
              "ticks": "outside"
             }
            },
            "type": "scatterternary"
           }
          ],
          "surface": [
           {
            "colorbar": {
             "outlinewidth": 1,
             "tickcolor": "rgb(36,36,36)",
             "ticks": "outside"
            },
            "colorscale": [
             [
              0,
              "#440154"
             ],
             [
              0.1111111111111111,
              "#482878"
             ],
             [
              0.2222222222222222,
              "#3e4989"
             ],
             [
              0.3333333333333333,
              "#31688e"
             ],
             [
              0.4444444444444444,
              "#26828e"
             ],
             [
              0.5555555555555556,
              "#1f9e89"
             ],
             [
              0.6666666666666666,
              "#35b779"
             ],
             [
              0.7777777777777778,
              "#6ece58"
             ],
             [
              0.8888888888888888,
              "#b5de2b"
             ],
             [
              1,
              "#fde725"
             ]
            ],
            "type": "surface"
           }
          ],
          "table": [
           {
            "cells": {
             "fill": {
              "color": "rgb(237,237,237)"
             },
             "line": {
              "color": "white"
             }
            },
            "header": {
             "fill": {
              "color": "rgb(217,217,217)"
             },
             "line": {
              "color": "white"
             }
            },
            "type": "table"
           }
          ]
         },
         "layout": {
          "annotationdefaults": {
           "arrowhead": 0,
           "arrowwidth": 1
          },
          "coloraxis": {
           "colorbar": {
            "outlinewidth": 1,
            "tickcolor": "rgb(36,36,36)",
            "ticks": "outside"
           }
          },
          "colorscale": {
           "diverging": [
            [
             0,
             "rgb(103,0,31)"
            ],
            [
             0.1,
             "rgb(178,24,43)"
            ],
            [
             0.2,
             "rgb(214,96,77)"
            ],
            [
             0.3,
             "rgb(244,165,130)"
            ],
            [
             0.4,
             "rgb(253,219,199)"
            ],
            [
             0.5,
             "rgb(247,247,247)"
            ],
            [
             0.6,
             "rgb(209,229,240)"
            ],
            [
             0.7,
             "rgb(146,197,222)"
            ],
            [
             0.8,
             "rgb(67,147,195)"
            ],
            [
             0.9,
             "rgb(33,102,172)"
            ],
            [
             1,
             "rgb(5,48,97)"
            ]
           ],
           "sequential": [
            [
             0,
             "#440154"
            ],
            [
             0.1111111111111111,
             "#482878"
            ],
            [
             0.2222222222222222,
             "#3e4989"
            ],
            [
             0.3333333333333333,
             "#31688e"
            ],
            [
             0.4444444444444444,
             "#26828e"
            ],
            [
             0.5555555555555556,
             "#1f9e89"
            ],
            [
             0.6666666666666666,
             "#35b779"
            ],
            [
             0.7777777777777778,
             "#6ece58"
            ],
            [
             0.8888888888888888,
             "#b5de2b"
            ],
            [
             1,
             "#fde725"
            ]
           ],
           "sequentialminus": [
            [
             0,
             "#440154"
            ],
            [
             0.1111111111111111,
             "#482878"
            ],
            [
             0.2222222222222222,
             "#3e4989"
            ],
            [
             0.3333333333333333,
             "#31688e"
            ],
            [
             0.4444444444444444,
             "#26828e"
            ],
            [
             0.5555555555555556,
             "#1f9e89"
            ],
            [
             0.6666666666666666,
             "#35b779"
            ],
            [
             0.7777777777777778,
             "#6ece58"
            ],
            [
             0.8888888888888888,
             "#b5de2b"
            ],
            [
             1,
             "#fde725"
            ]
           ]
          },
          "colorway": [
           "#1F77B4",
           "#FF7F0E",
           "#2CA02C",
           "#D62728",
           "#9467BD",
           "#8C564B",
           "#E377C2",
           "#7F7F7F",
           "#BCBD22",
           "#17BECF"
          ],
          "font": {
           "color": "rgb(36,36,36)"
          },
          "geo": {
           "bgcolor": "white",
           "lakecolor": "white",
           "landcolor": "white",
           "showlakes": true,
           "showland": true,
           "subunitcolor": "white"
          },
          "hoverlabel": {
           "align": "left"
          },
          "hovermode": "closest",
          "mapbox": {
           "style": "light"
          },
          "paper_bgcolor": "white",
          "plot_bgcolor": "white",
          "polar": {
           "angularaxis": {
            "gridcolor": "rgb(232,232,232)",
            "linecolor": "rgb(36,36,36)",
            "showgrid": false,
            "showline": true,
            "ticks": "outside"
           },
           "bgcolor": "white",
           "radialaxis": {
            "gridcolor": "rgb(232,232,232)",
            "linecolor": "rgb(36,36,36)",
            "showgrid": false,
            "showline": true,
            "ticks": "outside"
           }
          },
          "scene": {
           "xaxis": {
            "backgroundcolor": "white",
            "gridcolor": "rgb(232,232,232)",
            "gridwidth": 2,
            "linecolor": "rgb(36,36,36)",
            "showbackground": true,
            "showgrid": false,
            "showline": true,
            "ticks": "outside",
            "zeroline": false,
            "zerolinecolor": "rgb(36,36,36)"
           },
           "yaxis": {
            "backgroundcolor": "white",
            "gridcolor": "rgb(232,232,232)",
            "gridwidth": 2,
            "linecolor": "rgb(36,36,36)",
            "showbackground": true,
            "showgrid": false,
            "showline": true,
            "ticks": "outside",
            "zeroline": false,
            "zerolinecolor": "rgb(36,36,36)"
           },
           "zaxis": {
            "backgroundcolor": "white",
            "gridcolor": "rgb(232,232,232)",
            "gridwidth": 2,
            "linecolor": "rgb(36,36,36)",
            "showbackground": true,
            "showgrid": false,
            "showline": true,
            "ticks": "outside",
            "zeroline": false,
            "zerolinecolor": "rgb(36,36,36)"
           }
          },
          "shapedefaults": {
           "fillcolor": "black",
           "line": {
            "width": 0
           },
           "opacity": 0.3
          },
          "ternary": {
           "aaxis": {
            "gridcolor": "rgb(232,232,232)",
            "linecolor": "rgb(36,36,36)",
            "showgrid": false,
            "showline": true,
            "ticks": "outside"
           },
           "baxis": {
            "gridcolor": "rgb(232,232,232)",
            "linecolor": "rgb(36,36,36)",
            "showgrid": false,
            "showline": true,
            "ticks": "outside"
           },
           "bgcolor": "white",
           "caxis": {
            "gridcolor": "rgb(232,232,232)",
            "linecolor": "rgb(36,36,36)",
            "showgrid": false,
            "showline": true,
            "ticks": "outside"
           }
          },
          "title": {
           "x": 0.05
          },
          "xaxis": {
           "automargin": true,
           "gridcolor": "rgb(232,232,232)",
           "linecolor": "rgb(36,36,36)",
           "showgrid": false,
           "showline": true,
           "ticks": "outside",
           "title": {
            "standoff": 15
           },
           "zeroline": false,
           "zerolinecolor": "rgb(36,36,36)"
          },
          "yaxis": {
           "automargin": true,
           "gridcolor": "rgb(232,232,232)",
           "linecolor": "rgb(36,36,36)",
           "showgrid": false,
           "showline": true,
           "ticks": "outside",
           "title": {
            "standoff": 15
           },
           "zeroline": false,
           "zerolinecolor": "rgb(36,36,36)"
          }
         }
        },
        "title": {
         "text": "Clouster"
        },
        "xaxis": {
         "anchor": "y",
         "domain": [
          0,
          1
         ],
         "title": {
          "text": "RENDIMIENTO"
         }
        },
        "yaxis": {
         "anchor": "x",
         "domain": [
          0,
          1
         ],
         "title": {
          "text": "Valor total cofinanciación ADR"
         }
        }
       }
      },
      "text/html": [
       "<div>\n",
       "        \n",
       "        \n",
       "            <div id=\"c5ca4bd5-d000-40f8-b399-ea34b436a5f3\" class=\"plotly-graph-div\" style=\"height:525px; width:100%;\"></div>\n",
       "            <script type=\"text/javascript\">\n",
       "                require([\"plotly\"], function(Plotly) {\n",
       "                    window.PLOTLYENV=window.PLOTLYENV || {};\n",
       "                    \n",
       "                if (document.getElementById(\"c5ca4bd5-d000-40f8-b399-ea34b436a5f3\")) {\n",
       "                    Plotly.newPlot(\n",
       "                        'c5ca4bd5-d000-40f8-b399-ea34b436a5f3',\n",
       "                        [{\"hovertemplate\": \"RENDIMIENTO=%{x}<br>Valor total cofinanciaci\\u00f3n ADR=%{y}<br>y_km=%{marker.color}<extra></extra>\", \"legendgroup\": \"\", \"marker\": {\"color\": [1, 1, 1, 1, 1, 1, 1, 2, 2, 2, 0, 2, 2, 0, 1, 1, 1, 0, 1, 1, 1, 1, 0, 1, 1, 0, 1, 1, 0, 1, 1, 0, 0, 0, 0, 1, 1, 1, 1, 1, 1, 1, 1, 1, 0, 3, 1, 1, 1, 1, 0, 0, 1, 1, 1, 1, 3, 1, 1, 0, 0, 1, 1, 1, 1, 1, 1, 1, 1, 1, 1, 1, 1, 1, 1, 3, 3, 3, 3, 0, 0, 0, 1], \"coloraxis\": \"coloraxis\", \"symbol\": \"circle\"}, \"mode\": \"markers\", \"name\": \"\", \"orientation\": \"v\", \"showlegend\": false, \"type\": \"scatter\", \"x\": [-0.0655274707290652, -0.7542459039877666, -0.7358016383830404, -0.6648077561314766, -0.74778771448552, -0.0655274707290652, -0.0655274707290652, 3.207958591034879, 3.207958591034879, 3.207958591034879, 0.8216803487694292, 3.207958591034879, 3.207958591034879, -0.8127801044242017, -0.0655274707290652, -0.0655274707290652, -0.7168482381366582, 0.05616605154177965, -0.8577215665526522, 0.11491884298548244, -0.8577215665526522, -0.7156464292919446, 0.32515799632799225, -0.7156464292919446, -0.7156464292919446, 0.32515799632799225, -0.8577215665526522, -0.8577215665526522, -0.06663430693366137, -0.7156464292919446, -0.7156464292919446, -0.0468959682892986, -0.7859827207299337, 0.4121334385004367, 0.4121334385004367, -0.0655274707290652, -0.0655274707290652, -0.0655274707290652, -0.0655274707290652, -0.7156464292919446, 0.11491884298548244, 0.9290511224850995, -0.7410901692355011, -0.7410901692355011, -0.67076246652768, 0.8729135568575475, -0.8577215665526522, -0.7156464292919446, 0.98462511662688, 0.98462511662688, -0.67076246652768, -0.67076246652768, -0.7156464292919446, -0.0655274707290652, -0.8127801044242017, -0.8577215665526522, -0.41158114890093384, -0.7156464292919446, -0.6808701034385612, 0.32515799632799225, 0.32515799632799225, 1.3005482817558454, 0.11113090515151197, 0.11491884298548244, -0.8577215665526522, -0.8577215665526522, -0.8577215665526522, -0.81569905554206, -0.773858079383522, -0.773858079383522, -0.6888014829556718, 0.3480102160818946, 0.3480102160818946, -0.04771673072321463, -0.04771673072321463, 0.6047026151703347, 0.6047026151703347, 0.6047026151703347, 1.3661905668938765, 0.04220986680790847, -0.15764387250179782, -0.15764387250179782, 0.5212904622908754], \"xaxis\": \"x\", \"y\": [-0.8125081650401612, -0.5284947542559436, -0.6405400329041929, -0.8068278968244769, -0.5271269456696068, -0.7029333577327064, -0.7029333577327064, -0.8727190081264152, -0.8727190081264152, -0.8727190081264152, 0.6139356715852182, -0.6302851606810072, -0.6302851606810072, 0.6075588888809267, -0.7806816790303639, -0.7806816790303639, -0.5284947542559436, 0.6075588888809267, -0.6032282266199273, 0.03952411493698957, -0.5284947542559436, -0.6954423813294792, 0.6075411334985381, -0.6849516075672961, -0.6283290580761084, 1.1439870599976956, -0.11039632763662058, 0.4720867640441411, 1.1755857104493617, -0.8319892129126722, -0.8319892129126722, 1.7208213498765805, 0.5810434877344035, 1.1755857104493617, 1.1755857104493617, -0.714488040051419, -0.714488040051419, -0.6210849438574275, -0.6210849438574275, -0.6699391130946997, 0.03953206731249152, -0.3357053149619736, -0.8693108471970047, -0.8693108471970047, 1.1518796790780248, 3.0143839603724096, 0.014500261339613725, -0.6511033436914904, -0.06618906199675276, -0.06618906199675276, 1.338803673412479, 1.338803673412479, -0.7327856006330313, -0.26771659875756176, -0.8126561928298619, -0.7733404435857313, 4.027580214917725, -0.5284299991982848, -0.45327198472391456, 0.0389890336710721, 0.0389890336710721, -0.6699073035926918, -0.4944017844254061, 0.03677141833384506, -0.49028900440069817, -0.49028900440069817, -0.49028900440069817, -0.26511843953149317, -0.26599872660162877, -0.26599872660162877, -0.5352656339690394, -0.2840046497164578, -0.2840046497164578, -0.6716920438660599, -0.7043626745353899, 2.0866173072819016, 2.0866173072819016, 2.0866173072819016, 2.408278399746032, 0.7192222444712116, 0.8499820187962654, 0.8499820187962654, -0.7648773369916427], \"yaxis\": \"y\"}],\n",
       "                        {\"coloraxis\": {\"colorbar\": {\"title\": {\"text\": \"y_km\"}}, \"colorscale\": [[0.0, \"#440154\"], [0.1111111111111111, \"#482878\"], [0.2222222222222222, \"#3e4989\"], [0.3333333333333333, \"#31688e\"], [0.4444444444444444, \"#26828e\"], [0.5555555555555556, \"#1f9e89\"], [0.6666666666666666, \"#35b779\"], [0.7777777777777778, \"#6ece58\"], [0.8888888888888888, \"#b5de2b\"], [1.0, \"#fde725\"]]}, \"legend\": {\"tracegroupgap\": 0}, \"template\": {\"data\": {\"bar\": [{\"error_x\": {\"color\": \"rgb(36,36,36)\"}, \"error_y\": {\"color\": \"rgb(36,36,36)\"}, \"marker\": {\"line\": {\"color\": \"white\", \"width\": 0.5}}, \"type\": \"bar\"}], \"barpolar\": [{\"marker\": {\"line\": {\"color\": \"white\", \"width\": 0.5}}, \"type\": \"barpolar\"}], \"carpet\": [{\"aaxis\": {\"endlinecolor\": \"rgb(36,36,36)\", \"gridcolor\": \"white\", \"linecolor\": \"white\", \"minorgridcolor\": \"white\", \"startlinecolor\": \"rgb(36,36,36)\"}, \"baxis\": {\"endlinecolor\": \"rgb(36,36,36)\", \"gridcolor\": \"white\", \"linecolor\": \"white\", \"minorgridcolor\": \"white\", \"startlinecolor\": \"rgb(36,36,36)\"}, \"type\": \"carpet\"}], \"choropleth\": [{\"colorbar\": {\"outlinewidth\": 1, \"tickcolor\": \"rgb(36,36,36)\", \"ticks\": \"outside\"}, \"type\": \"choropleth\"}], \"contour\": [{\"colorbar\": {\"outlinewidth\": 1, \"tickcolor\": \"rgb(36,36,36)\", \"ticks\": \"outside\"}, \"colorscale\": [[0.0, \"#440154\"], [0.1111111111111111, \"#482878\"], [0.2222222222222222, \"#3e4989\"], [0.3333333333333333, \"#31688e\"], [0.4444444444444444, \"#26828e\"], [0.5555555555555556, \"#1f9e89\"], [0.6666666666666666, \"#35b779\"], [0.7777777777777778, \"#6ece58\"], [0.8888888888888888, \"#b5de2b\"], [1.0, \"#fde725\"]], \"type\": \"contour\"}], \"contourcarpet\": [{\"colorbar\": {\"outlinewidth\": 1, \"tickcolor\": \"rgb(36,36,36)\", \"ticks\": \"outside\"}, \"type\": \"contourcarpet\"}], \"heatmap\": [{\"colorbar\": {\"outlinewidth\": 1, \"tickcolor\": \"rgb(36,36,36)\", \"ticks\": \"outside\"}, \"colorscale\": [[0.0, \"#440154\"], [0.1111111111111111, \"#482878\"], [0.2222222222222222, \"#3e4989\"], [0.3333333333333333, \"#31688e\"], [0.4444444444444444, \"#26828e\"], [0.5555555555555556, \"#1f9e89\"], [0.6666666666666666, \"#35b779\"], [0.7777777777777778, \"#6ece58\"], [0.8888888888888888, \"#b5de2b\"], [1.0, \"#fde725\"]], \"type\": \"heatmap\"}], \"heatmapgl\": [{\"colorbar\": {\"outlinewidth\": 1, \"tickcolor\": \"rgb(36,36,36)\", \"ticks\": \"outside\"}, \"colorscale\": [[0.0, \"#440154\"], [0.1111111111111111, \"#482878\"], [0.2222222222222222, \"#3e4989\"], [0.3333333333333333, \"#31688e\"], [0.4444444444444444, \"#26828e\"], [0.5555555555555556, \"#1f9e89\"], [0.6666666666666666, \"#35b779\"], [0.7777777777777778, \"#6ece58\"], [0.8888888888888888, \"#b5de2b\"], [1.0, \"#fde725\"]], \"type\": \"heatmapgl\"}], \"histogram\": [{\"marker\": {\"line\": {\"color\": \"white\", \"width\": 0.6}}, \"type\": \"histogram\"}], \"histogram2d\": [{\"colorbar\": {\"outlinewidth\": 1, \"tickcolor\": \"rgb(36,36,36)\", \"ticks\": \"outside\"}, \"colorscale\": [[0.0, \"#440154\"], [0.1111111111111111, \"#482878\"], [0.2222222222222222, \"#3e4989\"], [0.3333333333333333, \"#31688e\"], [0.4444444444444444, \"#26828e\"], [0.5555555555555556, \"#1f9e89\"], [0.6666666666666666, \"#35b779\"], [0.7777777777777778, \"#6ece58\"], [0.8888888888888888, \"#b5de2b\"], [1.0, \"#fde725\"]], \"type\": \"histogram2d\"}], \"histogram2dcontour\": [{\"colorbar\": {\"outlinewidth\": 1, \"tickcolor\": \"rgb(36,36,36)\", \"ticks\": \"outside\"}, \"colorscale\": [[0.0, \"#440154\"], [0.1111111111111111, \"#482878\"], [0.2222222222222222, \"#3e4989\"], [0.3333333333333333, \"#31688e\"], [0.4444444444444444, \"#26828e\"], [0.5555555555555556, \"#1f9e89\"], [0.6666666666666666, \"#35b779\"], [0.7777777777777778, \"#6ece58\"], [0.8888888888888888, \"#b5de2b\"], [1.0, \"#fde725\"]], \"type\": \"histogram2dcontour\"}], \"mesh3d\": [{\"colorbar\": {\"outlinewidth\": 1, \"tickcolor\": \"rgb(36,36,36)\", \"ticks\": \"outside\"}, \"type\": \"mesh3d\"}], \"parcoords\": [{\"line\": {\"colorbar\": {\"outlinewidth\": 1, \"tickcolor\": \"rgb(36,36,36)\", \"ticks\": \"outside\"}}, \"type\": \"parcoords\"}], \"pie\": [{\"automargin\": true, \"type\": \"pie\"}], \"scatter\": [{\"marker\": {\"colorbar\": {\"outlinewidth\": 1, \"tickcolor\": \"rgb(36,36,36)\", \"ticks\": \"outside\"}}, \"type\": \"scatter\"}], \"scatter3d\": [{\"line\": {\"colorbar\": {\"outlinewidth\": 1, \"tickcolor\": \"rgb(36,36,36)\", \"ticks\": \"outside\"}}, \"marker\": {\"colorbar\": {\"outlinewidth\": 1, \"tickcolor\": \"rgb(36,36,36)\", \"ticks\": \"outside\"}}, \"type\": \"scatter3d\"}], \"scattercarpet\": [{\"marker\": {\"colorbar\": {\"outlinewidth\": 1, \"tickcolor\": \"rgb(36,36,36)\", \"ticks\": \"outside\"}}, \"type\": \"scattercarpet\"}], \"scattergeo\": [{\"marker\": {\"colorbar\": {\"outlinewidth\": 1, \"tickcolor\": \"rgb(36,36,36)\", \"ticks\": \"outside\"}}, \"type\": \"scattergeo\"}], \"scattergl\": [{\"marker\": {\"colorbar\": {\"outlinewidth\": 1, \"tickcolor\": \"rgb(36,36,36)\", \"ticks\": \"outside\"}}, \"type\": \"scattergl\"}], \"scattermapbox\": [{\"marker\": {\"colorbar\": {\"outlinewidth\": 1, \"tickcolor\": \"rgb(36,36,36)\", \"ticks\": \"outside\"}}, \"type\": \"scattermapbox\"}], \"scatterpolar\": [{\"marker\": {\"colorbar\": {\"outlinewidth\": 1, \"tickcolor\": \"rgb(36,36,36)\", \"ticks\": \"outside\"}}, \"type\": \"scatterpolar\"}], \"scatterpolargl\": [{\"marker\": {\"colorbar\": {\"outlinewidth\": 1, \"tickcolor\": \"rgb(36,36,36)\", \"ticks\": \"outside\"}}, \"type\": \"scatterpolargl\"}], \"scatterternary\": [{\"marker\": {\"colorbar\": {\"outlinewidth\": 1, \"tickcolor\": \"rgb(36,36,36)\", \"ticks\": \"outside\"}}, \"type\": \"scatterternary\"}], \"surface\": [{\"colorbar\": {\"outlinewidth\": 1, \"tickcolor\": \"rgb(36,36,36)\", \"ticks\": \"outside\"}, \"colorscale\": [[0.0, \"#440154\"], [0.1111111111111111, \"#482878\"], [0.2222222222222222, \"#3e4989\"], [0.3333333333333333, \"#31688e\"], [0.4444444444444444, \"#26828e\"], [0.5555555555555556, \"#1f9e89\"], [0.6666666666666666, \"#35b779\"], [0.7777777777777778, \"#6ece58\"], [0.8888888888888888, \"#b5de2b\"], [1.0, \"#fde725\"]], \"type\": \"surface\"}], \"table\": [{\"cells\": {\"fill\": {\"color\": \"rgb(237,237,237)\"}, \"line\": {\"color\": \"white\"}}, \"header\": {\"fill\": {\"color\": \"rgb(217,217,217)\"}, \"line\": {\"color\": \"white\"}}, \"type\": \"table\"}]}, \"layout\": {\"annotationdefaults\": {\"arrowhead\": 0, \"arrowwidth\": 1}, \"coloraxis\": {\"colorbar\": {\"outlinewidth\": 1, \"tickcolor\": \"rgb(36,36,36)\", \"ticks\": \"outside\"}}, \"colorscale\": {\"diverging\": [[0.0, \"rgb(103,0,31)\"], [0.1, \"rgb(178,24,43)\"], [0.2, \"rgb(214,96,77)\"], [0.3, \"rgb(244,165,130)\"], [0.4, \"rgb(253,219,199)\"], [0.5, \"rgb(247,247,247)\"], [0.6, \"rgb(209,229,240)\"], [0.7, \"rgb(146,197,222)\"], [0.8, \"rgb(67,147,195)\"], [0.9, \"rgb(33,102,172)\"], [1.0, \"rgb(5,48,97)\"]], \"sequential\": [[0.0, \"#440154\"], [0.1111111111111111, \"#482878\"], [0.2222222222222222, \"#3e4989\"], [0.3333333333333333, \"#31688e\"], [0.4444444444444444, \"#26828e\"], [0.5555555555555556, \"#1f9e89\"], [0.6666666666666666, \"#35b779\"], [0.7777777777777778, \"#6ece58\"], [0.8888888888888888, \"#b5de2b\"], [1.0, \"#fde725\"]], \"sequentialminus\": [[0.0, \"#440154\"], [0.1111111111111111, \"#482878\"], [0.2222222222222222, \"#3e4989\"], [0.3333333333333333, \"#31688e\"], [0.4444444444444444, \"#26828e\"], [0.5555555555555556, \"#1f9e89\"], [0.6666666666666666, \"#35b779\"], [0.7777777777777778, \"#6ece58\"], [0.8888888888888888, \"#b5de2b\"], [1.0, \"#fde725\"]]}, \"colorway\": [\"#1F77B4\", \"#FF7F0E\", \"#2CA02C\", \"#D62728\", \"#9467BD\", \"#8C564B\", \"#E377C2\", \"#7F7F7F\", \"#BCBD22\", \"#17BECF\"], \"font\": {\"color\": \"rgb(36,36,36)\"}, \"geo\": {\"bgcolor\": \"white\", \"lakecolor\": \"white\", \"landcolor\": \"white\", \"showlakes\": true, \"showland\": true, \"subunitcolor\": \"white\"}, \"hoverlabel\": {\"align\": \"left\"}, \"hovermode\": \"closest\", \"mapbox\": {\"style\": \"light\"}, \"paper_bgcolor\": \"white\", \"plot_bgcolor\": \"white\", \"polar\": {\"angularaxis\": {\"gridcolor\": \"rgb(232,232,232)\", \"linecolor\": \"rgb(36,36,36)\", \"showgrid\": false, \"showline\": true, \"ticks\": \"outside\"}, \"bgcolor\": \"white\", \"radialaxis\": {\"gridcolor\": \"rgb(232,232,232)\", \"linecolor\": \"rgb(36,36,36)\", \"showgrid\": false, \"showline\": true, \"ticks\": \"outside\"}}, \"scene\": {\"xaxis\": {\"backgroundcolor\": \"white\", \"gridcolor\": \"rgb(232,232,232)\", \"gridwidth\": 2, \"linecolor\": \"rgb(36,36,36)\", \"showbackground\": true, \"showgrid\": false, \"showline\": true, \"ticks\": \"outside\", \"zeroline\": false, \"zerolinecolor\": \"rgb(36,36,36)\"}, \"yaxis\": {\"backgroundcolor\": \"white\", \"gridcolor\": \"rgb(232,232,232)\", \"gridwidth\": 2, \"linecolor\": \"rgb(36,36,36)\", \"showbackground\": true, \"showgrid\": false, \"showline\": true, \"ticks\": \"outside\", \"zeroline\": false, \"zerolinecolor\": \"rgb(36,36,36)\"}, \"zaxis\": {\"backgroundcolor\": \"white\", \"gridcolor\": \"rgb(232,232,232)\", \"gridwidth\": 2, \"linecolor\": \"rgb(36,36,36)\", \"showbackground\": true, \"showgrid\": false, \"showline\": true, \"ticks\": \"outside\", \"zeroline\": false, \"zerolinecolor\": \"rgb(36,36,36)\"}}, \"shapedefaults\": {\"fillcolor\": \"black\", \"line\": {\"width\": 0}, \"opacity\": 0.3}, \"ternary\": {\"aaxis\": {\"gridcolor\": \"rgb(232,232,232)\", \"linecolor\": \"rgb(36,36,36)\", \"showgrid\": false, \"showline\": true, \"ticks\": \"outside\"}, \"baxis\": {\"gridcolor\": \"rgb(232,232,232)\", \"linecolor\": \"rgb(36,36,36)\", \"showgrid\": false, \"showline\": true, \"ticks\": \"outside\"}, \"bgcolor\": \"white\", \"caxis\": {\"gridcolor\": \"rgb(232,232,232)\", \"linecolor\": \"rgb(36,36,36)\", \"showgrid\": false, \"showline\": true, \"ticks\": \"outside\"}}, \"title\": {\"x\": 0.05}, \"xaxis\": {\"automargin\": true, \"gridcolor\": \"rgb(232,232,232)\", \"linecolor\": \"rgb(36,36,36)\", \"showgrid\": false, \"showline\": true, \"ticks\": \"outside\", \"title\": {\"standoff\": 15}, \"zeroline\": false, \"zerolinecolor\": \"rgb(36,36,36)\"}, \"yaxis\": {\"automargin\": true, \"gridcolor\": \"rgb(232,232,232)\", \"linecolor\": \"rgb(36,36,36)\", \"showgrid\": false, \"showline\": true, \"ticks\": \"outside\", \"title\": {\"standoff\": 15}, \"zeroline\": false, \"zerolinecolor\": \"rgb(36,36,36)\"}}}, \"title\": {\"text\": \"Clouster\"}, \"xaxis\": {\"anchor\": \"y\", \"domain\": [0.0, 1.0], \"title\": {\"text\": \"RENDIMIENTO\"}}, \"yaxis\": {\"anchor\": \"x\", \"domain\": [0.0, 1.0], \"title\": {\"text\": \"Valor total cofinanciaci\\u00f3n ADR\"}}},\n",
       "                        {\"responsive\": true}\n",
       "                    ).then(function(){\n",
       "                            \n",
       "var gd = document.getElementById('c5ca4bd5-d000-40f8-b399-ea34b436a5f3');\n",
       "var x = new MutationObserver(function (mutations, observer) {{\n",
       "        var display = window.getComputedStyle(gd).display;\n",
       "        if (!display || display === 'none') {{\n",
       "            console.log([gd, 'removed!']);\n",
       "            Plotly.purge(gd);\n",
       "            observer.disconnect();\n",
       "        }}\n",
       "}});\n",
       "\n",
       "// Listen for the removal of the full notebook cells\n",
       "var notebookContainer = gd.closest('#notebook-container');\n",
       "if (notebookContainer) {{\n",
       "    x.observe(notebookContainer, {childList: true});\n",
       "}}\n",
       "\n",
       "// Listen for the clearing of the current output cell\n",
       "var outputEl = gd.closest('.output');\n",
       "if (outputEl) {{\n",
       "    x.observe(outputEl, {childList: true});\n",
       "}}\n",
       "\n",
       "                        })\n",
       "                };\n",
       "                });\n",
       "            </script>\n",
       "        </div>"
      ]
     },
     "metadata": {},
     "output_type": "display_data"
    }
   ],
   "source": [
    "from sklearn import preprocessing\n",
    "from sklearn.preprocessing import StandardScaler\n",
    "from sklearn.cluster import KMeans\n",
    "\n",
    "le = preprocessing.LabelEncoder()\n",
    "scaler = StandardScaler()\n",
    "\n",
    "\n",
    "points = PRUEBA[['RENDIMIENTO', 'Valor total cofinanciación ADR','Total beneficiarios']]\n",
    "points = points.fillna(0)\n",
    "scaler.fit(points)\n",
    "points = scaler.transform(points)\n",
    "points= pd.DataFrame(points, columns = ['RENDIMIENTO', 'Valor total cofinanciación ADR','Total beneficiarios'])\n",
    "# create kmeans object\n",
    "model = KMeans(n_clusters=4)\n",
    "# fit kmeans object to data\n",
    "model.fit(points)\n",
    "# print location of clusters learned by kmeans object\n",
    "print(model.cluster_centers_)\n",
    "# save new clusters for chart\n",
    "y_km = model.fit_predict(points)\n",
    "points['y_km']=y_km\n",
    "PRUEBA['y_km']=y_km\n",
    "fig = px.scatter(points, x='RENDIMIENTO', y='Valor total cofinanciación ADR', color='y_km'\n",
    "                     ,template=\"simple_white\", title = \"Clouster\")\n",
    "fig.show()"
   ]
  }
 ],
 "metadata": {
  "kernelspec": {
   "display_name": "Python 3",
   "language": "python",
   "name": "python3"
  },
  "language_info": {
   "codemirror_mode": {
    "name": "ipython",
    "version": 3
   },
   "file_extension": ".py",
   "mimetype": "text/x-python",
   "name": "python",
   "nbconvert_exporter": "python",
   "pygments_lexer": "ipython3",
   "version": "3.7.6"
  }
 },
 "nbformat": 4,
 "nbformat_minor": 4
}
