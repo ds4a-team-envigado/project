{
 "cells": [
  {
   "cell_type": "code",
   "execution_count": 1,
   "metadata": {},
   "outputs": [],
   "source": [
    "import os\n",
    "# Import required libraries\n",
    "import copy\n",
    "import pathlib\n",
    "import dash\n",
    "import math\n",
    "import datetime as dt\n",
    "import pandas as pd\n",
    "import numpy as np\n",
    "from dash.dependencies import Input, Output, State, ClientsideFunction\n",
    "import dash_core_components as dcc\n",
    "import dash_html_components as html\n",
    "import plotly.express as px\n",
    "import plotly.graph_objects as go\n",
    "from jupyter_dash import JupyterDash\n",
    "from typing import Tuple\n",
    "from sklearn.cluster import AgglomerativeClustering\n",
    "from sklearn.preprocessing import StandardScaler\n",
    "from io import BytesIO\n",
    "from wordcloud import WordCloud\n",
    "import base64\n",
    "import chart_studio.plotly as py\n",
    "import plotly.graph_objs as go\n",
    "\n",
    "if not os.path.exists(\"images\"):\n",
    "    os.mkdir(\"images\")"
   ]
  },
  {
   "cell_type": "code",
   "execution_count": 2,
   "metadata": {},
   "outputs": [],
   "source": [
    "# #Traer de la base de datos DIFICIL\n",
    "PATH = pathlib.Path('./data').parent\n",
    "DATA_PATH = PATH.joinpath(\"data\").resolve()\n",
    "EVA = pd.read_csv(DATA_PATH.joinpath('EVA_cultivos_modificado.csv'))"
   ]
  },
  {
   "cell_type": "code",
   "execution_count": 11,
   "metadata": {},
   "outputs": [
    {
     "name": "stdout",
     "output_type": "stream",
     "text": [
      "boyaca\n",
      "cundinamarca\n",
      "norte_de_santander\n",
      "santander\n",
      "cauca\n",
      "valle_del_cauca\n",
      "caldas\n",
      "putumayo\n",
      "tolima\n",
      "nariã‘o\n",
      "quindio\n",
      "antioquia\n",
      "caqueta\n",
      "amazonas\n",
      "choco\n",
      "casanare\n",
      "cesar\n",
      "la_guajira\n",
      "archipielago_de_san_andres_providencia_y_santa_catalina\n",
      "arauca\n",
      "huila\n",
      "meta\n",
      "bolivar\n",
      "risaralda\n",
      "sucre\n",
      "cordoba\n",
      "vichada\n",
      "guainia\n",
      "atlantico\n",
      "magdalena\n",
      "guaviare\n",
      "vaupes\n"
     ]
    }
   ],
   "source": [
    "for i in EVA['DEPARTAMENTO'].unique():\n",
    "    dff4 = EVA[EVA['DEPARTAMENTO']==i].groupby(['CADENA_PRODUCTIVA_ADR','DEPARTAMENTO'])[[\"RENDIMIENTO\"]].mean().sort_values(by=\"RENDIMIENTO\",ascending=False).head(10).reset_index()\n",
    "    fig = px.bar(dff4, y=\"RENDIMIENTO\", x= 'CADENA_PRODUCTIVA_ADR', orientation='v', width = 320 , template = \"simple_white\", \n",
    "                color = 'CADENA_PRODUCTIVA_ADR', color_discrete_sequence=['green'],\n",
    "                labels={\"RENDIMIENTO\":'<b>Rendimiento promedio (Ton/Ha)</b>', \n",
    "                        'CADENA_PRODUCTIVA_ADR':'<b>Cultivo</b>'})\n",
    "    fig.update_layout(showlegend=False, xaxis_tickangle=-90, bargap = 0)\n",
    "        \n",
    "    j = i.lower()\n",
    "    k = j.replace(' ','_')\n",
    "    print(k)\n",
    "    fig.write_image(\"images/fig_\"+k+\".png\")"
   ]
  }
 ],
 "metadata": {
  "kernelspec": {
   "display_name": "Python 3",
   "language": "python",
   "name": "python3"
  },
  "language_info": {
   "codemirror_mode": {
    "name": "ipython",
    "version": 3
   },
   "file_extension": ".py",
   "mimetype": "text/x-python",
   "name": "python",
   "nbconvert_exporter": "python",
   "pygments_lexer": "ipython3",
   "version": "3.7.6"
  }
 },
 "nbformat": 4,
 "nbformat_minor": 4
}
