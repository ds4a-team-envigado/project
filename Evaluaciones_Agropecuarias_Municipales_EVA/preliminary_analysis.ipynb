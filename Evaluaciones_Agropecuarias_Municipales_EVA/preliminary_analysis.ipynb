{
 "cells": [
  {
   "cell_type": "markdown",
   "metadata": {},
   "source": [
    "# Preliminary analysis: What is in the dataset?"
   ]
  },
  {
   "cell_type": "markdown",
   "metadata": {},
   "source": [
    "## Importing all the dependencies"
   ]
  },
  {
   "cell_type": "code",
   "execution_count": null,
   "metadata": {},
   "outputs": [],
   "source": [
    "import pandas as pd\n",
    "%matplotlib inline"
   ]
  },
  {
   "cell_type": "markdown",
   "metadata": {},
   "source": [
    "## Reading the data"
   ]
  },
  {
   "cell_type": "code",
   "execution_count": null,
   "metadata": {},
   "outputs": [],
   "source": [
    "data = pd.read_csv(\"data/Evaluaciones_Agropecuarias_Municipales_EVA.csv\")"
   ]
  },
  {
   "cell_type": "code",
   "execution_count": null,
   "metadata": {},
   "outputs": [],
   "source": [
    "data.head()"
   ]
  },
  {
   "cell_type": "markdown",
   "metadata": {},
   "source": [
    "Las variables importantes son: Municipio, Cod Municipio, Grupo de Cultivo, Subgrupo de cultivo, Cultivo, Desagregación regional y/o sistema productivo, año, periodo, rendimiento, ciclo de cultivo"
   ]
  },
  {
   "cell_type": "markdown",
   "metadata": {},
   "source": [
    "#### Rendimiento se da en toneladas producidas por hectarea cosechada, es decir, entre más rendimiento significa que se sacan más toneladas en un area más pequeña. No tiene nada que ver con el precio, sería bueno conocer el precio del producto"
   ]
  },
  {
   "cell_type": "markdown",
   "metadata": {},
   "source": [
    "## Changing the column names"
   ]
  },
  {
   "cell_type": "code",
   "execution_count": null,
   "metadata": {},
   "outputs": [],
   "source": [
    "data.columns = ['COD_DEP', 'DEPARTAMENTO', 'COD_MUN','MUNICIPIO','GRUP_CULTIVO','SUBGRUP_CULTIVO','CULTIVO','DESAGREGACION_SIST_PRODUCTIVO','YEAR','PERIODO','AREA_SEMBR','AREA_COSECH','PRODUCCION','RENDIMIENTO','ESTADO_PRODUCCION','NOMBRE_CIENTI','CICLO_CULTIVO']"
   ]
  },
  {
   "cell_type": "code",
   "execution_count": null,
   "metadata": {},
   "outputs": [],
   "source": [
    "data.head()"
   ]
  },
  {
   "cell_type": "markdown",
   "metadata": {},
   "source": [
    "## Describing the data"
   ]
  },
  {
   "cell_type": "code",
   "execution_count": null,
   "metadata": {},
   "outputs": [],
   "source": [
    "DATA = data \n",
    "data.describe()"
   ]
  },
  {
   "cell_type": "markdown",
   "metadata": {},
   "source": [
    "#### "
   ]
  },
  {
   "cell_type": "code",
   "execution_count": null,
   "metadata": {},
   "outputs": [],
   "source": [
    "data.info()"
   ]
  },
  {
   "cell_type": "markdown",
   "metadata": {},
   "source": [
    "## Rendimiento de cultivos por departamento:"
   ]
  },
  {
   "cell_type": "code",
   "execution_count": null,
   "metadata": {},
   "outputs": [],
   "source": [
    "rendimiento_dep = data.groupby('DEPARTAMENTO').RENDIMIENTO.agg(['count','min','max','mean'])\n",
    "rendimiento_dep.sort_values('mean',ascending=False).head(10)"
   ]
  },
  {
   "cell_type": "markdown",
   "metadata": {},
   "source": [
    "## Rendimiento de cultivo"
   ]
  },
  {
   "cell_type": "code",
   "execution_count": null,
   "metadata": {},
   "outputs": [],
   "source": [
    "rendimiento_cult = data.groupby('CULTIVO').RENDIMIENTO.agg(['count','min','max','mean'])\n",
    "rendimiento_cult.sort_values('mean',ascending=False).head(10)"
   ]
  },
  {
   "cell_type": "markdown",
   "metadata": {},
   "source": [
    "## How many crops types are there?"
   ]
  },
  {
   "cell_type": "code",
   "execution_count": null,
   "metadata": {},
   "outputs": [],
   "source": [
    "rendimiento_cult.count()"
   ]
  },
  {
   "cell_type": "markdown",
   "metadata": {},
   "source": [
    "## Relevant questions"
   ]
  },
  {
   "cell_type": "markdown",
   "metadata": {},
   "source": [
    "1. Cuales son los cultivos más propicios a dar un buen rendimiento?\n",
    "2. Cuales son los departamentos y municipios donde hay mayor rendimiento?\n",
    "3. Con esto se podrían definir X cultivos que pueden ser aceptados de acuerdo con su rendimiento y el municipio donde se presenta el proyecto"
   ]
  },
  {
   "cell_type": "markdown",
   "metadata": {},
   "source": [
    "## Example: ¿cuales son los 10 cultivos más propicios para cultivar en Marinilla-Antioquia?"
   ]
  },
  {
   "cell_type": "code",
   "execution_count": null,
   "metadata": {},
   "outputs": [],
   "source": [
    "rendimiento_marinilla = data[data.MUNICIPIO == \"MARINILLA\"].groupby('CULTIVO').RENDIMIENTO.agg(['count','min','max','mean'])\n",
    "rendimiento_marinilla.sort_values('mean',ascending=False).head(10)"
   ]
  },
  {
   "cell_type": "markdown",
   "metadata": {},
   "source": [
    "# Relevant question 1: What are the crops that give the highest yield?"
   ]
  },
  {
   "cell_type": "markdown",
   "metadata": {},
   "source": [
    "## For Colombia"
   ]
  },
  {
   "cell_type": "code",
   "execution_count": null,
   "metadata": {},
   "outputs": [],
   "source": [
    "stat = data.groupby(data['CULTIVO']).mean()\n",
    "highest_crops = stat.nlargest(10, 'RENDIMIENTO').reset_index()\n",
    "highest_crops"
   ]
  },
  {
   "cell_type": "code",
   "execution_count": null,
   "metadata": {},
   "outputs": [],
   "source": [
    "import plotly.express as px\n",
    "fig = px.bar(highest_crops, x='CULTIVO', y='RENDIMIENTO',color='RENDIMIENTO')\n",
    "fig.show()"
   ]
  },
  {
   "cell_type": "markdown",
   "metadata": {},
   "source": [
    "## Yields by department"
   ]
  },
  {
   "cell_type": "code",
   "execution_count": null,
   "metadata": {},
   "outputs": [],
   "source": [
    "rendimiento_dep = data.groupby('DEPARTAMENTO').mean()\n",
    "print(\"there are\",len(rendimiento_dep),\"departments\")\n",
    "highest_department = rendimiento_dep.nlargest(32, 'RENDIMIENTO').reset_index()\n",
    "highest_department=highest_department.drop(['COD_MUN', 'YEAR'], axis=1)\n",
    "highest_department.to_csv (r\"data/EVA_cultivos_departamento.csv\", index = False, header=True)\n",
    "highest_department"
   ]
  },
  {
   "cell_type": "code",
   "execution_count": null,
   "metadata": {},
   "outputs": [],
   "source": []
  },
  {
   "cell_type": "code",
   "execution_count": null,
   "metadata": {},
   "outputs": [],
   "source": [
    "fig = px.bar(highest_department, x='DEPARTAMENTO', y='RENDIMIENTO',color='RENDIMIENTO')\n",
    "fig.show()"
   ]
  },
  {
   "cell_type": "markdown",
   "metadata": {},
   "source": [
    "# Relevant question 2: What are the municipios that have the highest yield"
   ]
  },
  {
   "cell_type": "markdown",
   "metadata": {},
   "source": [
    "## In general"
   ]
  },
  {
   "cell_type": "code",
   "execution_count": null,
   "metadata": {},
   "outputs": [],
   "source": [
    "rendimiento_mun = data.groupby('MUNICIPIO').RENDIMIENTO.mean()\n",
    "rendimiento_mun=rendimiento_mun.sort_values(ascending=False).head(10).to_frame().reset_index()\n",
    "rendimiento_mun"
   ]
  },
  {
   "cell_type": "code",
   "execution_count": null,
   "metadata": {},
   "outputs": [],
   "source": [
    "fig = px.bar(rendimiento_mun, x='MUNICIPIO', y='RENDIMIENTO',color='RENDIMIENTO')\n",
    "fig.show()"
   ]
  },
  {
   "cell_type": "markdown",
   "metadata": {},
   "source": [
    "# Relevant question 3: How is the data for a sample?"
   ]
  },
  {
   "cell_type": "markdown",
   "metadata": {},
   "source": [
    "With this we can just give the algorithm a municipal or department and it will give us:\n",
    "1. Top 5 Crops\n",
    "2. Is the yield increasing or decreasing over time\n",
    "3. Is the sample in the top 5 of country? if its a municipal its in the top 5 of the departament?"
   ]
  },
  {
   "cell_type": "code",
   "execution_count": null,
   "metadata": {},
   "outputs": [],
   "source": [
    "sample = \"MARINILLA\"\n",
    "#sample = \"Antioquia\"\n",
    "#sample = \"Valle del cauca\""
   ]
  },
  {
   "cell_type": "markdown",
   "metadata": {},
   "source": [
    "## What are the top 5 crops?"
   ]
  },
  {
   "cell_type": "code",
   "execution_count": null,
   "metadata": {},
   "outputs": [],
   "source": [
    "rendimiento_marinilla = data[data.MUNICIPIO == sample].groupby('CULTIVO').RENDIMIENTO.mean()\n",
    "rendimiento_marinilla=rendimiento_marinilla.sort_values(ascending=False).head(5).to_frame().reset_index()\n",
    "rendimiento_marinilla\n",
    "#rendimiento_marinilla.sort_values('mean',ascending=False).head(10)"
   ]
  },
  {
   "cell_type": "code",
   "execution_count": null,
   "metadata": {},
   "outputs": [],
   "source": [
    "fig = px.bar(rendimiento_marinilla, x='CULTIVO', y='RENDIMIENTO',color='RENDIMIENTO')\n",
    "fig.show()"
   ]
  },
  {
   "cell_type": "markdown",
   "metadata": {},
   "source": [
    "## How is the yield over time? is it increasing? decreasing?"
   ]
  },
  {
   "cell_type": "code",
   "execution_count": null,
   "metadata": {},
   "outputs": [],
   "source": [
    "rendimiento_marinilla = data[data.MUNICIPIO == sample]\n",
    "rendimiento_marinilla= rendimiento_marinilla[rendimiento_marinilla.CULTIVO=='REPOLLO']\n",
    "#fig = px.bar(rendimiento_marinilla, x='YEAR', y='RENDIMIENTO',color='RENDIMIENTO')\n",
    "#fig.show()"
   ]
  },
  {
   "cell_type": "markdown",
   "metadata": {},
   "source": [
    "## Is the sample in the top 5 of country? if it's a municipality, is it in the top 5 of the departament?"
   ]
  },
  {
   "cell_type": "code",
   "execution_count": null,
   "metadata": {},
   "outputs": [],
   "source": []
  },
  {
   "cell_type": "markdown",
   "metadata": {},
   "source": [
    "# change name of departments"
   ]
  },
  {
   "cell_type": "code",
   "execution_count": 160,
   "metadata": {},
   "outputs": [
    {
     "output_type": "stream",
     "name": "stdout",
     "text": "there are 32 departments\n"
    }
   ],
   "source": [
    "#Coger los nombres de departamentos del Json\n",
    "import json\n",
    "with open('data/departamentos.json') as f:\n",
    "    counties = json.load(f)\n",
    "\n",
    "Departamentos = []\n",
    "geocol = counties.copy()\n",
    "#Sacar una lista de los departamentos llamada \"Departamentos\"\n",
    "for man in geocol['features']:\n",
    "    Departamentos.append(man['properties']['NOMBRE_DPT'])\n",
    "    man['id']=man['properties']['NOMBRE_DPT']\n",
    "\n",
    "# Abrir Dataframe\n",
    "\n",
    "df = pd.read_csv(\"data/Evaluaciones_Agropecuarias_Municipales_EVA.csv\")\n",
    "\n",
    "# Cambiar nombre de columnas para ser más legibles\n",
    "df.columns = ['COD_DEP', 'DEPARTAMENTO', 'COD_MUN','MUNICIPIO','GRUP_CULTIVO','SUBGRUP_CULTIVO','CULTIVO','DESAGREGACION_SIST_PRODUCTIVO','YEAR','PERIODO','AREA_SEMBR','AREA_COSECH','PRODUCCION','RENDIMIENTO','ESTADO_PRODUCCION','NOMBRE_CIENTI','CICLO_CULTIVO']\n",
    "\n",
    "# Por cada departamento del Json\n",
    "for depto in Departamentos:\n",
    "    # si está ya en el data set, no hacer nada, si no está hacer lo siguiente\n",
    "    if df['DEPARTAMENTO'].str.contains(depto).any() == False:\n",
    "        # Revisar cantidad de palabras\n",
    "        words = depto.split()\n",
    "        # Si hay una sola palabra, coger el 50 % de esa palabra y buscarlo\n",
    "        if len(words) == 1:\n",
    "            df.loc[df.DEPARTAMENTO.str.find(depto[:int(len(depto)*0.6)])>=0, 'DEPARTAMENTO'] = depto\n",
    "        # Si hay entre 2 o 3 palabras por lo general se encuentra casi la misma palabra (60%)\n",
    "        elif len(words) > 1 and len(words) <= 3:\n",
    "            df.loc[df.DEPARTAMENTO.str.find(depto[:int(len(depto)*0.8)])>=0, 'DEPARTAMENTO'] = depto\n",
    "        # si hay mas de 4 palabras, el unico registro es san andres\n",
    "        elif len(words) > 4:\n",
    "            df.loc[df.DEPARTAMENTO.str.find(\"SAN ANDRES\")>=0, 'DEPARTAMENTO'] = depto\n",
    "\n",
    "# Sacar lista de departamentos por codigo, area sembrada, area cosechada, produccion y rendimiento\n",
    "# Sacar el promedio de cada dato numerico por departamento\n",
    "rendimiento_dep = df.groupby('DEPARTAMENTO').mean()\n",
    "# Cuantos departamentos hay?\n",
    "print(\"there are\",len(rendimiento_dep),\"departments\")\n",
    "# resetear el indice\n",
    "highest_department = rendimiento_dep.reset_index()\n",
    "# Quitar columnas que no son necesarias\n",
    "highest_department=highest_department.drop(['COD_MUN', 'YEAR'], axis=1)\n",
    "# Pasar a csv\n",
    "highest_department.to_csv (r\"data/EVA_cultivos_departamento.csv\", index = False, header=True)\n",
    "df.to_csv (r\"data/EVA_cultivos_modificado.csv\", index = False, header=True)"
   ]
  }
 ],
 "metadata": {
  "kernelspec": {
   "display_name": "Python 3.7.7 64-bit ('R-DOE': conda)",
   "language": "python",
   "name": "python37764bitrdoeconda935388297b79407d83cccf2b3578fd7c"
  },
  "language_info": {
   "codemirror_mode": {
    "name": "ipython",
    "version": 3
   },
   "file_extension": ".py",
   "mimetype": "text/x-python",
   "name": "python",
   "nbconvert_exporter": "python",
   "pygments_lexer": "ipython3",
   "version": "3.7.7-final"
  }
 },
 "nbformat": 4,
 "nbformat_minor": 4
}