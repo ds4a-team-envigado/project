{
 "cells": [
  {
   "cell_type": "markdown",
   "metadata": {},
   "source": [
    "# Preliminary analysis: What is in the dataset?"
   ]
  },
  {
   "cell_type": "markdown",
   "metadata": {},
   "source": [
    "## Importing all the dependencies"
   ]
  },
  {
   "cell_type": "code",
   "execution_count": 22,
   "metadata": {},
   "outputs": [],
   "source": [
    "import pandas as pd\n",
    "%matplotlib inline"
   ]
  },
  {
   "cell_type": "markdown",
   "metadata": {},
   "source": [
    "## Reading the data"
   ]
  },
  {
   "cell_type": "code",
   "execution_count": 23,
   "metadata": {},
   "outputs": [],
   "source": [
    "data = pd.read_csv(\"data/Evaluaciones_Agropecuarias_Municipales_EVA.csv\")"
   ]
  },
  {
   "cell_type": "code",
   "execution_count": 24,
   "metadata": {},
   "outputs": [
    {
     "output_type": "execute_result",
     "data": {
      "text/plain": "   CÓD. \\nDEP.        DEPARTAMENTO  CÓD. MUN.   MUNICIPIO GRUPO \\nDE CULTIVO  \\\n0           15              BOYACA      15114    BUSBANZA         HORTALIZAS   \n1           25        CUNDINAMARCA      25754      SOACHA         HORTALIZAS   \n2           25        CUNDINAMARCA      25214        COTA         HORTALIZAS   \n3           54  NORTE DE SANTANDER      54405  LOS PATIOS         HORTALIZAS   \n4           54  NORTE DE SANTANDER      54518    PAMPLONA         HORTALIZAS   \n\n  SUBGRUPO \\nDE CULTIVO CULTIVO DESAGREGACIÓN REGIONAL Y/O SISTEMA PRODUCTIVO  \\\n0                ACELGA  ACELGA                                        ACELGA   \n1                ACELGA  ACELGA                                        ACELGA   \n2                ACELGA  ACELGA                                        ACELGA   \n3                ACELGA  ACELGA                                        ACELGA   \n4                ACELGA  ACELGA                                        ACELGA   \n\n    AÑO PERIODO  Área Sembrada\\n(ha)  Área Cosechada\\n(ha)  Producción\\n(t)  \\\n0  2006   2006B                    2                     1                1   \n1  2006   2006B                   82                    80             1440   \n2  2006   2006B                    2                     2               26   \n3  2006   2006B                    3                     3               48   \n4  2006   2006B                    1                     1                5   \n\n   Rendimiento\\n(t/ha) ESTADO FISICO PRODUCCION NOMBRE \\nCIENTIFICO  \\\n0                 1.00             FRUTO FRESCO       BETA VULGARIS   \n1                18.00             FRUTO FRESCO       BETA VULGARIS   \n2                17.33             FRUTO FRESCO       BETA VULGARIS   \n3                16.00             FRUTO FRESCO       BETA VULGARIS   \n4                10.00             FRUTO FRESCO       BETA VULGARIS   \n\n  CICLO DE CULTIVO  \n0      TRANSITORIO  \n1      TRANSITORIO  \n2      TRANSITORIO  \n3      TRANSITORIO  \n4      TRANSITORIO  ",
      "text/html": "<div>\n<style scoped>\n    .dataframe tbody tr th:only-of-type {\n        vertical-align: middle;\n    }\n\n    .dataframe tbody tr th {\n        vertical-align: top;\n    }\n\n    .dataframe thead th {\n        text-align: right;\n    }\n</style>\n<table border=\"1\" class=\"dataframe\">\n  <thead>\n    <tr style=\"text-align: right;\">\n      <th></th>\n      <th>CÓD. \\nDEP.</th>\n      <th>DEPARTAMENTO</th>\n      <th>CÓD. MUN.</th>\n      <th>MUNICIPIO</th>\n      <th>GRUPO \\nDE CULTIVO</th>\n      <th>SUBGRUPO \\nDE CULTIVO</th>\n      <th>CULTIVO</th>\n      <th>DESAGREGACIÓN REGIONAL Y/O SISTEMA PRODUCTIVO</th>\n      <th>AÑO</th>\n      <th>PERIODO</th>\n      <th>Área Sembrada\\n(ha)</th>\n      <th>Área Cosechada\\n(ha)</th>\n      <th>Producción\\n(t)</th>\n      <th>Rendimiento\\n(t/ha)</th>\n      <th>ESTADO FISICO PRODUCCION</th>\n      <th>NOMBRE \\nCIENTIFICO</th>\n      <th>CICLO DE CULTIVO</th>\n    </tr>\n  </thead>\n  <tbody>\n    <tr>\n      <th>0</th>\n      <td>15</td>\n      <td>BOYACA</td>\n      <td>15114</td>\n      <td>BUSBANZA</td>\n      <td>HORTALIZAS</td>\n      <td>ACELGA</td>\n      <td>ACELGA</td>\n      <td>ACELGA</td>\n      <td>2006</td>\n      <td>2006B</td>\n      <td>2</td>\n      <td>1</td>\n      <td>1</td>\n      <td>1.00</td>\n      <td>FRUTO FRESCO</td>\n      <td>BETA VULGARIS</td>\n      <td>TRANSITORIO</td>\n    </tr>\n    <tr>\n      <th>1</th>\n      <td>25</td>\n      <td>CUNDINAMARCA</td>\n      <td>25754</td>\n      <td>SOACHA</td>\n      <td>HORTALIZAS</td>\n      <td>ACELGA</td>\n      <td>ACELGA</td>\n      <td>ACELGA</td>\n      <td>2006</td>\n      <td>2006B</td>\n      <td>82</td>\n      <td>80</td>\n      <td>1440</td>\n      <td>18.00</td>\n      <td>FRUTO FRESCO</td>\n      <td>BETA VULGARIS</td>\n      <td>TRANSITORIO</td>\n    </tr>\n    <tr>\n      <th>2</th>\n      <td>25</td>\n      <td>CUNDINAMARCA</td>\n      <td>25214</td>\n      <td>COTA</td>\n      <td>HORTALIZAS</td>\n      <td>ACELGA</td>\n      <td>ACELGA</td>\n      <td>ACELGA</td>\n      <td>2006</td>\n      <td>2006B</td>\n      <td>2</td>\n      <td>2</td>\n      <td>26</td>\n      <td>17.33</td>\n      <td>FRUTO FRESCO</td>\n      <td>BETA VULGARIS</td>\n      <td>TRANSITORIO</td>\n    </tr>\n    <tr>\n      <th>3</th>\n      <td>54</td>\n      <td>NORTE DE SANTANDER</td>\n      <td>54405</td>\n      <td>LOS PATIOS</td>\n      <td>HORTALIZAS</td>\n      <td>ACELGA</td>\n      <td>ACELGA</td>\n      <td>ACELGA</td>\n      <td>2006</td>\n      <td>2006B</td>\n      <td>3</td>\n      <td>3</td>\n      <td>48</td>\n      <td>16.00</td>\n      <td>FRUTO FRESCO</td>\n      <td>BETA VULGARIS</td>\n      <td>TRANSITORIO</td>\n    </tr>\n    <tr>\n      <th>4</th>\n      <td>54</td>\n      <td>NORTE DE SANTANDER</td>\n      <td>54518</td>\n      <td>PAMPLONA</td>\n      <td>HORTALIZAS</td>\n      <td>ACELGA</td>\n      <td>ACELGA</td>\n      <td>ACELGA</td>\n      <td>2006</td>\n      <td>2006B</td>\n      <td>1</td>\n      <td>1</td>\n      <td>5</td>\n      <td>10.00</td>\n      <td>FRUTO FRESCO</td>\n      <td>BETA VULGARIS</td>\n      <td>TRANSITORIO</td>\n    </tr>\n  </tbody>\n</table>\n</div>"
     },
     "metadata": {},
     "execution_count": 24
    }
   ],
   "source": [
    "data.head()"
   ]
  },
  {
   "cell_type": "markdown",
   "metadata": {},
   "source": [
    "Las variables importantes son: Municipio, Cod Municipio, Grupo de Cultivo, Subgrupo de cultivo, Cultivo, Desagregación regional y/o sistema productivo, año, periodo, rendimiento, ciclo de cultivo"
   ]
  },
  {
   "cell_type": "markdown",
   "metadata": {},
   "source": [
    "#### Rendimiento se da en toneladas producidas por hectarea cosechada, es decir, entre más rendimiento significa que se sacan más toneladas en un area más pequeña. No tiene nada que ver con el precio, sería bueno conocer el precio del producto"
   ]
  },
  {
   "cell_type": "markdown",
   "metadata": {},
   "source": [
    "## Changing the column names"
   ]
  },
  {
   "cell_type": "code",
   "execution_count": 25,
   "metadata": {},
   "outputs": [],
   "source": [
    "data.columns = ['COD_DEP', 'DEPARTAMENTO', 'COD_MUN','MUNICIPIO','GRUP_CULTIVO','SUBGRUP_CULTIVO','CULTIVO','DESAGREGACION_SIST_PRODUCTIVO','YEAR','PERIODO','AREA_SEMBR','AREA_COSECH','PRODUCCION','RENDIMIENTO','ESTADO_PRODUCCION','NOMBRE_CIENTI','CICLO_CULTIVO']"
   ]
  },
  {
   "cell_type": "code",
   "execution_count": 26,
   "metadata": {},
   "outputs": [
    {
     "output_type": "execute_result",
     "data": {
      "text/plain": "   COD_DEP        DEPARTAMENTO  COD_MUN   MUNICIPIO GRUP_CULTIVO  \\\n0       15              BOYACA    15114    BUSBANZA   HORTALIZAS   \n1       25        CUNDINAMARCA    25754      SOACHA   HORTALIZAS   \n2       25        CUNDINAMARCA    25214        COTA   HORTALIZAS   \n3       54  NORTE DE SANTANDER    54405  LOS PATIOS   HORTALIZAS   \n4       54  NORTE DE SANTANDER    54518    PAMPLONA   HORTALIZAS   \n\n  SUBGRUP_CULTIVO CULTIVO DESAGREGACION_SIST_PRODUCTIVO  YEAR PERIODO  \\\n0          ACELGA  ACELGA                        ACELGA  2006   2006B   \n1          ACELGA  ACELGA                        ACELGA  2006   2006B   \n2          ACELGA  ACELGA                        ACELGA  2006   2006B   \n3          ACELGA  ACELGA                        ACELGA  2006   2006B   \n4          ACELGA  ACELGA                        ACELGA  2006   2006B   \n\n   AREA_SEMBR  AREA_COSECH  PRODUCCION  RENDIMIENTO ESTADO_PRODUCCION  \\\n0           2            1           1         1.00      FRUTO FRESCO   \n1          82           80        1440        18.00      FRUTO FRESCO   \n2           2            2          26        17.33      FRUTO FRESCO   \n3           3            3          48        16.00      FRUTO FRESCO   \n4           1            1           5        10.00      FRUTO FRESCO   \n\n   NOMBRE_CIENTI CICLO_CULTIVO  \n0  BETA VULGARIS   TRANSITORIO  \n1  BETA VULGARIS   TRANSITORIO  \n2  BETA VULGARIS   TRANSITORIO  \n3  BETA VULGARIS   TRANSITORIO  \n4  BETA VULGARIS   TRANSITORIO  ",
      "text/html": "<div>\n<style scoped>\n    .dataframe tbody tr th:only-of-type {\n        vertical-align: middle;\n    }\n\n    .dataframe tbody tr th {\n        vertical-align: top;\n    }\n\n    .dataframe thead th {\n        text-align: right;\n    }\n</style>\n<table border=\"1\" class=\"dataframe\">\n  <thead>\n    <tr style=\"text-align: right;\">\n      <th></th>\n      <th>COD_DEP</th>\n      <th>DEPARTAMENTO</th>\n      <th>COD_MUN</th>\n      <th>MUNICIPIO</th>\n      <th>GRUP_CULTIVO</th>\n      <th>SUBGRUP_CULTIVO</th>\n      <th>CULTIVO</th>\n      <th>DESAGREGACION_SIST_PRODUCTIVO</th>\n      <th>YEAR</th>\n      <th>PERIODO</th>\n      <th>AREA_SEMBR</th>\n      <th>AREA_COSECH</th>\n      <th>PRODUCCION</th>\n      <th>RENDIMIENTO</th>\n      <th>ESTADO_PRODUCCION</th>\n      <th>NOMBRE_CIENTI</th>\n      <th>CICLO_CULTIVO</th>\n    </tr>\n  </thead>\n  <tbody>\n    <tr>\n      <th>0</th>\n      <td>15</td>\n      <td>BOYACA</td>\n      <td>15114</td>\n      <td>BUSBANZA</td>\n      <td>HORTALIZAS</td>\n      <td>ACELGA</td>\n      <td>ACELGA</td>\n      <td>ACELGA</td>\n      <td>2006</td>\n      <td>2006B</td>\n      <td>2</td>\n      <td>1</td>\n      <td>1</td>\n      <td>1.00</td>\n      <td>FRUTO FRESCO</td>\n      <td>BETA VULGARIS</td>\n      <td>TRANSITORIO</td>\n    </tr>\n    <tr>\n      <th>1</th>\n      <td>25</td>\n      <td>CUNDINAMARCA</td>\n      <td>25754</td>\n      <td>SOACHA</td>\n      <td>HORTALIZAS</td>\n      <td>ACELGA</td>\n      <td>ACELGA</td>\n      <td>ACELGA</td>\n      <td>2006</td>\n      <td>2006B</td>\n      <td>82</td>\n      <td>80</td>\n      <td>1440</td>\n      <td>18.00</td>\n      <td>FRUTO FRESCO</td>\n      <td>BETA VULGARIS</td>\n      <td>TRANSITORIO</td>\n    </tr>\n    <tr>\n      <th>2</th>\n      <td>25</td>\n      <td>CUNDINAMARCA</td>\n      <td>25214</td>\n      <td>COTA</td>\n      <td>HORTALIZAS</td>\n      <td>ACELGA</td>\n      <td>ACELGA</td>\n      <td>ACELGA</td>\n      <td>2006</td>\n      <td>2006B</td>\n      <td>2</td>\n      <td>2</td>\n      <td>26</td>\n      <td>17.33</td>\n      <td>FRUTO FRESCO</td>\n      <td>BETA VULGARIS</td>\n      <td>TRANSITORIO</td>\n    </tr>\n    <tr>\n      <th>3</th>\n      <td>54</td>\n      <td>NORTE DE SANTANDER</td>\n      <td>54405</td>\n      <td>LOS PATIOS</td>\n      <td>HORTALIZAS</td>\n      <td>ACELGA</td>\n      <td>ACELGA</td>\n      <td>ACELGA</td>\n      <td>2006</td>\n      <td>2006B</td>\n      <td>3</td>\n      <td>3</td>\n      <td>48</td>\n      <td>16.00</td>\n      <td>FRUTO FRESCO</td>\n      <td>BETA VULGARIS</td>\n      <td>TRANSITORIO</td>\n    </tr>\n    <tr>\n      <th>4</th>\n      <td>54</td>\n      <td>NORTE DE SANTANDER</td>\n      <td>54518</td>\n      <td>PAMPLONA</td>\n      <td>HORTALIZAS</td>\n      <td>ACELGA</td>\n      <td>ACELGA</td>\n      <td>ACELGA</td>\n      <td>2006</td>\n      <td>2006B</td>\n      <td>1</td>\n      <td>1</td>\n      <td>5</td>\n      <td>10.00</td>\n      <td>FRUTO FRESCO</td>\n      <td>BETA VULGARIS</td>\n      <td>TRANSITORIO</td>\n    </tr>\n  </tbody>\n</table>\n</div>"
     },
     "metadata": {},
     "execution_count": 26
    }
   ],
   "source": [
    "data.head()"
   ]
  },
  {
   "cell_type": "markdown",
   "metadata": {},
   "source": [
    "## Describing the data"
   ]
  },
  {
   "cell_type": "code",
   "execution_count": 27,
   "metadata": {},
   "outputs": [
    {
     "output_type": "execute_result",
     "data": {
      "text/plain": "             COD_DEP        COD_MUN           YEAR     AREA_SEMBR  \\\ncount  206068.000000  206068.000000  206068.000000  206068.000000   \nmean       40.322563   40747.534066    2012.455976     291.073825   \nstd        25.278662   25256.621906       3.479113    1153.602556   \nmin         5.000000    5001.000000    2006.000000       0.000000   \n25%        17.000000   17524.000000    2009.000000      10.000000   \n50%        41.000000   41357.000000    2013.000000      35.000000   \n75%        68.000000   68001.000000    2015.000000     151.000000   \nmax        99.000000   99773.000000    2018.000000   47403.000000   \n\n         AREA_COSECH    PRODUCCION    RENDIMIENTO  \ncount  206068.000000  2.060680e+05  202635.000000  \nmean      249.419522  2.790726e+03       9.238820  \nstd       980.375226  4.511471e+04      14.888659  \nmin         0.000000  0.000000e+00       0.030000  \n25%         8.000000  3.200000e+01       1.500000  \n50%        30.000000  1.400000e+02       5.000000  \n75%       130.000000  6.480000e+02      11.230000  \nmax     38600.000000  4.546116e+06     246.000000  ",
      "text/html": "<div>\n<style scoped>\n    .dataframe tbody tr th:only-of-type {\n        vertical-align: middle;\n    }\n\n    .dataframe tbody tr th {\n        vertical-align: top;\n    }\n\n    .dataframe thead th {\n        text-align: right;\n    }\n</style>\n<table border=\"1\" class=\"dataframe\">\n  <thead>\n    <tr style=\"text-align: right;\">\n      <th></th>\n      <th>COD_DEP</th>\n      <th>COD_MUN</th>\n      <th>YEAR</th>\n      <th>AREA_SEMBR</th>\n      <th>AREA_COSECH</th>\n      <th>PRODUCCION</th>\n      <th>RENDIMIENTO</th>\n    </tr>\n  </thead>\n  <tbody>\n    <tr>\n      <th>count</th>\n      <td>206068.000000</td>\n      <td>206068.000000</td>\n      <td>206068.000000</td>\n      <td>206068.000000</td>\n      <td>206068.000000</td>\n      <td>2.060680e+05</td>\n      <td>202635.000000</td>\n    </tr>\n    <tr>\n      <th>mean</th>\n      <td>40.322563</td>\n      <td>40747.534066</td>\n      <td>2012.455976</td>\n      <td>291.073825</td>\n      <td>249.419522</td>\n      <td>2.790726e+03</td>\n      <td>9.238820</td>\n    </tr>\n    <tr>\n      <th>std</th>\n      <td>25.278662</td>\n      <td>25256.621906</td>\n      <td>3.479113</td>\n      <td>1153.602556</td>\n      <td>980.375226</td>\n      <td>4.511471e+04</td>\n      <td>14.888659</td>\n    </tr>\n    <tr>\n      <th>min</th>\n      <td>5.000000</td>\n      <td>5001.000000</td>\n      <td>2006.000000</td>\n      <td>0.000000</td>\n      <td>0.000000</td>\n      <td>0.000000e+00</td>\n      <td>0.030000</td>\n    </tr>\n    <tr>\n      <th>25%</th>\n      <td>17.000000</td>\n      <td>17524.000000</td>\n      <td>2009.000000</td>\n      <td>10.000000</td>\n      <td>8.000000</td>\n      <td>3.200000e+01</td>\n      <td>1.500000</td>\n    </tr>\n    <tr>\n      <th>50%</th>\n      <td>41.000000</td>\n      <td>41357.000000</td>\n      <td>2013.000000</td>\n      <td>35.000000</td>\n      <td>30.000000</td>\n      <td>1.400000e+02</td>\n      <td>5.000000</td>\n    </tr>\n    <tr>\n      <th>75%</th>\n      <td>68.000000</td>\n      <td>68001.000000</td>\n      <td>2015.000000</td>\n      <td>151.000000</td>\n      <td>130.000000</td>\n      <td>6.480000e+02</td>\n      <td>11.230000</td>\n    </tr>\n    <tr>\n      <th>max</th>\n      <td>99.000000</td>\n      <td>99773.000000</td>\n      <td>2018.000000</td>\n      <td>47403.000000</td>\n      <td>38600.000000</td>\n      <td>4.546116e+06</td>\n      <td>246.000000</td>\n    </tr>\n  </tbody>\n</table>\n</div>"
     },
     "metadata": {},
     "execution_count": 27
    }
   ],
   "source": [
    "data.describe()"
   ]
  },
  {
   "cell_type": "markdown",
   "metadata": {},
   "source": [
    "#### "
   ]
  },
  {
   "cell_type": "code",
   "execution_count": 28,
   "metadata": {},
   "outputs": [
    {
     "output_type": "stream",
     "name": "stdout",
     "text": "<class 'pandas.core.frame.DataFrame'>\nRangeIndex: 206068 entries, 0 to 206067\nData columns (total 17 columns):\n #   Column                         Non-Null Count   Dtype  \n---  ------                         --------------   -----  \n 0   COD_DEP                        206068 non-null  int64  \n 1   DEPARTAMENTO                   206068 non-null  object \n 2   COD_MUN                        206068 non-null  int64  \n 3   MUNICIPIO                      206067 non-null  object \n 4   GRUP_CULTIVO                   206068 non-null  object \n 5   SUBGRUP_CULTIVO                206068 non-null  object \n 6   CULTIVO                        206068 non-null  object \n 7   DESAGREGACION_SIST_PRODUCTIVO  206068 non-null  object \n 8   YEAR                           206068 non-null  int64  \n 9   PERIODO                        206068 non-null  object \n 10  AREA_SEMBR                     206068 non-null  int64  \n 11  AREA_COSECH                    206068 non-null  int64  \n 12  PRODUCCION                     206068 non-null  int64  \n 13  RENDIMIENTO                    202635 non-null  float64\n 14  ESTADO_PRODUCCION              206068 non-null  object \n 15  NOMBRE_CIENTI                  203211 non-null  object \n 16  CICLO_CULTIVO                  206068 non-null  object \ndtypes: float64(1), int64(6), object(10)\nmemory usage: 26.7+ MB\n"
    }
   ],
   "source": [
    "data.info()"
   ]
  },
  {
   "cell_type": "markdown",
   "metadata": {},
   "source": [
    "## Rendimiento de cultivos por departamento:"
   ]
  },
  {
   "cell_type": "code",
   "execution_count": 29,
   "metadata": {},
   "outputs": [
    {
     "output_type": "execute_result",
     "data": {
      "text/plain": "                    count   min     max       mean\nDEPARTAMENTO                                      \nRISARALDA            2761  0.10  158.43  14.872112\nVALLE DEL CAUCA     15633  0.05  200.69  13.961407\nCALDAS               5273  0.14  156.07  11.795316\nQUINDIO              3818  0.15  180.00  11.588499\nANTIOQUIA           18165  0.03  240.00  11.403534\nNORTE DE SANTANDER   9638  0.11  150.00  10.794193\nMETA                 5059  0.20  100.00  10.478982\nCUNDINAMARCA        17554  0.06  210.00  10.319582\nBOYACA              20383  0.07  200.00   9.929606\nARAUCA                830  0.60   30.00   9.345602",
      "text/html": "<div>\n<style scoped>\n    .dataframe tbody tr th:only-of-type {\n        vertical-align: middle;\n    }\n\n    .dataframe tbody tr th {\n        vertical-align: top;\n    }\n\n    .dataframe thead th {\n        text-align: right;\n    }\n</style>\n<table border=\"1\" class=\"dataframe\">\n  <thead>\n    <tr style=\"text-align: right;\">\n      <th></th>\n      <th>count</th>\n      <th>min</th>\n      <th>max</th>\n      <th>mean</th>\n    </tr>\n    <tr>\n      <th>DEPARTAMENTO</th>\n      <th></th>\n      <th></th>\n      <th></th>\n      <th></th>\n    </tr>\n  </thead>\n  <tbody>\n    <tr>\n      <th>RISARALDA</th>\n      <td>2761</td>\n      <td>0.10</td>\n      <td>158.43</td>\n      <td>14.872112</td>\n    </tr>\n    <tr>\n      <th>VALLE DEL CAUCA</th>\n      <td>15633</td>\n      <td>0.05</td>\n      <td>200.69</td>\n      <td>13.961407</td>\n    </tr>\n    <tr>\n      <th>CALDAS</th>\n      <td>5273</td>\n      <td>0.14</td>\n      <td>156.07</td>\n      <td>11.795316</td>\n    </tr>\n    <tr>\n      <th>QUINDIO</th>\n      <td>3818</td>\n      <td>0.15</td>\n      <td>180.00</td>\n      <td>11.588499</td>\n    </tr>\n    <tr>\n      <th>ANTIOQUIA</th>\n      <td>18165</td>\n      <td>0.03</td>\n      <td>240.00</td>\n      <td>11.403534</td>\n    </tr>\n    <tr>\n      <th>NORTE DE SANTANDER</th>\n      <td>9638</td>\n      <td>0.11</td>\n      <td>150.00</td>\n      <td>10.794193</td>\n    </tr>\n    <tr>\n      <th>META</th>\n      <td>5059</td>\n      <td>0.20</td>\n      <td>100.00</td>\n      <td>10.478982</td>\n    </tr>\n    <tr>\n      <th>CUNDINAMARCA</th>\n      <td>17554</td>\n      <td>0.06</td>\n      <td>210.00</td>\n      <td>10.319582</td>\n    </tr>\n    <tr>\n      <th>BOYACA</th>\n      <td>20383</td>\n      <td>0.07</td>\n      <td>200.00</td>\n      <td>9.929606</td>\n    </tr>\n    <tr>\n      <th>ARAUCA</th>\n      <td>830</td>\n      <td>0.60</td>\n      <td>30.00</td>\n      <td>9.345602</td>\n    </tr>\n  </tbody>\n</table>\n</div>"
     },
     "metadata": {},
     "execution_count": 29
    }
   ],
   "source": [
    "rendimiento_dep = data.groupby('DEPARTAMENTO').RENDIMIENTO.agg(['count','min','max','mean'])\n",
    "rendimiento_dep.sort_values('mean',ascending=False).head(10)"
   ]
  },
  {
   "cell_type": "markdown",
   "metadata": {},
   "source": [
    "## Rendimiento de cultivo"
   ]
  },
  {
   "cell_type": "code",
   "execution_count": 30,
   "metadata": {},
   "outputs": [
    {
     "output_type": "execute_result",
     "data": {
      "text/plain": "                 count    min     max        mean\nCULTIVO                                          \nCAÑA AZUCARERA     619  48.17  200.69  117.301389\nTOMATE            9641   0.50  246.00   38.291158\nCHAMPIÑON           11   2.00   60.00   34.181818\nPIÑA              2125   0.24  184.00   28.946936\nSABILA             238   1.00  100.00   28.369622\nMAIZ FORRAJERO     234   1.42   87.27   28.225983\nCHAMBA              24   0.50   50.00   27.537500\nCEBOLLIN            14   6.00   50.00   25.642857\nCORDELINE CINTA      4  25.00   25.00   25.000000\nFRESA              691   1.00   90.00   24.435326",
      "text/html": "<div>\n<style scoped>\n    .dataframe tbody tr th:only-of-type {\n        vertical-align: middle;\n    }\n\n    .dataframe tbody tr th {\n        vertical-align: top;\n    }\n\n    .dataframe thead th {\n        text-align: right;\n    }\n</style>\n<table border=\"1\" class=\"dataframe\">\n  <thead>\n    <tr style=\"text-align: right;\">\n      <th></th>\n      <th>count</th>\n      <th>min</th>\n      <th>max</th>\n      <th>mean</th>\n    </tr>\n    <tr>\n      <th>CULTIVO</th>\n      <th></th>\n      <th></th>\n      <th></th>\n      <th></th>\n    </tr>\n  </thead>\n  <tbody>\n    <tr>\n      <th>CAÑA AZUCARERA</th>\n      <td>619</td>\n      <td>48.17</td>\n      <td>200.69</td>\n      <td>117.301389</td>\n    </tr>\n    <tr>\n      <th>TOMATE</th>\n      <td>9641</td>\n      <td>0.50</td>\n      <td>246.00</td>\n      <td>38.291158</td>\n    </tr>\n    <tr>\n      <th>CHAMPIÑON</th>\n      <td>11</td>\n      <td>2.00</td>\n      <td>60.00</td>\n      <td>34.181818</td>\n    </tr>\n    <tr>\n      <th>PIÑA</th>\n      <td>2125</td>\n      <td>0.24</td>\n      <td>184.00</td>\n      <td>28.946936</td>\n    </tr>\n    <tr>\n      <th>SABILA</th>\n      <td>238</td>\n      <td>1.00</td>\n      <td>100.00</td>\n      <td>28.369622</td>\n    </tr>\n    <tr>\n      <th>MAIZ FORRAJERO</th>\n      <td>234</td>\n      <td>1.42</td>\n      <td>87.27</td>\n      <td>28.225983</td>\n    </tr>\n    <tr>\n      <th>CHAMBA</th>\n      <td>24</td>\n      <td>0.50</td>\n      <td>50.00</td>\n      <td>27.537500</td>\n    </tr>\n    <tr>\n      <th>CEBOLLIN</th>\n      <td>14</td>\n      <td>6.00</td>\n      <td>50.00</td>\n      <td>25.642857</td>\n    </tr>\n    <tr>\n      <th>CORDELINE CINTA</th>\n      <td>4</td>\n      <td>25.00</td>\n      <td>25.00</td>\n      <td>25.000000</td>\n    </tr>\n    <tr>\n      <th>FRESA</th>\n      <td>691</td>\n      <td>1.00</td>\n      <td>90.00</td>\n      <td>24.435326</td>\n    </tr>\n  </tbody>\n</table>\n</div>"
     },
     "metadata": {},
     "execution_count": 30
    }
   ],
   "source": [
    "rendimiento_cult = data.groupby('CULTIVO').RENDIMIENTO.agg(['count','min','max','mean'])\n",
    "rendimiento_cult.sort_values('mean',ascending=False).head(10)"
   ]
  },
  {
   "cell_type": "markdown",
   "metadata": {},
   "source": [
    "## How many crops types are there?"
   ]
  },
  {
   "cell_type": "code",
   "execution_count": 31,
   "metadata": {},
   "outputs": [
    {
     "output_type": "execute_result",
     "data": {
      "text/plain": "count    223\nmin      220\nmax      220\nmean     220\ndtype: int64"
     },
     "metadata": {},
     "execution_count": 31
    }
   ],
   "source": [
    "rendimiento_cult.count()"
   ]
  },
  {
   "cell_type": "markdown",
   "metadata": {},
   "source": [
    "## Relevant questions"
   ]
  },
  {
   "cell_type": "markdown",
   "metadata": {},
   "source": [
    "1. Cuales son los cultivos más propicios a dar un buen rendimiento?\n",
    "2. Cuales son los departamentos y municipios donde hay mayor rendimiento?\n",
    "3. Con esto se podrían definir X cultivos que pueden ser aceptados de acuerdo con su rendimiento y el municipio donde se presenta el proyecto"
   ]
  },
  {
   "cell_type": "markdown",
   "metadata": {},
   "source": [
    "## Example: ¿cuales son los 10 cultivos más propicios para cultivar en Marinilla-Antioquia?"
   ]
  },
  {
   "cell_type": "code",
   "execution_count": 32,
   "metadata": {},
   "outputs": [
    {
     "output_type": "execute_result",
     "data": {
      "text/plain": "           count   min    max       mean\nCULTIVO                                 \nREPOLLO       24  68.0  70.90  69.870833\nCALABACIN      5  60.0  61.20  60.418000\nTOMATE        24  20.0  86.82  49.369167\nZANAHORIA     24  26.0  30.24  29.593333\nLECHUGA       24  27.0  30.00  28.042500\nACELGA         5  27.0  28.10  27.356000\nCOLIFLOR      24  24.0  27.00  25.109583\nBROCOLI       24  20.0  27.00  23.642917\nAPIO          24  21.0  23.00  22.476250\nREMOLACHA     24  19.0  24.00  21.847500",
      "text/html": "<div>\n<style scoped>\n    .dataframe tbody tr th:only-of-type {\n        vertical-align: middle;\n    }\n\n    .dataframe tbody tr th {\n        vertical-align: top;\n    }\n\n    .dataframe thead th {\n        text-align: right;\n    }\n</style>\n<table border=\"1\" class=\"dataframe\">\n  <thead>\n    <tr style=\"text-align: right;\">\n      <th></th>\n      <th>count</th>\n      <th>min</th>\n      <th>max</th>\n      <th>mean</th>\n    </tr>\n    <tr>\n      <th>CULTIVO</th>\n      <th></th>\n      <th></th>\n      <th></th>\n      <th></th>\n    </tr>\n  </thead>\n  <tbody>\n    <tr>\n      <th>REPOLLO</th>\n      <td>24</td>\n      <td>68.0</td>\n      <td>70.90</td>\n      <td>69.870833</td>\n    </tr>\n    <tr>\n      <th>CALABACIN</th>\n      <td>5</td>\n      <td>60.0</td>\n      <td>61.20</td>\n      <td>60.418000</td>\n    </tr>\n    <tr>\n      <th>TOMATE</th>\n      <td>24</td>\n      <td>20.0</td>\n      <td>86.82</td>\n      <td>49.369167</td>\n    </tr>\n    <tr>\n      <th>ZANAHORIA</th>\n      <td>24</td>\n      <td>26.0</td>\n      <td>30.24</td>\n      <td>29.593333</td>\n    </tr>\n    <tr>\n      <th>LECHUGA</th>\n      <td>24</td>\n      <td>27.0</td>\n      <td>30.00</td>\n      <td>28.042500</td>\n    </tr>\n    <tr>\n      <th>ACELGA</th>\n      <td>5</td>\n      <td>27.0</td>\n      <td>28.10</td>\n      <td>27.356000</td>\n    </tr>\n    <tr>\n      <th>COLIFLOR</th>\n      <td>24</td>\n      <td>24.0</td>\n      <td>27.00</td>\n      <td>25.109583</td>\n    </tr>\n    <tr>\n      <th>BROCOLI</th>\n      <td>24</td>\n      <td>20.0</td>\n      <td>27.00</td>\n      <td>23.642917</td>\n    </tr>\n    <tr>\n      <th>APIO</th>\n      <td>24</td>\n      <td>21.0</td>\n      <td>23.00</td>\n      <td>22.476250</td>\n    </tr>\n    <tr>\n      <th>REMOLACHA</th>\n      <td>24</td>\n      <td>19.0</td>\n      <td>24.00</td>\n      <td>21.847500</td>\n    </tr>\n  </tbody>\n</table>\n</div>"
     },
     "metadata": {},
     "execution_count": 32
    }
   ],
   "source": [
    "rendimiento_marinilla = data[data.MUNICIPIO == \"MARINILLA\"].groupby('CULTIVO').RENDIMIENTO.agg(['count','min','max','mean'])\n",
    "rendimiento_marinilla.sort_values('mean',ascending=False).head(10)"
   ]
  },
  {
   "cell_type": "markdown",
   "metadata": {},
   "source": [
    "# Relevant question 1: What are the crops that give the highest yield?"
   ]
  },
  {
   "cell_type": "markdown",
   "metadata": {},
   "source": [
    "## For Colombia"
   ]
  },
  {
   "cell_type": "code",
   "execution_count": 33,
   "metadata": {},
   "outputs": [
    {
     "output_type": "execute_result",
     "data": {
      "text/plain": "           CULTIVO    COD_DEP       COD_MUN         YEAR   AREA_SEMBR  \\\n0   CAÑA AZUCARERA  58.664013  59092.257962  2012.519108  4492.603503   \n1           TOMATE  40.042469  40471.413715  2012.285788    21.316035   \n2        CHAMPIÑON  47.363636  47506.000000  2016.090909     1.181818   \n3             PIÑA  49.255646  49656.476965  2013.026649   114.385727   \n4           SABILA  54.169014  54559.443662  2014.855634    14.482394   \n5   MAIZ FORRAJERO  43.606838  43986.978632  2014.871795   103.145299   \n6           CHAMBA  16.541667  16824.208333  2012.333333     4.958333   \n7         CEBOLLIN  10.933333  11567.266667  2015.000000     8.333333   \n8  CORDELINE CINTA  63.000000  63065.500000  2011.500000     1.250000   \n9            FRESA  31.855319  32331.154610  2013.607092    29.618440   \n\n   AREA_COSECH     PRODUCCION  RENDIMIENTO  \n0  3694.469745  445074.662420   117.301389  \n1    19.770561     749.782992    38.291158  \n2     1.181818      50.000000    34.181818  \n3    81.794038    3352.271003    28.946936  \n4    10.915493     262.686620    28.369622  \n5   100.196581    3240.688034    28.225983  \n6     4.541667     121.166667    27.537500  \n7     8.066667     324.000000    25.642857  \n8     1.250000      30.750000    25.000000  \n9    23.974468     887.296454    24.435326  ",
      "text/html": "<div>\n<style scoped>\n    .dataframe tbody tr th:only-of-type {\n        vertical-align: middle;\n    }\n\n    .dataframe tbody tr th {\n        vertical-align: top;\n    }\n\n    .dataframe thead th {\n        text-align: right;\n    }\n</style>\n<table border=\"1\" class=\"dataframe\">\n  <thead>\n    <tr style=\"text-align: right;\">\n      <th></th>\n      <th>CULTIVO</th>\n      <th>COD_DEP</th>\n      <th>COD_MUN</th>\n      <th>YEAR</th>\n      <th>AREA_SEMBR</th>\n      <th>AREA_COSECH</th>\n      <th>PRODUCCION</th>\n      <th>RENDIMIENTO</th>\n    </tr>\n  </thead>\n  <tbody>\n    <tr>\n      <th>0</th>\n      <td>CAÑA AZUCARERA</td>\n      <td>58.664013</td>\n      <td>59092.257962</td>\n      <td>2012.519108</td>\n      <td>4492.603503</td>\n      <td>3694.469745</td>\n      <td>445074.662420</td>\n      <td>117.301389</td>\n    </tr>\n    <tr>\n      <th>1</th>\n      <td>TOMATE</td>\n      <td>40.042469</td>\n      <td>40471.413715</td>\n      <td>2012.285788</td>\n      <td>21.316035</td>\n      <td>19.770561</td>\n      <td>749.782992</td>\n      <td>38.291158</td>\n    </tr>\n    <tr>\n      <th>2</th>\n      <td>CHAMPIÑON</td>\n      <td>47.363636</td>\n      <td>47506.000000</td>\n      <td>2016.090909</td>\n      <td>1.181818</td>\n      <td>1.181818</td>\n      <td>50.000000</td>\n      <td>34.181818</td>\n    </tr>\n    <tr>\n      <th>3</th>\n      <td>PIÑA</td>\n      <td>49.255646</td>\n      <td>49656.476965</td>\n      <td>2013.026649</td>\n      <td>114.385727</td>\n      <td>81.794038</td>\n      <td>3352.271003</td>\n      <td>28.946936</td>\n    </tr>\n    <tr>\n      <th>4</th>\n      <td>SABILA</td>\n      <td>54.169014</td>\n      <td>54559.443662</td>\n      <td>2014.855634</td>\n      <td>14.482394</td>\n      <td>10.915493</td>\n      <td>262.686620</td>\n      <td>28.369622</td>\n    </tr>\n    <tr>\n      <th>5</th>\n      <td>MAIZ FORRAJERO</td>\n      <td>43.606838</td>\n      <td>43986.978632</td>\n      <td>2014.871795</td>\n      <td>103.145299</td>\n      <td>100.196581</td>\n      <td>3240.688034</td>\n      <td>28.225983</td>\n    </tr>\n    <tr>\n      <th>6</th>\n      <td>CHAMBA</td>\n      <td>16.541667</td>\n      <td>16824.208333</td>\n      <td>2012.333333</td>\n      <td>4.958333</td>\n      <td>4.541667</td>\n      <td>121.166667</td>\n      <td>27.537500</td>\n    </tr>\n    <tr>\n      <th>7</th>\n      <td>CEBOLLIN</td>\n      <td>10.933333</td>\n      <td>11567.266667</td>\n      <td>2015.000000</td>\n      <td>8.333333</td>\n      <td>8.066667</td>\n      <td>324.000000</td>\n      <td>25.642857</td>\n    </tr>\n    <tr>\n      <th>8</th>\n      <td>CORDELINE CINTA</td>\n      <td>63.000000</td>\n      <td>63065.500000</td>\n      <td>2011.500000</td>\n      <td>1.250000</td>\n      <td>1.250000</td>\n      <td>30.750000</td>\n      <td>25.000000</td>\n    </tr>\n    <tr>\n      <th>9</th>\n      <td>FRESA</td>\n      <td>31.855319</td>\n      <td>32331.154610</td>\n      <td>2013.607092</td>\n      <td>29.618440</td>\n      <td>23.974468</td>\n      <td>887.296454</td>\n      <td>24.435326</td>\n    </tr>\n  </tbody>\n</table>\n</div>"
     },
     "metadata": {},
     "execution_count": 33
    }
   ],
   "source": [
    "stat = data.groupby(data['CULTIVO']).mean()\n",
    "highest_crops = stat.nlargest(10, 'RENDIMIENTO').reset_index()\n",
    "highest_crops"
   ]
  },
  {
   "cell_type": "code",
   "execution_count": 34,
   "metadata": {},
   "outputs": [
    {
     "output_type": "display_data",
     "data": {
      "application/vnd.plotly.v1+json": {
       "config": {
        "plotlyServerURL": "https://plot.ly"
       },
       "data": [
        {
         "alignmentgroup": "True",
         "hovertemplate": "CULTIVO=%{x}<br>RENDIMIENTO=%{marker.color}<extra></extra>",
         "legendgroup": "",
         "marker": {
          "color": [
           117.30138933764157,
           38.291157556270086,
           34.18181818181818,
           28.946936470588227,
           28.369621848739495,
           28.225982905982907,
           27.537499999999998,
           25.642857142857142,
           25,
           24.435325615050644
          ],
          "coloraxis": "coloraxis"
         },
         "name": "",
         "offsetgroup": "",
         "orientation": "v",
         "showlegend": false,
         "textposition": "auto",
         "type": "bar",
         "x": [
          "CAÑA AZUCARERA",
          "TOMATE",
          "CHAMPIÑON",
          "PIÑA",
          "SABILA",
          "MAIZ FORRAJERO",
          "CHAMBA",
          "CEBOLLIN",
          "CORDELINE CINTA",
          "FRESA"
         ],
         "xaxis": "x",
         "y": [
          117.30138933764157,
          38.291157556270086,
          34.18181818181818,
          28.946936470588227,
          28.369621848739495,
          28.225982905982907,
          27.537499999999998,
          25.642857142857142,
          25,
          24.435325615050644
         ],
         "yaxis": "y"
        }
       ],
       "layout": {
        "barmode": "relative",
        "coloraxis": {
         "colorbar": {
          "title": {
           "text": "RENDIMIENTO"
          }
         },
         "colorscale": [
          [
           0,
           "#0d0887"
          ],
          [
           0.1111111111111111,
           "#46039f"
          ],
          [
           0.2222222222222222,
           "#7201a8"
          ],
          [
           0.3333333333333333,
           "#9c179e"
          ],
          [
           0.4444444444444444,
           "#bd3786"
          ],
          [
           0.5555555555555556,
           "#d8576b"
          ],
          [
           0.6666666666666666,
           "#ed7953"
          ],
          [
           0.7777777777777778,
           "#fb9f3a"
          ],
          [
           0.8888888888888888,
           "#fdca26"
          ],
          [
           1,
           "#f0f921"
          ]
         ]
        },
        "legend": {
         "tracegroupgap": 0
        },
        "margin": {
         "t": 60
        },
        "template": {
         "data": {
          "bar": [
           {
            "error_x": {
             "color": "#2a3f5f"
            },
            "error_y": {
             "color": "#2a3f5f"
            },
            "marker": {
             "line": {
              "color": "#E5ECF6",
              "width": 0.5
             }
            },
            "type": "bar"
           }
          ],
          "barpolar": [
           {
            "marker": {
             "line": {
              "color": "#E5ECF6",
              "width": 0.5
             }
            },
            "type": "barpolar"
           }
          ],
          "carpet": [
           {
            "aaxis": {
             "endlinecolor": "#2a3f5f",
             "gridcolor": "white",
             "linecolor": "white",
             "minorgridcolor": "white",
             "startlinecolor": "#2a3f5f"
            },
            "baxis": {
             "endlinecolor": "#2a3f5f",
             "gridcolor": "white",
             "linecolor": "white",
             "minorgridcolor": "white",
             "startlinecolor": "#2a3f5f"
            },
            "type": "carpet"
           }
          ],
          "choropleth": [
           {
            "colorbar": {
             "outlinewidth": 0,
             "ticks": ""
            },
            "type": "choropleth"
           }
          ],
          "contour": [
           {
            "colorbar": {
             "outlinewidth": 0,
             "ticks": ""
            },
            "colorscale": [
             [
              0,
              "#0d0887"
             ],
             [
              0.1111111111111111,
              "#46039f"
             ],
             [
              0.2222222222222222,
              "#7201a8"
             ],
             [
              0.3333333333333333,
              "#9c179e"
             ],
             [
              0.4444444444444444,
              "#bd3786"
             ],
             [
              0.5555555555555556,
              "#d8576b"
             ],
             [
              0.6666666666666666,
              "#ed7953"
             ],
             [
              0.7777777777777778,
              "#fb9f3a"
             ],
             [
              0.8888888888888888,
              "#fdca26"
             ],
             [
              1,
              "#f0f921"
             ]
            ],
            "type": "contour"
           }
          ],
          "contourcarpet": [
           {
            "colorbar": {
             "outlinewidth": 0,
             "ticks": ""
            },
            "type": "contourcarpet"
           }
          ],
          "heatmap": [
           {
            "colorbar": {
             "outlinewidth": 0,
             "ticks": ""
            },
            "colorscale": [
             [
              0,
              "#0d0887"
             ],
             [
              0.1111111111111111,
              "#46039f"
             ],
             [
              0.2222222222222222,
              "#7201a8"
             ],
             [
              0.3333333333333333,
              "#9c179e"
             ],
             [
              0.4444444444444444,
              "#bd3786"
             ],
             [
              0.5555555555555556,
              "#d8576b"
             ],
             [
              0.6666666666666666,
              "#ed7953"
             ],
             [
              0.7777777777777778,
              "#fb9f3a"
             ],
             [
              0.8888888888888888,
              "#fdca26"
             ],
             [
              1,
              "#f0f921"
             ]
            ],
            "type": "heatmap"
           }
          ],
          "heatmapgl": [
           {
            "colorbar": {
             "outlinewidth": 0,
             "ticks": ""
            },
            "colorscale": [
             [
              0,
              "#0d0887"
             ],
             [
              0.1111111111111111,
              "#46039f"
             ],
             [
              0.2222222222222222,
              "#7201a8"
             ],
             [
              0.3333333333333333,
              "#9c179e"
             ],
             [
              0.4444444444444444,
              "#bd3786"
             ],
             [
              0.5555555555555556,
              "#d8576b"
             ],
             [
              0.6666666666666666,
              "#ed7953"
             ],
             [
              0.7777777777777778,
              "#fb9f3a"
             ],
             [
              0.8888888888888888,
              "#fdca26"
             ],
             [
              1,
              "#f0f921"
             ]
            ],
            "type": "heatmapgl"
           }
          ],
          "histogram": [
           {
            "marker": {
             "colorbar": {
              "outlinewidth": 0,
              "ticks": ""
             }
            },
            "type": "histogram"
           }
          ],
          "histogram2d": [
           {
            "colorbar": {
             "outlinewidth": 0,
             "ticks": ""
            },
            "colorscale": [
             [
              0,
              "#0d0887"
             ],
             [
              0.1111111111111111,
              "#46039f"
             ],
             [
              0.2222222222222222,
              "#7201a8"
             ],
             [
              0.3333333333333333,
              "#9c179e"
             ],
             [
              0.4444444444444444,
              "#bd3786"
             ],
             [
              0.5555555555555556,
              "#d8576b"
             ],
             [
              0.6666666666666666,
              "#ed7953"
             ],
             [
              0.7777777777777778,
              "#fb9f3a"
             ],
             [
              0.8888888888888888,
              "#fdca26"
             ],
             [
              1,
              "#f0f921"
             ]
            ],
            "type": "histogram2d"
           }
          ],
          "histogram2dcontour": [
           {
            "colorbar": {
             "outlinewidth": 0,
             "ticks": ""
            },
            "colorscale": [
             [
              0,
              "#0d0887"
             ],
             [
              0.1111111111111111,
              "#46039f"
             ],
             [
              0.2222222222222222,
              "#7201a8"
             ],
             [
              0.3333333333333333,
              "#9c179e"
             ],
             [
              0.4444444444444444,
              "#bd3786"
             ],
             [
              0.5555555555555556,
              "#d8576b"
             ],
             [
              0.6666666666666666,
              "#ed7953"
             ],
             [
              0.7777777777777778,
              "#fb9f3a"
             ],
             [
              0.8888888888888888,
              "#fdca26"
             ],
             [
              1,
              "#f0f921"
             ]
            ],
            "type": "histogram2dcontour"
           }
          ],
          "mesh3d": [
           {
            "colorbar": {
             "outlinewidth": 0,
             "ticks": ""
            },
            "type": "mesh3d"
           }
          ],
          "parcoords": [
           {
            "line": {
             "colorbar": {
              "outlinewidth": 0,
              "ticks": ""
             }
            },
            "type": "parcoords"
           }
          ],
          "pie": [
           {
            "automargin": true,
            "type": "pie"
           }
          ],
          "scatter": [
           {
            "marker": {
             "colorbar": {
              "outlinewidth": 0,
              "ticks": ""
             }
            },
            "type": "scatter"
           }
          ],
          "scatter3d": [
           {
            "line": {
             "colorbar": {
              "outlinewidth": 0,
              "ticks": ""
             }
            },
            "marker": {
             "colorbar": {
              "outlinewidth": 0,
              "ticks": ""
             }
            },
            "type": "scatter3d"
           }
          ],
          "scattercarpet": [
           {
            "marker": {
             "colorbar": {
              "outlinewidth": 0,
              "ticks": ""
             }
            },
            "type": "scattercarpet"
           }
          ],
          "scattergeo": [
           {
            "marker": {
             "colorbar": {
              "outlinewidth": 0,
              "ticks": ""
             }
            },
            "type": "scattergeo"
           }
          ],
          "scattergl": [
           {
            "marker": {
             "colorbar": {
              "outlinewidth": 0,
              "ticks": ""
             }
            },
            "type": "scattergl"
           }
          ],
          "scattermapbox": [
           {
            "marker": {
             "colorbar": {
              "outlinewidth": 0,
              "ticks": ""
             }
            },
            "type": "scattermapbox"
           }
          ],
          "scatterpolar": [
           {
            "marker": {
             "colorbar": {
              "outlinewidth": 0,
              "ticks": ""
             }
            },
            "type": "scatterpolar"
           }
          ],
          "scatterpolargl": [
           {
            "marker": {
             "colorbar": {
              "outlinewidth": 0,
              "ticks": ""
             }
            },
            "type": "scatterpolargl"
           }
          ],
          "scatterternary": [
           {
            "marker": {
             "colorbar": {
              "outlinewidth": 0,
              "ticks": ""
             }
            },
            "type": "scatterternary"
           }
          ],
          "surface": [
           {
            "colorbar": {
             "outlinewidth": 0,
             "ticks": ""
            },
            "colorscale": [
             [
              0,
              "#0d0887"
             ],
             [
              0.1111111111111111,
              "#46039f"
             ],
             [
              0.2222222222222222,
              "#7201a8"
             ],
             [
              0.3333333333333333,
              "#9c179e"
             ],
             [
              0.4444444444444444,
              "#bd3786"
             ],
             [
              0.5555555555555556,
              "#d8576b"
             ],
             [
              0.6666666666666666,
              "#ed7953"
             ],
             [
              0.7777777777777778,
              "#fb9f3a"
             ],
             [
              0.8888888888888888,
              "#fdca26"
             ],
             [
              1,
              "#f0f921"
             ]
            ],
            "type": "surface"
           }
          ],
          "table": [
           {
            "cells": {
             "fill": {
              "color": "#EBF0F8"
             },
             "line": {
              "color": "white"
             }
            },
            "header": {
             "fill": {
              "color": "#C8D4E3"
             },
             "line": {
              "color": "white"
             }
            },
            "type": "table"
           }
          ]
         },
         "layout": {
          "annotationdefaults": {
           "arrowcolor": "#2a3f5f",
           "arrowhead": 0,
           "arrowwidth": 1
          },
          "coloraxis": {
           "colorbar": {
            "outlinewidth": 0,
            "ticks": ""
           }
          },
          "colorscale": {
           "diverging": [
            [
             0,
             "#8e0152"
            ],
            [
             0.1,
             "#c51b7d"
            ],
            [
             0.2,
             "#de77ae"
            ],
            [
             0.3,
             "#f1b6da"
            ],
            [
             0.4,
             "#fde0ef"
            ],
            [
             0.5,
             "#f7f7f7"
            ],
            [
             0.6,
             "#e6f5d0"
            ],
            [
             0.7,
             "#b8e186"
            ],
            [
             0.8,
             "#7fbc41"
            ],
            [
             0.9,
             "#4d9221"
            ],
            [
             1,
             "#276419"
            ]
           ],
           "sequential": [
            [
             0,
             "#0d0887"
            ],
            [
             0.1111111111111111,
             "#46039f"
            ],
            [
             0.2222222222222222,
             "#7201a8"
            ],
            [
             0.3333333333333333,
             "#9c179e"
            ],
            [
             0.4444444444444444,
             "#bd3786"
            ],
            [
             0.5555555555555556,
             "#d8576b"
            ],
            [
             0.6666666666666666,
             "#ed7953"
            ],
            [
             0.7777777777777778,
             "#fb9f3a"
            ],
            [
             0.8888888888888888,
             "#fdca26"
            ],
            [
             1,
             "#f0f921"
            ]
           ],
           "sequentialminus": [
            [
             0,
             "#0d0887"
            ],
            [
             0.1111111111111111,
             "#46039f"
            ],
            [
             0.2222222222222222,
             "#7201a8"
            ],
            [
             0.3333333333333333,
             "#9c179e"
            ],
            [
             0.4444444444444444,
             "#bd3786"
            ],
            [
             0.5555555555555556,
             "#d8576b"
            ],
            [
             0.6666666666666666,
             "#ed7953"
            ],
            [
             0.7777777777777778,
             "#fb9f3a"
            ],
            [
             0.8888888888888888,
             "#fdca26"
            ],
            [
             1,
             "#f0f921"
            ]
           ]
          },
          "colorway": [
           "#636efa",
           "#EF553B",
           "#00cc96",
           "#ab63fa",
           "#FFA15A",
           "#19d3f3",
           "#FF6692",
           "#B6E880",
           "#FF97FF",
           "#FECB52"
          ],
          "font": {
           "color": "#2a3f5f"
          },
          "geo": {
           "bgcolor": "white",
           "lakecolor": "white",
           "landcolor": "#E5ECF6",
           "showlakes": true,
           "showland": true,
           "subunitcolor": "white"
          },
          "hoverlabel": {
           "align": "left"
          },
          "hovermode": "closest",
          "mapbox": {
           "style": "light"
          },
          "paper_bgcolor": "white",
          "plot_bgcolor": "#E5ECF6",
          "polar": {
           "angularaxis": {
            "gridcolor": "white",
            "linecolor": "white",
            "ticks": ""
           },
           "bgcolor": "#E5ECF6",
           "radialaxis": {
            "gridcolor": "white",
            "linecolor": "white",
            "ticks": ""
           }
          },
          "scene": {
           "xaxis": {
            "backgroundcolor": "#E5ECF6",
            "gridcolor": "white",
            "gridwidth": 2,
            "linecolor": "white",
            "showbackground": true,
            "ticks": "",
            "zerolinecolor": "white"
           },
           "yaxis": {
            "backgroundcolor": "#E5ECF6",
            "gridcolor": "white",
            "gridwidth": 2,
            "linecolor": "white",
            "showbackground": true,
            "ticks": "",
            "zerolinecolor": "white"
           },
           "zaxis": {
            "backgroundcolor": "#E5ECF6",
            "gridcolor": "white",
            "gridwidth": 2,
            "linecolor": "white",
            "showbackground": true,
            "ticks": "",
            "zerolinecolor": "white"
           }
          },
          "shapedefaults": {
           "line": {
            "color": "#2a3f5f"
           }
          },
          "ternary": {
           "aaxis": {
            "gridcolor": "white",
            "linecolor": "white",
            "ticks": ""
           },
           "baxis": {
            "gridcolor": "white",
            "linecolor": "white",
            "ticks": ""
           },
           "bgcolor": "#E5ECF6",
           "caxis": {
            "gridcolor": "white",
            "linecolor": "white",
            "ticks": ""
           }
          },
          "title": {
           "x": 0.05
          },
          "xaxis": {
           "automargin": true,
           "gridcolor": "white",
           "linecolor": "white",
           "ticks": "",
           "title": {
            "standoff": 15
           },
           "zerolinecolor": "white",
           "zerolinewidth": 2
          },
          "yaxis": {
           "automargin": true,
           "gridcolor": "white",
           "linecolor": "white",
           "ticks": "",
           "title": {
            "standoff": 15
           },
           "zerolinecolor": "white",
           "zerolinewidth": 2
          }
         }
        },
        "xaxis": {
         "anchor": "y",
         "domain": [
          0,
          1
         ],
         "title": {
          "text": "CULTIVO"
         }
        },
        "yaxis": {
         "anchor": "x",
         "domain": [
          0,
          1
         ],
         "title": {
          "text": "RENDIMIENTO"
         }
        }
       }
      }
     },
     "metadata": {}
    }
   ],
   "source": [
    "import plotly.express as px\n",
    "fig = px.bar(highest_crops, x='CULTIVO', y='RENDIMIENTO',color='RENDIMIENTO')\n",
    "fig.show()"
   ]
  },
  {
   "cell_type": "markdown",
   "metadata": {},
   "source": [
    "## Yields by department"
   ]
  },
  {
   "cell_type": "code",
   "execution_count": 14,
   "metadata": {},
   "outputs": [
    {
     "output_type": "stream",
     "name": "stdout",
     "text": "there are 32 departments\n"
    },
    {
     "output_type": "execute_result",
     "data": {
      "text/plain": "                DEPARTAMENTO  COD_DEP       COD_MUN         YEAR   AREA_SEMBR  \\\n0                  RISARALDA     66.0  66313.425267  2012.486121   384.056940   \n1            VALLE DEL CAUCA     76.0  76433.679790  2012.225117   271.558451   \n2                     CALDAS     17.0  17435.290341  2012.502808   320.766005   \n3                    QUINDIO     63.0  63332.061590  2011.828776   210.800409   \n4                  ANTIOQUIA      5.0   5425.417613  2012.645930   278.390373   \n5         NORTE DE SANTANDER     54.0  54401.391242  2012.380884   201.049841   \n6                       META     50.0  50384.654264  2012.577562   935.364625   \n7               CUNDINAMARCA     25.0  25481.192699  2012.558102   187.811177   \n8                     BOYACA     15.0  15486.188812  2012.314444    94.105317   \n9                     ARAUCA     81.0  81413.710618  2012.724621  1154.988331   \n10                 SANTANDER     68.0  68414.929253  2012.678503   259.380521   \n11                     CAUCA     19.0  19458.462493  2012.607871   301.069410   \n12                    NARIÑO     52.0  52422.888211  2012.703607   216.653849   \n13                  CASANARE     85.0  85230.082432  2012.263845   702.071929   \n14  SAN ANDRES Y PROVIDENCIA     88.0  88237.623188  2015.702899     1.340580   \n15                 ATLANTICO      8.0   8519.399317  2012.439485    94.475978   \n16                     HUILA     41.0  41410.597702  2012.511051   225.585897   \n17                   CORDOBA     23.0  23438.302480  2012.265573   466.924429   \n18                    TOLIMA     73.0  73389.655963  2012.103200   539.890867   \n19                 MAGDALENA     47.0  47420.392528  2012.250256   479.848260   \n20                LA GUAJIRA     44.0  44336.252282  2012.253804   151.883141   \n21                   GUAINIA     94.0  94202.209877  2014.660494   214.049383   \n22                     CESAR     20.0  20370.391037  2012.494168   476.876611   \n23                  GUAVIARE     95.0  95061.006160  2012.459959   500.373717   \n24                   BOLIVAR     13.0  13452.433504  2012.511444   567.728690   \n25                     SUCRE     70.0  70440.788363  2012.316456   270.503886   \n26                   VICHADA     99.0  99530.241018  2012.067365   324.752994   \n27                    VAUPES     97.0  97206.509091  2012.363636    62.843636   \n28                     CHOCO     27.0  27351.039254  2012.723258   229.475711   \n29                  PUTUMAYO     86.0  86584.032095  2012.389077   199.005631   \n30                   CAQUETA     18.0  18410.204778  2012.328072   280.389505   \n31                  AMAZONAS     91.0  91294.081129  2011.610229    57.940035   \n\n    AREA_COSECH    PRODUCCION  RENDIMIENTO  \n0    328.105338   2728.612456    14.872112  \n1    233.968302  14701.273425    13.961407  \n2    262.973044   2011.553538    11.795316  \n3    183.170713   1606.499872    11.588499  \n4    241.832400   1963.080868    11.403534  \n5    186.230951   1098.033638    10.794193  \n6    756.780195   5453.904598    10.478982  \n7    171.304409   1683.105588    10.319582  \n8     81.186674    959.788783     9.929606  \n9   1036.718786   8545.149358     9.345602  \n10   210.511382   1285.372274     9.310580  \n11   252.239475   6356.476446     8.902773  \n12   186.743622   1119.009967     8.678514  \n13   605.747613   2955.852323     8.205580  \n14     1.202899      9.260870     8.075362  \n15    71.073248    432.480179     7.572076  \n16   193.308803    607.496860     7.090615  \n17   418.082015   2472.693224     7.011821  \n18   489.161373   2295.955556     6.771975  \n19   401.053480   2726.468270     6.650643  \n20   124.027693    642.304626     6.184940  \n21   153.722222    975.067901     6.123077  \n22   404.596890   1381.790669     5.900300  \n23   376.885010   1756.806982     5.821169  \n24   468.631610   2186.317680     5.377096  \n25   235.129913   1211.761492     5.037650  \n26   260.634731   1122.778443     4.936380  \n27    57.181818    394.530909     4.859522  \n28   196.947252    914.617517     4.792913  \n29   168.746622    663.130631     4.425858  \n30   217.022184    927.663396     4.010749  \n31    48.550265    191.105820     3.088658  ",
      "text/html": "<div>\n<style scoped>\n    .dataframe tbody tr th:only-of-type {\n        vertical-align: middle;\n    }\n\n    .dataframe tbody tr th {\n        vertical-align: top;\n    }\n\n    .dataframe thead th {\n        text-align: right;\n    }\n</style>\n<table border=\"1\" class=\"dataframe\">\n  <thead>\n    <tr style=\"text-align: right;\">\n      <th></th>\n      <th>DEPARTAMENTO</th>\n      <th>COD_DEP</th>\n      <th>COD_MUN</th>\n      <th>YEAR</th>\n      <th>AREA_SEMBR</th>\n      <th>AREA_COSECH</th>\n      <th>PRODUCCION</th>\n      <th>RENDIMIENTO</th>\n    </tr>\n  </thead>\n  <tbody>\n    <tr>\n      <th>0</th>\n      <td>RISARALDA</td>\n      <td>66.0</td>\n      <td>66313.425267</td>\n      <td>2012.486121</td>\n      <td>384.056940</td>\n      <td>328.105338</td>\n      <td>2728.612456</td>\n      <td>14.872112</td>\n    </tr>\n    <tr>\n      <th>1</th>\n      <td>VALLE DEL CAUCA</td>\n      <td>76.0</td>\n      <td>76433.679790</td>\n      <td>2012.225117</td>\n      <td>271.558451</td>\n      <td>233.968302</td>\n      <td>14701.273425</td>\n      <td>13.961407</td>\n    </tr>\n    <tr>\n      <th>2</th>\n      <td>CALDAS</td>\n      <td>17.0</td>\n      <td>17435.290341</td>\n      <td>2012.502808</td>\n      <td>320.766005</td>\n      <td>262.973044</td>\n      <td>2011.553538</td>\n      <td>11.795316</td>\n    </tr>\n    <tr>\n      <th>3</th>\n      <td>QUINDIO</td>\n      <td>63.0</td>\n      <td>63332.061590</td>\n      <td>2011.828776</td>\n      <td>210.800409</td>\n      <td>183.170713</td>\n      <td>1606.499872</td>\n      <td>11.588499</td>\n    </tr>\n    <tr>\n      <th>4</th>\n      <td>ANTIOQUIA</td>\n      <td>5.0</td>\n      <td>5425.417613</td>\n      <td>2012.645930</td>\n      <td>278.390373</td>\n      <td>241.832400</td>\n      <td>1963.080868</td>\n      <td>11.403534</td>\n    </tr>\n    <tr>\n      <th>5</th>\n      <td>NORTE DE SANTANDER</td>\n      <td>54.0</td>\n      <td>54401.391242</td>\n      <td>2012.380884</td>\n      <td>201.049841</td>\n      <td>186.230951</td>\n      <td>1098.033638</td>\n      <td>10.794193</td>\n    </tr>\n    <tr>\n      <th>6</th>\n      <td>META</td>\n      <td>50.0</td>\n      <td>50384.654264</td>\n      <td>2012.577562</td>\n      <td>935.364625</td>\n      <td>756.780195</td>\n      <td>5453.904598</td>\n      <td>10.478982</td>\n    </tr>\n    <tr>\n      <th>7</th>\n      <td>CUNDINAMARCA</td>\n      <td>25.0</td>\n      <td>25481.192699</td>\n      <td>2012.558102</td>\n      <td>187.811177</td>\n      <td>171.304409</td>\n      <td>1683.105588</td>\n      <td>10.319582</td>\n    </tr>\n    <tr>\n      <th>8</th>\n      <td>BOYACA</td>\n      <td>15.0</td>\n      <td>15486.188812</td>\n      <td>2012.314444</td>\n      <td>94.105317</td>\n      <td>81.186674</td>\n      <td>959.788783</td>\n      <td>9.929606</td>\n    </tr>\n    <tr>\n      <th>9</th>\n      <td>ARAUCA</td>\n      <td>81.0</td>\n      <td>81413.710618</td>\n      <td>2012.724621</td>\n      <td>1154.988331</td>\n      <td>1036.718786</td>\n      <td>8545.149358</td>\n      <td>9.345602</td>\n    </tr>\n    <tr>\n      <th>10</th>\n      <td>SANTANDER</td>\n      <td>68.0</td>\n      <td>68414.929253</td>\n      <td>2012.678503</td>\n      <td>259.380521</td>\n      <td>210.511382</td>\n      <td>1285.372274</td>\n      <td>9.310580</td>\n    </tr>\n    <tr>\n      <th>11</th>\n      <td>CAUCA</td>\n      <td>19.0</td>\n      <td>19458.462493</td>\n      <td>2012.607871</td>\n      <td>301.069410</td>\n      <td>252.239475</td>\n      <td>6356.476446</td>\n      <td>8.902773</td>\n    </tr>\n    <tr>\n      <th>12</th>\n      <td>NARIÑO</td>\n      <td>52.0</td>\n      <td>52422.888211</td>\n      <td>2012.703607</td>\n      <td>216.653849</td>\n      <td>186.743622</td>\n      <td>1119.009967</td>\n      <td>8.678514</td>\n    </tr>\n    <tr>\n      <th>13</th>\n      <td>CASANARE</td>\n      <td>85.0</td>\n      <td>85230.082432</td>\n      <td>2012.263845</td>\n      <td>702.071929</td>\n      <td>605.747613</td>\n      <td>2955.852323</td>\n      <td>8.205580</td>\n    </tr>\n    <tr>\n      <th>14</th>\n      <td>SAN ANDRES Y PROVIDENCIA</td>\n      <td>88.0</td>\n      <td>88237.623188</td>\n      <td>2015.702899</td>\n      <td>1.340580</td>\n      <td>1.202899</td>\n      <td>9.260870</td>\n      <td>8.075362</td>\n    </tr>\n    <tr>\n      <th>15</th>\n      <td>ATLANTICO</td>\n      <td>8.0</td>\n      <td>8519.399317</td>\n      <td>2012.439485</td>\n      <td>94.475978</td>\n      <td>71.073248</td>\n      <td>432.480179</td>\n      <td>7.572076</td>\n    </tr>\n    <tr>\n      <th>16</th>\n      <td>HUILA</td>\n      <td>41.0</td>\n      <td>41410.597702</td>\n      <td>2012.511051</td>\n      <td>225.585897</td>\n      <td>193.308803</td>\n      <td>607.496860</td>\n      <td>7.090615</td>\n    </tr>\n    <tr>\n      <th>17</th>\n      <td>CORDOBA</td>\n      <td>23.0</td>\n      <td>23438.302480</td>\n      <td>2012.265573</td>\n      <td>466.924429</td>\n      <td>418.082015</td>\n      <td>2472.693224</td>\n      <td>7.011821</td>\n    </tr>\n    <tr>\n      <th>18</th>\n      <td>TOLIMA</td>\n      <td>73.0</td>\n      <td>73389.655963</td>\n      <td>2012.103200</td>\n      <td>539.890867</td>\n      <td>489.161373</td>\n      <td>2295.955556</td>\n      <td>6.771975</td>\n    </tr>\n    <tr>\n      <th>19</th>\n      <td>MAGDALENA</td>\n      <td>47.0</td>\n      <td>47420.392528</td>\n      <td>2012.250256</td>\n      <td>479.848260</td>\n      <td>401.053480</td>\n      <td>2726.468270</td>\n      <td>6.650643</td>\n    </tr>\n    <tr>\n      <th>20</th>\n      <td>LA GUAJIRA</td>\n      <td>44.0</td>\n      <td>44336.252282</td>\n      <td>2012.253804</td>\n      <td>151.883141</td>\n      <td>124.027693</td>\n      <td>642.304626</td>\n      <td>6.184940</td>\n    </tr>\n    <tr>\n      <th>21</th>\n      <td>GUAINIA</td>\n      <td>94.0</td>\n      <td>94202.209877</td>\n      <td>2014.660494</td>\n      <td>214.049383</td>\n      <td>153.722222</td>\n      <td>975.067901</td>\n      <td>6.123077</td>\n    </tr>\n    <tr>\n      <th>22</th>\n      <td>CESAR</td>\n      <td>20.0</td>\n      <td>20370.391037</td>\n      <td>2012.494168</td>\n      <td>476.876611</td>\n      <td>404.596890</td>\n      <td>1381.790669</td>\n      <td>5.900300</td>\n    </tr>\n    <tr>\n      <th>23</th>\n      <td>GUAVIARE</td>\n      <td>95.0</td>\n      <td>95061.006160</td>\n      <td>2012.459959</td>\n      <td>500.373717</td>\n      <td>376.885010</td>\n      <td>1756.806982</td>\n      <td>5.821169</td>\n    </tr>\n    <tr>\n      <th>24</th>\n      <td>BOLIVAR</td>\n      <td>13.0</td>\n      <td>13452.433504</td>\n      <td>2012.511444</td>\n      <td>567.728690</td>\n      <td>468.631610</td>\n      <td>2186.317680</td>\n      <td>5.377096</td>\n    </tr>\n    <tr>\n      <th>25</th>\n      <td>SUCRE</td>\n      <td>70.0</td>\n      <td>70440.788363</td>\n      <td>2012.316456</td>\n      <td>270.503886</td>\n      <td>235.129913</td>\n      <td>1211.761492</td>\n      <td>5.037650</td>\n    </tr>\n    <tr>\n      <th>26</th>\n      <td>VICHADA</td>\n      <td>99.0</td>\n      <td>99530.241018</td>\n      <td>2012.067365</td>\n      <td>324.752994</td>\n      <td>260.634731</td>\n      <td>1122.778443</td>\n      <td>4.936380</td>\n    </tr>\n    <tr>\n      <th>27</th>\n      <td>VAUPES</td>\n      <td>97.0</td>\n      <td>97206.509091</td>\n      <td>2012.363636</td>\n      <td>62.843636</td>\n      <td>57.181818</td>\n      <td>394.530909</td>\n      <td>4.859522</td>\n    </tr>\n    <tr>\n      <th>28</th>\n      <td>CHOCO</td>\n      <td>27.0</td>\n      <td>27351.039254</td>\n      <td>2012.723258</td>\n      <td>229.475711</td>\n      <td>196.947252</td>\n      <td>914.617517</td>\n      <td>4.792913</td>\n    </tr>\n    <tr>\n      <th>29</th>\n      <td>PUTUMAYO</td>\n      <td>86.0</td>\n      <td>86584.032095</td>\n      <td>2012.389077</td>\n      <td>199.005631</td>\n      <td>168.746622</td>\n      <td>663.130631</td>\n      <td>4.425858</td>\n    </tr>\n    <tr>\n      <th>30</th>\n      <td>CAQUETA</td>\n      <td>18.0</td>\n      <td>18410.204778</td>\n      <td>2012.328072</td>\n      <td>280.389505</td>\n      <td>217.022184</td>\n      <td>927.663396</td>\n      <td>4.010749</td>\n    </tr>\n    <tr>\n      <th>31</th>\n      <td>AMAZONAS</td>\n      <td>91.0</td>\n      <td>91294.081129</td>\n      <td>2011.610229</td>\n      <td>57.940035</td>\n      <td>48.550265</td>\n      <td>191.105820</td>\n      <td>3.088658</td>\n    </tr>\n  </tbody>\n</table>\n</div>"
     },
     "metadata": {},
     "execution_count": 14
    }
   ],
   "source": [
    "rendimiento_dep = data.groupby('DEPARTAMENTO').mean()\n",
    "print(\"there are\",len(rendimiento_dep),\"departments\")\n",
    "highest_department = rendimiento_dep.nlargest(32, 'RENDIMIENTO').reset_index()\n",
    "highest_department\n"
   ]
  },
  {
   "cell_type": "code",
   "execution_count": 15,
   "metadata": {},
   "outputs": [
    {
     "output_type": "display_data",
     "data": {
      "application/vnd.plotly.v1+json": {
       "config": {
        "plotlyServerURL": "https://plot.ly"
       },
       "data": [
        {
         "alignmentgroup": "True",
         "hovertemplate": "DEPARTAMENTO=%{x}<br>RENDIMIENTO=%{marker.color}<extra></extra>",
         "legendgroup": "",
         "marker": {
          "color": [
           14.872111553784869,
           13.961406639800492,
           11.795315759529677,
           11.588499214248289,
           11.403534269199026,
           10.794192778584733,
           10.478982012255408,
           10.319582431354695,
           9.929605553647638,
           9.345602409638555,
           9.310579890665027,
           8.902772825825108,
           8.67851446559735,
           8.205580312603923,
           8.075362318840579,
           7.57207593553675,
           7.090615061696942,
           7.011821457165737,
           6.7719751930728025,
           6.650642673521886,
           6.184939609786319,
           6.123076923076921,
           5.900299958626402,
           5.8211688311688325,
           5.377095923747726,
           5.037649748513955,
           4.936379585326949,
           4.859522058823529,
           4.792913326653299,
           4.425858057009894,
           4.010748593682382,
           3.0886583184257597
          ],
          "coloraxis": "coloraxis"
         },
         "name": "",
         "offsetgroup": "",
         "orientation": "v",
         "showlegend": false,
         "textposition": "auto",
         "type": "bar",
         "x": [
          "RISARALDA",
          "VALLE DEL CAUCA",
          "CALDAS",
          "QUINDIO",
          "ANTIOQUIA",
          "NORTE DE SANTANDER",
          "META",
          "CUNDINAMARCA",
          "BOYACA",
          "ARAUCA",
          "SANTANDER",
          "CAUCA",
          "NARIÑO",
          "CASANARE",
          "SAN ANDRES Y PROVIDENCIA",
          "ATLANTICO",
          "HUILA",
          "CORDOBA",
          "TOLIMA",
          "MAGDALENA",
          "LA GUAJIRA",
          "GUAINIA",
          "CESAR",
          "GUAVIARE",
          "BOLIVAR",
          "SUCRE",
          "VICHADA",
          "VAUPES",
          "CHOCO",
          "PUTUMAYO",
          "CAQUETA",
          "AMAZONAS"
         ],
         "xaxis": "x",
         "y": [
          14.872111553784869,
          13.961406639800492,
          11.795315759529677,
          11.588499214248289,
          11.403534269199026,
          10.794192778584733,
          10.478982012255408,
          10.319582431354695,
          9.929605553647638,
          9.345602409638555,
          9.310579890665027,
          8.902772825825108,
          8.67851446559735,
          8.205580312603923,
          8.075362318840579,
          7.57207593553675,
          7.090615061696942,
          7.011821457165737,
          6.7719751930728025,
          6.650642673521886,
          6.184939609786319,
          6.123076923076921,
          5.900299958626402,
          5.8211688311688325,
          5.377095923747726,
          5.037649748513955,
          4.936379585326949,
          4.859522058823529,
          4.792913326653299,
          4.425858057009894,
          4.010748593682382,
          3.0886583184257597
         ],
         "yaxis": "y"
        }
       ],
       "layout": {
        "barmode": "relative",
        "coloraxis": {
         "colorbar": {
          "title": {
           "text": "RENDIMIENTO"
          }
         },
         "colorscale": [
          [
           0,
           "#0d0887"
          ],
          [
           0.1111111111111111,
           "#46039f"
          ],
          [
           0.2222222222222222,
           "#7201a8"
          ],
          [
           0.3333333333333333,
           "#9c179e"
          ],
          [
           0.4444444444444444,
           "#bd3786"
          ],
          [
           0.5555555555555556,
           "#d8576b"
          ],
          [
           0.6666666666666666,
           "#ed7953"
          ],
          [
           0.7777777777777778,
           "#fb9f3a"
          ],
          [
           0.8888888888888888,
           "#fdca26"
          ],
          [
           1,
           "#f0f921"
          ]
         ]
        },
        "legend": {
         "tracegroupgap": 0
        },
        "margin": {
         "t": 60
        },
        "template": {
         "data": {
          "bar": [
           {
            "error_x": {
             "color": "#2a3f5f"
            },
            "error_y": {
             "color": "#2a3f5f"
            },
            "marker": {
             "line": {
              "color": "#E5ECF6",
              "width": 0.5
             }
            },
            "type": "bar"
           }
          ],
          "barpolar": [
           {
            "marker": {
             "line": {
              "color": "#E5ECF6",
              "width": 0.5
             }
            },
            "type": "barpolar"
           }
          ],
          "carpet": [
           {
            "aaxis": {
             "endlinecolor": "#2a3f5f",
             "gridcolor": "white",
             "linecolor": "white",
             "minorgridcolor": "white",
             "startlinecolor": "#2a3f5f"
            },
            "baxis": {
             "endlinecolor": "#2a3f5f",
             "gridcolor": "white",
             "linecolor": "white",
             "minorgridcolor": "white",
             "startlinecolor": "#2a3f5f"
            },
            "type": "carpet"
           }
          ],
          "choropleth": [
           {
            "colorbar": {
             "outlinewidth": 0,
             "ticks": ""
            },
            "type": "choropleth"
           }
          ],
          "contour": [
           {
            "colorbar": {
             "outlinewidth": 0,
             "ticks": ""
            },
            "colorscale": [
             [
              0,
              "#0d0887"
             ],
             [
              0.1111111111111111,
              "#46039f"
             ],
             [
              0.2222222222222222,
              "#7201a8"
             ],
             [
              0.3333333333333333,
              "#9c179e"
             ],
             [
              0.4444444444444444,
              "#bd3786"
             ],
             [
              0.5555555555555556,
              "#d8576b"
             ],
             [
              0.6666666666666666,
              "#ed7953"
             ],
             [
              0.7777777777777778,
              "#fb9f3a"
             ],
             [
              0.8888888888888888,
              "#fdca26"
             ],
             [
              1,
              "#f0f921"
             ]
            ],
            "type": "contour"
           }
          ],
          "contourcarpet": [
           {
            "colorbar": {
             "outlinewidth": 0,
             "ticks": ""
            },
            "type": "contourcarpet"
           }
          ],
          "heatmap": [
           {
            "colorbar": {
             "outlinewidth": 0,
             "ticks": ""
            },
            "colorscale": [
             [
              0,
              "#0d0887"
             ],
             [
              0.1111111111111111,
              "#46039f"
             ],
             [
              0.2222222222222222,
              "#7201a8"
             ],
             [
              0.3333333333333333,
              "#9c179e"
             ],
             [
              0.4444444444444444,
              "#bd3786"
             ],
             [
              0.5555555555555556,
              "#d8576b"
             ],
             [
              0.6666666666666666,
              "#ed7953"
             ],
             [
              0.7777777777777778,
              "#fb9f3a"
             ],
             [
              0.8888888888888888,
              "#fdca26"
             ],
             [
              1,
              "#f0f921"
             ]
            ],
            "type": "heatmap"
           }
          ],
          "heatmapgl": [
           {
            "colorbar": {
             "outlinewidth": 0,
             "ticks": ""
            },
            "colorscale": [
             [
              0,
              "#0d0887"
             ],
             [
              0.1111111111111111,
              "#46039f"
             ],
             [
              0.2222222222222222,
              "#7201a8"
             ],
             [
              0.3333333333333333,
              "#9c179e"
             ],
             [
              0.4444444444444444,
              "#bd3786"
             ],
             [
              0.5555555555555556,
              "#d8576b"
             ],
             [
              0.6666666666666666,
              "#ed7953"
             ],
             [
              0.7777777777777778,
              "#fb9f3a"
             ],
             [
              0.8888888888888888,
              "#fdca26"
             ],
             [
              1,
              "#f0f921"
             ]
            ],
            "type": "heatmapgl"
           }
          ],
          "histogram": [
           {
            "marker": {
             "colorbar": {
              "outlinewidth": 0,
              "ticks": ""
             }
            },
            "type": "histogram"
           }
          ],
          "histogram2d": [
           {
            "colorbar": {
             "outlinewidth": 0,
             "ticks": ""
            },
            "colorscale": [
             [
              0,
              "#0d0887"
             ],
             [
              0.1111111111111111,
              "#46039f"
             ],
             [
              0.2222222222222222,
              "#7201a8"
             ],
             [
              0.3333333333333333,
              "#9c179e"
             ],
             [
              0.4444444444444444,
              "#bd3786"
             ],
             [
              0.5555555555555556,
              "#d8576b"
             ],
             [
              0.6666666666666666,
              "#ed7953"
             ],
             [
              0.7777777777777778,
              "#fb9f3a"
             ],
             [
              0.8888888888888888,
              "#fdca26"
             ],
             [
              1,
              "#f0f921"
             ]
            ],
            "type": "histogram2d"
           }
          ],
          "histogram2dcontour": [
           {
            "colorbar": {
             "outlinewidth": 0,
             "ticks": ""
            },
            "colorscale": [
             [
              0,
              "#0d0887"
             ],
             [
              0.1111111111111111,
              "#46039f"
             ],
             [
              0.2222222222222222,
              "#7201a8"
             ],
             [
              0.3333333333333333,
              "#9c179e"
             ],
             [
              0.4444444444444444,
              "#bd3786"
             ],
             [
              0.5555555555555556,
              "#d8576b"
             ],
             [
              0.6666666666666666,
              "#ed7953"
             ],
             [
              0.7777777777777778,
              "#fb9f3a"
             ],
             [
              0.8888888888888888,
              "#fdca26"
             ],
             [
              1,
              "#f0f921"
             ]
            ],
            "type": "histogram2dcontour"
           }
          ],
          "mesh3d": [
           {
            "colorbar": {
             "outlinewidth": 0,
             "ticks": ""
            },
            "type": "mesh3d"
           }
          ],
          "parcoords": [
           {
            "line": {
             "colorbar": {
              "outlinewidth": 0,
              "ticks": ""
             }
            },
            "type": "parcoords"
           }
          ],
          "pie": [
           {
            "automargin": true,
            "type": "pie"
           }
          ],
          "scatter": [
           {
            "marker": {
             "colorbar": {
              "outlinewidth": 0,
              "ticks": ""
             }
            },
            "type": "scatter"
           }
          ],
          "scatter3d": [
           {
            "line": {
             "colorbar": {
              "outlinewidth": 0,
              "ticks": ""
             }
            },
            "marker": {
             "colorbar": {
              "outlinewidth": 0,
              "ticks": ""
             }
            },
            "type": "scatter3d"
           }
          ],
          "scattercarpet": [
           {
            "marker": {
             "colorbar": {
              "outlinewidth": 0,
              "ticks": ""
             }
            },
            "type": "scattercarpet"
           }
          ],
          "scattergeo": [
           {
            "marker": {
             "colorbar": {
              "outlinewidth": 0,
              "ticks": ""
             }
            },
            "type": "scattergeo"
           }
          ],
          "scattergl": [
           {
            "marker": {
             "colorbar": {
              "outlinewidth": 0,
              "ticks": ""
             }
            },
            "type": "scattergl"
           }
          ],
          "scattermapbox": [
           {
            "marker": {
             "colorbar": {
              "outlinewidth": 0,
              "ticks": ""
             }
            },
            "type": "scattermapbox"
           }
          ],
          "scatterpolar": [
           {
            "marker": {
             "colorbar": {
              "outlinewidth": 0,
              "ticks": ""
             }
            },
            "type": "scatterpolar"
           }
          ],
          "scatterpolargl": [
           {
            "marker": {
             "colorbar": {
              "outlinewidth": 0,
              "ticks": ""
             }
            },
            "type": "scatterpolargl"
           }
          ],
          "scatterternary": [
           {
            "marker": {
             "colorbar": {
              "outlinewidth": 0,
              "ticks": ""
             }
            },
            "type": "scatterternary"
           }
          ],
          "surface": [
           {
            "colorbar": {
             "outlinewidth": 0,
             "ticks": ""
            },
            "colorscale": [
             [
              0,
              "#0d0887"
             ],
             [
              0.1111111111111111,
              "#46039f"
             ],
             [
              0.2222222222222222,
              "#7201a8"
             ],
             [
              0.3333333333333333,
              "#9c179e"
             ],
             [
              0.4444444444444444,
              "#bd3786"
             ],
             [
              0.5555555555555556,
              "#d8576b"
             ],
             [
              0.6666666666666666,
              "#ed7953"
             ],
             [
              0.7777777777777778,
              "#fb9f3a"
             ],
             [
              0.8888888888888888,
              "#fdca26"
             ],
             [
              1,
              "#f0f921"
             ]
            ],
            "type": "surface"
           }
          ],
          "table": [
           {
            "cells": {
             "fill": {
              "color": "#EBF0F8"
             },
             "line": {
              "color": "white"
             }
            },
            "header": {
             "fill": {
              "color": "#C8D4E3"
             },
             "line": {
              "color": "white"
             }
            },
            "type": "table"
           }
          ]
         },
         "layout": {
          "annotationdefaults": {
           "arrowcolor": "#2a3f5f",
           "arrowhead": 0,
           "arrowwidth": 1
          },
          "coloraxis": {
           "colorbar": {
            "outlinewidth": 0,
            "ticks": ""
           }
          },
          "colorscale": {
           "diverging": [
            [
             0,
             "#8e0152"
            ],
            [
             0.1,
             "#c51b7d"
            ],
            [
             0.2,
             "#de77ae"
            ],
            [
             0.3,
             "#f1b6da"
            ],
            [
             0.4,
             "#fde0ef"
            ],
            [
             0.5,
             "#f7f7f7"
            ],
            [
             0.6,
             "#e6f5d0"
            ],
            [
             0.7,
             "#b8e186"
            ],
            [
             0.8,
             "#7fbc41"
            ],
            [
             0.9,
             "#4d9221"
            ],
            [
             1,
             "#276419"
            ]
           ],
           "sequential": [
            [
             0,
             "#0d0887"
            ],
            [
             0.1111111111111111,
             "#46039f"
            ],
            [
             0.2222222222222222,
             "#7201a8"
            ],
            [
             0.3333333333333333,
             "#9c179e"
            ],
            [
             0.4444444444444444,
             "#bd3786"
            ],
            [
             0.5555555555555556,
             "#d8576b"
            ],
            [
             0.6666666666666666,
             "#ed7953"
            ],
            [
             0.7777777777777778,
             "#fb9f3a"
            ],
            [
             0.8888888888888888,
             "#fdca26"
            ],
            [
             1,
             "#f0f921"
            ]
           ],
           "sequentialminus": [
            [
             0,
             "#0d0887"
            ],
            [
             0.1111111111111111,
             "#46039f"
            ],
            [
             0.2222222222222222,
             "#7201a8"
            ],
            [
             0.3333333333333333,
             "#9c179e"
            ],
            [
             0.4444444444444444,
             "#bd3786"
            ],
            [
             0.5555555555555556,
             "#d8576b"
            ],
            [
             0.6666666666666666,
             "#ed7953"
            ],
            [
             0.7777777777777778,
             "#fb9f3a"
            ],
            [
             0.8888888888888888,
             "#fdca26"
            ],
            [
             1,
             "#f0f921"
            ]
           ]
          },
          "colorway": [
           "#636efa",
           "#EF553B",
           "#00cc96",
           "#ab63fa",
           "#FFA15A",
           "#19d3f3",
           "#FF6692",
           "#B6E880",
           "#FF97FF",
           "#FECB52"
          ],
          "font": {
           "color": "#2a3f5f"
          },
          "geo": {
           "bgcolor": "white",
           "lakecolor": "white",
           "landcolor": "#E5ECF6",
           "showlakes": true,
           "showland": true,
           "subunitcolor": "white"
          },
          "hoverlabel": {
           "align": "left"
          },
          "hovermode": "closest",
          "mapbox": {
           "style": "light"
          },
          "paper_bgcolor": "white",
          "plot_bgcolor": "#E5ECF6",
          "polar": {
           "angularaxis": {
            "gridcolor": "white",
            "linecolor": "white",
            "ticks": ""
           },
           "bgcolor": "#E5ECF6",
           "radialaxis": {
            "gridcolor": "white",
            "linecolor": "white",
            "ticks": ""
           }
          },
          "scene": {
           "xaxis": {
            "backgroundcolor": "#E5ECF6",
            "gridcolor": "white",
            "gridwidth": 2,
            "linecolor": "white",
            "showbackground": true,
            "ticks": "",
            "zerolinecolor": "white"
           },
           "yaxis": {
            "backgroundcolor": "#E5ECF6",
            "gridcolor": "white",
            "gridwidth": 2,
            "linecolor": "white",
            "showbackground": true,
            "ticks": "",
            "zerolinecolor": "white"
           },
           "zaxis": {
            "backgroundcolor": "#E5ECF6",
            "gridcolor": "white",
            "gridwidth": 2,
            "linecolor": "white",
            "showbackground": true,
            "ticks": "",
            "zerolinecolor": "white"
           }
          },
          "shapedefaults": {
           "line": {
            "color": "#2a3f5f"
           }
          },
          "ternary": {
           "aaxis": {
            "gridcolor": "white",
            "linecolor": "white",
            "ticks": ""
           },
           "baxis": {
            "gridcolor": "white",
            "linecolor": "white",
            "ticks": ""
           },
           "bgcolor": "#E5ECF6",
           "caxis": {
            "gridcolor": "white",
            "linecolor": "white",
            "ticks": ""
           }
          },
          "title": {
           "x": 0.05
          },
          "xaxis": {
           "automargin": true,
           "gridcolor": "white",
           "linecolor": "white",
           "ticks": "",
           "title": {
            "standoff": 15
           },
           "zerolinecolor": "white",
           "zerolinewidth": 2
          },
          "yaxis": {
           "automargin": true,
           "gridcolor": "white",
           "linecolor": "white",
           "ticks": "",
           "title": {
            "standoff": 15
           },
           "zerolinecolor": "white",
           "zerolinewidth": 2
          }
         }
        },
        "xaxis": {
         "anchor": "y",
         "domain": [
          0,
          1
         ],
         "title": {
          "text": "DEPARTAMENTO"
         }
        },
        "yaxis": {
         "anchor": "x",
         "domain": [
          0,
          1
         ],
         "title": {
          "text": "RENDIMIENTO"
         }
        }
       }
      }
     },
     "metadata": {}
    }
   ],
   "source": [
    "fig = px.bar(highest_department, x='DEPARTAMENTO', y='RENDIMIENTO',color='RENDIMIENTO')\n",
    "fig.show()"
   ]
  },
  {
   "cell_type": "markdown",
   "metadata": {},
   "source": [
    "# Relevant question 2: What are the municipios that have the highest yield"
   ]
  },
  {
   "cell_type": "markdown",
   "metadata": {},
   "source": [
    "## In general"
   ]
  },
  {
   "cell_type": "code",
   "execution_count": 16,
   "metadata": {},
   "outputs": [
    {
     "output_type": "execute_result",
     "data": {
      "text/plain": "    MUNICIPIO  RENDIMIENTO\n0     SACHICA    55.339432\n1    CAROLINA    33.268281\n2  LA PINTADA    31.500000\n3       PEÑOL    31.283008\n4  ENTRERRIOS    31.237416\n5    ENVIGADO    30.352593\n6     GUATAPE    28.519118\n7        SORA    28.080833\n8      JARDIN    28.017064\n9  DON MATIAS    27.102410",
      "text/html": "<div>\n<style scoped>\n    .dataframe tbody tr th:only-of-type {\n        vertical-align: middle;\n    }\n\n    .dataframe tbody tr th {\n        vertical-align: top;\n    }\n\n    .dataframe thead th {\n        text-align: right;\n    }\n</style>\n<table border=\"1\" class=\"dataframe\">\n  <thead>\n    <tr style=\"text-align: right;\">\n      <th></th>\n      <th>MUNICIPIO</th>\n      <th>RENDIMIENTO</th>\n    </tr>\n  </thead>\n  <tbody>\n    <tr>\n      <th>0</th>\n      <td>SACHICA</td>\n      <td>55.339432</td>\n    </tr>\n    <tr>\n      <th>1</th>\n      <td>CAROLINA</td>\n      <td>33.268281</td>\n    </tr>\n    <tr>\n      <th>2</th>\n      <td>LA PINTADA</td>\n      <td>31.500000</td>\n    </tr>\n    <tr>\n      <th>3</th>\n      <td>PEÑOL</td>\n      <td>31.283008</td>\n    </tr>\n    <tr>\n      <th>4</th>\n      <td>ENTRERRIOS</td>\n      <td>31.237416</td>\n    </tr>\n    <tr>\n      <th>5</th>\n      <td>ENVIGADO</td>\n      <td>30.352593</td>\n    </tr>\n    <tr>\n      <th>6</th>\n      <td>GUATAPE</td>\n      <td>28.519118</td>\n    </tr>\n    <tr>\n      <th>7</th>\n      <td>SORA</td>\n      <td>28.080833</td>\n    </tr>\n    <tr>\n      <th>8</th>\n      <td>JARDIN</td>\n      <td>28.017064</td>\n    </tr>\n    <tr>\n      <th>9</th>\n      <td>DON MATIAS</td>\n      <td>27.102410</td>\n    </tr>\n  </tbody>\n</table>\n</div>"
     },
     "metadata": {},
     "execution_count": 16
    }
   ],
   "source": [
    "rendimiento_mun = data.groupby('MUNICIPIO').RENDIMIENTO.mean()\n",
    "rendimiento_mun=rendimiento_mun.sort_values(ascending=False).head(10).to_frame().reset_index()\n",
    "rendimiento_mun"
   ]
  },
  {
   "cell_type": "code",
   "execution_count": 17,
   "metadata": {},
   "outputs": [
    {
     "output_type": "display_data",
     "data": {
      "application/vnd.plotly.v1+json": {
       "config": {
        "plotlyServerURL": "https://plot.ly"
       },
       "data": [
        {
         "alignmentgroup": "True",
         "hovertemplate": "MUNICIPIO=%{x}<br>RENDIMIENTO=%{marker.color}<extra></extra>",
         "legendgroup": "",
         "marker": {
          "color": [
           55.33943181818183,
           33.26828125,
           31.5,
           31.283007812499996,
           31.23741573033708,
           30.352592592592593,
           28.519117647058827,
           28.080833333333334,
           28.017063829787237,
           27.102409638554217
          ],
          "coloraxis": "coloraxis"
         },
         "name": "",
         "offsetgroup": "",
         "orientation": "v",
         "showlegend": false,
         "textposition": "auto",
         "type": "bar",
         "x": [
          "SACHICA",
          "CAROLINA",
          "LA PINTADA",
          "PEÑOL",
          "ENTRERRIOS",
          "ENVIGADO",
          "GUATAPE",
          "SORA",
          "JARDIN",
          "DON MATIAS"
         ],
         "xaxis": "x",
         "y": [
          55.33943181818183,
          33.26828125,
          31.5,
          31.283007812499996,
          31.23741573033708,
          30.352592592592593,
          28.519117647058827,
          28.080833333333334,
          28.017063829787237,
          27.102409638554217
         ],
         "yaxis": "y"
        }
       ],
       "layout": {
        "barmode": "relative",
        "coloraxis": {
         "colorbar": {
          "title": {
           "text": "RENDIMIENTO"
          }
         },
         "colorscale": [
          [
           0,
           "#0d0887"
          ],
          [
           0.1111111111111111,
           "#46039f"
          ],
          [
           0.2222222222222222,
           "#7201a8"
          ],
          [
           0.3333333333333333,
           "#9c179e"
          ],
          [
           0.4444444444444444,
           "#bd3786"
          ],
          [
           0.5555555555555556,
           "#d8576b"
          ],
          [
           0.6666666666666666,
           "#ed7953"
          ],
          [
           0.7777777777777778,
           "#fb9f3a"
          ],
          [
           0.8888888888888888,
           "#fdca26"
          ],
          [
           1,
           "#f0f921"
          ]
         ]
        },
        "legend": {
         "tracegroupgap": 0
        },
        "margin": {
         "t": 60
        },
        "template": {
         "data": {
          "bar": [
           {
            "error_x": {
             "color": "#2a3f5f"
            },
            "error_y": {
             "color": "#2a3f5f"
            },
            "marker": {
             "line": {
              "color": "#E5ECF6",
              "width": 0.5
             }
            },
            "type": "bar"
           }
          ],
          "barpolar": [
           {
            "marker": {
             "line": {
              "color": "#E5ECF6",
              "width": 0.5
             }
            },
            "type": "barpolar"
           }
          ],
          "carpet": [
           {
            "aaxis": {
             "endlinecolor": "#2a3f5f",
             "gridcolor": "white",
             "linecolor": "white",
             "minorgridcolor": "white",
             "startlinecolor": "#2a3f5f"
            },
            "baxis": {
             "endlinecolor": "#2a3f5f",
             "gridcolor": "white",
             "linecolor": "white",
             "minorgridcolor": "white",
             "startlinecolor": "#2a3f5f"
            },
            "type": "carpet"
           }
          ],
          "choropleth": [
           {
            "colorbar": {
             "outlinewidth": 0,
             "ticks": ""
            },
            "type": "choropleth"
           }
          ],
          "contour": [
           {
            "colorbar": {
             "outlinewidth": 0,
             "ticks": ""
            },
            "colorscale": [
             [
              0,
              "#0d0887"
             ],
             [
              0.1111111111111111,
              "#46039f"
             ],
             [
              0.2222222222222222,
              "#7201a8"
             ],
             [
              0.3333333333333333,
              "#9c179e"
             ],
             [
              0.4444444444444444,
              "#bd3786"
             ],
             [
              0.5555555555555556,
              "#d8576b"
             ],
             [
              0.6666666666666666,
              "#ed7953"
             ],
             [
              0.7777777777777778,
              "#fb9f3a"
             ],
             [
              0.8888888888888888,
              "#fdca26"
             ],
             [
              1,
              "#f0f921"
             ]
            ],
            "type": "contour"
           }
          ],
          "contourcarpet": [
           {
            "colorbar": {
             "outlinewidth": 0,
             "ticks": ""
            },
            "type": "contourcarpet"
           }
          ],
          "heatmap": [
           {
            "colorbar": {
             "outlinewidth": 0,
             "ticks": ""
            },
            "colorscale": [
             [
              0,
              "#0d0887"
             ],
             [
              0.1111111111111111,
              "#46039f"
             ],
             [
              0.2222222222222222,
              "#7201a8"
             ],
             [
              0.3333333333333333,
              "#9c179e"
             ],
             [
              0.4444444444444444,
              "#bd3786"
             ],
             [
              0.5555555555555556,
              "#d8576b"
             ],
             [
              0.6666666666666666,
              "#ed7953"
             ],
             [
              0.7777777777777778,
              "#fb9f3a"
             ],
             [
              0.8888888888888888,
              "#fdca26"
             ],
             [
              1,
              "#f0f921"
             ]
            ],
            "type": "heatmap"
           }
          ],
          "heatmapgl": [
           {
            "colorbar": {
             "outlinewidth": 0,
             "ticks": ""
            },
            "colorscale": [
             [
              0,
              "#0d0887"
             ],
             [
              0.1111111111111111,
              "#46039f"
             ],
             [
              0.2222222222222222,
              "#7201a8"
             ],
             [
              0.3333333333333333,
              "#9c179e"
             ],
             [
              0.4444444444444444,
              "#bd3786"
             ],
             [
              0.5555555555555556,
              "#d8576b"
             ],
             [
              0.6666666666666666,
              "#ed7953"
             ],
             [
              0.7777777777777778,
              "#fb9f3a"
             ],
             [
              0.8888888888888888,
              "#fdca26"
             ],
             [
              1,
              "#f0f921"
             ]
            ],
            "type": "heatmapgl"
           }
          ],
          "histogram": [
           {
            "marker": {
             "colorbar": {
              "outlinewidth": 0,
              "ticks": ""
             }
            },
            "type": "histogram"
           }
          ],
          "histogram2d": [
           {
            "colorbar": {
             "outlinewidth": 0,
             "ticks": ""
            },
            "colorscale": [
             [
              0,
              "#0d0887"
             ],
             [
              0.1111111111111111,
              "#46039f"
             ],
             [
              0.2222222222222222,
              "#7201a8"
             ],
             [
              0.3333333333333333,
              "#9c179e"
             ],
             [
              0.4444444444444444,
              "#bd3786"
             ],
             [
              0.5555555555555556,
              "#d8576b"
             ],
             [
              0.6666666666666666,
              "#ed7953"
             ],
             [
              0.7777777777777778,
              "#fb9f3a"
             ],
             [
              0.8888888888888888,
              "#fdca26"
             ],
             [
              1,
              "#f0f921"
             ]
            ],
            "type": "histogram2d"
           }
          ],
          "histogram2dcontour": [
           {
            "colorbar": {
             "outlinewidth": 0,
             "ticks": ""
            },
            "colorscale": [
             [
              0,
              "#0d0887"
             ],
             [
              0.1111111111111111,
              "#46039f"
             ],
             [
              0.2222222222222222,
              "#7201a8"
             ],
             [
              0.3333333333333333,
              "#9c179e"
             ],
             [
              0.4444444444444444,
              "#bd3786"
             ],
             [
              0.5555555555555556,
              "#d8576b"
             ],
             [
              0.6666666666666666,
              "#ed7953"
             ],
             [
              0.7777777777777778,
              "#fb9f3a"
             ],
             [
              0.8888888888888888,
              "#fdca26"
             ],
             [
              1,
              "#f0f921"
             ]
            ],
            "type": "histogram2dcontour"
           }
          ],
          "mesh3d": [
           {
            "colorbar": {
             "outlinewidth": 0,
             "ticks": ""
            },
            "type": "mesh3d"
           }
          ],
          "parcoords": [
           {
            "line": {
             "colorbar": {
              "outlinewidth": 0,
              "ticks": ""
             }
            },
            "type": "parcoords"
           }
          ],
          "pie": [
           {
            "automargin": true,
            "type": "pie"
           }
          ],
          "scatter": [
           {
            "marker": {
             "colorbar": {
              "outlinewidth": 0,
              "ticks": ""
             }
            },
            "type": "scatter"
           }
          ],
          "scatter3d": [
           {
            "line": {
             "colorbar": {
              "outlinewidth": 0,
              "ticks": ""
             }
            },
            "marker": {
             "colorbar": {
              "outlinewidth": 0,
              "ticks": ""
             }
            },
            "type": "scatter3d"
           }
          ],
          "scattercarpet": [
           {
            "marker": {
             "colorbar": {
              "outlinewidth": 0,
              "ticks": ""
             }
            },
            "type": "scattercarpet"
           }
          ],
          "scattergeo": [
           {
            "marker": {
             "colorbar": {
              "outlinewidth": 0,
              "ticks": ""
             }
            },
            "type": "scattergeo"
           }
          ],
          "scattergl": [
           {
            "marker": {
             "colorbar": {
              "outlinewidth": 0,
              "ticks": ""
             }
            },
            "type": "scattergl"
           }
          ],
          "scattermapbox": [
           {
            "marker": {
             "colorbar": {
              "outlinewidth": 0,
              "ticks": ""
             }
            },
            "type": "scattermapbox"
           }
          ],
          "scatterpolar": [
           {
            "marker": {
             "colorbar": {
              "outlinewidth": 0,
              "ticks": ""
             }
            },
            "type": "scatterpolar"
           }
          ],
          "scatterpolargl": [
           {
            "marker": {
             "colorbar": {
              "outlinewidth": 0,
              "ticks": ""
             }
            },
            "type": "scatterpolargl"
           }
          ],
          "scatterternary": [
           {
            "marker": {
             "colorbar": {
              "outlinewidth": 0,
              "ticks": ""
             }
            },
            "type": "scatterternary"
           }
          ],
          "surface": [
           {
            "colorbar": {
             "outlinewidth": 0,
             "ticks": ""
            },
            "colorscale": [
             [
              0,
              "#0d0887"
             ],
             [
              0.1111111111111111,
              "#46039f"
             ],
             [
              0.2222222222222222,
              "#7201a8"
             ],
             [
              0.3333333333333333,
              "#9c179e"
             ],
             [
              0.4444444444444444,
              "#bd3786"
             ],
             [
              0.5555555555555556,
              "#d8576b"
             ],
             [
              0.6666666666666666,
              "#ed7953"
             ],
             [
              0.7777777777777778,
              "#fb9f3a"
             ],
             [
              0.8888888888888888,
              "#fdca26"
             ],
             [
              1,
              "#f0f921"
             ]
            ],
            "type": "surface"
           }
          ],
          "table": [
           {
            "cells": {
             "fill": {
              "color": "#EBF0F8"
             },
             "line": {
              "color": "white"
             }
            },
            "header": {
             "fill": {
              "color": "#C8D4E3"
             },
             "line": {
              "color": "white"
             }
            },
            "type": "table"
           }
          ]
         },
         "layout": {
          "annotationdefaults": {
           "arrowcolor": "#2a3f5f",
           "arrowhead": 0,
           "arrowwidth": 1
          },
          "coloraxis": {
           "colorbar": {
            "outlinewidth": 0,
            "ticks": ""
           }
          },
          "colorscale": {
           "diverging": [
            [
             0,
             "#8e0152"
            ],
            [
             0.1,
             "#c51b7d"
            ],
            [
             0.2,
             "#de77ae"
            ],
            [
             0.3,
             "#f1b6da"
            ],
            [
             0.4,
             "#fde0ef"
            ],
            [
             0.5,
             "#f7f7f7"
            ],
            [
             0.6,
             "#e6f5d0"
            ],
            [
             0.7,
             "#b8e186"
            ],
            [
             0.8,
             "#7fbc41"
            ],
            [
             0.9,
             "#4d9221"
            ],
            [
             1,
             "#276419"
            ]
           ],
           "sequential": [
            [
             0,
             "#0d0887"
            ],
            [
             0.1111111111111111,
             "#46039f"
            ],
            [
             0.2222222222222222,
             "#7201a8"
            ],
            [
             0.3333333333333333,
             "#9c179e"
            ],
            [
             0.4444444444444444,
             "#bd3786"
            ],
            [
             0.5555555555555556,
             "#d8576b"
            ],
            [
             0.6666666666666666,
             "#ed7953"
            ],
            [
             0.7777777777777778,
             "#fb9f3a"
            ],
            [
             0.8888888888888888,
             "#fdca26"
            ],
            [
             1,
             "#f0f921"
            ]
           ],
           "sequentialminus": [
            [
             0,
             "#0d0887"
            ],
            [
             0.1111111111111111,
             "#46039f"
            ],
            [
             0.2222222222222222,
             "#7201a8"
            ],
            [
             0.3333333333333333,
             "#9c179e"
            ],
            [
             0.4444444444444444,
             "#bd3786"
            ],
            [
             0.5555555555555556,
             "#d8576b"
            ],
            [
             0.6666666666666666,
             "#ed7953"
            ],
            [
             0.7777777777777778,
             "#fb9f3a"
            ],
            [
             0.8888888888888888,
             "#fdca26"
            ],
            [
             1,
             "#f0f921"
            ]
           ]
          },
          "colorway": [
           "#636efa",
           "#EF553B",
           "#00cc96",
           "#ab63fa",
           "#FFA15A",
           "#19d3f3",
           "#FF6692",
           "#B6E880",
           "#FF97FF",
           "#FECB52"
          ],
          "font": {
           "color": "#2a3f5f"
          },
          "geo": {
           "bgcolor": "white",
           "lakecolor": "white",
           "landcolor": "#E5ECF6",
           "showlakes": true,
           "showland": true,
           "subunitcolor": "white"
          },
          "hoverlabel": {
           "align": "left"
          },
          "hovermode": "closest",
          "mapbox": {
           "style": "light"
          },
          "paper_bgcolor": "white",
          "plot_bgcolor": "#E5ECF6",
          "polar": {
           "angularaxis": {
            "gridcolor": "white",
            "linecolor": "white",
            "ticks": ""
           },
           "bgcolor": "#E5ECF6",
           "radialaxis": {
            "gridcolor": "white",
            "linecolor": "white",
            "ticks": ""
           }
          },
          "scene": {
           "xaxis": {
            "backgroundcolor": "#E5ECF6",
            "gridcolor": "white",
            "gridwidth": 2,
            "linecolor": "white",
            "showbackground": true,
            "ticks": "",
            "zerolinecolor": "white"
           },
           "yaxis": {
            "backgroundcolor": "#E5ECF6",
            "gridcolor": "white",
            "gridwidth": 2,
            "linecolor": "white",
            "showbackground": true,
            "ticks": "",
            "zerolinecolor": "white"
           },
           "zaxis": {
            "backgroundcolor": "#E5ECF6",
            "gridcolor": "white",
            "gridwidth": 2,
            "linecolor": "white",
            "showbackground": true,
            "ticks": "",
            "zerolinecolor": "white"
           }
          },
          "shapedefaults": {
           "line": {
            "color": "#2a3f5f"
           }
          },
          "ternary": {
           "aaxis": {
            "gridcolor": "white",
            "linecolor": "white",
            "ticks": ""
           },
           "baxis": {
            "gridcolor": "white",
            "linecolor": "white",
            "ticks": ""
           },
           "bgcolor": "#E5ECF6",
           "caxis": {
            "gridcolor": "white",
            "linecolor": "white",
            "ticks": ""
           }
          },
          "title": {
           "x": 0.05
          },
          "xaxis": {
           "automargin": true,
           "gridcolor": "white",
           "linecolor": "white",
           "ticks": "",
           "title": {
            "standoff": 15
           },
           "zerolinecolor": "white",
           "zerolinewidth": 2
          },
          "yaxis": {
           "automargin": true,
           "gridcolor": "white",
           "linecolor": "white",
           "ticks": "",
           "title": {
            "standoff": 15
           },
           "zerolinecolor": "white",
           "zerolinewidth": 2
          }
         }
        },
        "xaxis": {
         "anchor": "y",
         "domain": [
          0,
          1
         ],
         "title": {
          "text": "MUNICIPIO"
         }
        },
        "yaxis": {
         "anchor": "x",
         "domain": [
          0,
          1
         ],
         "title": {
          "text": "RENDIMIENTO"
         }
        }
       }
      }
     },
     "metadata": {}
    }
   ],
   "source": [
    "fig = px.bar(rendimiento_mun, x='MUNICIPIO', y='RENDIMIENTO',color='RENDIMIENTO')\n",
    "fig.show()"
   ]
  },
  {
   "cell_type": "markdown",
   "metadata": {},
   "source": [
    "# Relevant question 3: How is the data for a sample?"
   ]
  },
  {
   "cell_type": "markdown",
   "metadata": {},
   "source": [
    "With this we can just give the algorithm a municipal or department and it will give us:\n",
    "1. Top 5 Crops\n",
    "2. Is the yield increasing or decreasing over time\n",
    "3. Is the sample in the top 5 of country? if its a municipal its in the top 5 of the departament?"
   ]
  },
  {
   "cell_type": "code",
   "execution_count": 18,
   "metadata": {},
   "outputs": [],
   "source": [
    "sample = \"MARINILLA\"\n",
    "#sample = \"Antioquia\"\n",
    "#sample = \"Valle del cauca\""
   ]
  },
  {
   "cell_type": "markdown",
   "metadata": {},
   "source": [
    "## What are the top 5 crops?"
   ]
  },
  {
   "cell_type": "code",
   "execution_count": 19,
   "metadata": {},
   "outputs": [
    {
     "output_type": "execute_result",
     "data": {
      "text/plain": "     CULTIVO  RENDIMIENTO\n0    REPOLLO    69.870833\n1  CALABACIN    60.418000\n2     TOMATE    49.369167\n3  ZANAHORIA    29.593333\n4    LECHUGA    28.042500",
      "text/html": "<div>\n<style scoped>\n    .dataframe tbody tr th:only-of-type {\n        vertical-align: middle;\n    }\n\n    .dataframe tbody tr th {\n        vertical-align: top;\n    }\n\n    .dataframe thead th {\n        text-align: right;\n    }\n</style>\n<table border=\"1\" class=\"dataframe\">\n  <thead>\n    <tr style=\"text-align: right;\">\n      <th></th>\n      <th>CULTIVO</th>\n      <th>RENDIMIENTO</th>\n    </tr>\n  </thead>\n  <tbody>\n    <tr>\n      <th>0</th>\n      <td>REPOLLO</td>\n      <td>69.870833</td>\n    </tr>\n    <tr>\n      <th>1</th>\n      <td>CALABACIN</td>\n      <td>60.418000</td>\n    </tr>\n    <tr>\n      <th>2</th>\n      <td>TOMATE</td>\n      <td>49.369167</td>\n    </tr>\n    <tr>\n      <th>3</th>\n      <td>ZANAHORIA</td>\n      <td>29.593333</td>\n    </tr>\n    <tr>\n      <th>4</th>\n      <td>LECHUGA</td>\n      <td>28.042500</td>\n    </tr>\n  </tbody>\n</table>\n</div>"
     },
     "metadata": {},
     "execution_count": 19
    }
   ],
   "source": [
    "rendimiento_marinilla = data[data.MUNICIPIO == sample].groupby('CULTIVO').RENDIMIENTO.mean()\n",
    "rendimiento_marinilla=rendimiento_marinilla.sort_values(ascending=False).head(5).to_frame().reset_index()\n",
    "rendimiento_marinilla\n",
    "#rendimiento_marinilla.sort_values('mean',ascending=False).head(10)"
   ]
  },
  {
   "cell_type": "code",
   "execution_count": 20,
   "metadata": {},
   "outputs": [
    {
     "output_type": "display_data",
     "data": {
      "application/vnd.plotly.v1+json": {
       "config": {
        "plotlyServerURL": "https://plot.ly"
       },
       "data": [
        {
         "alignmentgroup": "True",
         "hovertemplate": "CULTIVO=%{x}<br>RENDIMIENTO=%{marker.color}<extra></extra>",
         "legendgroup": "",
         "marker": {
          "color": [
           69.87083333333334,
           60.41799999999999,
           49.369166666666665,
           29.593333333333334,
           28.0425
          ],
          "coloraxis": "coloraxis"
         },
         "name": "",
         "offsetgroup": "",
         "orientation": "v",
         "showlegend": false,
         "textposition": "auto",
         "type": "bar",
         "x": [
          "REPOLLO",
          "CALABACIN",
          "TOMATE",
          "ZANAHORIA",
          "LECHUGA"
         ],
         "xaxis": "x",
         "y": [
          69.87083333333334,
          60.41799999999999,
          49.369166666666665,
          29.593333333333334,
          28.0425
         ],
         "yaxis": "y"
        }
       ],
       "layout": {
        "barmode": "relative",
        "coloraxis": {
         "colorbar": {
          "title": {
           "text": "RENDIMIENTO"
          }
         },
         "colorscale": [
          [
           0,
           "#0d0887"
          ],
          [
           0.1111111111111111,
           "#46039f"
          ],
          [
           0.2222222222222222,
           "#7201a8"
          ],
          [
           0.3333333333333333,
           "#9c179e"
          ],
          [
           0.4444444444444444,
           "#bd3786"
          ],
          [
           0.5555555555555556,
           "#d8576b"
          ],
          [
           0.6666666666666666,
           "#ed7953"
          ],
          [
           0.7777777777777778,
           "#fb9f3a"
          ],
          [
           0.8888888888888888,
           "#fdca26"
          ],
          [
           1,
           "#f0f921"
          ]
         ]
        },
        "legend": {
         "tracegroupgap": 0
        },
        "margin": {
         "t": 60
        },
        "template": {
         "data": {
          "bar": [
           {
            "error_x": {
             "color": "#2a3f5f"
            },
            "error_y": {
             "color": "#2a3f5f"
            },
            "marker": {
             "line": {
              "color": "#E5ECF6",
              "width": 0.5
             }
            },
            "type": "bar"
           }
          ],
          "barpolar": [
           {
            "marker": {
             "line": {
              "color": "#E5ECF6",
              "width": 0.5
             }
            },
            "type": "barpolar"
           }
          ],
          "carpet": [
           {
            "aaxis": {
             "endlinecolor": "#2a3f5f",
             "gridcolor": "white",
             "linecolor": "white",
             "minorgridcolor": "white",
             "startlinecolor": "#2a3f5f"
            },
            "baxis": {
             "endlinecolor": "#2a3f5f",
             "gridcolor": "white",
             "linecolor": "white",
             "minorgridcolor": "white",
             "startlinecolor": "#2a3f5f"
            },
            "type": "carpet"
           }
          ],
          "choropleth": [
           {
            "colorbar": {
             "outlinewidth": 0,
             "ticks": ""
            },
            "type": "choropleth"
           }
          ],
          "contour": [
           {
            "colorbar": {
             "outlinewidth": 0,
             "ticks": ""
            },
            "colorscale": [
             [
              0,
              "#0d0887"
             ],
             [
              0.1111111111111111,
              "#46039f"
             ],
             [
              0.2222222222222222,
              "#7201a8"
             ],
             [
              0.3333333333333333,
              "#9c179e"
             ],
             [
              0.4444444444444444,
              "#bd3786"
             ],
             [
              0.5555555555555556,
              "#d8576b"
             ],
             [
              0.6666666666666666,
              "#ed7953"
             ],
             [
              0.7777777777777778,
              "#fb9f3a"
             ],
             [
              0.8888888888888888,
              "#fdca26"
             ],
             [
              1,
              "#f0f921"
             ]
            ],
            "type": "contour"
           }
          ],
          "contourcarpet": [
           {
            "colorbar": {
             "outlinewidth": 0,
             "ticks": ""
            },
            "type": "contourcarpet"
           }
          ],
          "heatmap": [
           {
            "colorbar": {
             "outlinewidth": 0,
             "ticks": ""
            },
            "colorscale": [
             [
              0,
              "#0d0887"
             ],
             [
              0.1111111111111111,
              "#46039f"
             ],
             [
              0.2222222222222222,
              "#7201a8"
             ],
             [
              0.3333333333333333,
              "#9c179e"
             ],
             [
              0.4444444444444444,
              "#bd3786"
             ],
             [
              0.5555555555555556,
              "#d8576b"
             ],
             [
              0.6666666666666666,
              "#ed7953"
             ],
             [
              0.7777777777777778,
              "#fb9f3a"
             ],
             [
              0.8888888888888888,
              "#fdca26"
             ],
             [
              1,
              "#f0f921"
             ]
            ],
            "type": "heatmap"
           }
          ],
          "heatmapgl": [
           {
            "colorbar": {
             "outlinewidth": 0,
             "ticks": ""
            },
            "colorscale": [
             [
              0,
              "#0d0887"
             ],
             [
              0.1111111111111111,
              "#46039f"
             ],
             [
              0.2222222222222222,
              "#7201a8"
             ],
             [
              0.3333333333333333,
              "#9c179e"
             ],
             [
              0.4444444444444444,
              "#bd3786"
             ],
             [
              0.5555555555555556,
              "#d8576b"
             ],
             [
              0.6666666666666666,
              "#ed7953"
             ],
             [
              0.7777777777777778,
              "#fb9f3a"
             ],
             [
              0.8888888888888888,
              "#fdca26"
             ],
             [
              1,
              "#f0f921"
             ]
            ],
            "type": "heatmapgl"
           }
          ],
          "histogram": [
           {
            "marker": {
             "colorbar": {
              "outlinewidth": 0,
              "ticks": ""
             }
            },
            "type": "histogram"
           }
          ],
          "histogram2d": [
           {
            "colorbar": {
             "outlinewidth": 0,
             "ticks": ""
            },
            "colorscale": [
             [
              0,
              "#0d0887"
             ],
             [
              0.1111111111111111,
              "#46039f"
             ],
             [
              0.2222222222222222,
              "#7201a8"
             ],
             [
              0.3333333333333333,
              "#9c179e"
             ],
             [
              0.4444444444444444,
              "#bd3786"
             ],
             [
              0.5555555555555556,
              "#d8576b"
             ],
             [
              0.6666666666666666,
              "#ed7953"
             ],
             [
              0.7777777777777778,
              "#fb9f3a"
             ],
             [
              0.8888888888888888,
              "#fdca26"
             ],
             [
              1,
              "#f0f921"
             ]
            ],
            "type": "histogram2d"
           }
          ],
          "histogram2dcontour": [
           {
            "colorbar": {
             "outlinewidth": 0,
             "ticks": ""
            },
            "colorscale": [
             [
              0,
              "#0d0887"
             ],
             [
              0.1111111111111111,
              "#46039f"
             ],
             [
              0.2222222222222222,
              "#7201a8"
             ],
             [
              0.3333333333333333,
              "#9c179e"
             ],
             [
              0.4444444444444444,
              "#bd3786"
             ],
             [
              0.5555555555555556,
              "#d8576b"
             ],
             [
              0.6666666666666666,
              "#ed7953"
             ],
             [
              0.7777777777777778,
              "#fb9f3a"
             ],
             [
              0.8888888888888888,
              "#fdca26"
             ],
             [
              1,
              "#f0f921"
             ]
            ],
            "type": "histogram2dcontour"
           }
          ],
          "mesh3d": [
           {
            "colorbar": {
             "outlinewidth": 0,
             "ticks": ""
            },
            "type": "mesh3d"
           }
          ],
          "parcoords": [
           {
            "line": {
             "colorbar": {
              "outlinewidth": 0,
              "ticks": ""
             }
            },
            "type": "parcoords"
           }
          ],
          "pie": [
           {
            "automargin": true,
            "type": "pie"
           }
          ],
          "scatter": [
           {
            "marker": {
             "colorbar": {
              "outlinewidth": 0,
              "ticks": ""
             }
            },
            "type": "scatter"
           }
          ],
          "scatter3d": [
           {
            "line": {
             "colorbar": {
              "outlinewidth": 0,
              "ticks": ""
             }
            },
            "marker": {
             "colorbar": {
              "outlinewidth": 0,
              "ticks": ""
             }
            },
            "type": "scatter3d"
           }
          ],
          "scattercarpet": [
           {
            "marker": {
             "colorbar": {
              "outlinewidth": 0,
              "ticks": ""
             }
            },
            "type": "scattercarpet"
           }
          ],
          "scattergeo": [
           {
            "marker": {
             "colorbar": {
              "outlinewidth": 0,
              "ticks": ""
             }
            },
            "type": "scattergeo"
           }
          ],
          "scattergl": [
           {
            "marker": {
             "colorbar": {
              "outlinewidth": 0,
              "ticks": ""
             }
            },
            "type": "scattergl"
           }
          ],
          "scattermapbox": [
           {
            "marker": {
             "colorbar": {
              "outlinewidth": 0,
              "ticks": ""
             }
            },
            "type": "scattermapbox"
           }
          ],
          "scatterpolar": [
           {
            "marker": {
             "colorbar": {
              "outlinewidth": 0,
              "ticks": ""
             }
            },
            "type": "scatterpolar"
           }
          ],
          "scatterpolargl": [
           {
            "marker": {
             "colorbar": {
              "outlinewidth": 0,
              "ticks": ""
             }
            },
            "type": "scatterpolargl"
           }
          ],
          "scatterternary": [
           {
            "marker": {
             "colorbar": {
              "outlinewidth": 0,
              "ticks": ""
             }
            },
            "type": "scatterternary"
           }
          ],
          "surface": [
           {
            "colorbar": {
             "outlinewidth": 0,
             "ticks": ""
            },
            "colorscale": [
             [
              0,
              "#0d0887"
             ],
             [
              0.1111111111111111,
              "#46039f"
             ],
             [
              0.2222222222222222,
              "#7201a8"
             ],
             [
              0.3333333333333333,
              "#9c179e"
             ],
             [
              0.4444444444444444,
              "#bd3786"
             ],
             [
              0.5555555555555556,
              "#d8576b"
             ],
             [
              0.6666666666666666,
              "#ed7953"
             ],
             [
              0.7777777777777778,
              "#fb9f3a"
             ],
             [
              0.8888888888888888,
              "#fdca26"
             ],
             [
              1,
              "#f0f921"
             ]
            ],
            "type": "surface"
           }
          ],
          "table": [
           {
            "cells": {
             "fill": {
              "color": "#EBF0F8"
             },
             "line": {
              "color": "white"
             }
            },
            "header": {
             "fill": {
              "color": "#C8D4E3"
             },
             "line": {
              "color": "white"
             }
            },
            "type": "table"
           }
          ]
         },
         "layout": {
          "annotationdefaults": {
           "arrowcolor": "#2a3f5f",
           "arrowhead": 0,
           "arrowwidth": 1
          },
          "coloraxis": {
           "colorbar": {
            "outlinewidth": 0,
            "ticks": ""
           }
          },
          "colorscale": {
           "diverging": [
            [
             0,
             "#8e0152"
            ],
            [
             0.1,
             "#c51b7d"
            ],
            [
             0.2,
             "#de77ae"
            ],
            [
             0.3,
             "#f1b6da"
            ],
            [
             0.4,
             "#fde0ef"
            ],
            [
             0.5,
             "#f7f7f7"
            ],
            [
             0.6,
             "#e6f5d0"
            ],
            [
             0.7,
             "#b8e186"
            ],
            [
             0.8,
             "#7fbc41"
            ],
            [
             0.9,
             "#4d9221"
            ],
            [
             1,
             "#276419"
            ]
           ],
           "sequential": [
            [
             0,
             "#0d0887"
            ],
            [
             0.1111111111111111,
             "#46039f"
            ],
            [
             0.2222222222222222,
             "#7201a8"
            ],
            [
             0.3333333333333333,
             "#9c179e"
            ],
            [
             0.4444444444444444,
             "#bd3786"
            ],
            [
             0.5555555555555556,
             "#d8576b"
            ],
            [
             0.6666666666666666,
             "#ed7953"
            ],
            [
             0.7777777777777778,
             "#fb9f3a"
            ],
            [
             0.8888888888888888,
             "#fdca26"
            ],
            [
             1,
             "#f0f921"
            ]
           ],
           "sequentialminus": [
            [
             0,
             "#0d0887"
            ],
            [
             0.1111111111111111,
             "#46039f"
            ],
            [
             0.2222222222222222,
             "#7201a8"
            ],
            [
             0.3333333333333333,
             "#9c179e"
            ],
            [
             0.4444444444444444,
             "#bd3786"
            ],
            [
             0.5555555555555556,
             "#d8576b"
            ],
            [
             0.6666666666666666,
             "#ed7953"
            ],
            [
             0.7777777777777778,
             "#fb9f3a"
            ],
            [
             0.8888888888888888,
             "#fdca26"
            ],
            [
             1,
             "#f0f921"
            ]
           ]
          },
          "colorway": [
           "#636efa",
           "#EF553B",
           "#00cc96",
           "#ab63fa",
           "#FFA15A",
           "#19d3f3",
           "#FF6692",
           "#B6E880",
           "#FF97FF",
           "#FECB52"
          ],
          "font": {
           "color": "#2a3f5f"
          },
          "geo": {
           "bgcolor": "white",
           "lakecolor": "white",
           "landcolor": "#E5ECF6",
           "showlakes": true,
           "showland": true,
           "subunitcolor": "white"
          },
          "hoverlabel": {
           "align": "left"
          },
          "hovermode": "closest",
          "mapbox": {
           "style": "light"
          },
          "paper_bgcolor": "white",
          "plot_bgcolor": "#E5ECF6",
          "polar": {
           "angularaxis": {
            "gridcolor": "white",
            "linecolor": "white",
            "ticks": ""
           },
           "bgcolor": "#E5ECF6",
           "radialaxis": {
            "gridcolor": "white",
            "linecolor": "white",
            "ticks": ""
           }
          },
          "scene": {
           "xaxis": {
            "backgroundcolor": "#E5ECF6",
            "gridcolor": "white",
            "gridwidth": 2,
            "linecolor": "white",
            "showbackground": true,
            "ticks": "",
            "zerolinecolor": "white"
           },
           "yaxis": {
            "backgroundcolor": "#E5ECF6",
            "gridcolor": "white",
            "gridwidth": 2,
            "linecolor": "white",
            "showbackground": true,
            "ticks": "",
            "zerolinecolor": "white"
           },
           "zaxis": {
            "backgroundcolor": "#E5ECF6",
            "gridcolor": "white",
            "gridwidth": 2,
            "linecolor": "white",
            "showbackground": true,
            "ticks": "",
            "zerolinecolor": "white"
           }
          },
          "shapedefaults": {
           "line": {
            "color": "#2a3f5f"
           }
          },
          "ternary": {
           "aaxis": {
            "gridcolor": "white",
            "linecolor": "white",
            "ticks": ""
           },
           "baxis": {
            "gridcolor": "white",
            "linecolor": "white",
            "ticks": ""
           },
           "bgcolor": "#E5ECF6",
           "caxis": {
            "gridcolor": "white",
            "linecolor": "white",
            "ticks": ""
           }
          },
          "title": {
           "x": 0.05
          },
          "xaxis": {
           "automargin": true,
           "gridcolor": "white",
           "linecolor": "white",
           "ticks": "",
           "title": {
            "standoff": 15
           },
           "zerolinecolor": "white",
           "zerolinewidth": 2
          },
          "yaxis": {
           "automargin": true,
           "gridcolor": "white",
           "linecolor": "white",
           "ticks": "",
           "title": {
            "standoff": 15
           },
           "zerolinecolor": "white",
           "zerolinewidth": 2
          }
         }
        },
        "xaxis": {
         "anchor": "y",
         "domain": [
          0,
          1
         ],
         "title": {
          "text": "CULTIVO"
         }
        },
        "yaxis": {
         "anchor": "x",
         "domain": [
          0,
          1
         ],
         "title": {
          "text": "RENDIMIENTO"
         }
        }
       }
      }
     },
     "metadata": {}
    }
   ],
   "source": [
    "fig = px.bar(rendimiento_marinilla, x='CULTIVO', y='RENDIMIENTO',color='RENDIMIENTO')\n",
    "fig.show()"
   ]
  },
  {
   "cell_type": "markdown",
   "metadata": {},
   "source": [
    "## How is the yield over time? is it increasing? decreasing?"
   ]
  },
  {
   "cell_type": "code",
   "execution_count": 21,
   "metadata": {},
   "outputs": [
    {
     "output_type": "error",
     "ename": "AttributeError",
     "evalue": "'DataFrameGroupBy' object has no attribute 'RENDIM'",
     "traceback": [
      "\u001b[1;31m---------------------------------------------------------------------------\u001b[0m",
      "\u001b[1;31mAttributeError\u001b[0m                            Traceback (most recent call last)",
      "\u001b[1;32m<ipython-input-21-270c9f644694>\u001b[0m in \u001b[0;36m<module>\u001b[1;34m\u001b[0m\n\u001b[1;32m----> 1\u001b[1;33m \u001b[0mrendimiento_marinilla\u001b[0m \u001b[1;33m=\u001b[0m \u001b[0mdata\u001b[0m\u001b[1;33m[\u001b[0m\u001b[0mdata\u001b[0m\u001b[1;33m.\u001b[0m\u001b[0mMUNICIPIO\u001b[0m \u001b[1;33m==\u001b[0m \u001b[0msample\u001b[0m\u001b[1;33m]\u001b[0m\u001b[1;33m.\u001b[0m\u001b[0mgroupby\u001b[0m\u001b[1;33m(\u001b[0m\u001b[1;34m'CULTIVO'\u001b[0m\u001b[1;33m)\u001b[0m\u001b[1;33m.\u001b[0m\u001b[0mRENDIM\u001b[0m\u001b[1;33m\u001b[0m\u001b[1;33m\u001b[0m\u001b[0m\n\u001b[0m",
      "\u001b[1;32m~\\Anaconda3\\envs\\R-DOE\\lib\\site-packages\\pandas\\core\\groupby\\groupby.py\u001b[0m in \u001b[0;36m__getattr__\u001b[1;34m(self, attr)\u001b[0m\n\u001b[0;32m    578\u001b[0m \u001b[1;33m\u001b[0m\u001b[0m\n\u001b[0;32m    579\u001b[0m         raise AttributeError(\n\u001b[1;32m--> 580\u001b[1;33m             \u001b[1;34mf\"'{type(self).__name__}' object has no attribute '{attr}'\"\u001b[0m\u001b[1;33m\u001b[0m\u001b[1;33m\u001b[0m\u001b[0m\n\u001b[0m\u001b[0;32m    581\u001b[0m         )\n\u001b[0;32m    582\u001b[0m \u001b[1;33m\u001b[0m\u001b[0m\n",
      "\u001b[1;31mAttributeError\u001b[0m: 'DataFrameGroupBy' object has no attribute 'RENDIM'"
     ]
    }
   ],
   "source": [
    "rendimiento_marinilla = data[data.MUNICIPIO == sample].groupby('CULTIVO').RENDIM\n"
   ]
  },
  {
   "cell_type": "markdown",
   "metadata": {},
   "source": [
    "## Is the sample in the top 5 of country? if it's a municipality, is it in the top 5 of the departament?"
   ]
  },
  {
   "cell_type": "code",
   "execution_count": null,
   "metadata": {},
   "outputs": [],
   "source": []
  },
  {
   "cell_type": "code",
   "execution_count": null,
   "metadata": {},
   "outputs": [],
   "source": []
  }
 ],
 "metadata": {
  "kernelspec": {
   "display_name": "Python 3.7.7 64-bit ('R-DOE': conda)",
   "language": "python",
   "name": "python37764bitrdoeconda935388297b79407d83cccf2b3578fd7c"
  },
  "language_info": {
   "codemirror_mode": {
    "name": "ipython",
    "version": 3
   },
   "file_extension": ".py",
   "mimetype": "text/x-python",
   "name": "python",
   "nbconvert_exporter": "python",
   "pygments_lexer": "ipython3",
   "version": "3.7.7-final"
  }
 },
 "nbformat": 4,
 "nbformat_minor": 4
}