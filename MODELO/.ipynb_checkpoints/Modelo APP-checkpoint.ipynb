{
 "cells": [
  {
   "cell_type": "code",
   "execution_count": 6,
   "metadata": {},
   "outputs": [],
   "source": [
    "import pandas as pd\n",
    "import numpy as np\n",
    "from typing import Tuple\n",
    "from sklearn.cluster import AgglomerativeClustering\n",
    "n_clusters = 4"
   ]
  },
  {
   "cell_type": "code",
   "execution_count": 7,
   "metadata": {},
   "outputs": [],
   "source": [
    "X = pd.read_csv('Hisotrico de proyectos completo.csv')"
   ]
  },
  {
   "cell_type": "code",
   "execution_count": 8,
   "metadata": {},
   "outputs": [],
   "source": [
    "#Clustering\n",
    "\n",
    "def get_clusters(X_train: pd.DataFrame, X_test: pd.DataFrame, n_clusters: int) -> Tuple[pd.DataFrame, pd.DataFrame]:\n",
    "    \"\"\"\n",
    "    applies k-means clustering to training data to find clusters and predicts them for the test set\n",
    "    \"\"\"\n",
    "    clustering = AgglomerativeClustering(n_clusters=n_clusters_, linkage=\n",
    "                                     'ward').fit(MCU)\n",
    "    clustering.fit(X_train)\n",
    "    # apply the labels\n",
    "    train_labels = clustering.labels_\n",
    "    X_train_clstrs = X_train.copy()\n",
    "    X_train_clstrs['clusters'] = train_labels\n",
    "    \n",
    "    # predict labels on the test set\n",
    "    test_labels = clustering.predict(X_test)\n",
    "    X_test_clstrs = X_test.copy()\n",
    "    X_test_clstrs['clusters'] = test_labels\n",
    "    return X_train_clstrs, X_test_clstrs"
   ]
  },
  {
   "cell_type": "code",
   "execution_count": 9,
   "metadata": {},
   "outputs": [],
   "source": [
    "CALIFICACION = np.array([[2, 1, 4, 3],[3, 4, 1, 2],[1, 2, 3, 1],[4, 3, 2, 4]])\n",
    "PESOS = np.array([[0.3],[0.1],[0.2],[0.4]])"
   ]
  },
  {
   "cell_type": "code",
   "execution_count": 10,
   "metadata": {},
   "outputs": [],
   "source": [
    "#Clasificacion\n",
    "\n",
    "def get_classifiers (n_clusters,MCU, MCL,DU, CALIFICACION, PESOS):\n",
    "    \n",
    "    X_train_clstrs, X_test_clstrs = get_clusters(MCU, MCL, n_clusters)\n",
    "    X = X_test_clstrs.drop(columns = ['clusters'])\n",
    "    y = X_test_clstrs['clusters']\n",
    "    rf = RandomForestClassifier(n_estimators=10)\n",
    "    rf.fit(X, y)\n",
    "    y_pred = rf.predict(DU)\n",
    "    y_prob = rf.predict_proba(DU) \n",
    "    APROBADO = CALIFICACION.dot(PESOS)/4\n",
    "    PROBABILIDAD_APROBADO = y_prob*APROBADO.T\n",
    "    \n",
    "    return PROBABILIDAD_APROBADO.max()*100"
   ]
  },
  {
   "cell_type": "code",
   "execution_count": null,
   "metadata": {},
   "outputs": [],
   "source": []
  }
 ],
 "metadata": {
  "kernelspec": {
   "display_name": "Python 3",
   "language": "python",
   "name": "python3"
  },
  "language_info": {
   "codemirror_mode": {
    "name": "ipython",
    "version": 3
   },
   "file_extension": ".py",
   "mimetype": "text/x-python",
   "name": "python",
   "nbconvert_exporter": "python",
   "pygments_lexer": "ipython3",
   "version": "3.7.6"
  }
 },
 "nbformat": 4,
 "nbformat_minor": 4
}
