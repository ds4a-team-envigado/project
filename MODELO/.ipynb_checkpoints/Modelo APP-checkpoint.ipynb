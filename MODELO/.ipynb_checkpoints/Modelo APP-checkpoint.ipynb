{
 "cells": [
  {
   "cell_type": "code",
   "execution_count": 1,
   "metadata": {},
   "outputs": [],
   "source": [
    "from typing import Tuple\n",
    "from sklearn.cluster import AgglomerativeClustering\n",
    "from sklearn.ensemble import RandomForestClassifier\n",
    "from sklearn.preprocessing import StandardScaler\n",
    "import pathlib\n",
    "import pandas as pd\n",
    "import numpy as np\n",
    "import csv\n",
    "n_clusters = 4"
   ]
  },
  {
   "cell_type": "markdown",
   "metadata": {},
   "source": [
    "**Bases de datos**\n",
    "\n",
    "1. EVA \n",
    "2. PROYECTOS_HISTORICO (Hisotrico de proyectos completo.csv)"
   ]
  },
  {
   "cell_type": "markdown",
   "metadata": {},
   "source": [
    "**Registro de usuario**\n",
    "\n",
    "1. Cadena productiva CP\n",
    "2. Departamento DP\n",
    "3. Total de beneficiarios BN\n",
    "4. Valor cofinanciación VC"
   ]
  },
  {
   "cell_type": "code",
   "execution_count": 2,
   "metadata": {},
   "outputs": [],
   "source": [
    "registro = ['COCO', 'ANTIOQUIA',11,'TERRITORIAL']"
   ]
  },
  {
   "cell_type": "markdown",
   "metadata": {},
   "source": [
    "# Funciones"
   ]
  },
  {
   "cell_type": "code",
   "execution_count": 3,
   "metadata": {},
   "outputs": [],
   "source": [
    "#Traer de la base de datos DIFICIL\n",
    "PATH = pathlib.Path('./data').parent\n",
    "DATA_PATH = PATH.joinpath(\"data\").resolve()\n",
    "EVA = pd.read_csv(DATA_PATH.joinpath('EVA_cultivos_modificado.csv'))\n",
    "PROYECTOS_HISTORICO= pd.read_csv('Hisotrico de proyectos completo.csv')"
   ]
  },
  {
   "cell_type": "code",
   "execution_count": 10,
   "metadata": {},
   "outputs": [],
   "source": [
    "#Transformar data historica\n",
    "def transform_hist(X1):\n",
    "    \n",
    "    scaler = StandardScaler()\n",
    "    dff= X1.drop(columns = ['DEPARTAMENTO','MUNICIPIO', 'YEAR','CP','CICLO_CULTIVO']).copy()\n",
    "    scaler.fit(dff)\n",
    "    X2 = scaler.transform(dff)\n",
    "    X3 =pd.DataFrame(X2, columns = dff.columns)\n",
    "    X4 = pd.merge(X3,X1[['CP','CICLO_CULTIVO']],right_index=True,left_index=True)\n",
    "    \n",
    "    #Creating dummy variables\n",
    "    cc_dummy = pd.get_dummies(X4['CICLO_CULTIVO'])\n",
    "    cp_dummy = pd.get_dummies(X4['CP'])\n",
    "    #Concatenating the dummy variables to the original dataset \n",
    "    cluster_dummy_set=pd.concat([X4,cc_dummy,cp_dummy],axis=1)\n",
    "    #Deleting categorical variable from the dummy set\n",
    "    del cluster_dummy_set['CICLO_CULTIVO']\n",
    "    del cluster_dummy_set['CP']\n",
    "    \n",
    "    MCU = cluster_dummy_set.sample(frac = 0.5,random_state=42)\n",
    "    MCL= cluster_dummy_set[~cluster_dummy_set.index.isin(MCU.index)]\n",
    "    \n",
    "    MCU=MCU.dropna()\n",
    "    MCL=MCL.dropna()\n",
    "    \n",
    "    return MCU,MCL"
   ]
  },
  {
   "cell_type": "code",
   "execution_count": 19,
   "metadata": {},
   "outputs": [],
   "source": [
    "#Obtener los cluster\n",
    "\n",
    "def get_clusters(X_train: pd.DataFrame, X_test: pd.DataFrame, n_clusters: int) -> Tuple[pd.DataFrame, pd.DataFrame]:\n",
    "    \"\"\"\n",
    "    applies k-means clustering to training data to find clusters and predicts them for the test set\n",
    "    \"\"\"\n",
    "    clustering = AgglomerativeClustering(n_clusters=n_clusters, linkage=\n",
    "                                     'ward').fit(X_train)\n",
    "    # apply the labels\n",
    "    train_labels = clustering.labels_\n",
    "    X_train_clstrs = X_train.copy()\n",
    "    X_train_clstrs['clusters'] = train_labels\n",
    "    \n",
    "    # predict labels on the test set\n",
    "    test_labels = clustering.fit_predict(X_test)\n",
    "    X_test_clstrs = X_test.copy()\n",
    "    X_test_clstrs['clusters'] = test_labels\n",
    "    return X_train_clstrs, X_test_clstrs"
   ]
  },
  {
   "cell_type": "code",
   "execution_count": 6,
   "metadata": {},
   "outputs": [],
   "source": [
    "# Crear la calificacion\n",
    "\n",
    "def calificar(X_train_clstrs, X1):\n",
    "    #Anexando el cluster a los valores en la escala real\n",
    "    idx = X_train_clstrs.index\n",
    "    X5 = X1.iloc[idx].copy()\n",
    "    X5['key'] = idx\n",
    "    X_train_clstrs['key']=  idx\n",
    "    MCU_cl = pd.merge(X5, X_train_clstrs[['clusters','key']],on = 'key', how='left')\n",
    "    \n",
    "    #Claificacion de cada cluster\n",
    "    cols = ['Total beneficiarios', 'Valor cofinanciación','RENDIMIENTO','PRODUCTIVIDAD']\n",
    "    CALIF = pd.DataFrame()\n",
    "    for i in cols:\n",
    "        y = MCU_cl.groupby(['cluster'])[[i]].mean().sort_values(by = i, ascending = False).reset_index()\n",
    "        y['cal'] = [4,3,2,1]\n",
    "        y.columns = ['cluster',i,'cal_'+ str(i)]\n",
    "        temp = y[['cluster','cal_'+ str(i)]]\n",
    "        if len(CALIF) == 0:\n",
    "            CALIF = temp\n",
    "        else:\n",
    "            CALIF = pd.merge(CALIF,temp,on='cluster',how ='inner')\n",
    "            \n",
    "    PROBABILIDADES = CALIF.iloc[:,[1,2,3,4]].dot(PESOS)/4\n",
    "    calificaciones = pd.merge(CALIF['cluster'],PROBABILIDADES,right_index=True,left_index=True)\n",
    "    \n",
    "    return calificaciones"
   ]
  },
  {
   "cell_type": "code",
   "execution_count": 7,
   "metadata": {},
   "outputs": [],
   "source": [
    "# Transformar datos usuario\n",
    "\n",
    "def transform_input():\n",
    "    #Diccionario del tipo de proyecto\n",
    "    tipo_proy = {'TERRITORIAL':10e6,'REGIONAL':100e6}\n",
    "    info_adicional = EVA.groupby(['DEPARTAMENTO','CADENA_PRODUCTIVA_ADR','CICLO_CULTIVO'])[['RENDIMIENTO','PRODUCTIVIDAD']].mean().reset_index()\n",
    "    scaler = StandardScaler()\n",
    "    dff= X1.drop(columns = ['DEPARTAMENTO','MUNICIPIO', 'YEAR','CP','CICLO_CULTIVO']).copy()\n",
    "    scaler.fit(dff)\n",
    "    y = tipo_proy[registro['tipo_proyecto']]\n",
    "    cp = registro['CP']\n",
    "    registro.update({'Valor cofinanciación':y})\n",
    "    registro.update({cp:1})\n",
    "    inf = info_adicional[(info_adicional['DEPARTAMENTO']==registro['DEPARTAMENTO'])&(info_adicional['CADENA_PRODUCTIVA_ADR']==cp)][['CICLO_CULTIVO','RENDIMIENTO','PRODUCTIVIDAD']]\n",
    "    registro.update(inf.to_dict('list'))\n",
    "    registro.update({registro['CICLO_CULTIVO'][0]:1})\n",
    "    registro.update({'Valor Contrapartida':registro['Valor cofinanciación']*0.1})\n",
    "    registro_df = pd.DataFrame(registro)\n",
    "    R1 = registro_df[['Total beneficiarios','Valor cofinanciación','Valor Contrapartida','RENDIMIENTO','PRODUCTIVIDAD']]\n",
    "    R2 = scaler.transform(R1)\n",
    "    \n",
    "    return DU"
   ]
  },
  {
   "cell_type": "code",
   "execution_count": 8,
   "metadata": {},
   "outputs": [],
   "source": [
    "#Clasificacion\n",
    "\n",
    "def get_classifiers (n_clusters, X1, DU, CALIFICACION, PESOS):\n",
    "    MCU, MCL = transform_hist(X1)\n",
    "    X_train_clstrs, X_test_clstrs = get_clusters(MCU, MCL, n_clusters)\n",
    "    X = X_test_clstrs.drop(columns = ['clusters'])\n",
    "    y = X_test_clstrs['clusters']\n",
    "    rf = RandomForestClassifier(n_estimators=10)\n",
    "    rf.fit(X, y)\n",
    "    y_pred = rf.predict(DU)\n",
    "    y_prob = rf.predict_proba(DU) \n",
    "    APROBADO = CALIFICACION.dot(PESOS)/4\n",
    "    PROBABILIDAD_APROBADO = y_prob*APROBADO.T\n",
    "    \n",
    "    return PROBABILIDAD_APROBADO.max()*100"
   ]
  },
  {
   "cell_type": "code",
   "execution_count": 9,
   "metadata": {},
   "outputs": [],
   "source": [
    "registro = {'CP':'COCO', 'DEPARTAMENTO':'ANTIOQUIA','Total beneficiarios':11,'tipo_proyecto':'TERRITORIAL'}"
   ]
  }
 ],
 "metadata": {
  "kernelspec": {
   "display_name": "Python 3",
   "language": "python",
   "name": "python3"
  },
  "language_info": {
   "codemirror_mode": {
    "name": "ipython",
    "version": 3
   },
   "file_extension": ".py",
   "mimetype": "text/x-python",
   "name": "python",
   "nbconvert_exporter": "python",
   "pygments_lexer": "ipython3",
   "version": "3.7.6"
  }
 },
 "nbformat": 4,
 "nbformat_minor": 4
}
