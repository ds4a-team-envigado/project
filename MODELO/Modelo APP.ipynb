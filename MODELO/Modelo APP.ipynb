{
 "cells": [
  {
   "cell_type": "code",
   "execution_count": 1,
   "metadata": {},
   "outputs": [],
   "source": [
    "from typing import Tuple\n",
    "from sklearn.cluster import AgglomerativeClustering\n",
    "from sklearn.ensemble import RandomForestClassifier\n",
    "from sklearn.preprocessing import StandardScaler\n",
    "import pathlib\n",
    "import pandas as pd\n",
    "import numpy as np\n",
    "import csv\n",
    "n_clusters = 4"
   ]
  },
  {
   "cell_type": "markdown",
   "metadata": {},
   "source": [
    "**Bases de datos**\n",
    "\n",
    "1. EVA \n",
    "2. PROYECTOS_HISTORICO (Hisotrico de proyectos completo.csv)"
   ]
  },
  {
   "cell_type": "markdown",
   "metadata": {},
   "source": [
    "**Registro de usuario**\n",
    "\n",
    "1. Cadena productiva CP\n",
    "2. Departamento DP\n",
    "3. Total de beneficiarios BN\n",
    "4. Valor cofinanciación VC"
   ]
  },
  {
   "cell_type": "markdown",
   "metadata": {},
   "source": [
    "# Funciones"
   ]
  },
  {
   "cell_type": "code",
   "execution_count": 2,
   "metadata": {},
   "outputs": [],
   "source": [
    "#Traer de la base de datos DIFICIL\n",
    "PATH = pathlib.Path('./data').parent\n",
    "DATA_PATH = PATH.joinpath(\"data\").resolve()\n",
    "EVA = pd.read_csv(DATA_PATH.joinpath('EVA_cultivos_modificado.csv'))\n",
    "PROYECTOS_HISTORICO= pd.read_csv('Hisotrico de proyectos completo.csv')"
   ]
  },
  {
   "cell_type": "code",
   "execution_count": 3,
   "metadata": {},
   "outputs": [],
   "source": [
    "#Transformar data historica y EVA\n",
    "def transform_hist(X1, EVA):\n",
    "    \n",
    "    scaler = StandardScaler()\n",
    "    dff= X1.drop(columns = ['DEPARTAMENTO','MUNICIPIO', 'YEAR','CP','CICLO_CULTIVO']).copy()\n",
    "    scaler.fit(dff)\n",
    "    X2 = scaler.transform(dff)\n",
    "    X3 =pd.DataFrame(X2, columns = dff.columns)\n",
    "    X4 = pd.merge(X3,X1[['CP','CICLO_CULTIVO']],right_index=True,left_index=True)\n",
    "    \n",
    "    #Creating dummy variables\n",
    "    cc_dummy = pd.get_dummies(X4['CICLO_CULTIVO'])\n",
    "    cp_dummy = pd.get_dummies(X4['CP'])\n",
    "    #Concatenating the dummy variables to the original dataset \n",
    "    cluster_dummy_set=pd.concat([X4,cc_dummy,cp_dummy],axis=1)\n",
    "    #Deleting categorical variable from the dummy set\n",
    "    del cluster_dummy_set['CICLO_CULTIVO']\n",
    "    del cluster_dummy_set['CP']\n",
    "    \n",
    "    MCU = cluster_dummy_set.sample(frac = 0.5,random_state=42)\n",
    "    MCL= cluster_dummy_set[~cluster_dummy_set.index.isin(MCU.index)]\n",
    "    \n",
    "    MCU=MCU.dropna()\n",
    "    MCL=MCL.dropna()\n",
    "    EVA[\"PRODUCTIVIDAD\"] = EVA[\"AREA_COSECH\"]/EVA[\"AREA_SEMBR\"]\n",
    "    \n",
    "    return MCU,MCL, EVA"
   ]
  },
  {
   "cell_type": "code",
   "execution_count": 4,
   "metadata": {},
   "outputs": [],
   "source": [
    "#Obtener los cluster\n",
    "def get_clusters(X_train: pd.DataFrame, X_test: pd.DataFrame, n_clusters: int) -> Tuple[pd.DataFrame, pd.DataFrame]:\n",
    "    \"\"\"\n",
    "    applies k-means clustering to training data to find clusters and predicts them for the test set\n",
    "    \"\"\"\n",
    "    clustering = AgglomerativeClustering(n_clusters=n_clusters, linkage=\n",
    "                                     'ward').fit(X_train)\n",
    "    # apply the labels\n",
    "    train_labels = clustering.labels_\n",
    "    X_train_clstrs = X_train.copy()\n",
    "    X_train_clstrs['clusters'] = train_labels\n",
    "    \n",
    "    # predict labels on the test set\n",
    "    test_labels = clustering.fit_predict(X_test)\n",
    "    X_test_clstrs = X_test.copy()\n",
    "    X_test_clstrs['clusters'] = test_labels\n",
    "    return X_train_clstrs, X_test_clstrs"
   ]
  },
  {
   "cell_type": "code",
   "execution_count": 5,
   "metadata": {},
   "outputs": [],
   "source": [
    "# Crear la calificacion para cada cluster\n",
    "def calificar(X_train_clstrs, X1):\n",
    "    #Anexando el cluster a los valores en la escala real\n",
    "    idx = X_train_clstrs.index\n",
    "    X5 = X1.iloc[idx].copy()\n",
    "    X5['key'] = idx\n",
    "    X_train_clstrs['key']=  idx\n",
    "    MCU_cl = pd.merge(X5, X_train_clstrs[['clusters','key']],on = 'key', how='left')\n",
    "    \n",
    "    #Claificacion de cada cluster\n",
    "    cols = ['Total beneficiarios', 'Valor cofinanciación','RENDIMIENTO','PRODUCTIVIDAD']\n",
    "    CALIF = pd.DataFrame()\n",
    "    for i in cols:\n",
    "        y = MCU_cl.groupby(['clusters'])[[i]].mean().sort_values(by = i, ascending = False).reset_index()\n",
    "        y['cal'] = [4,3,2,1]\n",
    "        y.columns = ['cluster',i,'cal_'+ str(i)]\n",
    "        temp = y[['cluster','cal_'+ str(i)]]\n",
    "        if len(CALIF) == 0:\n",
    "            CALIF = temp\n",
    "        else:\n",
    "            CALIF = pd.merge(CALIF,temp,on='cluster',how ='inner')\n",
    "            \n",
    "    PROBABILIDADES = CALIF.iloc[:,[1,2,3,4]].dot(PESOS)/4\n",
    "    calificaciones = pd.merge(CALIF['cluster'],PROBABILIDADES,right_index=True,left_index=True)\n",
    "    \n",
    "    return calificaciones"
   ]
  },
  {
   "cell_type": "code",
   "execution_count": 6,
   "metadata": {},
   "outputs": [],
   "source": [
    "# Transformar datos usuario - El output es un dicccionario solo con los datos del usuario\n",
    "def transform_input(registro,X1,EVA):\n",
    "    #Diccionario del tipo de proyecto\n",
    "    tipo_proy = {'TERRITORIALES':100e6,'ASOCIATIVOS':10e6,'NACIONALES':100e7 }\n",
    "    info_adicional = EVA.groupby(['DEPARTAMENTO','CADENA_PRODUCTIVA_ADR','CICLO_CULTIVO'])[['RENDIMIENTO','PRODUCTIVIDAD']].mean().reset_index()\n",
    "    scaler = StandardScaler()\n",
    "    dff= PROYECTOS_HISTORICO.drop(columns = ['DEPARTAMENTO','MUNICIPIO', 'YEAR','CP','CICLO_CULTIVO']).copy()\n",
    "    scaler.fit(dff)\n",
    "\n",
    "    valor = tipo_proy[registro['tipo_proyecto']]\n",
    "    cp = registro['CP']\n",
    "\n",
    "    registro.update({'Valor cofinanciación':valor})\n",
    "    registro.update({cp:1})\n",
    "\n",
    "    inf = info_adicional[(info_adicional['DEPARTAMENTO']==registro['DEPARTAMENTO'])&(info_adicional['CADENA_PRODUCTIVA_ADR']==cp)][['CICLO_CULTIVO','RENDIMIENTO','PRODUCTIVIDAD']]\n",
    "    registro.update(inf.to_dict('list'))\n",
    "    \n",
    "    registro.update({registro['CICLO_CULTIVO'][0]:1})\n",
    "    registro.update({'Valor Contrapartida':registro['Valor cofinanciación']*0.1})\n",
    "    registro_df = pd.DataFrame(registro)\n",
    "    \n",
    "    R1 = registro_df[['Total beneficiarios','Valor cofinanciación','Valor Contrapartida','RENDIMIENTO','PRODUCTIVIDAD']]\n",
    "    R2 = scaler.transform(R1)\n",
    "    \n",
    "    R3 = R2.tolist()\n",
    "    registro.update(zip(['Total beneficiarios','Valor cofinanciación','Valor Contrapartida','RENDIMIENTO','PRODUCTIVIDAD'],R3[0]))\n",
    "    \n",
    "    return registro"
   ]
  },
  {
   "cell_type": "code",
   "execution_count": 7,
   "metadata": {},
   "outputs": [],
   "source": [
    "#CRear df con datos usuario - El output es un df con los datos que salen de transform_input m{as las columnas dummies para ciclo de cultivo y cadena\n",
    "def create_DU(registro_final):\n",
    "    \n",
    "    datos = ['Total beneficiarios','Valor cofinanciación','Valor Contrapartida','RENDIMIENTO','PRODUCTIVIDAD']\n",
    "    ciclo = ['ANUAL', 'PERMANENTE', 'TRANSITORIO']\n",
    "    cadenas = ['AGUACATE', 'AHUYAMA', 'AJI', 'ALGODON', 'ARAZA', 'ARRACACHA', 'ARROZ',\n",
    "       'ARVEJA', 'ASAI', 'BADEA', 'BANANO', 'BOROJO', 'BREVO', 'BROCOLI',\n",
    "       'CACAO', 'CAFE', 'CAUCHO', 'CAÑA AZUCARERA', 'CAÑA PANELERA',\n",
    "       'CEBOLLA DE BULBO', 'CEBOLLA DE RAMA', 'CHONTADURO', 'CILANTRO',\n",
    "       'CIMARRON', 'COCO', 'COLIFLOR', 'CURUBA', 'FIQUE', 'FRESA', 'FRIJOL',\n",
    "       'GRANADILLA', 'GUANABANA', 'GUAYABA', 'HABA', 'HORTALIZAS VARIAS',\n",
    "       'LECHUGA', 'LIMON', 'LULO', 'MAIZ', 'MAIZ FORRAJERO', 'MALANGA',\n",
    "       'MAMEY', 'MANDARINA', 'MANGO', 'MANGOSTINO', 'MARACUYA', 'MELON',\n",
    "       'MORA', 'NARANJA', 'PALMA DE ACEITE', 'PAPA', 'PAPAYA', 'PATILLA',\n",
    "       'PEPINO COHOMBRO', 'PIMENTON', 'PITAHAYA', 'PIÑA', 'PLATANO',\n",
    "       'REMOLACHA', 'REPOLLO', 'TANGELO', 'TOMATE', 'TOMATE DE ARBOL', 'TRIGO',\n",
    "       'UCHUVA', 'ULLUCO', 'UVA', 'YACON', 'YUCA', 'ZANAHORIA', 'ÑAME']\n",
    "    \n",
    "        \n",
    "    ciclo_val = []\n",
    "    for j in ciclo:\n",
    "        if j in registro_final:\n",
    "            ciclo_val.append(1)\n",
    "        else:\n",
    "            ciclo_val.append(0)\n",
    "            \n",
    "    cadenas_val = []\n",
    "    for j in cadenas:\n",
    "        if j in registro_final:\n",
    "            cadenas_val.append(1)\n",
    "        else:\n",
    "            cadenas_val.append(0)\n",
    "    \n",
    "    data = []\n",
    "    for i in datos:\n",
    "        data.append(registro[i])\n",
    "    \n",
    "    du = data+ciclo_val+cadenas_val\n",
    "    cols= datos+ciclo+cadenas\n",
    "            \n",
    "    DU = pd.DataFrame(columns = cols)\n",
    "    DU.loc[0] = du\n",
    "    \n",
    "    return DU"
   ]
  },
  {
   "cell_type": "code",
   "execution_count": 16,
   "metadata": {},
   "outputs": [],
   "source": [
    "#Corre todas las fucniones anteriores, clasifica y entrega probabilidad\n",
    "def run_model(n_clusters, X1, registro, PESOS,EVA):\n",
    "    \n",
    "    MCU, MCL, EVA= transform_hist(X1,EVA)\n",
    "    X_train_clstrs, X_test_clstrs = get_clusters(MCU, MCL, n_clusters)\n",
    "    CALIFICACION = calificar(X_train_clstrs, X1)\n",
    "    registro_final = transform_input(registro,X1,EVA)\n",
    "    DU = create_DU(registro_final)\n",
    "    \n",
    "    X = X_test_clstrs.drop(columns = ['clusters'])\n",
    "    y = X_test_clstrs['clusters']\n",
    "    rf = RandomForestClassifier(n_estimators=10)\n",
    "    rf.fit(X, y)\n",
    "    y_pred = rf.predict(DU)\n",
    "    y_prob = rf.predict_proba(DU)\n",
    "    \n",
    "    \n",
    "    APROBADO = CALIFICACION[0].dot(PESOS)/4\n",
    "    PROBABILIDAD_APROBADO = y_prob*APROBADO.T\n",
    "    \n",
    "    return PROBABILIDAD_APROBADO.max()*100"
   ]
  },
  {
   "cell_type": "code",
   "execution_count": 20,
   "metadata": {},
   "outputs": [
    {
     "name": "stdout",
     "output_type": "stream",
     "text": [
      "La probabilidad de que aprueben su proyecto es 15.375%.\n"
     ]
    }
   ],
   "source": [
    "###################EJEMPLO DE CORRIDA#################\n",
    "##Variables definidas por el usuario\n",
    "registro = {'CP':'COCO', 'DEPARTAMENTO':'ANTIOQUIA','Total beneficiarios':11,'tipo_proyecto':'TERRITORIALES'}\n",
    "PESOS = np.array([[0.3],[0.1],[0.2],[0.4]])\n",
    "\n",
    "###Función principal\n",
    "prob= run_model(4, PROYECTOS_HISTORICO, registro, PESOS ,EVA)\n",
    "\n",
    "print(\"La probabilidad de que aprueben su proyecto es {}%.\".format(prob))"
   ]
  }
 ],
 "metadata": {
  "kernelspec": {
   "display_name": "Python 3",
   "language": "python",
   "name": "python3"
  },
  "language_info": {
   "codemirror_mode": {
    "name": "ipython",
    "version": 3
   },
   "file_extension": ".py",
   "mimetype": "text/x-python",
   "name": "python",
   "nbconvert_exporter": "python",
   "pygments_lexer": "ipython3",
   "version": "3.7.6"
  }
 },
 "nbformat": 4,
 "nbformat_minor": 4
}
