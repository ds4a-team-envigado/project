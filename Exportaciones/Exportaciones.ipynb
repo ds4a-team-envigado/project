{
 "cells": [
  {
   "cell_type": "markdown",
   "metadata": {},
   "source": [
    "## Exportaciones Colombia"
   ]
  },
  {
   "cell_type": "code",
   "execution_count": 1,
   "metadata": {},
   "outputs": [],
   "source": [
    "import pandas as pd\n",
    "import numpy as np"
   ]
  },
  {
   "cell_type": "code",
   "execution_count": 100,
   "metadata": {},
   "outputs": [],
   "source": [
    "df_1 = pd.read_csv('Exportaciones 201503-201609.csv', sep=';')\n",
    "df_2 = pd.read_csv('Exportaciones 201610-201804.csv', sep=';')\n",
    "df_3 = pd.read_csv('Exportaciones 201805-201912.csv', sep=';')"
   ]
  },
  {
   "cell_type": "code",
   "execution_count": 101,
   "metadata": {},
   "outputs": [],
   "source": [
    "df_1=pd.melt(df_1, id_vars=['Código', 'Descripción del producto'], var_name='Mes')\n",
    "df_2=pd.melt(df_2, id_vars=['Código', 'Descripción del producto'], var_name='Mes')\n",
    "df_3=pd.melt(df_3, id_vars=['Código', 'Descripción del producto'], var_name='Mes')\n",
    "\n",
    "df=pd.concat([df_1, df_2, df_3])"
   ]
  },
  {
   "cell_type": "code",
   "execution_count": 102,
   "metadata": {},
   "outputs": [],
   "source": [
    "df['Mes']=df['Mes'].apply(lambda x: x.replace('Valor exportado en ', '').replace('-M', ''))\n",
    "df['Código']=df['Código'].apply(lambda x: x.replace(\"'\", \"\"))"
   ]
  },
  {
   "cell_type": "code",
   "execution_count": 103,
   "metadata": {},
   "outputs": [],
   "source": [
    "df=df.reset_index(drop=True)"
   ]
  },
  {
   "cell_type": "code",
   "execution_count": 104,
   "metadata": {},
   "outputs": [
    {
     "data": {
      "text/html": [
       "<div>\n",
       "<style scoped>\n",
       "    .dataframe tbody tr th:only-of-type {\n",
       "        vertical-align: middle;\n",
       "    }\n",
       "\n",
       "    .dataframe tbody tr th {\n",
       "        vertical-align: top;\n",
       "    }\n",
       "\n",
       "    .dataframe thead th {\n",
       "        text-align: right;\n",
       "    }\n",
       "</style>\n",
       "<table border=\"1\" class=\"dataframe\">\n",
       "  <thead>\n",
       "    <tr style=\"text-align: right;\">\n",
       "      <th></th>\n",
       "      <th>Código</th>\n",
       "      <th>Descripción del producto</th>\n",
       "      <th>Mes</th>\n",
       "      <th>value</th>\n",
       "    </tr>\n",
       "  </thead>\n",
       "  <tbody>\n",
       "    <tr>\n",
       "      <th>0</th>\n",
       "      <td>090111</td>\n",
       "      <td>Café sin tostar ni descafeinar</td>\n",
       "      <td>201503</td>\n",
       "      <td>207262</td>\n",
       "    </tr>\n",
       "    <tr>\n",
       "      <th>1</th>\n",
       "      <td>060319</td>\n",
       "      <td>Flores frescas y capullos, cortados, de una, p...</td>\n",
       "      <td>201503</td>\n",
       "      <td>67287</td>\n",
       "    </tr>\n",
       "    <tr>\n",
       "      <th>2</th>\n",
       "      <td>080390</td>\n",
       "      <td>Plátanos frescos o secos (plátanos excl.)</td>\n",
       "      <td>201503</td>\n",
       "      <td>80293</td>\n",
       "    </tr>\n",
       "    <tr>\n",
       "      <th>3</th>\n",
       "      <td>060312</td>\n",
       "      <td>Claveles \"flores y capullos\", cortados para ra...</td>\n",
       "      <td>201503</td>\n",
       "      <td>15017</td>\n",
       "    </tr>\n",
       "    <tr>\n",
       "      <th>4</th>\n",
       "      <td>060311</td>\n",
       "      <td>Rosas \"flores y capullos\", cortadas para ramos...</td>\n",
       "      <td>201503</td>\n",
       "      <td>49031</td>\n",
       "    </tr>\n",
       "    <tr>\n",
       "      <th>...</th>\n",
       "      <td>...</td>\n",
       "      <td>...</td>\n",
       "      <td>...</td>\n",
       "      <td>...</td>\n",
       "    </tr>\n",
       "    <tr>\n",
       "      <th>17047</th>\n",
       "      <td>140300</td>\n",
       "      <td>Sorgo, piasava, grama, ixtle \"tampico\" y demás...</td>\n",
       "      <td>201912</td>\n",
       "      <td>0</td>\n",
       "    </tr>\n",
       "    <tr>\n",
       "      <th>17048</th>\n",
       "      <td>140410</td>\n",
       "      <td>Materias primas vegetales de las especies util...</td>\n",
       "      <td>201912</td>\n",
       "      <td>0</td>\n",
       "    </tr>\n",
       "    <tr>\n",
       "      <th>17049</th>\n",
       "      <td>140420</td>\n",
       "      <td>Línteres de algodón</td>\n",
       "      <td>201912</td>\n",
       "      <td>0</td>\n",
       "    </tr>\n",
       "    <tr>\n",
       "      <th>17050</th>\n",
       "      <td>180200</td>\n",
       "      <td>Cáscara, películas y demás desechos de cacao</td>\n",
       "      <td>201912</td>\n",
       "      <td>0</td>\n",
       "    </tr>\n",
       "    <tr>\n",
       "      <th>17051</th>\n",
       "      <td>180320</td>\n",
       "      <td>Pasta de cacao, desgrasada total o parcialmente</td>\n",
       "      <td>201912</td>\n",
       "      <td>0</td>\n",
       "    </tr>\n",
       "  </tbody>\n",
       "</table>\n",
       "<p>17052 rows × 4 columns</p>\n",
       "</div>"
      ],
      "text/plain": [
       "       Código                           Descripción del producto     Mes  \\\n",
       "0      090111                     Café sin tostar ni descafeinar  201503   \n",
       "1      060319  Flores frescas y capullos, cortados, de una, p...  201503   \n",
       "2      080390          Plátanos frescos o secos (plátanos excl.)  201503   \n",
       "3      060312  Claveles \"flores y capullos\", cortados para ra...  201503   \n",
       "4      060311  Rosas \"flores y capullos\", cortadas para ramos...  201503   \n",
       "...       ...                                                ...     ...   \n",
       "17047  140300  Sorgo, piasava, grama, ixtle \"tampico\" y demás...  201912   \n",
       "17048  140410  Materias primas vegetales de las especies util...  201912   \n",
       "17049  140420                                Línteres de algodón  201912   \n",
       "17050  180200       Cáscara, películas y demás desechos de cacao  201912   \n",
       "17051  180320    Pasta de cacao, desgrasada total o parcialmente  201912   \n",
       "\n",
       "        value  \n",
       "0      207262  \n",
       "1       67287  \n",
       "2       80293  \n",
       "3       15017  \n",
       "4       49031  \n",
       "...       ...  \n",
       "17047       0  \n",
       "17048       0  \n",
       "17049       0  \n",
       "17050       0  \n",
       "17051       0  \n",
       "\n",
       "[17052 rows x 4 columns]"
      ]
     },
     "execution_count": 104,
     "metadata": {},
     "output_type": "execute_result"
    }
   ],
   "source": [
    "df"
   ]
  },
  {
   "cell_type": "code",
   "execution_count": null,
   "metadata": {},
   "outputs": [],
   "source": []
  }
 ],
 "metadata": {
  "kernelspec": {
   "display_name": "Python 3",
   "language": "python",
   "name": "python3"
  },
  "language_info": {
   "codemirror_mode": {
    "name": "ipython",
    "version": 3
   },
   "file_extension": ".py",
   "mimetype": "text/x-python",
   "name": "python",
   "nbconvert_exporter": "python",
   "pygments_lexer": "ipython3",
   "version": "3.7.6"
  }
 },
 "nbformat": 4,
 "nbformat_minor": 4
}
