{
 "cells": [
  {
   "cell_type": "code",
   "execution_count": 2,
   "metadata": {},
   "outputs": [],
   "source": [
    "import pandas as pd\n",
    "import re           #regular expressions\n",
    "from unicodedata import normalize       # para quitar tildes"
   ]
  },
  {
   "cell_type": "code",
   "execution_count": 29,
   "metadata": {},
   "outputs": [
    {
     "output_type": "execute_result",
     "data": {
      "text/plain": "'000'"
     },
     "metadata": {},
     "execution_count": 29
    }
   ],
   "source": [
    "guille = \"000\"\n",
    "noms = guille.split('.')\n",
    "noms[0]"
   ]
  },
  {
   "cell_type": "code",
   "execution_count": 30,
   "metadata": {
    "tags": []
   },
   "outputs": [
    {
     "output_type": "execute_result",
     "data": {
      "text/plain": "     Unnamed: 0                  Cultivo  \\\n0             0                AGUACATE    \n1             1                AGUACATE    \n2             2                AGUACATE    \n3             3                AGUACATE    \n4             4                AGUACATE    \n..          ...                      ...   \n859          27  PLANTACIONES FORESTALES   \n860          28  PLANTACIONES FORESTALES   \n861          29  PLANTACIONES FORESTALES   \n862          30  PLANTACIONES FORESTALES   \n863          31  PLANTACIONES FORESTALES   \n\n                                Departamento  Alta [ha]  Media [ha]  \\\n0                                  ANTIOQUIA     275838      251051   \n1                                      CAUCA     160441      195942   \n2                                     BOYACA     130341      104622   \n3                                  SANTANDER      95357      153818   \n4                               CUNDINAMARCA     171181       92777   \n..                                       ...        ...         ...   \n859                                  QUINDIO      40856       44078   \n860                                   VAUPES          0           0   \n861                                 AMAZONAS          0        4784   \n862                                  GUAINIA          0        1049   \n863  SAN ANDRES PROVIDENCIA Y SANTA CATALINA          0           0   \n\n     Baja [ha]  Muy baja [ha]  Total aptitud [ha]  Área departamento [ha]  \n0       167469              0              694358                 6296299  \n1       113245              0              469628                 3125130  \n2       126270              0              361233                 2317531  \n3        80125              0              329300                 3054326  \n4        30911              0              294869                 2236783  \n..         ...            ...                 ...                     ...  \n859      12286              0               97221                  193217  \n860      50049              0               50049                 5343179  \n861      18130              0               22914                10903686  \n862      15956              0               17005                 7140386  \n863          0              0                   0                    4972  \n\n[864 rows x 9 columns]",
      "text/html": "<div>\n<style scoped>\n    .dataframe tbody tr th:only-of-type {\n        vertical-align: middle;\n    }\n\n    .dataframe tbody tr th {\n        vertical-align: top;\n    }\n\n    .dataframe thead th {\n        text-align: right;\n    }\n</style>\n<table border=\"1\" class=\"dataframe\">\n  <thead>\n    <tr style=\"text-align: right;\">\n      <th></th>\n      <th>Unnamed: 0</th>\n      <th>Cultivo</th>\n      <th>Departamento</th>\n      <th>Alta [ha]</th>\n      <th>Media [ha]</th>\n      <th>Baja [ha]</th>\n      <th>Muy baja [ha]</th>\n      <th>Total aptitud [ha]</th>\n      <th>Área departamento [ha]</th>\n    </tr>\n  </thead>\n  <tbody>\n    <tr>\n      <th>0</th>\n      <td>0</td>\n      <td>AGUACATE</td>\n      <td>ANTIOQUIA</td>\n      <td>275838</td>\n      <td>251051</td>\n      <td>167469</td>\n      <td>0</td>\n      <td>694358</td>\n      <td>6296299</td>\n    </tr>\n    <tr>\n      <th>1</th>\n      <td>1</td>\n      <td>AGUACATE</td>\n      <td>CAUCA</td>\n      <td>160441</td>\n      <td>195942</td>\n      <td>113245</td>\n      <td>0</td>\n      <td>469628</td>\n      <td>3125130</td>\n    </tr>\n    <tr>\n      <th>2</th>\n      <td>2</td>\n      <td>AGUACATE</td>\n      <td>BOYACA</td>\n      <td>130341</td>\n      <td>104622</td>\n      <td>126270</td>\n      <td>0</td>\n      <td>361233</td>\n      <td>2317531</td>\n    </tr>\n    <tr>\n      <th>3</th>\n      <td>3</td>\n      <td>AGUACATE</td>\n      <td>SANTANDER</td>\n      <td>95357</td>\n      <td>153818</td>\n      <td>80125</td>\n      <td>0</td>\n      <td>329300</td>\n      <td>3054326</td>\n    </tr>\n    <tr>\n      <th>4</th>\n      <td>4</td>\n      <td>AGUACATE</td>\n      <td>CUNDINAMARCA</td>\n      <td>171181</td>\n      <td>92777</td>\n      <td>30911</td>\n      <td>0</td>\n      <td>294869</td>\n      <td>2236783</td>\n    </tr>\n    <tr>\n      <th>...</th>\n      <td>...</td>\n      <td>...</td>\n      <td>...</td>\n      <td>...</td>\n      <td>...</td>\n      <td>...</td>\n      <td>...</td>\n      <td>...</td>\n      <td>...</td>\n    </tr>\n    <tr>\n      <th>859</th>\n      <td>27</td>\n      <td>PLANTACIONES FORESTALES</td>\n      <td>QUINDIO</td>\n      <td>40856</td>\n      <td>44078</td>\n      <td>12286</td>\n      <td>0</td>\n      <td>97221</td>\n      <td>193217</td>\n    </tr>\n    <tr>\n      <th>860</th>\n      <td>28</td>\n      <td>PLANTACIONES FORESTALES</td>\n      <td>VAUPES</td>\n      <td>0</td>\n      <td>0</td>\n      <td>50049</td>\n      <td>0</td>\n      <td>50049</td>\n      <td>5343179</td>\n    </tr>\n    <tr>\n      <th>861</th>\n      <td>29</td>\n      <td>PLANTACIONES FORESTALES</td>\n      <td>AMAZONAS</td>\n      <td>0</td>\n      <td>4784</td>\n      <td>18130</td>\n      <td>0</td>\n      <td>22914</td>\n      <td>10903686</td>\n    </tr>\n    <tr>\n      <th>862</th>\n      <td>30</td>\n      <td>PLANTACIONES FORESTALES</td>\n      <td>GUAINIA</td>\n      <td>0</td>\n      <td>1049</td>\n      <td>15956</td>\n      <td>0</td>\n      <td>17005</td>\n      <td>7140386</td>\n    </tr>\n    <tr>\n      <th>863</th>\n      <td>31</td>\n      <td>PLANTACIONES FORESTALES</td>\n      <td>SAN ANDRES PROVIDENCIA Y SANTA CATALINA</td>\n      <td>0</td>\n      <td>0</td>\n      <td>0</td>\n      <td>0</td>\n      <td>0</td>\n      <td>4972</td>\n    </tr>\n  </tbody>\n</table>\n<p>864 rows × 9 columns</p>\n</div>"
     },
     "metadata": {},
     "execution_count": 30
    }
   ],
   "source": [
    "df_norm = pd.read_excel(\"data_sipra.xlsx\")\n",
    "df_norm['Departamento']=df_norm['Departamento'].str.upper()\n",
    "df_norm['Cultivo']=df_norm['Cultivo'].str.upper()\n",
    "# Quito tildes\n",
    "df_norm[\"Departamento\"] = df_norm[\"Departamento\"].apply(lambda x: re.sub(r\"([^n\\u0300-\\u036f]|n(?!\\u0303(?![\\u0300-\\u036f])))[\\u0300-\\u036f]+\", r\"\\1\", normalize( \"NFD\", x), 0, re.I))\n",
    "\n",
    "df_norm\n",
    "\n",
    "def changenumber(df):\n",
    "    numbers = []\n",
    "    for number in df:\n",
    "        number = str(number)\n",
    "        if \".\" in number:\n",
    "            noms = number.split(\".\")\n",
    "            if len(noms)==1:\n",
    "                numbers.append(number)\n",
    "                nom = noms[0]\n",
    "            elif len(noms)==2:\n",
    "                if len(noms[1])<2:\n",
    "                    noms[1]=noms[1]+\"00\"\n",
    "                elif len(noms[1])==2:\n",
    "                    noms[1]=noms[1]+\"0\"\n",
    "                if len(noms[1])>3:\n",
    "                    numero=noms[1]\n",
    "                    noms[1]=numero[0:3]\n",
    "                noms = noms[0]+noms[1]\n",
    "            elif len(noms)==3:\n",
    "                if len(noms[1])<2:\n",
    "                    noms[1]=noms[1]+\"00\"\n",
    "                elif len(noms[1])==2:\n",
    "                    noms[1]=noms[1]+\"0\"\n",
    "                if len(noms[2])<2:\n",
    "                    noms[2]=noms[2]+\"00\"\n",
    "                elif len(noms[2])==2:\n",
    "                    noms[2]=noms[2]+\"0\"\n",
    "                noms = noms[0]+noms[1]+noms[2]\n",
    "            else:\n",
    "                noms = 0\n",
    "        else:\n",
    "            noms = number\n",
    "        numbers.append(noms)\n",
    "    # print(numbers)\n",
    "    return(numbers)\n",
    "\n",
    "df_norm[\"Área departamento [ha]\"]=changenumber(df_norm[\"Área departamento [ha]\"])\n",
    "df_norm[\"Área departamento [ha]\"]=df_norm[\"Área departamento [ha]\"].astype('int')\n",
    "df_norm[\"Alta [ha]\"]= changenumber(df_norm[\"Alta [ha]\"])\n",
    "df_norm[\"Alta [ha]\"]=df_norm[\"Alta [ha]\"].astype('int')\n",
    "df_norm[\"Media [ha]\"]= changenumber(df_norm[\"Media [ha]\"])\n",
    "df_norm[\"Media [ha]\"]=df_norm[\"Media [ha]\"].astype('int')\n",
    "df_norm[\"Baja [ha]\"]= changenumber(df_norm[\"Baja [ha]\"]) \n",
    "df_norm[\"Baja [ha]\"]=df_norm[\"Baja [ha]\"].astype('int')\n",
    "df_norm[\"Total aptitud [ha]\"]= changenumber(df_norm[\"Total aptitud [ha]\"]) \n",
    "df_norm[\"Total aptitud [ha]\"]= df_norm[\"Total aptitud [ha]\"].astype('int')\n",
    "df_norm"
   ]
  },
  {
   "cell_type": "code",
   "execution_count": 31,
   "metadata": {},
   "outputs": [],
   "source": [
    "# Coger los nombres de departamentos del Json\n",
    "import json\n",
    "with open('datos/departamentos.json') as f:\n",
    "    counties = json.load(f)\n",
    "\n",
    "Departamentos = []\n",
    "geocol = counties.copy()\n",
    "#Sacar una lista de los departamentos llamada \"Departamentos\"\n",
    "for man in geocol['features']:\n",
    "    Departamentos.append(man['properties']['NOMBRE_DPT'])\n",
    "    man['id']=man['properties']['NOMBRE_DPT']\n",
    "\n",
    "# Departamentos\n",
    "# # Por cada departamento del Json\n",
    "for depto in Departamentos:\n",
    "    # si está ya en el data set, no hacer nada, si no está hacer lo siguiente\n",
    "    if df_norm['Departamento'].str.contains(depto).any() == False:\n",
    "        # Revisar cantidad de palabras\n",
    "        words = depto.split()\n",
    "        # Si hay una sola palabra, coger el 60 % de esa palabra y buscarlo\n",
    "        if len(words) == 1:\n",
    "            df_norm.loc[df_norm.Departamento.str.find(depto[:int(len(depto)*0.6)])>=0, 'Departamento'] = depto\n",
    "        # Si hay entre 2 o 3 palabras por lo general se encuentra casi la misma palabra (80%)\n",
    "        elif len(words) > 1 and len(words) <= 3:\n",
    "            df_norm.loc[df_norm.Departamento.str.find(depto[:int(len(depto)*0.8)])>=0, 'Departamento'] = depto\n",
    "        # si hay mas de 4 palabras, el unico registro es san andres\n",
    "        elif len(words) > 4:\n",
    "            df_norm.loc[df_norm.Departamento.str.find(\"SAN ANDRES\")>=0, 'Departamento'] = depto"
   ]
  },
  {
   "cell_type": "code",
   "execution_count": 32,
   "metadata": {},
   "outputs": [],
   "source": [
    "# Abrir dictionary ADR\n",
    "dictionary_ADR = pd.read_csv(\"datos/cadenas_productivas_ADR.csv\", sep=';', engine='python')\n",
    "dictionary_ADR= dictionary_ADR[dictionary_ADR['NIVEL']==3]\n",
    "dictionary_ADR[\"CADENA_PRODUCTIVA_ADR\"] = dictionary_ADR[\"CADENA_PRODUCTIVA_ADR\"].apply(lambda x: re.sub(r\"([^n\\u0300-\\u036f]|n(?!\\u0303(?![\\u0300-\\u036f])))[\\u0300-\\u036f]+\", r\"\\1\", normalize( \"NFD\", x), 0, re.I))"
   ]
  },
  {
   "cell_type": "code",
   "execution_count": 26,
   "metadata": {},
   "outputs": [
    {
     "output_type": "execute_result",
     "data": {
      "text/plain": "     Unnamed: 0                  Cultivo  \\\n0             0                AGUACATE    \n1             1                AGUACATE    \n2             2                AGUACATE    \n3             3                AGUACATE    \n4             4                AGUACATE    \n..          ...                      ...   \n859          27  PLANTACIONES FORESTALES   \n860          28  PLANTACIONES FORESTALES   \n861          29  PLANTACIONES FORESTALES   \n862          30  PLANTACIONES FORESTALES   \n863          31  PLANTACIONES FORESTALES   \n\n                                Departamento  Alta [ha]  Media [ha]  \\\n0                                  ANTIOQUIA     275838      251051   \n1                                      CAUCA     160441      195942   \n2                                     BOYACA     130341      104622   \n3                                  SANTANDER      95357      153818   \n4                               CUNDINAMARCA     171181       92777   \n..                                       ...        ...         ...   \n859                                  QUINDIO      40856       44078   \n860                                   VAUPES          0           0   \n861                                 AMAZONAS          0        4784   \n862                                  GUAINIA          0        1049   \n863  SAN ANDRES PROVIDENCIA Y SANTA CATALINA          0           0   \n\n     Baja [ha]  Muy baja [ha]  Total aptitud [ha]  Área departamento [ha]  \n0       167469              0              694358                 6296299  \n1       113245              0              469628                 3125130  \n2       126270              0              361233                 2317531  \n3        80125              0              329300                 3054326  \n4        30911              0              294869                 2236783  \n..         ...            ...                 ...                     ...  \n859      12286              0               97221                  193217  \n860      50049              0               50049                 5343179  \n861      18130              0               22914                10903686  \n862      15956              0               17005                 7140386  \n863          0              0                   0                    4972  \n\n[832 rows x 9 columns]",
      "text/html": "<div>\n<style scoped>\n    .dataframe tbody tr th:only-of-type {\n        vertical-align: middle;\n    }\n\n    .dataframe tbody tr th {\n        vertical-align: top;\n    }\n\n    .dataframe thead th {\n        text-align: right;\n    }\n</style>\n<table border=\"1\" class=\"dataframe\">\n  <thead>\n    <tr style=\"text-align: right;\">\n      <th></th>\n      <th>Unnamed: 0</th>\n      <th>Cultivo</th>\n      <th>Departamento</th>\n      <th>Alta [ha]</th>\n      <th>Media [ha]</th>\n      <th>Baja [ha]</th>\n      <th>Muy baja [ha]</th>\n      <th>Total aptitud [ha]</th>\n      <th>Área departamento [ha]</th>\n    </tr>\n  </thead>\n  <tbody>\n    <tr>\n      <th>0</th>\n      <td>0</td>\n      <td>AGUACATE</td>\n      <td>ANTIOQUIA</td>\n      <td>275838</td>\n      <td>251051</td>\n      <td>167469</td>\n      <td>0</td>\n      <td>694358</td>\n      <td>6296299</td>\n    </tr>\n    <tr>\n      <th>1</th>\n      <td>1</td>\n      <td>AGUACATE</td>\n      <td>CAUCA</td>\n      <td>160441</td>\n      <td>195942</td>\n      <td>113245</td>\n      <td>0</td>\n      <td>469628</td>\n      <td>3125130</td>\n    </tr>\n    <tr>\n      <th>2</th>\n      <td>2</td>\n      <td>AGUACATE</td>\n      <td>BOYACA</td>\n      <td>130341</td>\n      <td>104622</td>\n      <td>126270</td>\n      <td>0</td>\n      <td>361233</td>\n      <td>2317531</td>\n    </tr>\n    <tr>\n      <th>3</th>\n      <td>3</td>\n      <td>AGUACATE</td>\n      <td>SANTANDER</td>\n      <td>95357</td>\n      <td>153818</td>\n      <td>80125</td>\n      <td>0</td>\n      <td>329300</td>\n      <td>3054326</td>\n    </tr>\n    <tr>\n      <th>4</th>\n      <td>4</td>\n      <td>AGUACATE</td>\n      <td>CUNDINAMARCA</td>\n      <td>171181</td>\n      <td>92777</td>\n      <td>30911</td>\n      <td>0</td>\n      <td>294869</td>\n      <td>2236783</td>\n    </tr>\n    <tr>\n      <th>...</th>\n      <td>...</td>\n      <td>...</td>\n      <td>...</td>\n      <td>...</td>\n      <td>...</td>\n      <td>...</td>\n      <td>...</td>\n      <td>...</td>\n      <td>...</td>\n    </tr>\n    <tr>\n      <th>859</th>\n      <td>27</td>\n      <td>PLANTACIONES FORESTALES</td>\n      <td>QUINDIO</td>\n      <td>40856</td>\n      <td>44078</td>\n      <td>12286</td>\n      <td>0</td>\n      <td>97221</td>\n      <td>193217</td>\n    </tr>\n    <tr>\n      <th>860</th>\n      <td>28</td>\n      <td>PLANTACIONES FORESTALES</td>\n      <td>VAUPES</td>\n      <td>0</td>\n      <td>0</td>\n      <td>50049</td>\n      <td>0</td>\n      <td>50049</td>\n      <td>5343179</td>\n    </tr>\n    <tr>\n      <th>861</th>\n      <td>29</td>\n      <td>PLANTACIONES FORESTALES</td>\n      <td>AMAZONAS</td>\n      <td>0</td>\n      <td>4784</td>\n      <td>18130</td>\n      <td>0</td>\n      <td>22914</td>\n      <td>10903686</td>\n    </tr>\n    <tr>\n      <th>862</th>\n      <td>30</td>\n      <td>PLANTACIONES FORESTALES</td>\n      <td>GUAINIA</td>\n      <td>0</td>\n      <td>1049</td>\n      <td>15956</td>\n      <td>0</td>\n      <td>17005</td>\n      <td>7140386</td>\n    </tr>\n    <tr>\n      <th>863</th>\n      <td>31</td>\n      <td>PLANTACIONES FORESTALES</td>\n      <td>SAN ANDRES PROVIDENCIA Y SANTA CATALINA</td>\n      <td>0</td>\n      <td>0</td>\n      <td>0</td>\n      <td>0</td>\n      <td>0</td>\n      <td>4972</td>\n    </tr>\n  </tbody>\n</table>\n<p>832 rows × 9 columns</p>\n</div>"
     },
     "metadata": {},
     "execution_count": 26
    }
   ],
   "source": []
  },
  {
   "cell_type": "code",
   "execution_count": 33,
   "metadata": {},
   "outputs": [
    {
     "output_type": "execute_result",
     "data": {
      "text/plain": "     Unnamed: 0                  Cultivo  \\\n0             0                 AGUACATE   \n1             1                 AGUACATE   \n2             2                 AGUACATE   \n3             3                 AGUACATE   \n4             4                 AGUACATE   \n..          ...                      ...   \n859          27  PLANTACIONES FORESTALES   \n860          28  PLANTACIONES FORESTALES   \n861          29  PLANTACIONES FORESTALES   \n862          30  PLANTACIONES FORESTALES   \n863          31  PLANTACIONES FORESTALES   \n\n                                          Departamento  Alta [ha]  Media [ha]  \\\n0                                            ANTIOQUIA     275838      251051   \n1                                                CAUCA     160441      195942   \n2                                               BOYACA     130341      104622   \n3                                            SANTANDER      95357      153818   \n4                                         CUNDINAMARCA     171181       92777   \n..                                                 ...        ...         ...   \n859                                            QUINDIO      40856       44078   \n860                                             VAUPES          0           0   \n861                                           AMAZONAS          0        4784   \n862                                            GUAINIA          0        1049   \n863  ARCHIPIELAGO DE SAN ANDRES PROVIDENCIA Y SANTA...          0           0   \n\n     Baja [ha]  Muy baja [ha]  Total aptitud [ha]  Área departamento [ha]  \n0       167469              0              694358                 6296299  \n1       113245              0              469628                 3125130  \n2       126270              0              361233                 2317531  \n3        80125              0              329300                 3054326  \n4        30911              0              294869                 2236783  \n..         ...            ...                 ...                     ...  \n859      12286              0               97221                  193217  \n860      50049              0               50049                 5343179  \n861      18130              0               22914                10903686  \n862      15956              0               17005                 7140386  \n863          0              0                   0                    4972  \n\n[832 rows x 9 columns]",
      "text/html": "<div>\n<style scoped>\n    .dataframe tbody tr th:only-of-type {\n        vertical-align: middle;\n    }\n\n    .dataframe tbody tr th {\n        vertical-align: top;\n    }\n\n    .dataframe thead th {\n        text-align: right;\n    }\n</style>\n<table border=\"1\" class=\"dataframe\">\n  <thead>\n    <tr style=\"text-align: right;\">\n      <th></th>\n      <th>Unnamed: 0</th>\n      <th>Cultivo</th>\n      <th>Departamento</th>\n      <th>Alta [ha]</th>\n      <th>Media [ha]</th>\n      <th>Baja [ha]</th>\n      <th>Muy baja [ha]</th>\n      <th>Total aptitud [ha]</th>\n      <th>Área departamento [ha]</th>\n    </tr>\n  </thead>\n  <tbody>\n    <tr>\n      <th>0</th>\n      <td>0</td>\n      <td>AGUACATE</td>\n      <td>ANTIOQUIA</td>\n      <td>275838</td>\n      <td>251051</td>\n      <td>167469</td>\n      <td>0</td>\n      <td>694358</td>\n      <td>6296299</td>\n    </tr>\n    <tr>\n      <th>1</th>\n      <td>1</td>\n      <td>AGUACATE</td>\n      <td>CAUCA</td>\n      <td>160441</td>\n      <td>195942</td>\n      <td>113245</td>\n      <td>0</td>\n      <td>469628</td>\n      <td>3125130</td>\n    </tr>\n    <tr>\n      <th>2</th>\n      <td>2</td>\n      <td>AGUACATE</td>\n      <td>BOYACA</td>\n      <td>130341</td>\n      <td>104622</td>\n      <td>126270</td>\n      <td>0</td>\n      <td>361233</td>\n      <td>2317531</td>\n    </tr>\n    <tr>\n      <th>3</th>\n      <td>3</td>\n      <td>AGUACATE</td>\n      <td>SANTANDER</td>\n      <td>95357</td>\n      <td>153818</td>\n      <td>80125</td>\n      <td>0</td>\n      <td>329300</td>\n      <td>3054326</td>\n    </tr>\n    <tr>\n      <th>4</th>\n      <td>4</td>\n      <td>AGUACATE</td>\n      <td>CUNDINAMARCA</td>\n      <td>171181</td>\n      <td>92777</td>\n      <td>30911</td>\n      <td>0</td>\n      <td>294869</td>\n      <td>2236783</td>\n    </tr>\n    <tr>\n      <th>...</th>\n      <td>...</td>\n      <td>...</td>\n      <td>...</td>\n      <td>...</td>\n      <td>...</td>\n      <td>...</td>\n      <td>...</td>\n      <td>...</td>\n      <td>...</td>\n    </tr>\n    <tr>\n      <th>859</th>\n      <td>27</td>\n      <td>PLANTACIONES FORESTALES</td>\n      <td>QUINDIO</td>\n      <td>40856</td>\n      <td>44078</td>\n      <td>12286</td>\n      <td>0</td>\n      <td>97221</td>\n      <td>193217</td>\n    </tr>\n    <tr>\n      <th>860</th>\n      <td>28</td>\n      <td>PLANTACIONES FORESTALES</td>\n      <td>VAUPES</td>\n      <td>0</td>\n      <td>0</td>\n      <td>50049</td>\n      <td>0</td>\n      <td>50049</td>\n      <td>5343179</td>\n    </tr>\n    <tr>\n      <th>861</th>\n      <td>29</td>\n      <td>PLANTACIONES FORESTALES</td>\n      <td>AMAZONAS</td>\n      <td>0</td>\n      <td>4784</td>\n      <td>18130</td>\n      <td>0</td>\n      <td>22914</td>\n      <td>10903686</td>\n    </tr>\n    <tr>\n      <th>862</th>\n      <td>30</td>\n      <td>PLANTACIONES FORESTALES</td>\n      <td>GUAINIA</td>\n      <td>0</td>\n      <td>1049</td>\n      <td>15956</td>\n      <td>0</td>\n      <td>17005</td>\n      <td>7140386</td>\n    </tr>\n    <tr>\n      <th>863</th>\n      <td>31</td>\n      <td>PLANTACIONES FORESTALES</td>\n      <td>ARCHIPIELAGO DE SAN ANDRES PROVIDENCIA Y SANTA...</td>\n      <td>0</td>\n      <td>0</td>\n      <td>0</td>\n      <td>0</td>\n      <td>0</td>\n      <td>4972</td>\n    </tr>\n  </tbody>\n</table>\n<p>832 rows × 9 columns</p>\n</div>"
     },
     "metadata": {},
     "execution_count": 33
    }
   ],
   "source": [
    "cadenas_dictionary = dictionary_ADR[\"CADENA_PRODUCTIVA_ADR\"].tolist()\n",
    "\n",
    "df = df_norm[df_norm['Cultivo']!=\"PAPA \"]\n",
    "for i in range(len(cadenas_dictionary)):\n",
    "    row = cadenas_dictionary[i]\n",
    "    # Comparo cada registro del diccionario de ADR con los registros del IPC, además se debe de tener en cuenta que deben ser palabras sueltas\n",
    "    #df.loc[((df['Cultivo'].str.contains(row))|(df['Cultivo'].str.contains(row+\"S\"))), 'Cultivo'] = row\n",
    "    df.loc[((df['Cultivo'].str.contains(rf\"\\b({row})\\b\"))|(df['Cultivo'].str.contains(rf\"\\b({row}+S)\\b\"))), 'Cultivo'] = row\n",
    "#quito nans (los que no se encontraron)\n",
    "# df=df.dropna()\n",
    "df"
   ]
  },
  {
   "cell_type": "code",
   "execution_count": 34,
   "metadata": {
    "tags": []
   },
   "outputs": [],
   "source": [
    "cultivos = []\n",
    "for cultivo in df['Cultivo']:\n",
    "    if not cultivo in cadenas_dictionary:\n",
    "        cultivo = \"NO\"\n",
    "    cultivos.append(cultivo)\n",
    "df['Cultivo']=cultivos"
   ]
  },
  {
   "cell_type": "code",
   "execution_count": 35,
   "metadata": {},
   "outputs": [
    {
     "output_type": "execute_result",
     "data": {
      "text/plain": "     Unnamed: 0   Cultivo                                       Departamento  \\\n0             0  AGUACATE                                          ANTIOQUIA   \n1             1  AGUACATE                                              CAUCA   \n2             2  AGUACATE                                             BOYACA   \n3             3  AGUACATE                                          SANTANDER   \n4             4  AGUACATE                                       CUNDINAMARCA   \n..          ...       ...                                                ...   \n859          27        NO                                            QUINDIO   \n860          28        NO                                             VAUPES   \n861          29        NO                                           AMAZONAS   \n862          30        NO                                            GUAINIA   \n863          31        NO  ARCHIPIELAGO DE SAN ANDRES PROVIDENCIA Y SANTA...   \n\n     Alta [ha]  Media [ha]  Baja [ha]  Muy baja [ha]  Total aptitud [ha]  \\\n0       275838      251051     167469              0              694358   \n1       160441      195942     113245              0              469628   \n2       130341      104622     126270              0              361233   \n3        95357      153818      80125              0              329300   \n4       171181       92777      30911              0              294869   \n..         ...         ...        ...            ...                 ...   \n859      40856       44078      12286              0               97221   \n860          0           0      50049              0               50049   \n861          0        4784      18130              0               22914   \n862          0        1049      15956              0               17005   \n863          0           0          0              0                   0   \n\n     Área departamento [ha]  \n0                   6296299  \n1                   3125130  \n2                   2317531  \n3                   3054326  \n4                   2236783  \n..                      ...  \n859                  193217  \n860                 5343179  \n861                10903686  \n862                 7140386  \n863                    4972  \n\n[832 rows x 9 columns]",
      "text/html": "<div>\n<style scoped>\n    .dataframe tbody tr th:only-of-type {\n        vertical-align: middle;\n    }\n\n    .dataframe tbody tr th {\n        vertical-align: top;\n    }\n\n    .dataframe thead th {\n        text-align: right;\n    }\n</style>\n<table border=\"1\" class=\"dataframe\">\n  <thead>\n    <tr style=\"text-align: right;\">\n      <th></th>\n      <th>Unnamed: 0</th>\n      <th>Cultivo</th>\n      <th>Departamento</th>\n      <th>Alta [ha]</th>\n      <th>Media [ha]</th>\n      <th>Baja [ha]</th>\n      <th>Muy baja [ha]</th>\n      <th>Total aptitud [ha]</th>\n      <th>Área departamento [ha]</th>\n    </tr>\n  </thead>\n  <tbody>\n    <tr>\n      <th>0</th>\n      <td>0</td>\n      <td>AGUACATE</td>\n      <td>ANTIOQUIA</td>\n      <td>275838</td>\n      <td>251051</td>\n      <td>167469</td>\n      <td>0</td>\n      <td>694358</td>\n      <td>6296299</td>\n    </tr>\n    <tr>\n      <th>1</th>\n      <td>1</td>\n      <td>AGUACATE</td>\n      <td>CAUCA</td>\n      <td>160441</td>\n      <td>195942</td>\n      <td>113245</td>\n      <td>0</td>\n      <td>469628</td>\n      <td>3125130</td>\n    </tr>\n    <tr>\n      <th>2</th>\n      <td>2</td>\n      <td>AGUACATE</td>\n      <td>BOYACA</td>\n      <td>130341</td>\n      <td>104622</td>\n      <td>126270</td>\n      <td>0</td>\n      <td>361233</td>\n      <td>2317531</td>\n    </tr>\n    <tr>\n      <th>3</th>\n      <td>3</td>\n      <td>AGUACATE</td>\n      <td>SANTANDER</td>\n      <td>95357</td>\n      <td>153818</td>\n      <td>80125</td>\n      <td>0</td>\n      <td>329300</td>\n      <td>3054326</td>\n    </tr>\n    <tr>\n      <th>4</th>\n      <td>4</td>\n      <td>AGUACATE</td>\n      <td>CUNDINAMARCA</td>\n      <td>171181</td>\n      <td>92777</td>\n      <td>30911</td>\n      <td>0</td>\n      <td>294869</td>\n      <td>2236783</td>\n    </tr>\n    <tr>\n      <th>...</th>\n      <td>...</td>\n      <td>...</td>\n      <td>...</td>\n      <td>...</td>\n      <td>...</td>\n      <td>...</td>\n      <td>...</td>\n      <td>...</td>\n      <td>...</td>\n    </tr>\n    <tr>\n      <th>859</th>\n      <td>27</td>\n      <td>NO</td>\n      <td>QUINDIO</td>\n      <td>40856</td>\n      <td>44078</td>\n      <td>12286</td>\n      <td>0</td>\n      <td>97221</td>\n      <td>193217</td>\n    </tr>\n    <tr>\n      <th>860</th>\n      <td>28</td>\n      <td>NO</td>\n      <td>VAUPES</td>\n      <td>0</td>\n      <td>0</td>\n      <td>50049</td>\n      <td>0</td>\n      <td>50049</td>\n      <td>5343179</td>\n    </tr>\n    <tr>\n      <th>861</th>\n      <td>29</td>\n      <td>NO</td>\n      <td>AMAZONAS</td>\n      <td>0</td>\n      <td>4784</td>\n      <td>18130</td>\n      <td>0</td>\n      <td>22914</td>\n      <td>10903686</td>\n    </tr>\n    <tr>\n      <th>862</th>\n      <td>30</td>\n      <td>NO</td>\n      <td>GUAINIA</td>\n      <td>0</td>\n      <td>1049</td>\n      <td>15956</td>\n      <td>0</td>\n      <td>17005</td>\n      <td>7140386</td>\n    </tr>\n    <tr>\n      <th>863</th>\n      <td>31</td>\n      <td>NO</td>\n      <td>ARCHIPIELAGO DE SAN ANDRES PROVIDENCIA Y SANTA...</td>\n      <td>0</td>\n      <td>0</td>\n      <td>0</td>\n      <td>0</td>\n      <td>0</td>\n      <td>4972</td>\n    </tr>\n  </tbody>\n</table>\n<p>832 rows × 9 columns</p>\n</div>"
     },
     "metadata": {},
     "execution_count": 35
    }
   ],
   "source": [
    "df"
   ]
  },
  {
   "cell_type": "code",
   "execution_count": 36,
   "metadata": {},
   "outputs": [
    {
     "output_type": "execute_result",
     "data": {
      "text/plain": "     Unnamed: 0   Cultivo                                       Departamento  \\\n0             0  AGUACATE                                          ANTIOQUIA   \n1             1  AGUACATE                                              CAUCA   \n2             2  AGUACATE                                             BOYACA   \n3             3  AGUACATE                                          SANTANDER   \n4             4  AGUACATE                                       CUNDINAMARCA   \n..          ...       ...                                                ...   \n507          27    PAPAYA                                            QUINDIO   \n508          28    PAPAYA                                           AMAZONAS   \n509          29    PAPAYA                                            GUAINIA   \n510          30    PAPAYA                                             VAUPES   \n511          31    PAPAYA  ARCHIPIELAGO DE SAN ANDRES PROVIDENCIA Y SANTA...   \n\n     Alta [ha]  Media [ha]  Baja [ha]  Muy baja [ha]  Total aptitud [ha]  \\\n0       275838      251051     167469              0              694358   \n1       160441      195942     113245              0              469628   \n2       130341      104622     126270              0              361233   \n3        95357      153818      80125              0              329300   \n4       171181       92777      30911              0              294869   \n..         ...         ...        ...            ...                 ...   \n507      47444        6667          0              0               54112   \n508         93        1182      11069              0               12344   \n509          0        3060       8631              0               11691   \n510          0           0       6844              0                6844   \n511          0           0          0              0                   0   \n\n     Área departamento [ha]  \n0                   6296299  \n1                   3125130  \n2                   2317531  \n3                   3054326  \n4                   2236783  \n..                      ...  \n507                  193217  \n508                10903686  \n509                 7140386  \n510                 5343179  \n511                    4972  \n\n[352 rows x 9 columns]",
      "text/html": "<div>\n<style scoped>\n    .dataframe tbody tr th:only-of-type {\n        vertical-align: middle;\n    }\n\n    .dataframe tbody tr th {\n        vertical-align: top;\n    }\n\n    .dataframe thead th {\n        text-align: right;\n    }\n</style>\n<table border=\"1\" class=\"dataframe\">\n  <thead>\n    <tr style=\"text-align: right;\">\n      <th></th>\n      <th>Unnamed: 0</th>\n      <th>Cultivo</th>\n      <th>Departamento</th>\n      <th>Alta [ha]</th>\n      <th>Media [ha]</th>\n      <th>Baja [ha]</th>\n      <th>Muy baja [ha]</th>\n      <th>Total aptitud [ha]</th>\n      <th>Área departamento [ha]</th>\n    </tr>\n  </thead>\n  <tbody>\n    <tr>\n      <th>0</th>\n      <td>0</td>\n      <td>AGUACATE</td>\n      <td>ANTIOQUIA</td>\n      <td>275838</td>\n      <td>251051</td>\n      <td>167469</td>\n      <td>0</td>\n      <td>694358</td>\n      <td>6296299</td>\n    </tr>\n    <tr>\n      <th>1</th>\n      <td>1</td>\n      <td>AGUACATE</td>\n      <td>CAUCA</td>\n      <td>160441</td>\n      <td>195942</td>\n      <td>113245</td>\n      <td>0</td>\n      <td>469628</td>\n      <td>3125130</td>\n    </tr>\n    <tr>\n      <th>2</th>\n      <td>2</td>\n      <td>AGUACATE</td>\n      <td>BOYACA</td>\n      <td>130341</td>\n      <td>104622</td>\n      <td>126270</td>\n      <td>0</td>\n      <td>361233</td>\n      <td>2317531</td>\n    </tr>\n    <tr>\n      <th>3</th>\n      <td>3</td>\n      <td>AGUACATE</td>\n      <td>SANTANDER</td>\n      <td>95357</td>\n      <td>153818</td>\n      <td>80125</td>\n      <td>0</td>\n      <td>329300</td>\n      <td>3054326</td>\n    </tr>\n    <tr>\n      <th>4</th>\n      <td>4</td>\n      <td>AGUACATE</td>\n      <td>CUNDINAMARCA</td>\n      <td>171181</td>\n      <td>92777</td>\n      <td>30911</td>\n      <td>0</td>\n      <td>294869</td>\n      <td>2236783</td>\n    </tr>\n    <tr>\n      <th>...</th>\n      <td>...</td>\n      <td>...</td>\n      <td>...</td>\n      <td>...</td>\n      <td>...</td>\n      <td>...</td>\n      <td>...</td>\n      <td>...</td>\n      <td>...</td>\n    </tr>\n    <tr>\n      <th>507</th>\n      <td>27</td>\n      <td>PAPAYA</td>\n      <td>QUINDIO</td>\n      <td>47444</td>\n      <td>6667</td>\n      <td>0</td>\n      <td>0</td>\n      <td>54112</td>\n      <td>193217</td>\n    </tr>\n    <tr>\n      <th>508</th>\n      <td>28</td>\n      <td>PAPAYA</td>\n      <td>AMAZONAS</td>\n      <td>93</td>\n      <td>1182</td>\n      <td>11069</td>\n      <td>0</td>\n      <td>12344</td>\n      <td>10903686</td>\n    </tr>\n    <tr>\n      <th>509</th>\n      <td>29</td>\n      <td>PAPAYA</td>\n      <td>GUAINIA</td>\n      <td>0</td>\n      <td>3060</td>\n      <td>8631</td>\n      <td>0</td>\n      <td>11691</td>\n      <td>7140386</td>\n    </tr>\n    <tr>\n      <th>510</th>\n      <td>30</td>\n      <td>PAPAYA</td>\n      <td>VAUPES</td>\n      <td>0</td>\n      <td>0</td>\n      <td>6844</td>\n      <td>0</td>\n      <td>6844</td>\n      <td>5343179</td>\n    </tr>\n    <tr>\n      <th>511</th>\n      <td>31</td>\n      <td>PAPAYA</td>\n      <td>ARCHIPIELAGO DE SAN ANDRES PROVIDENCIA Y SANTA...</td>\n      <td>0</td>\n      <td>0</td>\n      <td>0</td>\n      <td>0</td>\n      <td>0</td>\n      <td>4972</td>\n    </tr>\n  </tbody>\n</table>\n<p>352 rows × 9 columns</p>\n</div>"
     },
     "metadata": {},
     "execution_count": 36
    }
   ],
   "source": [
    "df_normalizado=df[df['Cultivo']!=\"NO\"]\n",
    "df_normalizado"
   ]
  },
  {
   "cell_type": "code",
   "execution_count": 37,
   "metadata": {},
   "outputs": [
    {
     "output_type": "execute_result",
     "data": {
      "text/plain": "                                                    Unnamed: 0 Cultivo  \\\nDepartamento                                                             \nAMAZONAS                                                    26    PAPA   \nANTIOQUIA                                                    5    PAPA   \nARAUCA                                                      22    PAPA   \nARCHIPIELAGO DE SAN ANDRES PROVIDENCIA Y SANTA ...          25    PAPA   \nATLANTICO                                                   24    PAPA   \nBOLIVAR                                                     20    PAPA   \nBOYACA                                                       2    PAPA   \nCALDAS                                                       9    PAPA   \nCAQUETA                                                     19    PAPA   \nCASANARE                                                    23    PAPA   \nCAUCA                                                        3    PAPA   \nCESAR                                                       15    PAPA   \nCHOCO                                                       14    PAPA   \nCORDOBA                                                     30    PAPA   \nCUNDINAMARCA                                                 0    PAPA   \nGUAINIA                                                     27    PAPA   \nGUAVIARE                                                    28    PAPA   \nHUILA                                                        8    PAPA   \nLA GUAJIRA                                                  16    PAPA   \nMAGDALENA                                                   17    PAPA   \nMETA                                                        18    PAPA   \nNARIÃ‘O                                                      1    PAPA   \nNORTE DE SANTANDER                                          10    PAPA   \nPUTUMAYO                                                     6    PAPA   \nQUINDIO                                                     12    PAPA   \nRISARALDA                                                   13    PAPA   \nSANTANDER                                                    4    PAPA   \nSUCRE                                                       21    PAPA   \nTOLIMA                                                       7    PAPA   \nVALLE DEL CAUCA                                             11    PAPA   \nVAUPES                                                      29    PAPA   \nVICHADA                                                     31    PAPA   \n\n                                                    Alta [ha]  Media [ha]  \\\nDepartamento                                                                \nAMAZONAS                                                    0           0   \nANTIOQUIA                                                4171        5376   \nARAUCA                                                      0           0   \nARCHIPIELAGO DE SAN ANDRES PROVIDENCIA Y SANTA ...          0           0   \nATLANTICO                                                   0           0   \nBOLIVAR                                                     0           0   \nBOYACA                                                  21655       19214   \nCALDAS                                                    426         656   \nCAQUETA                                                     0           0   \nCASANARE                                                    0           0   \nCAUCA                                                    3001       15258   \nCESAR                                                       0           0   \nCHOCO                                                       0           0   \nCORDOBA                                                     0           0   \nCUNDINAMARCA                                           109043       93837   \nGUAINIA                                                     0           0   \nGUAVIARE                                                    0           0   \nHUILA                                                     539         354   \nLA GUAJIRA                                                  0           0   \nMAGDALENA                                                   0           0   \nMETA                                                        0           0   \nNARIÃ‘O                                                 66824       16185   \nNORTE DE SANTANDER                                        360           0   \nPUTUMAYO                                                 1303        2639   \nQUINDIO                                                     0         175   \nRISARALDA                                                   0           0   \nSANTANDER                                                 217        3302   \nSUCRE                                                       0           0   \nTOLIMA                                                      0         646   \nVALLE DEL CAUCA                                             0         158   \nVAUPES                                                      0           0   \nVICHADA                                                     0           0   \n\n                                                    Baja [ha]  Muy baja [ha]  \\\nDepartamento                                                                   \nAMAZONAS                                                    0              0   \nANTIOQUIA                                                7268              0   \nARAUCA                                                      0              0   \nARCHIPIELAGO DE SAN ANDRES PROVIDENCIA Y SANTA ...          0              0   \nATLANTICO                                                   0              0   \nBOLIVAR                                                     0              0   \nBOYACA                                                  18500              0   \nCALDAS                                                   1925              0   \nCAQUETA                                                     0              0   \nCASANARE                                                    0              0   \nCAUCA                                                   18680              0   \nCESAR                                                       0              0   \nCHOCO                                                       0              0   \nCORDOBA                                                     0              0   \nCUNDINAMARCA                                            47476              0   \nGUAINIA                                                     0              0   \nGUAVIARE                                                    0              0   \nHUILA                                                    2265              0   \nLA GUAJIRA                                                  0              0   \nMAGDALENA                                                   0              0   \nMETA                                                        0              0   \nNARIÃ‘O                                                  6435              0   \nNORTE DE SANTANDER                                        643              0   \nPUTUMAYO                                                 6701              0   \nQUINDIO                                                    50              0   \nRISARALDA                                                 135              0   \nSANTANDER                                               22885              0   \nSUCRE                                                       0              0   \nTOLIMA                                                   4153              0   \nVALLE DEL CAUCA                                           555              0   \nVAUPES                                                      0              0   \nVICHADA                                                     0              0   \n\n                                                    Total aptitud [ha]  \\\nDepartamento                                                             \nAMAZONAS                                                             0   \nANTIOQUIA                                                        16815   \nARAUCA                                                               0   \nARCHIPIELAGO DE SAN ANDRES PROVIDENCIA Y SANTA ...                   0   \nATLANTICO                                                            0   \nBOLIVAR                                                              0   \nBOYACA                                                           59369   \nCALDAS                                                            3007   \nCAQUETA                                                              0   \nCASANARE                                                             0   \nCAUCA                                                            36939   \nCESAR                                                                0   \nCHOCO                                                                0   \nCORDOBA                                                              0   \nCUNDINAMARCA                                                    250356   \nGUAINIA                                                              0   \nGUAVIARE                                                             0   \nHUILA                                                             3158   \nLA GUAJIRA                                                           0   \nMAGDALENA                                                            0   \nMETA                                                                 0   \nNARIÃ‘O                                                          89444   \nNORTE DE SANTANDER                                                1003   \nPUTUMAYO                                                         10643   \nQUINDIO                                                            225   \nRISARALDA                                                          135   \nSANTANDER                                                        26404   \nSUCRE                                                                0   \nTOLIMA                                                            4798   \nVALLE DEL CAUCA                                                    713   \nVAUPES                                                               0   \nVICHADA                                                              0   \n\n                                                    Área departamento [ha]  \nDepartamento                                                                \nAMAZONAS                                                          10903686  \nANTIOQUIA                                                          6296299  \nARAUCA                                                             2383135  \nARCHIPIELAGO DE SAN ANDRES PROVIDENCIA Y SANTA ...                    4972  \nATLANTICO                                                           331159  \nBOLIVAR                                                            2665496  \nBOYACA                                                             2317531  \nCALDAS                                                              743890  \nCAQUETA                                                            9010823  \nCASANARE                                                           4434139  \nCAUCA                                                              3125130  \nCESAR                                                              2256550  \nCHOCO                                                              4824344  \nCORDOBA                                                            2499858  \nCUNDINAMARCA                                                       2236783  \nGUAINIA                                                            7140386  \nGUAVIARE                                                           5557912  \nHUILA                                                              1813533  \nLA GUAJIRA                                                         2061936  \nMAGDALENA                                                          2314438  \nMETA                                                               8555025  \nNARIÃ‘O                                                            3149751  \nNORTE DE SANTANDER                                                 2182705  \nPUTUMAYO                                                           2584632  \nQUINDIO                                                             193217  \nRISARALDA                                                           356035  \nSANTANDER                                                          3054326  \nSUCRE                                                              1071860  \nTOLIMA                                                             2415020  \nVALLE DEL CAUCA                                                    2076805  \nVAUPES                                                             5343179  \nVICHADA                                                           10008757  ",
      "text/html": "<div>\n<style scoped>\n    .dataframe tbody tr th:only-of-type {\n        vertical-align: middle;\n    }\n\n    .dataframe tbody tr th {\n        vertical-align: top;\n    }\n\n    .dataframe thead th {\n        text-align: right;\n    }\n</style>\n<table border=\"1\" class=\"dataframe\">\n  <thead>\n    <tr style=\"text-align: right;\">\n      <th></th>\n      <th>Unnamed: 0</th>\n      <th>Cultivo</th>\n      <th>Alta [ha]</th>\n      <th>Media [ha]</th>\n      <th>Baja [ha]</th>\n      <th>Muy baja [ha]</th>\n      <th>Total aptitud [ha]</th>\n      <th>Área departamento [ha]</th>\n    </tr>\n    <tr>\n      <th>Departamento</th>\n      <th></th>\n      <th></th>\n      <th></th>\n      <th></th>\n      <th></th>\n      <th></th>\n      <th></th>\n      <th></th>\n    </tr>\n  </thead>\n  <tbody>\n    <tr>\n      <th>AMAZONAS</th>\n      <td>26</td>\n      <td>PAPA</td>\n      <td>0</td>\n      <td>0</td>\n      <td>0</td>\n      <td>0</td>\n      <td>0</td>\n      <td>10903686</td>\n    </tr>\n    <tr>\n      <th>ANTIOQUIA</th>\n      <td>5</td>\n      <td>PAPA</td>\n      <td>4171</td>\n      <td>5376</td>\n      <td>7268</td>\n      <td>0</td>\n      <td>16815</td>\n      <td>6296299</td>\n    </tr>\n    <tr>\n      <th>ARAUCA</th>\n      <td>22</td>\n      <td>PAPA</td>\n      <td>0</td>\n      <td>0</td>\n      <td>0</td>\n      <td>0</td>\n      <td>0</td>\n      <td>2383135</td>\n    </tr>\n    <tr>\n      <th>ARCHIPIELAGO DE SAN ANDRES PROVIDENCIA Y SANTA CATALINA</th>\n      <td>25</td>\n      <td>PAPA</td>\n      <td>0</td>\n      <td>0</td>\n      <td>0</td>\n      <td>0</td>\n      <td>0</td>\n      <td>4972</td>\n    </tr>\n    <tr>\n      <th>ATLANTICO</th>\n      <td>24</td>\n      <td>PAPA</td>\n      <td>0</td>\n      <td>0</td>\n      <td>0</td>\n      <td>0</td>\n      <td>0</td>\n      <td>331159</td>\n    </tr>\n    <tr>\n      <th>BOLIVAR</th>\n      <td>20</td>\n      <td>PAPA</td>\n      <td>0</td>\n      <td>0</td>\n      <td>0</td>\n      <td>0</td>\n      <td>0</td>\n      <td>2665496</td>\n    </tr>\n    <tr>\n      <th>BOYACA</th>\n      <td>2</td>\n      <td>PAPA</td>\n      <td>21655</td>\n      <td>19214</td>\n      <td>18500</td>\n      <td>0</td>\n      <td>59369</td>\n      <td>2317531</td>\n    </tr>\n    <tr>\n      <th>CALDAS</th>\n      <td>9</td>\n      <td>PAPA</td>\n      <td>426</td>\n      <td>656</td>\n      <td>1925</td>\n      <td>0</td>\n      <td>3007</td>\n      <td>743890</td>\n    </tr>\n    <tr>\n      <th>CAQUETA</th>\n      <td>19</td>\n      <td>PAPA</td>\n      <td>0</td>\n      <td>0</td>\n      <td>0</td>\n      <td>0</td>\n      <td>0</td>\n      <td>9010823</td>\n    </tr>\n    <tr>\n      <th>CASANARE</th>\n      <td>23</td>\n      <td>PAPA</td>\n      <td>0</td>\n      <td>0</td>\n      <td>0</td>\n      <td>0</td>\n      <td>0</td>\n      <td>4434139</td>\n    </tr>\n    <tr>\n      <th>CAUCA</th>\n      <td>3</td>\n      <td>PAPA</td>\n      <td>3001</td>\n      <td>15258</td>\n      <td>18680</td>\n      <td>0</td>\n      <td>36939</td>\n      <td>3125130</td>\n    </tr>\n    <tr>\n      <th>CESAR</th>\n      <td>15</td>\n      <td>PAPA</td>\n      <td>0</td>\n      <td>0</td>\n      <td>0</td>\n      <td>0</td>\n      <td>0</td>\n      <td>2256550</td>\n    </tr>\n    <tr>\n      <th>CHOCO</th>\n      <td>14</td>\n      <td>PAPA</td>\n      <td>0</td>\n      <td>0</td>\n      <td>0</td>\n      <td>0</td>\n      <td>0</td>\n      <td>4824344</td>\n    </tr>\n    <tr>\n      <th>CORDOBA</th>\n      <td>30</td>\n      <td>PAPA</td>\n      <td>0</td>\n      <td>0</td>\n      <td>0</td>\n      <td>0</td>\n      <td>0</td>\n      <td>2499858</td>\n    </tr>\n    <tr>\n      <th>CUNDINAMARCA</th>\n      <td>0</td>\n      <td>PAPA</td>\n      <td>109043</td>\n      <td>93837</td>\n      <td>47476</td>\n      <td>0</td>\n      <td>250356</td>\n      <td>2236783</td>\n    </tr>\n    <tr>\n      <th>GUAINIA</th>\n      <td>27</td>\n      <td>PAPA</td>\n      <td>0</td>\n      <td>0</td>\n      <td>0</td>\n      <td>0</td>\n      <td>0</td>\n      <td>7140386</td>\n    </tr>\n    <tr>\n      <th>GUAVIARE</th>\n      <td>28</td>\n      <td>PAPA</td>\n      <td>0</td>\n      <td>0</td>\n      <td>0</td>\n      <td>0</td>\n      <td>0</td>\n      <td>5557912</td>\n    </tr>\n    <tr>\n      <th>HUILA</th>\n      <td>8</td>\n      <td>PAPA</td>\n      <td>539</td>\n      <td>354</td>\n      <td>2265</td>\n      <td>0</td>\n      <td>3158</td>\n      <td>1813533</td>\n    </tr>\n    <tr>\n      <th>LA GUAJIRA</th>\n      <td>16</td>\n      <td>PAPA</td>\n      <td>0</td>\n      <td>0</td>\n      <td>0</td>\n      <td>0</td>\n      <td>0</td>\n      <td>2061936</td>\n    </tr>\n    <tr>\n      <th>MAGDALENA</th>\n      <td>17</td>\n      <td>PAPA</td>\n      <td>0</td>\n      <td>0</td>\n      <td>0</td>\n      <td>0</td>\n      <td>0</td>\n      <td>2314438</td>\n    </tr>\n    <tr>\n      <th>META</th>\n      <td>18</td>\n      <td>PAPA</td>\n      <td>0</td>\n      <td>0</td>\n      <td>0</td>\n      <td>0</td>\n      <td>0</td>\n      <td>8555025</td>\n    </tr>\n    <tr>\n      <th>NARIÃ‘O</th>\n      <td>1</td>\n      <td>PAPA</td>\n      <td>66824</td>\n      <td>16185</td>\n      <td>6435</td>\n      <td>0</td>\n      <td>89444</td>\n      <td>3149751</td>\n    </tr>\n    <tr>\n      <th>NORTE DE SANTANDER</th>\n      <td>10</td>\n      <td>PAPA</td>\n      <td>360</td>\n      <td>0</td>\n      <td>643</td>\n      <td>0</td>\n      <td>1003</td>\n      <td>2182705</td>\n    </tr>\n    <tr>\n      <th>PUTUMAYO</th>\n      <td>6</td>\n      <td>PAPA</td>\n      <td>1303</td>\n      <td>2639</td>\n      <td>6701</td>\n      <td>0</td>\n      <td>10643</td>\n      <td>2584632</td>\n    </tr>\n    <tr>\n      <th>QUINDIO</th>\n      <td>12</td>\n      <td>PAPA</td>\n      <td>0</td>\n      <td>175</td>\n      <td>50</td>\n      <td>0</td>\n      <td>225</td>\n      <td>193217</td>\n    </tr>\n    <tr>\n      <th>RISARALDA</th>\n      <td>13</td>\n      <td>PAPA</td>\n      <td>0</td>\n      <td>0</td>\n      <td>135</td>\n      <td>0</td>\n      <td>135</td>\n      <td>356035</td>\n    </tr>\n    <tr>\n      <th>SANTANDER</th>\n      <td>4</td>\n      <td>PAPA</td>\n      <td>217</td>\n      <td>3302</td>\n      <td>22885</td>\n      <td>0</td>\n      <td>26404</td>\n      <td>3054326</td>\n    </tr>\n    <tr>\n      <th>SUCRE</th>\n      <td>21</td>\n      <td>PAPA</td>\n      <td>0</td>\n      <td>0</td>\n      <td>0</td>\n      <td>0</td>\n      <td>0</td>\n      <td>1071860</td>\n    </tr>\n    <tr>\n      <th>TOLIMA</th>\n      <td>7</td>\n      <td>PAPA</td>\n      <td>0</td>\n      <td>646</td>\n      <td>4153</td>\n      <td>0</td>\n      <td>4798</td>\n      <td>2415020</td>\n    </tr>\n    <tr>\n      <th>VALLE DEL CAUCA</th>\n      <td>11</td>\n      <td>PAPA</td>\n      <td>0</td>\n      <td>158</td>\n      <td>555</td>\n      <td>0</td>\n      <td>713</td>\n      <td>2076805</td>\n    </tr>\n    <tr>\n      <th>VAUPES</th>\n      <td>29</td>\n      <td>PAPA</td>\n      <td>0</td>\n      <td>0</td>\n      <td>0</td>\n      <td>0</td>\n      <td>0</td>\n      <td>5343179</td>\n    </tr>\n    <tr>\n      <th>VICHADA</th>\n      <td>31</td>\n      <td>PAPA</td>\n      <td>0</td>\n      <td>0</td>\n      <td>0</td>\n      <td>0</td>\n      <td>0</td>\n      <td>10008757</td>\n    </tr>\n  </tbody>\n</table>\n</div>"
     },
     "metadata": {},
     "execution_count": 37
    }
   ],
   "source": [
    "df_normalizado[df_normalizado['Cultivo']==\"PAPA\"].groupby(\"Departamento\").max()"
   ]
  },
  {
   "cell_type": "code",
   "execution_count": 38,
   "metadata": {},
   "outputs": [],
   "source": [
    "df_normalizado.to_csv(\"data_sipra_normalizado.csv\")\n",
    "df_normalizado.to_excel(\"data_sipra_normalizado.xlsx\")"
   ]
  },
  {
   "cell_type": "code",
   "execution_count": 43,
   "metadata": {},
   "outputs": [
    {
     "output_type": "execute_result",
     "data": {
      "text/plain": "['CAFE',\n 'CEBOLLA',\n 'CEBOLLA DE BULBO',\n 'CEBOLLA DE RAMA',\n 'CEBOLLIN',\n 'CADUCIFOLIOS',\n 'CANYARANA',\n 'PLANTULAS',\n 'EUCALIPTO BABY BLUE',\n 'ROSA',\n 'CLAVEL',\n 'ORQUIDEA',\n 'CRISANTEMOS',\n 'ANTURIO',\n 'ASTROMELIA',\n 'CARTUCHO-ASTROMELIA',\n 'CORDELINE CINTA',\n 'FITOSPORUM',\n 'FLOR DE SAFARI',\n 'GERBERAS',\n 'GLADIOLO',\n 'HELECHO',\n 'HELECHO CUERO',\n 'HELICONIA',\n 'HORTENSIA',\n 'LIMONIUM',\n 'MORERA',\n 'PALMA ROBELINA',\n 'POMPON Y CRISANTEMO',\n 'PROTEA',\n 'STATICE',\n 'TREE FERN',\n 'PAPA',\n 'PAPA CHINA',\n 'PAPA CRIOLLA',\n 'ULLUCO',\n 'APIO',\n 'ARRACACHA',\n 'BATATA',\n 'BORE',\n 'CHONQUE',\n 'MALANGA',\n 'ÑAME',\n 'ÑAME DIAMANTE',\n 'ÑAME ESPINO',\n 'YACON',\n 'YUCA',\n 'YUCA INDUSTRIAL',\n 'TOMATE',\n 'TOMATE INVERNADERO',\n 'AJO',\n 'PUERRO',\n 'BROCOLI',\n 'COL',\n 'COLIFLOR',\n 'REPOLLO',\n 'ACHICORIA',\n 'LECHUGA',\n 'ACELGA',\n 'NABO',\n 'ZANAHORIA',\n 'RABANO',\n 'REMOLACHA',\n 'PEPINO COHOMBRO',\n 'PEPINO GUISO',\n 'ARVEJA',\n 'CHACHAFRUTO',\n 'FRIJOL',\n 'FRIJOL ARBUSTIVO',\n 'FRIJOL LADERA',\n 'FRIJOL PLANA',\n 'FRIJOL VOLUBLE',\n 'GUANDUL',\n 'HABICHUELA',\n 'ALCACHOFA',\n 'ASPARRAGUS',\n 'ESPARRAGO',\n 'BERENJENA',\n 'CHAMPIÑON',\n 'ORELLANA',\n 'AJI',\n 'AJI DULCE',\n 'AJI TABASCO',\n 'ESPINACA',\n 'AHUYAMA',\n 'CALABACIN',\n 'CALABAZA',\n 'GUATILA',\n 'YOTA',\n 'ZUCCHINI',\n 'ALFALFA',\n 'HORTALIZAS VARIAS',\n 'LENTEJA',\n 'HABA',\n 'GARBANZO',\n 'BANANITO',\n 'BANANO',\n 'BANANO EXPORTACION',\n 'BANANO MANZANO',\n 'CACHACO',\n 'CHIRO',\n 'CHOLUPA',\n 'MURRAPO',\n 'PLATANO',\n 'PLATANO EXPORTACION',\n 'BANANO',\n 'PIÑA',\n 'AGUACATE',\n 'GUAYABA',\n 'GUAYABA MANZANA',\n 'GUAYABA PERA',\n 'MANGO',\n 'MANGO INJERTO',\n 'MANGOSTINO',\n 'DATIL',\n 'HIGO',\n 'FEIJOA',\n 'NARANJA',\n 'NARANJA JAFFA',\n 'NARANJA SALUSTIANA',\n 'NARANJA VALENCIA',\n 'NARANJA WASHINGTON NAVEL',\n 'TANGARANA',\n 'MANDARINA',\n 'MANDARINA CLEMENTINA',\n 'MANDARINA ONECO',\n 'TANGELO',\n 'TANGELO MINEOLA',\n 'TANGELO ORLANDO',\n 'LIMA',\n 'LIMA TAHITI',\n 'LIMON',\n 'LIMON MANDARINO',\n 'LIMON PAJARITO',\n 'LIMON TAHITI',\n 'POMELO',\n 'TORONJA',\n 'UVA',\n 'UVA CAIMARONA',\n 'PATILLA',\n 'MELON',\n 'PAPAYA',\n 'PAPAYA HAWAIANA',\n 'PAPAYUELA',\n 'MANZANA',\n 'PERA',\n 'DURAZNO',\n 'CIRUELA',\n 'FRESA',\n 'FRAMBUESA',\n 'MORA',\n 'AGRAZ',\n 'ARANDANO',\n 'ANON',\n 'ARAZA',\n 'ASAI',\n 'BACURI',\n 'BADEA',\n 'BOROJO',\n 'BREVO',\n 'CAIMO',\n 'CHAMBA',\n 'CHIRIMOYA',\n 'CHONTADURO',\n 'COCONA',\n 'COPOAZU',\n 'CURCUMA',\n 'CURUBA',\n 'GRANADILLA',\n 'GUAMA',\n 'GUANABANA',\n 'GULUPA',\n 'LULO',\n 'MAMEY',\n 'MAMONCILLO',\n 'MARACUYA',\n 'MARAÑON',\n 'NISPERO',\n 'NONI',\n 'PEPA DE PAN',\n 'POMARROSA',\n 'RAMBUTAN',\n 'TOMATE DE ARBOL',\n 'UCHUVA',\n 'UMARI',\n 'ZAPOTE',\n 'ZARAGOZA',\n 'PITAHAYA',\n 'TAMARINDO',\n 'ALGARROBO',\n 'FRUTALES VARIOS',\n 'TABACO NEGRO',\n 'TABACO RUBIO',\n 'TE',\n 'PIMENTON',\n 'PIMIENTA',\n 'VAINILLA',\n 'CARDAMOMO',\n 'ANIS',\n 'CHILLANGUA',\n 'CILANTRO',\n 'CIMARRON',\n 'PEREJIL',\n 'ACHIN',\n 'ACHIOTE',\n 'ALBAHACA',\n 'AMARANTO',\n 'CALENDULA',\n 'CHIRARAN',\n 'COCCULUS',\n 'ENELDO',\n 'HIERBABUENA',\n 'JENGIBRE',\n 'LAUREL',\n 'LIMONARIA',\n 'MANZANILLA',\n 'MEDICINALES',\n 'MENTA',\n 'MORINGA',\n 'MOSTAZA',\n 'OREGANO',\n 'POLEO',\n 'ROMERO',\n 'RUSCUS',\n 'SABILA',\n 'TOMILLO',\n 'RUDA',\n 'FLOR DE JAMAICA',\n 'QUINUA',\n 'ACHIRA',\n 'CHIA',\n 'SAGU',\n 'PALMITO',\n 'COCO',\n 'MACADAMIA',\n 'TRIGO',\n 'CEBADA',\n 'AVENA',\n 'MAIZ',\n 'MAIZ FORRAJERO',\n 'MAIZ TECNIFICADO',\n 'MAIZ TRADICIONAL',\n 'MILLO',\n 'ARROZ',\n 'ARROZ RIEGO',\n 'ARROZ SECANO MANUAL',\n 'ARROZ SECANO MECANIZADO',\n 'SORGO',\n 'CENTENO',\n 'SOYA',\n 'MANI',\n 'GIRASOL',\n 'AGUAJE',\n 'COROZO',\n 'PALMA DE ACEITE',\n 'SACHA INCHI',\n 'HIGUERILLA',\n 'AJONJOLI',\n 'CAÑA AZUCARERA',\n 'CAÑA FLECHA',\n 'CAÑA MIEL',\n 'CAÑA PANELERA',\n 'STEVIA',\n 'BAMBU, RATAN, CAÑA, JUNCO, MIMBRE',\n 'ESPARTO',\n 'ESTROPAJO',\n 'FIQUE',\n 'IRACA',\n 'JATROPHA',\n 'MIMBRE',\n 'PALMA AMARGA',\n 'CACAO',\n 'ALGODON',\n 'CAUCHO',\n 'LACTEO']"
     },
     "metadata": {},
     "execution_count": 43
    }
   ],
   "source": [
    "cadenas_dictionary"
   ]
  },
  {
   "cell_type": "code",
   "execution_count": 42,
   "metadata": {},
   "outputs": [
    {
     "output_type": "execute_result",
     "data": {
      "text/plain": "                 Unnamed: 0     Alta [ha]    Media [ha]     Baja [ha]  \\\nCultivo                                                                 \nAGUACATE               15.5   37469.90625   37849.59375   24546.28125   \nARROZ                  15.5   51669.21875  103399.75000  249975.40625   \nBANANO                 15.5   21987.15625   41494.84375   95787.81250   \nCACAO                  15.5  227427.87500  198551.21875   97480.84375   \nCAUCHO                 15.5  246323.43750  180070.62500   81332.56250   \nCEBOLLA                15.5  143535.62500  211718.68750  170224.87500   \nFRESA                  15.5   34790.31250   35271.84375   28026.87500   \nMANGO                  15.5  123463.15625  160779.21875  180014.87500   \nPALMA DE ACEITE        15.5  161709.40625  338452.21875   89432.50000   \nPAPA                   15.5    6485.59375    4931.25000    4302.21875   \nPAPAYA                 15.5  132436.59375  136199.78125  140510.28125   \n\n                 Muy baja [ha]  Total aptitud [ha]  Área departamento [ha]  \nCultivo                                                                     \nAGUACATE               0.00000         99865.75000            3.559791e+06  \nARROZ                  0.00000        405044.43750            3.559791e+06  \nBANANO                 0.00000        159269.87500            3.559791e+06  \nCACAO                  0.00000        523460.00000            3.559791e+06  \nCAUCHO                 0.00000        509381.25000            3.559791e+06  \nCEBOLLA                0.00000        525479.18750            3.559791e+06  \nFRESA                  0.00000         98089.12500            3.559791e+06  \nMANGO                  0.00000        464257.31250            3.559791e+06  \nPALMA DE ACEITE   134028.96875        723623.09375            3.425762e+06  \nPAPA                   0.00000         15719.03125            3.559791e+06  \nPAPAYA                 0.00000        409146.71875            3.559791e+06  ",
      "text/html": "<div>\n<style scoped>\n    .dataframe tbody tr th:only-of-type {\n        vertical-align: middle;\n    }\n\n    .dataframe tbody tr th {\n        vertical-align: top;\n    }\n\n    .dataframe thead th {\n        text-align: right;\n    }\n</style>\n<table border=\"1\" class=\"dataframe\">\n  <thead>\n    <tr style=\"text-align: right;\">\n      <th></th>\n      <th>Unnamed: 0</th>\n      <th>Alta [ha]</th>\n      <th>Media [ha]</th>\n      <th>Baja [ha]</th>\n      <th>Muy baja [ha]</th>\n      <th>Total aptitud [ha]</th>\n      <th>Área departamento [ha]</th>\n    </tr>\n    <tr>\n      <th>Cultivo</th>\n      <th></th>\n      <th></th>\n      <th></th>\n      <th></th>\n      <th></th>\n      <th></th>\n      <th></th>\n    </tr>\n  </thead>\n  <tbody>\n    <tr>\n      <th>AGUACATE</th>\n      <td>15.5</td>\n      <td>37469.90625</td>\n      <td>37849.59375</td>\n      <td>24546.28125</td>\n      <td>0.00000</td>\n      <td>99865.75000</td>\n      <td>3.559791e+06</td>\n    </tr>\n    <tr>\n      <th>ARROZ</th>\n      <td>15.5</td>\n      <td>51669.21875</td>\n      <td>103399.75000</td>\n      <td>249975.40625</td>\n      <td>0.00000</td>\n      <td>405044.43750</td>\n      <td>3.559791e+06</td>\n    </tr>\n    <tr>\n      <th>BANANO</th>\n      <td>15.5</td>\n      <td>21987.15625</td>\n      <td>41494.84375</td>\n      <td>95787.81250</td>\n      <td>0.00000</td>\n      <td>159269.87500</td>\n      <td>3.559791e+06</td>\n    </tr>\n    <tr>\n      <th>CACAO</th>\n      <td>15.5</td>\n      <td>227427.87500</td>\n      <td>198551.21875</td>\n      <td>97480.84375</td>\n      <td>0.00000</td>\n      <td>523460.00000</td>\n      <td>3.559791e+06</td>\n    </tr>\n    <tr>\n      <th>CAUCHO</th>\n      <td>15.5</td>\n      <td>246323.43750</td>\n      <td>180070.62500</td>\n      <td>81332.56250</td>\n      <td>0.00000</td>\n      <td>509381.25000</td>\n      <td>3.559791e+06</td>\n    </tr>\n    <tr>\n      <th>CEBOLLA</th>\n      <td>15.5</td>\n      <td>143535.62500</td>\n      <td>211718.68750</td>\n      <td>170224.87500</td>\n      <td>0.00000</td>\n      <td>525479.18750</td>\n      <td>3.559791e+06</td>\n    </tr>\n    <tr>\n      <th>FRESA</th>\n      <td>15.5</td>\n      <td>34790.31250</td>\n      <td>35271.84375</td>\n      <td>28026.87500</td>\n      <td>0.00000</td>\n      <td>98089.12500</td>\n      <td>3.559791e+06</td>\n    </tr>\n    <tr>\n      <th>MANGO</th>\n      <td>15.5</td>\n      <td>123463.15625</td>\n      <td>160779.21875</td>\n      <td>180014.87500</td>\n      <td>0.00000</td>\n      <td>464257.31250</td>\n      <td>3.559791e+06</td>\n    </tr>\n    <tr>\n      <th>PALMA DE ACEITE</th>\n      <td>15.5</td>\n      <td>161709.40625</td>\n      <td>338452.21875</td>\n      <td>89432.50000</td>\n      <td>134028.96875</td>\n      <td>723623.09375</td>\n      <td>3.425762e+06</td>\n    </tr>\n    <tr>\n      <th>PAPA</th>\n      <td>15.5</td>\n      <td>6485.59375</td>\n      <td>4931.25000</td>\n      <td>4302.21875</td>\n      <td>0.00000</td>\n      <td>15719.03125</td>\n      <td>3.559791e+06</td>\n    </tr>\n    <tr>\n      <th>PAPAYA</th>\n      <td>15.5</td>\n      <td>132436.59375</td>\n      <td>136199.78125</td>\n      <td>140510.28125</td>\n      <td>0.00000</td>\n      <td>409146.71875</td>\n      <td>3.559791e+06</td>\n    </tr>\n  </tbody>\n</table>\n</div>"
     },
     "metadata": {},
     "execution_count": 42
    }
   ],
   "source": [
    "df_normalizado.groupby('Cultivo').mean()"
   ]
  },
  {
   "cell_type": "code",
   "execution_count": null,
   "metadata": {},
   "outputs": [],
   "source": []
  }
 ],
 "metadata": {
  "language_info": {
   "codemirror_mode": {
    "name": "ipython",
    "version": 3
   },
   "file_extension": ".py",
   "mimetype": "text/x-python",
   "name": "python",
   "nbconvert_exporter": "python",
   "pygments_lexer": "ipython3",
   "version": 3
  },
  "orig_nbformat": 2,
  "kernelspec": {
   "name": "python_defaultSpec_1595102378624",
   "display_name": "Python 3.7.7 64-bit ('R-DOE': conda)"
  }
 },
 "nbformat": 4,
 "nbformat_minor": 2
}