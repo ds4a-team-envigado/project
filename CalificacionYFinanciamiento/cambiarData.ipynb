{
 "cells": [
  {
   "cell_type": "code",
   "execution_count": 1,
   "metadata": {},
   "outputs": [],
   "source": [
    "import pandas as pd\n",
    "import numpy as np"
   ]
  },
  {
   "cell_type": "code",
   "execution_count": 2,
   "metadata": {},
   "outputs": [],
   "source": [
    "pidar = pd.read_csv('pidarV2.csv')\n",
    "#sabana = pd.read_csv('../Datasets/AP_SABANAGENERAL.csv')"
   ]
  },
  {
   "cell_type": "code",
   "execution_count": 3,
   "metadata": {},
   "outputs": [
    {
     "data": {
      "text/plain": [
       "Index([u'Unnamed: 0', u'BP', u'No. VP', u'Nombre Proyecto', u'Departamento',\n",
       "       u'Municipio', u'Total beneficiarios', u'Hombres', u'Mujeres',\n",
       "       u'Total Víctimas', u'Valor cofinanciado ADR',\n",
       "       u'Valor encargo fiduciario', u'Valor total cofinanciación ADR',\n",
       "       u'Valor Contrapartida', u'Valor total proyecto', u'Hectáreas',\n",
       "       u'Resolución', u'Fecha resolución', u'Vigencia',\n",
       "       u'Lineamiento de consejo directivo'],\n",
       "      dtype='object')"
      ]
     },
     "execution_count": 3,
     "metadata": {},
     "output_type": "execute_result"
    }
   ],
   "source": [
    "pidar.columns"
   ]
  },
  {
   "cell_type": "code",
   "execution_count": 4,
   "metadata": {},
   "outputs": [],
   "source": [
    "sabana = pd.read_csv('../Datasets/AP_SABANAGENERAL.csv', sep = ';', encoding = \"ISO-8859-1\")"
   ]
  },
  {
   "cell_type": "code",
   "execution_count": 5,
   "metadata": {},
   "outputs": [],
   "source": [
    "sabana.columns = [u'BP', u'AP_Porcentaje_Avance',\n",
    "       u'AP_Beneficiarios_Definitivos', u'AP_Cant_Afrocolombiano',\n",
    "       u'AP_Cant_Campesinos', u'AP_Cant_Mujeres', u'AP_Cant_Indigenas',\n",
    "       u'AP_Cant_Hombre', u'AP_Cant_MujerRural', u'AP_Raizal',\n",
    "       u'AP_Cant_Victimas', u'AP_Sector_Productivo', u'AP_ID_ADR',\n",
    "       u'AP_CADENA_PRODUCTIVA_ADR', u'AP_Nombre_Proyecto',\n",
    "       u'AP_Fecha_Resolución', u'AP_Departamento']"
   ]
  },
  {
   "cell_type": "code",
   "execution_count": 9,
   "metadata": {},
   "outputs": [
    {
     "data": {
      "text/plain": [
       "array([1])"
      ]
     },
     "execution_count": 9,
     "metadata": {},
     "output_type": "execute_result"
    }
   ],
   "source": [
    "sabana.AP_ID_ADR.unique()\n"
   ]
  },
  {
   "cell_type": "code",
   "execution_count": 6,
   "metadata": {},
   "outputs": [],
   "source": [
    "df1 = pidar[pidar.BP.isin(sabana.AP_Numero_BP)]"
   ]
  },
  {
   "cell_type": "code",
   "execution_count": null,
   "metadata": {},
   "outputs": [],
   "source": [
    "Emissions_df1.merge(WDI_country[['Country Code','Region']], left_on='Country Code', right_on='Country Code')"
   ]
  },
  {
   "cell_type": "code",
   "execution_count": 10,
   "metadata": {},
   "outputs": [
    {
     "data": {
      "text/plain": [
       "Index([u'BP', u'AP_Porcentaje_Avance', u'AP_Beneficiarios_Definitivos',\n",
       "       u'AP_Cant_Afrocolombiano', u'AP_Cant_Campesinos', u'AP_Cant_Mujeres',\n",
       "       u'AP_Cant_Indigenas', u'AP_Cant_Hombre', u'AP_Cant_MujerRural',\n",
       "       u'AP_Raizal', u'AP_Cant_Victimas', u'AP_Sector_Productivo',\n",
       "       u'AP_ID_ADR', u'AP_CADENA_PRODUCTIVA_ADR', u'AP_Nombre_Proyecto',\n",
       "       u'AP_Fecha_Resolución', u'AP_Departamento'],\n",
       "      dtype='object')"
      ]
     },
     "execution_count": 10,
     "metadata": {},
     "output_type": "execute_result"
    }
   ],
   "source": [
    "sabana.columns"
   ]
  },
  {
   "cell_type": "code",
   "execution_count": 13,
   "metadata": {},
   "outputs": [],
   "source": [
    "df1 = df1.join(sabana[['BP', 'AP_ID_ADR', 'AP_CADENA_PRODUCTIVA_ADR']].set_index('BP'), on='BP')"
   ]
  },
  {
   "cell_type": "code",
   "execution_count": 14,
   "metadata": {},
   "outputs": [],
   "source": [
    "df1.to_csv('pidar.csv')"
   ]
  },
  {
   "cell_type": "code",
   "execution_count": null,
   "metadata": {},
   "outputs": [],
   "source": []
  }
 ],
 "metadata": {
  "kernelspec": {
   "display_name": "Python 2",
   "language": "python",
   "name": "python2"
  },
  "language_info": {
   "codemirror_mode": {
    "name": "ipython",
    "version": 2
   },
   "file_extension": ".py",
   "mimetype": "text/x-python",
   "name": "python",
   "nbconvert_exporter": "python",
   "pygments_lexer": "ipython2",
   "version": "2.7.12"
  }
 },
 "nbformat": 4,
 "nbformat_minor": 2
}
